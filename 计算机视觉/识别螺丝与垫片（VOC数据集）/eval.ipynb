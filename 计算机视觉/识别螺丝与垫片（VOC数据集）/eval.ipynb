{
 "cells": [
  {
   "cell_type": "markdown",
   "id": "e5adf2b8-485b-4bed-bb66-22e6f3bc6be3",
   "metadata": {},
   "source": [
    "# 评价"
   ]
  },
  {
   "cell_type": "code",
   "execution_count": 15,
   "id": "7a1437d5-77b9-4888-a62c-93106425c6d8",
   "metadata": {
    "execution": {
     "iopub.execute_input": "2022-05-03T08:47:41.175060Z",
     "iopub.status.busy": "2022-05-03T08:47:41.174120Z",
     "iopub.status.idle": "2022-05-03T08:47:59.851004Z",
     "shell.execute_reply": "2022-05-03T08:47:59.850198Z",
     "shell.execute_reply.started": "2022-05-03T08:47:41.175021Z"
    },
    "scrolled": true,
    "tags": []
   },
   "outputs": [
    {
     "name": "stdout",
     "output_type": "stream",
     "text": [
      "2022-05-03 16:47:41 [INFO]\tStarting to read file list from dataset...\n",
      "2022-05-03 16:47:41 [INFO]\t121 samples in file voc/val.txt\n",
      "creating index...\n",
      "index created!\n",
      "2022-05-03 16:47:42 [INFO]\tModel[YOLOv3] loaded.\n",
      "2022-05-03 16:47:42 [INFO]\tStart to evaluating(total_samples=121, total_steps=121)...\n"
     ]
    },
    {
     "name": "stderr",
     "output_type": "stream",
     "text": [
      "100%|██████████| 121/121 [00:17<00:00,  7.08it/s]\n"
     ]
    },
    {
     "name": "stdout",
     "output_type": "stream",
     "text": [
      "OrderedDict([('bbox_map', 94.7143975650474)])\n"
     ]
    }
   ],
   "source": [
    "import paddlex as pdx\r\n",
    "from paddlex.det import transforms\r\n",
    "\r\n",
    "eval_transforms = transforms.Compose([\r\n",
    "    transforms.Resize(target_size=416, interp='CUBIC'),\r\n",
    "    transforms.Normalize(),\r\n",
    "])\r\n",
    "eval_dataset = pdx.datasets.VOCDetection(\r\n",
    "    data_dir='voc',\r\n",
    "    file_list='voc/val.txt',\r\n",
    "    label_list='voc/labels.txt',\r\n",
    "    transforms=eval_transforms)\r\n",
    "\r\n",
    "model = pdx.load_model('output_yolov3_darknet53/best_model')\r\n",
    "model_info = model.evaluate(eval_dataset=eval_dataset, batch_size=1, epoch_id=240, return_details=False)\r\n",
    "# eval_dataset 没有 transforms 会报错\r\n",
    "print(model_info)"
   ]
  }
 ],
 "metadata": {
  "kernelspec": {
   "display_name": "Python 3",
   "language": "python",
   "name": "py35-paddle1.2.0"
  },
  "language_info": {
   "codemirror_mode": {
    "name": "ipython",
    "version": 3
   },
   "file_extension": ".py",
   "mimetype": "text/x-python",
   "name": "python",
   "nbconvert_exporter": "python",
   "pygments_lexer": "ipython3",
   "version": "3.7.4"
  }
 },
 "nbformat": 4,
 "nbformat_minor": 5
}
