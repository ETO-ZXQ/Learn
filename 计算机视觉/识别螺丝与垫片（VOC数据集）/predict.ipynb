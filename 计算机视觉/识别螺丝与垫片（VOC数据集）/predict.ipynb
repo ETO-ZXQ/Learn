{
 "cells": [
  {
   "cell_type": "markdown",
   "id": "bced8eea-fd51-4301-a6ec-2b68ef28257a",
   "metadata": {},
   "source": [
    "## 模型预测"
   ]
  },
  {
   "cell_type": "code",
   "execution_count": 6,
   "id": "64c27bbf-4c41-4bac-b31b-78ed80f51dc0",
   "metadata": {
    "execution": {
     "iopub.execute_input": "2022-05-03T08:54:44.888781Z",
     "iopub.status.busy": "2022-05-03T08:54:44.887963Z",
     "iopub.status.idle": "2022-05-03T08:54:46.775761Z",
     "shell.execute_reply": "2022-05-03T08:54:46.775031Z",
     "shell.execute_reply.started": "2022-05-03T08:54:44.888745Z"
    },
    "scrolled": true,
    "tags": []
   },
   "outputs": [
    {
     "name": "stdout",
     "output_type": "stream",
     "text": [
      "2022-05-03 16:54:46 [INFO]\tModel[YOLOv3] loaded.\n",
      "2022-05-03 16:54:46 [INFO]\tThe visualized result is saved as predicted_photos/visualize_2021_10_250.jpg\n"
     ]
    }
   ],
   "source": [
    "# import cv2\n",
    "# import matplotlib\n",
    "# import matplotlib.pyplot as plt\n",
    "# matplotlib.use('Agg') \n",
    "# %matplotlib inline\n",
    "\n",
    "import paddlex as pdx\n",
    "model = pdx.load_model('output_yolov3_darknet53/best_model')\n",
    "image_name = 'voc/photos/2021_10_250.jpg'\n",
    "result = model.predict(image_name)\n",
    "pdx.det.visualize(image_name, result, threshold=0.5, save_dir='predicted_photos')\n",
    "\n",
    "# img = plt.imread(\"predicted_photos/visualize_2021_10_3.jpg\")\n",
    "# plt.imshow(img)\n",
    "# plt.show()"
   ]
  }
 ],
 "metadata": {
  "kernelspec": {
   "display_name": "Python 3",
   "language": "python",
   "name": "py35-paddle1.2.0"
  },
  "language_info": {
   "codemirror_mode": {
    "name": "ipython",
    "version": 3
   },
   "file_extension": ".py",
   "mimetype": "text/x-python",
   "name": "python",
   "nbconvert_exporter": "python",
   "pygments_lexer": "ipython3",
   "version": "3.7.4"
  }
 },
 "nbformat": 4,
 "nbformat_minor": 5
}
