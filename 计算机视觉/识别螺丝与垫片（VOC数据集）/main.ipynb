{
 "cells": [
  {
   "cell_type": "markdown",
   "metadata": {},
   "source": [
    "# 识别螺丝与垫片\n",
    "**——基于YOLOv3**"
   ]
  },
  {
   "cell_type": "markdown",
   "metadata": {},
   "source": [
    "## 环境配置"
   ]
  },
  {
   "cell_type": "code",
   "execution_count": 2,
   "metadata": {
    "collapsed": false,
    "execution": {
     "iopub.execute_input": "2022-05-03T02:44:45.750823Z",
     "iopub.status.busy": "2022-05-03T02:44:45.750205Z",
     "iopub.status.idle": "2022-05-03T02:44:45.754865Z",
     "shell.execute_reply": "2022-05-03T02:44:45.754069Z",
     "shell.execute_reply.started": "2022-05-03T02:44:45.750787Z"
    },
    "jupyter": {
     "outputs_hidden": false
    },
    "scrolled": true,
    "tags": []
   },
   "outputs": [],
   "source": [
    "# 设置使用0号GPU卡（如无GPU，执行此代码后仍然会使用CPU训练模型）\n",
    "import os\n",
    "os.environ['CUDA_VISIBLE_DEVICES'] = '0'\n",
    "import paddlex as pdx     # (基于PaddleX静态图版本（低于2.0.0))"
   ]
  },
  {
   "cell_type": "markdown",
   "metadata": {},
   "source": [
    "## 数据预处理&数据增强"
   ]
  },
  {
   "cell_type": "code",
   "execution_count": 3,
   "metadata": {
    "execution": {
     "iopub.execute_input": "2022-05-03T02:44:45.756319Z",
     "iopub.status.busy": "2022-05-03T02:44:45.756118Z",
     "iopub.status.idle": "2022-05-03T02:44:45.761864Z",
     "shell.execute_reply": "2022-05-03T02:44:45.761155Z",
     "shell.execute_reply.started": "2022-05-03T02:44:45.756295Z"
    },
    "scrolled": true,
    "tags": []
   },
   "outputs": [],
   "source": [
    "from paddlex.det import transforms\n",
    "train_transforms = transforms.Compose([\n",
    "    transforms.RandomDistort(),           # 以一定的概率对图像进行随机像素内容变换\n",
    "    transforms.RandomExpand(),            # 随机扩张图像\n",
    "    transforms.RandomCrop(),              # 随机裁剪图像\n",
    "    transforms.Resize(target_size=608, interp='LINEAR'),      # 线性插值  \n",
    "    # target_size=608 小了 训练时随机大小影响精度？\n",
    "    transforms.RandomHorizontalFlip(),    # 随机翻转\n",
    "    transforms.Normalize(),               # 图像进行标准化\n",
    "])\n",
    "\n",
    "eval_transforms = transforms.Compose([\n",
    "    transforms.Resize(target_size=416, interp='CUBIC'),\n",
    "    transforms.Normalize(),\n",
    "])"
   ]
  },
  {
   "cell_type": "markdown",
   "metadata": {},
   "source": [
    "## 定义数据集Dataset\n"
   ]
  },
  {
   "cell_type": "code",
   "execution_count": 4,
   "metadata": {
    "collapsed": false,
    "execution": {
     "iopub.execute_input": "2022-05-03T02:44:45.763064Z",
     "iopub.status.busy": "2022-05-03T02:44:45.762874Z",
     "iopub.status.idle": "2022-05-03T02:44:46.472950Z",
     "shell.execute_reply": "2022-05-03T02:44:46.472080Z",
     "shell.execute_reply.started": "2022-05-03T02:44:45.763042Z"
    },
    "jupyter": {
     "outputs_hidden": false
    },
    "scrolled": true,
    "tags": []
   },
   "outputs": [
    {
     "name": "stderr",
     "output_type": "stream",
     "text": [
      "/opt/conda/envs/python35-paddle120-env/lib/python3.7/site-packages/matplotlib/__init__.py:107: DeprecationWarning: Using or importing the ABCs from 'collections' instead of from 'collections.abc' is deprecated, and in 3.8 it will stop working\n",
      "  from collections import MutableMapping\n",
      "/opt/conda/envs/python35-paddle120-env/lib/python3.7/site-packages/matplotlib/rcsetup.py:20: DeprecationWarning: Using or importing the ABCs from 'collections' instead of from 'collections.abc' is deprecated, and in 3.8 it will stop working\n",
      "  from collections import Iterable, Mapping\n",
      "/opt/conda/envs/python35-paddle120-env/lib/python3.7/site-packages/matplotlib/colors.py:53: DeprecationWarning: Using or importing the ABCs from 'collections' instead of from 'collections.abc' is deprecated, and in 3.8 it will stop working\n",
      "  from collections import Sized\n"
     ]
    },
    {
     "name": "stdout",
     "output_type": "stream",
     "text": [
      "2022-05-03 10:44:45 [INFO]\tStarting to read file list from dataset...\n",
      "2022-05-03 10:44:46 [INFO]\t284 samples in file voc/train.txt\n",
      "creating index...\n",
      "index created!\n",
      "2022-05-03 10:44:46 [INFO]\tStarting to read file list from dataset...\n",
      "2022-05-03 10:44:46 [INFO]\t121 samples in file voc/val.txt\n",
      "creating index...\n",
      "index created!\n"
     ]
    }
   ],
   "source": [
    "train_dataset = pdx.datasets.VOCDetection(\n",
    "    data_dir='voc',\n",
    "    file_list='voc/train.txt',\n",
    "    label_list='voc/labels.txt',\n",
    "    transforms=train_transforms,\n",
    "    shuffle=False)\n",
    "eval_dataset = pdx.datasets.VOCDetection(\n",
    "    data_dir='voc',\n",
    "    file_list='voc/val.txt',\n",
    "    label_list='voc/labels.txt',\n",
    "    transforms=eval_transforms)"
   ]
  },
  {
   "cell_type": "markdown",
   "metadata": {},
   "source": [
    "## 模型训练\n"
   ]
  },
  {
   "cell_type": "code",
   "execution_count": 5,
   "metadata": {
    "collapsed": false,
    "execution": {
     "iopub.execute_input": "2022-05-03T02:44:46.474314Z",
     "iopub.status.busy": "2022-05-03T02:44:46.473877Z",
     "iopub.status.idle": "2022-05-03T05:14:13.438378Z",
     "shell.execute_reply": "2022-05-03T05:14:13.437419Z",
     "shell.execute_reply.started": "2022-05-03T02:44:46.474287Z"
    },
    "jupyter": {
     "outputs_hidden": false
    },
    "scrolled": true,
    "tags": []
   },
   "outputs": [
    {
     "name": "stderr",
     "output_type": "stream",
     "text": [
      "/opt/conda/envs/python35-paddle120-env/lib/python3.7/site-packages/paddle/fluid/framework.py:744: DeprecationWarning: `np.bool` is a deprecated alias for the builtin `bool`. To silence this warning, use `bool` by itself. Doing this will not modify any behavior and is safe. If you specifically wanted the numpy scalar type, use `np.bool_` here.\n",
      "Deprecated in NumPy 1.20; for more details and guidance: https://numpy.org/devdocs/release/1.20.0-notes.html#deprecations\n",
      "  elif dtype == np.bool:\n"
     ]
    },
    {
     "name": "stdout",
     "output_type": "stream",
     "text": [
      "2022-05-03 10:44:48 [INFO]\tDecompressing output_yolov3_darknet53/pretrain/DarkNet53_ImageNet1k_pretrained.tar...\n"
     ]
    },
    {
     "name": "stderr",
     "output_type": "stream",
     "text": [
      "W0503 10:44:49.247629   157 device_context.cc:447] Please NOTE: device: 0, GPU Compute Capability: 7.0, Driver API Version: 11.0, Runtime API Version: 10.1\n",
      "W0503 10:44:49.251977   157 device_context.cc:465] device: 0, cuDNN Version: 7.6.\n"
     ]
    },
    {
     "name": "stdout",
     "output_type": "stream",
     "text": [
      "2022-05-03 10:44:52 [INFO]\tLoad pretrain weights from output_yolov3_darknet53/pretrain/DarkNet53_ImageNet1k_pretrained.\n",
      "2022-05-03 10:44:52 [INFO]\tThere are 260 varaibles in output_yolov3_darknet53/pretrain/DarkNet53_ImageNet1k_pretrained are loaded.\n"
     ]
    },
    {
     "name": "stderr",
     "output_type": "stream",
     "text": [
      "libpng warning: iCCP: known incorrect sRGB profile\n"
     ]
    },
    {
     "name": "stdout",
     "output_type": "stream",
     "text": [
      "2022-05-03 10:45:04 [INFO]\t[TRAIN] Epoch=1/270, Step=2/35, loss=6089.203613, lr=0.0, time_each_step=5.65s, eta=15:2:31\n",
      "2022-05-03 10:45:06 [INFO]\t[TRAIN] Epoch=1/270, Step=4/35, loss=4942.927734, lr=0.0, time_each_step=3.3s, eta=8:47:2\n",
      "2022-05-03 10:45:07 [INFO]\t[TRAIN] Epoch=1/270, Step=6/35, loss=6529.657715, lr=1e-06, time_each_step=2.43s, eta=6:28:35\n",
      "2022-05-03 10:45:09 [INFO]\t[TRAIN] Epoch=1/270, Step=8/35, loss=11578.90625, lr=1e-06, time_each_step=1.99s, eta=5:17:19\n",
      "2022-05-03 10:45:10 [INFO]\t[TRAIN] Epoch=1/270, Step=10/35, loss=8219.109375, lr=1e-06, time_each_step=1.72s, eta=4:34:36\n",
      "2022-05-03 10:45:12 [INFO]\t[TRAIN] Epoch=1/270, Step=12/35, loss=8456.542969, lr=1e-06, time_each_step=1.62s, eta=4:18:3\n",
      "2022-05-03 10:45:14 [INFO]\t[TRAIN] Epoch=1/270, Step=14/35, loss=3207.60791, lr=2e-06, time_each_step=1.51s, eta=4:0:32\n",
      "2022-05-03 10:45:16 [INFO]\t[TRAIN] Epoch=1/270, Step=16/35, loss=1185.879639, lr=2e-06, time_each_step=1.43s, eta=3:48:21\n",
      "2022-05-03 10:45:17 [INFO]\t[TRAIN] Epoch=1/270, Step=18/35, loss=556.04187, lr=2e-06, time_each_step=1.35s, eta=3:35:22\n",
      "2022-05-03 10:45:18 [INFO]\t[TRAIN] Epoch=1/270, Step=20/35, loss=672.399719, lr=2e-06, time_each_step=1.28s, eta=3:24:10\n"
     ]
    },
    {
     "name": "stderr",
     "output_type": "stream",
     "text": [
      "libpng warning: iCCP: known incorrect sRGB profile\n"
     ]
    },
    {
     "name": "stdout",
     "output_type": "stream",
     "text": [
      "2022-05-03 10:45:19 [INFO]\t[TRAIN] Epoch=1/270, Step=22/35, loss=232.069885, lr=3e-06, time_each_step=0.78s, eta=2:3:40\n",
      "2022-05-03 10:45:21 [INFO]\t[TRAIN] Epoch=1/270, Step=24/35, loss=307.213409, lr=3e-06, time_each_step=0.76s, eta=2:1:13\n",
      "2022-05-03 10:45:22 [INFO]\t[TRAIN] Epoch=1/270, Step=26/35, loss=182.467377, lr=3e-06, time_each_step=0.76s, eta=2:1:11\n",
      "2022-05-03 10:45:24 [INFO]\t[TRAIN] Epoch=1/270, Step=28/35, loss=194.179001, lr=3e-06, time_each_step=0.77s, eta=2:2:46\n",
      "2022-05-03 10:45:25 [INFO]\t[TRAIN] Epoch=1/270, Step=30/35, loss=107.268303, lr=4e-06, time_each_step=0.74s, eta=1:58:44\n",
      "2022-05-03 10:45:25 [INFO]\t[TRAIN] Epoch=1/270, Step=32/35, loss=122.314133, lr=4e-06, time_each_step=0.67s, eta=1:47:2\n",
      "2022-05-03 10:45:26 [INFO]\t[TRAIN] Epoch=1/270, Step=34/35, loss=89.83696, lr=4e-06, time_each_step=0.62s, eta=1:38:26\n",
      "2022-05-03 10:45:26 [INFO]\t[TRAIN] Epoch 1 finished, loss=3249.591064, lr=2e-06 .\n",
      "2022-05-03 10:45:32 [INFO]\t[TRAIN] Epoch=2/270, Step=1/35, loss=79.109818, lr=4e-06, time_each_step=0.83s, eta=2:33:29\n"
     ]
    },
    {
     "name": "stderr",
     "output_type": "stream",
     "text": [
      "libpng warning: iCCP: known incorrect sRGB profile\n"
     ]
    },
    {
     "name": "stdout",
     "output_type": "stream",
     "text": [
      "2022-05-03 10:45:34 [INFO]\t[TRAIN] Epoch=2/270, Step=3/35, loss=63.795673, lr=5e-06, time_each_step=0.85s, eta=2:33:30\n",
      "2022-05-03 10:45:36 [INFO]\t[TRAIN] Epoch=2/270, Step=5/35, loss=48.241329, lr=5e-06, time_each_step=0.87s, eta=2:33:32\n",
      "2022-05-03 10:45:37 [INFO]\t[TRAIN] Epoch=2/270, Step=7/35, loss=33.231968, lr=5e-06, time_each_step=0.87s, eta=2:33:31\n",
      "2022-05-03 10:45:38 [INFO]\t[TRAIN] Epoch=2/270, Step=9/35, loss=62.389771, lr=5e-06, time_each_step=0.87s, eta=2:33:29\n",
      "2022-05-03 10:45:40 [INFO]\t[TRAIN] Epoch=2/270, Step=11/35, loss=42.901596, lr=6e-06, time_each_step=0.87s, eta=2:33:28\n",
      "2022-05-03 10:45:41 [INFO]\t[TRAIN] Epoch=2/270, Step=13/35, loss=42.712036, lr=6e-06, time_each_step=0.86s, eta=2:33:25\n",
      "2022-05-03 10:45:43 [INFO]\t[TRAIN] Epoch=2/270, Step=15/35, loss=43.923977, lr=6e-06, time_each_step=0.9s, eta=2:33:30\n",
      "2022-05-03 10:45:45 [INFO]\t[TRAIN] Epoch=2/270, Step=17/35, loss=40.686386, lr=6e-06, time_each_step=0.96s, eta=2:33:37\n",
      "2022-05-03 10:45:46 [INFO]\t[TRAIN] Epoch=2/270, Step=19/35, loss=36.626492, lr=7e-06, time_each_step=1.01s, eta=2:33:43\n",
      "2022-05-03 10:45:48 [INFO]\t[TRAIN] Epoch=2/270, Step=21/35, loss=51.926682, lr=7e-06, time_each_step=0.77s, eta=2:33:4\n",
      "2022-05-03 10:45:49 [INFO]\t[TRAIN] Epoch=2/270, Step=23/35, loss=27.86804, lr=7e-06, time_each_step=0.76s, eta=2:33:0\n",
      "2022-05-03 10:45:51 [INFO]\t[TRAIN] Epoch=2/270, Step=25/35, loss=58.378681, lr=7e-06, time_each_step=0.76s, eta=2:32:58\n"
     ]
    },
    {
     "name": "stderr",
     "output_type": "stream",
     "text": [
      "libpng warning: iCCP: known incorrect sRGB profile\n"
     ]
    },
    {
     "name": "stdout",
     "output_type": "stream",
     "text": [
      "2022-05-03 10:45:52 [INFO]\t[TRAIN] Epoch=2/270, Step=27/35, loss=36.315456, lr=8e-06, time_each_step=0.77s, eta=2:32:58\n",
      "2022-05-03 10:45:53 [INFO]\t[TRAIN] Epoch=2/270, Step=29/35, loss=47.065418, lr=8e-06, time_each_step=0.75s, eta=2:32:54\n",
      "2022-05-03 10:45:55 [INFO]\t[TRAIN] Epoch=2/270, Step=31/35, loss=31.266413, lr=8e-06, time_each_step=0.75s, eta=2:32:53\n",
      "2022-05-03 10:45:56 [INFO]\t[TRAIN] Epoch=2/270, Step=33/35, loss=38.468353, lr=8e-06, time_each_step=0.76s, eta=2:32:52\n",
      "2022-05-03 10:45:58 [INFO]\t[TRAIN] Epoch=2/270, Step=35/35, loss=43.832779, lr=9e-06, time_each_step=0.75s, eta=2:32:50\n",
      "2022-05-03 10:45:59 [INFO]\t[TRAIN] Epoch 2 finished, loss=45.182255, lr=7e-06 .\n"
     ]
    },
    {
     "name": "stderr",
     "output_type": "stream",
     "text": [
      "libpng warning: iCCP: known incorrect sRGB profile\n"
     ]
    },
    {
     "name": "stdout",
     "output_type": "stream",
     "text": [
      "2022-05-03 10:46:06 [INFO]\t[TRAIN] Epoch=3/270, Step=2/35, loss=39.720234, lr=9e-06, time_each_step=1.04s, eta=2:26:4\n",
      "2022-05-03 10:46:09 [INFO]\t[TRAIN] Epoch=3/270, Step=4/35, loss=44.710674, lr=9e-06, time_each_step=1.08s, eta=2:26:8\n",
      "2022-05-03 10:46:10 [INFO]\t[TRAIN] Epoch=3/270, Step=6/35, loss=41.745159, lr=9e-06, time_each_step=1.1s, eta=2:26:10\n",
      "2022-05-03 10:46:12 [INFO]\t[TRAIN] Epoch=3/270, Step=8/35, loss=33.450195, lr=1e-05, time_each_step=1.12s, eta=2:26:11\n",
      "2022-05-03 10:46:14 [INFO]\t[TRAIN] Epoch=3/270, Step=10/35, loss=39.203178, lr=1e-05, time_each_step=1.11s, eta=2:26:6\n",
      "2022-05-03 10:46:15 [INFO]\t[TRAIN] Epoch=3/270, Step=12/35, loss=28.238373, lr=1e-05, time_each_step=1.11s, eta=2:26:5\n",
      "2022-05-03 10:46:17 [INFO]\t[TRAIN] Epoch=3/270, Step=14/35, loss=37.082424, lr=1e-05, time_each_step=1.14s, eta=2:26:8\n",
      "2022-05-03 10:46:18 [INFO]\t[TRAIN] Epoch=3/270, Step=16/35, loss=37.174282, lr=1.1e-05, time_each_step=1.12s, eta=2:26:2\n",
      "2022-05-03 10:46:20 [INFO]\t[TRAIN] Epoch=3/270, Step=18/35, loss=44.80793, lr=1.1e-05, time_each_step=1.14s, eta=2:26:3\n",
      "2022-05-03 10:46:21 [INFO]\t[TRAIN] Epoch=3/270, Step=20/35, loss=43.884823, lr=1.1e-05, time_each_step=1.14s, eta=2:26:0\n",
      "2022-05-03 10:46:23 [INFO]\t[TRAIN] Epoch=3/270, Step=22/35, loss=31.433865, lr=1.1e-05, time_each_step=0.83s, eta=2:25:10\n",
      "2022-05-03 10:46:24 [INFO]\t[TRAIN] Epoch=3/270, Step=24/35, loss=51.884323, lr=1.2e-05, time_each_step=0.79s, eta=2:25:2\n",
      "2022-05-03 10:46:26 [INFO]\t[TRAIN] Epoch=3/270, Step=26/35, loss=39.843937, lr=1.2e-05, time_each_step=0.77s, eta=2:24:57\n"
     ]
    },
    {
     "name": "stderr",
     "output_type": "stream",
     "text": [
      "libpng warning: iCCP: known incorrect sRGB profile\n"
     ]
    },
    {
     "name": "stdout",
     "output_type": "stream",
     "text": [
      "2022-05-03 10:46:28 [INFO]\t[TRAIN] Epoch=3/270, Step=28/35, loss=63.732346, lr=1.2e-05, time_each_step=0.79s, eta=2:24:58\n",
      "2022-05-03 10:46:30 [INFO]\t[TRAIN] Epoch=3/270, Step=30/35, loss=45.424572, lr=1.2e-05, time_each_step=0.82s, eta=2:25:1\n",
      "2022-05-03 10:46:32 [INFO]\t[TRAIN] Epoch=3/270, Step=32/35, loss=36.248596, lr=1.3e-05, time_each_step=0.82s, eta=2:25:0\n",
      "2022-05-03 10:46:33 [INFO]\t[TRAIN] Epoch=3/270, Step=34/35, loss=28.34465, lr=1.3e-05, time_each_step=0.8s, eta=2:24:56\n",
      "2022-05-03 10:46:34 [INFO]\t[TRAIN] Epoch 3 finished, loss=38.744957, lr=1.1e-05 .\n",
      "2022-05-03 10:46:40 [INFO]\t[TRAIN] Epoch=4/270, Step=1/35, loss=33.231888, lr=1.3e-05, time_each_step=1.04s, eta=2:41:39\n"
     ]
    },
    {
     "name": "stderr",
     "output_type": "stream",
     "text": [
      "libpng warning: iCCP: known incorrect sRGB profile\n"
     ]
    },
    {
     "name": "stdout",
     "output_type": "stream",
     "text": [
      "2022-05-03 10:46:42 [INFO]\t[TRAIN] Epoch=4/270, Step=3/35, loss=35.075039, lr=1.3e-05, time_each_step=1.07s, eta=2:41:41\n",
      "2022-05-03 10:46:44 [INFO]\t[TRAIN] Epoch=4/270, Step=5/35, loss=41.723991, lr=1.4e-05, time_each_step=1.12s, eta=2:41:48\n",
      "2022-05-03 10:46:46 [INFO]\t[TRAIN] Epoch=4/270, Step=7/35, loss=23.359327, lr=1.4e-05, time_each_step=1.13s, eta=2:41:48\n",
      "2022-05-03 10:46:48 [INFO]\t[TRAIN] Epoch=4/270, Step=9/35, loss=42.548988, lr=1.4e-05, time_each_step=1.17s, eta=2:41:52\n",
      "2022-05-03 10:46:50 [INFO]\t[TRAIN] Epoch=4/270, Step=11/35, loss=23.328802, lr=1.4e-05, time_each_step=1.18s, eta=2:41:52\n",
      "2022-05-03 10:46:52 [INFO]\t[TRAIN] Epoch=4/270, Step=13/35, loss=48.38673, lr=1.5e-05, time_each_step=1.16s, eta=2:41:45\n",
      "2022-05-03 10:46:53 [INFO]\t[TRAIN] Epoch=4/270, Step=15/35, loss=22.682268, lr=1.5e-05, time_each_step=1.13s, eta=2:41:39\n",
      "2022-05-03 10:46:55 [INFO]\t[TRAIN] Epoch=4/270, Step=17/35, loss=39.90411, lr=1.5e-05, time_each_step=1.13s, eta=2:41:37\n",
      "2022-05-03 10:46:57 [INFO]\t[TRAIN] Epoch=4/270, Step=19/35, loss=28.680088, lr=1.5e-05, time_each_step=1.14s, eta=2:41:36\n",
      "2022-05-03 10:46:58 [INFO]\t[TRAIN] Epoch=4/270, Step=21/35, loss=27.123173, lr=1.6e-05, time_each_step=0.9s, eta=2:40:56\n",
      "2022-05-03 10:47:00 [INFO]\t[TRAIN] Epoch=4/270, Step=23/35, loss=23.653248, lr=1.6e-05, time_each_step=0.88s, eta=2:40:51\n",
      "2022-05-03 10:47:01 [INFO]\t[TRAIN] Epoch=4/270, Step=25/35, loss=40.508804, lr=1.6e-05, time_each_step=0.85s, eta=2:40:44\n",
      "2022-05-03 10:47:03 [INFO]\t[TRAIN] Epoch=4/270, Step=27/35, loss=26.109407, lr=1.6e-05, time_each_step=0.83s, eta=2:40:38\n",
      "2022-05-03 10:47:05 [INFO]\t[TRAIN] Epoch=4/270, Step=29/35, loss=32.065159, lr=1.7e-05, time_each_step=0.84s, eta=2:40:40\n",
      "2022-05-03 10:47:07 [INFO]\t[TRAIN] Epoch=4/270, Step=31/35, loss=28.477783, lr=1.7e-05, time_each_step=0.83s, eta=2:40:37\n"
     ]
    },
    {
     "name": "stderr",
     "output_type": "stream",
     "text": [
      "libpng warning: iCCP: known incorrect sRGB profile\n"
     ]
    },
    {
     "name": "stdout",
     "output_type": "stream",
     "text": [
      "2022-05-03 10:47:09 [INFO]\t[TRAIN] Epoch=4/270, Step=33/35, loss=29.204876, lr=1.7e-05, time_each_step=0.85s, eta=2:40:37\n",
      "2022-05-03 10:47:10 [INFO]\t[TRAIN] Epoch=4/270, Step=35/35, loss=37.108154, lr=1.7e-05, time_each_step=0.86s, eta=2:40:37\n",
      "2022-05-03 10:47:10 [INFO]\t[TRAIN] Epoch 4 finished, loss=32.936584, lr=1.5e-05 .\n",
      "2022-05-03 10:47:17 [INFO]\t[TRAIN] Epoch=5/270, Step=2/35, loss=21.215895, lr=1.8e-05, time_each_step=1.1s, eta=2:42:52\n"
     ]
    },
    {
     "name": "stderr",
     "output_type": "stream",
     "text": [
      "libpng warning: iCCP: known incorrect sRGB profile\n"
     ]
    },
    {
     "name": "stdout",
     "output_type": "stream",
     "text": [
      "2022-05-03 10:47:19 [INFO]\t[TRAIN] Epoch=5/270, Step=4/35, loss=32.594536, lr=1.8e-05, time_each_step=1.11s, eta=2:42:52\n",
      "2022-05-03 10:47:21 [INFO]\t[TRAIN] Epoch=5/270, Step=6/35, loss=43.842602, lr=1.8e-05, time_each_step=1.17s, eta=2:43:1\n",
      "2022-05-03 10:47:23 [INFO]\t[TRAIN] Epoch=5/270, Step=8/35, loss=37.044518, lr=1.8e-05, time_each_step=1.15s, eta=2:42:54\n",
      "2022-05-03 10:47:24 [INFO]\t[TRAIN] Epoch=5/270, Step=10/35, loss=27.627138, lr=1.9e-05, time_each_step=1.13s, eta=2:42:49\n",
      "2022-05-03 10:47:25 [INFO]\t[TRAIN] Epoch=5/270, Step=12/35, loss=27.071556, lr=1.9e-05, time_each_step=1.13s, eta=2:42:47\n",
      "2022-05-03 10:47:27 [INFO]\t[TRAIN] Epoch=5/270, Step=14/35, loss=29.556871, lr=1.9e-05, time_each_step=1.06s, eta=2:42:33\n",
      "2022-05-03 10:47:28 [INFO]\t[TRAIN] Epoch=5/270, Step=16/35, loss=32.430401, lr=1.9e-05, time_each_step=1.07s, eta=2:42:32\n",
      "2022-05-03 10:47:30 [INFO]\t[TRAIN] Epoch=5/270, Step=18/35, loss=35.930565, lr=2e-05, time_each_step=1.06s, eta=2:42:28\n",
      "2022-05-03 10:47:31 [INFO]\t[TRAIN] Epoch=5/270, Step=20/35, loss=30.251497, lr=2e-05, time_each_step=1.03s, eta=2:42:22\n",
      "2022-05-03 10:47:33 [INFO]\t[TRAIN] Epoch=5/270, Step=22/35, loss=33.746078, lr=2e-05, time_each_step=0.8s, eta=2:41:44\n",
      "2022-05-03 10:47:35 [INFO]\t[TRAIN] Epoch=5/270, Step=24/35, loss=29.208735, lr=2e-05, time_each_step=0.79s, eta=2:41:41\n",
      "2022-05-03 10:47:36 [INFO]\t[TRAIN] Epoch=5/270, Step=26/35, loss=28.956314, lr=2.1e-05, time_each_step=0.73s, eta=2:41:30\n"
     ]
    },
    {
     "name": "stderr",
     "output_type": "stream",
     "text": [
      "libpng warning: iCCP: known incorrect sRGB profile\n"
     ]
    },
    {
     "name": "stdout",
     "output_type": "stream",
     "text": [
      "2022-05-03 10:47:37 [INFO]\t[TRAIN] Epoch=5/270, Step=28/35, loss=27.571522, lr=2.1e-05, time_each_step=0.73s, eta=2:41:28\n",
      "2022-05-03 10:47:38 [INFO]\t[TRAIN] Epoch=5/270, Step=30/35, loss=39.978119, lr=2.1e-05, time_each_step=0.72s, eta=2:41:25\n",
      "2022-05-03 10:47:40 [INFO]\t[TRAIN] Epoch=5/270, Step=32/35, loss=45.272404, lr=2.1e-05, time_each_step=0.74s, eta=2:41:26\n",
      "2022-05-03 10:47:42 [INFO]\t[TRAIN] Epoch=5/270, Step=34/35, loss=31.808897, lr=2.2e-05, time_each_step=0.75s, eta=2:41:27\n",
      "2022-05-03 10:47:42 [INFO]\t[TRAIN] Epoch 5 finished, loss=30.841721, lr=2e-05 .\n",
      "2022-05-03 10:47:48 [INFO]\t[TRAIN] Epoch=6/270, Step=1/35, loss=25.515623, lr=2.2e-05, time_each_step=1.0s, eta=2:23:41\n",
      "2022-05-03 10:47:51 [INFO]\t[TRAIN] Epoch=6/270, Step=3/35, loss=40.477806, lr=2.2e-05, time_each_step=1.03s, eta=2:23:45\n"
     ]
    },
    {
     "name": "stderr",
     "output_type": "stream",
     "text": [
      "libpng warning: iCCP: known incorrect sRGB profile\n"
     ]
    },
    {
     "name": "stdout",
     "output_type": "stream",
     "text": [
      "2022-05-03 10:47:52 [INFO]\t[TRAIN] Epoch=6/270, Step=5/35, loss=31.510012, lr=2.2e-05, time_each_step=1.05s, eta=2:23:46\n",
      "2022-05-03 10:47:54 [INFO]\t[TRAIN] Epoch=6/270, Step=7/35, loss=33.110149, lr=2.3e-05, time_each_step=1.06s, eta=2:23:46\n",
      "2022-05-03 10:47:56 [INFO]\t[TRAIN] Epoch=6/270, Step=9/35, loss=28.302811, lr=2.3e-05, time_each_step=1.09s, eta=2:23:48\n",
      "2022-05-03 10:47:58 [INFO]\t[TRAIN] Epoch=6/270, Step=11/35, loss=23.039911, lr=2.3e-05, time_each_step=1.1s, eta=2:23:49\n",
      "2022-05-03 10:48:00 [INFO]\t[TRAIN] Epoch=6/270, Step=13/35, loss=21.397812, lr=2.3e-05, time_each_step=1.11s, eta=2:23:47\n",
      "2022-05-03 10:48:01 [INFO]\t[TRAIN] Epoch=6/270, Step=15/35, loss=50.612541, lr=2.4e-05, time_each_step=1.13s, eta=2:23:49\n",
      "2022-05-03 10:48:03 [INFO]\t[TRAIN] Epoch=6/270, Step=17/35, loss=35.693241, lr=2.4e-05, time_each_step=1.13s, eta=2:23:46\n",
      "2022-05-03 10:48:05 [INFO]\t[TRAIN] Epoch=6/270, Step=19/35, loss=27.260056, lr=2.4e-05, time_each_step=1.14s, eta=2:23:45\n",
      "2022-05-03 10:48:06 [INFO]\t[TRAIN] Epoch=6/270, Step=21/35, loss=27.212029, lr=2.4e-05, time_each_step=0.87s, eta=2:23:2\n",
      "2022-05-03 10:48:08 [INFO]\t[TRAIN] Epoch=6/270, Step=23/35, loss=31.150919, lr=2.5e-05, time_each_step=0.84s, eta=2:22:55\n",
      "2022-05-03 10:48:09 [INFO]\t[TRAIN] Epoch=6/270, Step=25/35, loss=23.106962, lr=2.5e-05, time_each_step=0.84s, eta=2:22:53\n",
      "2022-05-03 10:48:11 [INFO]\t[TRAIN] Epoch=6/270, Step=27/35, loss=34.388874, lr=2.5e-05, time_each_step=0.82s, eta=2:22:49\n"
     ]
    },
    {
     "name": "stderr",
     "output_type": "stream",
     "text": [
      "libpng warning: iCCP: known incorrect sRGB profile\n"
     ]
    },
    {
     "name": "stdout",
     "output_type": "stream",
     "text": [
      "2022-05-03 10:48:12 [INFO]\t[TRAIN] Epoch=6/270, Step=29/35, loss=28.408693, lr=2.5e-05, time_each_step=0.8s, eta=2:22:43\n",
      "2022-05-03 10:48:14 [INFO]\t[TRAIN] Epoch=6/270, Step=31/35, loss=35.137394, lr=2.6e-05, time_each_step=0.78s, eta=2:22:40\n",
      "2022-05-03 10:48:15 [INFO]\t[TRAIN] Epoch=6/270, Step=33/35, loss=28.670427, lr=2.6e-05, time_each_step=0.79s, eta=2:22:39\n",
      "2022-05-03 10:48:17 [INFO]\t[TRAIN] Epoch=6/270, Step=35/35, loss=28.930862, lr=2.6e-05, time_each_step=0.77s, eta=2:22:34\n",
      "2022-05-03 10:48:17 [INFO]\t[TRAIN] Epoch 6 finished, loss=31.375189, lr=2.4e-05 .\n",
      "2022-05-03 10:48:23 [INFO]\t[TRAIN] Epoch=7/270, Step=2/35, loss=30.196499, lr=2.6e-05, time_each_step=1.01s, eta=2:33:42\n"
     ]
    },
    {
     "name": "stderr",
     "output_type": "stream",
     "text": [
      "libpng warning: iCCP: known incorrect sRGB profile\n"
     ]
    },
    {
     "name": "stdout",
     "output_type": "stream",
     "text": [
      "2022-05-03 10:48:27 [INFO]\t[TRAIN] Epoch=7/270, Step=4/35, loss=25.778997, lr=2.7e-05, time_each_step=1.08s, eta=2:33:52\n",
      "2022-05-03 10:48:28 [INFO]\t[TRAIN] Epoch=7/270, Step=6/35, loss=29.317961, lr=2.7e-05, time_each_step=1.09s, eta=2:33:51\n",
      "2022-05-03 10:48:29 [INFO]\t[TRAIN] Epoch=7/270, Step=8/35, loss=33.364498, lr=2.7e-05, time_each_step=1.07s, eta=2:33:46\n",
      "2022-05-03 10:48:31 [INFO]\t[TRAIN] Epoch=7/270, Step=10/35, loss=17.365845, lr=2.7e-05, time_each_step=1.07s, eta=2:33:44\n",
      "2022-05-03 10:48:33 [INFO]\t[TRAIN] Epoch=7/270, Step=12/35, loss=37.253567, lr=2.8e-05, time_each_step=1.1s, eta=2:33:46\n",
      "2022-05-03 10:48:35 [INFO]\t[TRAIN] Epoch=7/270, Step=14/35, loss=31.490463, lr=2.8e-05, time_each_step=1.13s, eta=2:33:48\n",
      "2022-05-03 10:48:37 [INFO]\t[TRAIN] Epoch=7/270, Step=16/35, loss=24.168854, lr=2.8e-05, time_each_step=1.14s, eta=2:33:49\n",
      "2022-05-03 10:48:39 [INFO]\t[TRAIN] Epoch=7/270, Step=18/35, loss=25.710575, lr=2.8e-05, time_each_step=1.15s, eta=2:33:47\n",
      "2022-05-03 10:48:41 [INFO]\t[TRAIN] Epoch=7/270, Step=20/35, loss=29.928972, lr=2.9e-05, time_each_step=1.19s, eta=2:33:52\n",
      "2022-05-03 10:48:43 [INFO]\t[TRAIN] Epoch=7/270, Step=22/35, loss=41.123688, lr=2.9e-05, time_each_step=0.98s, eta=2:33:16\n",
      "2022-05-03 10:48:46 [INFO]\t[TRAIN] Epoch=7/270, Step=24/35, loss=20.936752, lr=2.9e-05, time_each_step=0.97s, eta=2:33:12\n",
      "2022-05-03 10:48:48 [INFO]\t[TRAIN] Epoch=7/270, Step=26/35, loss=28.100521, lr=2.9e-05, time_each_step=0.98s, eta=2:33:12\n",
      "2022-05-03 10:48:49 [INFO]\t[TRAIN] Epoch=7/270, Step=28/35, loss=35.411518, lr=3e-05, time_each_step=0.97s, eta=2:33:9\n",
      "2022-05-03 10:48:50 [INFO]\t[TRAIN] Epoch=7/270, Step=30/35, loss=27.966311, lr=3e-05, time_each_step=0.98s, eta=2:33:8\n"
     ]
    },
    {
     "name": "stderr",
     "output_type": "stream",
     "text": [
      "libpng warning: iCCP: known incorrect sRGB profile\n"
     ]
    },
    {
     "name": "stdout",
     "output_type": "stream",
     "text": [
      "2022-05-03 10:48:53 [INFO]\t[TRAIN] Epoch=7/270, Step=32/35, loss=28.138203, lr=3e-05, time_each_step=0.97s, eta=2:33:6\n",
      "2022-05-03 10:48:54 [INFO]\t[TRAIN] Epoch=7/270, Step=34/35, loss=33.629089, lr=3e-05, time_each_step=0.94s, eta=2:32:59\n",
      "2022-05-03 10:48:55 [INFO]\t[TRAIN] Epoch 7 finished, loss=30.572544, lr=2.8e-05 .\n",
      "2022-05-03 10:49:01 [INFO]\t[TRAIN] Epoch=8/270, Step=1/35, loss=24.283474, lr=3.1e-05, time_each_step=1.2s, eta=2:48:31\n"
     ]
    },
    {
     "name": "stderr",
     "output_type": "stream",
     "text": [
      "libpng warning: iCCP: known incorrect sRGB profile\n"
     ]
    },
    {
     "name": "stdout",
     "output_type": "stream",
     "text": [
      "2022-05-03 10:49:03 [INFO]\t[TRAIN] Epoch=8/270, Step=3/35, loss=26.899557, lr=3.1e-05, time_each_step=1.19s, eta=2:48:27\n",
      "2022-05-03 10:49:05 [INFO]\t[TRAIN] Epoch=8/270, Step=5/35, loss=17.480207, lr=3.1e-05, time_each_step=1.19s, eta=2:48:24\n",
      "2022-05-03 10:49:06 [INFO]\t[TRAIN] Epoch=8/270, Step=7/35, loss=29.733936, lr=3.1e-05, time_each_step=1.17s, eta=2:48:18\n",
      "2022-05-03 10:49:08 [INFO]\t[TRAIN] Epoch=8/270, Step=9/35, loss=22.939018, lr=3.2e-05, time_each_step=1.1s, eta=2:48:3\n",
      "2022-05-03 10:49:09 [INFO]\t[TRAIN] Epoch=8/270, Step=11/35, loss=36.980007, lr=3.2e-05, time_each_step=1.09s, eta=2:47:59\n",
      "2022-05-03 10:49:11 [INFO]\t[TRAIN] Epoch=8/270, Step=13/35, loss=25.038574, lr=3.2e-05, time_each_step=1.1s, eta=2:48:0\n",
      "2022-05-03 10:49:12 [INFO]\t[TRAIN] Epoch=8/270, Step=15/35, loss=25.87789, lr=3.2e-05, time_each_step=1.09s, eta=2:47:56\n",
      "2022-05-03 10:49:14 [INFO]\t[TRAIN] Epoch=8/270, Step=17/35, loss=15.720269, lr=3.3e-05, time_each_step=1.06s, eta=2:47:47\n",
      "2022-05-03 10:49:15 [INFO]\t[TRAIN] Epoch=8/270, Step=19/35, loss=24.97168, lr=3.3e-05, time_each_step=1.06s, eta=2:47:45\n",
      "2022-05-03 10:49:17 [INFO]\t[TRAIN] Epoch=8/270, Step=21/35, loss=35.505344, lr=3.3e-05, time_each_step=0.78s, eta=2:46:59\n",
      "2022-05-03 10:49:18 [INFO]\t[TRAIN] Epoch=8/270, Step=23/35, loss=22.523903, lr=3.3e-05, time_each_step=0.77s, eta=2:46:56\n",
      "2022-05-03 10:49:19 [INFO]\t[TRAIN] Epoch=8/270, Step=25/35, loss=28.025328, lr=3.4e-05, time_each_step=0.74s, eta=2:46:50\n"
     ]
    },
    {
     "name": "stderr",
     "output_type": "stream",
     "text": [
      "libpng warning: iCCP: known incorrect sRGB profile\n"
     ]
    },
    {
     "name": "stdout",
     "output_type": "stream",
     "text": [
      "2022-05-03 10:49:21 [INFO]\t[TRAIN] Epoch=8/270, Step=27/35, loss=31.720188, lr=3.4e-05, time_each_step=0.74s, eta=2:46:49\n",
      "2022-05-03 10:49:23 [INFO]\t[TRAIN] Epoch=8/270, Step=29/35, loss=25.417715, lr=3.4e-05, time_each_step=0.75s, eta=2:46:49\n",
      "2022-05-03 10:49:25 [INFO]\t[TRAIN] Epoch=8/270, Step=31/35, loss=27.795925, lr=3.4e-05, time_each_step=0.76s, eta=2:46:49\n",
      "2022-05-03 10:49:26 [INFO]\t[TRAIN] Epoch=8/270, Step=33/35, loss=24.616304, lr=3.5e-05, time_each_step=0.78s, eta=2:46:49\n",
      "2022-05-03 10:49:28 [INFO]\t[TRAIN] Epoch=8/270, Step=35/35, loss=21.447485, lr=3.5e-05, time_each_step=0.78s, eta=2:46:48\n",
      "2022-05-03 10:49:28 [INFO]\t[TRAIN] Epoch 8 finished, loss=27.143581, lr=3.3e-05 .\n",
      "2022-05-03 10:49:36 [INFO]\t[TRAIN] Epoch=9/270, Step=2/35, loss=26.198267, lr=3.5e-05, time_each_step=1.06s, eta=2:30:18\n"
     ]
    },
    {
     "name": "stderr",
     "output_type": "stream",
     "text": [
      "libpng warning: iCCP: known incorrect sRGB profile\n"
     ]
    },
    {
     "name": "stdout",
     "output_type": "stream",
     "text": [
      "2022-05-03 10:49:37 [INFO]\t[TRAIN] Epoch=9/270, Step=4/35, loss=36.207363, lr=3.5e-05, time_each_step=1.06s, eta=2:30:16\n",
      "2022-05-03 10:49:39 [INFO]\t[TRAIN] Epoch=9/270, Step=6/35, loss=33.77467, lr=3.6e-05, time_each_step=1.07s, eta=2:30:15\n",
      "2022-05-03 10:49:40 [INFO]\t[TRAIN] Epoch=9/270, Step=8/35, loss=34.911903, lr=3.6e-05, time_each_step=1.07s, eta=2:30:14\n",
      "2022-05-03 10:49:41 [INFO]\t[TRAIN] Epoch=9/270, Step=10/35, loss=19.451805, lr=3.6e-05, time_each_step=1.06s, eta=2:30:9\n",
      "2022-05-03 10:49:43 [INFO]\t[TRAIN] Epoch=9/270, Step=12/35, loss=18.37134, lr=3.6e-05, time_each_step=1.05s, eta=2:30:5\n",
      "2022-05-03 10:49:45 [INFO]\t[TRAIN] Epoch=9/270, Step=14/35, loss=28.384504, lr=3.7e-05, time_each_step=1.05s, eta=2:30:3\n",
      "2022-05-03 10:49:46 [INFO]\t[TRAIN] Epoch=9/270, Step=16/35, loss=29.831627, lr=3.7e-05, time_each_step=1.05s, eta=2:30:1\n",
      "2022-05-03 10:49:48 [INFO]\t[TRAIN] Epoch=9/270, Step=18/35, loss=21.662254, lr=3.7e-05, time_each_step=1.04s, eta=2:29:57\n",
      "2022-05-03 10:49:49 [INFO]\t[TRAIN] Epoch=9/270, Step=20/35, loss=25.767406, lr=3.7e-05, time_each_step=1.04s, eta=2:29:56\n",
      "2022-05-03 10:49:51 [INFO]\t[TRAIN] Epoch=9/270, Step=22/35, loss=28.04862, lr=3.8e-05, time_each_step=0.74s, eta=2:29:7\n",
      "2022-05-03 10:49:52 [INFO]\t[TRAIN] Epoch=9/270, Step=24/35, loss=35.231964, lr=3.8e-05, time_each_step=0.72s, eta=2:29:2\n"
     ]
    },
    {
     "name": "stderr",
     "output_type": "stream",
     "text": [
      "libpng warning: iCCP: known incorrect sRGB profile\n"
     ]
    },
    {
     "name": "stdout",
     "output_type": "stream",
     "text": [
      "2022-05-03 10:49:53 [INFO]\t[TRAIN] Epoch=9/270, Step=26/35, loss=30.782637, lr=3.8e-05, time_each_step=0.73s, eta=2:29:1\n",
      "2022-05-03 10:49:55 [INFO]\t[TRAIN] Epoch=9/270, Step=28/35, loss=38.415913, lr=3.8e-05, time_each_step=0.73s, eta=2:29:0\n",
      "2022-05-03 10:49:56 [INFO]\t[TRAIN] Epoch=9/270, Step=30/35, loss=20.160744, lr=3.9e-05, time_each_step=0.75s, eta=2:29:2\n",
      "2022-05-03 10:49:58 [INFO]\t[TRAIN] Epoch=9/270, Step=32/35, loss=28.975025, lr=3.9e-05, time_each_step=0.76s, eta=2:29:2\n",
      "2022-05-03 10:50:00 [INFO]\t[TRAIN] Epoch=9/270, Step=34/35, loss=28.166096, lr=3.9e-05, time_each_step=0.74s, eta=2:28:58\n",
      "2022-05-03 10:50:00 [INFO]\t[TRAIN] Epoch 9 finished, loss=27.646355, lr=3.7e-05 .\n",
      "2022-05-03 10:50:07 [INFO]\t[TRAIN] Epoch=10/270, Step=1/35, loss=17.135107, lr=3.9e-05, time_each_step=1.01s, eta=2:21:28\n"
     ]
    },
    {
     "name": "stderr",
     "output_type": "stream",
     "text": [
      "libpng warning: iCCP: known incorrect sRGB profile\n"
     ]
    },
    {
     "name": "stdout",
     "output_type": "stream",
     "text": [
      "2022-05-03 10:50:09 [INFO]\t[TRAIN] Epoch=10/270, Step=3/35, loss=21.248119, lr=4e-05, time_each_step=1.05s, eta=2:21:33\n",
      "2022-05-03 10:50:11 [INFO]\t[TRAIN] Epoch=10/270, Step=5/35, loss=25.914736, lr=4e-05, time_each_step=1.08s, eta=2:21:35\n",
      "2022-05-03 10:50:13 [INFO]\t[TRAIN] Epoch=10/270, Step=7/35, loss=27.185093, lr=4e-05, time_each_step=1.13s, eta=2:21:42\n",
      "2022-05-03 10:50:15 [INFO]\t[TRAIN] Epoch=10/270, Step=9/35, loss=22.17008, lr=4e-05, time_each_step=1.17s, eta=2:21:46\n",
      "2022-05-03 10:50:17 [INFO]\t[TRAIN] Epoch=10/270, Step=11/35, loss=22.963846, lr=4.1e-05, time_each_step=1.16s, eta=2:21:44\n",
      "2022-05-03 10:50:18 [INFO]\t[TRAIN] Epoch=10/270, Step=13/35, loss=19.882751, lr=4.1e-05, time_each_step=1.16s, eta=2:21:42\n",
      "2022-05-03 10:50:20 [INFO]\t[TRAIN] Epoch=10/270, Step=15/35, loss=14.893791, lr=4.1e-05, time_each_step=1.15s, eta=2:21:36\n",
      "2022-05-03 10:50:21 [INFO]\t[TRAIN] Epoch=10/270, Step=17/35, loss=31.191582, lr=4.1e-05, time_each_step=1.14s, eta=2:21:32\n",
      "2022-05-03 10:50:23 [INFO]\t[TRAIN] Epoch=10/270, Step=19/35, loss=24.13835, lr=4.2e-05, time_each_step=1.14s, eta=2:21:31\n",
      "2022-05-03 10:50:24 [INFO]\t[TRAIN] Epoch=10/270, Step=21/35, loss=26.435862, lr=4.2e-05, time_each_step=0.88s, eta=2:20:47\n",
      "2022-05-03 10:50:26 [INFO]\t[TRAIN] Epoch=10/270, Step=23/35, loss=28.042023, lr=4.2e-05, time_each_step=0.86s, eta=2:20:42\n"
     ]
    },
    {
     "name": "stderr",
     "output_type": "stream",
     "text": [
      "libpng warning: iCCP: known incorrect sRGB profile\n"
     ]
    },
    {
     "name": "stdout",
     "output_type": "stream",
     "text": [
      "2022-05-03 10:50:28 [INFO]\t[TRAIN] Epoch=10/270, Step=25/35, loss=22.122831, lr=4.2e-05, time_each_step=0.85s, eta=2:20:39\n",
      "2022-05-03 10:50:29 [INFO]\t[TRAIN] Epoch=10/270, Step=27/35, loss=23.418251, lr=4.3e-05, time_each_step=0.81s, eta=2:20:31\n",
      "2022-05-03 10:50:30 [INFO]\t[TRAIN] Epoch=10/270, Step=29/35, loss=29.066322, lr=4.3e-05, time_each_step=0.75s, eta=2:20:22\n",
      "2022-05-03 10:50:31 [INFO]\t[TRAIN] Epoch=10/270, Step=31/35, loss=31.539034, lr=4.3e-05, time_each_step=0.72s, eta=2:20:15\n",
      "2022-05-03 10:50:33 [INFO]\t[TRAIN] Epoch=10/270, Step=33/35, loss=23.996523, lr=4.3e-05, time_each_step=0.73s, eta=2:20:14\n",
      "2022-05-03 10:50:34 [INFO]\t[TRAIN] Epoch=10/270, Step=35/35, loss=26.297232, lr=4.4e-05, time_each_step=0.74s, eta=2:20:15\n",
      "2022-05-03 10:50:34 [INFO]\t[TRAIN] Epoch 10 finished, loss=24.138016, lr=4.2e-05 .\n",
      "2022-05-03 10:50:44 [INFO]\t[TRAIN] Epoch=11/270, Step=2/35, loss=22.847696, lr=4.4e-05, time_each_step=1.12s, eta=2:29:51\n"
     ]
    },
    {
     "name": "stderr",
     "output_type": "stream",
     "text": [
      "libpng warning: iCCP: known incorrect sRGB profile\n"
     ]
    },
    {
     "name": "stdout",
     "output_type": "stream",
     "text": [
      "2022-05-03 10:50:45 [INFO]\t[TRAIN] Epoch=11/270, Step=4/35, loss=22.634943, lr=4.4e-05, time_each_step=1.14s, eta=2:29:52\n",
      "2022-05-03 10:50:47 [INFO]\t[TRAIN] Epoch=11/270, Step=6/35, loss=20.947887, lr=4.4e-05, time_each_step=1.14s, eta=2:29:49\n",
      "2022-05-03 10:50:49 [INFO]\t[TRAIN] Epoch=11/270, Step=8/35, loss=23.290678, lr=4.5e-05, time_each_step=1.12s, eta=2:29:43\n",
      "2022-05-03 10:50:50 [INFO]\t[TRAIN] Epoch=11/270, Step=10/35, loss=21.509026, lr=4.5e-05, time_each_step=1.11s, eta=2:29:39\n",
      "2022-05-03 10:50:52 [INFO]\t[TRAIN] Epoch=11/270, Step=12/35, loss=22.418638, lr=4.5e-05, time_each_step=1.11s, eta=2:29:37\n",
      "2022-05-03 10:50:53 [INFO]\t[TRAIN] Epoch=11/270, Step=14/35, loss=29.619015, lr=4.5e-05, time_each_step=1.13s, eta=2:29:39\n",
      "2022-05-03 10:50:55 [INFO]\t[TRAIN] Epoch=11/270, Step=16/35, loss=33.990639, lr=4.6e-05, time_each_step=1.17s, eta=2:29:43\n",
      "2022-05-03 10:50:56 [INFO]\t[TRAIN] Epoch=11/270, Step=18/35, loss=20.858391, lr=4.6e-05, time_each_step=1.16s, eta=2:29:38\n",
      "2022-05-03 10:50:57 [INFO]\t[TRAIN] Epoch=11/270, Step=20/35, loss=21.496641, lr=4.6e-05, time_each_step=1.15s, eta=2:29:35\n",
      "2022-05-03 10:50:59 [INFO]\t[TRAIN] Epoch=11/270, Step=22/35, loss=22.838367, lr=4.6e-05, time_each_step=0.75s, eta=2:28:30\n",
      "2022-05-03 10:51:00 [INFO]\t[TRAIN] Epoch=11/270, Step=24/35, loss=21.89942, lr=4.7e-05, time_each_step=0.73s, eta=2:28:25\n",
      "2022-05-03 10:51:02 [INFO]\t[TRAIN] Epoch=11/270, Step=26/35, loss=24.033726, lr=4.7e-05, time_each_step=0.72s, eta=2:28:22\n",
      "2022-05-03 10:51:03 [INFO]\t[TRAIN] Epoch=11/270, Step=28/35, loss=24.079391, lr=4.7e-05, time_each_step=0.74s, eta=2:28:24\n"
     ]
    },
    {
     "name": "stderr",
     "output_type": "stream",
     "text": [
      "libpng warning: iCCP: known incorrect sRGB profile\n"
     ]
    },
    {
     "name": "stdout",
     "output_type": "stream",
     "text": [
      "2022-05-03 10:51:05 [INFO]\t[TRAIN] Epoch=11/270, Step=30/35, loss=23.604618, lr=4.7e-05, time_each_step=0.76s, eta=2:28:25\n",
      "2022-05-03 10:51:07 [INFO]\t[TRAIN] Epoch=11/270, Step=32/35, loss=33.068672, lr=4.8e-05, time_each_step=0.77s, eta=2:28:25\n",
      "2022-05-03 10:51:09 [INFO]\t[TRAIN] Epoch=11/270, Step=34/35, loss=20.845123, lr=4.8e-05, time_each_step=0.77s, eta=2:28:24\n",
      "2022-05-03 10:51:10 [INFO]\t[TRAIN] Epoch 11 finished, loss=24.760822, lr=4.6e-05 .\n",
      "2022-05-03 10:51:17 [INFO]\t[TRAIN] Epoch=12/270, Step=1/35, loss=26.881868, lr=4.8e-05, time_each_step=1.09s, eta=2:35:56\n"
     ]
    },
    {
     "name": "stderr",
     "output_type": "stream",
     "text": [
      "libpng warning: iCCP: known incorrect sRGB profile\n"
     ]
    },
    {
     "name": "stdout",
     "output_type": "stream",
     "text": [
      "2022-05-03 10:51:19 [INFO]\t[TRAIN] Epoch=12/270, Step=3/35, loss=24.139669, lr=4.8e-05, time_each_step=1.12s, eta=2:35:59\n",
      "2022-05-03 10:51:21 [INFO]\t[TRAIN] Epoch=12/270, Step=5/35, loss=24.54422, lr=4.9e-05, time_each_step=1.13s, eta=2:35:59\n",
      "2022-05-03 10:51:22 [INFO]\t[TRAIN] Epoch=12/270, Step=7/35, loss=17.938177, lr=4.9e-05, time_each_step=1.15s, eta=2:36:0\n",
      "2022-05-03 10:51:24 [INFO]\t[TRAIN] Epoch=12/270, Step=9/35, loss=22.289448, lr=4.9e-05, time_each_step=1.17s, eta=2:36:1\n",
      "2022-05-03 10:51:25 [INFO]\t[TRAIN] Epoch=12/270, Step=11/35, loss=13.435878, lr=4.9e-05, time_each_step=1.17s, eta=2:35:58\n",
      "2022-05-03 10:51:27 [INFO]\t[TRAIN] Epoch=12/270, Step=13/35, loss=30.269779, lr=5e-05, time_each_step=1.15s, eta=2:35:53\n",
      "2022-05-03 10:51:29 [INFO]\t[TRAIN] Epoch=12/270, Step=15/35, loss=27.918091, lr=5e-05, time_each_step=1.14s, eta=2:35:49\n",
      "2022-05-03 10:51:30 [INFO]\t[TRAIN] Epoch=12/270, Step=17/35, loss=23.913267, lr=5e-05, time_each_step=1.11s, eta=2:35:42\n",
      "2022-05-03 10:51:31 [INFO]\t[TRAIN] Epoch=12/270, Step=19/35, loss=22.056002, lr=5e-05, time_each_step=1.11s, eta=2:35:39\n",
      "2022-05-03 10:51:33 [INFO]\t[TRAIN] Epoch=12/270, Step=21/35, loss=19.26973, lr=5.1e-05, time_each_step=0.79s, eta=2:34:47\n",
      "2022-05-03 10:51:34 [INFO]\t[TRAIN] Epoch=12/270, Step=23/35, loss=22.505777, lr=5.1e-05, time_each_step=0.77s, eta=2:34:43\n"
     ]
    },
    {
     "name": "stderr",
     "output_type": "stream",
     "text": [
      "libpng warning: iCCP: known incorrect sRGB profile\n"
     ]
    },
    {
     "name": "stdout",
     "output_type": "stream",
     "text": [
      "2022-05-03 10:51:36 [INFO]\t[TRAIN] Epoch=12/270, Step=25/35, loss=22.929226, lr=5.1e-05, time_each_step=0.76s, eta=2:34:39\n",
      "2022-05-03 10:51:37 [INFO]\t[TRAIN] Epoch=12/270, Step=27/35, loss=34.720051, lr=5.1e-05, time_each_step=0.74s, eta=2:34:35\n",
      "2022-05-03 10:51:38 [INFO]\t[TRAIN] Epoch=12/270, Step=29/35, loss=36.733185, lr=5.2e-05, time_each_step=0.72s, eta=2:34:31\n",
      "2022-05-03 10:51:42 [INFO]\t[TRAIN] Epoch=12/270, Step=31/35, loss=19.92617, lr=5.2e-05, time_each_step=0.82s, eta=2:34:43\n",
      "2022-05-03 10:51:43 [INFO]\t[TRAIN] Epoch=12/270, Step=33/35, loss=20.852293, lr=5.2e-05, time_each_step=0.82s, eta=2:34:41\n",
      "2022-05-03 10:51:45 [INFO]\t[TRAIN] Epoch=12/270, Step=35/35, loss=29.761919, lr=5.2e-05, time_each_step=0.8s, eta=2:34:38\n",
      "2022-05-03 10:51:45 [INFO]\t[TRAIN] Epoch 12 finished, loss=23.933533, lr=5e-05 .\n",
      "2022-05-03 10:51:53 [INFO]\t[TRAIN] Epoch=13/270, Step=2/35, loss=28.923912, lr=5.3e-05, time_each_step=1.12s, eta=2:33:8\n"
     ]
    },
    {
     "name": "stderr",
     "output_type": "stream",
     "text": [
      "libpng warning: iCCP: known incorrect sRGB profile\n"
     ]
    },
    {
     "name": "stdout",
     "output_type": "stream",
     "text": [
      "2022-05-03 10:51:55 [INFO]\t[TRAIN] Epoch=13/270, Step=4/35, loss=22.113514, lr=5.3e-05, time_each_step=1.16s, eta=2:33:12\n",
      "2022-05-03 10:51:56 [INFO]\t[TRAIN] Epoch=13/270, Step=6/35, loss=25.682163, lr=5.3e-05, time_each_step=1.15s, eta=2:33:8\n",
      "2022-05-03 10:51:57 [INFO]\t[TRAIN] Epoch=13/270, Step=8/35, loss=21.550646, lr=5.3e-05, time_each_step=1.14s, eta=2:33:5\n",
      "2022-05-03 10:51:59 [INFO]\t[TRAIN] Epoch=13/270, Step=10/35, loss=19.884926, lr=5.4e-05, time_each_step=1.14s, eta=2:33:1\n",
      "2022-05-03 10:52:00 [INFO]\t[TRAIN] Epoch=13/270, Step=12/35, loss=23.387072, lr=5.4e-05, time_each_step=1.16s, eta=2:33:2\n",
      "2022-05-03 10:52:02 [INFO]\t[TRAIN] Epoch=13/270, Step=14/35, loss=17.935541, lr=5.4e-05, time_each_step=1.16s, eta=2:33:1\n",
      "2022-05-03 10:52:04 [INFO]\t[TRAIN] Epoch=13/270, Step=16/35, loss=32.965157, lr=5.4e-05, time_each_step=1.08s, eta=2:32:45\n",
      "2022-05-03 10:52:05 [INFO]\t[TRAIN] Epoch=13/270, Step=18/35, loss=16.780756, lr=5.5e-05, time_each_step=1.06s, eta=2:32:39\n",
      "2022-05-03 10:52:06 [INFO]\t[TRAIN] Epoch=13/270, Step=20/35, loss=14.321487, lr=5.5e-05, time_each_step=1.05s, eta=2:32:36\n",
      "2022-05-03 10:52:08 [INFO]\t[TRAIN] Epoch=13/270, Step=22/35, loss=21.065485, lr=5.5e-05, time_each_step=0.75s, eta=2:31:47\n",
      "2022-05-03 10:52:09 [INFO]\t[TRAIN] Epoch=13/270, Step=24/35, loss=19.630754, lr=5.5e-05, time_each_step=0.73s, eta=2:31:42\n",
      "2022-05-03 10:52:10 [INFO]\t[TRAIN] Epoch=13/270, Step=26/35, loss=20.814615, lr=5.6e-05, time_each_step=0.72s, eta=2:31:40\n",
      "2022-05-03 10:52:12 [INFO]\t[TRAIN] Epoch=13/270, Step=28/35, loss=23.172955, lr=5.6e-05, time_each_step=0.72s, eta=2:31:37\n",
      "2022-05-03 10:52:13 [INFO]\t[TRAIN] Epoch=13/270, Step=30/35, loss=20.894455, lr=5.6e-05, time_each_step=0.71s, eta=2:31:35\n"
     ]
    },
    {
     "name": "stderr",
     "output_type": "stream",
     "text": [
      "libpng warning: iCCP: known incorrect sRGB profile\n"
     ]
    },
    {
     "name": "stdout",
     "output_type": "stream",
     "text": [
      "2022-05-03 10:52:15 [INFO]\t[TRAIN] Epoch=13/270, Step=32/35, loss=20.004087, lr=5.6e-05, time_each_step=0.71s, eta=2:31:32\n",
      "2022-05-03 10:52:16 [INFO]\t[TRAIN] Epoch=13/270, Step=34/35, loss=27.958235, lr=5.7e-05, time_each_step=0.67s, eta=2:31:27\n",
      "2022-05-03 10:52:16 [INFO]\t[TRAIN] Epoch 13 finished, loss=22.114986, lr=5.5e-05 .\n",
      "2022-05-03 10:52:22 [INFO]\t[TRAIN] Epoch=14/270, Step=1/35, loss=23.10113, lr=5.7e-05, time_each_step=0.91s, eta=2:16:56\n",
      "2022-05-03 10:52:24 [INFO]\t[TRAIN] Epoch=14/270, Step=3/35, loss=29.351757, lr=5.7e-05, time_each_step=0.95s, eta=2:17:2\n"
     ]
    },
    {
     "name": "stderr",
     "output_type": "stream",
     "text": [
      "libpng warning: iCCP: known incorrect sRGB profile\n"
     ]
    },
    {
     "name": "stdout",
     "output_type": "stream",
     "text": [
      "2022-05-03 10:52:25 [INFO]\t[TRAIN] Epoch=14/270, Step=5/35, loss=23.016727, lr=5.7e-05, time_each_step=0.95s, eta=2:17:0\n",
      "2022-05-03 10:52:27 [INFO]\t[TRAIN] Epoch=14/270, Step=7/35, loss=17.713415, lr=5.8e-05, time_each_step=0.97s, eta=2:17:0\n",
      "2022-05-03 10:52:30 [INFO]\t[TRAIN] Epoch=14/270, Step=9/35, loss=23.174675, lr=5.8e-05, time_each_step=1.01s, eta=2:17:6\n",
      "2022-05-03 10:52:31 [INFO]\t[TRAIN] Epoch=14/270, Step=11/35, loss=21.042788, lr=5.8e-05, time_each_step=1.04s, eta=2:17:9\n",
      "2022-05-03 10:52:33 [INFO]\t[TRAIN] Epoch=14/270, Step=13/35, loss=31.303617, lr=5.8e-05, time_each_step=1.06s, eta=2:17:9\n",
      "2022-05-03 10:52:35 [INFO]\t[TRAIN] Epoch=14/270, Step=15/35, loss=24.109419, lr=5.9e-05, time_each_step=1.09s, eta=2:17:12\n",
      "2022-05-03 10:52:36 [INFO]\t[TRAIN] Epoch=14/270, Step=17/35, loss=20.500149, lr=5.9e-05, time_each_step=1.09s, eta=2:17:11\n",
      "2022-05-03 10:52:38 [INFO]\t[TRAIN] Epoch=14/270, Step=19/35, loss=22.30558, lr=5.9e-05, time_each_step=1.14s, eta=2:17:17\n",
      "2022-05-03 10:52:40 [INFO]\t[TRAIN] Epoch=14/270, Step=21/35, loss=16.877804, lr=5.9e-05, time_each_step=0.91s, eta=2:16:37\n",
      "2022-05-03 10:52:42 [INFO]\t[TRAIN] Epoch=14/270, Step=23/35, loss=22.858763, lr=6e-05, time_each_step=0.89s, eta=2:16:32\n",
      "2022-05-03 10:52:43 [INFO]\t[TRAIN] Epoch=14/270, Step=25/35, loss=14.215327, lr=6e-05, time_each_step=0.91s, eta=2:16:33\n",
      "2022-05-03 10:52:45 [INFO]\t[TRAIN] Epoch=14/270, Step=27/35, loss=19.196676, lr=6e-05, time_each_step=0.88s, eta=2:16:28\n"
     ]
    },
    {
     "name": "stderr",
     "output_type": "stream",
     "text": [
      "libpng warning: iCCP: known incorrect sRGB profile\n"
     ]
    },
    {
     "name": "stdout",
     "output_type": "stream",
     "text": [
      "2022-05-03 10:52:46 [INFO]\t[TRAIN] Epoch=14/270, Step=29/35, loss=19.757412, lr=6e-05, time_each_step=0.82s, eta=2:16:17\n",
      "2022-05-03 10:52:47 [INFO]\t[TRAIN] Epoch=14/270, Step=31/35, loss=24.43788, lr=6.1e-05, time_each_step=0.79s, eta=2:16:11\n",
      "2022-05-03 10:52:48 [INFO]\t[TRAIN] Epoch=14/270, Step=33/35, loss=15.477853, lr=6.1e-05, time_each_step=0.77s, eta=2:16:7\n",
      "2022-05-03 10:52:49 [INFO]\t[TRAIN] Epoch=14/270, Step=35/35, loss=20.765961, lr=6.1e-05, time_each_step=0.73s, eta=2:15:59\n",
      "2022-05-03 10:52:50 [INFO]\t[TRAIN] Epoch 14 finished, loss=22.088177, lr=5.9e-05 .\n",
      "2022-05-03 10:52:58 [INFO]\t[TRAIN] Epoch=15/270, Step=2/35, loss=20.440313, lr=6.1e-05, time_each_step=1.06s, eta=2:25:21\n",
      "2022-05-03 10:52:59 [INFO]\t[TRAIN] Epoch=15/270, Step=4/35, loss=15.988101, lr=6.2e-05, time_each_step=1.03s, eta=2:25:14"
     ]
    },
    {
     "name": "stderr",
     "output_type": "stream",
     "text": [
      "libpng warning: iCCP: known incorrect sRGB profile\n"
     ]
    },
    {
     "name": "stdout",
     "output_type": "stream",
     "text": [
      "\n",
      "2022-05-03 10:53:02 [INFO]\t[TRAIN] Epoch=15/270, Step=6/35, loss=21.045666, lr=6.2e-05, time_each_step=1.07s, eta=2:25:19\n",
      "2022-05-03 10:53:03 [INFO]\t[TRAIN] Epoch=15/270, Step=8/35, loss=16.166889, lr=6.2e-05, time_each_step=1.06s, eta=2:25:15\n",
      "2022-05-03 10:53:05 [INFO]\t[TRAIN] Epoch=15/270, Step=10/35, loss=18.206909, lr=6.2e-05, time_each_step=1.07s, eta=2:25:14\n",
      "2022-05-03 10:53:06 [INFO]\t[TRAIN] Epoch=15/270, Step=12/35, loss=24.297176, lr=6.3e-05, time_each_step=1.07s, eta=2:25:13\n",
      "2022-05-03 10:53:08 [INFO]\t[TRAIN] Epoch=15/270, Step=14/35, loss=20.054728, lr=6.3e-05, time_each_step=1.09s, eta=2:25:14\n",
      "2022-05-03 10:53:10 [INFO]\t[TRAIN] Epoch=15/270, Step=16/35, loss=26.516819, lr=6.3e-05, time_each_step=1.13s, eta=2:25:17\n",
      "2022-05-03 10:53:12 [INFO]\t[TRAIN] Epoch=15/270, Step=18/35, loss=18.186638, lr=6.3e-05, time_each_step=1.17s, eta=2:25:22\n",
      "2022-05-03 10:53:14 [INFO]\t[TRAIN] Epoch=15/270, Step=20/35, loss=25.706499, lr=6.4e-05, time_each_step=1.21s, eta=2:25:26\n",
      "2022-05-03 10:53:16 [INFO]\t[TRAIN] Epoch=15/270, Step=22/35, loss=18.782591, lr=6.4e-05, time_each_step=0.9s, eta=2:24:35\n",
      "2022-05-03 10:53:18 [INFO]\t[TRAIN] Epoch=15/270, Step=24/35, loss=19.359301, lr=6.4e-05, time_each_step=0.94s, eta=2:24:40\n",
      "2022-05-03 10:53:20 [INFO]\t[TRAIN] Epoch=15/270, Step=26/35, loss=18.766245, lr=6.4e-05, time_each_step=0.93s, eta=2:24:35\n"
     ]
    },
    {
     "name": "stderr",
     "output_type": "stream",
     "text": [
      "libpng warning: iCCP: known incorrect sRGB profile\n"
     ]
    },
    {
     "name": "stdout",
     "output_type": "stream",
     "text": [
      "2022-05-03 10:53:22 [INFO]\t[TRAIN] Epoch=15/270, Step=28/35, loss=25.131969, lr=6.5e-05, time_each_step=0.96s, eta=2:24:39\n",
      "2022-05-03 10:53:24 [INFO]\t[TRAIN] Epoch=15/270, Step=30/35, loss=22.715315, lr=6.5e-05, time_each_step=0.95s, eta=2:24:36\n",
      "2022-05-03 10:53:25 [INFO]\t[TRAIN] Epoch=15/270, Step=32/35, loss=26.061731, lr=6.5e-05, time_each_step=0.93s, eta=2:24:30\n",
      "2022-05-03 10:53:27 [INFO]\t[TRAIN] Epoch=15/270, Step=34/35, loss=26.075228, lr=6.5e-05, time_each_step=0.92s, eta=2:24:28\n",
      "2022-05-03 10:53:28 [INFO]\t[TRAIN] Epoch 15 finished, loss=20.94219, lr=6.3e-05 .\n",
      "2022-05-03 10:53:34 [INFO]\t[TRAIN] Epoch=16/270, Step=1/35, loss=18.83201, lr=6.6e-05, time_each_step=1.18s, eta=2:44:16\n"
     ]
    },
    {
     "name": "stderr",
     "output_type": "stream",
     "text": [
      "libpng warning: iCCP: known incorrect sRGB profile\n"
     ]
    },
    {
     "name": "stdout",
     "output_type": "stream",
     "text": [
      "2022-05-03 10:53:37 [INFO]\t[TRAIN] Epoch=16/270, Step=3/35, loss=18.486208, lr=6.6e-05, time_each_step=1.22s, eta=2:44:21\n",
      "2022-05-03 10:53:38 [INFO]\t[TRAIN] Epoch=16/270, Step=5/35, loss=22.980326, lr=6.6e-05, time_each_step=1.21s, eta=2:44:16\n",
      "2022-05-03 10:53:40 [INFO]\t[TRAIN] Epoch=16/270, Step=7/35, loss=22.189186, lr=6.6e-05, time_each_step=1.18s, eta=2:44:10\n",
      "2022-05-03 10:53:42 [INFO]\t[TRAIN] Epoch=16/270, Step=9/35, loss=22.232361, lr=6.7e-05, time_each_step=1.15s, eta=2:44:2\n",
      "2022-05-03 10:53:43 [INFO]\t[TRAIN] Epoch=16/270, Step=11/35, loss=21.290308, lr=6.7e-05, time_each_step=1.12s, eta=2:43:55\n",
      "2022-05-03 10:53:44 [INFO]\t[TRAIN] Epoch=16/270, Step=13/35, loss=19.791428, lr=6.7e-05, time_each_step=1.09s, eta=2:43:47\n",
      "2022-05-03 10:53:46 [INFO]\t[TRAIN] Epoch=16/270, Step=15/35, loss=21.862856, lr=6.7e-05, time_each_step=1.08s, eta=2:43:44\n",
      "2022-05-03 10:53:47 [INFO]\t[TRAIN] Epoch=16/270, Step=17/35, loss=25.628902, lr=6.8e-05, time_each_step=1.1s, eta=2:43:44\n",
      "2022-05-03 10:53:48 [INFO]\t[TRAIN] Epoch=16/270, Step=19/35, loss=18.148336, lr=6.8e-05, time_each_step=1.08s, eta=2:43:39\n",
      "2022-05-03 10:53:50 [INFO]\t[TRAIN] Epoch=16/270, Step=21/35, loss=21.932829, lr=6.8e-05, time_each_step=0.79s, eta=2:42:52\n",
      "2022-05-03 10:53:51 [INFO]\t[TRAIN] Epoch=16/270, Step=23/35, loss=21.559811, lr=6.8e-05, time_each_step=0.7s, eta=2:42:36\n",
      "2022-05-03 10:53:53 [INFO]\t[TRAIN] Epoch=16/270, Step=25/35, loss=23.373211, lr=6.9e-05, time_each_step=0.75s, eta=2:42:42\n",
      "2022-05-03 10:53:55 [INFO]\t[TRAIN] Epoch=16/270, Step=27/35, loss=18.092512, lr=6.9e-05, time_each_step=0.74s, eta=2:42:39\n"
     ]
    },
    {
     "name": "stderr",
     "output_type": "stream",
     "text": [
      "libpng warning: iCCP: known incorrect sRGB profile\n"
     ]
    },
    {
     "name": "stdout",
     "output_type": "stream",
     "text": [
      "2022-05-03 10:53:56 [INFO]\t[TRAIN] Epoch=16/270, Step=29/35, loss=22.03545, lr=6.9e-05, time_each_step=0.72s, eta=2:42:34\n",
      "2022-05-03 10:53:57 [INFO]\t[TRAIN] Epoch=16/270, Step=31/35, loss=20.410299, lr=6.9e-05, time_each_step=0.73s, eta=2:42:34\n",
      "2022-05-03 10:53:59 [INFO]\t[TRAIN] Epoch=16/270, Step=33/35, loss=24.246311, lr=7e-05, time_each_step=0.76s, eta=2:42:37\n",
      "2022-05-03 10:54:00 [INFO]\t[TRAIN] Epoch=16/270, Step=35/35, loss=16.482889, lr=7e-05, time_each_step=0.73s, eta=2:42:32\n",
      "2022-05-03 10:54:01 [INFO]\t[TRAIN] Epoch 16 finished, loss=20.804296, lr=6.8e-05 .\n",
      "2022-05-03 10:54:09 [INFO]\t[TRAIN] Epoch=17/270, Step=2/35, loss=20.545645, lr=7e-05, time_each_step=1.09s, eta=2:22:24\n"
     ]
    },
    {
     "name": "stderr",
     "output_type": "stream",
     "text": [
      "libpng warning: iCCP: known incorrect sRGB profile\n"
     ]
    },
    {
     "name": "stdout",
     "output_type": "stream",
     "text": [
      "2022-05-03 10:54:11 [INFO]\t[TRAIN] Epoch=17/270, Step=4/35, loss=34.144768, lr=7e-05, time_each_step=1.12s, eta=2:22:27\n",
      "2022-05-03 10:54:13 [INFO]\t[TRAIN] Epoch=17/270, Step=6/35, loss=17.670902, lr=7.1e-05, time_each_step=1.17s, eta=2:22:33\n",
      "2022-05-03 10:54:15 [INFO]\t[TRAIN] Epoch=17/270, Step=8/35, loss=21.246313, lr=7.1e-05, time_each_step=1.18s, eta=2:22:33\n",
      "2022-05-03 10:54:16 [INFO]\t[TRAIN] Epoch=17/270, Step=10/35, loss=19.625748, lr=7.1e-05, time_each_step=1.11s, eta=2:22:19\n",
      "2022-05-03 10:54:17 [INFO]\t[TRAIN] Epoch=17/270, Step=12/35, loss=19.883747, lr=7.1e-05, time_each_step=1.11s, eta=2:22:17\n",
      "2022-05-03 10:54:19 [INFO]\t[TRAIN] Epoch=17/270, Step=14/35, loss=20.737173, lr=7.2e-05, time_each_step=1.11s, eta=2:22:15\n",
      "2022-05-03 10:54:20 [INFO]\t[TRAIN] Epoch=17/270, Step=16/35, loss=17.064598, lr=7.2e-05, time_each_step=1.13s, eta=2:22:15\n",
      "2022-05-03 10:54:22 [INFO]\t[TRAIN] Epoch=17/270, Step=18/35, loss=24.347036, lr=7.2e-05, time_each_step=1.13s, eta=2:22:13\n",
      "2022-05-03 10:54:24 [INFO]\t[TRAIN] Epoch=17/270, Step=20/35, loss=25.268631, lr=7.2e-05, time_each_step=1.16s, eta=2:22:16\n",
      "2022-05-03 10:54:25 [INFO]\t[TRAIN] Epoch=17/270, Step=22/35, loss=19.294712, lr=7.3e-05, time_each_step=0.81s, eta=2:21:18\n",
      "2022-05-03 10:54:27 [INFO]\t[TRAIN] Epoch=17/270, Step=24/35, loss=30.137161, lr=7.3e-05, time_each_step=0.82s, eta=2:21:18\n"
     ]
    },
    {
     "name": "stderr",
     "output_type": "stream",
     "text": [
      "libpng warning: iCCP: known incorrect sRGB profile\n"
     ]
    },
    {
     "name": "stdout",
     "output_type": "stream",
     "text": [
      "2022-05-03 10:54:29 [INFO]\t[TRAIN] Epoch=17/270, Step=26/35, loss=16.449871, lr=7.3e-05, time_each_step=0.78s, eta=2:21:10\n",
      "2022-05-03 10:54:30 [INFO]\t[TRAIN] Epoch=17/270, Step=28/35, loss=30.590549, lr=7.3e-05, time_each_step=0.79s, eta=2:21:11\n",
      "2022-05-03 10:54:32 [INFO]\t[TRAIN] Epoch=17/270, Step=30/35, loss=14.317699, lr=7.4e-05, time_each_step=0.8s, eta=2:21:11\n",
      "2022-05-03 10:54:34 [INFO]\t[TRAIN] Epoch=17/270, Step=32/35, loss=15.084892, lr=7.4e-05, time_each_step=0.84s, eta=2:21:15\n",
      "2022-05-03 10:54:36 [INFO]\t[TRAIN] Epoch=17/270, Step=34/35, loss=19.056791, lr=7.4e-05, time_each_step=0.85s, eta=2:21:15\n",
      "2022-05-03 10:54:37 [INFO]\t[TRAIN] Epoch 17 finished, loss=21.104851, lr=7.2e-05 .\n",
      "2022-05-03 10:54:43 [INFO]\t[TRAIN] Epoch=18/270, Step=1/35, loss=21.129864, lr=7.4e-05, time_each_step=1.13s, eta=2:34:46\n"
     ]
    },
    {
     "name": "stderr",
     "output_type": "stream",
     "text": [
      "libpng warning: iCCP: known incorrect sRGB profile\n"
     ]
    },
    {
     "name": "stdout",
     "output_type": "stream",
     "text": [
      "2022-05-03 10:54:46 [INFO]\t[TRAIN] Epoch=18/270, Step=3/35, loss=17.641409, lr=7.5e-05, time_each_step=1.16s, eta=2:34:49\n",
      "2022-05-03 10:54:48 [INFO]\t[TRAIN] Epoch=18/270, Step=5/35, loss=22.909613, lr=7.5e-05, time_each_step=1.19s, eta=2:34:52\n",
      "2022-05-03 10:54:49 [INFO]\t[TRAIN] Epoch=18/270, Step=7/35, loss=21.333002, lr=7.5e-05, time_each_step=1.18s, eta=2:34:49\n",
      "2022-05-03 10:54:51 [INFO]\t[TRAIN] Epoch=18/270, Step=9/35, loss=19.186668, lr=7.5e-05, time_each_step=1.16s, eta=2:34:42\n",
      "2022-05-03 10:54:52 [INFO]\t[TRAIN] Epoch=18/270, Step=11/35, loss=23.137791, lr=7.6e-05, time_each_step=1.17s, eta=2:34:42\n",
      "2022-05-03 10:54:54 [INFO]\t[TRAIN] Epoch=18/270, Step=13/35, loss=22.395788, lr=7.6e-05, time_each_step=1.16s, eta=2:34:38\n",
      "2022-05-03 10:54:56 [INFO]\t[TRAIN] Epoch=18/270, Step=15/35, loss=19.485723, lr=7.6e-05, time_each_step=1.18s, eta=2:34:39\n",
      "2022-05-03 10:54:58 [INFO]\t[TRAIN] Epoch=18/270, Step=17/35, loss=18.93866, lr=7.6e-05, time_each_step=1.18s, eta=2:34:36\n",
      "2022-05-03 10:55:00 [INFO]\t[TRAIN] Epoch=18/270, Step=19/35, loss=20.228817, lr=7.7e-05, time_each_step=1.19s, eta=2:34:36\n",
      "2022-05-03 10:55:01 [INFO]\t[TRAIN] Epoch=18/270, Step=21/35, loss=20.494987, lr=7.7e-05, time_each_step=0.92s, eta=2:33:51\n",
      "2022-05-03 10:55:03 [INFO]\t[TRAIN] Epoch=18/270, Step=23/35, loss=14.967665, lr=7.7e-05, time_each_step=0.87s, eta=2:33:40\n",
      "2022-05-03 10:55:04 [INFO]\t[TRAIN] Epoch=18/270, Step=25/35, loss=23.171913, lr=7.7e-05, time_each_step=0.82s, eta=2:33:32\n",
      "2022-05-03 10:55:06 [INFO]\t[TRAIN] Epoch=18/270, Step=27/35, loss=20.551779, lr=7.8e-05, time_each_step=0.85s, eta=2:33:35\n",
      "2022-05-03 10:55:08 [INFO]\t[TRAIN] Epoch=18/270, Step=29/35, loss=26.206789, lr=7.8e-05, time_each_step=0.84s, eta=2:33:32\n",
      "2022-05-03 10:55:09 [INFO]\t[TRAIN] Epoch=18/270, Step=31/35, loss=18.779451, lr=7.8e-05, time_each_step=0.83s, eta=2:33:27\n"
     ]
    },
    {
     "name": "stderr",
     "output_type": "stream",
     "text": [
      "libpng warning: iCCP: known incorrect sRGB profile\n"
     ]
    },
    {
     "name": "stdout",
     "output_type": "stream",
     "text": [
      "2022-05-03 10:55:11 [INFO]\t[TRAIN] Epoch=18/270, Step=33/35, loss=18.055866, lr=7.8e-05, time_each_step=0.88s, eta=2:33:34\n",
      "2022-05-03 10:55:12 [INFO]\t[TRAIN] Epoch=18/270, Step=35/35, loss=14.14117, lr=7.9e-05, time_each_step=0.83s, eta=2:33:25\n",
      "2022-05-03 10:55:12 [INFO]\t[TRAIN] Epoch 18 finished, loss=18.870499, lr=7.7e-05 .\n",
      "2022-05-03 10:55:19 [INFO]\t[TRAIN] Epoch=19/270, Step=2/35, loss=17.2323, lr=7.9e-05, time_each_step=1.05s, eta=2:31:53\n",
      "2022-05-03 10:55:21 [INFO]\t[TRAIN] Epoch=19/270, Step=4/35, loss=19.724575, lr=7.9e-05, time_each_step=1.05s, eta=2:31:52\n"
     ]
    },
    {
     "name": "stderr",
     "output_type": "stream",
     "text": [
      "libpng warning: iCCP: known incorrect sRGB profile\n"
     ]
    },
    {
     "name": "stdout",
     "output_type": "stream",
     "text": [
      "2022-05-03 10:55:23 [INFO]\t[TRAIN] Epoch=19/270, Step=6/35, loss=25.25174, lr=7.9e-05, time_each_step=1.06s, eta=2:31:51\n",
      "2022-05-03 10:55:24 [INFO]\t[TRAIN] Epoch=19/270, Step=8/35, loss=19.686991, lr=8e-05, time_each_step=1.05s, eta=2:31:48\n",
      "2022-05-03 10:55:26 [INFO]\t[TRAIN] Epoch=19/270, Step=10/35, loss=21.43434, lr=8e-05, time_each_step=1.09s, eta=2:31:52\n",
      "2022-05-03 10:55:28 [INFO]\t[TRAIN] Epoch=19/270, Step=12/35, loss=20.03207, lr=8e-05, time_each_step=1.07s, eta=2:31:47\n",
      "2022-05-03 10:55:30 [INFO]\t[TRAIN] Epoch=19/270, Step=14/35, loss=15.538461, lr=8e-05, time_each_step=1.1s, eta=2:31:49\n",
      "2022-05-03 10:55:32 [INFO]\t[TRAIN] Epoch=19/270, Step=16/35, loss=18.919048, lr=8.1e-05, time_each_step=1.13s, eta=2:31:52\n",
      "2022-05-03 10:55:34 [INFO]\t[TRAIN] Epoch=19/270, Step=18/35, loss=23.144676, lr=8.1e-05, time_each_step=1.11s, eta=2:31:46\n",
      "2022-05-03 10:55:35 [INFO]\t[TRAIN] Epoch=19/270, Step=20/35, loss=21.807707, lr=8.1e-05, time_each_step=1.14s, eta=2:31:49\n",
      "2022-05-03 10:55:37 [INFO]\t[TRAIN] Epoch=19/270, Step=22/35, loss=20.53677, lr=8.1e-05, time_each_step=0.89s, eta=2:31:8\n",
      "2022-05-03 10:55:39 [INFO]\t[TRAIN] Epoch=19/270, Step=24/35, loss=16.491177, lr=8.2e-05, time_each_step=0.89s, eta=2:31:6\n",
      "2022-05-03 10:55:40 [INFO]\t[TRAIN] Epoch=19/270, Step=26/35, loss=15.326576, lr=8.2e-05, time_each_step=0.88s, eta=2:31:3\n"
     ]
    },
    {
     "name": "stderr",
     "output_type": "stream",
     "text": [
      "libpng warning: iCCP: known incorrect sRGB profile\n"
     ]
    },
    {
     "name": "stdout",
     "output_type": "stream",
     "text": [
      "2022-05-03 10:55:42 [INFO]\t[TRAIN] Epoch=19/270, Step=28/35, loss=12.37275, lr=8.2e-05, time_each_step=0.89s, eta=2:31:3\n",
      "2022-05-03 10:55:44 [INFO]\t[TRAIN] Epoch=19/270, Step=30/35, loss=15.656425, lr=8.2e-05, time_each_step=0.89s, eta=2:31:1\n",
      "2022-05-03 10:55:45 [INFO]\t[TRAIN] Epoch=19/270, Step=32/35, loss=16.038792, lr=8.3e-05, time_each_step=0.88s, eta=2:30:57\n",
      "2022-05-03 10:55:47 [INFO]\t[TRAIN] Epoch=19/270, Step=34/35, loss=20.039761, lr=8.3e-05, time_each_step=0.88s, eta=2:30:56\n",
      "2022-05-03 10:55:49 [INFO]\t[TRAIN] Epoch 19 finished, loss=19.726246, lr=8.1e-05 .\n",
      "2022-05-03 10:55:55 [INFO]\t[TRAIN] Epoch=20/270, Step=1/35, loss=17.744307, lr=8.3e-05, time_each_step=1.14s, eta=2:36:39\n",
      "2022-05-03 10:55:57 [INFO]\t[TRAIN] Epoch=20/270, Step=3/35, loss=18.04563, lr=8.3e-05, time_each_step=1.12s, eta=2:36:33\n",
      "2022-05-03 10:55:58 [INFO]\t[TRAIN] Epoch=20/270, Step=5/35, loss=31.655922, lr=8.4e-05, time_each_step=1.1s, eta=2:36:28\n"
     ]
    },
    {
     "name": "stderr",
     "output_type": "stream",
     "text": [
      "libpng warning: iCCP: known incorrect sRGB profile\n"
     ]
    },
    {
     "name": "stdout",
     "output_type": "stream",
     "text": [
      "2022-05-03 10:56:01 [INFO]\t[TRAIN] Epoch=20/270, Step=7/35, loss=20.668245, lr=8.4e-05, time_each_step=1.17s, eta=2:36:37\n",
      "2022-05-03 10:56:02 [INFO]\t[TRAIN] Epoch=20/270, Step=9/35, loss=14.046855, lr=8.4e-05, time_each_step=1.15s, eta=2:36:32\n",
      "2022-05-03 10:56:04 [INFO]\t[TRAIN] Epoch=20/270, Step=11/35, loss=23.073246, lr=8.4e-05, time_each_step=1.16s, eta=2:36:31\n",
      "2022-05-03 10:56:06 [INFO]\t[TRAIN] Epoch=20/270, Step=13/35, loss=19.062132, lr=8.5e-05, time_each_step=1.14s, eta=2:36:26\n",
      "2022-05-03 10:56:07 [INFO]\t[TRAIN] Epoch=20/270, Step=15/35, loss=21.467045, lr=8.5e-05, time_each_step=1.12s, eta=2:36:21\n",
      "2022-05-03 10:56:09 [INFO]\t[TRAIN] Epoch=20/270, Step=17/35, loss=10.878629, lr=8.5e-05, time_each_step=1.14s, eta=2:36:21\n",
      "2022-05-03 10:56:11 [INFO]\t[TRAIN] Epoch=20/270, Step=19/35, loss=18.826202, lr=8.5e-05, time_each_step=1.14s, eta=2:36:19\n",
      "2022-05-03 10:56:13 [INFO]\t[TRAIN] Epoch=20/270, Step=21/35, loss=11.77247, lr=8.6e-05, time_each_step=0.89s, eta=2:35:37\n",
      "2022-05-03 10:56:14 [INFO]\t[TRAIN] Epoch=20/270, Step=23/35, loss=21.803032, lr=8.6e-05, time_each_step=0.88s, eta=2:35:34\n",
      "2022-05-03 10:56:17 [INFO]\t[TRAIN] Epoch=20/270, Step=25/35, loss=15.737536, lr=8.6e-05, time_each_step=0.93s, eta=2:35:40\n",
      "2022-05-03 10:56:18 [INFO]\t[TRAIN] Epoch=20/270, Step=27/35, loss=17.614149, lr=8.6e-05, time_each_step=0.87s, eta=2:35:29\n"
     ]
    },
    {
     "name": "stderr",
     "output_type": "stream",
     "text": [
      "libpng warning: iCCP: known incorrect sRGB profile\n"
     ]
    },
    {
     "name": "stdout",
     "output_type": "stream",
     "text": [
      "2022-05-03 10:56:20 [INFO]\t[TRAIN] Epoch=20/270, Step=29/35, loss=20.635597, lr=8.7e-05, time_each_step=0.88s, eta=2:35:29\n",
      "2022-05-03 10:56:22 [INFO]\t[TRAIN] Epoch=20/270, Step=31/35, loss=29.312717, lr=8.7e-05, time_each_step=0.9s, eta=2:35:30\n",
      "2022-05-03 10:56:24 [INFO]\t[TRAIN] Epoch=20/270, Step=33/35, loss=17.318714, lr=8.7e-05, time_each_step=0.91s, eta=2:35:29\n",
      "2022-05-03 10:56:25 [INFO]\t[TRAIN] Epoch=20/270, Step=35/35, loss=18.854488, lr=8.7e-05, time_each_step=0.9s, eta=2:35:26\n",
      "2022-05-03 10:56:25 [INFO]\t[TRAIN] Epoch 20 finished, loss=19.466825, lr=8.5e-05 .\n",
      "2022-05-03 10:56:33 [INFO]\t[TRAIN] Epoch=21/270, Step=2/35, loss=19.448252, lr=8.8e-05, time_each_step=1.2s, eta=2:33:36\n",
      "2022-05-03 10:56:35 [INFO]\t[TRAIN] Epoch=21/270, Step=4/35, loss=20.846331, lr=8.8e-05, time_each_step=1.17s, eta=2:33:30\n"
     ]
    },
    {
     "name": "stderr",
     "output_type": "stream",
     "text": [
      "libpng warning: iCCP: known incorrect sRGB profile\n"
     ]
    },
    {
     "name": "stdout",
     "output_type": "stream",
     "text": [
      "2022-05-03 10:56:37 [INFO]\t[TRAIN] Epoch=21/270, Step=6/35, loss=20.811129, lr=8.8e-05, time_each_step=1.21s, eta=2:33:33\n",
      "2022-05-03 10:56:38 [INFO]\t[TRAIN] Epoch=21/270, Step=8/35, loss=24.344063, lr=8.8e-05, time_each_step=1.2s, eta=2:33:30\n",
      "2022-05-03 10:56:40 [INFO]\t[TRAIN] Epoch=21/270, Step=10/35, loss=17.002735, lr=8.9e-05, time_each_step=1.15s, eta=2:33:19\n",
      "2022-05-03 10:56:41 [INFO]\t[TRAIN] Epoch=21/270, Step=12/35, loss=22.424847, lr=8.9e-05, time_each_step=1.15s, eta=2:33:16\n",
      "2022-05-03 10:56:43 [INFO]\t[TRAIN] Epoch=21/270, Step=14/35, loss=16.593397, lr=8.9e-05, time_each_step=1.12s, eta=2:33:10\n",
      "2022-05-03 10:56:44 [INFO]\t[TRAIN] Epoch=21/270, Step=16/35, loss=19.002426, lr=8.9e-05, time_each_step=1.09s, eta=2:33:2\n",
      "2022-05-03 10:56:46 [INFO]\t[TRAIN] Epoch=21/270, Step=18/35, loss=19.201946, lr=9e-05, time_each_step=1.11s, eta=2:33:3\n",
      "2022-05-03 10:56:47 [INFO]\t[TRAIN] Epoch=21/270, Step=20/35, loss=23.494535, lr=9e-05, time_each_step=1.1s, eta=2:33:0\n",
      "2022-05-03 10:56:49 [INFO]\t[TRAIN] Epoch=21/270, Step=22/35, loss=20.782515, lr=9e-05, time_each_step=0.79s, eta=2:32:9\n",
      "2022-05-03 10:56:50 [INFO]\t[TRAIN] Epoch=21/270, Step=24/35, loss=25.48691, lr=9e-05, time_each_step=0.78s, eta=2:32:5\n",
      "2022-05-03 10:56:52 [INFO]\t[TRAIN] Epoch=21/270, Step=26/35, loss=21.813292, lr=9.1e-05, time_each_step=0.72s, eta=2:31:55\n",
      "2022-05-03 10:56:53 [INFO]\t[TRAIN] Epoch=21/270, Step=28/35, loss=16.825745, lr=9.1e-05, time_each_step=0.72s, eta=2:31:54\n",
      "2022-05-03 10:56:54 [INFO]\t[TRAIN] Epoch=21/270, Step=30/35, loss=22.680593, lr=9.1e-05, time_each_step=0.72s, eta=2:31:52\n"
     ]
    },
    {
     "name": "stderr",
     "output_type": "stream",
     "text": [
      "libpng warning: iCCP: known incorrect sRGB profile\n"
     ]
    },
    {
     "name": "stdout",
     "output_type": "stream",
     "text": [
      "2022-05-03 10:56:55 [INFO]\t[TRAIN] Epoch=21/270, Step=32/35, loss=15.619052, lr=9.1e-05, time_each_step=0.71s, eta=2:31:48\n",
      "2022-05-03 10:56:57 [INFO]\t[TRAIN] Epoch=21/270, Step=34/35, loss=17.014977, lr=9.2e-05, time_each_step=0.72s, eta=2:31:49\n",
      "2022-05-03 10:57:00 [INFO]\t[TRAIN] Epoch 21 finished, loss=18.708782, lr=9e-05 .\n",
      "2022-05-03 10:57:05 [INFO]\t[TRAIN] Epoch=22/270, Step=1/35, loss=11.65651, lr=9.2e-05, time_each_step=0.96s, eta=2:27:2\n",
      "2022-05-03 10:57:07 [INFO]\t[TRAIN] Epoch=22/270, Step=3/35, loss=18.078899, lr=9.2e-05, time_each_step=0.97s, eta=2:27:2\n"
     ]
    },
    {
     "name": "stderr",
     "output_type": "stream",
     "text": [
      "libpng warning: iCCP: known incorrect sRGB profile\n"
     ]
    },
    {
     "name": "stdout",
     "output_type": "stream",
     "text": [
      "2022-05-03 10:57:10 [INFO]\t[TRAIN] Epoch=22/270, Step=5/35, loss=15.757614, lr=9.2e-05, time_each_step=1.0s, eta=2:27:6\n",
      "2022-05-03 10:57:12 [INFO]\t[TRAIN] Epoch=22/270, Step=7/35, loss=15.425644, lr=9.3e-05, time_each_step=1.04s, eta=2:27:10\n",
      "2022-05-03 10:57:13 [INFO]\t[TRAIN] Epoch=22/270, Step=9/35, loss=17.648218, lr=9.3e-05, time_each_step=1.05s, eta=2:27:9\n",
      "2022-05-03 10:57:15 [INFO]\t[TRAIN] Epoch=22/270, Step=11/35, loss=12.836586, lr=9.3e-05, time_each_step=1.05s, eta=2:27:7\n",
      "2022-05-03 10:57:16 [INFO]\t[TRAIN] Epoch=22/270, Step=13/35, loss=20.852394, lr=9.3e-05, time_each_step=1.05s, eta=2:27:5\n",
      "2022-05-03 10:57:18 [INFO]\t[TRAIN] Epoch=22/270, Step=15/35, loss=16.079418, lr=9.4e-05, time_each_step=1.07s, eta=2:27:7\n",
      "2022-05-03 10:57:19 [INFO]\t[TRAIN] Epoch=22/270, Step=17/35, loss=24.555929, lr=9.4e-05, time_each_step=1.08s, eta=2:27:6\n",
      "2022-05-03 10:57:21 [INFO]\t[TRAIN] Epoch=22/270, Step=19/35, loss=16.331846, lr=9.4e-05, time_each_step=1.09s, eta=2:27:5\n",
      "2022-05-03 10:57:23 [INFO]\t[TRAIN] Epoch=22/270, Step=21/35, loss=19.058203, lr=9.4e-05, time_each_step=0.86s, eta=2:26:27\n",
      "2022-05-03 10:57:24 [INFO]\t[TRAIN] Epoch=22/270, Step=23/35, loss=30.284336, lr=9.5e-05, time_each_step=0.82s, eta=2:26:19\n"
     ]
    },
    {
     "name": "stderr",
     "output_type": "stream",
     "text": [
      "libpng warning: iCCP: known incorrect sRGB profile\n"
     ]
    },
    {
     "name": "stdout",
     "output_type": "stream",
     "text": [
      "2022-05-03 10:57:25 [INFO]\t[TRAIN] Epoch=22/270, Step=25/35, loss=18.336226, lr=9.5e-05, time_each_step=0.79s, eta=2:26:13\n",
      "2022-05-03 10:57:27 [INFO]\t[TRAIN] Epoch=22/270, Step=27/35, loss=17.260176, lr=9.5e-05, time_each_step=0.76s, eta=2:26:6\n",
      "2022-05-03 10:57:28 [INFO]\t[TRAIN] Epoch=22/270, Step=29/35, loss=17.953979, lr=9.5e-05, time_each_step=0.76s, eta=2:26:6\n",
      "2022-05-03 10:57:31 [INFO]\t[TRAIN] Epoch=22/270, Step=31/35, loss=13.821149, lr=9.6e-05, time_each_step=0.81s, eta=2:26:11\n",
      "2022-05-03 10:57:32 [INFO]\t[TRAIN] Epoch=22/270, Step=33/35, loss=15.983181, lr=9.6e-05, time_each_step=0.82s, eta=2:26:11\n",
      "2022-05-03 10:57:33 [INFO]\t[TRAIN] Epoch=22/270, Step=35/35, loss=15.140507, lr=9.6e-05, time_each_step=0.78s, eta=2:26:4\n",
      "2022-05-03 10:57:34 [INFO]\t[TRAIN] Epoch 22 finished, loss=17.672754, lr=9.4e-05 .\n",
      "2022-05-03 10:57:42 [INFO]\t[TRAIN] Epoch=23/270, Step=2/35, loss=14.850074, lr=9.6e-05, time_each_step=1.12s, eta=2:20:19\n",
      "2022-05-03 10:57:44 [INFO]\t[TRAIN] Epoch=23/270, Step=4/35, loss=21.448263, lr=9.7e-05, time_each_step=1.13s, eta=2:20:17\n"
     ]
    },
    {
     "name": "stderr",
     "output_type": "stream",
     "text": [
      "libpng warning: iCCP: known incorrect sRGB profile\n"
     ]
    },
    {
     "name": "stdout",
     "output_type": "stream",
     "text": [
      "2022-05-03 10:57:45 [INFO]\t[TRAIN] Epoch=23/270, Step=6/35, loss=31.926357, lr=9.7e-05, time_each_step=1.11s, eta=2:20:12\n",
      "2022-05-03 10:57:47 [INFO]\t[TRAIN] Epoch=23/270, Step=8/35, loss=11.152022, lr=9.7e-05, time_each_step=1.12s, eta=2:20:12\n",
      "2022-05-03 10:57:48 [INFO]\t[TRAIN] Epoch=23/270, Step=10/35, loss=14.279988, lr=9.7e-05, time_each_step=1.12s, eta=2:20:9\n",
      "2022-05-03 10:57:49 [INFO]\t[TRAIN] Epoch=23/270, Step=12/35, loss=15.147128, lr=9.8e-05, time_each_step=1.11s, eta=2:20:5\n",
      "2022-05-03 10:57:51 [INFO]\t[TRAIN] Epoch=23/270, Step=14/35, loss=18.570715, lr=9.8e-05, time_each_step=1.09s, eta=2:20:0\n",
      "2022-05-03 10:57:52 [INFO]\t[TRAIN] Epoch=23/270, Step=16/35, loss=15.992343, lr=9.8e-05, time_each_step=1.06s, eta=2:19:52\n",
      "2022-05-03 10:57:54 [INFO]\t[TRAIN] Epoch=23/270, Step=18/35, loss=20.538712, lr=9.8e-05, time_each_step=1.06s, eta=2:19:50\n",
      "2022-05-03 10:57:55 [INFO]\t[TRAIN] Epoch=23/270, Step=20/35, loss=16.853632, lr=9.9e-05, time_each_step=1.09s, eta=2:19:54\n",
      "2022-05-03 10:57:59 [INFO]\t[TRAIN] Epoch=23/270, Step=22/35, loss=23.219461, lr=9.9e-05, time_each_step=0.83s, eta=2:19:10\n",
      "2022-05-03 10:58:00 [INFO]\t[TRAIN] Epoch=23/270, Step=24/35, loss=17.286192, lr=9.9e-05, time_each_step=0.81s, eta=2:19:5\n",
      "2022-05-03 10:58:02 [INFO]\t[TRAIN] Epoch=23/270, Step=26/35, loss=14.463928, lr=9.9e-05, time_each_step=0.83s, eta=2:19:7\n",
      "2022-05-03 10:58:03 [INFO]\t[TRAIN] Epoch=23/270, Step=28/35, loss=16.561438, lr=0.0001, time_each_step=0.81s, eta=2:19:3\n"
     ]
    },
    {
     "name": "stderr",
     "output_type": "stream",
     "text": [
      "libpng warning: iCCP: known incorrect sRGB profile\n"
     ]
    },
    {
     "name": "stdout",
     "output_type": "stream",
     "text": [
      "2022-05-03 10:58:05 [INFO]\t[TRAIN] Epoch=23/270, Step=30/35, loss=16.655045, lr=0.0001, time_each_step=0.86s, eta=2:19:8\n",
      "2022-05-03 10:58:08 [INFO]\t[TRAIN] Epoch=23/270, Step=32/35, loss=22.745167, lr=0.0001, time_each_step=0.92s, eta=2:19:16\n",
      "2022-05-03 10:58:09 [INFO]\t[TRAIN] Epoch=23/270, Step=34/35, loss=13.189945, lr=0.0001, time_each_step=0.9s, eta=2:19:9\n",
      "2022-05-03 10:58:09 [INFO]\t[TRAIN] Epoch 23 finished, loss=17.891388, lr=9.8e-05 .\n",
      "2022-05-03 10:58:15 [INFO]\t[TRAIN] Epoch=24/270, Step=1/35, loss=11.941245, lr=0.000101, time_each_step=1.15s, eta=2:29:4\n",
      "2022-05-03 10:58:17 [INFO]\t[TRAIN] Epoch=24/270, Step=3/35, loss=21.391479, lr=0.000101, time_each_step=1.14s, eta=2:29:0\n",
      "2022-05-03 10:58:19 [INFO]\t[TRAIN] Epoch=24/270, Step=5/35, loss=24.64897, lr=0.000101, time_each_step=1.17s, eta=2:29:4\n"
     ]
    },
    {
     "name": "stderr",
     "output_type": "stream",
     "text": [
      "libpng warning: iCCP: known incorrect sRGB profile\n"
     ]
    },
    {
     "name": "stdout",
     "output_type": "stream",
     "text": [
      "2022-05-03 10:58:20 [INFO]\t[TRAIN] Epoch=24/270, Step=7/35, loss=18.320843, lr=0.000101, time_each_step=1.07s, eta=2:28:44\n",
      "2022-05-03 10:58:22 [INFO]\t[TRAIN] Epoch=24/270, Step=9/35, loss=16.204973, lr=0.000102, time_each_step=1.1s, eta=2:28:47\n",
      "2022-05-03 10:58:23 [INFO]\t[TRAIN] Epoch=24/270, Step=11/35, loss=14.798379, lr=0.000102, time_each_step=1.06s, eta=2:28:38\n",
      "2022-05-03 10:58:25 [INFO]\t[TRAIN] Epoch=24/270, Step=13/35, loss=19.072556, lr=0.000102, time_each_step=1.08s, eta=2:28:40\n",
      "2022-05-03 10:58:26 [INFO]\t[TRAIN] Epoch=24/270, Step=15/35, loss=17.559839, lr=0.000102, time_each_step=1.04s, eta=2:28:30\n",
      "2022-05-03 10:58:28 [INFO]\t[TRAIN] Epoch=24/270, Step=17/35, loss=15.366754, lr=0.000103, time_each_step=1.0s, eta=2:28:22\n",
      "2022-05-03 10:58:30 [INFO]\t[TRAIN] Epoch=24/270, Step=19/35, loss=16.796803, lr=0.000103, time_each_step=1.04s, eta=2:28:26\n",
      "2022-05-03 10:58:31 [INFO]\t[TRAIN] Epoch=24/270, Step=21/35, loss=19.677633, lr=0.000103, time_each_step=0.8s, eta=2:27:46\n",
      "2022-05-03 10:58:33 [INFO]\t[TRAIN] Epoch=24/270, Step=23/35, loss=20.83304, lr=0.000103, time_each_step=0.79s, eta=2:27:44\n",
      "2022-05-03 10:58:34 [INFO]\t[TRAIN] Epoch=24/270, Step=25/35, loss=16.924395, lr=0.000104, time_each_step=0.75s, eta=2:27:36\n"
     ]
    },
    {
     "name": "stderr",
     "output_type": "stream",
     "text": [
      "libpng warning: iCCP: known incorrect sRGB profile\n"
     ]
    },
    {
     "name": "stdout",
     "output_type": "stream",
     "text": [
      "2022-05-03 10:58:36 [INFO]\t[TRAIN] Epoch=24/270, Step=27/35, loss=18.063353, lr=0.000104, time_each_step=0.77s, eta=2:27:37\n",
      "2022-05-03 10:58:37 [INFO]\t[TRAIN] Epoch=24/270, Step=29/35, loss=22.079979, lr=0.000104, time_each_step=0.73s, eta=2:27:29\n",
      "2022-05-03 10:58:38 [INFO]\t[TRAIN] Epoch=24/270, Step=31/35, loss=21.770569, lr=0.000104, time_each_step=0.75s, eta=2:27:31\n",
      "2022-05-03 10:58:40 [INFO]\t[TRAIN] Epoch=24/270, Step=33/35, loss=15.339168, lr=0.000105, time_each_step=0.77s, eta=2:27:32\n",
      "2022-05-03 10:58:42 [INFO]\t[TRAIN] Epoch=24/270, Step=35/35, loss=17.292963, lr=0.000105, time_each_step=0.82s, eta=2:27:38\n",
      "2022-05-03 10:58:43 [INFO]\t[TRAIN] Epoch 24 finished, loss=18.275068, lr=0.000103 .\n",
      "2022-05-03 10:58:51 [INFO]\t[TRAIN] Epoch=25/270, Step=2/35, loss=12.097805, lr=0.000105, time_each_step=1.16s, eta=2:20:46\n"
     ]
    },
    {
     "name": "stderr",
     "output_type": "stream",
     "text": [
      "libpng warning: iCCP: known incorrect sRGB profile\n"
     ]
    },
    {
     "name": "stdout",
     "output_type": "stream",
     "text": [
      "2022-05-03 10:58:53 [INFO]\t[TRAIN] Epoch=25/270, Step=4/35, loss=15.1308, lr=0.000105, time_each_step=1.17s, eta=2:20:46\n",
      "2022-05-03 10:58:55 [INFO]\t[TRAIN] Epoch=25/270, Step=6/35, loss=17.780416, lr=0.000106, time_each_step=1.16s, eta=2:20:42\n",
      "2022-05-03 10:58:57 [INFO]\t[TRAIN] Epoch=25/270, Step=8/35, loss=14.290488, lr=0.000106, time_each_step=1.18s, eta=2:20:42\n",
      "2022-05-03 10:58:58 [INFO]\t[TRAIN] Epoch=25/270, Step=10/35, loss=18.453279, lr=0.000106, time_each_step=1.19s, eta=2:20:41\n",
      "2022-05-03 10:58:59 [INFO]\t[TRAIN] Epoch=25/270, Step=12/35, loss=16.428631, lr=0.000106, time_each_step=1.18s, eta=2:20:37\n",
      "2022-05-03 10:59:01 [INFO]\t[TRAIN] Epoch=25/270, Step=14/35, loss=22.843117, lr=0.000107, time_each_step=1.2s, eta=2:20:38\n",
      "2022-05-03 10:59:03 [INFO]\t[TRAIN] Epoch=25/270, Step=16/35, loss=15.957771, lr=0.000107, time_each_step=1.22s, eta=2:20:38\n",
      "2022-05-03 10:59:04 [INFO]\t[TRAIN] Epoch=25/270, Step=18/35, loss=19.201666, lr=0.000107, time_each_step=1.19s, eta=2:20:31\n",
      "2022-05-03 10:59:06 [INFO]\t[TRAIN] Epoch=25/270, Step=20/35, loss=17.855188, lr=0.000107, time_each_step=1.18s, eta=2:20:28\n",
      "2022-05-03 10:59:08 [INFO]\t[TRAIN] Epoch=25/270, Step=22/35, loss=19.415722, lr=0.000108, time_each_step=0.82s, eta=2:19:30\n",
      "2022-05-03 10:59:10 [INFO]\t[TRAIN] Epoch=25/270, Step=24/35, loss=18.386246, lr=0.000108, time_each_step=0.82s, eta=2:19:27\n",
      "2022-05-03 10:59:11 [INFO]\t[TRAIN] Epoch=25/270, Step=26/35, loss=16.572519, lr=0.000108, time_each_step=0.83s, eta=2:19:27\n"
     ]
    },
    {
     "name": "stderr",
     "output_type": "stream",
     "text": [
      "libpng warning: iCCP: known incorrect sRGB profile\n"
     ]
    },
    {
     "name": "stdout",
     "output_type": "stream",
     "text": [
      "2022-05-03 10:59:13 [INFO]\t[TRAIN] Epoch=25/270, Step=28/35, loss=17.084042, lr=0.000108, time_each_step=0.84s, eta=2:19:28\n",
      "2022-05-03 10:59:16 [INFO]\t[TRAIN] Epoch=25/270, Step=30/35, loss=17.272507, lr=0.000109, time_each_step=0.87s, eta=2:19:30\n",
      "2022-05-03 10:59:17 [INFO]\t[TRAIN] Epoch=25/270, Step=32/35, loss=14.951141, lr=0.000109, time_each_step=0.89s, eta=2:19:31\n",
      "2022-05-03 10:59:19 [INFO]\t[TRAIN] Epoch=25/270, Step=34/35, loss=14.535029, lr=0.000109, time_each_step=0.9s, eta=2:19:32\n",
      "2022-05-03 10:59:20 [INFO]\t[TRAIN] Epoch 25 finished, loss=16.933083, lr=0.000107 .\n",
      "2022-05-03 10:59:26 [INFO]\t[TRAIN] Epoch=26/270, Step=1/35, loss=12.580102, lr=0.000109, time_each_step=1.16s, eta=2:34:35\n",
      "2022-05-03 10:59:28 [INFO]\t[TRAIN] Epoch=26/270, Step=3/35, loss=14.074947, lr=0.00011, time_each_step=1.2s, eta=2:34:41\n"
     ]
    },
    {
     "name": "stderr",
     "output_type": "stream",
     "text": [
      "libpng warning: iCCP: known incorrect sRGB profile\n"
     ]
    },
    {
     "name": "stdout",
     "output_type": "stream",
     "text": [
      "2022-05-03 10:59:30 [INFO]\t[TRAIN] Epoch=26/270, Step=5/35, loss=17.951294, lr=0.00011, time_each_step=1.19s, eta=2:34:37\n",
      "2022-05-03 10:59:32 [INFO]\t[TRAIN] Epoch=26/270, Step=7/35, loss=19.072504, lr=0.00011, time_each_step=1.2s, eta=2:34:35\n",
      "2022-05-03 10:59:34 [INFO]\t[TRAIN] Epoch=26/270, Step=9/35, loss=14.122714, lr=0.00011, time_each_step=1.21s, eta=2:34:35\n",
      "2022-05-03 10:59:35 [INFO]\t[TRAIN] Epoch=26/270, Step=11/35, loss=23.480385, lr=0.000111, time_each_step=1.17s, eta=2:34:26\n",
      "2022-05-03 10:59:36 [INFO]\t[TRAIN] Epoch=26/270, Step=13/35, loss=19.343559, lr=0.000111, time_each_step=1.14s, eta=2:34:18\n",
      "2022-05-03 10:59:38 [INFO]\t[TRAIN] Epoch=26/270, Step=15/35, loss=15.472104, lr=0.000111, time_each_step=1.1s, eta=2:34:10\n",
      "2022-05-03 10:59:39 [INFO]\t[TRAIN] Epoch=26/270, Step=17/35, loss=15.868784, lr=0.000111, time_each_step=1.08s, eta=2:34:4\n",
      "2022-05-03 10:59:40 [INFO]\t[TRAIN] Epoch=26/270, Step=19/35, loss=14.296013, lr=0.000112, time_each_step=1.06s, eta=2:33:59\n",
      "2022-05-03 10:59:42 [INFO]\t[TRAIN] Epoch=26/270, Step=21/35, loss=16.347097, lr=0.000112, time_each_step=0.77s, eta=2:33:11\n",
      "2022-05-03 10:59:43 [INFO]\t[TRAIN] Epoch=26/270, Step=23/35, loss=16.141029, lr=0.000112, time_each_step=0.75s, eta=2:33:6\n",
      "2022-05-03 10:59:45 [INFO]\t[TRAIN] Epoch=26/270, Step=25/35, loss=16.173464, lr=0.000112, time_each_step=0.71s, eta=2:32:59\n",
      "2022-05-03 10:59:46 [INFO]\t[TRAIN] Epoch=26/270, Step=27/35, loss=17.285133, lr=0.000113, time_each_step=0.71s, eta=2:32:58\n",
      "2022-05-03 10:59:48 [INFO]\t[TRAIN] Epoch=26/270, Step=29/35, loss=13.688284, lr=0.000113, time_each_step=0.69s, eta=2:32:52\n"
     ]
    },
    {
     "name": "stderr",
     "output_type": "stream",
     "text": [
      "libpng warning: iCCP: known incorrect sRGB profile\n"
     ]
    },
    {
     "name": "stdout",
     "output_type": "stream",
     "text": [
      "2022-05-03 10:59:49 [INFO]\t[TRAIN] Epoch=26/270, Step=31/35, loss=11.746977, lr=0.000113, time_each_step=0.67s, eta=2:32:49\n",
      "2022-05-03 10:59:51 [INFO]\t[TRAIN] Epoch=26/270, Step=33/35, loss=28.874561, lr=0.000113, time_each_step=0.71s, eta=2:32:53\n",
      "2022-05-03 10:59:53 [INFO]\t[TRAIN] Epoch=26/270, Step=35/35, loss=18.454386, lr=0.000114, time_each_step=0.75s, eta=2:32:58\n",
      "2022-05-03 10:59:53 [INFO]\t[TRAIN] Epoch 26 finished, loss=16.754223, lr=0.000112 .\n",
      "2022-05-03 11:00:02 [INFO]\t[TRAIN] Epoch=27/270, Step=2/35, loss=17.942314, lr=0.000114, time_each_step=1.13s, eta=2:17:24\n",
      "2022-05-03 11:00:04 [INFO]\t[TRAIN] Epoch=27/270, Step=4/35, loss=18.46839, lr=0.000114, time_each_step=1.17s, eta=2:17:27\n",
      "2022-05-03 11:00:06 [INFO]\t[TRAIN] Epoch=27/270, Step=6/35, loss=16.380125, lr=0.000114, time_each_step=1.2s, eta=2:17:30\n"
     ]
    },
    {
     "name": "stderr",
     "output_type": "stream",
     "text": [
      "libpng warning: iCCP: known incorrect sRGB profile\n"
     ]
    },
    {
     "name": "stdout",
     "output_type": "stream",
     "text": [
      "2022-05-03 11:00:07 [INFO]\t[TRAIN] Epoch=27/270, Step=8/35, loss=17.489946, lr=0.000115, time_each_step=1.18s, eta=2:17:25\n",
      "2022-05-03 11:00:08 [INFO]\t[TRAIN] Epoch=27/270, Step=10/35, loss=14.348645, lr=0.000115, time_each_step=1.18s, eta=2:17:23\n",
      "2022-05-03 11:00:10 [INFO]\t[TRAIN] Epoch=27/270, Step=12/35, loss=13.11059, lr=0.000115, time_each_step=1.18s, eta=2:17:20\n",
      "2022-05-03 11:00:11 [INFO]\t[TRAIN] Epoch=27/270, Step=14/35, loss=17.646282, lr=0.000115, time_each_step=1.18s, eta=2:17:17\n",
      "2022-05-03 11:00:13 [INFO]\t[TRAIN] Epoch=27/270, Step=16/35, loss=12.821337, lr=0.000116, time_each_step=1.2s, eta=2:17:19\n",
      "2022-05-03 11:00:14 [INFO]\t[TRAIN] Epoch=27/270, Step=18/35, loss=23.044334, lr=0.000116, time_each_step=1.18s, eta=2:17:13\n",
      "2022-05-03 11:00:16 [INFO]\t[TRAIN] Epoch=27/270, Step=20/35, loss=14.325649, lr=0.000116, time_each_step=1.15s, eta=2:17:6\n",
      "2022-05-03 11:00:18 [INFO]\t[TRAIN] Epoch=27/270, Step=22/35, loss=21.255402, lr=0.000116, time_each_step=0.81s, eta=2:16:10\n",
      "2022-05-03 11:00:20 [INFO]\t[TRAIN] Epoch=27/270, Step=24/35, loss=15.39472, lr=0.000117, time_each_step=0.78s, eta=2:16:5\n",
      "2022-05-03 11:00:21 [INFO]\t[TRAIN] Epoch=27/270, Step=26/35, loss=16.597281, lr=0.000117, time_each_step=0.75s, eta=2:15:58\n",
      "2022-05-03 11:00:22 [INFO]\t[TRAIN] Epoch=27/270, Step=28/35, loss=18.972467, lr=0.000117, time_each_step=0.76s, eta=2:15:57\n",
      "2022-05-03 11:00:24 [INFO]\t[TRAIN] Epoch=27/270, Step=30/35, loss=22.45105, lr=0.000117, time_each_step=0.76s, eta=2:15:56\n",
      "2022-05-03 11:00:25 [INFO]\t[TRAIN] Epoch=27/270, Step=32/35, loss=16.623608, lr=0.000118, time_each_step=0.75s, eta=2:15:53\n"
     ]
    },
    {
     "name": "stderr",
     "output_type": "stream",
     "text": [
      "libpng warning: iCCP: known incorrect sRGB profile\n"
     ]
    },
    {
     "name": "stdout",
     "output_type": "stream",
     "text": [
      "2022-05-03 11:00:26 [INFO]\t[TRAIN] Epoch=27/270, Step=34/35, loss=16.568539, lr=0.000118, time_each_step=0.72s, eta=2:15:48\n",
      "2022-05-03 11:00:27 [INFO]\t[TRAIN] Epoch 27 finished, loss=17.02437, lr=0.000116 .\n",
      "2022-05-03 11:00:33 [INFO]\t[TRAIN] Epoch=28/270, Step=1/35, loss=13.817932, lr=0.000118, time_each_step=1.0s, eta=2:19:12\n",
      "2022-05-03 11:00:35 [INFO]\t[TRAIN] Epoch=28/270, Step=3/35, loss=12.460993, lr=0.000118, time_each_step=1.02s, eta=2:19:14\n",
      "2022-05-03 11:00:36 [INFO]\t[TRAIN] Epoch=28/270, Step=5/35, loss=22.734718, lr=0.000119, time_each_step=1.0s, eta=2:19:9\n"
     ]
    },
    {
     "name": "stderr",
     "output_type": "stream",
     "text": [
      "libpng warning: iCCP: known incorrect sRGB profile\n"
     ]
    },
    {
     "name": "stdout",
     "output_type": "stream",
     "text": [
      "2022-05-03 11:00:38 [INFO]\t[TRAIN] Epoch=28/270, Step=7/35, loss=12.805717, lr=0.000119, time_each_step=1.01s, eta=2:19:8\n",
      "2022-05-03 11:00:40 [INFO]\t[TRAIN] Epoch=28/270, Step=9/35, loss=13.778222, lr=0.000119, time_each_step=1.03s, eta=2:19:9\n",
      "2022-05-03 11:00:42 [INFO]\t[TRAIN] Epoch=28/270, Step=11/35, loss=11.948632, lr=0.000119, time_each_step=1.07s, eta=2:19:14\n",
      "2022-05-03 11:00:44 [INFO]\t[TRAIN] Epoch=28/270, Step=13/35, loss=22.367083, lr=0.00012, time_each_step=1.07s, eta=2:19:11\n",
      "2022-05-03 11:00:45 [INFO]\t[TRAIN] Epoch=28/270, Step=15/35, loss=27.068092, lr=0.00012, time_each_step=1.08s, eta=2:19:11\n",
      "2022-05-03 11:00:47 [INFO]\t[TRAIN] Epoch=28/270, Step=17/35, loss=14.44379, lr=0.00012, time_each_step=1.09s, eta=2:19:11\n",
      "2022-05-03 11:00:49 [INFO]\t[TRAIN] Epoch=28/270, Step=19/35, loss=14.876933, lr=0.00012, time_each_step=1.14s, eta=2:19:16\n",
      "2022-05-03 11:00:50 [INFO]\t[TRAIN] Epoch=28/270, Step=21/35, loss=13.7708, lr=0.000121, time_each_step=0.86s, eta=2:18:30\n",
      "2022-05-03 11:00:52 [INFO]\t[TRAIN] Epoch=28/270, Step=23/35, loss=14.569211, lr=0.000121, time_each_step=0.83s, eta=2:18:24\n",
      "2022-05-03 11:00:53 [INFO]\t[TRAIN] Epoch=28/270, Step=25/35, loss=15.078544, lr=0.000121, time_each_step=0.85s, eta=2:18:25\n",
      "2022-05-03 11:00:56 [INFO]\t[TRAIN] Epoch=28/270, Step=27/35, loss=17.371429, lr=0.000121, time_each_step=0.87s, eta=2:18:26\n"
     ]
    },
    {
     "name": "stderr",
     "output_type": "stream",
     "text": [
      "libpng warning: iCCP: known incorrect sRGB profile\n"
     ]
    },
    {
     "name": "stdout",
     "output_type": "stream",
     "text": [
      "2022-05-03 11:00:58 [INFO]\t[TRAIN] Epoch=28/270, Step=29/35, loss=17.149046, lr=0.000122, time_each_step=0.86s, eta=2:18:24\n",
      "2022-05-03 11:00:59 [INFO]\t[TRAIN] Epoch=28/270, Step=31/35, loss=11.030384, lr=0.000122, time_each_step=0.85s, eta=2:18:20\n",
      "2022-05-03 11:01:01 [INFO]\t[TRAIN] Epoch=28/270, Step=33/35, loss=15.556198, lr=0.000122, time_each_step=0.85s, eta=2:18:19\n",
      "2022-05-03 11:01:03 [INFO]\t[TRAIN] Epoch=28/270, Step=35/35, loss=13.89326, lr=0.000122, time_each_step=0.86s, eta=2:18:18\n",
      "2022-05-03 11:01:03 [INFO]\t[TRAIN] Epoch 28 finished, loss=15.697815, lr=0.00012 .\n",
      "2022-05-03 11:01:10 [INFO]\t[TRAIN] Epoch=29/270, Step=2/35, loss=11.325704, lr=0.000123, time_each_step=1.14s, eta=2:27:4\n",
      "2022-05-03 11:01:11 [INFO]\t[TRAIN] Epoch=29/270, Step=4/35, loss=18.130161, lr=0.000123, time_each_step=1.13s, eta=2:27:0\n"
     ]
    },
    {
     "name": "stderr",
     "output_type": "stream",
     "text": [
      "libpng warning: iCCP: known incorrect sRGB profile\n"
     ]
    },
    {
     "name": "stdout",
     "output_type": "stream",
     "text": [
      "2022-05-03 11:01:13 [INFO]\t[TRAIN] Epoch=29/270, Step=6/35, loss=15.144846, lr=0.000123, time_each_step=1.16s, eta=2:27:4\n",
      "2022-05-03 11:01:15 [INFO]\t[TRAIN] Epoch=29/270, Step=8/35, loss=18.725025, lr=0.000123, time_each_step=1.18s, eta=2:27:3\n",
      "2022-05-03 11:01:17 [INFO]\t[TRAIN] Epoch=29/270, Step=10/35, loss=14.132404, lr=0.000124, time_each_step=1.17s, eta=2:27:1\n",
      "2022-05-03 11:01:18 [INFO]\t[TRAIN] Epoch=29/270, Step=12/35, loss=10.53049, lr=0.000124, time_each_step=1.13s, eta=2:26:51\n",
      "2022-05-03 11:01:20 [INFO]\t[TRAIN] Epoch=29/270, Step=14/35, loss=14.457149, lr=0.000124, time_each_step=1.12s, eta=2:26:47\n",
      "2022-05-03 11:01:22 [INFO]\t[TRAIN] Epoch=29/270, Step=16/35, loss=18.077494, lr=0.000124, time_each_step=1.13s, eta=2:26:47\n",
      "2022-05-03 11:01:23 [INFO]\t[TRAIN] Epoch=29/270, Step=18/35, loss=12.435081, lr=0.000125, time_each_step=1.13s, eta=2:26:45\n",
      "2022-05-03 11:01:25 [INFO]\t[TRAIN] Epoch=29/270, Step=20/35, loss=15.003748, lr=0.000125, time_each_step=1.1s, eta=2:26:37\n",
      "2022-05-03 11:01:26 [INFO]\t[TRAIN] Epoch=29/270, Step=22/35, loss=17.934488, lr=0.000125, time_each_step=0.82s, eta=2:25:51\n",
      "2022-05-03 11:01:28 [INFO]\t[TRAIN] Epoch=29/270, Step=24/35, loss=16.118225, lr=0.000125, time_each_step=0.83s, eta=2:25:52\n",
      "2022-05-03 11:01:30 [INFO]\t[TRAIN] Epoch=29/270, Step=26/35, loss=15.480794, lr=0.000125, time_each_step=0.82s, eta=2:25:47\n"
     ]
    },
    {
     "name": "stderr",
     "output_type": "stream",
     "text": [
      "libpng warning: iCCP: known incorrect sRGB profile\n"
     ]
    },
    {
     "name": "stdout",
     "output_type": "stream",
     "text": [
      "2022-05-03 11:01:32 [INFO]\t[TRAIN] Epoch=29/270, Step=28/35, loss=11.193244, lr=0.000125, time_each_step=0.84s, eta=2:25:49\n",
      "2022-05-03 11:01:33 [INFO]\t[TRAIN] Epoch=29/270, Step=30/35, loss=19.260931, lr=0.000125, time_each_step=0.83s, eta=2:25:46\n",
      "2022-05-03 11:01:35 [INFO]\t[TRAIN] Epoch=29/270, Step=32/35, loss=14.804051, lr=0.000125, time_each_step=0.86s, eta=2:25:48\n",
      "2022-05-03 11:01:37 [INFO]\t[TRAIN] Epoch=29/270, Step=34/35, loss=15.975242, lr=0.000125, time_each_step=0.85s, eta=2:25:46\n",
      "2022-05-03 11:01:38 [INFO]\t[TRAIN] Epoch 29 finished, loss=15.735541, lr=0.000124 .\n",
      "2022-05-03 11:01:44 [INFO]\t[TRAIN] Epoch=30/270, Step=1/35, loss=9.416186, lr=0.000125, time_each_step=1.12s, eta=2:25:41\n"
     ]
    },
    {
     "name": "stderr",
     "output_type": "stream",
     "text": [
      "libpng warning: iCCP: known incorrect sRGB profile\n"
     ]
    },
    {
     "name": "stdout",
     "output_type": "stream",
     "text": [
      "2022-05-03 11:01:47 [INFO]\t[TRAIN] Epoch=30/270, Step=3/35, loss=17.020744, lr=0.000125, time_each_step=1.15s, eta=2:25:43\n",
      "2022-05-03 11:01:49 [INFO]\t[TRAIN] Epoch=30/270, Step=5/35, loss=22.145554, lr=0.000125, time_each_step=1.19s, eta=2:25:48\n",
      "2022-05-03 11:01:50 [INFO]\t[TRAIN] Epoch=30/270, Step=7/35, loss=15.824395, lr=0.000125, time_each_step=1.2s, eta=2:25:47\n",
      "2022-05-03 11:01:52 [INFO]\t[TRAIN] Epoch=30/270, Step=9/35, loss=17.930761, lr=0.000125, time_each_step=1.19s, eta=2:25:43\n",
      "2022-05-03 11:01:54 [INFO]\t[TRAIN] Epoch=30/270, Step=11/35, loss=10.904571, lr=0.000125, time_each_step=1.18s, eta=2:25:40\n",
      "2022-05-03 11:01:55 [INFO]\t[TRAIN] Epoch=30/270, Step=13/35, loss=9.630417, lr=0.000125, time_each_step=1.14s, eta=2:25:31\n",
      "2022-05-03 11:01:57 [INFO]\t[TRAIN] Epoch=30/270, Step=15/35, loss=13.617557, lr=0.000125, time_each_step=1.15s, eta=2:25:30\n",
      "2022-05-03 11:01:58 [INFO]\t[TRAIN] Epoch=30/270, Step=17/35, loss=11.857742, lr=0.000125, time_each_step=1.12s, eta=2:25:23\n",
      "2022-05-03 11:02:00 [INFO]\t[TRAIN] Epoch=30/270, Step=19/35, loss=12.425991, lr=0.000125, time_each_step=1.13s, eta=2:25:22\n",
      "2022-05-03 11:02:02 [INFO]\t[TRAIN] Epoch=30/270, Step=21/35, loss=14.086259, lr=0.000125, time_each_step=0.87s, eta=2:24:39\n",
      "2022-05-03 11:02:04 [INFO]\t[TRAIN] Epoch=30/270, Step=23/35, loss=15.720936, lr=0.000125, time_each_step=0.85s, eta=2:24:34\n",
      "2022-05-03 11:02:06 [INFO]\t[TRAIN] Epoch=30/270, Step=25/35, loss=12.458763, lr=0.000125, time_each_step=0.86s, eta=2:24:34\n",
      "2022-05-03 11:02:08 [INFO]\t[TRAIN] Epoch=30/270, Step=27/35, loss=13.078535, lr=0.000125, time_each_step=0.87s, eta=2:24:34\n"
     ]
    },
    {
     "name": "stderr",
     "output_type": "stream",
     "text": [
      "libpng warning: iCCP: known incorrect sRGB profile\n"
     ]
    },
    {
     "name": "stdout",
     "output_type": "stream",
     "text": [
      "2022-05-03 11:02:09 [INFO]\t[TRAIN] Epoch=30/270, Step=29/35, loss=11.015949, lr=0.000125, time_each_step=0.87s, eta=2:24:32\n",
      "2022-05-03 11:02:12 [INFO]\t[TRAIN] Epoch=30/270, Step=31/35, loss=14.707077, lr=0.000125, time_each_step=0.9s, eta=2:24:35\n",
      "2022-05-03 11:02:13 [INFO]\t[TRAIN] Epoch=30/270, Step=33/35, loss=13.733047, lr=0.000125, time_each_step=0.9s, eta=2:24:34\n",
      "2022-05-03 11:02:15 [INFO]\t[TRAIN] Epoch=30/270, Step=35/35, loss=13.731041, lr=0.000125, time_each_step=0.91s, eta=2:24:33\n",
      "2022-05-03 11:02:15 [INFO]\t[TRAIN] Epoch 30 finished, loss=14.389107, lr=0.000125 .\n",
      "2022-05-03 11:02:15 [INFO]\tStart to evaluating(total_samples=121, total_steps=16)...\n"
     ]
    },
    {
     "name": "stderr",
     "output_type": "stream",
     "text": [
      "100%|██████████| 16/16 [00:07<00:00,  2.06it/s]\n"
     ]
    },
    {
     "name": "stdout",
     "output_type": "stream",
     "text": [
      "2022-05-03 11:02:23 [INFO]\t[EVAL] Finished, Epoch=30, bbox_map=60.008321 .\n",
      "2022-05-03 11:02:27 [INFO]\tModel saved in output_yolov3_darknet53/best_model.\n",
      "2022-05-03 11:02:29 [INFO]\tModel saved in output_yolov3_darknet53/epoch_30.\n",
      "2022-05-03 11:02:29 [INFO]\tCurrent evaluated best model in eval_dataset is epoch_30, bbox_map=60.008321284751155\n",
      "2022-05-03 11:02:36 [INFO]\t[TRAIN] Epoch=31/270, Step=2/35, loss=9.744781, lr=0.000125, time_each_step=1.18s, eta=2:28:53\n"
     ]
    },
    {
     "name": "stderr",
     "output_type": "stream",
     "text": [
      "libpng warning: iCCP: known incorrect sRGB profile\n"
     ]
    },
    {
     "name": "stdout",
     "output_type": "stream",
     "text": [
      "2022-05-03 11:02:38 [INFO]\t[TRAIN] Epoch=31/270, Step=4/35, loss=18.470467, lr=0.000125, time_each_step=1.21s, eta=2:28:52\n",
      "2022-05-03 11:02:40 [INFO]\t[TRAIN] Epoch=31/270, Step=6/35, loss=15.122166, lr=0.000125, time_each_step=1.18s, eta=2:28:48\n",
      "2022-05-03 11:02:41 [INFO]\t[TRAIN] Epoch=31/270, Step=8/35, loss=8.535647, lr=0.000125, time_each_step=1.16s, eta=2:28:46\n",
      "2022-05-03 11:02:43 [INFO]\t[TRAIN] Epoch=31/270, Step=10/35, loss=18.651861, lr=0.000125, time_each_step=1.13s, eta=2:28:42\n",
      "2022-05-03 11:02:44 [INFO]\t[TRAIN] Epoch=31/270, Step=12/35, loss=18.928707, lr=0.000125, time_each_step=1.12s, eta=2:28:40\n",
      "2022-05-03 11:02:46 [INFO]\t[TRAIN] Epoch=31/270, Step=14/35, loss=16.328033, lr=0.000125, time_each_step=1.12s, eta=2:28:38\n",
      "2022-05-03 11:02:48 [INFO]\t[TRAIN] Epoch=31/270, Step=16/35, loss=10.572125, lr=0.000125, time_each_step=1.09s, eta=2:28:35\n",
      "2022-05-03 11:02:49 [INFO]\t[TRAIN] Epoch=31/270, Step=18/35, loss=15.253593, lr=0.000125, time_each_step=1.1s, eta=2:28:33\n",
      "2022-05-03 11:02:51 [INFO]\t[TRAIN] Epoch=31/270, Step=20/35, loss=9.859539, lr=0.000125, time_each_step=1.07s, eta=2:28:30\n",
      "2022-05-03 11:02:52 [INFO]\t[TRAIN] Epoch=31/270, Step=22/35, loss=10.749758, lr=0.000125, time_each_step=0.8s, eta=2:28:25\n",
      "2022-05-03 11:02:53 [INFO]\t[TRAIN] Epoch=31/270, Step=24/35, loss=11.128611, lr=0.000125, time_each_step=0.75s, eta=2:28:22\n",
      "2022-05-03 11:02:55 [INFO]\t[TRAIN] Epoch=31/270, Step=26/35, loss=23.671436, lr=0.000125, time_each_step=0.76s, eta=2:28:21\n"
     ]
    },
    {
     "name": "stderr",
     "output_type": "stream",
     "text": [
      "libpng warning: iCCP: known incorrect sRGB profile\n"
     ]
    },
    {
     "name": "stdout",
     "output_type": "stream",
     "text": [
      "2022-05-03 11:02:57 [INFO]\t[TRAIN] Epoch=31/270, Step=28/35, loss=10.620578, lr=0.000125, time_each_step=0.76s, eta=2:28:19\n",
      "2022-05-03 11:02:58 [INFO]\t[TRAIN] Epoch=31/270, Step=30/35, loss=17.575457, lr=0.000125, time_each_step=0.77s, eta=2:28:18\n",
      "2022-05-03 11:02:59 [INFO]\t[TRAIN] Epoch=31/270, Step=32/35, loss=11.127759, lr=0.000125, time_each_step=0.75s, eta=2:28:16\n",
      "2022-05-03 11:03:01 [INFO]\t[TRAIN] Epoch=31/270, Step=34/35, loss=13.72354, lr=0.000125, time_each_step=0.74s, eta=2:28:15\n",
      "2022-05-03 11:03:02 [INFO]\t[TRAIN] Epoch 31 finished, loss=15.113424, lr=0.000125 .\n",
      "2022-05-03 11:03:08 [INFO]\t[TRAIN] Epoch=32/270, Step=1/35, loss=8.363661, lr=0.000125, time_each_step=0.98s, eta=2:11:27\n"
     ]
    },
    {
     "name": "stderr",
     "output_type": "stream",
     "text": [
      "libpng warning: iCCP: known incorrect sRGB profile\n"
     ]
    },
    {
     "name": "stdout",
     "output_type": "stream",
     "text": [
      "2022-05-03 11:03:10 [INFO]\t[TRAIN] Epoch=32/270, Step=3/35, loss=16.701096, lr=0.000125, time_each_step=1.01s, eta=2:11:25\n",
      "2022-05-03 11:03:11 [INFO]\t[TRAIN] Epoch=32/270, Step=5/35, loss=13.958293, lr=0.000125, time_each_step=1.01s, eta=2:11:24\n",
      "2022-05-03 11:03:13 [INFO]\t[TRAIN] Epoch=32/270, Step=7/35, loss=17.009521, lr=0.000125, time_each_step=1.02s, eta=2:11:22\n",
      "2022-05-03 11:03:14 [INFO]\t[TRAIN] Epoch=32/270, Step=9/35, loss=12.575106, lr=0.000125, time_each_step=1.03s, eta=2:11:20\n",
      "2022-05-03 11:03:16 [INFO]\t[TRAIN] Epoch=32/270, Step=11/35, loss=14.307448, lr=0.000125, time_each_step=1.04s, eta=2:11:18\n",
      "2022-05-03 11:03:17 [INFO]\t[TRAIN] Epoch=32/270, Step=13/35, loss=18.981613, lr=0.000125, time_each_step=1.03s, eta=2:11:16\n",
      "2022-05-03 11:03:19 [INFO]\t[TRAIN] Epoch=32/270, Step=15/35, loss=15.118762, lr=0.000125, time_each_step=1.02s, eta=2:11:13\n",
      "2022-05-03 11:03:20 [INFO]\t[TRAIN] Epoch=32/270, Step=17/35, loss=15.773716, lr=0.000125, time_each_step=1.02s, eta=2:11:12\n",
      "2022-05-03 11:03:22 [INFO]\t[TRAIN] Epoch=32/270, Step=19/35, loss=21.10796, lr=0.000125, time_each_step=1.03s, eta=2:11:10\n",
      "2022-05-03 11:03:23 [INFO]\t[TRAIN] Epoch=32/270, Step=21/35, loss=23.458639, lr=0.000125, time_each_step=0.79s, eta=2:11:4\n",
      "2022-05-03 11:03:25 [INFO]\t[TRAIN] Epoch=32/270, Step=23/35, loss=14.516602, lr=0.000125, time_each_step=0.77s, eta=2:11:2\n",
      "2022-05-03 11:03:27 [INFO]\t[TRAIN] Epoch=32/270, Step=25/35, loss=15.767622, lr=0.000125, time_each_step=0.81s, eta=2:11:1\n",
      "2022-05-03 11:03:29 [INFO]\t[TRAIN] Epoch=32/270, Step=27/35, loss=7.565502, lr=0.000125, time_each_step=0.81s, eta=2:11:0\n",
      "2022-05-03 11:03:30 [INFO]\t[TRAIN] Epoch=32/270, Step=29/35, loss=13.96142, lr=0.000125, time_each_step=0.81s, eta=2:10:58\n"
     ]
    },
    {
     "name": "stderr",
     "output_type": "stream",
     "text": [
      "libpng warning: iCCP: known incorrect sRGB profile\n"
     ]
    },
    {
     "name": "stdout",
     "output_type": "stream",
     "text": [
      "2022-05-03 11:03:32 [INFO]\t[TRAIN] Epoch=32/270, Step=31/35, loss=14.126758, lr=0.000125, time_each_step=0.79s, eta=2:10:56\n",
      "2022-05-03 11:03:34 [INFO]\t[TRAIN] Epoch=32/270, Step=33/35, loss=21.222128, lr=0.000125, time_each_step=0.81s, eta=2:10:55\n",
      "2022-05-03 11:03:36 [INFO]\t[TRAIN] Epoch=32/270, Step=35/35, loss=16.868111, lr=0.000125, time_each_step=0.85s, eta=2:10:53\n",
      "2022-05-03 11:03:36 [INFO]\t[TRAIN] Epoch 32 finished, loss=15.389434, lr=0.000125 .\n",
      "2022-05-03 11:03:44 [INFO]\t[TRAIN] Epoch=33/270, Step=2/35, loss=14.630507, lr=0.000125, time_each_step=1.17s, eta=2:17:34\n",
      "2022-05-03 11:03:46 [INFO]\t[TRAIN] Epoch=33/270, Step=4/35, loss=19.019287, lr=0.000125, time_each_step=1.22s, eta=2:17:34\n"
     ]
    },
    {
     "name": "stderr",
     "output_type": "stream",
     "text": [
      "libpng warning: iCCP: known incorrect sRGB profile\n"
     ]
    },
    {
     "name": "stdout",
     "output_type": "stream",
     "text": [
      "2022-05-03 11:03:49 [INFO]\t[TRAIN] Epoch=33/270, Step=6/35, loss=17.124897, lr=0.000125, time_each_step=1.27s, eta=2:17:33\n",
      "2022-05-03 11:03:51 [INFO]\t[TRAIN] Epoch=33/270, Step=8/35, loss=12.124003, lr=0.000125, time_each_step=1.28s, eta=2:17:30\n",
      "2022-05-03 11:03:52 [INFO]\t[TRAIN] Epoch=33/270, Step=10/35, loss=16.104401, lr=0.000125, time_each_step=1.24s, eta=2:17:27\n",
      "2022-05-03 11:03:54 [INFO]\t[TRAIN] Epoch=33/270, Step=12/35, loss=18.159027, lr=0.000125, time_each_step=1.24s, eta=2:17:24\n",
      "2022-05-03 11:03:55 [INFO]\t[TRAIN] Epoch=33/270, Step=14/35, loss=11.224055, lr=0.000125, time_each_step=1.23s, eta=2:17:22\n",
      "2022-05-03 11:03:57 [INFO]\t[TRAIN] Epoch=33/270, Step=16/35, loss=17.749681, lr=0.000125, time_each_step=1.23s, eta=2:17:19\n",
      "2022-05-03 11:03:59 [INFO]\t[TRAIN] Epoch=33/270, Step=18/35, loss=17.013828, lr=0.000125, time_each_step=1.27s, eta=2:17:17\n",
      "2022-05-03 11:04:01 [INFO]\t[TRAIN] Epoch=33/270, Step=20/35, loss=17.123878, lr=0.000125, time_each_step=1.25s, eta=2:17:15\n",
      "2022-05-03 11:04:02 [INFO]\t[TRAIN] Epoch=33/270, Step=22/35, loss=16.477354, lr=0.000125, time_each_step=0.93s, eta=2:17:8\n",
      "2022-05-03 11:04:04 [INFO]\t[TRAIN] Epoch=33/270, Step=24/35, loss=11.416187, lr=0.000125, time_each_step=0.88s, eta=2:17:5\n",
      "2022-05-03 11:04:06 [INFO]\t[TRAIN] Epoch=33/270, Step=26/35, loss=9.289582, lr=0.000125, time_each_step=0.82s, eta=2:17:3\n"
     ]
    },
    {
     "name": "stderr",
     "output_type": "stream",
     "text": [
      "libpng warning: iCCP: known incorrect sRGB profile\n"
     ]
    },
    {
     "name": "stdout",
     "output_type": "stream",
     "text": [
      "2022-05-03 11:04:08 [INFO]\t[TRAIN] Epoch=33/270, Step=28/35, loss=16.227047, lr=0.000125, time_each_step=0.87s, eta=2:17:2\n",
      "2022-05-03 11:04:10 [INFO]\t[TRAIN] Epoch=33/270, Step=30/35, loss=14.079397, lr=0.000125, time_each_step=0.87s, eta=2:17:0\n",
      "2022-05-03 11:04:12 [INFO]\t[TRAIN] Epoch=33/270, Step=32/35, loss=11.52721, lr=0.000125, time_each_step=0.89s, eta=2:16:58\n",
      "2022-05-03 11:04:14 [INFO]\t[TRAIN] Epoch=33/270, Step=34/35, loss=21.506058, lr=0.000125, time_each_step=0.92s, eta=2:16:57\n",
      "2022-05-03 11:04:15 [INFO]\t[TRAIN] Epoch 33 finished, loss=15.237688, lr=0.000125 .\n",
      "2022-05-03 11:04:21 [INFO]\t[TRAIN] Epoch=34/270, Step=1/35, loss=13.646451, lr=0.000125, time_each_step=1.22s, eta=2:35:0\n",
      "2022-05-03 11:04:23 [INFO]\t[TRAIN] Epoch=34/270, Step=3/35, loss=13.699035, lr=0.000125, time_each_step=1.21s, eta=2:34:57\n"
     ]
    },
    {
     "name": "stderr",
     "output_type": "stream",
     "text": [
      "libpng warning: iCCP: known incorrect sRGB profile\n"
     ]
    },
    {
     "name": "stdout",
     "output_type": "stream",
     "text": [
      "2022-05-03 11:04:26 [INFO]\t[TRAIN] Epoch=34/270, Step=5/35, loss=19.227091, lr=0.000125, time_each_step=1.23s, eta=2:34:55\n",
      "2022-05-03 11:04:27 [INFO]\t[TRAIN] Epoch=34/270, Step=7/35, loss=14.214051, lr=0.000125, time_each_step=1.24s, eta=2:34:53\n",
      "2022-05-03 11:04:28 [INFO]\t[TRAIN] Epoch=34/270, Step=9/35, loss=11.518396, lr=0.000125, time_each_step=1.22s, eta=2:34:50\n",
      "2022-05-03 11:04:30 [INFO]\t[TRAIN] Epoch=34/270, Step=11/35, loss=21.586941, lr=0.000125, time_each_step=1.2s, eta=2:34:47\n",
      "2022-05-03 11:04:32 [INFO]\t[TRAIN] Epoch=34/270, Step=13/35, loss=17.341265, lr=0.000125, time_each_step=1.19s, eta=2:34:45\n",
      "2022-05-03 11:04:33 [INFO]\t[TRAIN] Epoch=34/270, Step=15/35, loss=9.384926, lr=0.000125, time_each_step=1.17s, eta=2:34:42\n",
      "2022-05-03 11:04:35 [INFO]\t[TRAIN] Epoch=34/270, Step=17/35, loss=14.557995, lr=0.000125, time_each_step=1.17s, eta=2:34:39\n",
      "2022-05-03 11:04:37 [INFO]\t[TRAIN] Epoch=34/270, Step=19/35, loss=14.172729, lr=0.000125, time_each_step=1.16s, eta=2:34:37\n",
      "2022-05-03 11:04:38 [INFO]\t[TRAIN] Epoch=34/270, Step=21/35, loss=14.89055, lr=0.000125, time_each_step=0.87s, eta=2:34:31\n",
      "2022-05-03 11:04:40 [INFO]\t[TRAIN] Epoch=34/270, Step=23/35, loss=11.484021, lr=0.000125, time_each_step=0.82s, eta=2:34:28\n",
      "2022-05-03 11:04:41 [INFO]\t[TRAIN] Epoch=34/270, Step=25/35, loss=20.639933, lr=0.000125, time_each_step=0.78s, eta=2:34:26\n",
      "2022-05-03 11:04:42 [INFO]\t[TRAIN] Epoch=34/270, Step=27/35, loss=16.511665, lr=0.000125, time_each_step=0.77s, eta=2:34:25\n"
     ]
    },
    {
     "name": "stderr",
     "output_type": "stream",
     "text": [
      "libpng warning: iCCP: known incorrect sRGB profile\n"
     ]
    },
    {
     "name": "stdout",
     "output_type": "stream",
     "text": [
      "2022-05-03 11:04:45 [INFO]\t[TRAIN] Epoch=34/270, Step=29/35, loss=16.431553, lr=0.000125, time_each_step=0.8s, eta=2:34:23\n",
      "2022-05-03 11:04:46 [INFO]\t[TRAIN] Epoch=34/270, Step=31/35, loss=14.323608, lr=0.000125, time_each_step=0.79s, eta=2:34:22\n",
      "2022-05-03 11:04:48 [INFO]\t[TRAIN] Epoch=34/270, Step=33/35, loss=19.844028, lr=0.000125, time_each_step=0.81s, eta=2:34:20\n",
      "2022-05-03 11:04:50 [INFO]\t[TRAIN] Epoch=34/270, Step=35/35, loss=15.154577, lr=0.000125, time_each_step=0.84s, eta=2:34:18\n",
      "2022-05-03 11:04:50 [INFO]\t[TRAIN] Epoch 34 finished, loss=14.639148, lr=0.000125 .\n",
      "2022-05-03 11:04:58 [INFO]\t[TRAIN] Epoch=35/270, Step=2/35, loss=12.514204, lr=0.000125, time_each_step=1.17s, eta=2:21:3"
     ]
    },
    {
     "name": "stderr",
     "output_type": "stream",
     "text": [
      "libpng warning: iCCP: known incorrect sRGB profile\n"
     ]
    },
    {
     "name": "stdout",
     "output_type": "stream",
     "text": [
      "\n",
      "2022-05-03 11:05:00 [INFO]\t[TRAIN] Epoch=35/270, Step=4/35, loss=18.66223, lr=0.000125, time_each_step=1.17s, eta=2:21:0\n",
      "2022-05-03 11:05:02 [INFO]\t[TRAIN] Epoch=35/270, Step=6/35, loss=15.140382, lr=0.000125, time_each_step=1.18s, eta=2:20:59\n",
      "2022-05-03 11:05:04 [INFO]\t[TRAIN] Epoch=35/270, Step=8/35, loss=9.950793, lr=0.000125, time_each_step=1.21s, eta=2:20:57\n",
      "2022-05-03 11:05:06 [INFO]\t[TRAIN] Epoch=35/270, Step=10/35, loss=14.263372, lr=0.000125, time_each_step=1.23s, eta=2:20:55\n",
      "2022-05-03 11:05:07 [INFO]\t[TRAIN] Epoch=35/270, Step=12/35, loss=14.21506, lr=0.000125, time_each_step=1.23s, eta=2:20:52\n",
      "2022-05-03 11:05:08 [INFO]\t[TRAIN] Epoch=35/270, Step=14/35, loss=17.018209, lr=0.000125, time_each_step=1.19s, eta=2:20:49\n",
      "2022-05-03 11:05:10 [INFO]\t[TRAIN] Epoch=35/270, Step=16/35, loss=9.875027, lr=0.000125, time_each_step=1.23s, eta=2:20:48\n",
      "2022-05-03 11:05:12 [INFO]\t[TRAIN] Epoch=35/270, Step=18/35, loss=14.308356, lr=0.000125, time_each_step=1.17s, eta=2:20:44\n",
      "2022-05-03 11:05:13 [INFO]\t[TRAIN] Epoch=35/270, Step=20/35, loss=14.569304, lr=0.000125, time_each_step=1.16s, eta=2:20:42\n",
      "2022-05-03 11:05:14 [INFO]\t[TRAIN] Epoch=35/270, Step=22/35, loss=14.632445, lr=0.000125, time_each_step=0.8s, eta=2:20:35\n",
      "2022-05-03 11:05:16 [INFO]\t[TRAIN] Epoch=35/270, Step=24/35, loss=13.33906, lr=0.000125, time_each_step=0.77s, eta=2:20:33\n",
      "2022-05-03 11:05:18 [INFO]\t[TRAIN] Epoch=35/270, Step=26/35, loss=12.054604, lr=0.000125, time_each_step=0.78s, eta=2:20:31\n",
      "2022-05-03 11:05:19 [INFO]\t[TRAIN] Epoch=35/270, Step=28/35, loss=17.294601, lr=0.000125, time_each_step=0.75s, eta=2:20:29\n"
     ]
    },
    {
     "name": "stderr",
     "output_type": "stream",
     "text": [
      "libpng warning: iCCP: known incorrect sRGB profile\n"
     ]
    },
    {
     "name": "stdout",
     "output_type": "stream",
     "text": [
      "2022-05-03 11:05:21 [INFO]\t[TRAIN] Epoch=35/270, Step=30/35, loss=16.337042, lr=0.000125, time_each_step=0.77s, eta=2:20:28\n",
      "2022-05-03 11:05:23 [INFO]\t[TRAIN] Epoch=35/270, Step=32/35, loss=14.540588, lr=0.000125, time_each_step=0.78s, eta=2:20:26\n",
      "2022-05-03 11:05:25 [INFO]\t[TRAIN] Epoch=35/270, Step=34/35, loss=14.714099, lr=0.000125, time_each_step=0.83s, eta=2:20:25\n",
      "2022-05-03 11:05:26 [INFO]\t[TRAIN] Epoch 35 finished, loss=14.648406, lr=0.000125 .\n",
      "2022-05-03 11:05:33 [INFO]\t[TRAIN] Epoch=36/270, Step=1/35, loss=11.657915, lr=0.000125, time_each_step=1.11s, eta=2:21:27\n",
      "2022-05-03 11:05:34 [INFO]\t[TRAIN] Epoch=36/270, Step=3/35, loss=13.966144, lr=0.000125, time_each_step=1.11s, eta=2:21:25\n"
     ]
    },
    {
     "name": "stderr",
     "output_type": "stream",
     "text": [
      "libpng warning: iCCP: known incorrect sRGB profile\n"
     ]
    },
    {
     "name": "stdout",
     "output_type": "stream",
     "text": [
      "2022-05-03 11:05:37 [INFO]\t[TRAIN] Epoch=36/270, Step=5/35, loss=13.857469, lr=0.000125, time_each_step=1.17s, eta=2:21:24\n",
      "2022-05-03 11:05:38 [INFO]\t[TRAIN] Epoch=36/270, Step=7/35, loss=12.791827, lr=0.000125, time_each_step=1.17s, eta=2:21:22\n",
      "2022-05-03 11:05:40 [INFO]\t[TRAIN] Epoch=36/270, Step=9/35, loss=12.123943, lr=0.000125, time_each_step=1.19s, eta=2:21:20\n",
      "2022-05-03 11:05:41 [INFO]\t[TRAIN] Epoch=36/270, Step=11/35, loss=14.717545, lr=0.000125, time_each_step=1.16s, eta=2:21:17\n",
      "2022-05-03 11:05:42 [INFO]\t[TRAIN] Epoch=36/270, Step=13/35, loss=17.760075, lr=0.000125, time_each_step=1.14s, eta=2:21:15\n",
      "2022-05-03 11:05:43 [INFO]\t[TRAIN] Epoch=36/270, Step=15/35, loss=11.009386, lr=0.000125, time_each_step=1.11s, eta=2:21:12\n",
      "2022-05-03 11:05:45 [INFO]\t[TRAIN] Epoch=36/270, Step=17/35, loss=9.881939, lr=0.000125, time_each_step=1.08s, eta=2:21:9\n",
      "2022-05-03 11:05:46 [INFO]\t[TRAIN] Epoch=36/270, Step=19/35, loss=12.279612, lr=0.000125, time_each_step=1.05s, eta=2:21:6\n",
      "2022-05-03 11:05:48 [INFO]\t[TRAIN] Epoch=36/270, Step=21/35, loss=19.894814, lr=0.000125, time_each_step=0.75s, eta=2:21:0\n",
      "2022-05-03 11:05:50 [INFO]\t[TRAIN] Epoch=36/270, Step=23/35, loss=10.267368, lr=0.000125, time_each_step=0.79s, eta=2:20:59\n",
      "2022-05-03 11:05:51 [INFO]\t[TRAIN] Epoch=36/270, Step=25/35, loss=17.591591, lr=0.000125, time_each_step=0.73s, eta=2:20:57\n",
      "2022-05-03 11:05:53 [INFO]\t[TRAIN] Epoch=36/270, Step=27/35, loss=11.567624, lr=0.000125, time_each_step=0.74s, eta=2:20:55\n",
      "2022-05-03 11:05:55 [INFO]\t[TRAIN] Epoch=36/270, Step=29/35, loss=19.815254, lr=0.000125, time_each_step=0.75s, eta=2:20:54\n",
      "2022-05-03 11:05:57 [INFO]\t[TRAIN] Epoch=36/270, Step=31/35, loss=12.633366, lr=0.000125, time_each_step=0.81s, eta=2:20:53\n"
     ]
    },
    {
     "name": "stderr",
     "output_type": "stream",
     "text": [
      "libpng warning: iCCP: known incorrect sRGB profile\n"
     ]
    },
    {
     "name": "stdout",
     "output_type": "stream",
     "text": [
      "2022-05-03 11:05:59 [INFO]\t[TRAIN] Epoch=36/270, Step=33/35, loss=15.730471, lr=0.000125, time_each_step=0.85s, eta=2:20:51\n",
      "2022-05-03 11:06:02 [INFO]\t[TRAIN] Epoch=36/270, Step=35/35, loss=14.027869, lr=0.000125, time_each_step=0.91s, eta=2:20:49\n",
      "2022-05-03 11:06:02 [INFO]\t[TRAIN] Epoch 36 finished, loss=14.014367, lr=0.000125 .\n",
      "2022-05-03 11:06:09 [INFO]\t[TRAIN] Epoch=37/270, Step=2/35, loss=12.387958, lr=0.000125, time_each_step=1.19s, eta=2:22:47\n",
      "2022-05-03 11:06:10 [INFO]\t[TRAIN] Epoch=37/270, Step=4/35, loss=12.645991, lr=0.000125, time_each_step=1.21s, eta=2:22:45\n"
     ]
    },
    {
     "name": "stderr",
     "output_type": "stream",
     "text": [
      "libpng warning: iCCP: known incorrect sRGB profile\n"
     ]
    },
    {
     "name": "stdout",
     "output_type": "stream",
     "text": [
      "2022-05-03 11:06:12 [INFO]\t[TRAIN] Epoch=37/270, Step=6/35, loss=15.080561, lr=0.000125, time_each_step=1.2s, eta=2:22:43\n",
      "2022-05-03 11:06:13 [INFO]\t[TRAIN] Epoch=37/270, Step=8/35, loss=15.087222, lr=0.000125, time_each_step=1.15s, eta=2:22:39\n",
      "2022-05-03 11:06:14 [INFO]\t[TRAIN] Epoch=37/270, Step=10/35, loss=15.716546, lr=0.000125, time_each_step=1.16s, eta=2:22:37\n",
      "2022-05-03 11:06:16 [INFO]\t[TRAIN] Epoch=37/270, Step=12/35, loss=12.898614, lr=0.000125, time_each_step=1.16s, eta=2:22:34\n",
      "2022-05-03 11:06:17 [INFO]\t[TRAIN] Epoch=37/270, Step=14/35, loss=11.816764, lr=0.000125, time_each_step=1.12s, eta=2:22:31\n",
      "2022-05-03 11:06:19 [INFO]\t[TRAIN] Epoch=37/270, Step=16/35, loss=15.900786, lr=0.000125, time_each_step=1.07s, eta=2:22:28\n",
      "2022-05-03 11:06:21 [INFO]\t[TRAIN] Epoch=37/270, Step=18/35, loss=17.670107, lr=0.000125, time_each_step=1.09s, eta=2:22:26\n",
      "2022-05-03 11:06:23 [INFO]\t[TRAIN] Epoch=37/270, Step=20/35, loss=14.016577, lr=0.000125, time_each_step=1.06s, eta=2:22:23\n",
      "2022-05-03 11:06:24 [INFO]\t[TRAIN] Epoch=37/270, Step=22/35, loss=17.006084, lr=0.000125, time_each_step=0.78s, eta=2:22:18\n",
      "2022-05-03 11:06:26 [INFO]\t[TRAIN] Epoch=37/270, Step=24/35, loss=11.70278, lr=0.000125, time_each_step=0.77s, eta=2:22:16\n",
      "2022-05-03 11:06:27 [INFO]\t[TRAIN] Epoch=37/270, Step=26/35, loss=16.694717, lr=0.000125, time_each_step=0.77s, eta=2:22:15\n"
     ]
    },
    {
     "name": "stderr",
     "output_type": "stream",
     "text": [
      "libpng warning: iCCP: known incorrect sRGB profile\n"
     ]
    },
    {
     "name": "stdout",
     "output_type": "stream",
     "text": [
      "2022-05-03 11:06:29 [INFO]\t[TRAIN] Epoch=37/270, Step=28/35, loss=11.11445, lr=0.000125, time_each_step=0.81s, eta=2:22:13\n",
      "2022-05-03 11:06:30 [INFO]\t[TRAIN] Epoch=37/270, Step=30/35, loss=21.923073, lr=0.000125, time_each_step=0.79s, eta=2:22:12\n",
      "2022-05-03 11:06:32 [INFO]\t[TRAIN] Epoch=37/270, Step=32/35, loss=11.855327, lr=0.000125, time_each_step=0.8s, eta=2:22:10\n",
      "2022-05-03 11:06:34 [INFO]\t[TRAIN] Epoch=37/270, Step=34/35, loss=14.00688, lr=0.000125, time_each_step=0.83s, eta=2:22:8\n",
      "2022-05-03 11:06:35 [INFO]\t[TRAIN] Epoch 37 finished, loss=13.348264, lr=0.000125 .\n",
      "2022-05-03 11:06:42 [INFO]\t[TRAIN] Epoch=38/270, Step=1/35, loss=15.750451, lr=0.000125, time_each_step=1.11s, eta=2:11:23\n",
      "2022-05-03 11:06:44 [INFO]\t[TRAIN] Epoch=38/270, Step=3/35, loss=11.965413, lr=0.000125, time_each_step=1.1s, eta=2:11:20\n",
      "2022-05-03 11:06:45 [INFO]\t[TRAIN] Epoch=38/270, Step=5/35, loss=13.909582, lr=0.000125, time_each_step=1.11s, eta=2:11:19\n"
     ]
    },
    {
     "name": "stderr",
     "output_type": "stream",
     "text": [
      "libpng warning: iCCP: known incorrect sRGB profile\n"
     ]
    },
    {
     "name": "stdout",
     "output_type": "stream",
     "text": [
      "2022-05-03 11:06:47 [INFO]\t[TRAIN] Epoch=38/270, Step=7/35, loss=13.816614, lr=0.000125, time_each_step=1.13s, eta=2:11:17\n",
      "2022-05-03 11:06:49 [INFO]\t[TRAIN] Epoch=38/270, Step=9/35, loss=16.787888, lr=0.000125, time_each_step=1.15s, eta=2:11:15\n",
      "2022-05-03 11:06:51 [INFO]\t[TRAIN] Epoch=38/270, Step=11/35, loss=13.777842, lr=0.000125, time_each_step=1.17s, eta=2:11:13\n",
      "2022-05-03 11:06:53 [INFO]\t[TRAIN] Epoch=38/270, Step=13/35, loss=17.153421, lr=0.000125, time_each_step=1.17s, eta=2:11:11\n",
      "2022-05-03 11:06:55 [INFO]\t[TRAIN] Epoch=38/270, Step=15/35, loss=8.369063, lr=0.000125, time_each_step=1.22s, eta=2:11:10\n",
      "2022-05-03 11:06:57 [INFO]\t[TRAIN] Epoch=38/270, Step=17/35, loss=17.311899, lr=0.000125, time_each_step=1.21s, eta=2:11:7\n",
      "2022-05-03 11:06:59 [INFO]\t[TRAIN] Epoch=38/270, Step=19/35, loss=21.735525, lr=0.000125, time_each_step=1.22s, eta=2:11:5\n",
      "2022-05-03 11:07:00 [INFO]\t[TRAIN] Epoch=38/270, Step=21/35, loss=12.953821, lr=0.000125, time_each_step=0.93s, eta=2:10:58\n",
      "2022-05-03 11:07:02 [INFO]\t[TRAIN] Epoch=38/270, Step=23/35, loss=12.949108, lr=0.000125, time_each_step=0.9s, eta=2:10:56\n",
      "2022-05-03 11:07:03 [INFO]\t[TRAIN] Epoch=38/270, Step=25/35, loss=12.376965, lr=0.000125, time_each_step=0.89s, eta=2:10:54\n",
      "2022-05-03 11:07:05 [INFO]\t[TRAIN] Epoch=38/270, Step=27/35, loss=17.431999, lr=0.000125, time_each_step=0.86s, eta=2:10:52\n",
      "2022-05-03 11:07:07 [INFO]\t[TRAIN] Epoch=38/270, Step=29/35, loss=20.153267, lr=0.000125, time_each_step=0.89s, eta=2:10:50\n"
     ]
    },
    {
     "name": "stderr",
     "output_type": "stream",
     "text": [
      "libpng warning: iCCP: known incorrect sRGB profile\n"
     ]
    },
    {
     "name": "stdout",
     "output_type": "stream",
     "text": [
      "2022-05-03 11:07:10 [INFO]\t[TRAIN] Epoch=38/270, Step=31/35, loss=13.907059, lr=0.000125, time_each_step=0.93s, eta=2:10:49\n",
      "2022-05-03 11:07:11 [INFO]\t[TRAIN] Epoch=38/270, Step=33/35, loss=11.582846, lr=0.000125, time_each_step=0.91s, eta=2:10:47\n",
      "2022-05-03 11:07:14 [INFO]\t[TRAIN] Epoch=38/270, Step=35/35, loss=12.257321, lr=0.000125, time_each_step=0.92s, eta=2:10:45\n",
      "2022-05-03 11:07:14 [INFO]\t[TRAIN] Epoch 38 finished, loss=13.992899, lr=0.000125 .\n",
      "2022-05-03 11:07:22 [INFO]\t[TRAIN] Epoch=39/270, Step=2/35, loss=11.598082, lr=0.000125, time_each_step=1.26s, eta=2:31:32\n",
      "2022-05-03 11:07:24 [INFO]\t[TRAIN] Epoch=39/270, Step=4/35, loss=21.972965, lr=0.000125, time_each_step=1.28s, eta=2:31:30\n"
     ]
    },
    {
     "name": "stderr",
     "output_type": "stream",
     "text": [
      "libpng warning: iCCP: known incorrect sRGB profile\n"
     ]
    },
    {
     "name": "stdout",
     "output_type": "stream",
     "text": [
      "2022-05-03 11:07:26 [INFO]\t[TRAIN] Epoch=39/270, Step=6/35, loss=11.893448, lr=0.000125, time_each_step=1.27s, eta=2:31:27\n",
      "2022-05-03 11:07:28 [INFO]\t[TRAIN] Epoch=39/270, Step=8/35, loss=13.023855, lr=0.000125, time_each_step=1.33s, eta=2:31:26\n",
      "2022-05-03 11:07:30 [INFO]\t[TRAIN] Epoch=39/270, Step=10/35, loss=20.726101, lr=0.000125, time_each_step=1.31s, eta=2:31:23\n",
      "2022-05-03 11:07:31 [INFO]\t[TRAIN] Epoch=39/270, Step=12/35, loss=12.878865, lr=0.000125, time_each_step=1.31s, eta=2:31:20\n",
      "2022-05-03 11:07:32 [INFO]\t[TRAIN] Epoch=39/270, Step=14/35, loss=10.596225, lr=0.000125, time_each_step=1.26s, eta=2:31:17\n",
      "2022-05-03 11:07:34 [INFO]\t[TRAIN] Epoch=39/270, Step=16/35, loss=11.973933, lr=0.000125, time_each_step=1.19s, eta=2:31:13\n",
      "2022-05-03 11:07:35 [INFO]\t[TRAIN] Epoch=39/270, Step=18/35, loss=10.550548, lr=0.000125, time_each_step=1.17s, eta=2:31:10\n",
      "2022-05-03 11:07:36 [INFO]\t[TRAIN] Epoch=39/270, Step=20/35, loss=14.96569, lr=0.000125, time_each_step=1.13s, eta=2:31:7\n",
      "2022-05-03 11:07:38 [INFO]\t[TRAIN] Epoch=39/270, Step=22/35, loss=15.636461, lr=0.000125, time_each_step=0.77s, eta=2:31:0\n",
      "2022-05-03 11:07:39 [INFO]\t[TRAIN] Epoch=39/270, Step=24/35, loss=9.298683, lr=0.000125, time_each_step=0.75s, eta=2:30:58\n",
      "2022-05-03 11:07:41 [INFO]\t[TRAIN] Epoch=39/270, Step=26/35, loss=11.442241, lr=0.000125, time_each_step=0.75s, eta=2:30:57\n",
      "2022-05-03 11:07:43 [INFO]\t[TRAIN] Epoch=39/270, Step=28/35, loss=22.308353, lr=0.000125, time_each_step=0.71s, eta=2:30:55\n"
     ]
    },
    {
     "name": "stderr",
     "output_type": "stream",
     "text": [
      "libpng warning: iCCP: known incorrect sRGB profile\n"
     ]
    },
    {
     "name": "stdout",
     "output_type": "stream",
     "text": [
      "2022-05-03 11:07:44 [INFO]\t[TRAIN] Epoch=39/270, Step=30/35, loss=19.238712, lr=0.000125, time_each_step=0.74s, eta=2:30:54\n",
      "2022-05-03 11:07:46 [INFO]\t[TRAIN] Epoch=39/270, Step=32/35, loss=9.956201, lr=0.000125, time_each_step=0.75s, eta=2:30:52\n",
      "2022-05-03 11:07:47 [INFO]\t[TRAIN] Epoch=39/270, Step=34/35, loss=13.70679, lr=0.000125, time_each_step=0.76s, eta=2:30:51\n",
      "2022-05-03 11:07:48 [INFO]\t[TRAIN] Epoch 39 finished, loss=13.4284, lr=0.000125 .\n",
      "2022-05-03 11:07:54 [INFO]\t[TRAIN] Epoch=40/270, Step=1/35, loss=7.935153, lr=0.000125, time_each_step=1.02s, eta=2:15:23\n",
      "2022-05-03 11:07:56 [INFO]\t[TRAIN] Epoch=40/270, Step=3/35, loss=12.601057, lr=0.000125, time_each_step=1.02s, eta=2:15:21\n",
      "2022-05-03 11:07:57 [INFO]\t[TRAIN] Epoch=40/270, Step=5/35, loss=20.439293, lr=0.000125, time_each_step=1.02s, eta=2:15:19\n"
     ]
    },
    {
     "name": "stderr",
     "output_type": "stream",
     "text": [
      "libpng warning: iCCP: known incorrect sRGB profile\n"
     ]
    },
    {
     "name": "stdout",
     "output_type": "stream",
     "text": [
      "2022-05-03 11:07:59 [INFO]\t[TRAIN] Epoch=40/270, Step=7/35, loss=17.086519, lr=0.000125, time_each_step=1.03s, eta=2:15:17\n",
      "2022-05-03 11:08:01 [INFO]\t[TRAIN] Epoch=40/270, Step=9/35, loss=13.582, lr=0.000125, time_each_step=1.07s, eta=2:15:16\n",
      "2022-05-03 11:08:02 [INFO]\t[TRAIN] Epoch=40/270, Step=11/35, loss=8.617854, lr=0.000125, time_each_step=1.06s, eta=2:15:13\n",
      "2022-05-03 11:08:04 [INFO]\t[TRAIN] Epoch=40/270, Step=13/35, loss=17.72625, lr=0.000125, time_each_step=1.05s, eta=2:15:11\n",
      "2022-05-03 11:08:06 [INFO]\t[TRAIN] Epoch=40/270, Step=15/35, loss=10.436158, lr=0.000125, time_each_step=1.05s, eta=2:15:9\n",
      "2022-05-03 11:08:07 [INFO]\t[TRAIN] Epoch=40/270, Step=17/35, loss=8.385706, lr=0.000125, time_each_step=1.05s, eta=2:15:7\n",
      "2022-05-03 11:08:09 [INFO]\t[TRAIN] Epoch=40/270, Step=19/35, loss=11.047173, lr=0.000125, time_each_step=1.04s, eta=2:15:5\n",
      "2022-05-03 11:08:10 [INFO]\t[TRAIN] Epoch=40/270, Step=21/35, loss=18.07057, lr=0.000125, time_each_step=0.78s, eta=2:14:59\n",
      "2022-05-03 11:08:11 [INFO]\t[TRAIN] Epoch=40/270, Step=23/35, loss=10.867401, lr=0.000125, time_each_step=0.77s, eta=2:14:57\n",
      "2022-05-03 11:08:13 [INFO]\t[TRAIN] Epoch=40/270, Step=25/35, loss=16.72312, lr=0.000125, time_each_step=0.77s, eta=2:14:56\n",
      "2022-05-03 11:08:14 [INFO]\t[TRAIN] Epoch=40/270, Step=27/35, loss=14.517741, lr=0.000125, time_each_step=0.77s, eta=2:14:54\n",
      "2022-05-03 11:08:16 [INFO]\t[TRAIN] Epoch=40/270, Step=29/35, loss=11.7633, lr=0.000125, time_each_step=0.75s, eta=2:14:52\n",
      "2022-05-03 11:08:17 [INFO]\t[TRAIN] Epoch=40/270, Step=31/35, loss=11.517335, lr=0.000125, time_each_step=0.74s, eta=2:14:51\n"
     ]
    },
    {
     "name": "stderr",
     "output_type": "stream",
     "text": [
      "libpng warning: iCCP: known incorrect sRGB profile\n"
     ]
    },
    {
     "name": "stdout",
     "output_type": "stream",
     "text": [
      "2022-05-03 11:08:19 [INFO]\t[TRAIN] Epoch=40/270, Step=33/35, loss=10.987035, lr=0.000125, time_each_step=0.74s, eta=2:14:49\n",
      "2022-05-03 11:08:21 [INFO]\t[TRAIN] Epoch=40/270, Step=35/35, loss=10.734714, lr=0.000125, time_each_step=0.76s, eta=2:14:48\n",
      "2022-05-03 11:08:22 [INFO]\t[TRAIN] Epoch 40 finished, loss=13.399297, lr=0.000125 .\n",
      "2022-05-03 11:08:30 [INFO]\t[TRAIN] Epoch=41/270, Step=2/35, loss=9.044995, lr=0.000125, time_each_step=1.05s, eta=2:12:37\n"
     ]
    },
    {
     "name": "stderr",
     "output_type": "stream",
     "text": [
      "libpng warning: iCCP: known incorrect sRGB profile\n"
     ]
    },
    {
     "name": "stdout",
     "output_type": "stream",
     "text": [
      "2022-05-03 11:08:33 [INFO]\t[TRAIN] Epoch=41/270, Step=4/35, loss=9.970857, lr=0.000125, time_each_step=1.13s, eta=2:12:37\n",
      "2022-05-03 11:08:35 [INFO]\t[TRAIN] Epoch=41/270, Step=6/35, loss=15.057981, lr=0.000125, time_each_step=1.16s, eta=2:12:36\n",
      "2022-05-03 11:08:37 [INFO]\t[TRAIN] Epoch=41/270, Step=8/35, loss=13.64224, lr=0.000125, time_each_step=1.19s, eta=2:12:34\n",
      "2022-05-03 11:08:38 [INFO]\t[TRAIN] Epoch=41/270, Step=10/35, loss=13.174673, lr=0.000125, time_each_step=1.21s, eta=2:12:32\n",
      "2022-05-03 11:08:40 [INFO]\t[TRAIN] Epoch=41/270, Step=12/35, loss=13.726391, lr=0.000125, time_each_step=1.21s, eta=2:12:30\n",
      "2022-05-03 11:08:41 [INFO]\t[TRAIN] Epoch=41/270, Step=14/35, loss=15.897012, lr=0.000125, time_each_step=1.18s, eta=2:12:27\n",
      "2022-05-03 11:08:43 [INFO]\t[TRAIN] Epoch=41/270, Step=16/35, loss=14.094673, lr=0.000125, time_each_step=1.19s, eta=2:12:25\n",
      "2022-05-03 11:08:44 [INFO]\t[TRAIN] Epoch=41/270, Step=18/35, loss=8.864845, lr=0.000125, time_each_step=1.19s, eta=2:12:22\n",
      "2022-05-03 11:08:46 [INFO]\t[TRAIN] Epoch=41/270, Step=20/35, loss=11.525046, lr=0.000125, time_each_step=1.16s, eta=2:12:19\n",
      "2022-05-03 11:08:47 [INFO]\t[TRAIN] Epoch=41/270, Step=22/35, loss=10.02755, lr=0.000125, time_each_step=0.87s, eta=2:12:13\n",
      "2022-05-03 11:08:49 [INFO]\t[TRAIN] Epoch=41/270, Step=24/35, loss=17.083132, lr=0.000125, time_each_step=0.79s, eta=2:12:11\n",
      "2022-05-03 11:08:50 [INFO]\t[TRAIN] Epoch=41/270, Step=26/35, loss=14.860212, lr=0.000125, time_each_step=0.75s, eta=2:12:9\n"
     ]
    },
    {
     "name": "stderr",
     "output_type": "stream",
     "text": [
      "libpng warning: iCCP: known incorrect sRGB profile\n"
     ]
    },
    {
     "name": "stdout",
     "output_type": "stream",
     "text": [
      "2022-05-03 11:08:51 [INFO]\t[TRAIN] Epoch=41/270, Step=28/35, loss=14.886974, lr=0.000125, time_each_step=0.72s, eta=2:12:7\n",
      "2022-05-03 11:08:52 [INFO]\t[TRAIN] Epoch=41/270, Step=30/35, loss=13.798519, lr=0.000125, time_each_step=0.71s, eta=2:12:6\n",
      "2022-05-03 11:08:54 [INFO]\t[TRAIN] Epoch=41/270, Step=32/35, loss=9.753864, lr=0.000125, time_each_step=0.7s, eta=2:12:4\n",
      "2022-05-03 11:08:55 [INFO]\t[TRAIN] Epoch=41/270, Step=34/35, loss=16.12958, lr=0.000125, time_each_step=0.7s, eta=2:12:3\n",
      "2022-05-03 11:08:57 [INFO]\t[TRAIN] Epoch 41 finished, loss=13.38595, lr=0.000125 .\n",
      "2022-05-03 11:09:04 [INFO]\t[TRAIN] Epoch=42/270, Step=1/35, loss=12.900945, lr=0.000125, time_each_step=1.04s, eta=2:12:1\n"
     ]
    },
    {
     "name": "stderr",
     "output_type": "stream",
     "text": [
      "libpng warning: iCCP: known incorrect sRGB profile\n"
     ]
    },
    {
     "name": "stdout",
     "output_type": "stream",
     "text": [
      "2022-05-03 11:09:06 [INFO]\t[TRAIN] Epoch=42/270, Step=3/35, loss=17.340694, lr=0.000125, time_each_step=1.08s, eta=2:12:1\n",
      "2022-05-03 11:09:08 [INFO]\t[TRAIN] Epoch=42/270, Step=5/35, loss=14.673332, lr=0.000125, time_each_step=1.08s, eta=2:11:59\n",
      "2022-05-03 11:09:09 [INFO]\t[TRAIN] Epoch=42/270, Step=7/35, loss=16.666842, lr=0.000125, time_each_step=1.07s, eta=2:11:56\n",
      "2022-05-03 11:09:11 [INFO]\t[TRAIN] Epoch=42/270, Step=9/35, loss=8.906911, lr=0.000125, time_each_step=1.08s, eta=2:11:54\n",
      "2022-05-03 11:09:13 [INFO]\t[TRAIN] Epoch=42/270, Step=11/35, loss=10.543607, lr=0.000125, time_each_step=1.14s, eta=2:11:54\n",
      "2022-05-03 11:09:15 [INFO]\t[TRAIN] Epoch=42/270, Step=13/35, loss=9.940163, lr=0.000125, time_each_step=1.18s, eta=2:11:52\n",
      "2022-05-03 11:09:16 [INFO]\t[TRAIN] Epoch=42/270, Step=15/35, loss=12.356594, lr=0.000125, time_each_step=1.17s, eta=2:11:50\n",
      "2022-05-03 11:09:17 [INFO]\t[TRAIN] Epoch=42/270, Step=17/35, loss=12.843887, lr=0.000125, time_each_step=1.15s, eta=2:11:47\n",
      "2022-05-03 11:09:19 [INFO]\t[TRAIN] Epoch=42/270, Step=19/35, loss=20.972866, lr=0.000125, time_each_step=1.15s, eta=2:11:45\n",
      "2022-05-03 11:09:20 [INFO]\t[TRAIN] Epoch=42/270, Step=21/35, loss=9.085898, lr=0.000125, time_each_step=0.81s, eta=2:11:38\n",
      "2022-05-03 11:09:22 [INFO]\t[TRAIN] Epoch=42/270, Step=23/35, loss=14.42357, lr=0.000125, time_each_step=0.76s, eta=2:11:35\n"
     ]
    },
    {
     "name": "stderr",
     "output_type": "stream",
     "text": [
      "libpng warning: iCCP: known incorrect sRGB profile\n"
     ]
    },
    {
     "name": "stdout",
     "output_type": "stream",
     "text": [
      "2022-05-03 11:09:23 [INFO]\t[TRAIN] Epoch=42/270, Step=25/35, loss=18.204144, lr=0.000125, time_each_step=0.77s, eta=2:11:34\n",
      "2022-05-03 11:09:25 [INFO]\t[TRAIN] Epoch=42/270, Step=27/35, loss=10.363953, lr=0.000125, time_each_step=0.76s, eta=2:11:32\n",
      "2022-05-03 11:09:26 [INFO]\t[TRAIN] Epoch=42/270, Step=29/35, loss=16.996, lr=0.000125, time_each_step=0.76s, eta=2:11:31\n",
      "2022-05-03 11:09:28 [INFO]\t[TRAIN] Epoch=42/270, Step=31/35, loss=9.453943, lr=0.000125, time_each_step=0.72s, eta=2:11:29\n",
      "2022-05-03 11:09:29 [INFO]\t[TRAIN] Epoch=42/270, Step=33/35, loss=9.512603, lr=0.000125, time_each_step=0.7s, eta=2:11:28\n",
      "2022-05-03 11:09:31 [INFO]\t[TRAIN] Epoch=42/270, Step=35/35, loss=10.09249, lr=0.000125, time_each_step=0.7s, eta=2:11:26\n",
      "2022-05-03 11:09:31 [INFO]\t[TRAIN] Epoch 42 finished, loss=13.765388, lr=0.000125 .\n",
      "2022-05-03 11:09:38 [INFO]\t[TRAIN] Epoch=43/270, Step=2/35, loss=9.208406, lr=0.000125, time_each_step=1.04s, eta=2:11:9\n"
     ]
    },
    {
     "name": "stderr",
     "output_type": "stream",
     "text": [
      "libpng warning: iCCP: known incorrect sRGB profile\n"
     ]
    },
    {
     "name": "stdout",
     "output_type": "stream",
     "text": [
      "2022-05-03 11:09:40 [INFO]\t[TRAIN] Epoch=43/270, Step=4/35, loss=20.991129, lr=0.000125, time_each_step=1.04s, eta=2:11:7\n",
      "2022-05-03 11:09:41 [INFO]\t[TRAIN] Epoch=43/270, Step=6/35, loss=10.807687, lr=0.000125, time_each_step=1.05s, eta=2:11:5\n",
      "2022-05-03 11:09:43 [INFO]\t[TRAIN] Epoch=43/270, Step=8/35, loss=11.359182, lr=0.000125, time_each_step=1.06s, eta=2:11:3\n",
      "2022-05-03 11:09:45 [INFO]\t[TRAIN] Epoch=43/270, Step=10/35, loss=10.892043, lr=0.000125, time_each_step=1.06s, eta=2:11:1\n",
      "2022-05-03 11:09:46 [INFO]\t[TRAIN] Epoch=43/270, Step=12/35, loss=16.451395, lr=0.000125, time_each_step=1.06s, eta=2:10:59\n",
      "2022-05-03 11:09:47 [INFO]\t[TRAIN] Epoch=43/270, Step=14/35, loss=14.213024, lr=0.000125, time_each_step=1.08s, eta=2:10:57\n",
      "2022-05-03 11:09:48 [INFO]\t[TRAIN] Epoch=43/270, Step=16/35, loss=13.426773, lr=0.000125, time_each_step=1.03s, eta=2:10:54\n",
      "2022-05-03 11:09:50 [INFO]\t[TRAIN] Epoch=43/270, Step=18/35, loss=14.342675, lr=0.000125, time_each_step=1.06s, eta=2:10:53\n",
      "2022-05-03 11:09:52 [INFO]\t[TRAIN] Epoch=43/270, Step=20/35, loss=18.216299, lr=0.000125, time_each_step=1.06s, eta=2:10:51\n",
      "2022-05-03 11:09:53 [INFO]\t[TRAIN] Epoch=43/270, Step=22/35, loss=15.776592, lr=0.000125, time_each_step=0.76s, eta=2:10:45\n",
      "2022-05-03 11:09:56 [INFO]\t[TRAIN] Epoch=43/270, Step=24/35, loss=10.973881, lr=0.000125, time_each_step=0.82s, eta=2:10:44\n",
      "2022-05-03 11:09:58 [INFO]\t[TRAIN] Epoch=43/270, Step=26/35, loss=8.349196, lr=0.000125, time_each_step=0.83s, eta=2:10:42\n",
      "2022-05-03 11:10:00 [INFO]\t[TRAIN] Epoch=43/270, Step=28/35, loss=14.60322, lr=0.000125, time_each_step=0.84s, eta=2:10:41\n"
     ]
    },
    {
     "name": "stderr",
     "output_type": "stream",
     "text": [
      "libpng warning: iCCP: known incorrect sRGB profile\n"
     ]
    },
    {
     "name": "stdout",
     "output_type": "stream",
     "text": [
      "2022-05-03 11:10:02 [INFO]\t[TRAIN] Epoch=43/270, Step=30/35, loss=15.856537, lr=0.000125, time_each_step=0.86s, eta=2:10:39\n",
      "2022-05-03 11:10:03 [INFO]\t[TRAIN] Epoch=43/270, Step=32/35, loss=13.118803, lr=0.000125, time_each_step=0.87s, eta=2:10:37\n",
      "2022-05-03 11:10:05 [INFO]\t[TRAIN] Epoch=43/270, Step=34/35, loss=11.212679, lr=0.000125, time_each_step=0.88s, eta=2:10:35\n",
      "2022-05-03 11:10:07 [INFO]\t[TRAIN] Epoch 43 finished, loss=13.661891, lr=0.000125 .\n",
      "2022-05-03 11:10:17 [INFO]\t[TRAIN] Epoch=44/270, Step=1/35, loss=12.012781, lr=0.000125, time_each_step=1.4s, eta=2:20:10\n",
      "2022-05-03 11:10:19 [INFO]\t[TRAIN] Epoch=44/270, Step=3/35, loss=14.104656, lr=0.000125, time_each_step=1.43s, eta=2:20:8\n"
     ]
    },
    {
     "name": "stderr",
     "output_type": "stream",
     "text": [
      "libpng warning: iCCP: known incorrect sRGB profile\n"
     ]
    },
    {
     "name": "stdout",
     "output_type": "stream",
     "text": [
      "2022-05-03 11:10:21 [INFO]\t[TRAIN] Epoch=44/270, Step=5/35, loss=16.84441, lr=0.000125, time_each_step=1.45s, eta=2:20:6\n",
      "2022-05-03 11:10:23 [INFO]\t[TRAIN] Epoch=44/270, Step=7/35, loss=23.070398, lr=0.000125, time_each_step=1.43s, eta=2:20:3\n",
      "2022-05-03 11:10:25 [INFO]\t[TRAIN] Epoch=44/270, Step=9/35, loss=12.712551, lr=0.000125, time_each_step=1.39s, eta=2:19:59\n",
      "2022-05-03 11:10:26 [INFO]\t[TRAIN] Epoch=44/270, Step=11/35, loss=9.253264, lr=0.000125, time_each_step=1.4s, eta=2:19:56\n",
      "2022-05-03 11:10:28 [INFO]\t[TRAIN] Epoch=44/270, Step=13/35, loss=9.702863, lr=0.000125, time_each_step=1.39s, eta=2:19:53\n",
      "2022-05-03 11:10:29 [INFO]\t[TRAIN] Epoch=44/270, Step=15/35, loss=17.025942, lr=0.000125, time_each_step=1.36s, eta=2:19:50\n",
      "2022-05-03 11:10:31 [INFO]\t[TRAIN] Epoch=44/270, Step=17/35, loss=10.078392, lr=0.000125, time_each_step=1.34s, eta=2:19:47\n",
      "2022-05-03 11:10:32 [INFO]\t[TRAIN] Epoch=44/270, Step=19/35, loss=9.559332, lr=0.000125, time_each_step=1.32s, eta=2:19:44\n",
      "2022-05-03 11:10:34 [INFO]\t[TRAIN] Epoch=44/270, Step=21/35, loss=11.546947, lr=0.000125, time_each_step=0.84s, eta=2:19:34\n",
      "2022-05-03 11:10:36 [INFO]\t[TRAIN] Epoch=44/270, Step=23/35, loss=11.111822, lr=0.000125, time_each_step=0.82s, eta=2:19:32\n",
      "2022-05-03 11:10:37 [INFO]\t[TRAIN] Epoch=44/270, Step=25/35, loss=12.367787, lr=0.000125, time_each_step=0.77s, eta=2:19:30\n"
     ]
    },
    {
     "name": "stderr",
     "output_type": "stream",
     "text": [
      "libpng warning: iCCP: known incorrect sRGB profile\n"
     ]
    },
    {
     "name": "stdout",
     "output_type": "stream",
     "text": [
      "2022-05-03 11:10:38 [INFO]\t[TRAIN] Epoch=44/270, Step=27/35, loss=14.61091, lr=0.000125, time_each_step=0.77s, eta=2:19:29\n",
      "2022-05-03 11:10:40 [INFO]\t[TRAIN] Epoch=44/270, Step=29/35, loss=11.786678, lr=0.000125, time_each_step=0.76s, eta=2:19:27\n",
      "2022-05-03 11:10:42 [INFO]\t[TRAIN] Epoch=44/270, Step=31/35, loss=13.54713, lr=0.000125, time_each_step=0.76s, eta=2:19:26\n",
      "2022-05-03 11:10:44 [INFO]\t[TRAIN] Epoch=44/270, Step=33/35, loss=14.071139, lr=0.000125, time_each_step=0.77s, eta=2:19:24\n",
      "2022-05-03 11:10:45 [INFO]\t[TRAIN] Epoch=44/270, Step=35/35, loss=16.093912, lr=0.000125, time_each_step=0.78s, eta=2:19:23\n",
      "2022-05-03 11:10:45 [INFO]\t[TRAIN] Epoch 44 finished, loss=13.207707, lr=0.000125 .\n",
      "2022-05-03 11:10:51 [INFO]\t[TRAIN] Epoch=45/270, Step=2/35, loss=13.825644, lr=0.000125, time_each_step=1.03s, eta=2:25:24\n",
      "2022-05-03 11:10:54 [INFO]\t[TRAIN] Epoch=45/270, Step=4/35, loss=13.804416, lr=0.000125, time_each_step=1.09s, eta=2:25:24\n"
     ]
    },
    {
     "name": "stderr",
     "output_type": "stream",
     "text": [
      "libpng warning: iCCP: known incorrect sRGB profile\n"
     ]
    },
    {
     "name": "stdout",
     "output_type": "stream",
     "text": [
      "2022-05-03 11:10:56 [INFO]\t[TRAIN] Epoch=45/270, Step=6/35, loss=14.970172, lr=0.000125, time_each_step=1.1s, eta=2:25:22\n",
      "2022-05-03 11:10:57 [INFO]\t[TRAIN] Epoch=45/270, Step=8/35, loss=12.157009, lr=0.000125, time_each_step=1.07s, eta=2:25:19\n",
      "2022-05-03 11:10:58 [INFO]\t[TRAIN] Epoch=45/270, Step=10/35, loss=16.361303, lr=0.000125, time_each_step=1.09s, eta=2:25:17\n",
      "2022-05-03 11:11:00 [INFO]\t[TRAIN] Epoch=45/270, Step=12/35, loss=16.517588, lr=0.000125, time_each_step=1.08s, eta=2:25:15\n",
      "2022-05-03 11:11:01 [INFO]\t[TRAIN] Epoch=45/270, Step=14/35, loss=10.73288, lr=0.000125, time_each_step=1.04s, eta=2:25:12\n",
      "2022-05-03 11:11:02 [INFO]\t[TRAIN] Epoch=45/270, Step=16/35, loss=15.013044, lr=0.000125, time_each_step=1.03s, eta=2:25:9\n",
      "2022-05-03 11:11:04 [INFO]\t[TRAIN] Epoch=45/270, Step=18/35, loss=9.684518, lr=0.000125, time_each_step=1.0s, eta=2:25:7\n",
      "2022-05-03 11:11:05 [INFO]\t[TRAIN] Epoch=45/270, Step=20/35, loss=15.207146, lr=0.000125, time_each_step=1.01s, eta=2:25:5\n",
      "2022-05-03 11:11:08 [INFO]\t[TRAIN] Epoch=45/270, Step=22/35, loss=23.235388, lr=0.000125, time_each_step=0.82s, eta=2:25:1\n",
      "2022-05-03 11:11:09 [INFO]\t[TRAIN] Epoch=45/270, Step=24/35, loss=13.957385, lr=0.000125, time_each_step=0.77s, eta=2:24:58\n",
      "2022-05-03 11:11:12 [INFO]\t[TRAIN] Epoch=45/270, Step=26/35, loss=15.543303, lr=0.000125, time_each_step=0.79s, eta=2:24:57\n",
      "2022-05-03 11:11:13 [INFO]\t[TRAIN] Epoch=45/270, Step=28/35, loss=8.881962, lr=0.000125, time_each_step=0.78s, eta=2:24:55\n"
     ]
    },
    {
     "name": "stderr",
     "output_type": "stream",
     "text": [
      "libpng warning: iCCP: known incorrect sRGB profile\n"
     ]
    },
    {
     "name": "stdout",
     "output_type": "stream",
     "text": [
      "2022-05-03 11:11:15 [INFO]\t[TRAIN] Epoch=45/270, Step=30/35, loss=11.726111, lr=0.000125, time_each_step=0.84s, eta=2:24:54\n",
      "2022-05-03 11:11:17 [INFO]\t[TRAIN] Epoch=45/270, Step=32/35, loss=12.200655, lr=0.000125, time_each_step=0.86s, eta=2:24:53\n",
      "2022-05-03 11:11:19 [INFO]\t[TRAIN] Epoch=45/270, Step=34/35, loss=18.58198, lr=0.000125, time_each_step=0.9s, eta=2:24:51\n",
      "2022-05-03 11:11:19 [INFO]\t[TRAIN] Epoch 45 finished, loss=13.491046, lr=0.000125 .\n",
      "2022-05-03 11:11:26 [INFO]\t[TRAIN] Epoch=46/270, Step=1/35, loss=12.211709, lr=0.000125, time_each_step=1.19s, eta=2:10:38\n"
     ]
    },
    {
     "name": "stderr",
     "output_type": "stream",
     "text": [
      "libpng warning: iCCP: known incorrect sRGB profile\n"
     ]
    },
    {
     "name": "stdout",
     "output_type": "stream",
     "text": [
      "2022-05-03 11:11:29 [INFO]\t[TRAIN] Epoch=46/270, Step=3/35, loss=12.327633, lr=0.000125, time_each_step=1.24s, eta=2:10:38\n",
      "2022-05-03 11:11:30 [INFO]\t[TRAIN] Epoch=46/270, Step=5/35, loss=15.332946, lr=0.000125, time_each_step=1.23s, eta=2:10:35\n",
      "2022-05-03 11:11:32 [INFO]\t[TRAIN] Epoch=46/270, Step=7/35, loss=19.216898, lr=0.000125, time_each_step=1.18s, eta=2:10:31\n",
      "2022-05-03 11:11:33 [INFO]\t[TRAIN] Epoch=46/270, Step=9/35, loss=8.050448, lr=0.000125, time_each_step=1.18s, eta=2:10:29\n",
      "2022-05-03 11:11:36 [INFO]\t[TRAIN] Epoch=46/270, Step=11/35, loss=13.187538, lr=0.000125, time_each_step=1.21s, eta=2:10:27\n",
      "2022-05-03 11:11:37 [INFO]\t[TRAIN] Epoch=46/270, Step=13/35, loss=9.079885, lr=0.000125, time_each_step=1.23s, eta=2:10:25\n",
      "2022-05-03 11:11:39 [INFO]\t[TRAIN] Epoch=46/270, Step=15/35, loss=17.655441, lr=0.000125, time_each_step=1.17s, eta=2:10:22\n",
      "2022-05-03 11:11:41 [INFO]\t[TRAIN] Epoch=46/270, Step=17/35, loss=12.593513, lr=0.000125, time_each_step=1.17s, eta=2:10:19\n",
      "2022-05-03 11:11:42 [INFO]\t[TRAIN] Epoch=46/270, Step=19/35, loss=11.344295, lr=0.000125, time_each_step=1.15s, eta=2:10:16\n",
      "2022-05-03 11:11:44 [INFO]\t[TRAIN] Epoch=46/270, Step=21/35, loss=11.085803, lr=0.000125, time_each_step=0.89s, eta=2:10:11\n",
      "2022-05-03 11:11:45 [INFO]\t[TRAIN] Epoch=46/270, Step=23/35, loss=16.925123, lr=0.000125, time_each_step=0.83s, eta=2:10:8\n"
     ]
    },
    {
     "name": "stderr",
     "output_type": "stream",
     "text": [
      "libpng warning: iCCP: known incorrect sRGB profile\n"
     ]
    },
    {
     "name": "stdout",
     "output_type": "stream",
     "text": [
      "2022-05-03 11:11:47 [INFO]\t[TRAIN] Epoch=46/270, Step=25/35, loss=11.948492, lr=0.000125, time_each_step=0.83s, eta=2:10:6\n",
      "2022-05-03 11:11:50 [INFO]\t[TRAIN] Epoch=46/270, Step=27/35, loss=13.448437, lr=0.000125, time_each_step=0.9s, eta=2:10:5\n",
      "2022-05-03 11:11:52 [INFO]\t[TRAIN] Epoch=46/270, Step=29/35, loss=11.867648, lr=0.000125, time_each_step=0.91s, eta=2:10:4\n",
      "2022-05-03 11:11:54 [INFO]\t[TRAIN] Epoch=46/270, Step=31/35, loss=14.1427, lr=0.000125, time_each_step=0.89s, eta=2:10:2\n",
      "2022-05-03 11:11:55 [INFO]\t[TRAIN] Epoch=46/270, Step=33/35, loss=11.862034, lr=0.000125, time_each_step=0.87s, eta=2:10:0\n",
      "2022-05-03 11:11:57 [INFO]\t[TRAIN] Epoch=46/270, Step=35/35, loss=14.138893, lr=0.000125, time_each_step=0.91s, eta=2:9:58\n",
      "2022-05-03 11:11:58 [INFO]\t[TRAIN] Epoch 46 finished, loss=13.084641, lr=0.000125 .\n",
      "2022-05-03 11:12:06 [INFO]\t[TRAIN] Epoch=47/270, Step=2/35, loss=11.496256, lr=0.000125, time_each_step=1.21s, eta=2:24:50\n",
      "2022-05-03 11:12:07 [INFO]\t[TRAIN] Epoch=47/270, Step=4/35, loss=23.829285, lr=0.000125, time_each_step=1.21s, eta=2:24:47\n",
      "2022-05-03 11:12:08 [INFO]\t[TRAIN] Epoch=47/270, Step=6/35, loss=6.777739, lr=0.000125, time_each_step=1.19s, eta=2:24:44\n"
     ]
    },
    {
     "name": "stderr",
     "output_type": "stream",
     "text": [
      "libpng warning: iCCP: known incorrect sRGB profile\n"
     ]
    },
    {
     "name": "stdout",
     "output_type": "stream",
     "text": [
      "2022-05-03 11:12:11 [INFO]\t[TRAIN] Epoch=47/270, Step=8/35, loss=15.047163, lr=0.000125, time_each_step=1.25s, eta=2:24:43\n",
      "2022-05-03 11:12:13 [INFO]\t[TRAIN] Epoch=47/270, Step=10/35, loss=9.729647, lr=0.000125, time_each_step=1.26s, eta=2:24:41\n",
      "2022-05-03 11:12:14 [INFO]\t[TRAIN] Epoch=47/270, Step=12/35, loss=12.702304, lr=0.000125, time_each_step=1.18s, eta=2:24:37\n",
      "2022-05-03 11:12:15 [INFO]\t[TRAIN] Epoch=47/270, Step=14/35, loss=15.630035, lr=0.000125, time_each_step=1.14s, eta=2:24:34\n",
      "2022-05-03 11:12:17 [INFO]\t[TRAIN] Epoch=47/270, Step=16/35, loss=17.781977, lr=0.000125, time_each_step=1.13s, eta=2:24:31\n",
      "2022-05-03 11:12:19 [INFO]\t[TRAIN] Epoch=47/270, Step=18/35, loss=16.630667, lr=0.000125, time_each_step=1.17s, eta=2:24:29\n",
      "2022-05-03 11:12:21 [INFO]\t[TRAIN] Epoch=47/270, Step=20/35, loss=9.444918, lr=0.000125, time_each_step=1.18s, eta=2:24:27\n",
      "2022-05-03 11:12:23 [INFO]\t[TRAIN] Epoch=47/270, Step=22/35, loss=14.854548, lr=0.000125, time_each_step=0.86s, eta=2:24:21\n",
      "2022-05-03 11:12:24 [INFO]\t[TRAIN] Epoch=47/270, Step=24/35, loss=11.65114, lr=0.000125, time_each_step=0.87s, eta=2:24:19\n",
      "2022-05-03 11:12:25 [INFO]\t[TRAIN] Epoch=47/270, Step=26/35, loss=11.931047, lr=0.000125, time_each_step=0.85s, eta=2:24:17\n",
      "2022-05-03 11:12:27 [INFO]\t[TRAIN] Epoch=47/270, Step=28/35, loss=12.000814, lr=0.000125, time_each_step=0.82s, eta=2:24:15\n"
     ]
    },
    {
     "name": "stderr",
     "output_type": "stream",
     "text": [
      "libpng warning: iCCP: known incorrect sRGB profile\n"
     ]
    },
    {
     "name": "stdout",
     "output_type": "stream",
     "text": [
      "2022-05-03 11:12:29 [INFO]\t[TRAIN] Epoch=47/270, Step=30/35, loss=11.288224, lr=0.000125, time_each_step=0.82s, eta=2:24:14\n",
      "2022-05-03 11:12:31 [INFO]\t[TRAIN] Epoch=47/270, Step=32/35, loss=13.405569, lr=0.000125, time_each_step=0.84s, eta=2:24:12\n",
      "2022-05-03 11:12:32 [INFO]\t[TRAIN] Epoch=47/270, Step=34/35, loss=10.850188, lr=0.000125, time_each_step=0.86s, eta=2:24:10\n",
      "2022-05-03 11:12:33 [INFO]\t[TRAIN] Epoch 47 finished, loss=13.495658, lr=0.000125 .\n",
      "2022-05-03 11:12:39 [INFO]\t[TRAIN] Epoch=48/270, Step=1/35, loss=10.347898, lr=0.000125, time_each_step=1.12s, eta=2:13:27\n",
      "2022-05-03 11:12:41 [INFO]\t[TRAIN] Epoch=48/270, Step=3/35, loss=13.42837, lr=0.000125, time_each_step=1.1s, eta=2:13:25\n"
     ]
    },
    {
     "name": "stderr",
     "output_type": "stream",
     "text": [
      "libpng warning: iCCP: known incorrect sRGB profile\n"
     ]
    },
    {
     "name": "stdout",
     "output_type": "stream",
     "text": [
      "2022-05-03 11:12:43 [INFO]\t[TRAIN] Epoch=48/270, Step=5/35, loss=12.113436, lr=0.000125, time_each_step=1.07s, eta=2:13:22\n",
      "2022-05-03 11:12:45 [INFO]\t[TRAIN] Epoch=48/270, Step=7/35, loss=13.224752, lr=0.000125, time_each_step=1.09s, eta=2:13:20\n",
      "2022-05-03 11:12:47 [INFO]\t[TRAIN] Epoch=48/270, Step=9/35, loss=15.301723, lr=0.000125, time_each_step=1.15s, eta=2:13:19\n",
      "2022-05-03 11:12:49 [INFO]\t[TRAIN] Epoch=48/270, Step=11/35, loss=10.487881, lr=0.000125, time_each_step=1.17s, eta=2:13:18\n",
      "2022-05-03 11:12:50 [INFO]\t[TRAIN] Epoch=48/270, Step=13/35, loss=16.995209, lr=0.000125, time_each_step=1.14s, eta=2:13:15\n",
      "2022-05-03 11:12:52 [INFO]\t[TRAIN] Epoch=48/270, Step=15/35, loss=7.612571, lr=0.000125, time_each_step=1.11s, eta=2:13:12\n",
      "2022-05-03 11:12:53 [INFO]\t[TRAIN] Epoch=48/270, Step=17/35, loss=14.719552, lr=0.000125, time_each_step=1.11s, eta=2:13:10\n",
      "2022-05-03 11:12:55 [INFO]\t[TRAIN] Epoch=48/270, Step=19/35, loss=13.027365, lr=0.000125, time_each_step=1.14s, eta=2:13:8\n",
      "2022-05-03 11:12:57 [INFO]\t[TRAIN] Epoch=48/270, Step=21/35, loss=10.484468, lr=0.000125, time_each_step=0.85s, eta=2:13:1\n",
      "2022-05-03 11:12:58 [INFO]\t[TRAIN] Epoch=48/270, Step=23/35, loss=7.928299, lr=0.000125, time_each_step=0.83s, eta=2:12:59\n",
      "2022-05-03 11:12:59 [INFO]\t[TRAIN] Epoch=48/270, Step=25/35, loss=15.302856, lr=0.000125, time_each_step=0.83s, eta=2:12:58\n"
     ]
    },
    {
     "name": "stderr",
     "output_type": "stream",
     "text": [
      "libpng warning: iCCP: known incorrect sRGB profile\n"
     ]
    },
    {
     "name": "stdout",
     "output_type": "stream",
     "text": [
      "2022-05-03 11:13:01 [INFO]\t[TRAIN] Epoch=48/270, Step=27/35, loss=15.477965, lr=0.000125, time_each_step=0.81s, eta=2:12:56\n",
      "2022-05-03 11:13:02 [INFO]\t[TRAIN] Epoch=48/270, Step=29/35, loss=18.335123, lr=0.000125, time_each_step=0.74s, eta=2:12:54\n",
      "2022-05-03 11:13:03 [INFO]\t[TRAIN] Epoch=48/270, Step=31/35, loss=13.374311, lr=0.000125, time_each_step=0.73s, eta=2:12:52\n",
      "2022-05-03 11:13:05 [INFO]\t[TRAIN] Epoch=48/270, Step=33/35, loss=9.342459, lr=0.000125, time_each_step=0.72s, eta=2:12:51\n",
      "2022-05-03 11:13:07 [INFO]\t[TRAIN] Epoch=48/270, Step=35/35, loss=13.840294, lr=0.000125, time_each_step=0.76s, eta=2:12:50\n",
      "2022-05-03 11:13:07 [INFO]\t[TRAIN] Epoch 48 finished, loss=12.244734, lr=0.000125 .\n",
      "2022-05-03 11:13:16 [INFO]\t[TRAIN] Epoch=49/270, Step=2/35, loss=14.967068, lr=0.000125, time_each_step=1.1s, eta=2:8:13\n",
      "2022-05-03 11:13:18 [INFO]\t[TRAIN] Epoch=49/270, Step=4/35, loss=15.711892, lr=0.000125, time_each_step=1.09s, eta=2:8:10\n",
      "2022-05-03 11:13:19 [INFO]\t[TRAIN] Epoch=49/270, Step=6/35, loss=14.798445, lr=0.000125, time_each_step=1.12s, eta=2:8:9\n"
     ]
    },
    {
     "name": "stderr",
     "output_type": "stream",
     "text": [
      "libpng warning: iCCP: known incorrect sRGB profile\n"
     ]
    },
    {
     "name": "stdout",
     "output_type": "stream",
     "text": [
      "2022-05-03 11:13:21 [INFO]\t[TRAIN] Epoch=49/270, Step=8/35, loss=12.777281, lr=0.000125, time_each_step=1.15s, eta=2:8:8\n",
      "2022-05-03 11:13:24 [INFO]\t[TRAIN] Epoch=49/270, Step=10/35, loss=11.338391, lr=0.000125, time_each_step=1.18s, eta=2:8:6\n",
      "2022-05-03 11:13:25 [INFO]\t[TRAIN] Epoch=49/270, Step=12/35, loss=9.338479, lr=0.000125, time_each_step=1.16s, eta=2:8:3\n",
      "2022-05-03 11:13:27 [INFO]\t[TRAIN] Epoch=49/270, Step=14/35, loss=17.001688, lr=0.000125, time_each_step=1.2s, eta=2:8:2\n",
      "2022-05-03 11:13:29 [INFO]\t[TRAIN] Epoch=49/270, Step=16/35, loss=15.842029, lr=0.000125, time_each_step=1.24s, eta=2:8:0\n",
      "2022-05-03 11:13:30 [INFO]\t[TRAIN] Epoch=49/270, Step=18/35, loss=11.10081, lr=0.000125, time_each_step=1.25s, eta=2:7:58\n",
      "2022-05-03 11:13:32 [INFO]\t[TRAIN] Epoch=49/270, Step=20/35, loss=17.754852, lr=0.000125, time_each_step=1.23s, eta=2:7:55\n",
      "2022-05-03 11:13:34 [INFO]\t[TRAIN] Epoch=49/270, Step=22/35, loss=9.952103, lr=0.000125, time_each_step=0.9s, eta=2:7:48\n",
      "2022-05-03 11:13:35 [INFO]\t[TRAIN] Epoch=49/270, Step=24/35, loss=7.892138, lr=0.000125, time_each_step=0.88s, eta=2:7:46\n"
     ]
    },
    {
     "name": "stderr",
     "output_type": "stream",
     "text": [
      "libpng warning: iCCP: known incorrect sRGB profile\n"
     ]
    },
    {
     "name": "stdout",
     "output_type": "stream",
     "text": [
      "2022-05-03 11:13:37 [INFO]\t[TRAIN] Epoch=49/270, Step=26/35, loss=12.31587, lr=0.000125, time_each_step=0.89s, eta=2:7:44\n",
      "2022-05-03 11:13:39 [INFO]\t[TRAIN] Epoch=49/270, Step=28/35, loss=13.285974, lr=0.000125, time_each_step=0.87s, eta=2:7:43\n",
      "2022-05-03 11:13:40 [INFO]\t[TRAIN] Epoch=49/270, Step=30/35, loss=7.242036, lr=0.000125, time_each_step=0.83s, eta=2:7:41\n",
      "2022-05-03 11:13:42 [INFO]\t[TRAIN] Epoch=49/270, Step=32/35, loss=13.211711, lr=0.000125, time_each_step=0.87s, eta=2:7:39\n",
      "2022-05-03 11:13:44 [INFO]\t[TRAIN] Epoch=49/270, Step=34/35, loss=13.595078, lr=0.000125, time_each_step=0.88s, eta=2:7:37\n",
      "2022-05-03 11:13:45 [INFO]\t[TRAIN] Epoch 49 finished, loss=12.657641, lr=0.000125 .\n",
      "2022-05-03 11:13:51 [INFO]\t[TRAIN] Epoch=50/270, Step=1/35, loss=12.247499, lr=0.000125, time_each_step=1.13s, eta=2:21:7\n",
      "2022-05-03 11:13:54 [INFO]\t[TRAIN] Epoch=50/270, Step=3/35, loss=17.617222, lr=0.000125, time_each_step=1.17s, eta=2:21:6\n"
     ]
    },
    {
     "name": "stderr",
     "output_type": "stream",
     "text": [
      "libpng warning: iCCP: known incorrect sRGB profile\n"
     ]
    },
    {
     "name": "stdout",
     "output_type": "stream",
     "text": [
      "2022-05-03 11:13:55 [INFO]\t[TRAIN] Epoch=50/270, Step=5/35, loss=13.955787, lr=0.000125, time_each_step=1.15s, eta=2:21:3\n",
      "2022-05-03 11:13:57 [INFO]\t[TRAIN] Epoch=50/270, Step=7/35, loss=13.107262, lr=0.000125, time_each_step=1.14s, eta=2:21:0\n",
      "2022-05-03 11:13:57 [INFO]\t[TRAIN] Epoch=50/270, Step=9/35, loss=11.096382, lr=0.000125, time_each_step=1.11s, eta=2:20:57\n",
      "2022-05-03 11:14:00 [INFO]\t[TRAIN] Epoch=50/270, Step=11/35, loss=10.026888, lr=0.000125, time_each_step=1.12s, eta=2:20:55\n",
      "2022-05-03 11:14:01 [INFO]\t[TRAIN] Epoch=50/270, Step=13/35, loss=14.616501, lr=0.000125, time_each_step=1.12s, eta=2:20:53\n",
      "2022-05-03 11:14:02 [INFO]\t[TRAIN] Epoch=50/270, Step=15/35, loss=12.687103, lr=0.000125, time_each_step=1.11s, eta=2:20:50\n",
      "2022-05-03 11:14:04 [INFO]\t[TRAIN] Epoch=50/270, Step=17/35, loss=8.223076, lr=0.000125, time_each_step=1.08s, eta=2:20:48\n",
      "2022-05-03 11:14:05 [INFO]\t[TRAIN] Epoch=50/270, Step=19/35, loss=12.483977, lr=0.000125, time_each_step=1.02s, eta=2:20:45\n",
      "2022-05-03 11:14:07 [INFO]\t[TRAIN] Epoch=50/270, Step=21/35, loss=9.330282, lr=0.000125, time_each_step=0.77s, eta=2:20:39\n",
      "2022-05-03 11:14:08 [INFO]\t[TRAIN] Epoch=50/270, Step=23/35, loss=13.795113, lr=0.000125, time_each_step=0.72s, eta=2:20:37\n",
      "2022-05-03 11:14:11 [INFO]\t[TRAIN] Epoch=50/270, Step=25/35, loss=10.048254, lr=0.000125, time_each_step=0.78s, eta=2:20:36\n",
      "2022-05-03 11:14:13 [INFO]\t[TRAIN] Epoch=50/270, Step=27/35, loss=14.585291, lr=0.000125, time_each_step=0.8s, eta=2:20:35\n",
      "2022-05-03 11:14:14 [INFO]\t[TRAIN] Epoch=50/270, Step=29/35, loss=9.927927, lr=0.000125, time_each_step=0.82s, eta=2:20:33\n",
      "2022-05-03 11:14:15 [INFO]\t[TRAIN] Epoch=50/270, Step=31/35, loss=20.674034, lr=0.000125, time_each_step=0.76s, eta=2:20:31\n"
     ]
    },
    {
     "name": "stderr",
     "output_type": "stream",
     "text": [
      "libpng warning: iCCP: known incorrect sRGB profile\n"
     ]
    },
    {
     "name": "stdout",
     "output_type": "stream",
     "text": [
      "2022-05-03 11:14:16 [INFO]\t[TRAIN] Epoch=50/270, Step=33/35, loss=11.370265, lr=0.000125, time_each_step=0.76s, eta=2:20:30\n",
      "2022-05-03 11:14:18 [INFO]\t[TRAIN] Epoch=50/270, Step=35/35, loss=10.283854, lr=0.000125, time_each_step=0.78s, eta=2:20:28\n",
      "2022-05-03 11:14:18 [INFO]\t[TRAIN] Epoch 50 finished, loss=12.647517, lr=0.000125 .\n",
      "2022-05-03 11:14:27 [INFO]\t[TRAIN] Epoch=51/270, Step=2/35, loss=11.831045, lr=0.000125, time_each_step=1.12s, eta=2:4:19\n"
     ]
    },
    {
     "name": "stderr",
     "output_type": "stream",
     "text": [
      "libpng warning: iCCP: known incorrect sRGB profile\n"
     ]
    },
    {
     "name": "stdout",
     "output_type": "stream",
     "text": [
      "2022-05-03 11:14:29 [INFO]\t[TRAIN] Epoch=51/270, Step=4/35, loss=16.048346, lr=0.000125, time_each_step=1.2s, eta=2:4:19\n",
      "2022-05-03 11:14:31 [INFO]\t[TRAIN] Epoch=51/270, Step=6/35, loss=14.021675, lr=0.000125, time_each_step=1.2s, eta=2:4:17\n",
      "2022-05-03 11:14:33 [INFO]\t[TRAIN] Epoch=51/270, Step=8/35, loss=18.151316, lr=0.000125, time_each_step=1.24s, eta=2:4:15\n",
      "2022-05-03 11:14:35 [INFO]\t[TRAIN] Epoch=51/270, Step=10/35, loss=10.504309, lr=0.000125, time_each_step=1.18s, eta=2:4:12\n",
      "2022-05-03 11:14:36 [INFO]\t[TRAIN] Epoch=51/270, Step=12/35, loss=12.900064, lr=0.000125, time_each_step=1.17s, eta=2:4:9\n",
      "2022-05-03 11:14:38 [INFO]\t[TRAIN] Epoch=51/270, Step=14/35, loss=13.762563, lr=0.000125, time_each_step=1.18s, eta=2:4:7\n",
      "2022-05-03 11:14:40 [INFO]\t[TRAIN] Epoch=51/270, Step=16/35, loss=14.555387, lr=0.000125, time_each_step=1.22s, eta=2:4:5\n",
      "2022-05-03 11:14:41 [INFO]\t[TRAIN] Epoch=51/270, Step=18/35, loss=14.509112, lr=0.000125, time_each_step=1.22s, eta=2:4:3\n",
      "2022-05-03 11:14:43 [INFO]\t[TRAIN] Epoch=51/270, Step=20/35, loss=10.985795, lr=0.000125, time_each_step=1.24s, eta=2:4:1\n",
      "2022-05-03 11:14:45 [INFO]\t[TRAIN] Epoch=51/270, Step=22/35, loss=6.034377, lr=0.000125, time_each_step=0.92s, eta=2:3:54\n",
      "2022-05-03 11:14:47 [INFO]\t[TRAIN] Epoch=51/270, Step=24/35, loss=12.129445, lr=0.000125, time_each_step=0.87s, eta=2:3:52\n",
      "2022-05-03 11:14:48 [INFO]\t[TRAIN] Epoch=51/270, Step=26/35, loss=11.087303, lr=0.000125, time_each_step=0.83s, eta=2:3:49\n",
      "2022-05-03 11:14:50 [INFO]\t[TRAIN] Epoch=51/270, Step=28/35, loss=17.365349, lr=0.000125, time_each_step=0.81s, eta=2:3:48\n"
     ]
    },
    {
     "name": "stderr",
     "output_type": "stream",
     "text": [
      "libpng warning: iCCP: known incorrect sRGB profile\n"
     ]
    },
    {
     "name": "stdout",
     "output_type": "stream",
     "text": [
      "2022-05-03 11:14:51 [INFO]\t[TRAIN] Epoch=51/270, Step=30/35, loss=9.31796, lr=0.000125, time_each_step=0.81s, eta=2:3:46\n",
      "2022-05-03 11:14:53 [INFO]\t[TRAIN] Epoch=51/270, Step=32/35, loss=9.699552, lr=0.000125, time_each_step=0.8s, eta=2:3:44\n",
      "2022-05-03 11:14:54 [INFO]\t[TRAIN] Epoch=51/270, Step=34/35, loss=16.236076, lr=0.000125, time_each_step=0.79s, eta=2:3:43\n",
      "2022-05-03 11:14:55 [INFO]\t[TRAIN] Epoch 51 finished, loss=12.450485, lr=0.000125 .\n",
      "2022-05-03 11:15:02 [INFO]\t[TRAIN] Epoch=52/270, Step=1/35, loss=8.390153, lr=0.000125, time_each_step=1.1s, eta=2:15:29\n",
      "2022-05-03 11:15:03 [INFO]\t[TRAIN] Epoch=52/270, Step=3/35, loss=13.084216, lr=0.000125, time_each_step=1.1s, eta=2:15:27\n"
     ]
    },
    {
     "name": "stderr",
     "output_type": "stream",
     "text": [
      "libpng warning: iCCP: known incorrect sRGB profile\n"
     ]
    },
    {
     "name": "stdout",
     "output_type": "stream",
     "text": [
      "2022-05-03 11:15:05 [INFO]\t[TRAIN] Epoch=52/270, Step=5/35, loss=14.092573, lr=0.000125, time_each_step=1.1s, eta=2:15:24\n",
      "2022-05-03 11:15:07 [INFO]\t[TRAIN] Epoch=52/270, Step=7/35, loss=14.282394, lr=0.000125, time_each_step=1.1s, eta=2:15:22\n",
      "2022-05-03 11:15:09 [INFO]\t[TRAIN] Epoch=52/270, Step=9/35, loss=9.652987, lr=0.000125, time_each_step=1.1s, eta=2:15:20\n",
      "2022-05-03 11:15:11 [INFO]\t[TRAIN] Epoch=52/270, Step=11/35, loss=11.649914, lr=0.000125, time_each_step=1.14s, eta=2:15:19\n",
      "2022-05-03 11:15:12 [INFO]\t[TRAIN] Epoch=52/270, Step=13/35, loss=11.403731, lr=0.000125, time_each_step=1.13s, eta=2:15:16\n",
      "2022-05-03 11:15:14 [INFO]\t[TRAIN] Epoch=52/270, Step=15/35, loss=20.262321, lr=0.000125, time_each_step=1.12s, eta=2:15:14\n",
      "2022-05-03 11:15:15 [INFO]\t[TRAIN] Epoch=52/270, Step=17/35, loss=10.488252, lr=0.000125, time_each_step=1.13s, eta=2:15:12\n",
      "2022-05-03 11:15:17 [INFO]\t[TRAIN] Epoch=52/270, Step=19/35, loss=14.33119, lr=0.000125, time_each_step=1.14s, eta=2:15:10\n",
      "2022-05-03 11:15:18 [INFO]\t[TRAIN] Epoch=52/270, Step=21/35, loss=13.445936, lr=0.000125, time_each_step=0.83s, eta=2:15:3\n",
      "2022-05-03 11:15:20 [INFO]\t[TRAIN] Epoch=52/270, Step=23/35, loss=17.87664, lr=0.000125, time_each_step=0.83s, eta=2:15:1\n",
      "2022-05-03 11:15:22 [INFO]\t[TRAIN] Epoch=52/270, Step=25/35, loss=9.490602, lr=0.000125, time_each_step=0.83s, eta=2:14:59\n",
      "2022-05-03 11:15:23 [INFO]\t[TRAIN] Epoch=52/270, Step=27/35, loss=12.261995, lr=0.000125, time_each_step=0.81s, eta=2:14:58\n",
      "2022-05-03 11:15:24 [INFO]\t[TRAIN] Epoch=52/270, Step=29/35, loss=7.369322, lr=0.000125, time_each_step=0.78s, eta=2:14:56\n",
      "2022-05-03 11:15:26 [INFO]\t[TRAIN] Epoch=52/270, Step=31/35, loss=13.990352, lr=0.000125, time_each_step=0.76s, eta=2:14:54\n"
     ]
    },
    {
     "name": "stderr",
     "output_type": "stream",
     "text": [
      "libpng warning: iCCP: known incorrect sRGB profile\n"
     ]
    },
    {
     "name": "stdout",
     "output_type": "stream",
     "text": [
      "2022-05-03 11:15:28 [INFO]\t[TRAIN] Epoch=52/270, Step=33/35, loss=10.428091, lr=0.000125, time_each_step=0.77s, eta=2:14:53\n",
      "2022-05-03 11:15:29 [INFO]\t[TRAIN] Epoch=52/270, Step=35/35, loss=8.493699, lr=0.000125, time_each_step=0.77s, eta=2:14:51\n",
      "2022-05-03 11:15:29 [INFO]\t[TRAIN] Epoch 52 finished, loss=12.32321, lr=0.000125 .\n",
      "2022-05-03 11:15:36 [INFO]\t[TRAIN] Epoch=53/270, Step=2/35, loss=8.949389, lr=0.000125, time_each_step=1.03s, eta=2:7:3\n"
     ]
    },
    {
     "name": "stderr",
     "output_type": "stream",
     "text": [
      "libpng warning: iCCP: known incorrect sRGB profile\n"
     ]
    },
    {
     "name": "stdout",
     "output_type": "stream",
     "text": [
      "2022-05-03 11:15:39 [INFO]\t[TRAIN] Epoch=53/270, Step=4/35, loss=13.731152, lr=0.000125, time_each_step=1.07s, eta=2:7:2\n",
      "2022-05-03 11:15:40 [INFO]\t[TRAIN] Epoch=53/270, Step=6/35, loss=8.757579, lr=0.000125, time_each_step=1.09s, eta=2:7:0\n",
      "2022-05-03 11:15:43 [INFO]\t[TRAIN] Epoch=53/270, Step=8/35, loss=17.003489, lr=0.000125, time_each_step=1.1s, eta=2:6:59\n",
      "2022-05-03 11:15:44 [INFO]\t[TRAIN] Epoch=53/270, Step=10/35, loss=9.95832, lr=0.000125, time_each_step=1.1s, eta=2:6:56\n",
      "2022-05-03 11:15:46 [INFO]\t[TRAIN] Epoch=53/270, Step=12/35, loss=12.068804, lr=0.000125, time_each_step=1.12s, eta=2:6:55\n",
      "2022-05-03 11:15:48 [INFO]\t[TRAIN] Epoch=53/270, Step=14/35, loss=13.476286, lr=0.000125, time_each_step=1.14s, eta=2:6:53\n",
      "2022-05-03 11:15:49 [INFO]\t[TRAIN] Epoch=53/270, Step=16/35, loss=13.076502, lr=0.000125, time_each_step=1.13s, eta=2:6:50\n",
      "2022-05-03 11:15:51 [INFO]\t[TRAIN] Epoch=53/270, Step=18/35, loss=7.662651, lr=0.000125, time_each_step=1.13s, eta=2:6:48\n",
      "2022-05-03 11:15:52 [INFO]\t[TRAIN] Epoch=53/270, Step=20/35, loss=13.756475, lr=0.000125, time_each_step=1.13s, eta=2:6:46\n",
      "2022-05-03 11:15:53 [INFO]\t[TRAIN] Epoch=53/270, Step=22/35, loss=13.017081, lr=0.000125, time_each_step=0.86s, eta=2:6:40\n",
      "2022-05-03 11:15:55 [INFO]\t[TRAIN] Epoch=53/270, Step=24/35, loss=13.040047, lr=0.000125, time_each_step=0.8s, eta=2:6:38\n",
      "2022-05-03 11:15:56 [INFO]\t[TRAIN] Epoch=53/270, Step=26/35, loss=12.09784, lr=0.000125, time_each_step=0.79s, eta=2:6:36\n",
      "2022-05-03 11:15:58 [INFO]\t[TRAIN] Epoch=53/270, Step=28/35, loss=10.454656, lr=0.000125, time_each_step=0.76s, eta=2:6:34\n",
      "2022-05-03 11:15:59 [INFO]\t[TRAIN] Epoch=53/270, Step=30/35, loss=8.468473, lr=0.000125, time_each_step=0.74s, eta=2:6:32\n",
      "2022-05-03 11:16:00 [INFO]\t[TRAIN] Epoch=53/270, Step=32/35, loss=12.050978, lr=0.000125, time_each_step=0.71s, eta=2:6:31\n"
     ]
    },
    {
     "name": "stderr",
     "output_type": "stream",
     "text": [
      "libpng warning: iCCP: known incorrect sRGB profile\n"
     ]
    },
    {
     "name": "stdout",
     "output_type": "stream",
     "text": [
      "2022-05-03 11:16:02 [INFO]\t[TRAIN] Epoch=53/270, Step=34/35, loss=10.846415, lr=0.000125, time_each_step=0.72s, eta=2:6:30\n",
      "2022-05-03 11:16:03 [INFO]\t[TRAIN] Epoch 53 finished, loss=11.468683, lr=0.000125 .\n",
      "2022-05-03 11:16:09 [INFO]\t[TRAIN] Epoch=54/270, Step=1/35, loss=12.075613, lr=0.000125, time_each_step=1.02s, eta=2:4:46\n"
     ]
    },
    {
     "name": "stderr",
     "output_type": "stream",
     "text": [
      "libpng warning: iCCP: known incorrect sRGB profile\n"
     ]
    },
    {
     "name": "stdout",
     "output_type": "stream",
     "text": [
      "2022-05-03 11:16:12 [INFO]\t[TRAIN] Epoch=54/270, Step=3/35, loss=11.018435, lr=0.000125, time_each_step=1.07s, eta=2:4:46\n",
      "2022-05-03 11:16:15 [INFO]\t[TRAIN] Epoch=54/270, Step=5/35, loss=15.071433, lr=0.000125, time_each_step=1.13s, eta=2:4:45\n",
      "2022-05-03 11:16:16 [INFO]\t[TRAIN] Epoch=54/270, Step=7/35, loss=13.080592, lr=0.000125, time_each_step=1.15s, eta=2:4:43\n",
      "2022-05-03 11:16:18 [INFO]\t[TRAIN] Epoch=54/270, Step=9/35, loss=11.126226, lr=0.000125, time_each_step=1.16s, eta=2:4:42\n",
      "2022-05-03 11:16:20 [INFO]\t[TRAIN] Epoch=54/270, Step=11/35, loss=6.660337, lr=0.000125, time_each_step=1.18s, eta=2:4:40\n",
      "2022-05-03 11:16:22 [INFO]\t[TRAIN] Epoch=54/270, Step=13/35, loss=10.173966, lr=0.000125, time_each_step=1.21s, eta=2:4:38\n",
      "2022-05-03 11:16:24 [INFO]\t[TRAIN] Epoch=54/270, Step=15/35, loss=12.130806, lr=0.000125, time_each_step=1.22s, eta=2:4:36\n",
      "2022-05-03 11:16:25 [INFO]\t[TRAIN] Epoch=54/270, Step=17/35, loss=8.277575, lr=0.000125, time_each_step=1.25s, eta=2:4:34\n",
      "2022-05-03 11:16:27 [INFO]\t[TRAIN] Epoch=54/270, Step=19/35, loss=7.522331, lr=0.000125, time_each_step=1.25s, eta=2:4:31\n",
      "2022-05-03 11:16:28 [INFO]\t[TRAIN] Epoch=54/270, Step=21/35, loss=11.690835, lr=0.000125, time_each_step=0.93s, eta=2:4:24\n"
     ]
    },
    {
     "name": "stderr",
     "output_type": "stream",
     "text": [
      "libpng warning: iCCP: known incorrect sRGB profile\n"
     ]
    },
    {
     "name": "stdout",
     "output_type": "stream",
     "text": [
      "2022-05-03 11:16:29 [INFO]\t[TRAIN] Epoch=54/270, Step=23/35, loss=12.897025, lr=0.000125, time_each_step=0.86s, eta=2:4:22\n",
      "2022-05-03 11:16:31 [INFO]\t[TRAIN] Epoch=54/270, Step=25/35, loss=16.276722, lr=0.000125, time_each_step=0.81s, eta=2:4:19\n",
      "2022-05-03 11:16:33 [INFO]\t[TRAIN] Epoch=54/270, Step=27/35, loss=13.110481, lr=0.000125, time_each_step=0.81s, eta=2:4:18\n",
      "2022-05-03 11:16:34 [INFO]\t[TRAIN] Epoch=54/270, Step=29/35, loss=13.087526, lr=0.000125, time_each_step=0.79s, eta=2:4:16\n",
      "2022-05-03 11:16:36 [INFO]\t[TRAIN] Epoch=54/270, Step=31/35, loss=8.332613, lr=0.000125, time_each_step=0.77s, eta=2:4:14\n",
      "2022-05-03 11:16:37 [INFO]\t[TRAIN] Epoch=54/270, Step=33/35, loss=8.38301, lr=0.000125, time_each_step=0.74s, eta=2:4:13\n",
      "2022-05-03 11:16:39 [INFO]\t[TRAIN] Epoch=54/270, Step=35/35, loss=12.571012, lr=0.000125, time_each_step=0.77s, eta=2:4:11\n",
      "2022-05-03 11:16:40 [INFO]\t[TRAIN] Epoch 54 finished, loss=12.181713, lr=0.000125 .\n",
      "2022-05-03 11:16:48 [INFO]\t[TRAIN] Epoch=55/270, Step=2/35, loss=6.277436, lr=0.000125, time_each_step=1.08s, eta=2:12:48\n",
      "2022-05-03 11:16:50 [INFO]\t[TRAIN] Epoch=55/270, Step=4/35, loss=14.252553, lr=0.000125, time_each_step=1.11s, eta=2:12:46\n"
     ]
    },
    {
     "name": "stderr",
     "output_type": "stream",
     "text": [
      "libpng warning: iCCP: known incorrect sRGB profile\n"
     ]
    },
    {
     "name": "stdout",
     "output_type": "stream",
     "text": [
      "2022-05-03 11:16:52 [INFO]\t[TRAIN] Epoch=55/270, Step=6/35, loss=15.974024, lr=0.000125, time_each_step=1.14s, eta=2:12:45\n",
      "2022-05-03 11:16:53 [INFO]\t[TRAIN] Epoch=55/270, Step=8/35, loss=10.614294, lr=0.000125, time_each_step=1.16s, eta=2:12:43\n",
      "2022-05-03 11:16:55 [INFO]\t[TRAIN] Epoch=55/270, Step=10/35, loss=9.33497, lr=0.000125, time_each_step=1.17s, eta=2:12:41\n",
      "2022-05-03 11:16:57 [INFO]\t[TRAIN] Epoch=55/270, Step=12/35, loss=15.305092, lr=0.000125, time_each_step=1.17s, eta=2:12:39\n",
      "2022-05-03 11:16:59 [INFO]\t[TRAIN] Epoch=55/270, Step=14/35, loss=12.495913, lr=0.000125, time_each_step=1.2s, eta=2:12:37\n",
      "2022-05-03 11:17:00 [INFO]\t[TRAIN] Epoch=55/270, Step=16/35, loss=11.091703, lr=0.000125, time_each_step=1.19s, eta=2:12:35\n",
      "2022-05-03 11:17:01 [INFO]\t[TRAIN] Epoch=55/270, Step=18/35, loss=9.97884, lr=0.000125, time_each_step=1.19s, eta=2:12:32\n",
      "2022-05-03 11:17:03 [INFO]\t[TRAIN] Epoch=55/270, Step=20/35, loss=14.169954, lr=0.000125, time_each_step=1.15s, eta=2:12:29\n",
      "2022-05-03 11:17:04 [INFO]\t[TRAIN] Epoch=55/270, Step=22/35, loss=11.969961, lr=0.000125, time_each_step=0.82s, eta=2:12:23\n",
      "2022-05-03 11:17:05 [INFO]\t[TRAIN] Epoch=55/270, Step=24/35, loss=15.335734, lr=0.000125, time_each_step=0.78s, eta=2:12:21\n",
      "2022-05-03 11:17:07 [INFO]\t[TRAIN] Epoch=55/270, Step=26/35, loss=8.410199, lr=0.000125, time_each_step=0.78s, eta=2:12:19\n",
      "2022-05-03 11:17:08 [INFO]\t[TRAIN] Epoch=55/270, Step=28/35, loss=10.378176, lr=0.000125, time_each_step=0.75s, eta=2:12:17\n",
      "2022-05-03 11:17:11 [INFO]\t[TRAIN] Epoch=55/270, Step=30/35, loss=13.423405, lr=0.000125, time_each_step=0.78s, eta=2:12:16\n"
     ]
    },
    {
     "name": "stderr",
     "output_type": "stream",
     "text": [
      "libpng warning: iCCP: known incorrect sRGB profile\n"
     ]
    },
    {
     "name": "stdout",
     "output_type": "stream",
     "text": [
      "2022-05-03 11:17:13 [INFO]\t[TRAIN] Epoch=55/270, Step=32/35, loss=9.776857, lr=0.000125, time_each_step=0.8s, eta=2:12:15\n",
      "2022-05-03 11:17:15 [INFO]\t[TRAIN] Epoch=55/270, Step=34/35, loss=12.536888, lr=0.000125, time_each_step=0.82s, eta=2:12:13\n",
      "2022-05-03 11:17:16 [INFO]\t[TRAIN] Epoch 55 finished, loss=12.203918, lr=0.000125 .\n",
      "2022-05-03 11:17:23 [INFO]\t[TRAIN] Epoch=56/270, Step=1/35, loss=14.90474, lr=0.000125, time_each_step=1.14s, eta=2:12:42\n",
      "2022-05-03 11:17:25 [INFO]\t[TRAIN] Epoch=56/270, Step=3/35, loss=17.01976, lr=0.000125, time_each_step=1.14s, eta=2:12:40\n",
      "2022-05-03 11:17:26 [INFO]\t[TRAIN] Epoch=56/270, Step=5/35, loss=13.692369, lr=0.000125, time_each_step=1.14s, eta=2:12:38\n"
     ]
    },
    {
     "name": "stderr",
     "output_type": "stream",
     "text": [
      "libpng warning: iCCP: known incorrect sRGB profile\n"
     ]
    },
    {
     "name": "stdout",
     "output_type": "stream",
     "text": [
      "2022-05-03 11:17:28 [INFO]\t[TRAIN] Epoch=56/270, Step=7/35, loss=11.058641, lr=0.000125, time_each_step=1.18s, eta=2:12:37\n",
      "2022-05-03 11:17:30 [INFO]\t[TRAIN] Epoch=56/270, Step=9/35, loss=11.181236, lr=0.000125, time_each_step=1.23s, eta=2:12:36\n",
      "2022-05-03 11:17:32 [INFO]\t[TRAIN] Epoch=56/270, Step=11/35, loss=8.720744, lr=0.000125, time_each_step=1.21s, eta=2:12:33\n",
      "2022-05-03 11:17:34 [INFO]\t[TRAIN] Epoch=56/270, Step=13/35, loss=13.91597, lr=0.000125, time_each_step=1.25s, eta=2:12:31\n",
      "2022-05-03 11:17:36 [INFO]\t[TRAIN] Epoch=56/270, Step=15/35, loss=12.550564, lr=0.000125, time_each_step=1.24s, eta=2:12:28\n",
      "2022-05-03 11:17:38 [INFO]\t[TRAIN] Epoch=56/270, Step=17/35, loss=7.488163, lr=0.000125, time_each_step=1.22s, eta=2:12:26\n",
      "2022-05-03 11:17:39 [INFO]\t[TRAIN] Epoch=56/270, Step=19/35, loss=11.985415, lr=0.000125, time_each_step=1.18s, eta=2:12:22\n",
      "2022-05-03 11:17:40 [INFO]\t[TRAIN] Epoch=56/270, Step=21/35, loss=12.54149, lr=0.000125, time_each_step=0.85s, eta=2:12:16\n",
      "2022-05-03 11:17:42 [INFO]\t[TRAIN] Epoch=56/270, Step=23/35, loss=18.82358, lr=0.000125, time_each_step=0.86s, eta=2:12:14\n"
     ]
    },
    {
     "name": "stderr",
     "output_type": "stream",
     "text": [
      "libpng warning: iCCP: known incorrect sRGB profile\n"
     ]
    },
    {
     "name": "stdout",
     "output_type": "stream",
     "text": [
      "2022-05-03 11:17:43 [INFO]\t[TRAIN] Epoch=56/270, Step=25/35, loss=13.780457, lr=0.000125, time_each_step=0.86s, eta=2:12:12\n",
      "2022-05-03 11:17:45 [INFO]\t[TRAIN] Epoch=56/270, Step=27/35, loss=13.64661, lr=0.000125, time_each_step=0.83s, eta=2:12:10\n",
      "2022-05-03 11:17:47 [INFO]\t[TRAIN] Epoch=56/270, Step=29/35, loss=7.857216, lr=0.000125, time_each_step=0.85s, eta=2:12:9\n",
      "2022-05-03 11:17:49 [INFO]\t[TRAIN] Epoch=56/270, Step=31/35, loss=13.175695, lr=0.000125, time_each_step=0.89s, eta=2:12:7\n",
      "2022-05-03 11:17:50 [INFO]\t[TRAIN] Epoch=56/270, Step=33/35, loss=8.217107, lr=0.000125, time_each_step=0.83s, eta=2:12:5\n",
      "2022-05-03 11:17:52 [INFO]\t[TRAIN] Epoch=56/270, Step=35/35, loss=14.508224, lr=0.000125, time_each_step=0.82s, eta=2:12:4\n",
      "2022-05-03 11:17:52 [INFO]\t[TRAIN] Epoch 56 finished, loss=11.947634, lr=0.000125 .\n",
      "2022-05-03 11:18:00 [INFO]\t[TRAIN] Epoch=57/270, Step=2/35, loss=8.94442, lr=0.000125, time_each_step=1.13s, eta=2:9:55\n",
      "2022-05-03 11:18:02 [INFO]\t[TRAIN] Epoch=57/270, Step=4/35, loss=11.577234, lr=0.000125, time_each_step=1.14s, eta=2:9:53\n"
     ]
    },
    {
     "name": "stderr",
     "output_type": "stream",
     "text": [
      "libpng warning: iCCP: known incorrect sRGB profile\n"
     ]
    },
    {
     "name": "stdout",
     "output_type": "stream",
     "text": [
      "2022-05-03 11:18:03 [INFO]\t[TRAIN] Epoch=57/270, Step=6/35, loss=11.208381, lr=0.000125, time_each_step=1.15s, eta=2:9:51\n",
      "2022-05-03 11:18:05 [INFO]\t[TRAIN] Epoch=57/270, Step=8/35, loss=12.121473, lr=0.000125, time_each_step=1.17s, eta=2:9:49\n",
      "2022-05-03 11:18:06 [INFO]\t[TRAIN] Epoch=57/270, Step=10/35, loss=12.264143, lr=0.000125, time_each_step=1.16s, eta=2:9:46\n",
      "2022-05-03 11:18:08 [INFO]\t[TRAIN] Epoch=57/270, Step=12/35, loss=12.210841, lr=0.000125, time_each_step=1.19s, eta=2:9:45\n",
      "2022-05-03 11:18:10 [INFO]\t[TRAIN] Epoch=57/270, Step=14/35, loss=8.636855, lr=0.000125, time_each_step=1.13s, eta=2:9:41\n",
      "2022-05-03 11:18:11 [INFO]\t[TRAIN] Epoch=57/270, Step=16/35, loss=8.356385, lr=0.000125, time_each_step=1.09s, eta=2:9:38\n",
      "2022-05-03 11:18:13 [INFO]\t[TRAIN] Epoch=57/270, Step=18/35, loss=7.140089, lr=0.000125, time_each_step=1.14s, eta=2:9:37\n",
      "2022-05-03 11:18:15 [INFO]\t[TRAIN] Epoch=57/270, Step=20/35, loss=10.395257, lr=0.000125, time_each_step=1.12s, eta=2:9:34\n",
      "2022-05-03 11:18:16 [INFO]\t[TRAIN] Epoch=57/270, Step=22/35, loss=11.137836, lr=0.000125, time_each_step=0.79s, eta=2:9:28\n",
      "2022-05-03 11:18:18 [INFO]\t[TRAIN] Epoch=57/270, Step=24/35, loss=14.207664, lr=0.000125, time_each_step=0.79s, eta=2:9:26\n",
      "2022-05-03 11:18:21 [INFO]\t[TRAIN] Epoch=57/270, Step=26/35, loss=17.307528, lr=0.000125, time_each_step=0.89s, eta=2:9:26\n",
      "2022-05-03 11:18:23 [INFO]\t[TRAIN] Epoch=57/270, Step=28/35, loss=8.614722, lr=0.000125, time_each_step=0.89s, eta=2:9:24\n",
      "2022-05-03 11:18:24 [INFO]\t[TRAIN] Epoch=57/270, Step=30/35, loss=8.726387, lr=0.000125, time_each_step=0.9s, eta=2:9:22\n",
      "2022-05-03 11:18:26 [INFO]\t[TRAIN] Epoch=57/270, Step=32/35, loss=9.944379, lr=0.000125, time_each_step=0.86s, eta=2:9:20\n"
     ]
    },
    {
     "name": "stderr",
     "output_type": "stream",
     "text": [
      "libpng warning: iCCP: known incorrect sRGB profile\n"
     ]
    },
    {
     "name": "stdout",
     "output_type": "stream",
     "text": [
      "2022-05-03 11:18:28 [INFO]\t[TRAIN] Epoch=57/270, Step=34/35, loss=12.767705, lr=0.000125, time_each_step=0.9s, eta=2:9:19\n",
      "2022-05-03 11:18:29 [INFO]\t[TRAIN] Epoch 57 finished, loss=12.283689, lr=0.000125 .\n",
      "2022-05-03 11:18:35 [INFO]\t[TRAIN] Epoch=58/270, Step=1/35, loss=11.03144, lr=0.000125, time_each_step=1.18s, eta=2:11:29\n",
      "2022-05-03 11:18:36 [INFO]\t[TRAIN] Epoch=58/270, Step=3/35, loss=12.781462, lr=0.000125, time_each_step=1.16s, eta=2:11:26\n"
     ]
    },
    {
     "name": "stderr",
     "output_type": "stream",
     "text": [
      "libpng warning: iCCP: known incorrect sRGB profile\n"
     ]
    },
    {
     "name": "stdout",
     "output_type": "stream",
     "text": [
      "2022-05-03 11:18:39 [INFO]\t[TRAIN] Epoch=58/270, Step=5/35, loss=12.255937, lr=0.000125, time_each_step=1.19s, eta=2:11:24\n",
      "2022-05-03 11:18:40 [INFO]\t[TRAIN] Epoch=58/270, Step=7/35, loss=12.372627, lr=0.000125, time_each_step=1.21s, eta=2:11:22\n",
      "2022-05-03 11:18:42 [INFO]\t[TRAIN] Epoch=58/270, Step=9/35, loss=8.841395, lr=0.000125, time_each_step=1.21s, eta=2:11:20\n",
      "2022-05-03 11:18:43 [INFO]\t[TRAIN] Epoch=58/270, Step=11/35, loss=12.546092, lr=0.000125, time_each_step=1.1s, eta=2:11:15\n",
      "2022-05-03 11:18:44 [INFO]\t[TRAIN] Epoch=58/270, Step=13/35, loss=11.547898, lr=0.000125, time_each_step=1.08s, eta=2:11:12\n",
      "2022-05-03 11:18:46 [INFO]\t[TRAIN] Epoch=58/270, Step=15/35, loss=8.005717, lr=0.000125, time_each_step=1.08s, eta=2:11:10\n",
      "2022-05-03 11:18:48 [INFO]\t[TRAIN] Epoch=58/270, Step=17/35, loss=13.058477, lr=0.000125, time_each_step=1.12s, eta=2:11:9\n",
      "2022-05-03 11:18:50 [INFO]\t[TRAIN] Epoch=58/270, Step=19/35, loss=15.271815, lr=0.000125, time_each_step=1.08s, eta=2:11:6\n",
      "2022-05-03 11:18:51 [INFO]\t[TRAIN] Epoch=58/270, Step=21/35, loss=18.451885, lr=0.000125, time_each_step=0.8s, eta=2:11:0\n",
      "2022-05-03 11:18:53 [INFO]\t[TRAIN] Epoch=58/270, Step=23/35, loss=16.877962, lr=0.000125, time_each_step=0.82s, eta=2:10:58\n",
      "2022-05-03 11:18:55 [INFO]\t[TRAIN] Epoch=58/270, Step=25/35, loss=10.870679, lr=0.000125, time_each_step=0.8s, eta=2:10:56\n",
      "2022-05-03 11:18:56 [INFO]\t[TRAIN] Epoch=58/270, Step=27/35, loss=9.963058, lr=0.000125, time_each_step=0.8s, eta=2:10:55\n",
      "2022-05-03 11:18:58 [INFO]\t[TRAIN] Epoch=58/270, Step=29/35, loss=10.982738, lr=0.000125, time_each_step=0.78s, eta=2:10:53\n"
     ]
    },
    {
     "name": "stderr",
     "output_type": "stream",
     "text": [
      "libpng warning: iCCP: known incorrect sRGB profile\n"
     ]
    },
    {
     "name": "stdout",
     "output_type": "stream",
     "text": [
      "2022-05-03 11:19:00 [INFO]\t[TRAIN] Epoch=58/270, Step=31/35, loss=11.804521, lr=0.000125, time_each_step=0.82s, eta=2:10:52\n",
      "2022-05-03 11:19:01 [INFO]\t[TRAIN] Epoch=58/270, Step=33/35, loss=11.555745, lr=0.000125, time_each_step=0.85s, eta=2:10:50\n",
      "2022-05-03 11:19:03 [INFO]\t[TRAIN] Epoch=58/270, Step=35/35, loss=11.787182, lr=0.000125, time_each_step=0.85s, eta=2:10:48\n",
      "2022-05-03 11:19:03 [INFO]\t[TRAIN] Epoch 58 finished, loss=12.431391, lr=0.000125 .\n",
      "2022-05-03 11:19:10 [INFO]\t[TRAIN] Epoch=59/270, Step=2/35, loss=9.982016, lr=0.000125, time_each_step=1.09s, eta=2:4:23\n",
      "2022-05-03 11:19:12 [INFO]\t[TRAIN] Epoch=59/270, Step=4/35, loss=13.239831, lr=0.000125, time_each_step=1.09s, eta=2:4:21\n"
     ]
    },
    {
     "name": "stderr",
     "output_type": "stream",
     "text": [
      "libpng warning: iCCP: known incorrect sRGB profile\n"
     ]
    },
    {
     "name": "stdout",
     "output_type": "stream",
     "text": [
      "2022-05-03 11:19:13 [INFO]\t[TRAIN] Epoch=59/270, Step=6/35, loss=14.471802, lr=0.000125, time_each_step=1.1s, eta=2:4:19\n",
      "2022-05-03 11:19:15 [INFO]\t[TRAIN] Epoch=59/270, Step=8/35, loss=11.069333, lr=0.000125, time_each_step=1.08s, eta=2:4:17\n",
      "2022-05-03 11:19:18 [INFO]\t[TRAIN] Epoch=59/270, Step=10/35, loss=14.03358, lr=0.000125, time_each_step=1.12s, eta=2:4:15\n",
      "2022-05-03 11:19:19 [INFO]\t[TRAIN] Epoch=59/270, Step=12/35, loss=17.829899, lr=0.000125, time_each_step=1.11s, eta=2:4:13\n",
      "2022-05-03 11:19:20 [INFO]\t[TRAIN] Epoch=59/270, Step=14/35, loss=13.482851, lr=0.000125, time_each_step=1.11s, eta=2:4:11\n",
      "2022-05-03 11:19:22 [INFO]\t[TRAIN] Epoch=59/270, Step=16/35, loss=12.286274, lr=0.000125, time_each_step=1.1s, eta=2:4:8\n",
      "2022-05-03 11:19:24 [INFO]\t[TRAIN] Epoch=59/270, Step=18/35, loss=16.044331, lr=0.000125, time_each_step=1.13s, eta=2:4:7\n",
      "2022-05-03 11:19:26 [INFO]\t[TRAIN] Epoch=59/270, Step=20/35, loss=13.669503, lr=0.000125, time_each_step=1.11s, eta=2:4:4\n",
      "2022-05-03 11:19:28 [INFO]\t[TRAIN] Epoch=59/270, Step=22/35, loss=8.348775, lr=0.000125, time_each_step=0.86s, eta=2:3:59\n"
     ]
    },
    {
     "name": "stderr",
     "output_type": "stream",
     "text": [
      "libpng warning: iCCP: known incorrect sRGB profile\n"
     ]
    },
    {
     "name": "stdout",
     "output_type": "stream",
     "text": [
      "2022-05-03 11:19:30 [INFO]\t[TRAIN] Epoch=59/270, Step=24/35, loss=12.557338, lr=0.000125, time_each_step=0.89s, eta=2:3:57\n",
      "2022-05-03 11:19:31 [INFO]\t[TRAIN] Epoch=59/270, Step=26/35, loss=13.892001, lr=0.000125, time_each_step=0.9s, eta=2:3:55\n",
      "2022-05-03 11:19:33 [INFO]\t[TRAIN] Epoch=59/270, Step=28/35, loss=13.639991, lr=0.000125, time_each_step=0.89s, eta=2:3:54\n",
      "2022-05-03 11:19:34 [INFO]\t[TRAIN] Epoch=59/270, Step=30/35, loss=13.98238, lr=0.000125, time_each_step=0.81s, eta=2:3:51\n",
      "2022-05-03 11:19:35 [INFO]\t[TRAIN] Epoch=59/270, Step=32/35, loss=14.161783, lr=0.000125, time_each_step=0.8s, eta=2:3:50\n",
      "2022-05-03 11:19:36 [INFO]\t[TRAIN] Epoch=59/270, Step=34/35, loss=11.093284, lr=0.000125, time_each_step=0.76s, eta=2:3:48\n",
      "2022-05-03 11:19:36 [INFO]\t[TRAIN] Epoch 59 finished, loss=12.025008, lr=0.000125 .\n",
      "2022-05-03 11:19:44 [INFO]\t[TRAIN] Epoch=60/270, Step=1/35, loss=10.821112, lr=0.000125, time_each_step=1.09s, eta=1:58:10\n",
      "2022-05-03 11:19:46 [INFO]\t[TRAIN] Epoch=60/270, Step=3/35, loss=13.224596, lr=0.000125, time_each_step=1.09s, eta=1:58:8\n"
     ]
    },
    {
     "name": "stderr",
     "output_type": "stream",
     "text": [
      "libpng warning: iCCP: known incorrect sRGB profile\n"
     ]
    },
    {
     "name": "stdout",
     "output_type": "stream",
     "text": [
      "2022-05-03 11:19:48 [INFO]\t[TRAIN] Epoch=60/270, Step=5/35, loss=14.172152, lr=0.000125, time_each_step=1.1s, eta=1:58:6\n",
      "2022-05-03 11:19:50 [INFO]\t[TRAIN] Epoch=60/270, Step=7/35, loss=10.746304, lr=0.000125, time_each_step=1.08s, eta=1:58:3\n",
      "2022-05-03 11:19:51 [INFO]\t[TRAIN] Epoch=60/270, Step=9/35, loss=15.750603, lr=0.000125, time_each_step=1.08s, eta=1:58:1\n",
      "2022-05-03 11:19:53 [INFO]\t[TRAIN] Epoch=60/270, Step=11/35, loss=9.947227, lr=0.000125, time_each_step=1.06s, eta=1:57:58\n",
      "2022-05-03 11:19:54 [INFO]\t[TRAIN] Epoch=60/270, Step=13/35, loss=16.878492, lr=0.000125, time_each_step=1.07s, eta=1:57:56\n",
      "2022-05-03 11:19:56 [INFO]\t[TRAIN] Epoch=60/270, Step=15/35, loss=12.58259, lr=0.000125, time_each_step=1.09s, eta=1:57:55\n",
      "2022-05-03 11:19:58 [INFO]\t[TRAIN] Epoch=60/270, Step=17/35, loss=11.501886, lr=0.000125, time_each_step=1.12s, eta=1:57:53\n",
      "2022-05-03 11:20:01 [INFO]\t[TRAIN] Epoch=60/270, Step=19/35, loss=13.888496, lr=0.000125, time_each_step=1.24s, eta=1:57:53\n",
      "2022-05-03 11:20:02 [INFO]\t[TRAIN] Epoch=60/270, Step=21/35, loss=6.868196, lr=0.000125, time_each_step=0.9s, eta=1:57:45\n",
      "2022-05-03 11:20:04 [INFO]\t[TRAIN] Epoch=60/270, Step=23/35, loss=17.562511, lr=0.000125, time_each_step=0.87s, eta=1:57:43\n"
     ]
    },
    {
     "name": "stderr",
     "output_type": "stream",
     "text": [
      "libpng warning: iCCP: known incorrect sRGB profile\n"
     ]
    },
    {
     "name": "stdout",
     "output_type": "stream",
     "text": [
      "2022-05-03 11:20:07 [INFO]\t[TRAIN] Epoch=60/270, Step=25/35, loss=10.132071, lr=0.000125, time_each_step=0.93s, eta=1:57:42\n",
      "2022-05-03 11:20:08 [INFO]\t[TRAIN] Epoch=60/270, Step=27/35, loss=17.617632, lr=0.000125, time_each_step=0.93s, eta=1:57:40\n",
      "2022-05-03 11:20:11 [INFO]\t[TRAIN] Epoch=60/270, Step=29/35, loss=12.086102, lr=0.000125, time_each_step=0.96s, eta=1:57:39\n",
      "2022-05-03 11:20:12 [INFO]\t[TRAIN] Epoch=60/270, Step=31/35, loss=14.971728, lr=0.000125, time_each_step=0.97s, eta=1:57:37\n",
      "2022-05-03 11:20:14 [INFO]\t[TRAIN] Epoch=60/270, Step=33/35, loss=17.724712, lr=0.000125, time_each_step=0.98s, eta=1:57:35\n",
      "2022-05-03 11:20:16 [INFO]\t[TRAIN] Epoch=60/270, Step=35/35, loss=10.795154, lr=0.000125, time_each_step=0.99s, eta=1:57:33\n",
      "2022-05-03 11:20:16 [INFO]\t[TRAIN] Epoch 60 finished, loss=12.124358, lr=0.000125 .\n",
      "2022-05-03 11:20:16 [INFO]\tStart to evaluating(total_samples=121, total_steps=16)...\n"
     ]
    },
    {
     "name": "stderr",
     "output_type": "stream",
     "text": [
      "100%|██████████| 16/16 [00:07<00:00,  2.13it/s]\n"
     ]
    },
    {
     "name": "stdout",
     "output_type": "stream",
     "text": [
      "2022-05-03 11:20:23 [INFO]\t[EVAL] Finished, Epoch=60, bbox_map=84.202515 .\n",
      "2022-05-03 11:20:29 [INFO]\tModel saved in output_yolov3_darknet53/best_model.\n",
      "2022-05-03 11:20:30 [INFO]\tModel saved in output_yolov3_darknet53/epoch_60.\n",
      "2022-05-03 11:20:30 [INFO]\tCurrent evaluated best model in eval_dataset is epoch_60, bbox_map=84.20251527234028\n",
      "2022-05-03 11:20:39 [INFO]\t[TRAIN] Epoch=61/270, Step=2/35, loss=7.76089, lr=0.000125, time_each_step=1.32s, eta=2:18:50\n",
      "2022-05-03 11:20:41 [INFO]\t[TRAIN] Epoch=61/270, Step=4/35, loss=16.288153, lr=0.000125, time_each_step=1.27s, eta=2:18:46\n"
     ]
    },
    {
     "name": "stderr",
     "output_type": "stream",
     "text": [
      "libpng warning: iCCP: known incorrect sRGB profile\n"
     ]
    },
    {
     "name": "stdout",
     "output_type": "stream",
     "text": [
      "2022-05-03 11:20:42 [INFO]\t[TRAIN] Epoch=61/270, Step=6/35, loss=11.280431, lr=0.000125, time_each_step=1.26s, eta=2:18:43\n",
      "2022-05-03 11:20:44 [INFO]\t[TRAIN] Epoch=61/270, Step=8/35, loss=9.41586, lr=0.000125, time_each_step=1.24s, eta=2:18:40\n",
      "2022-05-03 11:20:45 [INFO]\t[TRAIN] Epoch=61/270, Step=10/35, loss=15.835531, lr=0.000125, time_each_step=1.18s, eta=2:18:36\n",
      "2022-05-03 11:20:46 [INFO]\t[TRAIN] Epoch=61/270, Step=12/35, loss=8.229489, lr=0.000125, time_each_step=1.17s, eta=2:18:33\n",
      "2022-05-03 11:20:48 [INFO]\t[TRAIN] Epoch=61/270, Step=14/35, loss=9.303757, lr=0.000125, time_each_step=1.12s, eta=2:18:30\n",
      "2022-05-03 11:20:49 [INFO]\t[TRAIN] Epoch=61/270, Step=16/35, loss=13.630482, lr=0.000125, time_each_step=1.11s, eta=2:18:27\n",
      "2022-05-03 11:20:51 [INFO]\t[TRAIN] Epoch=61/270, Step=18/35, loss=12.001687, lr=0.000125, time_each_step=1.12s, eta=2:18:25\n",
      "2022-05-03 11:20:53 [INFO]\t[TRAIN] Epoch=61/270, Step=20/35, loss=11.052388, lr=0.000125, time_each_step=1.14s, eta=2:18:23\n",
      "2022-05-03 11:20:55 [INFO]\t[TRAIN] Epoch=61/270, Step=22/35, loss=10.732732, lr=0.000125, time_each_step=0.8s, eta=2:18:17\n",
      "2022-05-03 11:20:57 [INFO]\t[TRAIN] Epoch=61/270, Step=24/35, loss=11.102429, lr=0.000125, time_each_step=0.82s, eta=2:18:15\n",
      "2022-05-03 11:20:59 [INFO]\t[TRAIN] Epoch=61/270, Step=26/35, loss=8.952946, lr=0.000125, time_each_step=0.83s, eta=2:18:14\n",
      "2022-05-03 11:21:00 [INFO]\t[TRAIN] Epoch=61/270, Step=28/35, loss=16.244997, lr=0.000125, time_each_step=0.82s, eta=2:18:12\n"
     ]
    },
    {
     "name": "stderr",
     "output_type": "stream",
     "text": [
      "libpng warning: iCCP: known incorrect sRGB profile\n"
     ]
    },
    {
     "name": "stdout",
     "output_type": "stream",
     "text": [
      "2022-05-03 11:21:02 [INFO]\t[TRAIN] Epoch=61/270, Step=30/35, loss=8.985355, lr=0.000125, time_each_step=0.83s, eta=2:18:10\n",
      "2022-05-03 11:21:04 [INFO]\t[TRAIN] Epoch=61/270, Step=32/35, loss=12.407575, lr=0.000125, time_each_step=0.86s, eta=2:18:9\n",
      "2022-05-03 11:21:04 [INFO]\t[TRAIN] Epoch=61/270, Step=34/35, loss=9.198048, lr=0.000125, time_each_step=0.82s, eta=2:18:7\n",
      "2022-05-03 11:21:06 [INFO]\t[TRAIN] Epoch 61 finished, loss=11.51541, lr=0.000125 .\n",
      "2022-05-03 11:21:15 [INFO]\t[TRAIN] Epoch=62/270, Step=1/35, loss=8.57366, lr=0.000125, time_each_step=1.26s, eta=2:4:2\n",
      "2022-05-03 11:21:16 [INFO]\t[TRAIN] Epoch=62/270, Step=3/35, loss=13.238032, lr=0.000125, time_each_step=1.25s, eta=2:3:59\n"
     ]
    },
    {
     "name": "stderr",
     "output_type": "stream",
     "text": [
      "libpng warning: iCCP: known incorrect sRGB profile\n"
     ]
    },
    {
     "name": "stdout",
     "output_type": "stream",
     "text": [
      "2022-05-03 11:21:18 [INFO]\t[TRAIN] Epoch=62/270, Step=5/35, loss=15.412069, lr=0.000125, time_each_step=1.23s, eta=2:3:56\n",
      "2022-05-03 11:21:20 [INFO]\t[TRAIN] Epoch=62/270, Step=7/35, loss=11.438512, lr=0.000125, time_each_step=1.24s, eta=2:3:54\n",
      "2022-05-03 11:21:21 [INFO]\t[TRAIN] Epoch=62/270, Step=9/35, loss=10.538073, lr=0.000125, time_each_step=1.19s, eta=2:3:50\n",
      "2022-05-03 11:21:23 [INFO]\t[TRAIN] Epoch=62/270, Step=11/35, loss=8.895047, lr=0.000125, time_each_step=1.21s, eta=2:3:48\n",
      "2022-05-03 11:21:25 [INFO]\t[TRAIN] Epoch=62/270, Step=13/35, loss=9.996131, lr=0.000125, time_each_step=1.21s, eta=2:3:46\n",
      "2022-05-03 11:21:26 [INFO]\t[TRAIN] Epoch=62/270, Step=15/35, loss=8.811765, lr=0.000125, time_each_step=1.22s, eta=2:3:43\n",
      "2022-05-03 11:21:28 [INFO]\t[TRAIN] Epoch=62/270, Step=17/35, loss=13.744384, lr=0.000125, time_each_step=1.19s, eta=2:3:40\n",
      "2022-05-03 11:21:29 [INFO]\t[TRAIN] Epoch=62/270, Step=19/35, loss=11.178877, lr=0.000125, time_each_step=1.24s, eta=2:3:39\n",
      "2022-05-03 11:21:32 [INFO]\t[TRAIN] Epoch=62/270, Step=21/35, loss=13.988777, lr=0.000125, time_each_step=0.87s, eta=2:3:31\n",
      "2022-05-03 11:21:34 [INFO]\t[TRAIN] Epoch=62/270, Step=23/35, loss=12.953702, lr=0.000125, time_each_step=0.87s, eta=2:3:29\n",
      "2022-05-03 11:21:36 [INFO]\t[TRAIN] Epoch=62/270, Step=25/35, loss=7.966413, lr=0.000125, time_each_step=0.91s, eta=2:3:28\n"
     ]
    },
    {
     "name": "stderr",
     "output_type": "stream",
     "text": [
      "libpng warning: iCCP: known incorrect sRGB profile\n"
     ]
    },
    {
     "name": "stdout",
     "output_type": "stream",
     "text": [
      "2022-05-03 11:21:38 [INFO]\t[TRAIN] Epoch=62/270, Step=27/35, loss=8.583442, lr=0.000125, time_each_step=0.92s, eta=2:3:26\n",
      "2022-05-03 11:21:41 [INFO]\t[TRAIN] Epoch=62/270, Step=29/35, loss=15.243163, lr=0.000125, time_each_step=0.98s, eta=2:3:25\n",
      "2022-05-03 11:21:43 [INFO]\t[TRAIN] Epoch=62/270, Step=31/35, loss=9.646149, lr=0.000125, time_each_step=0.98s, eta=2:3:23\n",
      "2022-05-03 11:21:44 [INFO]\t[TRAIN] Epoch=62/270, Step=33/35, loss=15.278603, lr=0.000125, time_each_step=0.98s, eta=2:3:21\n",
      "2022-05-03 11:21:46 [INFO]\t[TRAIN] Epoch=62/270, Step=35/35, loss=11.566908, lr=0.000125, time_each_step=0.99s, eta=2:3:19\n",
      "2022-05-03 11:21:46 [INFO]\t[TRAIN] Epoch 62 finished, loss=11.075139, lr=0.000125 .\n",
      "2022-05-03 11:21:53 [INFO]\t[TRAIN] Epoch=63/270, Step=2/35, loss=8.172984, lr=0.000125, time_each_step=1.25s, eta=2:22:53\n",
      "2022-05-03 11:21:55 [INFO]\t[TRAIN] Epoch=63/270, Step=4/35, loss=11.05719, lr=0.000125, time_each_step=1.28s, eta=2:22:52\n"
     ]
    },
    {
     "name": "stderr",
     "output_type": "stream",
     "text": [
      "libpng warning: iCCP: known incorrect sRGB profile\n"
     ]
    },
    {
     "name": "stdout",
     "output_type": "stream",
     "text": [
      "2022-05-03 11:21:57 [INFO]\t[TRAIN] Epoch=63/270, Step=6/35, loss=11.611609, lr=0.000125, time_each_step=1.23s, eta=2:22:48\n",
      "2022-05-03 11:21:58 [INFO]\t[TRAIN] Epoch=63/270, Step=8/35, loss=15.748621, lr=0.000125, time_each_step=1.21s, eta=2:22:44\n",
      "2022-05-03 11:22:00 [INFO]\t[TRAIN] Epoch=63/270, Step=10/35, loss=8.376008, lr=0.000125, time_each_step=1.16s, eta=2:22:41\n",
      "2022-05-03 11:22:01 [INFO]\t[TRAIN] Epoch=63/270, Step=12/35, loss=9.802801, lr=0.000125, time_each_step=1.12s, eta=2:22:38\n",
      "2022-05-03 11:22:02 [INFO]\t[TRAIN] Epoch=63/270, Step=14/35, loss=12.420273, lr=0.000125, time_each_step=1.06s, eta=2:22:34\n",
      "2022-05-03 11:22:04 [INFO]\t[TRAIN] Epoch=63/270, Step=16/35, loss=7.595337, lr=0.000125, time_each_step=1.04s, eta=2:22:32\n",
      "2022-05-03 11:22:05 [INFO]\t[TRAIN] Epoch=63/270, Step=18/35, loss=11.23264, lr=0.000125, time_each_step=1.04s, eta=2:22:30\n",
      "2022-05-03 11:22:07 [INFO]\t[TRAIN] Epoch=63/270, Step=20/35, loss=13.031172, lr=0.000125, time_each_step=1.03s, eta=2:22:27\n",
      "2022-05-03 11:22:08 [INFO]\t[TRAIN] Epoch=63/270, Step=22/35, loss=10.155746, lr=0.000125, time_each_step=0.78s, eta=2:22:22\n",
      "2022-05-03 11:22:10 [INFO]\t[TRAIN] Epoch=63/270, Step=24/35, loss=15.25268, lr=0.000125, time_each_step=0.76s, eta=2:22:20\n",
      "2022-05-03 11:22:12 [INFO]\t[TRAIN] Epoch=63/270, Step=26/35, loss=15.503376, lr=0.000125, time_each_step=0.76s, eta=2:22:19\n"
     ]
    },
    {
     "name": "stderr",
     "output_type": "stream",
     "text": [
      "libpng warning: iCCP: known incorrect sRGB profile\n"
     ]
    },
    {
     "name": "stdout",
     "output_type": "stream",
     "text": [
      "2022-05-03 11:22:15 [INFO]\t[TRAIN] Epoch=63/270, Step=28/35, loss=11.200417, lr=0.000125, time_each_step=0.81s, eta=2:22:18\n",
      "2022-05-03 11:22:16 [INFO]\t[TRAIN] Epoch=63/270, Step=30/35, loss=11.734887, lr=0.000125, time_each_step=0.8s, eta=2:22:16\n",
      "2022-05-03 11:22:18 [INFO]\t[TRAIN] Epoch=63/270, Step=32/35, loss=9.252358, lr=0.000125, time_each_step=0.84s, eta=2:22:14\n",
      "2022-05-03 11:22:20 [INFO]\t[TRAIN] Epoch=63/270, Step=34/35, loss=11.933275, lr=0.000125, time_each_step=0.88s, eta=2:22:13\n",
      "2022-05-03 11:22:20 [INFO]\t[TRAIN] Epoch 63 finished, loss=11.317669, lr=0.000125 .\n",
      "2022-05-03 11:22:27 [INFO]\t[TRAIN] Epoch=64/270, Step=1/35, loss=10.595553, lr=0.000125, time_each_step=1.15s, eta=1:59:27\n"
     ]
    },
    {
     "name": "stderr",
     "output_type": "stream",
     "text": [
      "libpng warning: iCCP: known incorrect sRGB profile\n"
     ]
    },
    {
     "name": "stdout",
     "output_type": "stream",
     "text": [
      "2022-05-03 11:22:29 [INFO]\t[TRAIN] Epoch=64/270, Step=3/35, loss=17.386204, lr=0.000125, time_each_step=1.16s, eta=1:59:25\n",
      "2022-05-03 11:22:30 [INFO]\t[TRAIN] Epoch=64/270, Step=5/35, loss=9.784121, lr=0.000125, time_each_step=1.15s, eta=1:59:22\n",
      "2022-05-03 11:22:32 [INFO]\t[TRAIN] Epoch=64/270, Step=7/35, loss=11.832376, lr=0.000125, time_each_step=1.16s, eta=1:59:20\n",
      "2022-05-03 11:22:33 [INFO]\t[TRAIN] Epoch=64/270, Step=9/35, loss=12.524171, lr=0.000125, time_each_step=1.14s, eta=1:59:17\n",
      "2022-05-03 11:22:34 [INFO]\t[TRAIN] Epoch=64/270, Step=11/35, loss=6.611821, lr=0.000125, time_each_step=1.12s, eta=1:59:14\n",
      "2022-05-03 11:22:36 [INFO]\t[TRAIN] Epoch=64/270, Step=13/35, loss=8.649522, lr=0.000125, time_each_step=1.07s, eta=1:59:11\n",
      "2022-05-03 11:22:38 [INFO]\t[TRAIN] Epoch=64/270, Step=15/35, loss=11.242039, lr=0.000125, time_each_step=1.12s, eta=1:59:10\n",
      "2022-05-03 11:22:40 [INFO]\t[TRAIN] Epoch=64/270, Step=17/35, loss=11.097523, lr=0.000125, time_each_step=1.11s, eta=1:59:7\n",
      "2022-05-03 11:22:41 [INFO]\t[TRAIN] Epoch=64/270, Step=19/35, loss=9.148287, lr=0.000125, time_each_step=1.06s, eta=1:59:4\n",
      "2022-05-03 11:22:43 [INFO]\t[TRAIN] Epoch=64/270, Step=21/35, loss=11.72422, lr=0.000125, time_each_step=0.79s, eta=1:58:59\n",
      "2022-05-03 11:22:45 [INFO]\t[TRAIN] Epoch=64/270, Step=23/35, loss=11.298065, lr=0.000125, time_each_step=0.8s, eta=1:58:57\n",
      "2022-05-03 11:22:46 [INFO]\t[TRAIN] Epoch=64/270, Step=25/35, loss=8.739822, lr=0.000125, time_each_step=0.81s, eta=1:58:56\n",
      "2022-05-03 11:22:48 [INFO]\t[TRAIN] Epoch=64/270, Step=27/35, loss=9.17655, lr=0.000125, time_each_step=0.84s, eta=1:58:54\n",
      "2022-05-03 11:22:50 [INFO]\t[TRAIN] Epoch=64/270, Step=29/35, loss=11.295041, lr=0.000125, time_each_step=0.84s, eta=1:58:52\n",
      "2022-05-03 11:22:51 [INFO]\t[TRAIN] Epoch=64/270, Step=31/35, loss=10.296893, lr=0.000125, time_each_step=0.84s, eta=1:58:51\n"
     ]
    },
    {
     "name": "stderr",
     "output_type": "stream",
     "text": [
      "libpng warning: iCCP: known incorrect sRGB profile\n"
     ]
    },
    {
     "name": "stdout",
     "output_type": "stream",
     "text": [
      "2022-05-03 11:22:53 [INFO]\t[TRAIN] Epoch=64/270, Step=33/35, loss=15.9762, lr=0.000125, time_each_step=0.86s, eta=1:58:49\n",
      "2022-05-03 11:22:55 [INFO]\t[TRAIN] Epoch=64/270, Step=35/35, loss=12.78728, lr=0.000125, time_each_step=0.83s, eta=1:58:47\n",
      "2022-05-03 11:22:55 [INFO]\t[TRAIN] Epoch 64 finished, loss=11.587311, lr=0.000125 .\n",
      "2022-05-03 11:23:02 [INFO]\t[TRAIN] Epoch=65/270, Step=2/35, loss=11.739683, lr=0.000125, time_each_step=1.13s, eta=2:0:2\n"
     ]
    },
    {
     "name": "stderr",
     "output_type": "stream",
     "text": [
      "libpng warning: iCCP: known incorrect sRGB profile\n"
     ]
    },
    {
     "name": "stdout",
     "output_type": "stream",
     "text": [
      "2022-05-03 11:23:06 [INFO]\t[TRAIN] Epoch=65/270, Step=4/35, loss=12.722209, lr=0.000125, time_each_step=1.23s, eta=2:0:3\n",
      "2022-05-03 11:23:08 [INFO]\t[TRAIN] Epoch=65/270, Step=6/35, loss=15.982533, lr=0.000125, time_each_step=1.26s, eta=2:0:2\n",
      "2022-05-03 11:23:09 [INFO]\t[TRAIN] Epoch=65/270, Step=8/35, loss=14.429455, lr=0.000125, time_each_step=1.24s, eta=1:59:59\n",
      "2022-05-03 11:23:11 [INFO]\t[TRAIN] Epoch=65/270, Step=10/35, loss=11.428875, lr=0.000125, time_each_step=1.26s, eta=1:59:57\n",
      "2022-05-03 11:23:13 [INFO]\t[TRAIN] Epoch=65/270, Step=12/35, loss=10.155581, lr=0.000125, time_each_step=1.22s, eta=1:59:53\n",
      "2022-05-03 11:23:15 [INFO]\t[TRAIN] Epoch=65/270, Step=14/35, loss=11.720182, lr=0.000125, time_each_step=1.23s, eta=1:59:51\n",
      "2022-05-03 11:23:16 [INFO]\t[TRAIN] Epoch=65/270, Step=16/35, loss=11.49968, lr=0.000125, time_each_step=1.23s, eta=1:59:48\n",
      "2022-05-03 11:23:18 [INFO]\t[TRAIN] Epoch=65/270, Step=18/35, loss=8.448118, lr=0.000125, time_each_step=1.23s, eta=1:59:46\n",
      "2022-05-03 11:23:19 [INFO]\t[TRAIN] Epoch=65/270, Step=20/35, loss=6.805264, lr=0.000125, time_each_step=1.22s, eta=1:59:43\n",
      "2022-05-03 11:23:21 [INFO]\t[TRAIN] Epoch=65/270, Step=22/35, loss=9.678455, lr=0.000125, time_each_step=0.94s, eta=1:59:37\n",
      "2022-05-03 11:23:23 [INFO]\t[TRAIN] Epoch=65/270, Step=24/35, loss=15.078517, lr=0.000125, time_each_step=0.85s, eta=1:59:35\n"
     ]
    },
    {
     "name": "stderr",
     "output_type": "stream",
     "text": [
      "libpng warning: iCCP: known incorrect sRGB profile\n"
     ]
    },
    {
     "name": "stdout",
     "output_type": "stream",
     "text": [
      "2022-05-03 11:23:24 [INFO]\t[TRAIN] Epoch=65/270, Step=26/35, loss=11.123704, lr=0.000125, time_each_step=0.83s, eta=1:59:33\n",
      "2022-05-03 11:23:26 [INFO]\t[TRAIN] Epoch=65/270, Step=28/35, loss=12.258484, lr=0.000125, time_each_step=0.81s, eta=1:59:31\n",
      "2022-05-03 11:23:28 [INFO]\t[TRAIN] Epoch=65/270, Step=30/35, loss=7.641178, lr=0.000125, time_each_step=0.84s, eta=1:59:29\n",
      "2022-05-03 11:23:30 [INFO]\t[TRAIN] Epoch=65/270, Step=32/35, loss=9.446775, lr=0.000125, time_each_step=0.85s, eta=1:59:28\n",
      "2022-05-03 11:23:32 [INFO]\t[TRAIN] Epoch=65/270, Step=34/35, loss=12.973858, lr=0.000125, time_each_step=0.86s, eta=1:59:26\n",
      "2022-05-03 11:23:33 [INFO]\t[TRAIN] Epoch 65 finished, loss=11.052129, lr=0.000125 .\n",
      "2022-05-03 11:23:39 [INFO]\t[TRAIN] Epoch=66/270, Step=1/35, loss=10.46335, lr=0.000125, time_each_step=1.15s, eta=2:12:29\n",
      "2022-05-03 11:23:41 [INFO]\t[TRAIN] Epoch=66/270, Step=3/35, loss=12.349613, lr=0.000125, time_each_step=1.12s, eta=2:12:26\n"
     ]
    },
    {
     "name": "stderr",
     "output_type": "stream",
     "text": [
      "libpng warning: iCCP: known incorrect sRGB profile\n"
     ]
    },
    {
     "name": "stdout",
     "output_type": "stream",
     "text": [
      "2022-05-03 11:23:42 [INFO]\t[TRAIN] Epoch=66/270, Step=5/35, loss=10.643682, lr=0.000125, time_each_step=1.13s, eta=2:12:24\n",
      "2022-05-03 11:23:44 [INFO]\t[TRAIN] Epoch=66/270, Step=7/35, loss=10.72964, lr=0.000125, time_each_step=1.11s, eta=2:12:21\n",
      "2022-05-03 11:23:45 [INFO]\t[TRAIN] Epoch=66/270, Step=9/35, loss=14.294584, lr=0.000125, time_each_step=1.1s, eta=2:12:19\n",
      "2022-05-03 11:23:47 [INFO]\t[TRAIN] Epoch=66/270, Step=11/35, loss=13.743405, lr=0.000125, time_each_step=1.13s, eta=2:12:17\n",
      "2022-05-03 11:23:49 [INFO]\t[TRAIN] Epoch=66/270, Step=13/35, loss=11.12858, lr=0.000125, time_each_step=1.16s, eta=2:12:15\n",
      "2022-05-03 11:23:50 [INFO]\t[TRAIN] Epoch=66/270, Step=15/35, loss=10.198839, lr=0.000125, time_each_step=1.1s, eta=2:12:12\n",
      "2022-05-03 11:23:52 [INFO]\t[TRAIN] Epoch=66/270, Step=17/35, loss=13.113987, lr=0.000125, time_each_step=1.08s, eta=2:12:9\n",
      "2022-05-03 11:23:54 [INFO]\t[TRAIN] Epoch=66/270, Step=19/35, loss=11.56808, lr=0.000125, time_each_step=1.1s, eta=2:12:7\n",
      "2022-05-03 11:23:55 [INFO]\t[TRAIN] Epoch=66/270, Step=21/35, loss=8.946352, lr=0.000125, time_each_step=0.81s, eta=2:12:1\n",
      "2022-05-03 11:23:57 [INFO]\t[TRAIN] Epoch=66/270, Step=23/35, loss=11.786766, lr=0.000125, time_each_step=0.82s, eta=2:12:0\n"
     ]
    },
    {
     "name": "stderr",
     "output_type": "stream",
     "text": [
      "libpng warning: iCCP: known incorrect sRGB profile\n"
     ]
    },
    {
     "name": "stdout",
     "output_type": "stream",
     "text": [
      "2022-05-03 11:23:59 [INFO]\t[TRAIN] Epoch=66/270, Step=25/35, loss=12.356127, lr=0.000125, time_each_step=0.82s, eta=2:11:58\n",
      "2022-05-03 11:24:00 [INFO]\t[TRAIN] Epoch=66/270, Step=27/35, loss=18.44389, lr=0.000125, time_each_step=0.8s, eta=2:11:56\n",
      "2022-05-03 11:24:02 [INFO]\t[TRAIN] Epoch=66/270, Step=29/35, loss=11.643723, lr=0.000125, time_each_step=0.83s, eta=2:11:55\n",
      "2022-05-03 11:24:03 [INFO]\t[TRAIN] Epoch=66/270, Step=31/35, loss=11.535287, lr=0.000125, time_each_step=0.78s, eta=2:11:53\n",
      "2022-05-03 11:24:05 [INFO]\t[TRAIN] Epoch=66/270, Step=33/35, loss=9.312325, lr=0.000125, time_each_step=0.78s, eta=2:11:51\n",
      "2022-05-03 11:24:07 [INFO]\t[TRAIN] Epoch=66/270, Step=35/35, loss=13.975606, lr=0.000125, time_each_step=0.81s, eta=2:11:50\n",
      "2022-05-03 11:24:07 [INFO]\t[TRAIN] Epoch 66 finished, loss=11.450298, lr=0.000125 .\n",
      "2022-05-03 11:24:15 [INFO]\t[TRAIN] Epoch=67/270, Step=2/35, loss=10.001287, lr=0.000125, time_each_step=1.14s, eta=1:57:46\n"
     ]
    },
    {
     "name": "stderr",
     "output_type": "stream",
     "text": [
      "libpng warning: iCCP: known incorrect sRGB profile\n"
     ]
    },
    {
     "name": "stdout",
     "output_type": "stream",
     "text": [
      "2022-05-03 11:24:17 [INFO]\t[TRAIN] Epoch=67/270, Step=4/35, loss=12.740133, lr=0.000125, time_each_step=1.12s, eta=1:57:43\n",
      "2022-05-03 11:24:18 [INFO]\t[TRAIN] Epoch=67/270, Step=6/35, loss=11.30179, lr=0.000125, time_each_step=1.12s, eta=1:57:40\n",
      "2022-05-03 11:24:20 [INFO]\t[TRAIN] Epoch=67/270, Step=8/35, loss=9.606632, lr=0.000125, time_each_step=1.11s, eta=1:57:38\n",
      "2022-05-03 11:24:22 [INFO]\t[TRAIN] Epoch=67/270, Step=10/35, loss=14.115895, lr=0.000125, time_each_step=1.12s, eta=1:57:36\n",
      "2022-05-03 11:24:23 [INFO]\t[TRAIN] Epoch=67/270, Step=12/35, loss=9.342026, lr=0.000125, time_each_step=1.11s, eta=1:57:34\n",
      "2022-05-03 11:24:24 [INFO]\t[TRAIN] Epoch=67/270, Step=14/35, loss=9.685163, lr=0.000125, time_each_step=1.08s, eta=1:57:31\n",
      "2022-05-03 11:24:26 [INFO]\t[TRAIN] Epoch=67/270, Step=16/35, loss=9.441006, lr=0.000125, time_each_step=1.11s, eta=1:57:29\n",
      "2022-05-03 11:24:28 [INFO]\t[TRAIN] Epoch=67/270, Step=18/35, loss=13.640121, lr=0.000125, time_each_step=1.11s, eta=1:57:27\n",
      "2022-05-03 11:24:29 [INFO]\t[TRAIN] Epoch=67/270, Step=20/35, loss=14.26511, lr=0.000125, time_each_step=1.1s, eta=1:57:24\n",
      "2022-05-03 11:24:31 [INFO]\t[TRAIN] Epoch=67/270, Step=22/35, loss=13.356612, lr=0.000125, time_each_step=0.77s, eta=1:57:18\n",
      "2022-05-03 11:24:33 [INFO]\t[TRAIN] Epoch=67/270, Step=24/35, loss=15.358516, lr=0.000125, time_each_step=0.78s, eta=1:57:17\n",
      "2022-05-03 11:24:34 [INFO]\t[TRAIN] Epoch=67/270, Step=26/35, loss=6.036719, lr=0.000125, time_each_step=0.81s, eta=1:57:15\n",
      "2022-05-03 11:24:37 [INFO]\t[TRAIN] Epoch=67/270, Step=28/35, loss=12.977907, lr=0.000125, time_each_step=0.84s, eta=1:57:14\n",
      "2022-05-03 11:24:38 [INFO]\t[TRAIN] Epoch=67/270, Step=30/35, loss=7.268963, lr=0.000125, time_each_step=0.8s, eta=1:57:12\n"
     ]
    },
    {
     "name": "stderr",
     "output_type": "stream",
     "text": [
      "libpng warning: iCCP: known incorrect sRGB profile\n"
     ]
    },
    {
     "name": "stdout",
     "output_type": "stream",
     "text": [
      "2022-05-03 11:24:40 [INFO]\t[TRAIN] Epoch=67/270, Step=32/35, loss=13.45531, lr=0.000125, time_each_step=0.85s, eta=1:57:11\n",
      "2022-05-03 11:24:41 [INFO]\t[TRAIN] Epoch=67/270, Step=34/35, loss=13.870899, lr=0.000125, time_each_step=0.87s, eta=1:57:9\n",
      "2022-05-03 11:24:42 [INFO]\t[TRAIN] Epoch 67 finished, loss=11.047764, lr=0.000125 .\n",
      "2022-05-03 11:24:49 [INFO]\t[TRAIN] Epoch=68/270, Step=1/35, loss=7.143528, lr=0.000125, time_each_step=1.12s, eta=2:1:12\n",
      "2022-05-03 11:24:50 [INFO]\t[TRAIN] Epoch=68/270, Step=3/35, loss=11.417387, lr=0.000125, time_each_step=1.13s, eta=2:1:10\n"
     ]
    },
    {
     "name": "stderr",
     "output_type": "stream",
     "text": [
      "libpng warning: iCCP: known incorrect sRGB profile\n"
     ]
    },
    {
     "name": "stdout",
     "output_type": "stream",
     "text": [
      "2022-05-03 11:24:52 [INFO]\t[TRAIN] Epoch=68/270, Step=5/35, loss=11.070146, lr=0.000125, time_each_step=1.13s, eta=2:1:8\n",
      "2022-05-03 11:24:54 [INFO]\t[TRAIN] Epoch=68/270, Step=7/35, loss=8.86989, lr=0.000125, time_each_step=1.13s, eta=2:1:6\n",
      "2022-05-03 11:24:55 [INFO]\t[TRAIN] Epoch=68/270, Step=9/35, loss=15.167057, lr=0.000125, time_each_step=1.12s, eta=2:1:3\n",
      "2022-05-03 11:24:57 [INFO]\t[TRAIN] Epoch=68/270, Step=11/35, loss=6.213437, lr=0.000125, time_each_step=1.1s, eta=2:1:0\n",
      "2022-05-03 11:24:59 [INFO]\t[TRAIN] Epoch=68/270, Step=13/35, loss=14.339042, lr=0.000125, time_each_step=1.13s, eta=2:0:59\n",
      "2022-05-03 11:25:01 [INFO]\t[TRAIN] Epoch=68/270, Step=15/35, loss=7.77275, lr=0.000125, time_each_step=1.16s, eta=2:0:57\n",
      "2022-05-03 11:25:02 [INFO]\t[TRAIN] Epoch=68/270, Step=17/35, loss=12.334436, lr=0.000125, time_each_step=1.11s, eta=2:0:54\n",
      "2022-05-03 11:25:04 [INFO]\t[TRAIN] Epoch=68/270, Step=19/35, loss=8.674822, lr=0.000125, time_each_step=1.09s, eta=2:0:51\n",
      "2022-05-03 11:25:06 [INFO]\t[TRAIN] Epoch=68/270, Step=21/35, loss=12.114329, lr=0.000125, time_each_step=0.88s, eta=2:0:46\n",
      "2022-05-03 11:25:08 [INFO]\t[TRAIN] Epoch=68/270, Step=23/35, loss=9.695766, lr=0.000125, time_each_step=0.89s, eta=2:0:44\n",
      "2022-05-03 11:25:10 [INFO]\t[TRAIN] Epoch=68/270, Step=25/35, loss=12.570587, lr=0.000125, time_each_step=0.87s, eta=2:0:43\n",
      "2022-05-03 11:25:11 [INFO]\t[TRAIN] Epoch=68/270, Step=27/35, loss=14.851952, lr=0.000125, time_each_step=0.86s, eta=2:0:41\n",
      "2022-05-03 11:25:13 [INFO]\t[TRAIN] Epoch=68/270, Step=29/35, loss=8.240648, lr=0.000125, time_each_step=0.87s, eta=2:0:39\n",
      "2022-05-03 11:25:14 [INFO]\t[TRAIN] Epoch=68/270, Step=31/35, loss=10.791935, lr=0.000125, time_each_step=0.87s, eta=2:0:37\n",
      "2022-05-03 11:25:16 [INFO]\t[TRAIN] Epoch=68/270, Step=33/35, loss=7.590916, lr=0.000125, time_each_step=0.82s, eta=2:0:35\n"
     ]
    },
    {
     "name": "stderr",
     "output_type": "stream",
     "text": [
      "libpng warning: iCCP: known incorrect sRGB profile\n"
     ]
    },
    {
     "name": "stdout",
     "output_type": "stream",
     "text": [
      "2022-05-03 11:25:18 [INFO]\t[TRAIN] Epoch=68/270, Step=35/35, loss=13.292019, lr=0.000125, time_each_step=0.84s, eta=2:0:34\n",
      "2022-05-03 11:25:18 [INFO]\t[TRAIN] Epoch 68 finished, loss=10.324687, lr=0.000125 .\n",
      "2022-05-03 11:25:25 [INFO]\t[TRAIN] Epoch=69/270, Step=2/35, loss=5.724575, lr=0.000125, time_each_step=1.13s, eta=2:2:4\n",
      "2022-05-03 11:25:27 [INFO]\t[TRAIN] Epoch=69/270, Step=4/35, loss=13.468984, lr=0.000125, time_each_step=1.18s, eta=2:2:3\n"
     ]
    },
    {
     "name": "stderr",
     "output_type": "stream",
     "text": [
      "libpng warning: iCCP: known incorrect sRGB profile\n"
     ]
    },
    {
     "name": "stdout",
     "output_type": "stream",
     "text": [
      "2022-05-03 11:25:29 [INFO]\t[TRAIN] Epoch=69/270, Step=6/35, loss=11.490534, lr=0.000125, time_each_step=1.16s, eta=2:2:0\n",
      "2022-05-03 11:25:31 [INFO]\t[TRAIN] Epoch=69/270, Step=8/35, loss=12.474556, lr=0.000125, time_each_step=1.12s, eta=2:1:56\n",
      "2022-05-03 11:25:33 [INFO]\t[TRAIN] Epoch=69/270, Step=10/35, loss=15.448721, lr=0.000125, time_each_step=1.15s, eta=2:1:55\n",
      "2022-05-03 11:25:34 [INFO]\t[TRAIN] Epoch=69/270, Step=12/35, loss=11.52822, lr=0.000125, time_each_step=1.15s, eta=2:1:53\n",
      "2022-05-03 11:25:36 [INFO]\t[TRAIN] Epoch=69/270, Step=14/35, loss=8.107735, lr=0.000125, time_each_step=1.14s, eta=2:1:50\n",
      "2022-05-03 11:25:37 [INFO]\t[TRAIN] Epoch=69/270, Step=16/35, loss=7.931762, lr=0.000125, time_each_step=1.14s, eta=2:1:48\n",
      "2022-05-03 11:25:39 [INFO]\t[TRAIN] Epoch=69/270, Step=18/35, loss=8.166586, lr=0.000125, time_each_step=1.16s, eta=2:1:46\n",
      "2022-05-03 11:25:41 [INFO]\t[TRAIN] Epoch=69/270, Step=20/35, loss=10.542901, lr=0.000125, time_each_step=1.13s, eta=2:1:43\n",
      "2022-05-03 11:25:42 [INFO]\t[TRAIN] Epoch=69/270, Step=22/35, loss=10.816808, lr=0.000125, time_each_step=0.85s, eta=2:1:37\n",
      "2022-05-03 11:25:44 [INFO]\t[TRAIN] Epoch=69/270, Step=24/35, loss=10.215683, lr=0.000125, time_each_step=0.81s, eta=2:1:35\n",
      "2022-05-03 11:25:45 [INFO]\t[TRAIN] Epoch=69/270, Step=26/35, loss=10.083743, lr=0.000125, time_each_step=0.77s, eta=2:1:33\n",
      "2022-05-03 11:25:46 [INFO]\t[TRAIN] Epoch=69/270, Step=28/35, loss=9.639329, lr=0.000125, time_each_step=0.79s, eta=2:1:32\n",
      "2022-05-03 11:25:48 [INFO]\t[TRAIN] Epoch=69/270, Step=30/35, loss=10.58874, lr=0.000125, time_each_step=0.78s, eta=2:1:30\n",
      "2022-05-03 11:25:49 [INFO]\t[TRAIN] Epoch=69/270, Step=32/35, loss=12.671103, lr=0.000125, time_each_step=0.76s, eta=2:1:29\n"
     ]
    },
    {
     "name": "stderr",
     "output_type": "stream",
     "text": [
      "libpng warning: iCCP: known incorrect sRGB profile\n"
     ]
    },
    {
     "name": "stdout",
     "output_type": "stream",
     "text": [
      "2022-05-03 11:25:52 [INFO]\t[TRAIN] Epoch=69/270, Step=34/35, loss=14.15873, lr=0.000125, time_each_step=0.8s, eta=2:1:27\n",
      "2022-05-03 11:25:52 [INFO]\t[TRAIN] Epoch 69 finished, loss=10.679831, lr=0.000125 .\n",
      "2022-05-03 11:25:59 [INFO]\t[TRAIN] Epoch=70/270, Step=1/35, loss=7.277679, lr=0.000125, time_each_step=1.08s, eta=1:56:26\n",
      "2022-05-03 11:26:01 [INFO]\t[TRAIN] Epoch=70/270, Step=3/35, loss=9.242326, lr=0.000125, time_each_step=1.08s, eta=1:56:24\n"
     ]
    },
    {
     "name": "stderr",
     "output_type": "stream",
     "text": [
      "libpng warning: iCCP: known incorrect sRGB profile\n"
     ]
    },
    {
     "name": "stdout",
     "output_type": "stream",
     "text": [
      "2022-05-03 11:26:03 [INFO]\t[TRAIN] Epoch=70/270, Step=5/35, loss=13.343082, lr=0.000125, time_each_step=1.09s, eta=1:56:22\n",
      "2022-05-03 11:26:05 [INFO]\t[TRAIN] Epoch=70/270, Step=7/35, loss=12.864455, lr=0.000125, time_each_step=1.12s, eta=1:56:21\n",
      "2022-05-03 11:26:06 [INFO]\t[TRAIN] Epoch=70/270, Step=9/35, loss=10.306591, lr=0.000125, time_each_step=1.11s, eta=1:56:19\n",
      "2022-05-03 11:26:07 [INFO]\t[TRAIN] Epoch=70/270, Step=11/35, loss=6.810231, lr=0.000125, time_each_step=1.11s, eta=1:56:16\n",
      "2022-05-03 11:26:09 [INFO]\t[TRAIN] Epoch=70/270, Step=13/35, loss=10.643733, lr=0.000125, time_each_step=1.12s, eta=1:56:14\n",
      "2022-05-03 11:26:11 [INFO]\t[TRAIN] Epoch=70/270, Step=15/35, loss=10.999098, lr=0.000125, time_each_step=1.1s, eta=1:56:12\n",
      "2022-05-03 11:26:12 [INFO]\t[TRAIN] Epoch=70/270, Step=17/35, loss=11.174109, lr=0.000125, time_each_step=1.1s, eta=1:56:10\n",
      "2022-05-03 11:26:13 [INFO]\t[TRAIN] Epoch=70/270, Step=19/35, loss=8.744168, lr=0.000125, time_each_step=1.03s, eta=1:56:6\n",
      "2022-05-03 11:26:14 [INFO]\t[TRAIN] Epoch=70/270, Step=21/35, loss=10.1041, lr=0.000125, time_each_step=0.75s, eta=1:56:0\n",
      "2022-05-03 11:26:16 [INFO]\t[TRAIN] Epoch=70/270, Step=23/35, loss=10.094254, lr=0.000125, time_each_step=0.72s, eta=1:55:58\n"
     ]
    },
    {
     "name": "stderr",
     "output_type": "stream",
     "text": [
      "libpng warning: iCCP: known incorrect sRGB profile\n"
     ]
    },
    {
     "name": "stdout",
     "output_type": "stream",
     "text": [
      "2022-05-03 11:26:17 [INFO]\t[TRAIN] Epoch=70/270, Step=25/35, loss=11.290684, lr=0.000125, time_each_step=0.69s, eta=1:55:57\n",
      "2022-05-03 11:26:18 [INFO]\t[TRAIN] Epoch=70/270, Step=27/35, loss=12.079445, lr=0.000125, time_each_step=0.67s, eta=1:55:55\n",
      "2022-05-03 11:26:20 [INFO]\t[TRAIN] Epoch=70/270, Step=29/35, loss=8.650573, lr=0.000125, time_each_step=0.71s, eta=1:55:54\n",
      "2022-05-03 11:26:22 [INFO]\t[TRAIN] Epoch=70/270, Step=31/35, loss=11.943601, lr=0.000125, time_each_step=0.71s, eta=1:55:53\n",
      "2022-05-03 11:26:23 [INFO]\t[TRAIN] Epoch=70/270, Step=33/35, loss=6.706175, lr=0.000125, time_each_step=0.67s, eta=1:55:51\n",
      "2022-05-03 11:26:24 [INFO]\t[TRAIN] Epoch=70/270, Step=35/35, loss=10.369471, lr=0.000125, time_each_step=0.68s, eta=1:55:50\n",
      "2022-05-03 11:26:25 [INFO]\t[TRAIN] Epoch 70 finished, loss=10.484269, lr=0.000125 .\n",
      "2022-05-03 11:26:33 [INFO]\t[TRAIN] Epoch=71/270, Step=2/35, loss=9.112622, lr=0.000125, time_each_step=1.06s, eta=1:48:49\n",
      "2022-05-03 11:26:35 [INFO]\t[TRAIN] Epoch=71/270, Step=4/35, loss=15.48537, lr=0.000125, time_each_step=1.1s, eta=1:48:48\n"
     ]
    },
    {
     "name": "stderr",
     "output_type": "stream",
     "text": [
      "libpng warning: iCCP: known incorrect sRGB profile\n"
     ]
    },
    {
     "name": "stdout",
     "output_type": "stream",
     "text": [
      "2022-05-03 11:26:37 [INFO]\t[TRAIN] Epoch=71/270, Step=6/35, loss=9.198317, lr=0.000125, time_each_step=1.14s, eta=1:48:47\n",
      "2022-05-03 11:26:40 [INFO]\t[TRAIN] Epoch=71/270, Step=8/35, loss=10.058828, lr=0.000125, time_each_step=1.19s, eta=1:48:46\n",
      "2022-05-03 11:26:41 [INFO]\t[TRAIN] Epoch=71/270, Step=10/35, loss=11.261752, lr=0.000125, time_each_step=1.21s, eta=1:48:44\n",
      "2022-05-03 11:26:42 [INFO]\t[TRAIN] Epoch=71/270, Step=12/35, loss=19.663918, lr=0.000125, time_each_step=1.2s, eta=1:48:42\n",
      "2022-05-03 11:26:44 [INFO]\t[TRAIN] Epoch=71/270, Step=14/35, loss=9.723944, lr=0.000125, time_each_step=1.18s, eta=1:48:39\n",
      "2022-05-03 11:26:45 [INFO]\t[TRAIN] Epoch=71/270, Step=16/35, loss=14.203641, lr=0.000125, time_each_step=1.18s, eta=1:48:37\n"
     ]
    },
    {
     "name": "stderr",
     "output_type": "stream",
     "text": [
      "libpng warning: iCCP: known incorrect sRGB profile\n"
     ]
    },
    {
     "name": "stdout",
     "output_type": "stream",
     "text": [
      "2022-05-03 11:26:46 [INFO]\t[TRAIN] Epoch=71/270, Step=18/35, loss=10.158256, lr=0.000125, time_each_step=1.19s, eta=1:48:34\n",
      "2022-05-03 11:26:48 [INFO]\t[TRAIN] Epoch=71/270, Step=20/35, loss=10.904825, lr=0.000125, time_each_step=1.17s, eta=1:48:32\n",
      "2022-05-03 11:26:50 [INFO]\t[TRAIN] Epoch=71/270, Step=22/35, loss=13.835102, lr=0.000125, time_each_step=0.83s, eta=1:48:25\n",
      "2022-05-03 11:26:51 [INFO]\t[TRAIN] Epoch=71/270, Step=24/35, loss=10.86104, lr=0.000125, time_each_step=0.82s, eta=1:48:23\n",
      "2022-05-03 11:26:53 [INFO]\t[TRAIN] Epoch=71/270, Step=26/35, loss=14.453305, lr=0.000125, time_each_step=0.77s, eta=1:48:21\n",
      "2022-05-03 11:26:53 [INFO]\t[TRAIN] Epoch=71/270, Step=28/35, loss=7.617945, lr=0.000125, time_each_step=0.69s, eta=1:48:19\n",
      "2022-05-03 11:26:55 [INFO]\t[TRAIN] Epoch=71/270, Step=30/35, loss=10.334584, lr=0.000125, time_each_step=0.67s, eta=1:48:18\n",
      "2022-05-03 11:26:56 [INFO]\t[TRAIN] Epoch=71/270, Step=32/35, loss=14.53134, lr=0.000125, time_each_step=0.66s, eta=1:48:16\n",
      "2022-05-03 11:26:57 [INFO]\t[TRAIN] Epoch=71/270, Step=34/35, loss=8.347488, lr=0.000125, time_each_step=0.67s, eta=1:48:15\n",
      "2022-05-03 11:26:58 [INFO]\t[TRAIN] Epoch 71 finished, loss=11.645558, lr=0.000125 .\n",
      "2022-05-03 11:27:04 [INFO]\t[TRAIN] Epoch=72/270, Step=1/35, loss=5.879437, lr=0.000125, time_each_step=0.94s, eta=1:53:39\n",
      "2022-05-03 11:27:06 [INFO]\t[TRAIN] Epoch=72/270, Step=3/35, loss=7.453332, lr=0.000125, time_each_step=0.97s, eta=1:53:38\n"
     ]
    },
    {
     "name": "stderr",
     "output_type": "stream",
     "text": [
      "libpng warning: iCCP: known incorrect sRGB profile\n"
     ]
    },
    {
     "name": "stdout",
     "output_type": "stream",
     "text": [
      "2022-05-03 11:27:08 [INFO]\t[TRAIN] Epoch=72/270, Step=5/35, loss=14.374533, lr=0.000125, time_each_step=0.98s, eta=1:53:36\n",
      "2022-05-03 11:27:10 [INFO]\t[TRAIN] Epoch=72/270, Step=7/35, loss=12.932301, lr=0.000125, time_each_step=1.0s, eta=1:53:35\n",
      "2022-05-03 11:27:11 [INFO]\t[TRAIN] Epoch=72/270, Step=9/35, loss=9.247891, lr=0.000125, time_each_step=1.0s, eta=1:53:33\n",
      "2022-05-03 11:27:13 [INFO]\t[TRAIN] Epoch=72/270, Step=11/35, loss=10.456476, lr=0.000125, time_each_step=0.99s, eta=1:53:31\n",
      "2022-05-03 11:27:14 [INFO]\t[TRAIN] Epoch=72/270, Step=13/35, loss=8.163272, lr=0.000125, time_each_step=1.0s, eta=1:53:29\n",
      "2022-05-03 11:27:15 [INFO]\t[TRAIN] Epoch=72/270, Step=15/35, loss=10.639199, lr=0.000125, time_each_step=1.0s, eta=1:53:27\n",
      "2022-05-03 11:27:16 [INFO]\t[TRAIN] Epoch=72/270, Step=17/35, loss=7.332104, lr=0.000125, time_each_step=1.01s, eta=1:53:25\n",
      "2022-05-03 11:27:17 [INFO]\t[TRAIN] Epoch=72/270, Step=19/35, loss=8.493275, lr=0.000125, time_each_step=0.99s, eta=1:53:23\n",
      "2022-05-03 11:27:19 [INFO]\t[TRAIN] Epoch=72/270, Step=21/35, loss=11.343771, lr=0.000125, time_each_step=0.74s, eta=1:53:17\n",
      "2022-05-03 11:27:20 [INFO]\t[TRAIN] Epoch=72/270, Step=23/35, loss=11.61917, lr=0.000125, time_each_step=0.72s, eta=1:53:16\n",
      "2022-05-03 11:27:22 [INFO]\t[TRAIN] Epoch=72/270, Step=25/35, loss=10.067078, lr=0.000125, time_each_step=0.74s, eta=1:53:14\n",
      "2022-05-03 11:27:24 [INFO]\t[TRAIN] Epoch=72/270, Step=27/35, loss=8.707501, lr=0.000125, time_each_step=0.7s, eta=1:53:13\n"
     ]
    },
    {
     "name": "stderr",
     "output_type": "stream",
     "text": [
      "libpng warning: iCCP: known incorrect sRGB profile\n"
     ]
    },
    {
     "name": "stdout",
     "output_type": "stream",
     "text": [
      "2022-05-03 11:27:26 [INFO]\t[TRAIN] Epoch=72/270, Step=29/35, loss=13.790421, lr=0.000125, time_each_step=0.72s, eta=1:53:11\n",
      "2022-05-03 11:27:27 [INFO]\t[TRAIN] Epoch=72/270, Step=31/35, loss=7.762224, lr=0.000125, time_each_step=0.71s, eta=1:53:10\n",
      "2022-05-03 11:27:28 [INFO]\t[TRAIN] Epoch=72/270, Step=33/35, loss=8.328202, lr=0.000125, time_each_step=0.72s, eta=1:53:8\n",
      "2022-05-03 11:27:30 [INFO]\t[TRAIN] Epoch=72/270, Step=35/35, loss=11.005398, lr=0.000125, time_each_step=0.74s, eta=1:53:7\n",
      "2022-05-03 11:27:30 [INFO]\t[TRAIN] Epoch 72 finished, loss=10.075058, lr=0.000125 .\n",
      "2022-05-03 11:27:37 [INFO]\t[TRAIN] Epoch=73/270, Step=2/35, loss=4.691856, lr=0.000125, time_each_step=1.04s, eta=1:46:18\n"
     ]
    },
    {
     "name": "stderr",
     "output_type": "stream",
     "text": [
      "libpng warning: iCCP: known incorrect sRGB profile\n"
     ]
    },
    {
     "name": "stdout",
     "output_type": "stream",
     "text": [
      "2022-05-03 11:27:40 [INFO]\t[TRAIN] Epoch=73/270, Step=4/35, loss=9.763372, lr=0.000125, time_each_step=1.11s, eta=1:46:18\n",
      "2022-05-03 11:27:42 [INFO]\t[TRAIN] Epoch=73/270, Step=6/35, loss=11.66963, lr=0.000125, time_each_step=1.11s, eta=1:46:16\n",
      "2022-05-03 11:27:44 [INFO]\t[TRAIN] Epoch=73/270, Step=8/35, loss=8.116132, lr=0.000125, time_each_step=1.15s, eta=1:46:15\n",
      "2022-05-03 11:27:45 [INFO]\t[TRAIN] Epoch=73/270, Step=10/35, loss=9.526969, lr=0.000125, time_each_step=1.14s, eta=1:46:12\n",
      "2022-05-03 11:27:47 [INFO]\t[TRAIN] Epoch=73/270, Step=12/35, loss=8.935618, lr=0.000125, time_each_step=1.13s, eta=1:46:10\n",
      "2022-05-03 11:27:49 [INFO]\t[TRAIN] Epoch=73/270, Step=14/35, loss=12.94602, lr=0.000125, time_each_step=1.13s, eta=1:46:8\n",
      "2022-05-03 11:27:50 [INFO]\t[TRAIN] Epoch=73/270, Step=16/35, loss=5.921343, lr=0.000125, time_each_step=1.15s, eta=1:46:6\n",
      "2022-05-03 11:27:51 [INFO]\t[TRAIN] Epoch=73/270, Step=18/35, loss=12.051131, lr=0.000125, time_each_step=1.16s, eta=1:46:4\n",
      "2022-05-03 11:27:53 [INFO]\t[TRAIN] Epoch=73/270, Step=20/35, loss=8.986164, lr=0.000125, time_each_step=1.13s, eta=1:46:1\n",
      "2022-05-03 11:27:54 [INFO]\t[TRAIN] Epoch=73/270, Step=22/35, loss=5.620119, lr=0.000125, time_each_step=0.83s, eta=1:45:55\n",
      "2022-05-03 11:27:55 [INFO]\t[TRAIN] Epoch=73/270, Step=24/35, loss=10.551888, lr=0.000125, time_each_step=0.77s, eta=1:45:52\n"
     ]
    },
    {
     "name": "stderr",
     "output_type": "stream",
     "text": [
      "libpng warning: iCCP: known incorrect sRGB profile\n"
     ]
    },
    {
     "name": "stdout",
     "output_type": "stream",
     "text": [
      "2022-05-03 11:27:57 [INFO]\t[TRAIN] Epoch=73/270, Step=26/35, loss=10.060369, lr=0.000125, time_each_step=0.77s, eta=1:45:51\n",
      "2022-05-03 11:27:59 [INFO]\t[TRAIN] Epoch=73/270, Step=28/35, loss=9.8349, lr=0.000125, time_each_step=0.74s, eta=1:45:49\n",
      "2022-05-03 11:27:59 [INFO]\t[TRAIN] Epoch=73/270, Step=30/35, loss=9.807423, lr=0.000125, time_each_step=0.7s, eta=1:45:47\n",
      "2022-05-03 11:28:00 [INFO]\t[TRAIN] Epoch=73/270, Step=32/35, loss=8.526217, lr=0.000125, time_each_step=0.66s, eta=1:45:46\n",
      "2022-05-03 11:28:01 [INFO]\t[TRAIN] Epoch=73/270, Step=34/35, loss=8.954002, lr=0.000125, time_each_step=0.62s, eta=1:45:45\n",
      "2022-05-03 11:28:01 [INFO]\t[TRAIN] Epoch 73 finished, loss=10.075864, lr=0.000125 .\n",
      "2022-05-03 11:28:08 [INFO]\t[TRAIN] Epoch=74/270, Step=1/35, loss=7.853684, lr=0.000125, time_each_step=0.92s, eta=1:44:26\n",
      "2022-05-03 11:28:10 [INFO]\t[TRAIN] Epoch=74/270, Step=3/35, loss=12.202878, lr=0.000125, time_each_step=0.93s, eta=1:44:25\n",
      "2022-05-03 11:28:12 [INFO]\t[TRAIN] Epoch=74/270, Step=5/35, loss=10.520806, lr=0.000125, time_each_step=0.95s, eta=1:44:24\n"
     ]
    },
    {
     "name": "stderr",
     "output_type": "stream",
     "text": [
      "libpng warning: iCCP: known incorrect sRGB profile\n"
     ]
    },
    {
     "name": "stdout",
     "output_type": "stream",
     "text": [
      "2022-05-03 11:28:13 [INFO]\t[TRAIN] Epoch=74/270, Step=7/35, loss=5.155937, lr=0.000125, time_each_step=0.97s, eta=1:44:23\n",
      "2022-05-03 11:28:15 [INFO]\t[TRAIN] Epoch=74/270, Step=9/35, loss=7.318858, lr=0.000125, time_each_step=0.97s, eta=1:44:21\n",
      "2022-05-03 11:28:17 [INFO]\t[TRAIN] Epoch=74/270, Step=11/35, loss=5.635911, lr=0.000125, time_each_step=0.98s, eta=1:44:19\n",
      "2022-05-03 11:28:18 [INFO]\t[TRAIN] Epoch=74/270, Step=13/35, loss=12.416088, lr=0.000125, time_each_step=0.98s, eta=1:44:17\n",
      "2022-05-03 11:28:20 [INFO]\t[TRAIN] Epoch=74/270, Step=15/35, loss=10.320246, lr=0.000125, time_each_step=1.0s, eta=1:44:15\n",
      "2022-05-03 11:28:21 [INFO]\t[TRAIN] Epoch=74/270, Step=17/35, loss=9.612041, lr=0.000125, time_each_step=1.03s, eta=1:44:14\n",
      "2022-05-03 11:28:22 [INFO]\t[TRAIN] Epoch=74/270, Step=19/35, loss=9.789192, lr=0.000125, time_each_step=1.07s, eta=1:44:12\n",
      "2022-05-03 11:28:23 [INFO]\t[TRAIN] Epoch=74/270, Step=21/35, loss=9.494125, lr=0.000125, time_each_step=0.75s, eta=1:44:6\n",
      "2022-05-03 11:28:25 [INFO]\t[TRAIN] Epoch=74/270, Step=23/35, loss=9.527749, lr=0.000125, time_each_step=0.75s, eta=1:44:4\n",
      "2022-05-03 11:28:27 [INFO]\t[TRAIN] Epoch=74/270, Step=25/35, loss=7.502801, lr=0.000125, time_each_step=0.76s, eta=1:44:3\n",
      "2022-05-03 11:28:29 [INFO]\t[TRAIN] Epoch=74/270, Step=27/35, loss=7.258081, lr=0.000125, time_each_step=0.76s, eta=1:44:1\n",
      "2022-05-03 11:28:30 [INFO]\t[TRAIN] Epoch=74/270, Step=29/35, loss=14.20719, lr=0.000125, time_each_step=0.78s, eta=1:44:0\n"
     ]
    },
    {
     "name": "stderr",
     "output_type": "stream",
     "text": [
      "libpng warning: iCCP: known incorrect sRGB profile\n"
     ]
    },
    {
     "name": "stdout",
     "output_type": "stream",
     "text": [
      "2022-05-03 11:28:31 [INFO]\t[TRAIN] Epoch=74/270, Step=31/35, loss=10.859297, lr=0.000125, time_each_step=0.73s, eta=1:43:58\n",
      "2022-05-03 11:28:33 [INFO]\t[TRAIN] Epoch=74/270, Step=33/35, loss=13.69002, lr=0.000125, time_each_step=0.73s, eta=1:43:57\n",
      "2022-05-03 11:28:34 [INFO]\t[TRAIN] Epoch=74/270, Step=35/35, loss=8.660663, lr=0.000125, time_each_step=0.73s, eta=1:43:55\n",
      "2022-05-03 11:28:34 [INFO]\t[TRAIN] Epoch 74 finished, loss=9.957237, lr=0.000125 .\n",
      "2022-05-03 11:28:42 [INFO]\t[TRAIN] Epoch=75/270, Step=2/35, loss=6.577484, lr=0.000125, time_each_step=1.04s, eta=1:50:13\n"
     ]
    },
    {
     "name": "stderr",
     "output_type": "stream",
     "text": [
      "libpng warning: iCCP: known incorrect sRGB profile\n"
     ]
    },
    {
     "name": "stdout",
     "output_type": "stream",
     "text": [
      "2022-05-03 11:28:44 [INFO]\t[TRAIN] Epoch=75/270, Step=4/35, loss=9.444489, lr=0.000125, time_each_step=1.04s, eta=1:50:11\n",
      "2022-05-03 11:28:45 [INFO]\t[TRAIN] Epoch=75/270, Step=6/35, loss=9.065298, lr=0.000125, time_each_step=1.09s, eta=1:50:11\n",
      "2022-05-03 11:28:47 [INFO]\t[TRAIN] Epoch=75/270, Step=8/35, loss=19.910072, lr=0.000125, time_each_step=1.07s, eta=1:50:8\n",
      "2022-05-03 11:28:49 [INFO]\t[TRAIN] Epoch=75/270, Step=10/35, loss=9.193464, lr=0.000125, time_each_step=1.08s, eta=1:50:6\n",
      "2022-05-03 11:28:50 [INFO]\t[TRAIN] Epoch=75/270, Step=12/35, loss=11.655435, lr=0.000125, time_each_step=1.07s, eta=1:50:4\n",
      "2022-05-03 11:28:52 [INFO]\t[TRAIN] Epoch=75/270, Step=14/35, loss=9.085729, lr=0.000125, time_each_step=1.06s, eta=1:50:1\n",
      "2022-05-03 11:28:54 [INFO]\t[TRAIN] Epoch=75/270, Step=16/35, loss=11.156601, lr=0.000125, time_each_step=1.1s, eta=1:50:0\n",
      "2022-05-03 11:28:55 [INFO]\t[TRAIN] Epoch=75/270, Step=18/35, loss=9.742097, lr=0.000125, time_each_step=1.1s, eta=1:49:58\n",
      "2022-05-03 11:28:56 [INFO]\t[TRAIN] Epoch=75/270, Step=20/35, loss=11.067402, lr=0.000125, time_each_step=1.09s, eta=1:49:55\n",
      "2022-05-03 11:28:58 [INFO]\t[TRAIN] Epoch=75/270, Step=22/35, loss=9.902369, lr=0.000125, time_each_step=0.78s, eta=1:49:49\n"
     ]
    },
    {
     "name": "stderr",
     "output_type": "stream",
     "text": [
      "libpng warning: iCCP: known incorrect sRGB profile\n"
     ]
    },
    {
     "name": "stdout",
     "output_type": "stream",
     "text": [
      "2022-05-03 11:28:59 [INFO]\t[TRAIN] Epoch=75/270, Step=24/35, loss=14.46998, lr=0.000125, time_each_step=0.76s, eta=1:49:47\n",
      "2022-05-03 11:29:00 [INFO]\t[TRAIN] Epoch=75/270, Step=26/35, loss=10.857775, lr=0.000125, time_each_step=0.72s, eta=1:49:46\n",
      "2022-05-03 11:29:01 [INFO]\t[TRAIN] Epoch=75/270, Step=28/35, loss=6.784932, lr=0.000125, time_each_step=0.72s, eta=1:49:44\n",
      "2022-05-03 11:29:02 [INFO]\t[TRAIN] Epoch=75/270, Step=30/35, loss=8.252927, lr=0.000125, time_each_step=0.67s, eta=1:49:42\n",
      "2022-05-03 11:29:03 [INFO]\t[TRAIN] Epoch=75/270, Step=32/35, loss=14.366394, lr=0.000125, time_each_step=0.63s, eta=1:49:41\n",
      "2022-05-03 11:29:04 [INFO]\t[TRAIN] Epoch=75/270, Step=34/35, loss=6.726938, lr=0.000125, time_each_step=0.58s, eta=1:49:40\n",
      "2022-05-03 11:29:04 [INFO]\t[TRAIN] Epoch 75 finished, loss=10.161904, lr=0.000125 .\n",
      "2022-05-03 11:29:11 [INFO]\t[TRAIN] Epoch=76/270, Step=1/35, loss=7.729916, lr=0.000125, time_each_step=0.84s, eta=1:38:2\n"
     ]
    },
    {
     "name": "stderr",
     "output_type": "stream",
     "text": [
      "libpng warning: iCCP: known incorrect sRGB profile\n"
     ]
    },
    {
     "name": "stdout",
     "output_type": "stream",
     "text": [
      "2022-05-03 11:29:13 [INFO]\t[TRAIN] Epoch=76/270, Step=3/35, loss=6.44626, lr=0.000125, time_each_step=0.88s, eta=1:38:2\n",
      "2022-05-03 11:29:14 [INFO]\t[TRAIN] Epoch=76/270, Step=5/35, loss=14.018192, lr=0.000125, time_each_step=0.9s, eta=1:38:1\n",
      "2022-05-03 11:29:16 [INFO]\t[TRAIN] Epoch=76/270, Step=7/35, loss=11.178126, lr=0.000125, time_each_step=0.91s, eta=1:37:59\n",
      "2022-05-03 11:29:17 [INFO]\t[TRAIN] Epoch=76/270, Step=9/35, loss=9.564927, lr=0.000125, time_each_step=0.92s, eta=1:37:58\n",
      "2022-05-03 11:29:19 [INFO]\t[TRAIN] Epoch=76/270, Step=11/35, loss=7.22288, lr=0.000125, time_each_step=0.96s, eta=1:37:57\n",
      "2022-05-03 11:29:21 [INFO]\t[TRAIN] Epoch=76/270, Step=13/35, loss=11.23832, lr=0.000125, time_each_step=1.0s, eta=1:37:56\n",
      "2022-05-03 11:29:23 [INFO]\t[TRAIN] Epoch=76/270, Step=15/35, loss=17.10918, lr=0.000125, time_each_step=1.03s, eta=1:37:54\n",
      "2022-05-03 11:29:24 [INFO]\t[TRAIN] Epoch=76/270, Step=17/35, loss=12.03601, lr=0.000125, time_each_step=1.07s, eta=1:37:53\n",
      "2022-05-03 11:29:26 [INFO]\t[TRAIN] Epoch=76/270, Step=19/35, loss=8.005859, lr=0.000125, time_each_step=1.13s, eta=1:37:52\n",
      "2022-05-03 11:29:27 [INFO]\t[TRAIN] Epoch=76/270, Step=21/35, loss=8.131733, lr=0.000125, time_each_step=0.83s, eta=1:37:45\n",
      "2022-05-03 11:29:29 [INFO]\t[TRAIN] Epoch=76/270, Step=23/35, loss=12.901495, lr=0.000125, time_each_step=0.79s, eta=1:37:43\n"
     ]
    },
    {
     "name": "stderr",
     "output_type": "stream",
     "text": [
      "libpng warning: iCCP: known incorrect sRGB profile\n"
     ]
    },
    {
     "name": "stdout",
     "output_type": "stream",
     "text": [
      "2022-05-03 11:29:30 [INFO]\t[TRAIN] Epoch=76/270, Step=25/35, loss=9.582547, lr=0.000125, time_each_step=0.78s, eta=1:37:41\n",
      "2022-05-03 11:29:32 [INFO]\t[TRAIN] Epoch=76/270, Step=27/35, loss=12.587811, lr=0.000125, time_each_step=0.79s, eta=1:37:40\n",
      "2022-05-03 11:29:33 [INFO]\t[TRAIN] Epoch=76/270, Step=29/35, loss=7.634722, lr=0.000125, time_each_step=0.79s, eta=1:37:38\n",
      "2022-05-03 11:29:34 [INFO]\t[TRAIN] Epoch=76/270, Step=31/35, loss=14.879046, lr=0.000125, time_each_step=0.74s, eta=1:37:37\n",
      "2022-05-03 11:29:35 [INFO]\t[TRAIN] Epoch=76/270, Step=33/35, loss=10.222898, lr=0.000125, time_each_step=0.69s, eta=1:37:35\n",
      "2022-05-03 11:29:37 [INFO]\t[TRAIN] Epoch=76/270, Step=35/35, loss=6.57283, lr=0.000125, time_each_step=0.7s, eta=1:37:34\n",
      "2022-05-03 11:29:37 [INFO]\t[TRAIN] Epoch 76 finished, loss=10.243119, lr=0.000125 .\n",
      "2022-05-03 11:29:44 [INFO]\t[TRAIN] Epoch=77/270, Step=2/35, loss=12.835115, lr=0.000125, time_each_step=0.98s, eta=1:48:24\n",
      "2022-05-03 11:29:46 [INFO]\t[TRAIN] Epoch=77/270, Step=4/35, loss=13.25821, lr=0.000125, time_each_step=0.98s, eta=1:48:22\n",
      "2022-05-03 11:29:47 [INFO]\t[TRAIN] Epoch=77/270, Step=6/35, loss=12.159278, lr=0.000125, time_each_step=0.99s, eta=1:48:20\n"
     ]
    },
    {
     "name": "stderr",
     "output_type": "stream",
     "text": [
      "libpng warning: iCCP: known incorrect sRGB profile\n"
     ]
    },
    {
     "name": "stdout",
     "output_type": "stream",
     "text": [
      "2022-05-03 11:29:49 [INFO]\t[TRAIN] Epoch=77/270, Step=8/35, loss=8.546458, lr=0.000125, time_each_step=0.99s, eta=1:48:18\n",
      "2022-05-03 11:29:50 [INFO]\t[TRAIN] Epoch=77/270, Step=10/35, loss=9.41585, lr=0.000125, time_each_step=0.99s, eta=1:48:16\n",
      "2022-05-03 11:29:51 [INFO]\t[TRAIN] Epoch=77/270, Step=12/35, loss=9.02355, lr=0.000125, time_each_step=0.96s, eta=1:48:14\n",
      "2022-05-03 11:29:54 [INFO]\t[TRAIN] Epoch=77/270, Step=14/35, loss=14.833434, lr=0.000125, time_each_step=1.03s, eta=1:48:13\n",
      "2022-05-03 11:29:55 [INFO]\t[TRAIN] Epoch=77/270, Step=16/35, loss=9.773489, lr=0.000125, time_each_step=1.04s, eta=1:48:11\n",
      "2022-05-03 11:29:56 [INFO]\t[TRAIN] Epoch=77/270, Step=18/35, loss=10.918642, lr=0.000125, time_each_step=1.05s, eta=1:48:10\n",
      "2022-05-03 11:29:57 [INFO]\t[TRAIN] Epoch=77/270, Step=20/35, loss=11.942341, lr=0.000125, time_each_step=1.02s, eta=1:48:7\n",
      "2022-05-03 11:29:59 [INFO]\t[TRAIN] Epoch=77/270, Step=22/35, loss=12.066998, lr=0.000125, time_each_step=0.75s, eta=1:48:1\n",
      "2022-05-03 11:30:00 [INFO]\t[TRAIN] Epoch=77/270, Step=24/35, loss=10.152587, lr=0.000125, time_each_step=0.71s, eta=1:48:0\n",
      "2022-05-03 11:30:02 [INFO]\t[TRAIN] Epoch=77/270, Step=26/35, loss=16.572506, lr=0.000125, time_each_step=0.75s, eta=1:47:58\n",
      "2022-05-03 11:30:04 [INFO]\t[TRAIN] Epoch=77/270, Step=28/35, loss=14.998075, lr=0.000125, time_each_step=0.75s, eta=1:47:57\n",
      "2022-05-03 11:30:05 [INFO]\t[TRAIN] Epoch=77/270, Step=30/35, loss=13.38154, lr=0.000125, time_each_step=0.75s, eta=1:47:55\n",
      "2022-05-03 11:30:06 [INFO]\t[TRAIN] Epoch=77/270, Step=32/35, loss=13.021279, lr=0.000125, time_each_step=0.76s, eta=1:47:54\n"
     ]
    },
    {
     "name": "stderr",
     "output_type": "stream",
     "text": [
      "libpng warning: iCCP: known incorrect sRGB profile\n"
     ]
    },
    {
     "name": "stdout",
     "output_type": "stream",
     "text": [
      "2022-05-03 11:30:08 [INFO]\t[TRAIN] Epoch=77/270, Step=34/35, loss=11.793583, lr=0.000125, time_each_step=0.69s, eta=1:47:52\n",
      "2022-05-03 11:30:09 [INFO]\t[TRAIN] Epoch 77 finished, loss=11.540243, lr=0.000125 .\n",
      "2022-05-03 11:30:15 [INFO]\t[TRAIN] Epoch=78/270, Step=1/35, loss=10.090817, lr=0.000125, time_each_step=0.98s, eta=1:43:4\n",
      "2022-05-03 11:30:16 [INFO]\t[TRAIN] Epoch=78/270, Step=3/35, loss=10.104666, lr=0.000125, time_each_step=1.0s, eta=1:43:2\n"
     ]
    },
    {
     "name": "stderr",
     "output_type": "stream",
     "text": [
      "libpng warning: iCCP: known incorrect sRGB profile\n"
     ]
    },
    {
     "name": "stdout",
     "output_type": "stream",
     "text": [
      "2022-05-03 11:30:18 [INFO]\t[TRAIN] Epoch=78/270, Step=5/35, loss=9.387527, lr=0.000125, time_each_step=1.01s, eta=1:43:1\n",
      "2022-05-03 11:30:20 [INFO]\t[TRAIN] Epoch=78/270, Step=7/35, loss=12.483257, lr=0.000125, time_each_step=1.01s, eta=1:42:59\n",
      "2022-05-03 11:30:21 [INFO]\t[TRAIN] Epoch=78/270, Step=9/35, loss=15.256599, lr=0.000125, time_each_step=1.03s, eta=1:42:57\n",
      "2022-05-03 11:30:23 [INFO]\t[TRAIN] Epoch=78/270, Step=11/35, loss=10.368301, lr=0.000125, time_each_step=1.01s, eta=1:42:54\n",
      "2022-05-03 11:30:24 [INFO]\t[TRAIN] Epoch=78/270, Step=13/35, loss=9.722685, lr=0.000125, time_each_step=0.98s, eta=1:42:52\n",
      "2022-05-03 11:30:25 [INFO]\t[TRAIN] Epoch=78/270, Step=15/35, loss=9.357989, lr=0.000125, time_each_step=0.96s, eta=1:42:49\n",
      "2022-05-03 11:30:27 [INFO]\t[TRAIN] Epoch=78/270, Step=17/35, loss=11.833608, lr=0.000125, time_each_step=1.01s, eta=1:42:48\n",
      "2022-05-03 11:30:28 [INFO]\t[TRAIN] Epoch=78/270, Step=19/35, loss=6.944325, lr=0.000125, time_each_step=1.0s, eta=1:42:46\n"
     ]
    },
    {
     "name": "stderr",
     "output_type": "stream",
     "text": [
      "libpng warning: iCCP: known incorrect sRGB profile\n"
     ]
    },
    {
     "name": "stdout",
     "output_type": "stream",
     "text": [
      "2022-05-03 11:30:29 [INFO]\t[TRAIN] Epoch=78/270, Step=21/35, loss=7.743068, lr=0.000125, time_each_step=0.71s, eta=1:42:40\n",
      "2022-05-03 11:30:31 [INFO]\t[TRAIN] Epoch=78/270, Step=23/35, loss=13.161682, lr=0.000125, time_each_step=0.72s, eta=1:42:39\n",
      "2022-05-03 11:30:32 [INFO]\t[TRAIN] Epoch=78/270, Step=25/35, loss=13.04991, lr=0.000125, time_each_step=0.69s, eta=1:42:37\n",
      "2022-05-03 11:30:33 [INFO]\t[TRAIN] Epoch=78/270, Step=27/35, loss=13.57784, lr=0.000125, time_each_step=0.67s, eta=1:42:36\n",
      "2022-05-03 11:30:34 [INFO]\t[TRAIN] Epoch=78/270, Step=29/35, loss=6.819465, lr=0.000125, time_each_step=0.64s, eta=1:42:34\n",
      "2022-05-03 11:30:35 [INFO]\t[TRAIN] Epoch=78/270, Step=31/35, loss=7.238754, lr=0.000125, time_each_step=0.62s, eta=1:42:33\n",
      "2022-05-03 11:30:37 [INFO]\t[TRAIN] Epoch=78/270, Step=33/35, loss=8.696711, lr=0.000125, time_each_step=0.66s, eta=1:42:32\n",
      "2022-05-03 11:30:39 [INFO]\t[TRAIN] Epoch=78/270, Step=35/35, loss=10.382599, lr=0.000125, time_each_step=0.73s, eta=1:42:30\n",
      "2022-05-03 11:30:40 [INFO]\t[TRAIN] Epoch 78 finished, loss=11.200123, lr=0.000125 .\n"
     ]
    },
    {
     "name": "stderr",
     "output_type": "stream",
     "text": [
      "libpng warning: iCCP: known incorrect sRGB profile\n"
     ]
    },
    {
     "name": "stdout",
     "output_type": "stream",
     "text": [
      "2022-05-03 11:30:48 [INFO]\t[TRAIN] Epoch=79/270, Step=2/35, loss=8.915215, lr=0.000125, time_each_step=1.01s, eta=1:43:42\n",
      "2022-05-03 11:30:50 [INFO]\t[TRAIN] Epoch=79/270, Step=4/35, loss=13.240292, lr=0.000125, time_each_step=1.03s, eta=1:43:40\n",
      "2022-05-03 11:30:51 [INFO]\t[TRAIN] Epoch=79/270, Step=6/35, loss=9.075612, lr=0.000125, time_each_step=1.02s, eta=1:43:38\n",
      "2022-05-03 11:30:52 [INFO]\t[TRAIN] Epoch=79/270, Step=8/35, loss=8.650598, lr=0.000125, time_each_step=1.01s, eta=1:43:36\n",
      "2022-05-03 11:30:54 [INFO]\t[TRAIN] Epoch=79/270, Step=10/35, loss=9.594732, lr=0.000125, time_each_step=1.04s, eta=1:43:34\n",
      "2022-05-03 11:30:55 [INFO]\t[TRAIN] Epoch=79/270, Step=12/35, loss=10.702322, lr=0.000125, time_each_step=1.04s, eta=1:43:32\n",
      "2022-05-03 11:30:56 [INFO]\t[TRAIN] Epoch=79/270, Step=14/35, loss=7.260197, lr=0.000125, time_each_step=1.06s, eta=1:43:31\n",
      "2022-05-03 11:30:58 [INFO]\t[TRAIN] Epoch=79/270, Step=16/35, loss=8.366417, lr=0.000125, time_each_step=1.09s, eta=1:43:29\n",
      "2022-05-03 11:31:00 [INFO]\t[TRAIN] Epoch=79/270, Step=18/35, loss=8.245074, lr=0.000125, time_each_step=1.09s, eta=1:43:27\n",
      "2022-05-03 11:31:01 [INFO]\t[TRAIN] Epoch=79/270, Step=20/35, loss=11.97323, lr=0.000125, time_each_step=1.03s, eta=1:43:24\n",
      "2022-05-03 11:31:02 [INFO]\t[TRAIN] Epoch=79/270, Step=22/35, loss=13.587232, lr=0.000125, time_each_step=0.69s, eta=1:43:17\n",
      "2022-05-03 11:31:03 [INFO]\t[TRAIN] Epoch=79/270, Step=24/35, loss=8.668534, lr=0.000125, time_each_step=0.68s, eta=1:43:16\n",
      "2022-05-03 11:31:05 [INFO]\t[TRAIN] Epoch=79/270, Step=26/35, loss=9.044754, lr=0.000125, time_each_step=0.68s, eta=1:43:15\n"
     ]
    },
    {
     "name": "stderr",
     "output_type": "stream",
     "text": [
      "libpng warning: iCCP: known incorrect sRGB profile\n"
     ]
    },
    {
     "name": "stdout",
     "output_type": "stream",
     "text": [
      "2022-05-03 11:31:06 [INFO]\t[TRAIN] Epoch=79/270, Step=28/35, loss=8.204172, lr=0.000125, time_each_step=0.69s, eta=1:43:13\n",
      "2022-05-03 11:31:07 [INFO]\t[TRAIN] Epoch=79/270, Step=30/35, loss=7.666357, lr=0.000125, time_each_step=0.68s, eta=1:43:12\n",
      "2022-05-03 11:31:08 [INFO]\t[TRAIN] Epoch=79/270, Step=32/35, loss=11.422204, lr=0.000125, time_each_step=0.67s, eta=1:43:10\n",
      "2022-05-03 11:31:10 [INFO]\t[TRAIN] Epoch=79/270, Step=34/35, loss=8.781299, lr=0.000125, time_each_step=0.67s, eta=1:43:9\n",
      "2022-05-03 11:31:11 [INFO]\t[TRAIN] Epoch 79 finished, loss=10.2648, lr=0.000125 .\n",
      "2022-05-03 11:31:18 [INFO]\t[TRAIN] Epoch=80/270, Step=1/35, loss=12.273712, lr=0.000125, time_each_step=0.97s, eta=1:38:18\n",
      "2022-05-03 11:31:19 [INFO]\t[TRAIN] Epoch=80/270, Step=3/35, loss=9.39353, lr=0.000125, time_each_step=0.95s, eta=1:38:15\n",
      "2022-05-03 11:31:21 [INFO]\t[TRAIN] Epoch=80/270, Step=5/35, loss=8.08175, lr=0.000125, time_each_step=0.95s, eta=1:38:13\n",
      "2022-05-03 11:31:22 [INFO]\t[TRAIN] Epoch=80/270, Step=7/35, loss=8.730225, lr=0.000125, time_each_step=0.97s, eta=1:38:12\n"
     ]
    },
    {
     "name": "stderr",
     "output_type": "stream",
     "text": [
      "libpng warning: iCCP: known incorrect sRGB profile\n"
     ]
    },
    {
     "name": "stdout",
     "output_type": "stream",
     "text": [
      "2022-05-03 11:31:23 [INFO]\t[TRAIN] Epoch=80/270, Step=9/35, loss=10.280902, lr=0.000125, time_each_step=0.98s, eta=1:38:10\n",
      "2022-05-03 11:31:25 [INFO]\t[TRAIN] Epoch=80/270, Step=11/35, loss=8.345154, lr=0.000125, time_each_step=1.01s, eta=1:38:9\n",
      "2022-05-03 11:31:26 [INFO]\t[TRAIN] Epoch=80/270, Step=13/35, loss=8.660869, lr=0.000125, time_each_step=0.99s, eta=1:38:7\n",
      "2022-05-03 11:31:28 [INFO]\t[TRAIN] Epoch=80/270, Step=15/35, loss=8.423653, lr=0.000125, time_each_step=1.0s, eta=1:38:5\n",
      "2022-05-03 11:31:29 [INFO]\t[TRAIN] Epoch=80/270, Step=17/35, loss=11.676857, lr=0.000125, time_each_step=1.01s, eta=1:38:3\n",
      "2022-05-03 11:31:30 [INFO]\t[TRAIN] Epoch=80/270, Step=19/35, loss=14.688021, lr=0.000125, time_each_step=1.01s, eta=1:38:1\n",
      "2022-05-03 11:31:32 [INFO]\t[TRAIN] Epoch=80/270, Step=21/35, loss=8.579882, lr=0.000125, time_each_step=0.71s, eta=1:37:55\n",
      "2022-05-03 11:31:34 [INFO]\t[TRAIN] Epoch=80/270, Step=23/35, loss=8.052464, lr=0.000125, time_each_step=0.72s, eta=1:37:53\n",
      "2022-05-03 11:31:35 [INFO]\t[TRAIN] Epoch=80/270, Step=25/35, loss=14.380097, lr=0.000125, time_each_step=0.73s, eta=1:37:52\n"
     ]
    },
    {
     "name": "stderr",
     "output_type": "stream",
     "text": [
      "libpng warning: iCCP: known incorrect sRGB profile\n"
     ]
    },
    {
     "name": "stdout",
     "output_type": "stream",
     "text": [
      "2022-05-03 11:31:36 [INFO]\t[TRAIN] Epoch=80/270, Step=27/35, loss=13.91647, lr=0.000125, time_each_step=0.74s, eta=1:37:51\n",
      "2022-05-03 11:31:38 [INFO]\t[TRAIN] Epoch=80/270, Step=29/35, loss=14.538048, lr=0.000125, time_each_step=0.7s, eta=1:37:49\n",
      "2022-05-03 11:31:39 [INFO]\t[TRAIN] Epoch=80/270, Step=31/35, loss=7.828074, lr=0.000125, time_each_step=0.69s, eta=1:37:47\n",
      "2022-05-03 11:31:40 [INFO]\t[TRAIN] Epoch=80/270, Step=33/35, loss=8.491246, lr=0.000125, time_each_step=0.7s, eta=1:37:46\n",
      "2022-05-03 11:31:42 [INFO]\t[TRAIN] Epoch=80/270, Step=35/35, loss=11.24819, lr=0.000125, time_each_step=0.71s, eta=1:37:45\n",
      "2022-05-03 11:31:43 [INFO]\t[TRAIN] Epoch 80 finished, loss=10.098287, lr=0.000125 .\n",
      "2022-05-03 11:31:51 [INFO]\t[TRAIN] Epoch=81/270, Step=2/35, loss=8.461543, lr=0.000125, time_each_step=1.07s, eta=1:42:36\n"
     ]
    },
    {
     "name": "stderr",
     "output_type": "stream",
     "text": [
      "libpng warning: iCCP: known incorrect sRGB profile\n"
     ]
    },
    {
     "name": "stdout",
     "output_type": "stream",
     "text": [
      "2022-05-03 11:31:53 [INFO]\t[TRAIN] Epoch=81/270, Step=4/35, loss=13.469406, lr=0.000125, time_each_step=1.11s, eta=1:42:35\n",
      "2022-05-03 11:31:55 [INFO]\t[TRAIN] Epoch=81/270, Step=6/35, loss=10.575395, lr=0.000125, time_each_step=1.12s, eta=1:42:33\n",
      "2022-05-03 11:31:56 [INFO]\t[TRAIN] Epoch=81/270, Step=8/35, loss=5.804108, lr=0.000125, time_each_step=1.1s, eta=1:42:30\n",
      "2022-05-03 11:31:58 [INFO]\t[TRAIN] Epoch=81/270, Step=10/35, loss=11.242136, lr=0.000125, time_each_step=1.13s, eta=1:42:28\n",
      "2022-05-03 11:32:00 [INFO]\t[TRAIN] Epoch=81/270, Step=12/35, loss=9.868749, lr=0.000125, time_each_step=1.15s, eta=1:42:27\n",
      "2022-05-03 11:32:02 [INFO]\t[TRAIN] Epoch=81/270, Step=14/35, loss=9.595868, lr=0.000125, time_each_step=1.18s, eta=1:42:25\n",
      "2022-05-03 11:32:04 [INFO]\t[TRAIN] Epoch=81/270, Step=16/35, loss=7.236074, lr=0.000125, time_each_step=1.23s, eta=1:42:23\n",
      "2022-05-03 11:32:05 [INFO]\t[TRAIN] Epoch=81/270, Step=18/35, loss=14.402949, lr=0.000125, time_each_step=1.22s, eta=1:42:21\n",
      "2022-05-03 11:32:07 [INFO]\t[TRAIN] Epoch=81/270, Step=20/35, loss=10.532868, lr=0.000125, time_each_step=1.22s, eta=1:42:18\n",
      "2022-05-03 11:32:08 [INFO]\t[TRAIN] Epoch=81/270, Step=22/35, loss=10.415605, lr=0.000125, time_each_step=0.85s, eta=1:42:11\n",
      "2022-05-03 11:32:10 [INFO]\t[TRAIN] Epoch=81/270, Step=24/35, loss=11.120145, lr=0.000125, time_each_step=0.82s, eta=1:42:9\n",
      "2022-05-03 11:32:11 [INFO]\t[TRAIN] Epoch=81/270, Step=26/35, loss=12.382862, lr=0.000125, time_each_step=0.8s, eta=1:42:7\n"
     ]
    },
    {
     "name": "stderr",
     "output_type": "stream",
     "text": [
      "libpng warning: iCCP: known incorrect sRGB profile\n"
     ]
    },
    {
     "name": "stdout",
     "output_type": "stream",
     "text": [
      "2022-05-03 11:32:12 [INFO]\t[TRAIN] Epoch=81/270, Step=28/35, loss=11.142977, lr=0.000125, time_each_step=0.77s, eta=1:42:6\n",
      "2022-05-03 11:32:12 [INFO]\t[TRAIN] Epoch=81/270, Step=30/35, loss=14.461291, lr=0.000125, time_each_step=0.7s, eta=1:42:4\n",
      "2022-05-03 11:32:13 [INFO]\t[TRAIN] Epoch=81/270, Step=32/35, loss=10.577713, lr=0.000125, time_each_step=0.66s, eta=1:42:2\n",
      "2022-05-03 11:32:14 [INFO]\t[TRAIN] Epoch=81/270, Step=34/35, loss=10.348868, lr=0.000125, time_each_step=0.61s, eta=1:42:1\n",
      "2022-05-03 11:32:15 [INFO]\t[TRAIN] Epoch 81 finished, loss=10.49582, lr=0.000125 .\n",
      "2022-05-03 11:32:22 [INFO]\t[TRAIN] Epoch=82/270, Step=1/35, loss=10.280181, lr=0.000125, time_each_step=0.89s, eta=1:42:33\n",
      "2022-05-03 11:32:25 [INFO]\t[TRAIN] Epoch=82/270, Step=3/35, loss=9.211809, lr=0.000125, time_each_step=0.93s, eta=1:42:32\n"
     ]
    },
    {
     "name": "stderr",
     "output_type": "stream",
     "text": [
      "libpng warning: iCCP: known incorrect sRGB profile\n"
     ]
    },
    {
     "name": "stdout",
     "output_type": "stream",
     "text": [
      "2022-05-03 11:32:26 [INFO]\t[TRAIN] Epoch=82/270, Step=5/35, loss=17.126938, lr=0.000125, time_each_step=0.92s, eta=1:42:30\n",
      "2022-05-03 11:32:27 [INFO]\t[TRAIN] Epoch=82/270, Step=7/35, loss=11.948569, lr=0.000125, time_each_step=0.92s, eta=1:42:28\n",
      "2022-05-03 11:32:29 [INFO]\t[TRAIN] Epoch=82/270, Step=9/35, loss=8.421616, lr=0.000125, time_each_step=0.93s, eta=1:42:27\n",
      "2022-05-03 11:32:30 [INFO]\t[TRAIN] Epoch=82/270, Step=11/35, loss=9.240096, lr=0.000125, time_each_step=0.95s, eta=1:42:25\n",
      "2022-05-03 11:32:32 [INFO]\t[TRAIN] Epoch=82/270, Step=13/35, loss=14.136691, lr=0.000125, time_each_step=0.97s, eta=1:42:24\n",
      "2022-05-03 11:32:32 [INFO]\t[TRAIN] Epoch=82/270, Step=15/35, loss=11.321516, lr=0.000125, time_each_step=0.97s, eta=1:42:22\n",
      "2022-05-03 11:32:33 [INFO]\t[TRAIN] Epoch=82/270, Step=17/35, loss=8.127288, lr=0.000125, time_each_step=0.99s, eta=1:42:20\n",
      "2022-05-03 11:32:34 [INFO]\t[TRAIN] Epoch=82/270, Step=19/35, loss=8.35702, lr=0.000125, time_each_step=0.99s, eta=1:42:18\n",
      "2022-05-03 11:32:35 [INFO]\t[TRAIN] Epoch=82/270, Step=21/35, loss=8.404267, lr=0.000125, time_each_step=0.64s, eta=1:42:12\n",
      "2022-05-03 11:32:37 [INFO]\t[TRAIN] Epoch=82/270, Step=23/35, loss=9.007186, lr=0.000125, time_each_step=0.62s, eta=1:42:10\n",
      "2022-05-03 11:32:39 [INFO]\t[TRAIN] Epoch=82/270, Step=25/35, loss=9.670297, lr=0.000125, time_each_step=0.65s, eta=1:42:9\n",
      "2022-05-03 11:32:40 [INFO]\t[TRAIN] Epoch=82/270, Step=27/35, loss=12.39551, lr=0.000125, time_each_step=0.64s, eta=1:42:8\n"
     ]
    },
    {
     "name": "stderr",
     "output_type": "stream",
     "text": [
      "libpng warning: iCCP: known incorrect sRGB profile\n"
     ]
    },
    {
     "name": "stdout",
     "output_type": "stream",
     "text": [
      "2022-05-03 11:32:42 [INFO]\t[TRAIN] Epoch=82/270, Step=29/35, loss=11.907949, lr=0.000125, time_each_step=0.65s, eta=1:42:7\n",
      "2022-05-03 11:32:43 [INFO]\t[TRAIN] Epoch=82/270, Step=31/35, loss=10.257917, lr=0.000125, time_each_step=0.64s, eta=1:42:5\n",
      "2022-05-03 11:32:45 [INFO]\t[TRAIN] Epoch=82/270, Step=33/35, loss=7.904525, lr=0.000125, time_each_step=0.66s, eta=1:42:4\n",
      "2022-05-03 11:32:46 [INFO]\t[TRAIN] Epoch=82/270, Step=35/35, loss=10.405969, lr=0.000125, time_each_step=0.7s, eta=1:42:3\n",
      "2022-05-03 11:32:47 [INFO]\t[TRAIN] Epoch 82 finished, loss=10.417657, lr=0.000125 .\n"
     ]
    },
    {
     "name": "stderr",
     "output_type": "stream",
     "text": [
      "libpng warning: iCCP: known incorrect sRGB profile\n"
     ]
    },
    {
     "name": "stdout",
     "output_type": "stream",
     "text": [
      "2022-05-03 11:32:56 [INFO]\t[TRAIN] Epoch=83/270, Step=2/35, loss=9.698339, lr=0.000125, time_each_step=1.13s, eta=1:41:52\n",
      "2022-05-03 11:32:58 [INFO]\t[TRAIN] Epoch=83/270, Step=4/35, loss=10.081088, lr=0.000125, time_each_step=1.17s, eta=1:41:51\n",
      "2022-05-03 11:32:59 [INFO]\t[TRAIN] Epoch=83/270, Step=6/35, loss=12.726583, lr=0.000125, time_each_step=1.2s, eta=1:41:50\n",
      "2022-05-03 11:33:01 [INFO]\t[TRAIN] Epoch=83/270, Step=8/35, loss=11.956997, lr=0.000125, time_each_step=1.19s, eta=1:41:47\n",
      "2022-05-03 11:33:02 [INFO]\t[TRAIN] Epoch=83/270, Step=10/35, loss=10.645864, lr=0.000125, time_each_step=1.16s, eta=1:41:44\n",
      "2022-05-03 11:33:04 [INFO]\t[TRAIN] Epoch=83/270, Step=12/35, loss=9.818368, lr=0.000125, time_each_step=1.19s, eta=1:41:42\n",
      "2022-05-03 11:33:06 [INFO]\t[TRAIN] Epoch=83/270, Step=14/35, loss=14.316875, lr=0.000125, time_each_step=1.2s, eta=1:41:40\n",
      "2022-05-03 11:33:08 [INFO]\t[TRAIN] Epoch=83/270, Step=16/35, loss=12.079687, lr=0.000125, time_each_step=1.23s, eta=1:41:38\n",
      "2022-05-03 11:33:09 [INFO]\t[TRAIN] Epoch=83/270, Step=18/35, loss=7.759585, lr=0.000125, time_each_step=1.21s, eta=1:41:36\n",
      "2022-05-03 11:33:11 [INFO]\t[TRAIN] Epoch=83/270, Step=20/35, loss=9.409451, lr=0.000125, time_each_step=1.23s, eta=1:41:34\n",
      "2022-05-03 11:33:13 [INFO]\t[TRAIN] Epoch=83/270, Step=22/35, loss=13.264786, lr=0.000125, time_each_step=0.82s, eta=1:41:26\n",
      "2022-05-03 11:33:14 [INFO]\t[TRAIN] Epoch=83/270, Step=24/35, loss=7.02763, lr=0.000125, time_each_step=0.81s, eta=1:41:24\n"
     ]
    },
    {
     "name": "stderr",
     "output_type": "stream",
     "text": [
      "libpng warning: iCCP: known incorrect sRGB profile\n"
     ]
    },
    {
     "name": "stdout",
     "output_type": "stream",
     "text": [
      "2022-05-03 11:33:15 [INFO]\t[TRAIN] Epoch=83/270, Step=26/35, loss=11.627998, lr=0.000125, time_each_step=0.79s, eta=1:41:22\n",
      "2022-05-03 11:33:16 [INFO]\t[TRAIN] Epoch=83/270, Step=28/35, loss=9.098072, lr=0.000125, time_each_step=0.76s, eta=1:41:20\n",
      "2022-05-03 11:33:17 [INFO]\t[TRAIN] Epoch=83/270, Step=30/35, loss=6.627368, lr=0.000125, time_each_step=0.74s, eta=1:41:19\n",
      "2022-05-03 11:33:18 [INFO]\t[TRAIN] Epoch=83/270, Step=32/35, loss=16.660845, lr=0.000125, time_each_step=0.71s, eta=1:41:17\n",
      "2022-05-03 11:33:19 [INFO]\t[TRAIN] Epoch=83/270, Step=34/35, loss=8.593404, lr=0.000125, time_each_step=0.66s, eta=1:41:16\n",
      "2022-05-03 11:33:21 [INFO]\t[TRAIN] Epoch 83 finished, loss=9.963899, lr=0.000125 .\n",
      "2022-05-03 11:33:27 [INFO]\t[TRAIN] Epoch=84/270, Step=1/35, loss=6.031146, lr=0.000125, time_each_step=0.96s, eta=1:48:37\n",
      "2022-05-03 11:33:30 [INFO]\t[TRAIN] Epoch=84/270, Step=3/35, loss=12.487822, lr=0.000125, time_each_step=1.02s, eta=1:48:37\n"
     ]
    },
    {
     "name": "stderr",
     "output_type": "stream",
     "text": [
      "libpng warning: iCCP: known incorrect sRGB profile\n"
     ]
    },
    {
     "name": "stdout",
     "output_type": "stream",
     "text": [
      "2022-05-03 11:33:31 [INFO]\t[TRAIN] Epoch=84/270, Step=5/35, loss=15.728875, lr=0.000125, time_each_step=0.97s, eta=1:48:34\n",
      "2022-05-03 11:33:32 [INFO]\t[TRAIN] Epoch=84/270, Step=7/35, loss=13.12298, lr=0.000125, time_each_step=0.97s, eta=1:48:32\n",
      "2022-05-03 11:33:33 [INFO]\t[TRAIN] Epoch=84/270, Step=9/35, loss=14.085874, lr=0.000125, time_each_step=0.95s, eta=1:48:29\n",
      "2022-05-03 11:33:35 [INFO]\t[TRAIN] Epoch=84/270, Step=11/35, loss=10.544239, lr=0.000125, time_each_step=0.97s, eta=1:48:28\n",
      "2022-05-03 11:33:36 [INFO]\t[TRAIN] Epoch=84/270, Step=13/35, loss=8.143847, lr=0.000125, time_each_step=0.99s, eta=1:48:26\n",
      "2022-05-03 11:33:38 [INFO]\t[TRAIN] Epoch=84/270, Step=15/35, loss=12.821819, lr=0.000125, time_each_step=1.02s, eta=1:48:25\n",
      "2022-05-03 11:33:39 [INFO]\t[TRAIN] Epoch=84/270, Step=17/35, loss=11.695426, lr=0.000125, time_each_step=1.05s, eta=1:48:23\n",
      "2022-05-03 11:33:41 [INFO]\t[TRAIN] Epoch=84/270, Step=19/35, loss=10.551162, lr=0.000125, time_each_step=1.08s, eta=1:48:22\n",
      "2022-05-03 11:33:42 [INFO]\t[TRAIN] Epoch=84/270, Step=21/35, loss=13.718703, lr=0.000125, time_each_step=0.75s, eta=1:48:15\n",
      "2022-05-03 11:33:44 [INFO]\t[TRAIN] Epoch=84/270, Step=23/35, loss=11.47345, lr=0.000125, time_each_step=0.73s, eta=1:48:13\n"
     ]
    },
    {
     "name": "stderr",
     "output_type": "stream",
     "text": [
      "libpng warning: iCCP: known incorrect sRGB profile\n"
     ]
    },
    {
     "name": "stdout",
     "output_type": "stream",
     "text": [
      "2022-05-03 11:33:46 [INFO]\t[TRAIN] Epoch=84/270, Step=25/35, loss=9.498055, lr=0.000125, time_each_step=0.74s, eta=1:48:12\n",
      "2022-05-03 11:33:47 [INFO]\t[TRAIN] Epoch=84/270, Step=27/35, loss=6.029301, lr=0.000125, time_each_step=0.74s, eta=1:48:10\n",
      "2022-05-03 11:33:48 [INFO]\t[TRAIN] Epoch=84/270, Step=29/35, loss=12.896713, lr=0.000125, time_each_step=0.72s, eta=1:48:9\n",
      "2022-05-03 11:33:49 [INFO]\t[TRAIN] Epoch=84/270, Step=31/35, loss=9.811118, lr=0.000125, time_each_step=0.7s, eta=1:48:7\n",
      "2022-05-03 11:33:50 [INFO]\t[TRAIN] Epoch=84/270, Step=33/35, loss=6.503351, lr=0.000125, time_each_step=0.67s, eta=1:48:6\n",
      "2022-05-03 11:33:50 [INFO]\t[TRAIN] Epoch=84/270, Step=35/35, loss=11.839306, lr=0.000125, time_each_step=0.63s, eta=1:48:5\n",
      "2022-05-03 11:33:50 [INFO]\t[TRAIN] Epoch 84 finished, loss=10.363989, lr=0.000125 .\n",
      "2022-05-03 11:33:59 [INFO]\t[TRAIN] Epoch=85/270, Step=2/35, loss=6.912628, lr=0.000125, time_each_step=0.97s, eta=1:33:12\n"
     ]
    },
    {
     "name": "stderr",
     "output_type": "stream",
     "text": [
      "libpng warning: iCCP: known incorrect sRGB profile\n"
     ]
    },
    {
     "name": "stdout",
     "output_type": "stream",
     "text": [
      "2022-05-03 11:34:01 [INFO]\t[TRAIN] Epoch=85/270, Step=4/35, loss=8.989717, lr=0.000125, time_each_step=1.02s, eta=1:33:12\n",
      "2022-05-03 11:34:03 [INFO]\t[TRAIN] Epoch=85/270, Step=6/35, loss=15.04672, lr=0.000125, time_each_step=1.04s, eta=1:33:10\n",
      "2022-05-03 11:34:04 [INFO]\t[TRAIN] Epoch=85/270, Step=8/35, loss=7.879941, lr=0.000125, time_each_step=1.01s, eta=1:33:7\n",
      "2022-05-03 11:34:06 [INFO]\t[TRAIN] Epoch=85/270, Step=10/35, loss=12.334583, lr=0.000125, time_each_step=1.01s, eta=1:33:5\n",
      "2022-05-03 11:34:07 [INFO]\t[TRAIN] Epoch=85/270, Step=12/35, loss=11.429741, lr=0.000125, time_each_step=1.03s, eta=1:33:4\n",
      "2022-05-03 11:34:09 [INFO]\t[TRAIN] Epoch=85/270, Step=14/35, loss=8.012671, lr=0.000125, time_each_step=1.03s, eta=1:33:2\n",
      "2022-05-03 11:34:10 [INFO]\t[TRAIN] Epoch=85/270, Step=16/35, loss=12.148195, lr=0.000125, time_each_step=1.06s, eta=1:33:0\n",
      "2022-05-03 11:34:12 [INFO]\t[TRAIN] Epoch=85/270, Step=18/35, loss=7.860623, lr=0.000125, time_each_step=1.1s, eta=1:32:59\n",
      "2022-05-03 11:34:13 [INFO]\t[TRAIN] Epoch=85/270, Step=20/35, loss=5.906483, lr=0.000125, time_each_step=1.12s, eta=1:32:57\n"
     ]
    },
    {
     "name": "stderr",
     "output_type": "stream",
     "text": [
      "libpng warning: iCCP: known incorrect sRGB profile\n"
     ]
    },
    {
     "name": "stdout",
     "output_type": "stream",
     "text": [
      "2022-05-03 11:34:14 [INFO]\t[TRAIN] Epoch=85/270, Step=22/35, loss=5.099914, lr=0.000125, time_each_step=0.77s, eta=1:32:50\n",
      "2022-05-03 11:34:16 [INFO]\t[TRAIN] Epoch=85/270, Step=24/35, loss=10.049282, lr=0.000125, time_each_step=0.72s, eta=1:32:48\n",
      "2022-05-03 11:34:17 [INFO]\t[TRAIN] Epoch=85/270, Step=26/35, loss=9.284165, lr=0.000125, time_each_step=0.72s, eta=1:32:46\n",
      "2022-05-03 11:34:18 [INFO]\t[TRAIN] Epoch=85/270, Step=28/35, loss=9.255913, lr=0.000125, time_each_step=0.68s, eta=1:32:45\n",
      "2022-05-03 11:34:19 [INFO]\t[TRAIN] Epoch=85/270, Step=30/35, loss=11.576381, lr=0.000125, time_each_step=0.64s, eta=1:32:43\n",
      "2022-05-03 11:34:20 [INFO]\t[TRAIN] Epoch=85/270, Step=32/35, loss=15.335679, lr=0.000125, time_each_step=0.61s, eta=1:32:42\n",
      "2022-05-03 11:34:20 [INFO]\t[TRAIN] Epoch=85/270, Step=34/35, loss=8.983421, lr=0.000125, time_each_step=0.58s, eta=1:32:41\n",
      "2022-05-03 11:34:21 [INFO]\t[TRAIN] Epoch 85 finished, loss=10.122625, lr=0.000125 .\n",
      "2022-05-03 11:34:28 [INFO]\t[TRAIN] Epoch=86/270, Step=1/35, loss=7.630655, lr=0.000125, time_each_step=0.88s, eta=1:34:54\n",
      "2022-05-03 11:34:30 [INFO]\t[TRAIN] Epoch=86/270, Step=3/35, loss=5.747127, lr=0.000125, time_each_step=0.91s, eta=1:34:53\n"
     ]
    },
    {
     "name": "stderr",
     "output_type": "stream",
     "text": [
      "libpng warning: iCCP: known incorrect sRGB profile\n"
     ]
    },
    {
     "name": "stdout",
     "output_type": "stream",
     "text": [
      "2022-05-03 11:34:32 [INFO]\t[TRAIN] Epoch=86/270, Step=5/35, loss=14.6257, lr=0.000125, time_each_step=0.94s, eta=1:34:52\n",
      "2022-05-03 11:34:33 [INFO]\t[TRAIN] Epoch=86/270, Step=7/35, loss=11.062603, lr=0.000125, time_each_step=0.96s, eta=1:34:51\n",
      "2022-05-03 11:34:35 [INFO]\t[TRAIN] Epoch=86/270, Step=9/35, loss=8.222479, lr=0.000125, time_each_step=0.94s, eta=1:34:49\n",
      "2022-05-03 11:34:36 [INFO]\t[TRAIN] Epoch=86/270, Step=11/35, loss=11.650428, lr=0.000125, time_each_step=0.92s, eta=1:34:46\n",
      "2022-05-03 11:34:37 [INFO]\t[TRAIN] Epoch=86/270, Step=13/35, loss=9.523357, lr=0.000125, time_each_step=0.96s, eta=1:34:45\n",
      "2022-05-03 11:34:39 [INFO]\t[TRAIN] Epoch=86/270, Step=15/35, loss=5.9049, lr=0.000125, time_each_step=1.0s, eta=1:34:44\n",
      "2022-05-03 11:34:40 [INFO]\t[TRAIN] Epoch=86/270, Step=17/35, loss=12.066815, lr=0.000125, time_each_step=1.03s, eta=1:34:43\n",
      "2022-05-03 11:34:42 [INFO]\t[TRAIN] Epoch=86/270, Step=19/35, loss=8.090884, lr=0.000125, time_each_step=1.07s, eta=1:34:41\n",
      "2022-05-03 11:34:43 [INFO]\t[TRAIN] Epoch=86/270, Step=21/35, loss=11.756042, lr=0.000125, time_each_step=0.76s, eta=1:34:35\n",
      "2022-05-03 11:34:45 [INFO]\t[TRAIN] Epoch=86/270, Step=23/35, loss=7.080925, lr=0.000125, time_each_step=0.76s, eta=1:34:33\n",
      "2022-05-03 11:34:47 [INFO]\t[TRAIN] Epoch=86/270, Step=25/35, loss=17.777409, lr=0.000125, time_each_step=0.76s, eta=1:34:32\n"
     ]
    },
    {
     "name": "stderr",
     "output_type": "stream",
     "text": [
      "libpng warning: iCCP: known incorrect sRGB profile\n"
     ]
    },
    {
     "name": "stdout",
     "output_type": "stream",
     "text": [
      "2022-05-03 11:34:49 [INFO]\t[TRAIN] Epoch=86/270, Step=27/35, loss=13.680785, lr=0.000125, time_each_step=0.78s, eta=1:34:30\n",
      "2022-05-03 11:34:51 [INFO]\t[TRAIN] Epoch=86/270, Step=29/35, loss=10.114259, lr=0.000125, time_each_step=0.81s, eta=1:34:29\n",
      "2022-05-03 11:34:52 [INFO]\t[TRAIN] Epoch=86/270, Step=31/35, loss=11.243302, lr=0.000125, time_each_step=0.83s, eta=1:34:27\n",
      "2022-05-03 11:34:53 [INFO]\t[TRAIN] Epoch=86/270, Step=33/35, loss=9.422037, lr=0.000125, time_each_step=0.81s, eta=1:34:26\n",
      "2022-05-03 11:34:54 [INFO]\t[TRAIN] Epoch=86/270, Step=35/35, loss=9.285191, lr=0.000125, time_each_step=0.79s, eta=1:34:24\n",
      "2022-05-03 11:34:55 [INFO]\t[TRAIN] Epoch 86 finished, loss=10.190312, lr=0.000125 .\n",
      "2022-05-03 11:35:03 [INFO]\t[TRAIN] Epoch=87/270, Step=2/35, loss=9.252615, lr=0.000125, time_each_step=1.14s, eta=1:46:21\n"
     ]
    },
    {
     "name": "stderr",
     "output_type": "stream",
     "text": [
      "libpng warning: iCCP: known incorrect sRGB profile\n"
     ]
    },
    {
     "name": "stdout",
     "output_type": "stream",
     "text": [
      "2022-05-03 11:35:06 [INFO]\t[TRAIN] Epoch=87/270, Step=4/35, loss=13.458681, lr=0.000125, time_each_step=1.19s, eta=1:46:20\n",
      "2022-05-03 11:35:08 [INFO]\t[TRAIN] Epoch=87/270, Step=6/35, loss=9.174335, lr=0.000125, time_each_step=1.23s, eta=1:46:19\n",
      "2022-05-03 11:35:09 [INFO]\t[TRAIN] Epoch=87/270, Step=8/35, loss=8.799942, lr=0.000125, time_each_step=1.2s, eta=1:46:16\n",
      "2022-05-03 11:35:11 [INFO]\t[TRAIN] Epoch=87/270, Step=10/35, loss=8.840783, lr=0.000125, time_each_step=1.19s, eta=1:46:13\n",
      "2022-05-03 11:35:12 [INFO]\t[TRAIN] Epoch=87/270, Step=12/35, loss=10.678289, lr=0.000125, time_each_step=1.14s, eta=1:46:10\n",
      "2022-05-03 11:35:13 [INFO]\t[TRAIN] Epoch=87/270, Step=14/35, loss=5.508793, lr=0.000125, time_each_step=1.11s, eta=1:46:7\n",
      "2022-05-03 11:35:14 [INFO]\t[TRAIN] Epoch=87/270, Step=16/35, loss=9.011189, lr=0.000125, time_each_step=1.08s, eta=1:46:4\n",
      "2022-05-03 11:35:16 [INFO]\t[TRAIN] Epoch=87/270, Step=18/35, loss=14.913883, lr=0.000125, time_each_step=1.12s, eta=1:46:2\n",
      "2022-05-03 11:35:18 [INFO]\t[TRAIN] Epoch=87/270, Step=20/35, loss=11.313407, lr=0.000125, time_each_step=1.18s, eta=1:46:1\n",
      "2022-05-03 11:35:20 [INFO]\t[TRAIN] Epoch=87/270, Step=22/35, loss=10.959637, lr=0.000125, time_each_step=0.82s, eta=1:45:54\n",
      "2022-05-03 11:35:21 [INFO]\t[TRAIN] Epoch=87/270, Step=24/35, loss=12.347162, lr=0.000125, time_each_step=0.76s, eta=1:45:52\n",
      "2022-05-03 11:35:22 [INFO]\t[TRAIN] Epoch=87/270, Step=26/35, loss=9.842934, lr=0.000125, time_each_step=0.72s, eta=1:45:50\n"
     ]
    },
    {
     "name": "stderr",
     "output_type": "stream",
     "text": [
      "libpng warning: iCCP: known incorrect sRGB profile\n"
     ]
    },
    {
     "name": "stdout",
     "output_type": "stream",
     "text": [
      "2022-05-03 11:35:23 [INFO]\t[TRAIN] Epoch=87/270, Step=28/35, loss=9.293075, lr=0.000125, time_each_step=0.7s, eta=1:45:48\n",
      "2022-05-03 11:35:24 [INFO]\t[TRAIN] Epoch=87/270, Step=30/35, loss=8.872893, lr=0.000125, time_each_step=0.67s, eta=1:45:47\n",
      "2022-05-03 11:35:25 [INFO]\t[TRAIN] Epoch=87/270, Step=32/35, loss=9.454807, lr=0.000125, time_each_step=0.64s, eta=1:45:45\n",
      "2022-05-03 11:35:26 [INFO]\t[TRAIN] Epoch=87/270, Step=34/35, loss=10.678593, lr=0.000125, time_each_step=0.62s, eta=1:45:44\n",
      "2022-05-03 11:35:27 [INFO]\t[TRAIN] Epoch 87 finished, loss=10.24168, lr=0.000125 .\n",
      "2022-05-03 11:35:34 [INFO]\t[TRAIN] Epoch=88/270, Step=1/35, loss=9.241155, lr=0.000125, time_each_step=0.97s, eta=1:41:7\n"
     ]
    },
    {
     "name": "stderr",
     "output_type": "stream",
     "text": [
      "libpng warning: iCCP: known incorrect sRGB profile\n"
     ]
    },
    {
     "name": "stdout",
     "output_type": "stream",
     "text": [
      "2022-05-03 11:35:36 [INFO]\t[TRAIN] Epoch=88/270, Step=3/35, loss=10.319532, lr=0.000125, time_each_step=0.99s, eta=1:41:5\n",
      "2022-05-03 11:35:38 [INFO]\t[TRAIN] Epoch=88/270, Step=5/35, loss=14.602811, lr=0.000125, time_each_step=1.0s, eta=1:41:4\n",
      "2022-05-03 11:35:40 [INFO]\t[TRAIN] Epoch=88/270, Step=7/35, loss=8.049159, lr=0.000125, time_each_step=1.0s, eta=1:41:2\n",
      "2022-05-03 11:35:41 [INFO]\t[TRAIN] Epoch=88/270, Step=9/35, loss=7.410313, lr=0.000125, time_each_step=1.02s, eta=1:41:0\n",
      "2022-05-03 11:35:43 [INFO]\t[TRAIN] Epoch=88/270, Step=11/35, loss=6.290446, lr=0.000125, time_each_step=1.02s, eta=1:40:58\n",
      "2022-05-03 11:35:44 [INFO]\t[TRAIN] Epoch=88/270, Step=13/35, loss=10.806743, lr=0.000125, time_each_step=1.03s, eta=1:40:56\n",
      "2022-05-03 11:35:46 [INFO]\t[TRAIN] Epoch=88/270, Step=15/35, loss=11.367827, lr=0.000125, time_each_step=1.08s, eta=1:40:55\n",
      "2022-05-03 11:35:47 [INFO]\t[TRAIN] Epoch=88/270, Step=17/35, loss=8.024122, lr=0.000125, time_each_step=1.11s, eta=1:40:54\n",
      "2022-05-03 11:35:49 [INFO]\t[TRAIN] Epoch=88/270, Step=19/35, loss=5.631783, lr=0.000125, time_each_step=1.14s, eta=1:40:52\n",
      "2022-05-03 11:35:50 [INFO]\t[TRAIN] Epoch=88/270, Step=21/35, loss=9.480142, lr=0.000125, time_each_step=0.82s, eta=1:40:45\n",
      "2022-05-03 11:35:51 [INFO]\t[TRAIN] Epoch=88/270, Step=23/35, loss=11.505636, lr=0.000125, time_each_step=0.77s, eta=1:40:43\n",
      "2022-05-03 11:35:53 [INFO]\t[TRAIN] Epoch=88/270, Step=25/35, loss=13.296788, lr=0.000125, time_each_step=0.74s, eta=1:40:41\n",
      "2022-05-03 11:35:55 [INFO]\t[TRAIN] Epoch=88/270, Step=27/35, loss=9.626118, lr=0.000125, time_each_step=0.76s, eta=1:40:40\n"
     ]
    },
    {
     "name": "stderr",
     "output_type": "stream",
     "text": [
      "libpng warning: iCCP: known incorrect sRGB profile\n"
     ]
    },
    {
     "name": "stdout",
     "output_type": "stream",
     "text": [
      "2022-05-03 11:35:56 [INFO]\t[TRAIN] Epoch=88/270, Step=29/35, loss=8.024413, lr=0.000125, time_each_step=0.74s, eta=1:40:38\n",
      "2022-05-03 11:35:57 [INFO]\t[TRAIN] Epoch=88/270, Step=31/35, loss=9.459239, lr=0.000125, time_each_step=0.7s, eta=1:40:36\n",
      "2022-05-03 11:35:58 [INFO]\t[TRAIN] Epoch=88/270, Step=33/35, loss=8.01704, lr=0.000125, time_each_step=0.68s, eta=1:40:35\n",
      "2022-05-03 11:35:59 [INFO]\t[TRAIN] Epoch=88/270, Step=35/35, loss=10.635862, lr=0.000125, time_each_step=0.64s, eta=1:40:34\n",
      "2022-05-03 11:35:59 [INFO]\t[TRAIN] Epoch 88 finished, loss=9.617843, lr=0.000125 .\n",
      "2022-05-03 11:36:07 [INFO]\t[TRAIN] Epoch=89/270, Step=2/35, loss=7.501331, lr=0.000125, time_each_step=0.97s, eta=1:36:42\n"
     ]
    },
    {
     "name": "stderr",
     "output_type": "stream",
     "text": [
      "libpng warning: iCCP: known incorrect sRGB profile\n"
     ]
    },
    {
     "name": "stdout",
     "output_type": "stream",
     "text": [
      "2022-05-03 11:36:09 [INFO]\t[TRAIN] Epoch=89/270, Step=4/35, loss=11.148484, lr=0.000125, time_each_step=0.99s, eta=1:36:40\n",
      "2022-05-03 11:36:11 [INFO]\t[TRAIN] Epoch=89/270, Step=6/35, loss=14.173817, lr=0.000125, time_each_step=1.04s, eta=1:36:40\n",
      "2022-05-03 11:36:12 [INFO]\t[TRAIN] Epoch=89/270, Step=8/35, loss=11.501758, lr=0.000125, time_each_step=1.05s, eta=1:36:38\n",
      "2022-05-03 11:36:14 [INFO]\t[TRAIN] Epoch=89/270, Step=10/35, loss=8.243294, lr=0.000125, time_each_step=1.05s, eta=1:36:36\n",
      "2022-05-03 11:36:15 [INFO]\t[TRAIN] Epoch=89/270, Step=12/35, loss=12.159791, lr=0.000125, time_each_step=1.02s, eta=1:36:33\n",
      "2022-05-03 11:36:16 [INFO]\t[TRAIN] Epoch=89/270, Step=14/35, loss=8.542892, lr=0.000125, time_each_step=1.01s, eta=1:36:31\n",
      "2022-05-03 11:36:18 [INFO]\t[TRAIN] Epoch=89/270, Step=16/35, loss=10.237438, lr=0.000125, time_each_step=1.07s, eta=1:36:30\n",
      "2022-05-03 11:36:20 [INFO]\t[TRAIN] Epoch=89/270, Step=18/35, loss=10.229325, lr=0.000125, time_each_step=1.1s, eta=1:36:28\n",
      "2022-05-03 11:36:21 [INFO]\t[TRAIN] Epoch=89/270, Step=20/35, loss=11.319566, lr=0.000125, time_each_step=1.12s, eta=1:36:26\n",
      "2022-05-03 11:36:22 [INFO]\t[TRAIN] Epoch=89/270, Step=22/35, loss=10.029087, lr=0.000125, time_each_step=0.77s, eta=1:36:20\n",
      "2022-05-03 11:36:23 [INFO]\t[TRAIN] Epoch=89/270, Step=24/35, loss=10.073359, lr=0.000125, time_each_step=0.74s, eta=1:36:18\n",
      "2022-05-03 11:36:24 [INFO]\t[TRAIN] Epoch=89/270, Step=26/35, loss=9.177361, lr=0.000125, time_each_step=0.68s, eta=1:36:16\n"
     ]
    },
    {
     "name": "stderr",
     "output_type": "stream",
     "text": [
      "libpng warning: iCCP: known incorrect sRGB profile\n"
     ]
    },
    {
     "name": "stdout",
     "output_type": "stream",
     "text": [
      "2022-05-03 11:36:27 [INFO]\t[TRAIN] Epoch=89/270, Step=28/35, loss=9.999553, lr=0.000125, time_each_step=0.73s, eta=1:36:15\n",
      "2022-05-03 11:36:29 [INFO]\t[TRAIN] Epoch=89/270, Step=30/35, loss=10.819774, lr=0.000125, time_each_step=0.73s, eta=1:36:13\n",
      "2022-05-03 11:36:30 [INFO]\t[TRAIN] Epoch=89/270, Step=32/35, loss=10.887578, lr=0.000125, time_each_step=0.74s, eta=1:36:12\n",
      "2022-05-03 11:36:31 [INFO]\t[TRAIN] Epoch=89/270, Step=34/35, loss=13.065253, lr=0.000125, time_each_step=0.73s, eta=1:36:10\n",
      "2022-05-03 11:36:32 [INFO]\t[TRAIN] Epoch 89 finished, loss=10.443843, lr=0.000125 .\n",
      "2022-05-03 11:36:39 [INFO]\t[TRAIN] Epoch=90/270, Step=1/35, loss=9.187245, lr=0.000125, time_each_step=1.01s, eta=1:43:18\n"
     ]
    },
    {
     "name": "stderr",
     "output_type": "stream",
     "text": [
      "libpng warning: iCCP: known incorrect sRGB profile\n"
     ]
    },
    {
     "name": "stdout",
     "output_type": "stream",
     "text": [
      "2022-05-03 11:36:40 [INFO]\t[TRAIN] Epoch=90/270, Step=3/35, loss=16.983362, lr=0.000125, time_each_step=1.0s, eta=1:43:15\n",
      "2022-05-03 11:36:42 [INFO]\t[TRAIN] Epoch=90/270, Step=5/35, loss=8.905798, lr=0.000125, time_each_step=1.04s, eta=1:43:15\n",
      "2022-05-03 11:36:44 [INFO]\t[TRAIN] Epoch=90/270, Step=7/35, loss=8.300203, lr=0.000125, time_each_step=1.08s, eta=1:43:14\n",
      "2022-05-03 11:36:46 [INFO]\t[TRAIN] Epoch=90/270, Step=9/35, loss=7.915825, lr=0.000125, time_each_step=1.11s, eta=1:43:12\n",
      "2022-05-03 11:36:48 [INFO]\t[TRAIN] Epoch=90/270, Step=11/35, loss=6.143272, lr=0.000125, time_each_step=1.16s, eta=1:43:11\n",
      "2022-05-03 11:36:49 [INFO]\t[TRAIN] Epoch=90/270, Step=13/35, loss=10.304667, lr=0.000125, time_each_step=1.09s, eta=1:43:7\n",
      "2022-05-03 11:36:51 [INFO]\t[TRAIN] Epoch=90/270, Step=15/35, loss=6.469851, lr=0.000125, time_each_step=1.11s, eta=1:43:6\n",
      "2022-05-03 11:36:53 [INFO]\t[TRAIN] Epoch=90/270, Step=17/35, loss=10.18939, lr=0.000125, time_each_step=1.13s, eta=1:43:4\n",
      "2022-05-03 11:36:54 [INFO]\t[TRAIN] Epoch=90/270, Step=19/35, loss=9.844052, lr=0.000125, time_each_step=1.14s, eta=1:43:2\n",
      "2022-05-03 11:36:56 [INFO]\t[TRAIN] Epoch=90/270, Step=21/35, loss=9.43721, lr=0.000125, time_each_step=0.85s, eta=1:42:55\n",
      "2022-05-03 11:36:57 [INFO]\t[TRAIN] Epoch=90/270, Step=23/35, loss=12.283558, lr=0.000125, time_each_step=0.85s, eta=1:42:54\n",
      "2022-05-03 11:36:58 [INFO]\t[TRAIN] Epoch=90/270, Step=25/35, loss=11.471749, lr=0.000125, time_each_step=0.79s, eta=1:42:51\n"
     ]
    },
    {
     "name": "stderr",
     "output_type": "stream",
     "text": [
      "libpng warning: iCCP: known incorrect sRGB profile\n"
     ]
    },
    {
     "name": "stdout",
     "output_type": "stream",
     "text": [
      "2022-05-03 11:36:59 [INFO]\t[TRAIN] Epoch=90/270, Step=27/35, loss=6.763006, lr=0.000125, time_each_step=0.75s, eta=1:42:49\n",
      "2022-05-03 11:37:00 [INFO]\t[TRAIN] Epoch=90/270, Step=29/35, loss=12.328966, lr=0.000125, time_each_step=0.72s, eta=1:42:48\n",
      "2022-05-03 11:37:01 [INFO]\t[TRAIN] Epoch=90/270, Step=31/35, loss=7.507455, lr=0.000125, time_each_step=0.65s, eta=1:42:46\n",
      "2022-05-03 11:37:02 [INFO]\t[TRAIN] Epoch=90/270, Step=33/35, loss=9.387292, lr=0.000125, time_each_step=0.62s, eta=1:42:45\n",
      "2022-05-03 11:37:02 [INFO]\t[TRAIN] Epoch=90/270, Step=35/35, loss=6.964711, lr=0.000125, time_each_step=0.54s, eta=1:42:43\n",
      "2022-05-03 11:37:02 [INFO]\t[TRAIN] Epoch 90 finished, loss=9.836422, lr=0.000125 .\n",
      "2022-05-03 11:37:02 [INFO]\tStart to evaluating(total_samples=121, total_steps=16)...\n"
     ]
    },
    {
     "name": "stderr",
     "output_type": "stream",
     "text": [
      "100%|██████████| 16/16 [00:07<00:00,  2.23it/s]\n"
     ]
    },
    {
     "name": "stdout",
     "output_type": "stream",
     "text": [
      "2022-05-03 11:37:09 [INFO]\t[EVAL] Finished, Epoch=90, bbox_map=86.828816 .\n",
      "2022-05-03 11:37:14 [INFO]\tModel saved in output_yolov3_darknet53/best_model.\n",
      "2022-05-03 11:37:15 [INFO]\tModel saved in output_yolov3_darknet53/epoch_90.\n",
      "2022-05-03 11:37:16 [INFO]\tCurrent evaluated best model in eval_dataset is epoch_90, bbox_map=86.82881605331723\n",
      "2022-05-03 11:37:23 [INFO]\t[TRAIN] Epoch=91/270, Step=2/35, loss=8.462591, lr=0.000125, time_each_step=0.82s, eta=1:30:59\n",
      "2022-05-03 11:37:25 [INFO]\t[TRAIN] Epoch=91/270, Step=4/35, loss=9.288047, lr=0.000125, time_each_step=0.85s, eta=1:30:59\n",
      "2022-05-03 11:37:27 [INFO]\t[TRAIN] Epoch=91/270, Step=6/35, loss=11.9766, lr=0.000125, time_each_step=0.89s, eta=1:30:58\n"
     ]
    },
    {
     "name": "stderr",
     "output_type": "stream",
     "text": [
      "libpng warning: iCCP: known incorrect sRGB profile\n"
     ]
    },
    {
     "name": "stdout",
     "output_type": "stream",
     "text": [
      "2022-05-03 11:37:29 [INFO]\t[TRAIN] Epoch=91/270, Step=8/35, loss=10.067565, lr=0.000125, time_each_step=0.91s, eta=1:30:57\n",
      "2022-05-03 11:37:30 [INFO]\t[TRAIN] Epoch=91/270, Step=10/35, loss=9.028033, lr=0.000125, time_each_step=0.92s, eta=1:30:55\n",
      "2022-05-03 11:37:31 [INFO]\t[TRAIN] Epoch=91/270, Step=12/35, loss=11.227312, lr=0.000125, time_each_step=0.92s, eta=1:30:53\n",
      "2022-05-03 11:37:33 [INFO]\t[TRAIN] Epoch=91/270, Step=14/35, loss=11.541759, lr=0.000125, time_each_step=0.97s, eta=1:30:52\n",
      "2022-05-03 11:37:35 [INFO]\t[TRAIN] Epoch=91/270, Step=16/35, loss=6.934186, lr=0.000125, time_each_step=1.0s, eta=1:30:51\n",
      "2022-05-03 11:37:36 [INFO]\t[TRAIN] Epoch=91/270, Step=18/35, loss=9.71563, lr=0.000125, time_each_step=1.05s, eta=1:30:50\n",
      "2022-05-03 11:37:38 [INFO]\t[TRAIN] Epoch=91/270, Step=20/35, loss=12.282295, lr=0.000125, time_each_step=1.12s, eta=1:30:49\n",
      "2022-05-03 11:37:39 [INFO]\t[TRAIN] Epoch=91/270, Step=22/35, loss=6.917764, lr=0.000125, time_each_step=0.82s, eta=1:30:43\n",
      "2022-05-03 11:37:41 [INFO]\t[TRAIN] Epoch=91/270, Step=24/35, loss=8.847377, lr=0.000125, time_each_step=0.8s, eta=1:30:41\n",
      "2022-05-03 11:37:43 [INFO]\t[TRAIN] Epoch=91/270, Step=26/35, loss=9.820545, lr=0.000125, time_each_step=0.77s, eta=1:30:39\n"
     ]
    },
    {
     "name": "stderr",
     "output_type": "stream",
     "text": [
      "libpng warning: iCCP: known incorrect sRGB profile\n"
     ]
    },
    {
     "name": "stdout",
     "output_type": "stream",
     "text": [
      "2022-05-03 11:37:45 [INFO]\t[TRAIN] Epoch=91/270, Step=28/35, loss=7.988708, lr=0.000125, time_each_step=0.82s, eta=1:30:38\n",
      "2022-05-03 11:37:46 [INFO]\t[TRAIN] Epoch=91/270, Step=30/35, loss=13.351113, lr=0.000125, time_each_step=0.82s, eta=1:30:36\n",
      "2022-05-03 11:37:48 [INFO]\t[TRAIN] Epoch=91/270, Step=32/35, loss=11.020279, lr=0.000125, time_each_step=0.82s, eta=1:30:35\n",
      "2022-05-03 11:37:49 [INFO]\t[TRAIN] Epoch=91/270, Step=34/35, loss=7.665352, lr=0.000125, time_each_step=0.8s, eta=1:30:33\n",
      "2022-05-03 11:37:50 [INFO]\t[TRAIN] Epoch 91 finished, loss=9.764903, lr=0.000125 .\n",
      "2022-05-03 11:37:58 [INFO]\t[TRAIN] Epoch=92/270, Step=1/35, loss=9.53685, lr=0.000125, time_each_step=1.13s, eta=1:44:58\n"
     ]
    },
    {
     "name": "stderr",
     "output_type": "stream",
     "text": [
      "libpng warning: iCCP: known incorrect sRGB profile\n"
     ]
    },
    {
     "name": "stdout",
     "output_type": "stream",
     "text": [
      "2022-05-03 11:38:00 [INFO]\t[TRAIN] Epoch=92/270, Step=3/35, loss=12.701041, lr=0.000125, time_each_step=1.16s, eta=1:44:57\n",
      "2022-05-03 11:38:01 [INFO]\t[TRAIN] Epoch=92/270, Step=5/35, loss=14.53176, lr=0.000125, time_each_step=1.16s, eta=1:44:55\n",
      "2022-05-03 11:38:03 [INFO]\t[TRAIN] Epoch=92/270, Step=7/35, loss=10.244471, lr=0.000125, time_each_step=1.17s, eta=1:44:52\n",
      "2022-05-03 11:38:05 [INFO]\t[TRAIN] Epoch=92/270, Step=9/35, loss=6.5241, lr=0.000125, time_each_step=1.17s, eta=1:44:50\n",
      "2022-05-03 11:38:06 [INFO]\t[TRAIN] Epoch=92/270, Step=11/35, loss=10.04154, lr=0.000125, time_each_step=1.16s, eta=1:44:47\n",
      "2022-05-03 11:38:07 [INFO]\t[TRAIN] Epoch=92/270, Step=13/35, loss=16.926567, lr=0.000125, time_each_step=1.08s, eta=1:44:43\n",
      "2022-05-03 11:38:09 [INFO]\t[TRAIN] Epoch=92/270, Step=15/35, loss=10.40815, lr=0.000125, time_each_step=1.1s, eta=1:44:42\n",
      "2022-05-03 11:38:11 [INFO]\t[TRAIN] Epoch=92/270, Step=17/35, loss=10.262582, lr=0.000125, time_each_step=1.14s, eta=1:44:40\n",
      "2022-05-03 11:38:12 [INFO]\t[TRAIN] Epoch=92/270, Step=19/35, loss=13.335503, lr=0.000125, time_each_step=1.14s, eta=1:44:38\n",
      "2022-05-03 11:38:14 [INFO]\t[TRAIN] Epoch=92/270, Step=21/35, loss=15.189182, lr=0.000125, time_each_step=0.8s, eta=1:44:31\n"
     ]
    },
    {
     "name": "stderr",
     "output_type": "stream",
     "text": [
      "libpng warning: iCCP: known incorrect sRGB profile\n"
     ]
    },
    {
     "name": "stdout",
     "output_type": "stream",
     "text": [
      "2022-05-03 11:38:16 [INFO]\t[TRAIN] Epoch=92/270, Step=23/35, loss=10.359291, lr=0.000125, time_each_step=0.8s, eta=1:44:29\n",
      "2022-05-03 11:38:17 [INFO]\t[TRAIN] Epoch=92/270, Step=25/35, loss=8.171739, lr=0.000125, time_each_step=0.78s, eta=1:44:27\n",
      "2022-05-03 11:38:18 [INFO]\t[TRAIN] Epoch=92/270, Step=27/35, loss=12.179325, lr=0.000125, time_each_step=0.74s, eta=1:44:26\n",
      "2022-05-03 11:38:19 [INFO]\t[TRAIN] Epoch=92/270, Step=29/35, loss=7.218356, lr=0.000125, time_each_step=0.72s, eta=1:44:24\n",
      "2022-05-03 11:38:20 [INFO]\t[TRAIN] Epoch=92/270, Step=31/35, loss=9.653683, lr=0.000125, time_each_step=0.69s, eta=1:44:22\n",
      "2022-05-03 11:38:20 [INFO]\t[TRAIN] Epoch=92/270, Step=33/35, loss=7.42999, lr=0.000125, time_each_step=0.66s, eta=1:44:21\n",
      "2022-05-03 11:38:21 [INFO]\t[TRAIN] Epoch=92/270, Step=35/35, loss=10.808577, lr=0.000125, time_each_step=0.62s, eta=1:44:20\n",
      "2022-05-03 11:38:21 [INFO]\t[TRAIN] Epoch 92 finished, loss=10.004268, lr=0.000125 .\n",
      "2022-05-03 11:38:29 [INFO]\t[TRAIN] Epoch=93/270, Step=2/35, loss=6.52065, lr=0.000125, time_each_step=0.92s, eta=1:33:7\n",
      "2022-05-03 11:38:30 [INFO]\t[TRAIN] Epoch=93/270, Step=4/35, loss=12.637046, lr=0.000125, time_each_step=0.9s, eta=1:33:5\n"
     ]
    },
    {
     "name": "stderr",
     "output_type": "stream",
     "text": [
      "libpng warning: iCCP: known incorrect sRGB profile\n"
     ]
    },
    {
     "name": "stdout",
     "output_type": "stream",
     "text": [
      "2022-05-03 11:38:32 [INFO]\t[TRAIN] Epoch=93/270, Step=6/35, loss=8.665119, lr=0.000125, time_each_step=0.89s, eta=1:33:2\n",
      "2022-05-03 11:38:33 [INFO]\t[TRAIN] Epoch=93/270, Step=8/35, loss=10.721128, lr=0.000125, time_each_step=0.86s, eta=1:33:0\n",
      "2022-05-03 11:38:35 [INFO]\t[TRAIN] Epoch=93/270, Step=10/35, loss=6.163431, lr=0.000125, time_each_step=0.88s, eta=1:32:58\n",
      "2022-05-03 11:38:36 [INFO]\t[TRAIN] Epoch=93/270, Step=12/35, loss=4.794143, lr=0.000125, time_each_step=0.89s, eta=1:32:57\n",
      "2022-05-03 11:38:37 [INFO]\t[TRAIN] Epoch=93/270, Step=14/35, loss=7.387851, lr=0.000125, time_each_step=0.89s, eta=1:32:55\n",
      "2022-05-03 11:38:38 [INFO]\t[TRAIN] Epoch=93/270, Step=16/35, loss=11.216665, lr=0.000125, time_each_step=0.92s, eta=1:32:54\n",
      "2022-05-03 11:38:40 [INFO]\t[TRAIN] Epoch=93/270, Step=18/35, loss=5.548489, lr=0.000125, time_each_step=0.98s, eta=1:32:53\n",
      "2022-05-03 11:38:41 [INFO]\t[TRAIN] Epoch=93/270, Step=20/35, loss=4.903522, lr=0.000125, time_each_step=1.0s, eta=1:32:52\n"
     ]
    },
    {
     "name": "stderr",
     "output_type": "stream",
     "text": [
      "libpng warning: iCCP: known incorrect sRGB profile\n"
     ]
    },
    {
     "name": "stdout",
     "output_type": "stream",
     "text": [
      "2022-05-03 11:38:43 [INFO]\t[TRAIN] Epoch=93/270, Step=22/35, loss=10.583259, lr=0.000125, time_each_step=0.67s, eta=1:32:45\n",
      "2022-05-03 11:38:44 [INFO]\t[TRAIN] Epoch=93/270, Step=24/35, loss=10.532711, lr=0.000125, time_each_step=0.66s, eta=1:32:44\n",
      "2022-05-03 11:38:45 [INFO]\t[TRAIN] Epoch=93/270, Step=26/35, loss=7.490921, lr=0.000125, time_each_step=0.68s, eta=1:32:43\n",
      "2022-05-03 11:38:46 [INFO]\t[TRAIN] Epoch=93/270, Step=28/35, loss=10.760073, lr=0.000125, time_each_step=0.68s, eta=1:32:41\n",
      "2022-05-03 11:38:48 [INFO]\t[TRAIN] Epoch=93/270, Step=30/35, loss=9.749635, lr=0.000125, time_each_step=0.66s, eta=1:32:40\n",
      "2022-05-03 11:38:49 [INFO]\t[TRAIN] Epoch=93/270, Step=32/35, loss=5.241552, lr=0.000125, time_each_step=0.68s, eta=1:32:39\n",
      "2022-05-03 11:38:52 [INFO]\t[TRAIN] Epoch=93/270, Step=34/35, loss=10.31206, lr=0.000125, time_each_step=0.74s, eta=1:32:37\n",
      "2022-05-03 11:38:52 [INFO]\t[TRAIN] Epoch 93 finished, loss=8.773051, lr=0.000125 .\n",
      "2022-05-03 11:39:00 [INFO]\t[TRAIN] Epoch=94/270, Step=1/35, loss=8.934369, lr=0.000125, time_each_step=1.08s, eta=1:33:46\n"
     ]
    },
    {
     "name": "stderr",
     "output_type": "stream",
     "text": [
      "libpng warning: iCCP: known incorrect sRGB profile\n"
     ]
    },
    {
     "name": "stdout",
     "output_type": "stream",
     "text": [
      "2022-05-03 11:39:03 [INFO]\t[TRAIN] Epoch=94/270, Step=3/35, loss=11.137792, lr=0.000125, time_each_step=1.12s, eta=1:33:45\n",
      "2022-05-03 11:39:05 [INFO]\t[TRAIN] Epoch=94/270, Step=5/35, loss=10.820461, lr=0.000125, time_each_step=1.16s, eta=1:33:44\n",
      "2022-05-03 11:39:06 [INFO]\t[TRAIN] Epoch=94/270, Step=7/35, loss=9.004183, lr=0.000125, time_each_step=1.17s, eta=1:33:42\n",
      "2022-05-03 11:39:07 [INFO]\t[TRAIN] Epoch=94/270, Step=9/35, loss=9.862724, lr=0.000125, time_each_step=1.17s, eta=1:33:40\n",
      "2022-05-03 11:39:08 [INFO]\t[TRAIN] Epoch=94/270, Step=11/35, loss=10.474049, lr=0.000125, time_each_step=1.15s, eta=1:33:37\n",
      "2022-05-03 11:39:10 [INFO]\t[TRAIN] Epoch=94/270, Step=13/35, loss=9.061864, lr=0.000125, time_each_step=1.15s, eta=1:33:34\n",
      "2022-05-03 11:39:11 [INFO]\t[TRAIN] Epoch=94/270, Step=15/35, loss=6.899516, lr=0.000125, time_each_step=1.15s, eta=1:33:32\n",
      "2022-05-03 11:39:12 [INFO]\t[TRAIN] Epoch=94/270, Step=17/35, loss=6.183204, lr=0.000125, time_each_step=1.13s, eta=1:33:29\n",
      "2022-05-03 11:39:14 [INFO]\t[TRAIN] Epoch=94/270, Step=19/35, loss=8.36581, lr=0.000125, time_each_step=1.09s, eta=1:33:26\n",
      "2022-05-03 11:39:15 [INFO]\t[TRAIN] Epoch=94/270, Step=21/35, loss=10.107094, lr=0.000125, time_each_step=0.76s, eta=1:33:20\n",
      "2022-05-03 11:39:17 [INFO]\t[TRAIN] Epoch=94/270, Step=23/35, loss=13.260197, lr=0.000125, time_each_step=0.71s, eta=1:33:18\n",
      "2022-05-03 11:39:18 [INFO]\t[TRAIN] Epoch=94/270, Step=25/35, loss=8.594632, lr=0.000125, time_each_step=0.67s, eta=1:33:16\n",
      "2022-05-03 11:39:19 [INFO]\t[TRAIN] Epoch=94/270, Step=27/35, loss=13.035336, lr=0.000125, time_each_step=0.64s, eta=1:33:14\n",
      "2022-05-03 11:39:20 [INFO]\t[TRAIN] Epoch=94/270, Step=29/35, loss=9.675405, lr=0.000125, time_each_step=0.63s, eta=1:33:13\n",
      "2022-05-03 11:39:21 [INFO]\t[TRAIN] Epoch=94/270, Step=31/35, loss=6.617095, lr=0.000125, time_each_step=0.61s, eta=1:33:12\n"
     ]
    },
    {
     "name": "stderr",
     "output_type": "stream",
     "text": [
      "libpng warning: iCCP: known incorrect sRGB profile\n"
     ]
    },
    {
     "name": "stdout",
     "output_type": "stream",
     "text": [
      "2022-05-03 11:39:22 [INFO]\t[TRAIN] Epoch=94/270, Step=33/35, loss=10.246147, lr=0.000125, time_each_step=0.6s, eta=1:33:10\n",
      "2022-05-03 11:39:23 [INFO]\t[TRAIN] Epoch=94/270, Step=35/35, loss=7.790491, lr=0.000125, time_each_step=0.6s, eta=1:33:9\n",
      "2022-05-03 11:39:23 [INFO]\t[TRAIN] Epoch 94 finished, loss=9.796525, lr=0.000125 .\n",
      "2022-05-03 11:39:30 [INFO]\t[TRAIN] Epoch=95/270, Step=2/35, loss=5.637721, lr=0.000125, time_each_step=0.91s, eta=1:31:16\n"
     ]
    },
    {
     "name": "stderr",
     "output_type": "stream",
     "text": [
      "libpng warning: iCCP: known incorrect sRGB profile\n"
     ]
    },
    {
     "name": "stdout",
     "output_type": "stream",
     "text": [
      "2022-05-03 11:39:33 [INFO]\t[TRAIN] Epoch=95/270, Step=4/35, loss=9.383686, lr=0.000125, time_each_step=0.93s, eta=1:31:15\n",
      "2022-05-03 11:39:34 [INFO]\t[TRAIN] Epoch=95/270, Step=6/35, loss=11.185198, lr=0.000125, time_each_step=0.94s, eta=1:31:14\n",
      "2022-05-03 11:39:36 [INFO]\t[TRAIN] Epoch=95/270, Step=8/35, loss=7.879837, lr=0.000125, time_each_step=0.95s, eta=1:31:12\n",
      "2022-05-03 11:39:37 [INFO]\t[TRAIN] Epoch=95/270, Step=10/35, loss=8.204473, lr=0.000125, time_each_step=0.97s, eta=1:31:11\n",
      "2022-05-03 11:39:39 [INFO]\t[TRAIN] Epoch=95/270, Step=12/35, loss=10.021731, lr=0.000125, time_each_step=1.01s, eta=1:31:10\n",
      "2022-05-03 11:39:41 [INFO]\t[TRAIN] Epoch=95/270, Step=14/35, loss=10.103576, lr=0.000125, time_each_step=1.04s, eta=1:31:8\n",
      "2022-05-03 11:39:42 [INFO]\t[TRAIN] Epoch=95/270, Step=16/35, loss=11.367495, lr=0.000125, time_each_step=1.08s, eta=1:31:7\n",
      "2022-05-03 11:39:44 [INFO]\t[TRAIN] Epoch=95/270, Step=18/35, loss=9.198185, lr=0.000125, time_each_step=1.11s, eta=1:31:5\n",
      "2022-05-03 11:39:45 [INFO]\t[TRAIN] Epoch=95/270, Step=20/35, loss=9.015361, lr=0.000125, time_each_step=1.1s, eta=1:31:3\n",
      "2022-05-03 11:39:47 [INFO]\t[TRAIN] Epoch=95/270, Step=22/35, loss=10.373849, lr=0.000125, time_each_step=0.81s, eta=1:30:57\n",
      "2022-05-03 11:39:48 [INFO]\t[TRAIN] Epoch=95/270, Step=24/35, loss=10.665291, lr=0.000125, time_each_step=0.76s, eta=1:30:55\n",
      "2022-05-03 11:39:49 [INFO]\t[TRAIN] Epoch=95/270, Step=26/35, loss=9.033357, lr=0.000125, time_each_step=0.74s, eta=1:30:53\n"
     ]
    },
    {
     "name": "stderr",
     "output_type": "stream",
     "text": [
      "libpng warning: iCCP: known incorrect sRGB profile\n"
     ]
    },
    {
     "name": "stdout",
     "output_type": "stream",
     "text": [
      "2022-05-03 11:39:50 [INFO]\t[TRAIN] Epoch=95/270, Step=28/35, loss=9.547795, lr=0.000125, time_each_step=0.71s, eta=1:30:51\n",
      "2022-05-03 11:39:51 [INFO]\t[TRAIN] Epoch=95/270, Step=30/35, loss=8.710522, lr=0.000125, time_each_step=0.69s, eta=1:30:50\n",
      "2022-05-03 11:39:52 [INFO]\t[TRAIN] Epoch=95/270, Step=32/35, loss=11.553982, lr=0.000125, time_each_step=0.66s, eta=1:30:48\n",
      "2022-05-03 11:39:53 [INFO]\t[TRAIN] Epoch=95/270, Step=34/35, loss=9.343387, lr=0.000125, time_each_step=0.62s, eta=1:30:47\n",
      "2022-05-03 11:39:54 [INFO]\t[TRAIN] Epoch 95 finished, loss=9.698989, lr=0.000125 .\n",
      "2022-05-03 11:40:01 [INFO]\t[TRAIN] Epoch=96/270, Step=1/35, loss=11.383759, lr=0.000125, time_each_step=0.91s, eta=1:30:53\n",
      "2022-05-03 11:40:03 [INFO]\t[TRAIN] Epoch=96/270, Step=3/35, loss=7.515265, lr=0.000125, time_each_step=0.93s, eta=1:30:51\n"
     ]
    },
    {
     "name": "stderr",
     "output_type": "stream",
     "text": [
      "libpng warning: iCCP: known incorrect sRGB profile\n"
     ]
    },
    {
     "name": "stdout",
     "output_type": "stream",
     "text": [
      "2022-05-03 11:40:05 [INFO]\t[TRAIN] Epoch=96/270, Step=5/35, loss=9.943677, lr=0.000125, time_each_step=0.96s, eta=1:30:51\n",
      "2022-05-03 11:40:07 [INFO]\t[TRAIN] Epoch=96/270, Step=7/35, loss=8.112353, lr=0.000125, time_each_step=0.99s, eta=1:30:49\n",
      "2022-05-03 11:40:08 [INFO]\t[TRAIN] Epoch=96/270, Step=9/35, loss=10.172536, lr=0.000125, time_each_step=1.03s, eta=1:30:48\n",
      "2022-05-03 11:40:11 [INFO]\t[TRAIN] Epoch=96/270, Step=11/35, loss=8.74949, lr=0.000125, time_each_step=1.08s, eta=1:30:48\n",
      "2022-05-03 11:40:12 [INFO]\t[TRAIN] Epoch=96/270, Step=13/35, loss=8.704939, lr=0.000125, time_each_step=1.11s, eta=1:30:46\n",
      "2022-05-03 11:40:14 [INFO]\t[TRAIN] Epoch=96/270, Step=15/35, loss=10.610403, lr=0.000125, time_each_step=1.15s, eta=1:30:45\n"
     ]
    },
    {
     "name": "stderr",
     "output_type": "stream",
     "text": [
      "libpng warning: iCCP: known incorrect sRGB profile\n"
     ]
    },
    {
     "name": "stdout",
     "output_type": "stream",
     "text": [
      "2022-05-03 11:40:16 [INFO]\t[TRAIN] Epoch=96/270, Step=17/35, loss=11.268646, lr=0.000125, time_each_step=1.16s, eta=1:30:43\n",
      "2022-05-03 11:40:17 [INFO]\t[TRAIN] Epoch=96/270, Step=19/35, loss=7.466775, lr=0.000125, time_each_step=1.2s, eta=1:30:41\n",
      "2022-05-03 11:40:19 [INFO]\t[TRAIN] Epoch=96/270, Step=21/35, loss=7.79856, lr=0.000125, time_each_step=0.93s, eta=1:30:35\n",
      "2022-05-03 11:40:21 [INFO]\t[TRAIN] Epoch=96/270, Step=23/35, loss=12.077862, lr=0.000125, time_each_step=0.89s, eta=1:30:32\n",
      "2022-05-03 11:40:22 [INFO]\t[TRAIN] Epoch=96/270, Step=25/35, loss=9.548753, lr=0.000125, time_each_step=0.86s, eta=1:30:30\n",
      "2022-05-03 11:40:23 [INFO]\t[TRAIN] Epoch=96/270, Step=27/35, loss=10.381179, lr=0.000125, time_each_step=0.81s, eta=1:30:28\n",
      "2022-05-03 11:40:24 [INFO]\t[TRAIN] Epoch=96/270, Step=29/35, loss=10.448113, lr=0.000125, time_each_step=0.77s, eta=1:30:26\n",
      "2022-05-03 11:40:25 [INFO]\t[TRAIN] Epoch=96/270, Step=31/35, loss=9.598199, lr=0.000125, time_each_step=0.7s, eta=1:30:24\n",
      "2022-05-03 11:40:25 [INFO]\t[TRAIN] Epoch=96/270, Step=33/35, loss=14.884541, lr=0.000125, time_each_step=0.65s, eta=1:30:23\n",
      "2022-05-03 11:40:26 [INFO]\t[TRAIN] Epoch=96/270, Step=35/35, loss=9.02302, lr=0.000125, time_each_step=0.6s, eta=1:30:22\n",
      "2022-05-03 11:40:27 [INFO]\t[TRAIN] Epoch 96 finished, loss=10.251883, lr=0.000125 .\n",
      "2022-05-03 11:40:34 [INFO]\t[TRAIN] Epoch=97/270, Step=2/35, loss=5.90747, lr=0.000125, time_each_step=0.88s, eta=1:37:12\n"
     ]
    },
    {
     "name": "stderr",
     "output_type": "stream",
     "text": [
      "libpng warning: iCCP: known incorrect sRGB profile\n"
     ]
    },
    {
     "name": "stdout",
     "output_type": "stream",
     "text": [
      "2022-05-03 11:40:36 [INFO]\t[TRAIN] Epoch=97/270, Step=4/35, loss=6.101438, lr=0.000125, time_each_step=0.91s, eta=1:37:11\n",
      "2022-05-03 11:40:37 [INFO]\t[TRAIN] Epoch=97/270, Step=6/35, loss=10.992759, lr=0.000125, time_each_step=0.88s, eta=1:37:9\n",
      "2022-05-03 11:40:39 [INFO]\t[TRAIN] Epoch=97/270, Step=8/35, loss=7.300613, lr=0.000125, time_each_step=0.9s, eta=1:37:8\n",
      "2022-05-03 11:40:41 [INFO]\t[TRAIN] Epoch=97/270, Step=10/35, loss=9.875114, lr=0.000125, time_each_step=0.94s, eta=1:37:7\n",
      "2022-05-03 11:40:42 [INFO]\t[TRAIN] Epoch=97/270, Step=12/35, loss=10.910717, lr=0.000125, time_each_step=0.95s, eta=1:37:5\n",
      "2022-05-03 11:40:44 [INFO]\t[TRAIN] Epoch=97/270, Step=14/35, loss=8.235901, lr=0.000125, time_each_step=0.96s, eta=1:37:4\n",
      "2022-05-03 11:40:45 [INFO]\t[TRAIN] Epoch=97/270, Step=16/35, loss=9.642635, lr=0.000125, time_each_step=0.99s, eta=1:37:2\n",
      "2022-05-03 11:40:46 [INFO]\t[TRAIN] Epoch=97/270, Step=18/35, loss=7.90067, lr=0.000125, time_each_step=1.02s, eta=1:37:1\n",
      "2022-05-03 11:40:48 [INFO]\t[TRAIN] Epoch=97/270, Step=20/35, loss=12.819699, lr=0.000125, time_each_step=1.05s, eta=1:36:59\n",
      "2022-05-03 11:40:49 [INFO]\t[TRAIN] Epoch=97/270, Step=22/35, loss=6.777781, lr=0.000125, time_each_step=0.76s, eta=1:36:53\n"
     ]
    },
    {
     "name": "stderr",
     "output_type": "stream",
     "text": [
      "libpng warning: iCCP: known incorrect sRGB profile\n"
     ]
    },
    {
     "name": "stdout",
     "output_type": "stream",
     "text": [
      "2022-05-03 11:40:50 [INFO]\t[TRAIN] Epoch=97/270, Step=24/35, loss=7.429393, lr=0.000125, time_each_step=0.73s, eta=1:36:51\n",
      "2022-05-03 11:40:52 [INFO]\t[TRAIN] Epoch=97/270, Step=26/35, loss=9.942888, lr=0.000125, time_each_step=0.71s, eta=1:36:50\n",
      "2022-05-03 11:40:53 [INFO]\t[TRAIN] Epoch=97/270, Step=28/35, loss=10.828694, lr=0.000125, time_each_step=0.71s, eta=1:36:48\n",
      "2022-05-03 11:40:54 [INFO]\t[TRAIN] Epoch=97/270, Step=30/35, loss=8.027056, lr=0.000125, time_each_step=0.65s, eta=1:36:47\n",
      "2022-05-03 11:40:55 [INFO]\t[TRAIN] Epoch=97/270, Step=32/35, loss=9.540811, lr=0.000125, time_each_step=0.61s, eta=1:36:45\n",
      "2022-05-03 11:40:55 [INFO]\t[TRAIN] Epoch=97/270, Step=34/35, loss=8.329878, lr=0.000125, time_each_step=0.57s, eta=1:36:44\n",
      "2022-05-03 11:40:56 [INFO]\t[TRAIN] Epoch 97 finished, loss=9.599784, lr=0.000125 .\n",
      "2022-05-03 11:41:04 [INFO]\t[TRAIN] Epoch=98/270, Step=1/35, loss=9.993475, lr=0.000125, time_each_step=0.91s, eta=1:24:56\n"
     ]
    },
    {
     "name": "stderr",
     "output_type": "stream",
     "text": [
      "libpng warning: iCCP: known incorrect sRGB profile\n"
     ]
    },
    {
     "name": "stdout",
     "output_type": "stream",
     "text": [
      "2022-05-03 11:41:05 [INFO]\t[TRAIN] Epoch=98/270, Step=3/35, loss=12.909969, lr=0.000125, time_each_step=0.94s, eta=1:24:55\n",
      "2022-05-03 11:41:07 [INFO]\t[TRAIN] Epoch=98/270, Step=5/35, loss=11.64908, lr=0.000125, time_each_step=0.93s, eta=1:24:53\n",
      "2022-05-03 11:41:08 [INFO]\t[TRAIN] Epoch=98/270, Step=7/35, loss=11.153638, lr=0.000125, time_each_step=0.93s, eta=1:24:51\n",
      "2022-05-03 11:41:09 [INFO]\t[TRAIN] Epoch=98/270, Step=9/35, loss=14.544726, lr=0.000125, time_each_step=0.93s, eta=1:24:49\n",
      "2022-05-03 11:41:13 [INFO]\t[TRAIN] Epoch=98/270, Step=11/35, loss=10.982401, lr=0.000125, time_each_step=1.07s, eta=1:24:51\n",
      "2022-05-03 11:41:16 [INFO]\t[TRAIN] Epoch=98/270, Step=13/35, loss=11.03883, lr=0.000125, time_each_step=1.11s, eta=1:24:49\n",
      "2022-05-03 11:41:18 [INFO]\t[TRAIN] Epoch=98/270, Step=15/35, loss=10.720865, lr=0.000125, time_each_step=1.16s, eta=1:24:48\n",
      "2022-05-03 11:41:19 [INFO]\t[TRAIN] Epoch=98/270, Step=17/35, loss=8.769735, lr=0.000125, time_each_step=1.19s, eta=1:24:46\n",
      "2022-05-03 11:41:20 [INFO]\t[TRAIN] Epoch=98/270, Step=19/35, loss=9.215434, lr=0.000125, time_each_step=1.23s, eta=1:24:45\n"
     ]
    },
    {
     "name": "stderr",
     "output_type": "stream",
     "text": [
      "libpng warning: iCCP: known incorrect sRGB profile\n"
     ]
    },
    {
     "name": "stdout",
     "output_type": "stream",
     "text": [
      "2022-05-03 11:41:22 [INFO]\t[TRAIN] Epoch=98/270, Step=21/35, loss=12.189732, lr=0.000125, time_each_step=0.91s, eta=1:24:38\n",
      "2022-05-03 11:41:23 [INFO]\t[TRAIN] Epoch=98/270, Step=23/35, loss=11.930889, lr=0.000125, time_each_step=0.89s, eta=1:24:35\n",
      "2022-05-03 11:41:24 [INFO]\t[TRAIN] Epoch=98/270, Step=25/35, loss=8.806999, lr=0.000125, time_each_step=0.86s, eta=1:24:33\n",
      "2022-05-03 11:41:25 [INFO]\t[TRAIN] Epoch=98/270, Step=27/35, loss=11.864917, lr=0.000125, time_each_step=0.85s, eta=1:24:32\n",
      "2022-05-03 11:41:26 [INFO]\t[TRAIN] Epoch=98/270, Step=29/35, loss=11.27257, lr=0.000125, time_each_step=0.81s, eta=1:24:30\n",
      "2022-05-03 11:41:26 [INFO]\t[TRAIN] Epoch=98/270, Step=31/35, loss=8.156197, lr=0.000125, time_each_step=0.64s, eta=1:24:27\n",
      "2022-05-03 11:41:27 [INFO]\t[TRAIN] Epoch=98/270, Step=33/35, loss=8.255722, lr=0.000125, time_each_step=0.54s, eta=1:24:26\n",
      "2022-05-03 11:41:27 [INFO]\t[TRAIN] Epoch=98/270, Step=35/35, loss=6.64502, lr=0.000125, time_each_step=0.47s, eta=1:24:25\n",
      "2022-05-03 11:41:27 [INFO]\t[TRAIN] Epoch 98 finished, loss=10.064234, lr=0.000125 .\n",
      "2022-05-03 11:41:35 [INFO]\t[TRAIN] Epoch=99/270, Step=2/35, loss=5.106686, lr=0.000125, time_each_step=0.79s, eta=1:30:31\n"
     ]
    },
    {
     "name": "stderr",
     "output_type": "stream",
     "text": [
      "libpng warning: iCCP: known incorrect sRGB profile\n"
     ]
    },
    {
     "name": "stdout",
     "output_type": "stream",
     "text": [
      "2022-05-03 11:41:38 [INFO]\t[TRAIN] Epoch=99/270, Step=4/35, loss=13.968781, lr=0.000125, time_each_step=0.87s, eta=1:30:32\n",
      "2022-05-03 11:41:40 [INFO]\t[TRAIN] Epoch=99/270, Step=6/35, loss=10.859054, lr=0.000125, time_each_step=0.89s, eta=1:30:31\n",
      "2022-05-03 11:41:42 [INFO]\t[TRAIN] Epoch=99/270, Step=8/35, loss=8.623211, lr=0.000125, time_each_step=0.92s, eta=1:30:30\n",
      "2022-05-03 11:41:43 [INFO]\t[TRAIN] Epoch=99/270, Step=10/35, loss=12.82086, lr=0.000125, time_each_step=0.94s, eta=1:30:28\n",
      "2022-05-03 11:41:45 [INFO]\t[TRAIN] Epoch=99/270, Step=12/35, loss=9.826578, lr=0.000125, time_each_step=0.99s, eta=1:30:28\n",
      "2022-05-03 11:41:47 [INFO]\t[TRAIN] Epoch=99/270, Step=14/35, loss=10.395375, lr=0.000125, time_each_step=1.04s, eta=1:30:27\n",
      "2022-05-03 11:41:48 [INFO]\t[TRAIN] Epoch=99/270, Step=16/35, loss=6.349761, lr=0.000125, time_each_step=1.09s, eta=1:30:25\n",
      "2022-05-03 11:41:50 [INFO]\t[TRAIN] Epoch=99/270, Step=18/35, loss=9.671893, lr=0.000125, time_each_step=1.14s, eta=1:30:24\n",
      "2022-05-03 11:41:51 [INFO]\t[TRAIN] Epoch=99/270, Step=20/35, loss=9.632442, lr=0.000125, time_each_step=1.2s, eta=1:30:23\n",
      "2022-05-03 11:41:52 [INFO]\t[TRAIN] Epoch=99/270, Step=22/35, loss=7.152296, lr=0.000125, time_each_step=0.86s, eta=1:30:16\n"
     ]
    },
    {
     "name": "stderr",
     "output_type": "stream",
     "text": [
      "libpng warning: iCCP: known incorrect sRGB profile\n"
     ]
    },
    {
     "name": "stdout",
     "output_type": "stream",
     "text": [
      "2022-05-03 11:41:53 [INFO]\t[TRAIN] Epoch=99/270, Step=24/35, loss=16.022038, lr=0.000125, time_each_step=0.78s, eta=1:30:13\n",
      "2022-05-03 11:41:55 [INFO]\t[TRAIN] Epoch=99/270, Step=26/35, loss=9.726647, lr=0.000125, time_each_step=0.77s, eta=1:30:12\n",
      "2022-05-03 11:41:56 [INFO]\t[TRAIN] Epoch=99/270, Step=28/35, loss=6.978515, lr=0.000125, time_each_step=0.73s, eta=1:30:10\n",
      "2022-05-03 11:41:58 [INFO]\t[TRAIN] Epoch=99/270, Step=30/35, loss=8.577835, lr=0.000125, time_each_step=0.73s, eta=1:30:8\n",
      "2022-05-03 11:41:58 [INFO]\t[TRAIN] Epoch=99/270, Step=32/35, loss=9.712511, lr=0.000125, time_each_step=0.66s, eta=1:30:7\n",
      "2022-05-03 11:41:59 [INFO]\t[TRAIN] Epoch=99/270, Step=34/35, loss=9.587052, lr=0.000125, time_each_step=0.62s, eta=1:30:5\n",
      "2022-05-03 11:42:00 [INFO]\t[TRAIN] Epoch 99 finished, loss=9.784755, lr=0.000125 .\n",
      "2022-05-03 11:42:07 [INFO]\t[TRAIN] Epoch=100/270, Step=1/35, loss=10.9021, lr=0.000125, time_each_step=0.91s, eta=1:34:23\n",
      "2022-05-03 11:42:09 [INFO]\t[TRAIN] Epoch=100/270, Step=3/35, loss=7.578094, lr=0.000125, time_each_step=0.95s, eta=1:34:22\n"
     ]
    },
    {
     "name": "stderr",
     "output_type": "stream",
     "text": [
      "libpng warning: iCCP: known incorrect sRGB profile\n"
     ]
    },
    {
     "name": "stdout",
     "output_type": "stream",
     "text": [
      "2022-05-03 11:42:11 [INFO]\t[TRAIN] Epoch=100/270, Step=5/35, loss=8.928171, lr=0.000125, time_each_step=0.98s, eta=1:34:21\n",
      "2022-05-03 11:42:14 [INFO]\t[TRAIN] Epoch=100/270, Step=7/35, loss=9.260446, lr=0.000125, time_each_step=1.06s, eta=1:34:22\n",
      "2022-05-03 11:42:15 [INFO]\t[TRAIN] Epoch=100/270, Step=9/35, loss=10.316384, lr=0.000125, time_each_step=1.07s, eta=1:34:20\n",
      "2022-05-03 11:42:17 [INFO]\t[TRAIN] Epoch=100/270, Step=11/35, loss=7.414845, lr=0.000125, time_each_step=1.07s, eta=1:34:18\n",
      "2022-05-03 11:42:18 [INFO]\t[TRAIN] Epoch=100/270, Step=13/35, loss=9.648082, lr=0.000125, time_each_step=1.09s, eta=1:34:16\n",
      "2022-05-03 11:42:20 [INFO]\t[TRAIN] Epoch=100/270, Step=15/35, loss=4.365403, lr=0.000125, time_each_step=1.1s, eta=1:34:14\n",
      "2022-05-03 11:42:22 [INFO]\t[TRAIN] Epoch=100/270, Step=17/35, loss=8.560363, lr=0.000125, time_each_step=1.15s, eta=1:34:13\n",
      "2022-05-03 11:42:24 [INFO]\t[TRAIN] Epoch=100/270, Step=19/35, loss=8.477408, lr=0.000125, time_each_step=1.22s, eta=1:34:12\n",
      "2022-05-03 11:42:25 [INFO]\t[TRAIN] Epoch=100/270, Step=21/35, loss=7.85187, lr=0.000125, time_each_step=0.92s, eta=1:34:5\n",
      "2022-05-03 11:42:26 [INFO]\t[TRAIN] Epoch=100/270, Step=23/35, loss=7.841802, lr=0.000125, time_each_step=0.87s, eta=1:34:3\n"
     ]
    },
    {
     "name": "stderr",
     "output_type": "stream",
     "text": [
      "libpng warning: iCCP: known incorrect sRGB profile\n"
     ]
    },
    {
     "name": "stdout",
     "output_type": "stream",
     "text": [
      "2022-05-03 11:42:27 [INFO]\t[TRAIN] Epoch=100/270, Step=25/35, loss=19.785336, lr=0.000125, time_each_step=0.82s, eta=1:34:0\n",
      "2022-05-03 11:42:28 [INFO]\t[TRAIN] Epoch=100/270, Step=27/35, loss=6.934267, lr=0.000125, time_each_step=0.74s, eta=1:33:58\n",
      "2022-05-03 11:42:29 [INFO]\t[TRAIN] Epoch=100/270, Step=29/35, loss=11.359725, lr=0.000125, time_each_step=0.72s, eta=1:33:56\n",
      "2022-05-03 11:42:30 [INFO]\t[TRAIN] Epoch=100/270, Step=31/35, loss=9.618524, lr=0.000125, time_each_step=0.67s, eta=1:33:55\n",
      "2022-05-03 11:42:31 [INFO]\t[TRAIN] Epoch=100/270, Step=33/35, loss=12.361917, lr=0.000125, time_each_step=0.62s, eta=1:33:53\n",
      "2022-05-03 11:42:31 [INFO]\t[TRAIN] Epoch=100/270, Step=35/35, loss=10.454963, lr=0.000125, time_each_step=0.57s, eta=1:33:52\n",
      "2022-05-03 11:42:31 [INFO]\t[TRAIN] Epoch 100 finished, loss=10.287145, lr=0.000125 .\n",
      "2022-05-03 11:42:39 [INFO]\t[TRAIN] Epoch=101/270, Step=2/35, loss=7.366995, lr=0.000125, time_each_step=0.86s, eta=1:30:38\n"
     ]
    },
    {
     "name": "stderr",
     "output_type": "stream",
     "text": [
      "libpng warning: iCCP: known incorrect sRGB profile\n"
     ]
    },
    {
     "name": "stdout",
     "output_type": "stream",
     "text": [
      "2022-05-03 11:42:41 [INFO]\t[TRAIN] Epoch=101/270, Step=4/35, loss=13.495577, lr=0.000125, time_each_step=0.85s, eta=1:30:36\n",
      "2022-05-03 11:42:42 [INFO]\t[TRAIN] Epoch=101/270, Step=6/35, loss=9.17889, lr=0.000125, time_each_step=0.86s, eta=1:30:35\n",
      "2022-05-03 11:42:44 [INFO]\t[TRAIN] Epoch=101/270, Step=8/35, loss=7.370268, lr=0.000125, time_each_step=0.9s, eta=1:30:34\n",
      "2022-05-03 11:42:46 [INFO]\t[TRAIN] Epoch=101/270, Step=10/35, loss=8.860943, lr=0.000125, time_each_step=0.92s, eta=1:30:33\n",
      "2022-05-03 11:42:47 [INFO]\t[TRAIN] Epoch=101/270, Step=12/35, loss=10.532379, lr=0.000125, time_each_step=0.91s, eta=1:30:31\n",
      "2022-05-03 11:42:48 [INFO]\t[TRAIN] Epoch=101/270, Step=14/35, loss=12.023694, lr=0.000125, time_each_step=0.95s, eta=1:30:30\n",
      "2022-05-03 11:42:50 [INFO]\t[TRAIN] Epoch=101/270, Step=16/35, loss=7.799134, lr=0.000125, time_each_step=0.99s, eta=1:30:29\n",
      "2022-05-03 11:42:51 [INFO]\t[TRAIN] Epoch=101/270, Step=18/35, loss=8.672581, lr=0.000125, time_each_step=1.04s, eta=1:30:27\n",
      "2022-05-03 11:42:53 [INFO]\t[TRAIN] Epoch=101/270, Step=20/35, loss=6.551033, lr=0.000125, time_each_step=1.09s, eta=1:30:26\n",
      "2022-05-03 11:42:55 [INFO]\t[TRAIN] Epoch=101/270, Step=22/35, loss=10.421807, lr=0.000125, time_each_step=0.81s, eta=1:30:20\n",
      "2022-05-03 11:42:56 [INFO]\t[TRAIN] Epoch=101/270, Step=24/35, loss=9.703573, lr=0.000125, time_each_step=0.79s, eta=1:30:18\n",
      "2022-05-03 11:42:58 [INFO]\t[TRAIN] Epoch=101/270, Step=26/35, loss=10.166631, lr=0.000125, time_each_step=0.77s, eta=1:30:17\n",
      "2022-05-03 11:42:59 [INFO]\t[TRAIN] Epoch=101/270, Step=28/35, loss=11.838159, lr=0.000125, time_each_step=0.75s, eta=1:30:15\n",
      "2022-05-03 11:43:01 [INFO]\t[TRAIN] Epoch=101/270, Step=30/35, loss=8.944207, lr=0.000125, time_each_step=0.76s, eta=1:30:14\n"
     ]
    },
    {
     "name": "stderr",
     "output_type": "stream",
     "text": [
      "libpng warning: iCCP: known incorrect sRGB profile\n"
     ]
    },
    {
     "name": "stdout",
     "output_type": "stream",
     "text": [
      "2022-05-03 11:43:02 [INFO]\t[TRAIN] Epoch=101/270, Step=32/35, loss=11.779768, lr=0.000125, time_each_step=0.78s, eta=1:30:12\n",
      "2022-05-03 11:43:03 [INFO]\t[TRAIN] Epoch=101/270, Step=34/35, loss=8.143362, lr=0.000125, time_each_step=0.72s, eta=1:30:10\n",
      "2022-05-03 11:43:04 [INFO]\t[TRAIN] Epoch 101 finished, loss=9.638917, lr=0.000125 .\n",
      "2022-05-03 11:43:11 [INFO]\t[TRAIN] Epoch=102/270, Step=1/35, loss=10.914197, lr=0.000125, time_each_step=1.02s, eta=1:32:26\n",
      "2022-05-03 11:43:13 [INFO]\t[TRAIN] Epoch=102/270, Step=3/35, loss=8.630884, lr=0.000125, time_each_step=1.07s, eta=1:32:26\n"
     ]
    },
    {
     "name": "stderr",
     "output_type": "stream",
     "text": [
      "libpng warning: iCCP: known incorrect sRGB profile\n"
     ]
    },
    {
     "name": "stdout",
     "output_type": "stream",
     "text": [
      "2022-05-03 11:43:16 [INFO]\t[TRAIN] Epoch=102/270, Step=5/35, loss=12.485245, lr=0.000125, time_each_step=1.11s, eta=1:32:25\n",
      "2022-05-03 11:43:17 [INFO]\t[TRAIN] Epoch=102/270, Step=7/35, loss=8.85496, lr=0.000125, time_each_step=1.09s, eta=1:32:22\n",
      "2022-05-03 11:43:20 [INFO]\t[TRAIN] Epoch=102/270, Step=9/35, loss=7.963681, lr=0.000125, time_each_step=1.13s, eta=1:32:21\n",
      "2022-05-03 11:43:21 [INFO]\t[TRAIN] Epoch=102/270, Step=11/35, loss=5.924778, lr=0.000125, time_each_step=1.17s, eta=1:32:19\n",
      "2022-05-03 11:43:23 [INFO]\t[TRAIN] Epoch=102/270, Step=13/35, loss=10.097487, lr=0.000125, time_each_step=1.18s, eta=1:32:17\n",
      "2022-05-03 11:43:25 [INFO]\t[TRAIN] Epoch=102/270, Step=15/35, loss=12.436518, lr=0.000125, time_each_step=1.16s, eta=1:32:15\n",
      "2022-05-03 11:43:26 [INFO]\t[TRAIN] Epoch=102/270, Step=17/35, loss=6.972706, lr=0.000125, time_each_step=1.16s, eta=1:32:12\n",
      "2022-05-03 11:43:28 [INFO]\t[TRAIN] Epoch=102/270, Step=19/35, loss=11.147612, lr=0.000125, time_each_step=1.22s, eta=1:32:11\n",
      "2022-05-03 11:43:30 [INFO]\t[TRAIN] Epoch=102/270, Step=21/35, loss=8.601368, lr=0.000125, time_each_step=0.97s, eta=1:32:5\n",
      "2022-05-03 11:43:31 [INFO]\t[TRAIN] Epoch=102/270, Step=23/35, loss=11.954834, lr=0.000125, time_each_step=0.9s, eta=1:32:2\n"
     ]
    },
    {
     "name": "stderr",
     "output_type": "stream",
     "text": [
      "libpng warning: iCCP: known incorrect sRGB profile\n"
     ]
    },
    {
     "name": "stdout",
     "output_type": "stream",
     "text": [
      "2022-05-03 11:43:32 [INFO]\t[TRAIN] Epoch=102/270, Step=25/35, loss=5.707232, lr=0.000125, time_each_step=0.83s, eta=1:32:0\n",
      "2022-05-03 11:43:33 [INFO]\t[TRAIN] Epoch=102/270, Step=27/35, loss=7.750278, lr=0.000125, time_each_step=0.79s, eta=1:31:58\n",
      "2022-05-03 11:43:34 [INFO]\t[TRAIN] Epoch=102/270, Step=29/35, loss=12.833975, lr=0.000125, time_each_step=0.71s, eta=1:31:55\n",
      "2022-05-03 11:43:34 [INFO]\t[TRAIN] Epoch=102/270, Step=31/35, loss=9.399178, lr=0.000125, time_each_step=0.63s, eta=1:31:54\n",
      "2022-05-03 11:43:35 [INFO]\t[TRAIN] Epoch=102/270, Step=33/35, loss=8.80444, lr=0.000125, time_each_step=0.57s, eta=1:31:52\n",
      "2022-05-03 11:43:35 [INFO]\t[TRAIN] Epoch=102/270, Step=35/35, loss=8.203217, lr=0.000125, time_each_step=0.52s, eta=1:31:51\n",
      "2022-05-03 11:43:35 [INFO]\t[TRAIN] Epoch 102 finished, loss=9.587761, lr=0.000125 .\n",
      "2022-05-03 11:43:42 [INFO]\t[TRAIN] Epoch=103/270, Step=2/35, loss=10.582668, lr=0.000125, time_each_step=0.81s, eta=1:29:9\n"
     ]
    },
    {
     "name": "stderr",
     "output_type": "stream",
     "text": [
      "libpng warning: iCCP: known incorrect sRGB profile\n"
     ]
    },
    {
     "name": "stdout",
     "output_type": "stream",
     "text": [
      "2022-05-03 11:43:44 [INFO]\t[TRAIN] Epoch=103/270, Step=4/35, loss=8.748457, lr=0.000125, time_each_step=0.79s, eta=1:29:7\n",
      "2022-05-03 11:43:46 [INFO]\t[TRAIN] Epoch=103/270, Step=6/35, loss=8.886983, lr=0.000125, time_each_step=0.76s, eta=1:29:4\n",
      "2022-05-03 11:43:47 [INFO]\t[TRAIN] Epoch=103/270, Step=8/35, loss=6.103624, lr=0.000125, time_each_step=0.8s, eta=1:29:4\n",
      "2022-05-03 11:43:49 [INFO]\t[TRAIN] Epoch=103/270, Step=10/35, loss=10.984692, lr=0.000125, time_each_step=0.83s, eta=1:29:3\n",
      "2022-05-03 11:43:51 [INFO]\t[TRAIN] Epoch=103/270, Step=12/35, loss=7.173619, lr=0.000125, time_each_step=0.89s, eta=1:29:3\n",
      "2022-05-03 11:43:52 [INFO]\t[TRAIN] Epoch=103/270, Step=14/35, loss=5.97739, lr=0.000125, time_each_step=0.93s, eta=1:29:2\n",
      "2022-05-03 11:43:54 [INFO]\t[TRAIN] Epoch=103/270, Step=16/35, loss=9.850716, lr=0.000125, time_each_step=1.01s, eta=1:29:1\n",
      "2022-05-03 11:43:56 [INFO]\t[TRAIN] Epoch=103/270, Step=18/35, loss=8.916161, lr=0.000125, time_each_step=1.05s, eta=1:29:0\n",
      "2022-05-03 11:43:57 [INFO]\t[TRAIN] Epoch=103/270, Step=20/35, loss=7.537098, lr=0.000125, time_each_step=1.11s, eta=1:28:59\n"
     ]
    },
    {
     "name": "stderr",
     "output_type": "stream",
     "text": [
      "libpng warning: iCCP: known incorrect sRGB profile\n"
     ]
    },
    {
     "name": "stdout",
     "output_type": "stream",
     "text": [
      "2022-05-03 11:43:59 [INFO]\t[TRAIN] Epoch=103/270, Step=22/35, loss=13.450918, lr=0.000125, time_each_step=0.82s, eta=1:28:53\n",
      "2022-05-03 11:44:00 [INFO]\t[TRAIN] Epoch=103/270, Step=24/35, loss=10.998652, lr=0.000125, time_each_step=0.82s, eta=1:28:51\n",
      "2022-05-03 11:44:01 [INFO]\t[TRAIN] Epoch=103/270, Step=26/35, loss=11.820289, lr=0.000125, time_each_step=0.79s, eta=1:28:49\n",
      "2022-05-03 11:44:02 [INFO]\t[TRAIN] Epoch=103/270, Step=28/35, loss=9.156578, lr=0.000125, time_each_step=0.74s, eta=1:28:47\n",
      "2022-05-03 11:44:03 [INFO]\t[TRAIN] Epoch=103/270, Step=30/35, loss=14.458579, lr=0.000125, time_each_step=0.69s, eta=1:28:46\n",
      "2022-05-03 11:44:04 [INFO]\t[TRAIN] Epoch=103/270, Step=32/35, loss=8.887394, lr=0.000125, time_each_step=0.63s, eta=1:28:44\n",
      "2022-05-03 11:44:04 [INFO]\t[TRAIN] Epoch=103/270, Step=34/35, loss=8.751122, lr=0.000125, time_each_step=0.58s, eta=1:28:43\n",
      "2022-05-03 11:44:05 [INFO]\t[TRAIN] Epoch 103 finished, loss=9.509715, lr=0.000125 .\n",
      "2022-05-03 11:44:11 [INFO]\t[TRAIN] Epoch=104/270, Step=1/35, loss=8.815171, lr=0.000125, time_each_step=0.84s, eta=1:23:37\n",
      "2022-05-03 11:44:13 [INFO]\t[TRAIN] Epoch=104/270, Step=3/35, loss=11.971268, lr=0.000125, time_each_step=0.87s, eta=1:23:36\n"
     ]
    },
    {
     "name": "stderr",
     "output_type": "stream",
     "text": [
      "libpng warning: iCCP: known incorrect sRGB profile\n"
     ]
    },
    {
     "name": "stdout",
     "output_type": "stream",
     "text": [
      "2022-05-03 11:44:15 [INFO]\t[TRAIN] Epoch=104/270, Step=5/35, loss=12.130867, lr=0.000125, time_each_step=0.86s, eta=1:23:34\n",
      "2022-05-03 11:44:16 [INFO]\t[TRAIN] Epoch=104/270, Step=7/35, loss=5.383311, lr=0.000125, time_each_step=0.86s, eta=1:23:32\n",
      "2022-05-03 11:44:18 [INFO]\t[TRAIN] Epoch=104/270, Step=9/35, loss=7.182705, lr=0.000125, time_each_step=0.88s, eta=1:23:31\n",
      "2022-05-03 11:44:20 [INFO]\t[TRAIN] Epoch=104/270, Step=11/35, loss=9.853107, lr=0.000125, time_each_step=0.92s, eta=1:23:30\n",
      "2022-05-03 11:44:22 [INFO]\t[TRAIN] Epoch=104/270, Step=13/35, loss=9.77914, lr=0.000125, time_each_step=0.98s, eta=1:23:30\n",
      "2022-05-03 11:44:23 [INFO]\t[TRAIN] Epoch=104/270, Step=15/35, loss=4.889894, lr=0.000125, time_each_step=1.01s, eta=1:23:28\n",
      "2022-05-03 11:44:25 [INFO]\t[TRAIN] Epoch=104/270, Step=17/35, loss=9.234053, lr=0.000125, time_each_step=1.06s, eta=1:23:27\n",
      "2022-05-03 11:44:26 [INFO]\t[TRAIN] Epoch=104/270, Step=19/35, loss=8.866865, lr=0.000125, time_each_step=1.1s, eta=1:23:26\n",
      "2022-05-03 11:44:28 [INFO]\t[TRAIN] Epoch=104/270, Step=21/35, loss=10.94208, lr=0.000125, time_each_step=0.83s, eta=1:23:20\n",
      "2022-05-03 11:44:29 [INFO]\t[TRAIN] Epoch=104/270, Step=23/35, loss=9.641536, lr=0.000125, time_each_step=0.81s, eta=1:23:18\n",
      "2022-05-03 11:44:31 [INFO]\t[TRAIN] Epoch=104/270, Step=25/35, loss=12.50218, lr=0.000125, time_each_step=0.8s, eta=1:23:16\n"
     ]
    },
    {
     "name": "stderr",
     "output_type": "stream",
     "text": [
      "libpng warning: iCCP: known incorrect sRGB profile\n"
     ]
    },
    {
     "name": "stdout",
     "output_type": "stream",
     "text": [
      "2022-05-03 11:44:32 [INFO]\t[TRAIN] Epoch=104/270, Step=27/35, loss=13.328978, lr=0.000125, time_each_step=0.82s, eta=1:23:15\n",
      "2022-05-03 11:44:34 [INFO]\t[TRAIN] Epoch=104/270, Step=29/35, loss=10.051846, lr=0.000125, time_each_step=0.79s, eta=1:23:13\n",
      "2022-05-03 11:44:36 [INFO]\t[TRAIN] Epoch=104/270, Step=31/35, loss=10.514336, lr=0.000125, time_each_step=0.79s, eta=1:23:11\n",
      "2022-05-03 11:44:37 [INFO]\t[TRAIN] Epoch=104/270, Step=33/35, loss=8.545632, lr=0.000125, time_each_step=0.75s, eta=1:23:10\n",
      "2022-05-03 11:44:40 [INFO]\t[TRAIN] Epoch=104/270, Step=35/35, loss=8.708158, lr=0.000125, time_each_step=0.83s, eta=1:23:8\n",
      "2022-05-03 11:44:40 [INFO]\t[TRAIN] Epoch 104 finished, loss=9.15332, lr=0.000125 .\n",
      "2022-05-03 11:44:48 [INFO]\t[TRAIN] Epoch=105/270, Step=2/35, loss=8.271679, lr=0.000125, time_each_step=1.14s, eta=1:40:9\n"
     ]
    },
    {
     "name": "stderr",
     "output_type": "stream",
     "text": [
      "libpng warning: iCCP: known incorrect sRGB profile\n"
     ]
    },
    {
     "name": "stdout",
     "output_type": "stream",
     "text": [
      "2022-05-03 11:44:50 [INFO]\t[TRAIN] Epoch=105/270, Step=4/35, loss=15.206177, lr=0.000125, time_each_step=1.18s, eta=1:40:8\n",
      "2022-05-03 11:44:52 [INFO]\t[TRAIN] Epoch=105/270, Step=6/35, loss=8.183809, lr=0.000125, time_each_step=1.17s, eta=1:40:6\n",
      "2022-05-03 11:44:53 [INFO]\t[TRAIN] Epoch=105/270, Step=8/35, loss=6.63462, lr=0.000125, time_each_step=1.18s, eta=1:40:4\n",
      "2022-05-03 11:44:55 [INFO]\t[TRAIN] Epoch=105/270, Step=10/35, loss=7.065337, lr=0.000125, time_each_step=1.19s, eta=1:40:2\n",
      "2022-05-03 11:44:56 [INFO]\t[TRAIN] Epoch=105/270, Step=12/35, loss=9.112499, lr=0.000125, time_each_step=1.18s, eta=1:39:59\n",
      "2022-05-03 11:44:58 [INFO]\t[TRAIN] Epoch=105/270, Step=14/35, loss=7.326777, lr=0.000125, time_each_step=1.19s, eta=1:39:57\n",
      "2022-05-03 11:45:00 [INFO]\t[TRAIN] Epoch=105/270, Step=16/35, loss=8.169916, lr=0.000125, time_each_step=1.18s, eta=1:39:54\n",
      "2022-05-03 11:45:01 [INFO]\t[TRAIN] Epoch=105/270, Step=18/35, loss=5.345601, lr=0.000125, time_each_step=1.19s, eta=1:39:52\n",
      "2022-05-03 11:45:03 [INFO]\t[TRAIN] Epoch=105/270, Step=20/35, loss=10.330861, lr=0.000125, time_each_step=1.12s, eta=1:39:49\n",
      "2022-05-03 11:45:04 [INFO]\t[TRAIN] Epoch=105/270, Step=22/35, loss=9.829028, lr=0.000125, time_each_step=0.8s, eta=1:39:42\n"
     ]
    },
    {
     "name": "stderr",
     "output_type": "stream",
     "text": [
      "libpng warning: iCCP: known incorrect sRGB profile\n"
     ]
    },
    {
     "name": "stdout",
     "output_type": "stream",
     "text": [
      "2022-05-03 11:45:05 [INFO]\t[TRAIN] Epoch=105/270, Step=24/35, loss=11.463869, lr=0.000125, time_each_step=0.76s, eta=1:39:40\n",
      "2022-05-03 11:45:06 [INFO]\t[TRAIN] Epoch=105/270, Step=26/35, loss=8.656201, lr=0.000125, time_each_step=0.75s, eta=1:39:39\n",
      "2022-05-03 11:45:07 [INFO]\t[TRAIN] Epoch=105/270, Step=28/35, loss=8.096939, lr=0.000125, time_each_step=0.7s, eta=1:39:37\n",
      "2022-05-03 11:45:08 [INFO]\t[TRAIN] Epoch=105/270, Step=30/35, loss=9.918407, lr=0.000125, time_each_step=0.67s, eta=1:39:35\n",
      "2022-05-03 11:45:09 [INFO]\t[TRAIN] Epoch=105/270, Step=32/35, loss=9.273226, lr=0.000125, time_each_step=0.61s, eta=1:39:34\n",
      "2022-05-03 11:45:09 [INFO]\t[TRAIN] Epoch=105/270, Step=34/35, loss=7.313895, lr=0.000125, time_each_step=0.56s, eta=1:39:32\n",
      "2022-05-03 11:45:09 [INFO]\t[TRAIN] Epoch 105 finished, loss=9.433464, lr=0.000125 .\n",
      "2022-05-03 11:45:16 [INFO]\t[TRAIN] Epoch=106/270, Step=1/35, loss=9.961914, lr=0.000125, time_each_step=0.82s, eta=1:21:22\n",
      "2022-05-03 11:45:19 [INFO]\t[TRAIN] Epoch=106/270, Step=3/35, loss=14.552525, lr=0.000125, time_each_step=0.86s, eta=1:21:22\n"
     ]
    },
    {
     "name": "stderr",
     "output_type": "stream",
     "text": [
      "libpng warning: iCCP: known incorrect sRGB profile\n"
     ]
    },
    {
     "name": "stdout",
     "output_type": "stream",
     "text": [
      "2022-05-03 11:45:21 [INFO]\t[TRAIN] Epoch=106/270, Step=5/35, loss=11.398973, lr=0.000125, time_each_step=0.92s, eta=1:21:22\n",
      "2022-05-03 11:45:23 [INFO]\t[TRAIN] Epoch=106/270, Step=7/35, loss=8.460365, lr=0.000125, time_each_step=0.94s, eta=1:21:20\n",
      "2022-05-03 11:45:24 [INFO]\t[TRAIN] Epoch=106/270, Step=9/35, loss=7.780763, lr=0.000125, time_each_step=0.95s, eta=1:21:19\n",
      "2022-05-03 11:45:26 [INFO]\t[TRAIN] Epoch=106/270, Step=11/35, loss=12.427154, lr=0.000125, time_each_step=0.96s, eta=1:21:17\n",
      "2022-05-03 11:45:27 [INFO]\t[TRAIN] Epoch=106/270, Step=13/35, loss=12.021079, lr=0.000125, time_each_step=0.99s, eta=1:21:16\n",
      "2022-05-03 11:45:29 [INFO]\t[TRAIN] Epoch=106/270, Step=15/35, loss=7.089834, lr=0.000125, time_each_step=1.05s, eta=1:21:15\n",
      "2022-05-03 11:45:31 [INFO]\t[TRAIN] Epoch=106/270, Step=17/35, loss=7.935456, lr=0.000125, time_each_step=1.1s, eta=1:21:14\n",
      "2022-05-03 11:45:33 [INFO]\t[TRAIN] Epoch=106/270, Step=19/35, loss=7.804472, lr=0.000125, time_each_step=1.18s, eta=1:21:13\n",
      "2022-05-03 11:45:34 [INFO]\t[TRAIN] Epoch=106/270, Step=21/35, loss=12.369287, lr=0.000125, time_each_step=0.89s, eta=1:21:7\n"
     ]
    },
    {
     "name": "stderr",
     "output_type": "stream",
     "text": [
      "libpng warning: iCCP: known incorrect sRGB profile\n"
     ]
    },
    {
     "name": "stdout",
     "output_type": "stream",
     "text": [
      "2022-05-03 11:45:36 [INFO]\t[TRAIN] Epoch=106/270, Step=23/35, loss=9.609801, lr=0.000125, time_each_step=0.85s, eta=1:21:4\n",
      "2022-05-03 11:45:37 [INFO]\t[TRAIN] Epoch=106/270, Step=25/35, loss=12.34019, lr=0.000125, time_each_step=0.77s, eta=1:21:2\n",
      "2022-05-03 11:45:38 [INFO]\t[TRAIN] Epoch=106/270, Step=27/35, loss=11.158985, lr=0.000125, time_each_step=0.74s, eta=1:21:0\n",
      "2022-05-03 11:45:39 [INFO]\t[TRAIN] Epoch=106/270, Step=29/35, loss=8.516531, lr=0.000125, time_each_step=0.71s, eta=1:20:59\n",
      "2022-05-03 11:45:39 [INFO]\t[TRAIN] Epoch=106/270, Step=31/35, loss=8.116205, lr=0.000125, time_each_step=0.66s, eta=1:20:57\n",
      "2022-05-03 11:45:40 [INFO]\t[TRAIN] Epoch=106/270, Step=33/35, loss=6.423213, lr=0.000125, time_each_step=0.63s, eta=1:20:55\n",
      "2022-05-03 11:45:40 [INFO]\t[TRAIN] Epoch=106/270, Step=35/35, loss=8.268065, lr=0.000125, time_each_step=0.55s, eta=1:20:54\n",
      "2022-05-03 11:45:41 [INFO]\t[TRAIN] Epoch 106 finished, loss=9.647709, lr=0.000125 .\n",
      "2022-05-03 11:45:48 [INFO]\t[TRAIN] Epoch=107/270, Step=2/35, loss=7.999131, lr=0.000125, time_each_step=0.84s, eta=1:26:39\n"
     ]
    },
    {
     "name": "stderr",
     "output_type": "stream",
     "text": [
      "libpng warning: iCCP: known incorrect sRGB profile\n"
     ]
    },
    {
     "name": "stdout",
     "output_type": "stream",
     "text": [
      "2022-05-03 11:45:51 [INFO]\t[TRAIN] Epoch=107/270, Step=4/35, loss=12.537913, lr=0.000125, time_each_step=0.88s, eta=1:26:39\n",
      "2022-05-03 11:45:53 [INFO]\t[TRAIN] Epoch=107/270, Step=6/35, loss=13.512331, lr=0.000125, time_each_step=0.94s, eta=1:26:39\n",
      "2022-05-03 11:45:55 [INFO]\t[TRAIN] Epoch=107/270, Step=8/35, loss=11.302178, lr=0.000125, time_each_step=0.95s, eta=1:26:37\n",
      "2022-05-03 11:45:57 [INFO]\t[TRAIN] Epoch=107/270, Step=10/35, loss=8.650929, lr=0.000125, time_each_step=0.98s, eta=1:26:36\n",
      "2022-05-03 11:45:58 [INFO]\t[TRAIN] Epoch=107/270, Step=12/35, loss=10.030835, lr=0.000125, time_each_step=0.99s, eta=1:26:34\n",
      "2022-05-03 11:46:00 [INFO]\t[TRAIN] Epoch=107/270, Step=14/35, loss=8.155689, lr=0.000125, time_each_step=1.04s, eta=1:26:33\n",
      "2022-05-03 11:46:01 [INFO]\t[TRAIN] Epoch=107/270, Step=16/35, loss=8.933989, lr=0.000125, time_each_step=1.09s, eta=1:26:32\n",
      "2022-05-03 11:46:03 [INFO]\t[TRAIN] Epoch=107/270, Step=18/35, loss=12.465399, lr=0.000125, time_each_step=1.15s, eta=1:26:31\n",
      "2022-05-03 11:46:05 [INFO]\t[TRAIN] Epoch=107/270, Step=20/35, loss=10.30674, lr=0.000125, time_each_step=1.22s, eta=1:26:30\n",
      "2022-05-03 11:46:07 [INFO]\t[TRAIN] Epoch=107/270, Step=22/35, loss=8.234365, lr=0.000125, time_each_step=0.93s, eta=1:26:23\n"
     ]
    },
    {
     "name": "stderr",
     "output_type": "stream",
     "text": [
      "libpng warning: iCCP: known incorrect sRGB profile\n"
     ]
    },
    {
     "name": "stdout",
     "output_type": "stream",
     "text": [
      "2022-05-03 11:46:08 [INFO]\t[TRAIN] Epoch=107/270, Step=24/35, loss=7.241769, lr=0.000125, time_each_step=0.86s, eta=1:26:21\n",
      "2022-05-03 11:46:09 [INFO]\t[TRAIN] Epoch=107/270, Step=26/35, loss=10.235178, lr=0.000125, time_each_step=0.78s, eta=1:26:18\n",
      "2022-05-03 11:46:10 [INFO]\t[TRAIN] Epoch=107/270, Step=28/35, loss=7.119499, lr=0.000125, time_each_step=0.73s, eta=1:26:16\n",
      "2022-05-03 11:46:11 [INFO]\t[TRAIN] Epoch=107/270, Step=30/35, loss=12.679492, lr=0.000125, time_each_step=0.7s, eta=1:26:15\n",
      "2022-05-03 11:46:11 [INFO]\t[TRAIN] Epoch=107/270, Step=32/35, loss=12.722843, lr=0.000125, time_each_step=0.66s, eta=1:26:13\n",
      "2022-05-03 11:46:13 [INFO]\t[TRAIN] Epoch=107/270, Step=34/35, loss=8.226116, lr=0.000125, time_each_step=0.63s, eta=1:26:12\n",
      "2022-05-03 11:46:14 [INFO]\t[TRAIN] Epoch 107 finished, loss=9.877337, lr=0.000125 .\n",
      "2022-05-03 11:46:22 [INFO]\t[TRAIN] Epoch=108/270, Step=1/35, loss=8.586357, lr=0.000125, time_each_step=0.98s, eta=1:32:27\n",
      "2022-05-03 11:46:24 [INFO]\t[TRAIN] Epoch=108/270, Step=3/35, loss=9.482712, lr=0.000125, time_each_step=0.98s, eta=1:32:25\n"
     ]
    },
    {
     "name": "stderr",
     "output_type": "stream",
     "text": [
      "libpng warning: iCCP: known incorrect sRGB profile\n"
     ]
    },
    {
     "name": "stdout",
     "output_type": "stream",
     "text": [
      "2022-05-03 11:46:25 [INFO]\t[TRAIN] Epoch=108/270, Step=5/35, loss=14.132183, lr=0.000125, time_each_step=0.98s, eta=1:32:23\n",
      "2022-05-03 11:46:27 [INFO]\t[TRAIN] Epoch=108/270, Step=7/35, loss=11.111959, lr=0.000125, time_each_step=0.98s, eta=1:32:21\n",
      "2022-05-03 11:46:28 [INFO]\t[TRAIN] Epoch=108/270, Step=9/35, loss=6.886034, lr=0.000125, time_each_step=0.98s, eta=1:32:19\n",
      "2022-05-03 11:46:30 [INFO]\t[TRAIN] Epoch=108/270, Step=11/35, loss=9.065183, lr=0.000125, time_each_step=1.01s, eta=1:32:18\n",
      "2022-05-03 11:46:31 [INFO]\t[TRAIN] Epoch=108/270, Step=13/35, loss=9.3403, lr=0.000125, time_each_step=1.02s, eta=1:32:16\n",
      "2022-05-03 11:46:32 [INFO]\t[TRAIN] Epoch=108/270, Step=15/35, loss=12.113729, lr=0.000125, time_each_step=1.05s, eta=1:32:14\n",
      "2022-05-03 11:46:34 [INFO]\t[TRAIN] Epoch=108/270, Step=17/35, loss=7.531257, lr=0.000125, time_each_step=1.08s, eta=1:32:13\n",
      "2022-05-03 11:46:36 [INFO]\t[TRAIN] Epoch=108/270, Step=19/35, loss=8.754993, lr=0.000125, time_each_step=1.1s, eta=1:32:11\n",
      "2022-05-03 11:46:37 [INFO]\t[TRAIN] Epoch=108/270, Step=21/35, loss=8.67147, lr=0.000125, time_each_step=0.75s, eta=1:32:4\n",
      "2022-05-03 11:46:38 [INFO]\t[TRAIN] Epoch=108/270, Step=23/35, loss=12.162052, lr=0.000125, time_each_step=0.73s, eta=1:32:2\n",
      "2022-05-03 11:46:40 [INFO]\t[TRAIN] Epoch=108/270, Step=25/35, loss=6.204647, lr=0.000125, time_each_step=0.7s, eta=1:32:0\n"
     ]
    },
    {
     "name": "stderr",
     "output_type": "stream",
     "text": [
      "libpng warning: iCCP: known incorrect sRGB profile\n"
     ]
    },
    {
     "name": "stdout",
     "output_type": "stream",
     "text": [
      "2022-05-03 11:46:41 [INFO]\t[TRAIN] Epoch=108/270, Step=27/35, loss=9.185546, lr=0.000125, time_each_step=0.69s, eta=1:31:59\n",
      "2022-05-03 11:46:42 [INFO]\t[TRAIN] Epoch=108/270, Step=29/35, loss=9.089802, lr=0.000125, time_each_step=0.69s, eta=1:31:57\n",
      "2022-05-03 11:46:43 [INFO]\t[TRAIN] Epoch=108/270, Step=31/35, loss=10.723035, lr=0.000125, time_each_step=0.68s, eta=1:31:56\n",
      "2022-05-03 11:46:44 [INFO]\t[TRAIN] Epoch=108/270, Step=33/35, loss=5.72429, lr=0.000125, time_each_step=0.66s, eta=1:31:55\n",
      "2022-05-03 11:46:45 [INFO]\t[TRAIN] Epoch=108/270, Step=35/35, loss=6.386569, lr=0.000125, time_each_step=0.63s, eta=1:31:53\n",
      "2022-05-03 11:46:45 [INFO]\t[TRAIN] Epoch 108 finished, loss=9.14375, lr=0.000125 .\n",
      "2022-05-03 11:46:52 [INFO]\t[TRAIN] Epoch=109/270, Step=2/35, loss=7.967209, lr=0.000125, time_each_step=0.91s, eta=1:24:58\n"
     ]
    },
    {
     "name": "stderr",
     "output_type": "stream",
     "text": [
      "libpng warning: iCCP: known incorrect sRGB profile\n"
     ]
    },
    {
     "name": "stdout",
     "output_type": "stream",
     "text": [
      "2022-05-03 11:46:54 [INFO]\t[TRAIN] Epoch=109/270, Step=4/35, loss=9.609483, lr=0.000125, time_each_step=0.93s, eta=1:24:57\n",
      "2022-05-03 11:46:55 [INFO]\t[TRAIN] Epoch=109/270, Step=6/35, loss=9.878242, lr=0.000125, time_each_step=0.92s, eta=1:24:54\n",
      "2022-05-03 11:46:57 [INFO]\t[TRAIN] Epoch=109/270, Step=8/35, loss=7.517766, lr=0.000125, time_each_step=0.93s, eta=1:24:53\n",
      "2022-05-03 11:46:59 [INFO]\t[TRAIN] Epoch=109/270, Step=10/35, loss=10.383215, lr=0.000125, time_each_step=0.96s, eta=1:24:52\n",
      "2022-05-03 11:47:01 [INFO]\t[TRAIN] Epoch=109/270, Step=12/35, loss=8.576972, lr=0.000125, time_each_step=0.98s, eta=1:24:50\n",
      "2022-05-03 11:47:02 [INFO]\t[TRAIN] Epoch=109/270, Step=14/35, loss=9.290512, lr=0.000125, time_each_step=1.0s, eta=1:24:49\n",
      "2022-05-03 11:47:04 [INFO]\t[TRAIN] Epoch=109/270, Step=16/35, loss=7.644541, lr=0.000125, time_each_step=1.02s, eta=1:24:47\n",
      "2022-05-03 11:47:05 [INFO]\t[TRAIN] Epoch=109/270, Step=18/35, loss=10.723638, lr=0.000125, time_each_step=1.06s, eta=1:24:46\n",
      "2022-05-03 11:47:07 [INFO]\t[TRAIN] Epoch=109/270, Step=20/35, loss=10.548594, lr=0.000125, time_each_step=1.11s, eta=1:24:45\n",
      "2022-05-03 11:47:09 [INFO]\t[TRAIN] Epoch=109/270, Step=22/35, loss=14.06335, lr=0.000125, time_each_step=0.84s, eta=1:24:39\n",
      "2022-05-03 11:47:11 [INFO]\t[TRAIN] Epoch=109/270, Step=24/35, loss=6.912943, lr=0.000125, time_each_step=0.82s, eta=1:24:37\n",
      "2022-05-03 11:47:12 [INFO]\t[TRAIN] Epoch=109/270, Step=26/35, loss=9.1894, lr=0.000125, time_each_step=0.81s, eta=1:24:35\n"
     ]
    },
    {
     "name": "stderr",
     "output_type": "stream",
     "text": [
      "libpng warning: iCCP: known incorrect sRGB profile\n"
     ]
    },
    {
     "name": "stdout",
     "output_type": "stream",
     "text": [
      "2022-05-03 11:47:13 [INFO]\t[TRAIN] Epoch=109/270, Step=28/35, loss=5.262349, lr=0.000125, time_each_step=0.78s, eta=1:24:33\n",
      "2022-05-03 11:47:14 [INFO]\t[TRAIN] Epoch=109/270, Step=30/35, loss=14.043347, lr=0.000125, time_each_step=0.75s, eta=1:24:32\n",
      "2022-05-03 11:47:15 [INFO]\t[TRAIN] Epoch=109/270, Step=32/35, loss=16.416506, lr=0.000125, time_each_step=0.71s, eta=1:24:30\n",
      "2022-05-03 11:47:16 [INFO]\t[TRAIN] Epoch=109/270, Step=34/35, loss=10.73089, lr=0.000125, time_each_step=0.69s, eta=1:24:29\n",
      "2022-05-03 11:47:17 [INFO]\t[TRAIN] Epoch 109 finished, loss=9.333138, lr=0.000125 .\n",
      "2022-05-03 11:47:24 [INFO]\t[TRAIN] Epoch=110/270, Step=1/35, loss=8.657696, lr=0.000125, time_each_step=0.95s, eta=1:28:6\n",
      "2022-05-03 11:47:26 [INFO]\t[TRAIN] Epoch=110/270, Step=3/35, loss=10.019955, lr=0.000125, time_each_step=0.97s, eta=1:28:4\n"
     ]
    },
    {
     "name": "stderr",
     "output_type": "stream",
     "text": [
      "libpng warning: iCCP: known incorrect sRGB profile\n"
     ]
    },
    {
     "name": "stdout",
     "output_type": "stream",
     "text": [
      "2022-05-03 11:47:27 [INFO]\t[TRAIN] Epoch=110/270, Step=5/35, loss=12.322113, lr=0.000125, time_each_step=0.94s, eta=1:28:1\n",
      "2022-05-03 11:47:29 [INFO]\t[TRAIN] Epoch=110/270, Step=7/35, loss=11.130776, lr=0.000125, time_each_step=0.94s, eta=1:28:0\n",
      "2022-05-03 11:47:30 [INFO]\t[TRAIN] Epoch=110/270, Step=9/35, loss=8.52844, lr=0.000125, time_each_step=0.94s, eta=1:27:58\n",
      "2022-05-03 11:47:32 [INFO]\t[TRAIN] Epoch=110/270, Step=11/35, loss=10.153954, lr=0.000125, time_each_step=0.97s, eta=1:27:56\n",
      "2022-05-03 11:47:33 [INFO]\t[TRAIN] Epoch=110/270, Step=13/35, loss=7.336822, lr=0.000125, time_each_step=1.0s, eta=1:27:55\n",
      "2022-05-03 11:47:35 [INFO]\t[TRAIN] Epoch=110/270, Step=15/35, loss=11.900794, lr=0.000125, time_each_step=1.02s, eta=1:27:54\n",
      "2022-05-03 11:47:36 [INFO]\t[TRAIN] Epoch=110/270, Step=17/35, loss=9.205856, lr=0.000125, time_each_step=1.04s, eta=1:27:52\n",
      "2022-05-03 11:47:38 [INFO]\t[TRAIN] Epoch=110/270, Step=19/35, loss=7.718653, lr=0.000125, time_each_step=1.05s, eta=1:27:50\n",
      "2022-05-03 11:47:40 [INFO]\t[TRAIN] Epoch=110/270, Step=21/35, loss=5.98816, lr=0.000125, time_each_step=0.8s, eta=1:27:44\n",
      "2022-05-03 11:47:41 [INFO]\t[TRAIN] Epoch=110/270, Step=23/35, loss=18.706547, lr=0.000125, time_each_step=0.76s, eta=1:27:42\n",
      "2022-05-03 11:47:42 [INFO]\t[TRAIN] Epoch=110/270, Step=25/35, loss=13.860057, lr=0.000125, time_each_step=0.77s, eta=1:27:41\n",
      "2022-05-03 11:47:44 [INFO]\t[TRAIN] Epoch=110/270, Step=27/35, loss=7.135421, lr=0.000125, time_each_step=0.75s, eta=1:27:39\n"
     ]
    },
    {
     "name": "stderr",
     "output_type": "stream",
     "text": [
      "libpng warning: iCCP: known incorrect sRGB profile\n"
     ]
    },
    {
     "name": "stdout",
     "output_type": "stream",
     "text": [
      "2022-05-03 11:47:45 [INFO]\t[TRAIN] Epoch=110/270, Step=29/35, loss=4.918825, lr=0.000125, time_each_step=0.74s, eta=1:27:38\n",
      "2022-05-03 11:47:46 [INFO]\t[TRAIN] Epoch=110/270, Step=31/35, loss=8.384351, lr=0.000125, time_each_step=0.7s, eta=1:27:36\n",
      "2022-05-03 11:47:46 [INFO]\t[TRAIN] Epoch=110/270, Step=33/35, loss=7.59544, lr=0.000125, time_each_step=0.65s, eta=1:27:35\n",
      "2022-05-03 11:47:47 [INFO]\t[TRAIN] Epoch=110/270, Step=35/35, loss=9.143917, lr=0.000125, time_each_step=0.59s, eta=1:27:33\n",
      "2022-05-03 11:47:47 [INFO]\t[TRAIN] Epoch 110 finished, loss=9.453424, lr=0.000125 .\n",
      "2022-05-03 11:47:54 [INFO]\t[TRAIN] Epoch=111/270, Step=2/35, loss=5.1209, lr=0.000125, time_each_step=0.89s, eta=1:19:39\n"
     ]
    },
    {
     "name": "stderr",
     "output_type": "stream",
     "text": [
      "libpng warning: iCCP: known incorrect sRGB profile\n"
     ]
    },
    {
     "name": "stdout",
     "output_type": "stream",
     "text": [
      "2022-05-03 11:47:56 [INFO]\t[TRAIN] Epoch=111/270, Step=4/35, loss=11.927288, lr=0.000125, time_each_step=0.93s, eta=1:19:38\n",
      "2022-05-03 11:47:59 [INFO]\t[TRAIN] Epoch=111/270, Step=6/35, loss=8.665405, lr=0.000125, time_each_step=0.95s, eta=1:19:37\n",
      "2022-05-03 11:48:00 [INFO]\t[TRAIN] Epoch=111/270, Step=8/35, loss=12.455088, lr=0.000125, time_each_step=0.96s, eta=1:19:35\n",
      "2022-05-03 11:48:02 [INFO]\t[TRAIN] Epoch=111/270, Step=10/35, loss=8.292827, lr=0.000125, time_each_step=0.96s, eta=1:19:34\n",
      "2022-05-03 11:48:03 [INFO]\t[TRAIN] Epoch=111/270, Step=12/35, loss=6.303688, lr=0.000125, time_each_step=0.96s, eta=1:19:32\n",
      "2022-05-03 11:48:05 [INFO]\t[TRAIN] Epoch=111/270, Step=14/35, loss=11.140226, lr=0.000125, time_each_step=1.0s, eta=1:19:31\n",
      "2022-05-03 11:48:06 [INFO]\t[TRAIN] Epoch=111/270, Step=16/35, loss=8.58745, lr=0.000125, time_each_step=1.04s, eta=1:19:29\n",
      "2022-05-03 11:48:08 [INFO]\t[TRAIN] Epoch=111/270, Step=18/35, loss=7.816124, lr=0.000125, time_each_step=1.1s, eta=1:19:28\n"
     ]
    },
    {
     "name": "stderr",
     "output_type": "stream",
     "text": [
      "libpng warning: iCCP: known incorrect sRGB profile\n"
     ]
    },
    {
     "name": "stdout",
     "output_type": "stream",
     "text": [
      "2022-05-03 11:48:10 [INFO]\t[TRAIN] Epoch=111/270, Step=20/35, loss=10.135351, lr=0.000125, time_each_step=1.16s, eta=1:19:27\n",
      "2022-05-03 11:48:11 [INFO]\t[TRAIN] Epoch=111/270, Step=22/35, loss=10.196301, lr=0.000125, time_each_step=0.84s, eta=1:19:20\n",
      "2022-05-03 11:48:12 [INFO]\t[TRAIN] Epoch=111/270, Step=24/35, loss=12.632507, lr=0.000125, time_each_step=0.78s, eta=1:19:18\n",
      "2022-05-03 11:48:13 [INFO]\t[TRAIN] Epoch=111/270, Step=26/35, loss=5.580972, lr=0.000125, time_each_step=0.71s, eta=1:19:16\n",
      "2022-05-03 11:48:14 [INFO]\t[TRAIN] Epoch=111/270, Step=28/35, loss=11.700275, lr=0.000125, time_each_step=0.7s, eta=1:19:14\n",
      "2022-05-03 11:48:15 [INFO]\t[TRAIN] Epoch=111/270, Step=30/35, loss=10.482426, lr=0.000125, time_each_step=0.66s, eta=1:19:13\n",
      "2022-05-03 11:48:16 [INFO]\t[TRAIN] Epoch=111/270, Step=32/35, loss=9.734741, lr=0.000125, time_each_step=0.63s, eta=1:19:11\n",
      "2022-05-03 11:48:16 [INFO]\t[TRAIN] Epoch=111/270, Step=34/35, loss=5.797794, lr=0.000125, time_each_step=0.57s, eta=1:19:10\n",
      "2022-05-03 11:48:18 [INFO]\t[TRAIN] Epoch 111 finished, loss=9.606999, lr=0.000125 .\n",
      "2022-05-03 11:48:25 [INFO]\t[TRAIN] Epoch=112/270, Step=1/35, loss=7.957617, lr=0.000125, time_each_step=0.9s, eta=1:23:13\n"
     ]
    },
    {
     "name": "stderr",
     "output_type": "stream",
     "text": [
      "libpng warning: iCCP: known incorrect sRGB profile\n"
     ]
    },
    {
     "name": "stdout",
     "output_type": "stream",
     "text": [
      "2022-05-03 11:48:27 [INFO]\t[TRAIN] Epoch=112/270, Step=3/35, loss=10.231372, lr=0.000125, time_each_step=0.91s, eta=1:23:12\n",
      "2022-05-03 11:48:29 [INFO]\t[TRAIN] Epoch=112/270, Step=5/35, loss=11.37264, lr=0.000125, time_each_step=0.91s, eta=1:23:10\n",
      "2022-05-03 11:48:30 [INFO]\t[TRAIN] Epoch=112/270, Step=7/35, loss=8.536139, lr=0.000125, time_each_step=0.92s, eta=1:23:8\n",
      "2022-05-03 11:48:31 [INFO]\t[TRAIN] Epoch=112/270, Step=9/35, loss=6.619833, lr=0.000125, time_each_step=0.94s, eta=1:23:7\n",
      "2022-05-03 11:48:33 [INFO]\t[TRAIN] Epoch=112/270, Step=11/35, loss=11.784778, lr=0.000125, time_each_step=0.98s, eta=1:23:6\n",
      "2022-05-03 11:48:34 [INFO]\t[TRAIN] Epoch=112/270, Step=13/35, loss=7.454946, lr=0.000125, time_each_step=0.98s, eta=1:23:4\n",
      "2022-05-03 11:48:35 [INFO]\t[TRAIN] Epoch=112/270, Step=15/35, loss=6.488829, lr=0.000125, time_each_step=1.0s, eta=1:23:2\n",
      "2022-05-03 11:48:38 [INFO]\t[TRAIN] Epoch=112/270, Step=17/35, loss=11.311036, lr=0.000125, time_each_step=1.07s, eta=1:23:2\n",
      "2022-05-03 11:48:40 [INFO]\t[TRAIN] Epoch=112/270, Step=19/35, loss=9.269698, lr=0.000125, time_each_step=1.14s, eta=1:23:1\n",
      "2022-05-03 11:48:41 [INFO]\t[TRAIN] Epoch=112/270, Step=21/35, loss=11.293784, lr=0.000125, time_each_step=0.83s, eta=1:22:54\n",
      "2022-05-03 11:48:43 [INFO]\t[TRAIN] Epoch=112/270, Step=23/35, loss=12.158163, lr=0.000125, time_each_step=0.8s, eta=1:22:52\n"
     ]
    },
    {
     "name": "stderr",
     "output_type": "stream",
     "text": [
      "libpng warning: iCCP: known incorrect sRGB profile\n"
     ]
    },
    {
     "name": "stdout",
     "output_type": "stream",
     "text": [
      "2022-05-03 11:48:44 [INFO]\t[TRAIN] Epoch=112/270, Step=25/35, loss=10.938014, lr=0.000125, time_each_step=0.79s, eta=1:22:50\n",
      "2022-05-03 11:48:46 [INFO]\t[TRAIN] Epoch=112/270, Step=27/35, loss=9.216183, lr=0.000125, time_each_step=0.79s, eta=1:22:49\n",
      "2022-05-03 11:48:47 [INFO]\t[TRAIN] Epoch=112/270, Step=29/35, loss=7.789609, lr=0.000125, time_each_step=0.79s, eta=1:22:47\n",
      "2022-05-03 11:48:48 [INFO]\t[TRAIN] Epoch=112/270, Step=31/35, loss=6.924281, lr=0.000125, time_each_step=0.76s, eta=1:22:46\n",
      "2022-05-03 11:48:49 [INFO]\t[TRAIN] Epoch=112/270, Step=33/35, loss=18.238665, lr=0.000125, time_each_step=0.74s, eta=1:22:44\n",
      "2022-05-03 11:48:50 [INFO]\t[TRAIN] Epoch=112/270, Step=35/35, loss=6.716819, lr=0.000125, time_each_step=0.74s, eta=1:22:42\n",
      "2022-05-03 11:48:50 [INFO]\t[TRAIN] Epoch 112 finished, loss=9.353459, lr=0.000125 .\n",
      "2022-05-03 11:48:58 [INFO]\t[TRAIN] Epoch=113/270, Step=2/35, loss=9.314725, lr=0.000125, time_each_step=1.03s, eta=1:26:39\n"
     ]
    },
    {
     "name": "stderr",
     "output_type": "stream",
     "text": [
      "libpng warning: iCCP: known incorrect sRGB profile\n"
     ]
    },
    {
     "name": "stdout",
     "output_type": "stream",
     "text": [
      "2022-05-03 11:49:00 [INFO]\t[TRAIN] Epoch=113/270, Step=4/35, loss=11.985641, lr=0.000125, time_each_step=1.0s, eta=1:26:36\n",
      "2022-05-03 11:49:01 [INFO]\t[TRAIN] Epoch=113/270, Step=6/35, loss=9.747328, lr=0.000125, time_each_step=0.99s, eta=1:26:34\n",
      "2022-05-03 11:49:03 [INFO]\t[TRAIN] Epoch=113/270, Step=8/35, loss=7.515521, lr=0.000125, time_each_step=1.0s, eta=1:26:32\n",
      "2022-05-03 11:49:05 [INFO]\t[TRAIN] Epoch=113/270, Step=10/35, loss=11.604655, lr=0.000125, time_each_step=1.01s, eta=1:26:30\n",
      "2022-05-03 11:49:07 [INFO]\t[TRAIN] Epoch=113/270, Step=12/35, loss=11.840204, lr=0.000125, time_each_step=1.03s, eta=1:26:29\n",
      "2022-05-03 11:49:08 [INFO]\t[TRAIN] Epoch=113/270, Step=14/35, loss=11.041427, lr=0.000125, time_each_step=1.03s, eta=1:26:27\n",
      "2022-05-03 11:49:09 [INFO]\t[TRAIN] Epoch=113/270, Step=16/35, loss=6.587317, lr=0.000125, time_each_step=1.05s, eta=1:26:25\n",
      "2022-05-03 11:49:11 [INFO]\t[TRAIN] Epoch=113/270, Step=18/35, loss=10.576937, lr=0.000125, time_each_step=1.11s, eta=1:26:24\n",
      "2022-05-03 11:49:12 [INFO]\t[TRAIN] Epoch=113/270, Step=20/35, loss=10.662349, lr=0.000125, time_each_step=1.12s, eta=1:26:22\n",
      "2022-05-03 11:49:13 [INFO]\t[TRAIN] Epoch=113/270, Step=22/35, loss=13.2833, lr=0.000125, time_each_step=0.76s, eta=1:26:15\n",
      "2022-05-03 11:49:15 [INFO]\t[TRAIN] Epoch=113/270, Step=24/35, loss=8.989923, lr=0.000125, time_each_step=0.75s, eta=1:26:13\n",
      "2022-05-03 11:49:16 [INFO]\t[TRAIN] Epoch=113/270, Step=26/35, loss=10.524382, lr=0.000125, time_each_step=0.73s, eta=1:26:12\n",
      "2022-05-03 11:49:17 [INFO]\t[TRAIN] Epoch=113/270, Step=28/35, loss=7.214066, lr=0.000125, time_each_step=0.69s, eta=1:26:10\n",
      "2022-05-03 11:49:18 [INFO]\t[TRAIN] Epoch=113/270, Step=30/35, loss=8.150657, lr=0.000125, time_each_step=0.67s, eta=1:26:8\n",
      "2022-05-03 11:49:19 [INFO]\t[TRAIN] Epoch=113/270, Step=32/35, loss=7.471348, lr=0.000125, time_each_step=0.65s, eta=1:26:7\n"
     ]
    },
    {
     "name": "stderr",
     "output_type": "stream",
     "text": [
      "libpng warning: iCCP: known incorrect sRGB profile\n"
     ]
    },
    {
     "name": "stdout",
     "output_type": "stream",
     "text": [
      "2022-05-03 11:49:21 [INFO]\t[TRAIN] Epoch=113/270, Step=34/35, loss=7.915123, lr=0.000125, time_each_step=0.63s, eta=1:26:6\n",
      "2022-05-03 11:49:22 [INFO]\t[TRAIN] Epoch 113 finished, loss=9.28708, lr=0.000125 .\n",
      "2022-05-03 11:49:28 [INFO]\t[TRAIN] Epoch=114/270, Step=1/35, loss=10.604633, lr=0.000125, time_each_step=0.94s, eta=1:24:18\n"
     ]
    },
    {
     "name": "stderr",
     "output_type": "stream",
     "text": [
      "libpng warning: iCCP: known incorrect sRGB profile\n"
     ]
    },
    {
     "name": "stdout",
     "output_type": "stream",
     "text": [
      "2022-05-03 11:49:31 [INFO]\t[TRAIN] Epoch=114/270, Step=3/35, loss=10.582045, lr=0.000125, time_each_step=0.97s, eta=1:24:17\n",
      "2022-05-03 11:49:33 [INFO]\t[TRAIN] Epoch=114/270, Step=5/35, loss=9.005719, lr=0.000125, time_each_step=1.0s, eta=1:24:16\n",
      "2022-05-03 11:49:34 [INFO]\t[TRAIN] Epoch=114/270, Step=7/35, loss=9.826062, lr=0.000125, time_each_step=1.02s, eta=1:24:14\n",
      "2022-05-03 11:49:35 [INFO]\t[TRAIN] Epoch=114/270, Step=9/35, loss=8.698547, lr=0.000125, time_each_step=1.02s, eta=1:24:12\n",
      "2022-05-03 11:49:36 [INFO]\t[TRAIN] Epoch=114/270, Step=11/35, loss=6.689902, lr=0.000125, time_each_step=1.02s, eta=1:24:10\n",
      "2022-05-03 11:49:37 [INFO]\t[TRAIN] Epoch=114/270, Step=13/35, loss=8.162342, lr=0.000125, time_each_step=1.02s, eta=1:24:8\n",
      "2022-05-03 11:49:39 [INFO]\t[TRAIN] Epoch=114/270, Step=15/35, loss=5.595984, lr=0.000125, time_each_step=1.01s, eta=1:24:6\n",
      "2022-05-03 11:49:40 [INFO]\t[TRAIN] Epoch=114/270, Step=17/35, loss=9.432152, lr=0.000125, time_each_step=1.03s, eta=1:24:4\n",
      "2022-05-03 11:49:42 [INFO]\t[TRAIN] Epoch=114/270, Step=19/35, loss=9.757927, lr=0.000125, time_each_step=1.05s, eta=1:24:2\n",
      "2022-05-03 11:49:45 [INFO]\t[TRAIN] Epoch=114/270, Step=21/35, loss=12.18269, lr=0.000125, time_each_step=0.81s, eta=1:23:57\n",
      "2022-05-03 11:49:46 [INFO]\t[TRAIN] Epoch=114/270, Step=23/35, loss=7.001875, lr=0.000125, time_each_step=0.76s, eta=1:23:55\n",
      "2022-05-03 11:49:47 [INFO]\t[TRAIN] Epoch=114/270, Step=25/35, loss=10.09448, lr=0.000125, time_each_step=0.74s, eta=1:23:53\n",
      "2022-05-03 11:49:49 [INFO]\t[TRAIN] Epoch=114/270, Step=27/35, loss=6.563331, lr=0.000125, time_each_step=0.76s, eta=1:23:52\n",
      "2022-05-03 11:49:50 [INFO]\t[TRAIN] Epoch=114/270, Step=29/35, loss=11.014697, lr=0.000125, time_each_step=0.75s, eta=1:23:50\n",
      "2022-05-03 11:49:52 [INFO]\t[TRAIN] Epoch=114/270, Step=31/35, loss=7.266354, lr=0.000125, time_each_step=0.76s, eta=1:23:49\n"
     ]
    },
    {
     "name": "stderr",
     "output_type": "stream",
     "text": [
      "libpng warning: iCCP: known incorrect sRGB profile\n"
     ]
    },
    {
     "name": "stdout",
     "output_type": "stream",
     "text": [
      "2022-05-03 11:49:53 [INFO]\t[TRAIN] Epoch=114/270, Step=33/35, loss=11.179002, lr=0.000125, time_each_step=0.8s, eta=1:23:47\n",
      "2022-05-03 11:49:56 [INFO]\t[TRAIN] Epoch=114/270, Step=35/35, loss=12.591401, lr=0.000125, time_each_step=0.85s, eta=1:23:46\n",
      "2022-05-03 11:49:56 [INFO]\t[TRAIN] Epoch 114 finished, loss=9.061699, lr=0.000125 .\n",
      "2022-05-03 11:50:04 [INFO]\t[TRAIN] Epoch=115/270, Step=2/35, loss=8.546296, lr=0.000125, time_each_step=1.15s, eta=1:30:14\n"
     ]
    },
    {
     "name": "stderr",
     "output_type": "stream",
     "text": [
      "libpng warning: iCCP: known incorrect sRGB profile\n"
     ]
    },
    {
     "name": "stdout",
     "output_type": "stream",
     "text": [
      "2022-05-03 11:50:05 [INFO]\t[TRAIN] Epoch=115/270, Step=4/35, loss=8.141187, lr=0.000125, time_each_step=1.15s, eta=1:30:12\n",
      "2022-05-03 11:50:06 [INFO]\t[TRAIN] Epoch=115/270, Step=6/35, loss=8.884985, lr=0.000125, time_each_step=1.06s, eta=1:30:7\n",
      "2022-05-03 11:50:08 [INFO]\t[TRAIN] Epoch=115/270, Step=8/35, loss=7.903724, lr=0.000125, time_each_step=1.07s, eta=1:30:5\n",
      "2022-05-03 11:50:10 [INFO]\t[TRAIN] Epoch=115/270, Step=10/35, loss=9.367136, lr=0.000125, time_each_step=1.09s, eta=1:30:3\n",
      "2022-05-03 11:50:12 [INFO]\t[TRAIN] Epoch=115/270, Step=12/35, loss=12.993176, lr=0.000125, time_each_step=1.1s, eta=1:30:1\n",
      "2022-05-03 11:50:13 [INFO]\t[TRAIN] Epoch=115/270, Step=14/35, loss=10.335085, lr=0.000125, time_each_step=1.11s, eta=1:29:59\n",
      "2022-05-03 11:50:14 [INFO]\t[TRAIN] Epoch=115/270, Step=16/35, loss=10.112965, lr=0.000125, time_each_step=1.1s, eta=1:29:57\n",
      "2022-05-03 11:50:16 [INFO]\t[TRAIN] Epoch=115/270, Step=18/35, loss=4.919103, lr=0.000125, time_each_step=1.11s, eta=1:29:55\n",
      "2022-05-03 11:50:18 [INFO]\t[TRAIN] Epoch=115/270, Step=20/35, loss=7.266282, lr=0.000125, time_each_step=1.08s, eta=1:29:52\n",
      "2022-05-03 11:50:19 [INFO]\t[TRAIN] Epoch=115/270, Step=22/35, loss=10.859088, lr=0.000125, time_each_step=0.76s, eta=1:29:46\n",
      "2022-05-03 11:50:20 [INFO]\t[TRAIN] Epoch=115/270, Step=24/35, loss=7.239335, lr=0.000125, time_each_step=0.77s, eta=1:29:44\n"
     ]
    },
    {
     "name": "stderr",
     "output_type": "stream",
     "text": [
      "libpng warning: iCCP: known incorrect sRGB profile\n"
     ]
    },
    {
     "name": "stdout",
     "output_type": "stream",
     "text": [
      "2022-05-03 11:50:22 [INFO]\t[TRAIN] Epoch=115/270, Step=26/35, loss=9.307605, lr=0.000125, time_each_step=0.77s, eta=1:29:43\n",
      "2022-05-03 11:50:23 [INFO]\t[TRAIN] Epoch=115/270, Step=28/35, loss=9.265225, lr=0.000125, time_each_step=0.76s, eta=1:29:41\n",
      "2022-05-03 11:50:24 [INFO]\t[TRAIN] Epoch=115/270, Step=30/35, loss=4.30666, lr=0.000125, time_each_step=0.71s, eta=1:29:39\n",
      "2022-05-03 11:50:25 [INFO]\t[TRAIN] Epoch=115/270, Step=32/35, loss=7.328402, lr=0.000125, time_each_step=0.66s, eta=1:29:38\n",
      "2022-05-03 11:50:25 [INFO]\t[TRAIN] Epoch=115/270, Step=34/35, loss=6.962891, lr=0.000125, time_each_step=0.63s, eta=1:29:36\n",
      "2022-05-03 11:50:26 [INFO]\t[TRAIN] Epoch 115 finished, loss=9.1653, lr=0.000125 .\n",
      "2022-05-03 11:50:33 [INFO]\t[TRAIN] Epoch=116/270, Step=1/35, loss=7.831863, lr=0.000125, time_each_step=0.97s, eta=1:20:15\n"
     ]
    },
    {
     "name": "stderr",
     "output_type": "stream",
     "text": [
      "libpng warning: iCCP: known incorrect sRGB profile\n"
     ]
    },
    {
     "name": "stdout",
     "output_type": "stream",
     "text": [
      "2022-05-03 11:50:36 [INFO]\t[TRAIN] Epoch=116/270, Step=3/35, loss=8.246449, lr=0.000125, time_each_step=0.98s, eta=1:20:13\n",
      "2022-05-03 11:50:37 [INFO]\t[TRAIN] Epoch=116/270, Step=5/35, loss=12.520265, lr=0.000125, time_each_step=0.97s, eta=1:20:11\n",
      "2022-05-03 11:50:39 [INFO]\t[TRAIN] Epoch=116/270, Step=7/35, loss=9.461071, lr=0.000125, time_each_step=0.98s, eta=1:20:9\n",
      "2022-05-03 11:50:40 [INFO]\t[TRAIN] Epoch=116/270, Step=9/35, loss=5.18984, lr=0.000125, time_each_step=0.97s, eta=1:20:7\n",
      "2022-05-03 11:50:41 [INFO]\t[TRAIN] Epoch=116/270, Step=11/35, loss=8.185542, lr=0.000125, time_each_step=0.97s, eta=1:20:5\n",
      "2022-05-03 11:50:43 [INFO]\t[TRAIN] Epoch=116/270, Step=13/35, loss=7.40583, lr=0.000125, time_each_step=0.99s, eta=1:20:4\n",
      "2022-05-03 11:50:45 [INFO]\t[TRAIN] Epoch=116/270, Step=15/35, loss=7.964623, lr=0.000125, time_each_step=1.03s, eta=1:20:2\n",
      "2022-05-03 11:50:46 [INFO]\t[TRAIN] Epoch=116/270, Step=17/35, loss=7.33395, lr=0.000125, time_each_step=1.04s, eta=1:20:0\n"
     ]
    },
    {
     "name": "stderr",
     "output_type": "stream",
     "text": [
      "libpng warning: iCCP: known incorrect sRGB profile\n"
     ]
    },
    {
     "name": "stdout",
     "output_type": "stream",
     "text": [
      "2022-05-03 11:50:47 [INFO]\t[TRAIN] Epoch=116/270, Step=19/35, loss=10.34482, lr=0.000125, time_each_step=1.09s, eta=1:19:59\n",
      "2022-05-03 11:50:49 [INFO]\t[TRAIN] Epoch=116/270, Step=21/35, loss=7.124593, lr=0.000125, time_each_step=0.78s, eta=1:19:53\n",
      "2022-05-03 11:50:50 [INFO]\t[TRAIN] Epoch=116/270, Step=23/35, loss=10.942802, lr=0.000125, time_each_step=0.73s, eta=1:19:50\n",
      "2022-05-03 11:50:52 [INFO]\t[TRAIN] Epoch=116/270, Step=25/35, loss=10.54088, lr=0.000125, time_each_step=0.73s, eta=1:19:49\n",
      "2022-05-03 11:50:53 [INFO]\t[TRAIN] Epoch=116/270, Step=27/35, loss=9.372953, lr=0.000125, time_each_step=0.73s, eta=1:19:47\n",
      "2022-05-03 11:50:54 [INFO]\t[TRAIN] Epoch=116/270, Step=29/35, loss=8.950388, lr=0.000125, time_each_step=0.72s, eta=1:19:46\n",
      "2022-05-03 11:50:55 [INFO]\t[TRAIN] Epoch=116/270, Step=31/35, loss=10.869791, lr=0.000125, time_each_step=0.68s, eta=1:19:44\n",
      "2022-05-03 11:50:55 [INFO]\t[TRAIN] Epoch=116/270, Step=33/35, loss=6.979797, lr=0.000125, time_each_step=0.63s, eta=1:19:43\n",
      "2022-05-03 11:50:56 [INFO]\t[TRAIN] Epoch=116/270, Step=35/35, loss=8.80536, lr=0.000125, time_each_step=0.59s, eta=1:19:42\n",
      "2022-05-03 11:50:57 [INFO]\t[TRAIN] Epoch 116 finished, loss=9.09483, lr=0.000125 .\n",
      "2022-05-03 11:51:05 [INFO]\t[TRAIN] Epoch=117/270, Step=2/35, loss=6.763028, lr=0.000125, time_each_step=0.94s, eta=1:19:10\n"
     ]
    },
    {
     "name": "stderr",
     "output_type": "stream",
     "text": [
      "libpng warning: iCCP: known incorrect sRGB profile\n"
     ]
    },
    {
     "name": "stdout",
     "output_type": "stream",
     "text": [
      "2022-05-03 11:51:07 [INFO]\t[TRAIN] Epoch=117/270, Step=4/35, loss=11.883827, lr=0.000125, time_each_step=0.97s, eta=1:19:10\n",
      "2022-05-03 11:51:09 [INFO]\t[TRAIN] Epoch=117/270, Step=6/35, loss=9.775622, lr=0.000125, time_each_step=0.97s, eta=1:19:8\n",
      "2022-05-03 11:51:10 [INFO]\t[TRAIN] Epoch=117/270, Step=8/35, loss=8.825841, lr=0.000125, time_each_step=0.97s, eta=1:19:6\n",
      "2022-05-03 11:51:13 [INFO]\t[TRAIN] Epoch=117/270, Step=10/35, loss=7.506025, lr=0.000125, time_each_step=1.04s, eta=1:19:5\n",
      "2022-05-03 11:51:14 [INFO]\t[TRAIN] Epoch=117/270, Step=12/35, loss=7.613868, lr=0.000125, time_each_step=1.05s, eta=1:19:4\n",
      "2022-05-03 11:51:16 [INFO]\t[TRAIN] Epoch=117/270, Step=14/35, loss=5.624696, lr=0.000125, time_each_step=1.05s, eta=1:19:2\n",
      "2022-05-03 11:51:17 [INFO]\t[TRAIN] Epoch=117/270, Step=16/35, loss=6.311939, lr=0.000125, time_each_step=1.1s, eta=1:19:1\n",
      "2022-05-03 11:51:19 [INFO]\t[TRAIN] Epoch=117/270, Step=18/35, loss=8.706601, lr=0.000125, time_each_step=1.14s, eta=1:18:59\n",
      "2022-05-03 11:51:20 [INFO]\t[TRAIN] Epoch=117/270, Step=20/35, loss=7.995729, lr=0.000125, time_each_step=1.17s, eta=1:18:57\n",
      "2022-05-03 11:51:22 [INFO]\t[TRAIN] Epoch=117/270, Step=22/35, loss=10.956223, lr=0.000125, time_each_step=0.86s, eta=1:18:51\n",
      "2022-05-03 11:51:23 [INFO]\t[TRAIN] Epoch=117/270, Step=24/35, loss=8.758225, lr=0.000125, time_each_step=0.8s, eta=1:18:48\n"
     ]
    },
    {
     "name": "stderr",
     "output_type": "stream",
     "text": [
      "libpng warning: iCCP: known incorrect sRGB profile\n"
     ]
    },
    {
     "name": "stdout",
     "output_type": "stream",
     "text": [
      "2022-05-03 11:51:25 [INFO]\t[TRAIN] Epoch=117/270, Step=26/35, loss=12.124228, lr=0.000125, time_each_step=0.81s, eta=1:18:47\n",
      "2022-05-03 11:51:26 [INFO]\t[TRAIN] Epoch=117/270, Step=28/35, loss=8.674911, lr=0.000125, time_each_step=0.81s, eta=1:18:45\n",
      "2022-05-03 11:51:28 [INFO]\t[TRAIN] Epoch=117/270, Step=30/35, loss=8.406835, lr=0.000125, time_each_step=0.74s, eta=1:18:43\n",
      "2022-05-03 11:51:28 [INFO]\t[TRAIN] Epoch=117/270, Step=32/35, loss=11.011491, lr=0.000125, time_each_step=0.7s, eta=1:18:42\n",
      "2022-05-03 11:51:29 [INFO]\t[TRAIN] Epoch=117/270, Step=34/35, loss=9.118687, lr=0.000125, time_each_step=0.68s, eta=1:18:40\n",
      "2022-05-03 11:51:31 [INFO]\t[TRAIN] Epoch 117 finished, loss=9.281871, lr=0.000125 .\n",
      "2022-05-03 11:51:37 [INFO]\t[TRAIN] Epoch=118/270, Step=1/35, loss=8.622525, lr=0.000125, time_each_step=0.98s, eta=1:27:31\n"
     ]
    },
    {
     "name": "stderr",
     "output_type": "stream",
     "text": [
      "libpng warning: iCCP: known incorrect sRGB profile\n"
     ]
    },
    {
     "name": "stdout",
     "output_type": "stream",
     "text": [
      "2022-05-03 11:51:39 [INFO]\t[TRAIN] Epoch=118/270, Step=3/35, loss=10.088926, lr=0.000125, time_each_step=1.0s, eta=1:27:30\n",
      "2022-05-03 11:51:41 [INFO]\t[TRAIN] Epoch=118/270, Step=5/35, loss=8.847789, lr=0.000125, time_each_step=1.01s, eta=1:27:28\n",
      "2022-05-03 11:51:42 [INFO]\t[TRAIN] Epoch=118/270, Step=7/35, loss=8.713609, lr=0.000125, time_each_step=0.98s, eta=1:27:25\n",
      "2022-05-03 11:51:43 [INFO]\t[TRAIN] Epoch=118/270, Step=9/35, loss=9.1628, lr=0.000125, time_each_step=0.99s, eta=1:27:23\n",
      "2022-05-03 11:51:45 [INFO]\t[TRAIN] Epoch=118/270, Step=11/35, loss=8.12592, lr=0.000125, time_each_step=0.99s, eta=1:27:21\n",
      "2022-05-03 11:51:46 [INFO]\t[TRAIN] Epoch=118/270, Step=13/35, loss=10.040495, lr=0.000125, time_each_step=0.98s, eta=1:27:19\n",
      "2022-05-03 11:51:48 [INFO]\t[TRAIN] Epoch=118/270, Step=15/35, loss=11.574531, lr=0.000125, time_each_step=0.99s, eta=1:27:17\n",
      "2022-05-03 11:51:49 [INFO]\t[TRAIN] Epoch=118/270, Step=17/35, loss=6.568062, lr=0.000125, time_each_step=1.03s, eta=1:27:16\n",
      "2022-05-03 11:51:51 [INFO]\t[TRAIN] Epoch=118/270, Step=19/35, loss=10.515663, lr=0.000125, time_each_step=1.07s, eta=1:27:15\n",
      "2022-05-03 11:51:52 [INFO]\t[TRAIN] Epoch=118/270, Step=21/35, loss=7.488811, lr=0.000125, time_each_step=0.73s, eta=1:27:8\n",
      "2022-05-03 11:51:53 [INFO]\t[TRAIN] Epoch=118/270, Step=23/35, loss=7.596763, lr=0.000125, time_each_step=0.7s, eta=1:27:6\n",
      "2022-05-03 11:51:54 [INFO]\t[TRAIN] Epoch=118/270, Step=25/35, loss=5.89157, lr=0.000125, time_each_step=0.68s, eta=1:27:4\n"
     ]
    },
    {
     "name": "stderr",
     "output_type": "stream",
     "text": [
      "libpng warning: iCCP: known incorrect sRGB profile\n"
     ]
    },
    {
     "name": "stdout",
     "output_type": "stream",
     "text": [
      "2022-05-03 11:51:56 [INFO]\t[TRAIN] Epoch=118/270, Step=27/35, loss=9.797367, lr=0.000125, time_each_step=0.68s, eta=1:27:3\n",
      "2022-05-03 11:51:57 [INFO]\t[TRAIN] Epoch=118/270, Step=29/35, loss=5.293283, lr=0.000125, time_each_step=0.66s, eta=1:27:1\n",
      "2022-05-03 11:51:57 [INFO]\t[TRAIN] Epoch=118/270, Step=31/35, loss=13.165099, lr=0.000125, time_each_step=0.63s, eta=1:27:0\n",
      "2022-05-03 11:51:58 [INFO]\t[TRAIN] Epoch=118/270, Step=33/35, loss=8.027244, lr=0.000125, time_each_step=0.6s, eta=1:26:59\n",
      "2022-05-03 11:51:59 [INFO]\t[TRAIN] Epoch=118/270, Step=35/35, loss=6.288869, lr=0.000125, time_each_step=0.57s, eta=1:26:57\n",
      "2022-05-03 11:51:59 [INFO]\t[TRAIN] Epoch 118 finished, loss=8.979676, lr=0.000125 .\n",
      "2022-05-03 11:52:06 [INFO]\t[TRAIN] Epoch=119/270, Step=2/35, loss=6.091007, lr=0.000125, time_each_step=0.85s, eta=1:13:26\n"
     ]
    },
    {
     "name": "stderr",
     "output_type": "stream",
     "text": [
      "libpng warning: iCCP: known incorrect sRGB profile\n"
     ]
    },
    {
     "name": "stdout",
     "output_type": "stream",
     "text": [
      "2022-05-03 11:52:08 [INFO]\t[TRAIN] Epoch=119/270, Step=4/35, loss=9.831327, lr=0.000125, time_each_step=0.87s, eta=1:13:24\n",
      "2022-05-03 11:52:10 [INFO]\t[TRAIN] Epoch=119/270, Step=6/35, loss=10.613801, lr=0.000125, time_each_step=0.89s, eta=1:13:23\n",
      "2022-05-03 11:52:11 [INFO]\t[TRAIN] Epoch=119/270, Step=8/35, loss=5.858356, lr=0.000125, time_each_step=0.89s, eta=1:13:21\n",
      "2022-05-03 11:52:12 [INFO]\t[TRAIN] Epoch=119/270, Step=10/35, loss=6.68045, lr=0.000125, time_each_step=0.89s, eta=1:13:20\n",
      "2022-05-03 11:52:14 [INFO]\t[TRAIN] Epoch=119/270, Step=12/35, loss=9.240344, lr=0.000125, time_each_step=0.92s, eta=1:13:18\n",
      "2022-05-03 11:52:15 [INFO]\t[TRAIN] Epoch=119/270, Step=14/35, loss=9.231578, lr=0.000125, time_each_step=0.93s, eta=1:13:17\n",
      "2022-05-03 11:52:16 [INFO]\t[TRAIN] Epoch=119/270, Step=16/35, loss=10.779896, lr=0.000125, time_each_step=0.94s, eta=1:13:15\n",
      "2022-05-03 11:52:17 [INFO]\t[TRAIN] Epoch=119/270, Step=18/35, loss=8.49898, lr=0.000125, time_each_step=0.96s, eta=1:13:14\n",
      "2022-05-03 11:52:19 [INFO]\t[TRAIN] Epoch=119/270, Step=20/35, loss=7.206431, lr=0.000125, time_each_step=0.97s, eta=1:13:12\n",
      "2022-05-03 11:52:20 [INFO]\t[TRAIN] Epoch=119/270, Step=22/35, loss=9.929239, lr=0.000125, time_each_step=0.68s, eta=1:13:6\n",
      "2022-05-03 11:52:21 [INFO]\t[TRAIN] Epoch=119/270, Step=24/35, loss=9.483505, lr=0.000125, time_each_step=0.66s, eta=1:13:5\n",
      "2022-05-03 11:52:23 [INFO]\t[TRAIN] Epoch=119/270, Step=26/35, loss=8.333366, lr=0.000125, time_each_step=0.65s, eta=1:13:3\n",
      "2022-05-03 11:52:24 [INFO]\t[TRAIN] Epoch=119/270, Step=28/35, loss=8.162817, lr=0.000125, time_each_step=0.65s, eta=1:13:2\n"
     ]
    },
    {
     "name": "stderr",
     "output_type": "stream",
     "text": [
      "libpng warning: iCCP: known incorrect sRGB profile\n"
     ]
    },
    {
     "name": "stdout",
     "output_type": "stream",
     "text": [
      "2022-05-03 11:52:26 [INFO]\t[TRAIN] Epoch=119/270, Step=30/35, loss=5.075921, lr=0.000125, time_each_step=0.68s, eta=1:13:1\n",
      "2022-05-03 11:52:27 [INFO]\t[TRAIN] Epoch=119/270, Step=32/35, loss=7.834787, lr=0.000125, time_each_step=0.67s, eta=1:12:59\n",
      "2022-05-03 11:52:28 [INFO]\t[TRAIN] Epoch=119/270, Step=34/35, loss=13.000428, lr=0.000125, time_each_step=0.66s, eta=1:12:58\n",
      "2022-05-03 11:52:30 [INFO]\t[TRAIN] Epoch 119 finished, loss=8.909626, lr=0.000125 .\n",
      "2022-05-03 11:52:36 [INFO]\t[TRAIN] Epoch=120/270, Step=1/35, loss=7.283077, lr=0.000125, time_each_step=0.98s, eta=1:18:54\n",
      "2022-05-03 11:52:38 [INFO]\t[TRAIN] Epoch=120/270, Step=3/35, loss=6.546443, lr=0.000125, time_each_step=1.02s, eta=1:18:54\n"
     ]
    },
    {
     "name": "stderr",
     "output_type": "stream",
     "text": [
      "libpng warning: iCCP: known incorrect sRGB profile\n"
     ]
    },
    {
     "name": "stdout",
     "output_type": "stream",
     "text": [
      "2022-05-03 11:52:40 [INFO]\t[TRAIN] Epoch=120/270, Step=5/35, loss=10.416631, lr=0.000125, time_each_step=1.04s, eta=1:18:53\n",
      "2022-05-03 11:52:41 [INFO]\t[TRAIN] Epoch=120/270, Step=7/35, loss=10.627419, lr=0.000125, time_each_step=1.04s, eta=1:18:50\n",
      "2022-05-03 11:52:43 [INFO]\t[TRAIN] Epoch=120/270, Step=9/35, loss=10.262026, lr=0.000125, time_each_step=1.03s, eta=1:18:48\n",
      "2022-05-03 11:52:44 [INFO]\t[TRAIN] Epoch=120/270, Step=11/35, loss=9.314965, lr=0.000125, time_each_step=1.04s, eta=1:18:46\n",
      "2022-05-03 11:52:46 [INFO]\t[TRAIN] Epoch=120/270, Step=13/35, loss=6.352493, lr=0.000125, time_each_step=1.05s, eta=1:18:44\n",
      "2022-05-03 11:52:47 [INFO]\t[TRAIN] Epoch=120/270, Step=15/35, loss=6.772114, lr=0.000125, time_each_step=1.03s, eta=1:18:42\n",
      "2022-05-03 11:52:48 [INFO]\t[TRAIN] Epoch=120/270, Step=17/35, loss=10.434916, lr=0.000125, time_each_step=1.01s, eta=1:18:39\n",
      "2022-05-03 11:52:49 [INFO]\t[TRAIN] Epoch=120/270, Step=19/35, loss=7.349122, lr=0.000125, time_each_step=1.01s, eta=1:18:37\n",
      "2022-05-03 11:52:50 [INFO]\t[TRAIN] Epoch=120/270, Step=21/35, loss=11.416318, lr=0.000125, time_each_step=0.71s, eta=1:18:31\n"
     ]
    },
    {
     "name": "stderr",
     "output_type": "stream",
     "text": [
      "libpng warning: iCCP: known incorrect sRGB profile\n"
     ]
    },
    {
     "name": "stdout",
     "output_type": "stream",
     "text": [
      "2022-05-03 11:52:52 [INFO]\t[TRAIN] Epoch=120/270, Step=23/35, loss=6.454739, lr=0.000125, time_each_step=0.67s, eta=1:18:29\n",
      "2022-05-03 11:52:53 [INFO]\t[TRAIN] Epoch=120/270, Step=25/35, loss=15.092389, lr=0.000125, time_each_step=0.65s, eta=1:18:28\n",
      "2022-05-03 11:52:54 [INFO]\t[TRAIN] Epoch=120/270, Step=27/35, loss=8.965688, lr=0.000125, time_each_step=0.64s, eta=1:18:26\n",
      "2022-05-03 11:52:55 [INFO]\t[TRAIN] Epoch=120/270, Step=29/35, loss=7.452233, lr=0.000125, time_each_step=0.63s, eta=1:18:25\n",
      "2022-05-03 11:52:56 [INFO]\t[TRAIN] Epoch=120/270, Step=31/35, loss=10.672475, lr=0.000125, time_each_step=0.61s, eta=1:18:24\n",
      "2022-05-03 11:52:57 [INFO]\t[TRAIN] Epoch=120/270, Step=33/35, loss=11.027434, lr=0.000125, time_each_step=0.59s, eta=1:18:22\n",
      "2022-05-03 11:52:59 [INFO]\t[TRAIN] Epoch=120/270, Step=35/35, loss=7.604923, lr=0.000125, time_each_step=0.61s, eta=1:18:21\n",
      "2022-05-03 11:52:59 [INFO]\t[TRAIN] Epoch 120 finished, loss=9.213965, lr=0.000125 .\n",
      "2022-05-03 11:52:59 [INFO]\tStart to evaluating(total_samples=121, total_steps=16)...\n"
     ]
    },
    {
     "name": "stderr",
     "output_type": "stream",
     "text": [
      "100%|██████████| 16/16 [00:09<00:00,  1.64it/s]\n"
     ]
    },
    {
     "name": "stdout",
     "output_type": "stream",
     "text": [
      "2022-05-03 11:53:09 [INFO]\t[EVAL] Finished, Epoch=120, bbox_map=89.002142 .\n",
      "2022-05-03 11:53:14 [INFO]\tModel saved in output_yolov3_darknet53/best_model.\n",
      "2022-05-03 11:53:15 [INFO]\tModel saved in output_yolov3_darknet53/epoch_120.\n",
      "2022-05-03 11:53:15 [INFO]\tCurrent evaluated best model in eval_dataset is epoch_120, bbox_map=89.00214199234149\n",
      "2022-05-03 11:53:21 [INFO]\t[TRAIN] Epoch=121/270, Step=2/35, loss=5.885257, lr=0.000125, time_each_step=0.87s, eta=1:14:53"
     ]
    },
    {
     "name": "stderr",
     "output_type": "stream",
     "text": [
      "libpng warning: iCCP: known incorrect sRGB profile\n"
     ]
    },
    {
     "name": "stdout",
     "output_type": "stream",
     "text": [
      "\n",
      "2022-05-03 11:53:23 [INFO]\t[TRAIN] Epoch=121/270, Step=4/35, loss=9.125516, lr=0.000125, time_each_step=0.91s, eta=1:14:52\n",
      "2022-05-03 11:53:25 [INFO]\t[TRAIN] Epoch=121/270, Step=6/35, loss=7.83853, lr=0.000125, time_each_step=0.94s, eta=1:14:51\n",
      "2022-05-03 11:53:27 [INFO]\t[TRAIN] Epoch=121/270, Step=8/35, loss=8.531855, lr=0.000125, time_each_step=0.97s, eta=1:14:50\n",
      "2022-05-03 11:53:28 [INFO]\t[TRAIN] Epoch=121/270, Step=10/35, loss=6.894633, lr=0.000125, time_each_step=0.97s, eta=1:14:48\n",
      "2022-05-03 11:53:30 [INFO]\t[TRAIN] Epoch=121/270, Step=12/35, loss=6.962785, lr=0.000125, time_each_step=0.99s, eta=1:14:47\n",
      "2022-05-03 11:53:31 [INFO]\t[TRAIN] Epoch=121/270, Step=14/35, loss=8.627031, lr=0.000125, time_each_step=1.0s, eta=1:14:45\n",
      "2022-05-03 11:53:32 [INFO]\t[TRAIN] Epoch=121/270, Step=16/35, loss=6.303296, lr=0.000125, time_each_step=1.01s, eta=1:14:43\n",
      "2022-05-03 11:53:34 [INFO]\t[TRAIN] Epoch=121/270, Step=18/35, loss=8.619632, lr=0.000125, time_each_step=1.03s, eta=1:14:41\n",
      "2022-05-03 11:53:35 [INFO]\t[TRAIN] Epoch=121/270, Step=20/35, loss=8.674829, lr=0.000125, time_each_step=1.03s, eta=1:14:39\n",
      "2022-05-03 11:53:37 [INFO]\t[TRAIN] Epoch=121/270, Step=22/35, loss=10.940287, lr=0.000125, time_each_step=0.78s, eta=1:14:34\n",
      "2022-05-03 11:53:38 [INFO]\t[TRAIN] Epoch=121/270, Step=24/35, loss=10.661736, lr=0.000125, time_each_step=0.75s, eta=1:14:32\n",
      "2022-05-03 11:53:40 [INFO]\t[TRAIN] Epoch=121/270, Step=26/35, loss=9.130936, lr=0.000125, time_each_step=0.73s, eta=1:14:31\n"
     ]
    },
    {
     "name": "stderr",
     "output_type": "stream",
     "text": [
      "libpng warning: iCCP: known incorrect sRGB profile\n"
     ]
    },
    {
     "name": "stdout",
     "output_type": "stream",
     "text": [
      "2022-05-03 11:53:41 [INFO]\t[TRAIN] Epoch=121/270, Step=28/35, loss=10.672964, lr=0.000125, time_each_step=0.71s, eta=1:14:29\n",
      "2022-05-03 11:53:43 [INFO]\t[TRAIN] Epoch=121/270, Step=30/35, loss=8.864031, lr=0.000125, time_each_step=0.72s, eta=1:14:28\n",
      "2022-05-03 11:53:44 [INFO]\t[TRAIN] Epoch=121/270, Step=32/35, loss=7.713391, lr=0.000125, time_each_step=0.71s, eta=1:14:26\n",
      "2022-05-03 11:53:46 [INFO]\t[TRAIN] Epoch=121/270, Step=34/35, loss=11.965138, lr=0.000125, time_each_step=0.73s, eta=1:14:25\n",
      "2022-05-03 11:53:46 [INFO]\t[TRAIN] Epoch 121 finished, loss=8.739087, lr=0.000125 .\n",
      "2022-05-03 11:53:52 [INFO]\t[TRAIN] Epoch=122/270, Step=1/35, loss=8.370005, lr=0.000125, time_each_step=0.98s, eta=1:19:7\n",
      "2022-05-03 11:53:54 [INFO]\t[TRAIN] Epoch=122/270, Step=3/35, loss=8.947096, lr=0.000125, time_each_step=0.99s, eta=1:19:6\n"
     ]
    },
    {
     "name": "stderr",
     "output_type": "stream",
     "text": [
      "libpng warning: iCCP: known incorrect sRGB profile\n"
     ]
    },
    {
     "name": "stdout",
     "output_type": "stream",
     "text": [
      "2022-05-03 11:53:56 [INFO]\t[TRAIN] Epoch=122/270, Step=5/35, loss=11.959032, lr=0.000125, time_each_step=1.01s, eta=1:19:4\n",
      "2022-05-03 11:53:58 [INFO]\t[TRAIN] Epoch=122/270, Step=7/35, loss=10.760935, lr=0.000125, time_each_step=1.03s, eta=1:19:3\n",
      "2022-05-03 11:53:59 [INFO]\t[TRAIN] Epoch=122/270, Step=9/35, loss=8.713778, lr=0.000125, time_each_step=1.04s, eta=1:19:1\n",
      "2022-05-03 11:54:01 [INFO]\t[TRAIN] Epoch=122/270, Step=11/35, loss=7.850837, lr=0.000125, time_each_step=1.06s, eta=1:18:59\n",
      "2022-05-03 11:54:03 [INFO]\t[TRAIN] Epoch=122/270, Step=13/35, loss=11.947151, lr=0.000125, time_each_step=1.06s, eta=1:18:57\n",
      "2022-05-03 11:54:04 [INFO]\t[TRAIN] Epoch=122/270, Step=15/35, loss=7.691141, lr=0.000125, time_each_step=1.04s, eta=1:18:55\n",
      "2022-05-03 11:54:05 [INFO]\t[TRAIN] Epoch=122/270, Step=17/35, loss=4.886602, lr=0.000125, time_each_step=1.05s, eta=1:18:53\n",
      "2022-05-03 11:54:07 [INFO]\t[TRAIN] Epoch=122/270, Step=19/35, loss=8.477251, lr=0.000125, time_each_step=1.04s, eta=1:18:51\n",
      "2022-05-03 11:54:08 [INFO]\t[TRAIN] Epoch=122/270, Step=21/35, loss=12.232073, lr=0.000125, time_each_step=0.8s, eta=1:18:45\n",
      "2022-05-03 11:54:10 [INFO]\t[TRAIN] Epoch=122/270, Step=23/35, loss=9.36144, lr=0.000125, time_each_step=0.78s, eta=1:18:43\n",
      "2022-05-03 11:54:11 [INFO]\t[TRAIN] Epoch=122/270, Step=25/35, loss=8.453054, lr=0.000125, time_each_step=0.76s, eta=1:18:42\n"
     ]
    },
    {
     "name": "stderr",
     "output_type": "stream",
     "text": [
      "libpng warning: iCCP: known incorrect sRGB profile\n"
     ]
    },
    {
     "name": "stdout",
     "output_type": "stream",
     "text": [
      "2022-05-03 11:54:12 [INFO]\t[TRAIN] Epoch=122/270, Step=27/35, loss=8.464785, lr=0.000125, time_each_step=0.72s, eta=1:18:40\n",
      "2022-05-03 11:54:13 [INFO]\t[TRAIN] Epoch=122/270, Step=29/35, loss=9.43738, lr=0.000125, time_each_step=0.7s, eta=1:18:38\n",
      "2022-05-03 11:54:14 [INFO]\t[TRAIN] Epoch=122/270, Step=31/35, loss=10.266771, lr=0.000125, time_each_step=0.63s, eta=1:18:36\n",
      "2022-05-03 11:54:15 [INFO]\t[TRAIN] Epoch=122/270, Step=33/35, loss=13.18551, lr=0.000125, time_each_step=0.63s, eta=1:18:35\n",
      "2022-05-03 11:54:17 [INFO]\t[TRAIN] Epoch=122/270, Step=35/35, loss=10.279795, lr=0.000125, time_each_step=0.65s, eta=1:18:34\n",
      "2022-05-03 11:54:17 [INFO]\t[TRAIN] Epoch 122 finished, loss=8.951203, lr=0.000125 .\n",
      "2022-05-03 11:54:24 [INFO]\t[TRAIN] Epoch=123/270, Step=2/35, loss=6.219852, lr=0.000125, time_each_step=0.94s, eta=1:17:10\n"
     ]
    },
    {
     "name": "stderr",
     "output_type": "stream",
     "text": [
      "libpng warning: iCCP: known incorrect sRGB profile\n"
     ]
    },
    {
     "name": "stdout",
     "output_type": "stream",
     "text": [
      "2022-05-03 11:54:26 [INFO]\t[TRAIN] Epoch=123/270, Step=4/35, loss=10.039555, lr=0.000125, time_each_step=0.95s, eta=1:17:9\n",
      "2022-05-03 11:54:28 [INFO]\t[TRAIN] Epoch=123/270, Step=6/35, loss=8.881959, lr=0.000125, time_each_step=0.95s, eta=1:17:7\n",
      "2022-05-03 11:54:29 [INFO]\t[TRAIN] Epoch=123/270, Step=8/35, loss=6.398295, lr=0.000125, time_each_step=0.94s, eta=1:17:5\n",
      "2022-05-03 11:54:30 [INFO]\t[TRAIN] Epoch=123/270, Step=10/35, loss=8.185333, lr=0.000125, time_each_step=0.95s, eta=1:17:3\n",
      "2022-05-03 11:54:32 [INFO]\t[TRAIN] Epoch=123/270, Step=12/35, loss=9.677256, lr=0.000125, time_each_step=1.0s, eta=1:17:2\n",
      "2022-05-03 11:54:34 [INFO]\t[TRAIN] Epoch=123/270, Step=14/35, loss=7.303329, lr=0.000125, time_each_step=1.03s, eta=1:17:1\n",
      "2022-05-03 11:54:35 [INFO]\t[TRAIN] Epoch=123/270, Step=16/35, loss=10.196447, lr=0.000125, time_each_step=1.04s, eta=1:16:59\n",
      "2022-05-03 11:54:36 [INFO]\t[TRAIN] Epoch=123/270, Step=18/35, loss=8.795494, lr=0.000125, time_each_step=1.05s, eta=1:16:57\n",
      "2022-05-03 11:54:38 [INFO]\t[TRAIN] Epoch=123/270, Step=20/35, loss=8.037166, lr=0.000125, time_each_step=1.03s, eta=1:16:55\n",
      "2022-05-03 11:54:39 [INFO]\t[TRAIN] Epoch=123/270, Step=22/35, loss=9.600358, lr=0.000125, time_each_step=0.75s, eta=1:16:49\n",
      "2022-05-03 11:54:40 [INFO]\t[TRAIN] Epoch=123/270, Step=24/35, loss=6.500675, lr=0.000125, time_each_step=0.72s, eta=1:16:47\n",
      "2022-05-03 11:54:41 [INFO]\t[TRAIN] Epoch=123/270, Step=26/35, loss=11.751116, lr=0.000125, time_each_step=0.69s, eta=1:16:45\n",
      "2022-05-03 11:54:42 [INFO]\t[TRAIN] Epoch=123/270, Step=28/35, loss=10.828698, lr=0.000125, time_each_step=0.69s, eta=1:16:44\n"
     ]
    },
    {
     "name": "stderr",
     "output_type": "stream",
     "text": [
      "libpng warning: iCCP: known incorrect sRGB profile\n"
     ]
    },
    {
     "name": "stdout",
     "output_type": "stream",
     "text": [
      "2022-05-03 11:54:44 [INFO]\t[TRAIN] Epoch=123/270, Step=30/35, loss=7.838448, lr=0.000125, time_each_step=0.67s, eta=1:16:43\n",
      "2022-05-03 11:54:45 [INFO]\t[TRAIN] Epoch=123/270, Step=32/35, loss=10.5623, lr=0.000125, time_each_step=0.62s, eta=1:16:41\n",
      "2022-05-03 11:54:46 [INFO]\t[TRAIN] Epoch=123/270, Step=34/35, loss=5.731014, lr=0.000125, time_each_step=0.58s, eta=1:16:40\n",
      "2022-05-03 11:54:47 [INFO]\t[TRAIN] Epoch 123 finished, loss=8.904632, lr=0.000125 .\n",
      "2022-05-03 11:54:54 [INFO]\t[TRAIN] Epoch=124/270, Step=1/35, loss=8.135434, lr=0.000125, time_each_step=0.95s, eta=1:13:53\n",
      "2022-05-03 11:54:56 [INFO]\t[TRAIN] Epoch=124/270, Step=3/35, loss=11.189007, lr=0.000125, time_each_step=0.95s, eta=1:13:51\n"
     ]
    },
    {
     "name": "stderr",
     "output_type": "stream",
     "text": [
      "libpng warning: iCCP: known incorrect sRGB profile\n"
     ]
    },
    {
     "name": "stdout",
     "output_type": "stream",
     "text": [
      "2022-05-03 11:54:57 [INFO]\t[TRAIN] Epoch=124/270, Step=5/35, loss=12.123723, lr=0.000125, time_each_step=0.98s, eta=1:13:50\n",
      "2022-05-03 11:54:59 [INFO]\t[TRAIN] Epoch=124/270, Step=7/35, loss=12.797093, lr=0.000125, time_each_step=0.99s, eta=1:13:49\n",
      "2022-05-03 11:55:00 [INFO]\t[TRAIN] Epoch=124/270, Step=9/35, loss=6.840629, lr=0.000125, time_each_step=0.99s, eta=1:13:47\n",
      "2022-05-03 11:55:02 [INFO]\t[TRAIN] Epoch=124/270, Step=11/35, loss=8.580064, lr=0.000125, time_each_step=1.02s, eta=1:13:45\n",
      "2022-05-03 11:55:03 [INFO]\t[TRAIN] Epoch=124/270, Step=13/35, loss=8.896695, lr=0.000125, time_each_step=1.04s, eta=1:13:44\n",
      "2022-05-03 11:55:05 [INFO]\t[TRAIN] Epoch=124/270, Step=15/35, loss=8.317984, lr=0.000125, time_each_step=1.06s, eta=1:13:42\n",
      "2022-05-03 11:55:07 [INFO]\t[TRAIN] Epoch=124/270, Step=17/35, loss=7.266678, lr=0.000125, time_each_step=1.1s, eta=1:13:41\n",
      "2022-05-03 11:55:09 [INFO]\t[TRAIN] Epoch=124/270, Step=19/35, loss=6.967904, lr=0.000125, time_each_step=1.14s, eta=1:13:39\n",
      "2022-05-03 11:55:11 [INFO]\t[TRAIN] Epoch=124/270, Step=21/35, loss=6.459683, lr=0.000125, time_each_step=0.85s, eta=1:13:33\n",
      "2022-05-03 11:55:13 [INFO]\t[TRAIN] Epoch=124/270, Step=23/35, loss=9.202246, lr=0.000125, time_each_step=0.87s, eta=1:13:31\n",
      "2022-05-03 11:55:14 [INFO]\t[TRAIN] Epoch=124/270, Step=25/35, loss=7.120882, lr=0.000125, time_each_step=0.85s, eta=1:13:29\n",
      "2022-05-03 11:55:16 [INFO]\t[TRAIN] Epoch=124/270, Step=27/35, loss=10.721721, lr=0.000125, time_each_step=0.83s, eta=1:13:27\n",
      "2022-05-03 11:55:17 [INFO]\t[TRAIN] Epoch=124/270, Step=29/35, loss=8.366754, lr=0.000125, time_each_step=0.82s, eta=1:13:26\n"
     ]
    },
    {
     "name": "stderr",
     "output_type": "stream",
     "text": [
      "libpng warning: iCCP: known incorrect sRGB profile\n"
     ]
    },
    {
     "name": "stdout",
     "output_type": "stream",
     "text": [
      "2022-05-03 11:55:18 [INFO]\t[TRAIN] Epoch=124/270, Step=31/35, loss=6.587586, lr=0.000125, time_each_step=0.8s, eta=1:13:24\n",
      "2022-05-03 11:55:19 [INFO]\t[TRAIN] Epoch=124/270, Step=33/35, loss=11.602031, lr=0.000125, time_each_step=0.81s, eta=1:13:22\n",
      "2022-05-03 11:55:21 [INFO]\t[TRAIN] Epoch=124/270, Step=35/35, loss=7.874655, lr=0.000125, time_each_step=0.78s, eta=1:13:21\n",
      "2022-05-03 11:55:21 [INFO]\t[TRAIN] Epoch 124 finished, loss=9.26762, lr=0.000125 .\n",
      "2022-05-03 11:55:28 [INFO]\t[TRAIN] Epoch=125/270, Step=2/35, loss=4.831597, lr=0.000125, time_each_step=1.03s, eta=1:24:53\n"
     ]
    },
    {
     "name": "stderr",
     "output_type": "stream",
     "text": [
      "libpng warning: iCCP: known incorrect sRGB profile\n"
     ]
    },
    {
     "name": "stdout",
     "output_type": "stream",
     "text": [
      "2022-05-03 11:55:30 [INFO]\t[TRAIN] Epoch=125/270, Step=4/35, loss=8.107716, lr=0.000125, time_each_step=1.07s, eta=1:24:52\n",
      "2022-05-03 11:55:33 [INFO]\t[TRAIN] Epoch=125/270, Step=6/35, loss=9.304986, lr=0.000125, time_each_step=1.07s, eta=1:24:50\n",
      "2022-05-03 11:55:34 [INFO]\t[TRAIN] Epoch=125/270, Step=8/35, loss=15.843461, lr=0.000125, time_each_step=1.03s, eta=1:24:47\n",
      "2022-05-03 11:55:36 [INFO]\t[TRAIN] Epoch=125/270, Step=10/35, loss=8.178508, lr=0.000125, time_each_step=1.06s, eta=1:24:45\n",
      "2022-05-03 11:55:37 [INFO]\t[TRAIN] Epoch=125/270, Step=12/35, loss=11.866205, lr=0.000125, time_each_step=1.07s, eta=1:24:44\n",
      "2022-05-03 11:55:38 [INFO]\t[TRAIN] Epoch=125/270, Step=14/35, loss=10.123441, lr=0.000125, time_each_step=1.07s, eta=1:24:41\n",
      "2022-05-03 11:55:40 [INFO]\t[TRAIN] Epoch=125/270, Step=16/35, loss=7.476783, lr=0.000125, time_each_step=1.08s, eta=1:24:39\n",
      "2022-05-03 11:55:41 [INFO]\t[TRAIN] Epoch=125/270, Step=18/35, loss=13.269952, lr=0.000125, time_each_step=1.07s, eta=1:24:37\n",
      "2022-05-03 11:55:43 [INFO]\t[TRAIN] Epoch=125/270, Step=20/35, loss=11.86374, lr=0.000125, time_each_step=1.08s, eta=1:24:35\n",
      "2022-05-03 11:55:44 [INFO]\t[TRAIN] Epoch=125/270, Step=22/35, loss=9.708288, lr=0.000125, time_each_step=0.82s, eta=1:24:30\n",
      "2022-05-03 11:55:46 [INFO]\t[TRAIN] Epoch=125/270, Step=24/35, loss=10.916947, lr=0.000125, time_each_step=0.81s, eta=1:24:28\n"
     ]
    },
    {
     "name": "stderr",
     "output_type": "stream",
     "text": [
      "libpng warning: iCCP: known incorrect sRGB profile\n"
     ]
    },
    {
     "name": "stdout",
     "output_type": "stream",
     "text": [
      "2022-05-03 11:55:47 [INFO]\t[TRAIN] Epoch=125/270, Step=26/35, loss=8.71418, lr=0.000125, time_each_step=0.74s, eta=1:24:26\n",
      "2022-05-03 11:55:48 [INFO]\t[TRAIN] Epoch=125/270, Step=28/35, loss=8.1057, lr=0.000125, time_each_step=0.72s, eta=1:24:24\n",
      "2022-05-03 11:55:49 [INFO]\t[TRAIN] Epoch=125/270, Step=30/35, loss=7.820486, lr=0.000125, time_each_step=0.67s, eta=1:24:22\n",
      "2022-05-03 11:55:50 [INFO]\t[TRAIN] Epoch=125/270, Step=32/35, loss=15.06768, lr=0.000125, time_each_step=0.64s, eta=1:24:21\n",
      "2022-05-03 11:55:50 [INFO]\t[TRAIN] Epoch=125/270, Step=34/35, loss=9.751537, lr=0.000125, time_each_step=0.6s, eta=1:24:19\n",
      "2022-05-03 11:55:51 [INFO]\t[TRAIN] Epoch 125 finished, loss=9.058639, lr=0.000125 .\n",
      "2022-05-03 11:55:57 [INFO]\t[TRAIN] Epoch=126/270, Step=1/35, loss=7.55231, lr=0.000125, time_each_step=0.88s, eta=1:13:37\n"
     ]
    },
    {
     "name": "stderr",
     "output_type": "stream",
     "text": [
      "libpng warning: iCCP: known incorrect sRGB profile\n"
     ]
    },
    {
     "name": "stdout",
     "output_type": "stream",
     "text": [
      "2022-05-03 11:55:59 [INFO]\t[TRAIN] Epoch=126/270, Step=3/35, loss=8.732706, lr=0.000125, time_each_step=0.89s, eta=1:13:36\n",
      "2022-05-03 11:56:01 [INFO]\t[TRAIN] Epoch=126/270, Step=5/35, loss=10.603381, lr=0.000125, time_each_step=0.91s, eta=1:13:35\n",
      "2022-05-03 11:56:02 [INFO]\t[TRAIN] Epoch=126/270, Step=7/35, loss=10.534004, lr=0.000125, time_each_step=0.9s, eta=1:13:33\n",
      "2022-05-03 11:56:04 [INFO]\t[TRAIN] Epoch=126/270, Step=9/35, loss=8.120681, lr=0.000125, time_each_step=0.87s, eta=1:13:30\n",
      "2022-05-03 11:56:05 [INFO]\t[TRAIN] Epoch=126/270, Step=11/35, loss=11.033987, lr=0.000125, time_each_step=0.88s, eta=1:13:28\n",
      "2022-05-03 11:56:07 [INFO]\t[TRAIN] Epoch=126/270, Step=13/35, loss=8.989668, lr=0.000125, time_each_step=0.91s, eta=1:13:27\n",
      "2022-05-03 11:56:08 [INFO]\t[TRAIN] Epoch=126/270, Step=15/35, loss=10.711567, lr=0.000125, time_each_step=0.94s, eta=1:13:26\n",
      "2022-05-03 11:56:10 [INFO]\t[TRAIN] Epoch=126/270, Step=17/35, loss=11.479882, lr=0.000125, time_each_step=0.98s, eta=1:13:25\n",
      "2022-05-03 11:56:11 [INFO]\t[TRAIN] Epoch=126/270, Step=19/35, loss=9.021749, lr=0.000125, time_each_step=1.04s, eta=1:13:24\n",
      "2022-05-03 11:56:12 [INFO]\t[TRAIN] Epoch=126/270, Step=21/35, loss=11.016768, lr=0.000125, time_each_step=0.76s, eta=1:13:18\n",
      "2022-05-03 11:56:14 [INFO]\t[TRAIN] Epoch=126/270, Step=23/35, loss=9.679343, lr=0.000125, time_each_step=0.75s, eta=1:13:16\n",
      "2022-05-03 11:56:15 [INFO]\t[TRAIN] Epoch=126/270, Step=25/35, loss=7.573864, lr=0.000125, time_each_step=0.72s, eta=1:13:15\n"
     ]
    },
    {
     "name": "stderr",
     "output_type": "stream",
     "text": [
      "libpng warning: iCCP: known incorrect sRGB profile\n"
     ]
    },
    {
     "name": "stdout",
     "output_type": "stream",
     "text": [
      "2022-05-03 11:56:17 [INFO]\t[TRAIN] Epoch=126/270, Step=27/35, loss=11.820417, lr=0.000125, time_each_step=0.73s, eta=1:13:13\n",
      "2022-05-03 11:56:19 [INFO]\t[TRAIN] Epoch=126/270, Step=29/35, loss=8.484291, lr=0.000125, time_each_step=0.75s, eta=1:13:12\n",
      "2022-05-03 11:56:20 [INFO]\t[TRAIN] Epoch=126/270, Step=31/35, loss=12.304636, lr=0.000125, time_each_step=0.74s, eta=1:13:10\n",
      "2022-05-03 11:56:21 [INFO]\t[TRAIN] Epoch=126/270, Step=33/35, loss=10.067771, lr=0.000125, time_each_step=0.73s, eta=1:13:9\n",
      "2022-05-03 11:56:23 [INFO]\t[TRAIN] Epoch=126/270, Step=35/35, loss=8.962083, lr=0.000125, time_each_step=0.72s, eta=1:13:7\n",
      "2022-05-03 11:56:23 [INFO]\t[TRAIN] Epoch 126 finished, loss=9.517709, lr=0.000125 .\n",
      "2022-05-03 11:56:31 [INFO]\t[TRAIN] Epoch=127/270, Step=2/35, loss=9.557137, lr=0.000125, time_each_step=1.02s, eta=1:19:11\n"
     ]
    },
    {
     "name": "stderr",
     "output_type": "stream",
     "text": [
      "libpng warning: iCCP: known incorrect sRGB profile\n"
     ]
    },
    {
     "name": "stdout",
     "output_type": "stream",
     "text": [
      "2022-05-03 11:56:33 [INFO]\t[TRAIN] Epoch=127/270, Step=4/35, loss=13.802751, lr=0.000125, time_each_step=1.03s, eta=1:19:9\n",
      "2022-05-03 11:56:34 [INFO]\t[TRAIN] Epoch=127/270, Step=6/35, loss=10.20801, lr=0.000125, time_each_step=1.03s, eta=1:19:7\n",
      "2022-05-03 11:56:35 [INFO]\t[TRAIN] Epoch=127/270, Step=8/35, loss=7.692117, lr=0.000125, time_each_step=1.02s, eta=1:19:5\n",
      "2022-05-03 11:56:36 [INFO]\t[TRAIN] Epoch=127/270, Step=10/35, loss=6.086198, lr=0.000125, time_each_step=1.02s, eta=1:19:3\n",
      "2022-05-03 11:56:38 [INFO]\t[TRAIN] Epoch=127/270, Step=12/35, loss=7.423359, lr=0.000125, time_each_step=1.03s, eta=1:19:1\n",
      "2022-05-03 11:56:39 [INFO]\t[TRAIN] Epoch=127/270, Step=14/35, loss=12.639904, lr=0.000125, time_each_step=0.99s, eta=1:18:58\n",
      "2022-05-03 11:56:41 [INFO]\t[TRAIN] Epoch=127/270, Step=16/35, loss=9.388124, lr=0.000125, time_each_step=1.0s, eta=1:18:56\n",
      "2022-05-03 11:56:42 [INFO]\t[TRAIN] Epoch=127/270, Step=18/35, loss=10.152225, lr=0.000125, time_each_step=1.01s, eta=1:18:54\n",
      "2022-05-03 11:56:43 [INFO]\t[TRAIN] Epoch=127/270, Step=20/35, loss=8.77142, lr=0.000125, time_each_step=1.0s, eta=1:18:52\n",
      "2022-05-03 11:56:45 [INFO]\t[TRAIN] Epoch=127/270, Step=22/35, loss=8.740641, lr=0.000125, time_each_step=0.71s, eta=1:18:46\n",
      "2022-05-03 11:56:46 [INFO]\t[TRAIN] Epoch=127/270, Step=24/35, loss=10.105177, lr=0.000125, time_each_step=0.68s, eta=1:18:45\n"
     ]
    },
    {
     "name": "stderr",
     "output_type": "stream",
     "text": [
      "libpng warning: iCCP: known incorrect sRGB profile\n"
     ]
    },
    {
     "name": "stdout",
     "output_type": "stream",
     "text": [
      "2022-05-03 11:56:48 [INFO]\t[TRAIN] Epoch=127/270, Step=26/35, loss=7.320319, lr=0.000125, time_each_step=0.7s, eta=1:18:43\n",
      "2022-05-03 11:56:49 [INFO]\t[TRAIN] Epoch=127/270, Step=28/35, loss=12.177608, lr=0.000125, time_each_step=0.71s, eta=1:18:42\n",
      "2022-05-03 11:56:51 [INFO]\t[TRAIN] Epoch=127/270, Step=30/35, loss=12.177863, lr=0.000125, time_each_step=0.73s, eta=1:18:41\n",
      "2022-05-03 11:56:52 [INFO]\t[TRAIN] Epoch=127/270, Step=32/35, loss=7.675782, lr=0.000125, time_each_step=0.7s, eta=1:18:39\n",
      "2022-05-03 11:56:53 [INFO]\t[TRAIN] Epoch=127/270, Step=34/35, loss=5.530811, lr=0.000125, time_each_step=0.69s, eta=1:18:38\n",
      "2022-05-03 11:56:54 [INFO]\t[TRAIN] Epoch 127 finished, loss=9.206383, lr=0.000125 .\n",
      "2022-05-03 11:57:01 [INFO]\t[TRAIN] Epoch=128/270, Step=1/35, loss=9.342145, lr=0.000125, time_each_step=0.99s, eta=1:14:58\n"
     ]
    },
    {
     "name": "stderr",
     "output_type": "stream",
     "text": [
      "libpng warning: iCCP: known incorrect sRGB profile\n"
     ]
    },
    {
     "name": "stdout",
     "output_type": "stream",
     "text": [
      "2022-05-03 11:57:03 [INFO]\t[TRAIN] Epoch=128/270, Step=3/35, loss=7.708272, lr=0.000125, time_each_step=1.03s, eta=1:14:57\n",
      "2022-05-03 11:57:05 [INFO]\t[TRAIN] Epoch=128/270, Step=5/35, loss=9.062325, lr=0.000125, time_each_step=1.04s, eta=1:14:55\n",
      "2022-05-03 11:57:06 [INFO]\t[TRAIN] Epoch=128/270, Step=7/35, loss=7.304622, lr=0.000125, time_each_step=1.02s, eta=1:14:53\n",
      "2022-05-03 11:57:08 [INFO]\t[TRAIN] Epoch=128/270, Step=9/35, loss=10.034636, lr=0.000125, time_each_step=1.05s, eta=1:14:51\n",
      "2022-05-03 11:57:09 [INFO]\t[TRAIN] Epoch=128/270, Step=11/35, loss=11.555467, lr=0.000125, time_each_step=1.04s, eta=1:14:49\n",
      "2022-05-03 11:57:10 [INFO]\t[TRAIN] Epoch=128/270, Step=13/35, loss=6.687777, lr=0.000125, time_each_step=1.04s, eta=1:14:47\n",
      "2022-05-03 11:57:11 [INFO]\t[TRAIN] Epoch=128/270, Step=15/35, loss=9.125017, lr=0.000125, time_each_step=1.0s, eta=1:14:44\n",
      "2022-05-03 11:57:13 [INFO]\t[TRAIN] Epoch=128/270, Step=17/35, loss=10.208231, lr=0.000125, time_each_step=1.01s, eta=1:14:42\n",
      "2022-05-03 11:57:15 [INFO]\t[TRAIN] Epoch=128/270, Step=19/35, loss=9.164243, lr=0.000125, time_each_step=1.04s, eta=1:14:41\n",
      "2022-05-03 11:57:16 [INFO]\t[TRAIN] Epoch=128/270, Step=21/35, loss=7.175473, lr=0.000125, time_each_step=0.75s, eta=1:14:35\n",
      "2022-05-03 11:57:17 [INFO]\t[TRAIN] Epoch=128/270, Step=23/35, loss=11.32398, lr=0.000125, time_each_step=0.71s, eta=1:14:33\n",
      "2022-05-03 11:57:18 [INFO]\t[TRAIN] Epoch=128/270, Step=25/35, loss=7.276783, lr=0.000125, time_each_step=0.69s, eta=1:14:31\n",
      "2022-05-03 11:57:20 [INFO]\t[TRAIN] Epoch=128/270, Step=27/35, loss=10.015115, lr=0.000125, time_each_step=0.68s, eta=1:14:30\n",
      "2022-05-03 11:57:21 [INFO]\t[TRAIN] Epoch=128/270, Step=29/35, loss=14.024055, lr=0.000125, time_each_step=0.66s, eta=1:14:28\n",
      "2022-05-03 11:57:22 [INFO]\t[TRAIN] Epoch=128/270, Step=31/35, loss=7.031702, lr=0.000125, time_each_step=0.64s, eta=1:14:27\n"
     ]
    },
    {
     "name": "stderr",
     "output_type": "stream",
     "text": [
      "libpng warning: iCCP: known incorrect sRGB profile\n"
     ]
    },
    {
     "name": "stdout",
     "output_type": "stream",
     "text": [
      "2022-05-03 11:57:24 [INFO]\t[TRAIN] Epoch=128/270, Step=33/35, loss=8.836041, lr=0.000125, time_each_step=0.66s, eta=1:14:26\n",
      "2022-05-03 11:57:25 [INFO]\t[TRAIN] Epoch=128/270, Step=35/35, loss=10.633177, lr=0.000125, time_each_step=0.65s, eta=1:14:24\n",
      "2022-05-03 11:57:25 [INFO]\t[TRAIN] Epoch 128 finished, loss=8.828588, lr=0.000125 .\n",
      "2022-05-03 11:57:34 [INFO]\t[TRAIN] Epoch=129/270, Step=2/35, loss=8.460119, lr=0.000125, time_each_step=1.04s, eta=1:13:10\n",
      "2022-05-03 11:57:35 [INFO]\t[TRAIN] Epoch=129/270, Step=4/35, loss=9.644535, lr=0.000125, time_each_step=1.04s, eta=1:13:8\n"
     ]
    },
    {
     "name": "stderr",
     "output_type": "stream",
     "text": [
      "libpng warning: iCCP: known incorrect sRGB profile\n"
     ]
    },
    {
     "name": "stdout",
     "output_type": "stream",
     "text": [
      "2022-05-03 11:57:38 [INFO]\t[TRAIN] Epoch=129/270, Step=6/35, loss=10.022553, lr=0.000125, time_each_step=1.08s, eta=1:13:7\n",
      "2022-05-03 11:57:40 [INFO]\t[TRAIN] Epoch=129/270, Step=8/35, loss=11.124034, lr=0.000125, time_each_step=1.11s, eta=1:13:6\n",
      "2022-05-03 11:57:41 [INFO]\t[TRAIN] Epoch=129/270, Step=10/35, loss=8.202673, lr=0.000125, time_each_step=1.14s, eta=1:13:4\n",
      "2022-05-03 11:57:43 [INFO]\t[TRAIN] Epoch=129/270, Step=12/35, loss=11.06001, lr=0.000125, time_each_step=1.16s, eta=1:13:2\n",
      "2022-05-03 11:57:44 [INFO]\t[TRAIN] Epoch=129/270, Step=14/35, loss=10.40081, lr=0.000125, time_each_step=1.17s, eta=1:13:0\n",
      "2022-05-03 11:57:46 [INFO]\t[TRAIN] Epoch=129/270, Step=16/35, loss=8.856102, lr=0.000125, time_each_step=1.2s, eta=1:12:58\n",
      "2022-05-03 11:57:47 [INFO]\t[TRAIN] Epoch=129/270, Step=18/35, loss=5.853577, lr=0.000125, time_each_step=1.18s, eta=1:12:56\n",
      "2022-05-03 11:57:49 [INFO]\t[TRAIN] Epoch=129/270, Step=20/35, loss=5.137405, lr=0.000125, time_each_step=1.21s, eta=1:12:54\n"
     ]
    },
    {
     "name": "stderr",
     "output_type": "stream",
     "text": [
      "libpng warning: iCCP: known incorrect sRGB profile\n"
     ]
    },
    {
     "name": "stdout",
     "output_type": "stream",
     "text": [
      "2022-05-03 11:57:50 [INFO]\t[TRAIN] Epoch=129/270, Step=22/35, loss=16.670746, lr=0.000125, time_each_step=0.83s, eta=1:12:46\n",
      "2022-05-03 11:57:52 [INFO]\t[TRAIN] Epoch=129/270, Step=24/35, loss=10.077549, lr=0.000125, time_each_step=0.81s, eta=1:12:45\n",
      "2022-05-03 11:57:53 [INFO]\t[TRAIN] Epoch=129/270, Step=26/35, loss=12.212713, lr=0.000125, time_each_step=0.76s, eta=1:12:43\n",
      "2022-05-03 11:57:54 [INFO]\t[TRAIN] Epoch=129/270, Step=28/35, loss=8.168632, lr=0.000125, time_each_step=0.7s, eta=1:12:41\n",
      "2022-05-03 11:57:55 [INFO]\t[TRAIN] Epoch=129/270, Step=30/35, loss=10.433551, lr=0.000125, time_each_step=0.66s, eta=1:12:39\n",
      "2022-05-03 11:57:55 [INFO]\t[TRAIN] Epoch=129/270, Step=32/35, loss=6.530329, lr=0.000125, time_each_step=0.6s, eta=1:12:38\n",
      "2022-05-03 11:57:56 [INFO]\t[TRAIN] Epoch=129/270, Step=34/35, loss=5.835236, lr=0.000125, time_each_step=0.57s, eta=1:12:36\n",
      "2022-05-03 11:57:56 [INFO]\t[TRAIN] Epoch 129 finished, loss=8.933354, lr=0.000125 .\n",
      "2022-05-03 11:58:06 [INFO]\t[TRAIN] Epoch=130/270, Step=1/35, loss=7.54662, lr=0.000125, time_each_step=1.0s, eta=1:15:43\n",
      "2022-05-03 11:58:08 [INFO]\t[TRAIN] Epoch=130/270, Step=3/35, loss=8.913992, lr=0.000125, time_each_step=1.03s, eta=1:15:41\n"
     ]
    },
    {
     "name": "stderr",
     "output_type": "stream",
     "text": [
      "libpng warning: iCCP: known incorrect sRGB profile\n"
     ]
    },
    {
     "name": "stdout",
     "output_type": "stream",
     "text": [
      "2022-05-03 11:58:09 [INFO]\t[TRAIN] Epoch=130/270, Step=5/35, loss=10.223331, lr=0.000125, time_each_step=1.03s, eta=1:15:39\n",
      "2022-05-03 11:58:11 [INFO]\t[TRAIN] Epoch=130/270, Step=7/35, loss=6.244576, lr=0.000125, time_each_step=1.03s, eta=1:15:37\n",
      "2022-05-03 11:58:13 [INFO]\t[TRAIN] Epoch=130/270, Step=9/35, loss=7.56688, lr=0.000125, time_each_step=1.04s, eta=1:15:36\n",
      "2022-05-03 11:58:14 [INFO]\t[TRAIN] Epoch=130/270, Step=11/35, loss=10.020165, lr=0.000125, time_each_step=1.05s, eta=1:15:34\n",
      "2022-05-03 11:58:15 [INFO]\t[TRAIN] Epoch=130/270, Step=13/35, loss=7.923925, lr=0.000125, time_each_step=1.07s, eta=1:15:32\n",
      "2022-05-03 11:58:16 [INFO]\t[TRAIN] Epoch=130/270, Step=15/35, loss=7.665723, lr=0.000125, time_each_step=1.1s, eta=1:15:30\n",
      "2022-05-03 11:58:18 [INFO]\t[TRAIN] Epoch=130/270, Step=17/35, loss=12.76117, lr=0.000125, time_each_step=1.14s, eta=1:15:29\n",
      "2022-05-03 11:58:20 [INFO]\t[TRAIN] Epoch=130/270, Step=19/35, loss=11.416798, lr=0.000125, time_each_step=1.18s, eta=1:15:27\n",
      "2022-05-03 11:58:21 [INFO]\t[TRAIN] Epoch=130/270, Step=21/35, loss=11.094249, lr=0.000125, time_each_step=0.74s, eta=1:15:19\n",
      "2022-05-03 11:58:23 [INFO]\t[TRAIN] Epoch=130/270, Step=23/35, loss=11.151664, lr=0.000125, time_each_step=0.74s, eta=1:15:17\n",
      "2022-05-03 11:58:24 [INFO]\t[TRAIN] Epoch=130/270, Step=25/35, loss=10.149923, lr=0.000125, time_each_step=0.74s, eta=1:15:16\n"
     ]
    },
    {
     "name": "stderr",
     "output_type": "stream",
     "text": [
      "libpng warning: iCCP: known incorrect sRGB profile\n"
     ]
    },
    {
     "name": "stdout",
     "output_type": "stream",
     "text": [
      "2022-05-03 11:58:26 [INFO]\t[TRAIN] Epoch=130/270, Step=27/35, loss=5.237647, lr=0.000125, time_each_step=0.73s, eta=1:15:14\n",
      "2022-05-03 11:58:27 [INFO]\t[TRAIN] Epoch=130/270, Step=29/35, loss=12.421387, lr=0.000125, time_each_step=0.7s, eta=1:15:13\n",
      "2022-05-03 11:58:28 [INFO]\t[TRAIN] Epoch=130/270, Step=31/35, loss=7.878639, lr=0.000125, time_each_step=0.69s, eta=1:15:11\n",
      "2022-05-03 11:58:29 [INFO]\t[TRAIN] Epoch=130/270, Step=33/35, loss=13.189399, lr=0.000125, time_each_step=0.7s, eta=1:15:10\n",
      "2022-05-03 11:58:31 [INFO]\t[TRAIN] Epoch=130/270, Step=35/35, loss=10.425936, lr=0.000125, time_each_step=0.74s, eta=1:15:8\n",
      "2022-05-03 11:58:31 [INFO]\t[TRAIN] Epoch 130 finished, loss=8.740762, lr=0.000125 .\n",
      "2022-05-03 11:58:41 [INFO]\t[TRAIN] Epoch=131/270, Step=2/35, loss=9.596039, lr=0.000125, time_each_step=1.13s, eta=1:23:18\n",
      "2022-05-03 11:58:42 [INFO]\t[TRAIN] Epoch=131/270, Step=4/35, loss=11.029685, lr=0.000125, time_each_step=1.12s, eta=1:23:16\n"
     ]
    },
    {
     "name": "stderr",
     "output_type": "stream",
     "text": [
      "libpng warning: iCCP: known incorrect sRGB profile\n"
     ]
    },
    {
     "name": "stdout",
     "output_type": "stream",
     "text": [
      "2022-05-03 11:58:44 [INFO]\t[TRAIN] Epoch=131/270, Step=6/35, loss=8.919903, lr=0.000125, time_each_step=1.14s, eta=1:23:14\n",
      "2022-05-03 11:58:46 [INFO]\t[TRAIN] Epoch=131/270, Step=8/35, loss=7.052507, lr=0.000125, time_each_step=1.17s, eta=1:23:13\n",
      "2022-05-03 11:58:48 [INFO]\t[TRAIN] Epoch=131/270, Step=10/35, loss=11.467788, lr=0.000125, time_each_step=1.16s, eta=1:23:10\n",
      "2022-05-03 11:58:49 [INFO]\t[TRAIN] Epoch=131/270, Step=12/35, loss=11.916296, lr=0.000125, time_each_step=1.17s, eta=1:23:8\n",
      "2022-05-03 11:58:51 [INFO]\t[TRAIN] Epoch=131/270, Step=14/35, loss=9.050021, lr=0.000125, time_each_step=1.2s, eta=1:23:6\n",
      "2022-05-03 11:58:52 [INFO]\t[TRAIN] Epoch=131/270, Step=16/35, loss=8.369954, lr=0.000125, time_each_step=1.23s, eta=1:23:4\n",
      "2022-05-03 11:58:53 [INFO]\t[TRAIN] Epoch=131/270, Step=18/35, loss=8.875654, lr=0.000125, time_each_step=1.2s, eta=1:23:2\n",
      "2022-05-03 11:58:55 [INFO]\t[TRAIN] Epoch=131/270, Step=20/35, loss=7.20365, lr=0.000125, time_each_step=1.18s, eta=1:22:59\n",
      "2022-05-03 11:58:57 [INFO]\t[TRAIN] Epoch=131/270, Step=22/35, loss=9.305977, lr=0.000125, time_each_step=0.83s, eta=1:22:52\n",
      "2022-05-03 11:58:59 [INFO]\t[TRAIN] Epoch=131/270, Step=24/35, loss=6.582116, lr=0.000125, time_each_step=0.83s, eta=1:22:50\n",
      "2022-05-03 11:59:00 [INFO]\t[TRAIN] Epoch=131/270, Step=26/35, loss=9.772116, lr=0.000125, time_each_step=0.82s, eta=1:22:48\n",
      "2022-05-03 11:59:02 [INFO]\t[TRAIN] Epoch=131/270, Step=28/35, loss=6.291284, lr=0.000125, time_each_step=0.81s, eta=1:22:47\n",
      "2022-05-03 11:59:04 [INFO]\t[TRAIN] Epoch=131/270, Step=30/35, loss=7.90979, lr=0.000125, time_each_step=0.81s, eta=1:22:45\n"
     ]
    },
    {
     "name": "stderr",
     "output_type": "stream",
     "text": [
      "libpng warning: iCCP: known incorrect sRGB profile\n"
     ]
    },
    {
     "name": "stdout",
     "output_type": "stream",
     "text": [
      "2022-05-03 11:59:06 [INFO]\t[TRAIN] Epoch=131/270, Step=32/35, loss=10.629065, lr=0.000125, time_each_step=0.82s, eta=1:22:44\n",
      "2022-05-03 11:59:08 [INFO]\t[TRAIN] Epoch=131/270, Step=34/35, loss=11.915949, lr=0.000125, time_each_step=0.84s, eta=1:22:42\n",
      "2022-05-03 11:59:09 [INFO]\t[TRAIN] Epoch 131 finished, loss=8.877, lr=0.000125 .\n",
      "2022-05-03 11:59:16 [INFO]\t[TRAIN] Epoch=132/270, Step=1/35, loss=5.766964, lr=0.000125, time_each_step=1.16s, eta=1:27:40\n",
      "2022-05-03 11:59:18 [INFO]\t[TRAIN] Epoch=132/270, Step=3/35, loss=8.511257, lr=0.000125, time_each_step=1.2s, eta=1:27:39\n"
     ]
    },
    {
     "name": "stderr",
     "output_type": "stream",
     "text": [
      "libpng warning: iCCP: known incorrect sRGB profile\n"
     ]
    },
    {
     "name": "stdout",
     "output_type": "stream",
     "text": [
      "2022-05-03 11:59:19 [INFO]\t[TRAIN] Epoch=132/270, Step=5/35, loss=9.905012, lr=0.000125, time_each_step=1.19s, eta=1:27:36\n",
      "2022-05-03 11:59:21 [INFO]\t[TRAIN] Epoch=132/270, Step=7/35, loss=7.385449, lr=0.000125, time_each_step=1.15s, eta=1:27:33\n",
      "2022-05-03 11:59:22 [INFO]\t[TRAIN] Epoch=132/270, Step=9/35, loss=5.56443, lr=0.000125, time_each_step=1.14s, eta=1:27:30\n",
      "2022-05-03 11:59:24 [INFO]\t[TRAIN] Epoch=132/270, Step=11/35, loss=9.555226, lr=0.000125, time_each_step=1.15s, eta=1:27:28\n",
      "2022-05-03 11:59:26 [INFO]\t[TRAIN] Epoch=132/270, Step=13/35, loss=9.544821, lr=0.000125, time_each_step=1.15s, eta=1:27:26\n",
      "2022-05-03 11:59:27 [INFO]\t[TRAIN] Epoch=132/270, Step=15/35, loss=7.577298, lr=0.000125, time_each_step=1.16s, eta=1:27:24\n",
      "2022-05-03 11:59:29 [INFO]\t[TRAIN] Epoch=132/270, Step=17/35, loss=10.572172, lr=0.000125, time_each_step=1.15s, eta=1:27:21\n",
      "2022-05-03 11:59:31 [INFO]\t[TRAIN] Epoch=132/270, Step=19/35, loss=11.300945, lr=0.000125, time_each_step=1.13s, eta=1:27:19\n",
      "2022-05-03 11:59:32 [INFO]\t[TRAIN] Epoch=132/270, Step=21/35, loss=9.964137, lr=0.000125, time_each_step=0.82s, eta=1:27:12\n",
      "2022-05-03 11:59:34 [INFO]\t[TRAIN] Epoch=132/270, Step=23/35, loss=9.914328, lr=0.000125, time_each_step=0.79s, eta=1:27:10\n"
     ]
    },
    {
     "name": "stderr",
     "output_type": "stream",
     "text": [
      "libpng warning: iCCP: known incorrect sRGB profile\n"
     ]
    },
    {
     "name": "stdout",
     "output_type": "stream",
     "text": [
      "2022-05-03 11:59:35 [INFO]\t[TRAIN] Epoch=132/270, Step=25/35, loss=9.392406, lr=0.000125, time_each_step=0.78s, eta=1:27:8\n",
      "2022-05-03 11:59:36 [INFO]\t[TRAIN] Epoch=132/270, Step=27/35, loss=10.192818, lr=0.000125, time_each_step=0.77s, eta=1:27:7\n",
      "2022-05-03 11:59:37 [INFO]\t[TRAIN] Epoch=132/270, Step=29/35, loss=8.256814, lr=0.000125, time_each_step=0.74s, eta=1:27:5\n",
      "2022-05-03 11:59:38 [INFO]\t[TRAIN] Epoch=132/270, Step=31/35, loss=8.344644, lr=0.000125, time_each_step=0.7s, eta=1:27:3\n",
      "2022-05-03 11:59:39 [INFO]\t[TRAIN] Epoch=132/270, Step=33/35, loss=5.810764, lr=0.000125, time_each_step=0.65s, eta=1:27:2\n",
      "2022-05-03 11:59:39 [INFO]\t[TRAIN] Epoch=132/270, Step=35/35, loss=8.173062, lr=0.000125, time_each_step=0.6s, eta=1:27:1\n",
      "2022-05-03 11:59:39 [INFO]\t[TRAIN] Epoch 132 finished, loss=8.833961, lr=0.000125 .\n",
      "2022-05-03 11:59:47 [INFO]\t[TRAIN] Epoch=133/270, Step=2/35, loss=9.591844, lr=0.000125, time_each_step=0.87s, eta=1:12:0\n"
     ]
    },
    {
     "name": "stderr",
     "output_type": "stream",
     "text": [
      "libpng warning: iCCP: known incorrect sRGB profile\n"
     ]
    },
    {
     "name": "stdout",
     "output_type": "stream",
     "text": [
      "2022-05-03 11:59:49 [INFO]\t[TRAIN] Epoch=133/270, Step=4/35, loss=9.279202, lr=0.000125, time_each_step=0.92s, eta=1:12:0\n",
      "2022-05-03 11:59:51 [INFO]\t[TRAIN] Epoch=133/270, Step=6/35, loss=9.004177, lr=0.000125, time_each_step=0.93s, eta=1:11:59\n",
      "2022-05-03 11:59:52 [INFO]\t[TRAIN] Epoch=133/270, Step=8/35, loss=8.677109, lr=0.000125, time_each_step=0.92s, eta=1:11:57\n",
      "2022-05-03 11:59:53 [INFO]\t[TRAIN] Epoch=133/270, Step=10/35, loss=9.081162, lr=0.000125, time_each_step=0.92s, eta=1:11:55\n",
      "2022-05-03 11:59:55 [INFO]\t[TRAIN] Epoch=133/270, Step=12/35, loss=13.694517, lr=0.000125, time_each_step=0.93s, eta=1:11:53\n",
      "2022-05-03 11:59:56 [INFO]\t[TRAIN] Epoch=133/270, Step=14/35, loss=8.774801, lr=0.000125, time_each_step=0.97s, eta=1:11:52\n",
      "2022-05-03 11:59:58 [INFO]\t[TRAIN] Epoch=133/270, Step=16/35, loss=7.794497, lr=0.000125, time_each_step=1.0s, eta=1:11:51\n",
      "2022-05-03 11:59:59 [INFO]\t[TRAIN] Epoch=133/270, Step=18/35, loss=8.069506, lr=0.000125, time_each_step=1.04s, eta=1:11:50\n",
      "2022-05-03 12:00:01 [INFO]\t[TRAIN] Epoch=133/270, Step=20/35, loss=8.668893, lr=0.000125, time_each_step=1.06s, eta=1:11:48\n",
      "2022-05-03 12:00:02 [INFO]\t[TRAIN] Epoch=133/270, Step=22/35, loss=10.349963, lr=0.000125, time_each_step=0.78s, eta=1:11:42\n"
     ]
    },
    {
     "name": "stderr",
     "output_type": "stream",
     "text": [
      "libpng warning: iCCP: known incorrect sRGB profile\n"
     ]
    },
    {
     "name": "stdout",
     "output_type": "stream",
     "text": [
      "2022-05-03 12:00:03 [INFO]\t[TRAIN] Epoch=133/270, Step=24/35, loss=10.488979, lr=0.000125, time_each_step=0.71s, eta=1:11:40\n",
      "2022-05-03 12:00:05 [INFO]\t[TRAIN] Epoch=133/270, Step=26/35, loss=11.84803, lr=0.000125, time_each_step=0.69s, eta=1:11:38\n",
      "2022-05-03 12:00:06 [INFO]\t[TRAIN] Epoch=133/270, Step=28/35, loss=7.074646, lr=0.000125, time_each_step=0.69s, eta=1:11:37\n",
      "2022-05-03 12:00:07 [INFO]\t[TRAIN] Epoch=133/270, Step=30/35, loss=9.177303, lr=0.000125, time_each_step=0.68s, eta=1:11:35\n",
      "2022-05-03 12:00:08 [INFO]\t[TRAIN] Epoch=133/270, Step=32/35, loss=11.59091, lr=0.000125, time_each_step=0.68s, eta=1:11:34\n",
      "2022-05-03 12:00:10 [INFO]\t[TRAIN] Epoch=133/270, Step=34/35, loss=10.16199, lr=0.000125, time_each_step=0.7s, eta=1:11:32\n",
      "2022-05-03 12:00:13 [INFO]\t[TRAIN] Epoch 133 finished, loss=8.778985, lr=0.000125 .\n",
      "2022-05-03 12:00:21 [INFO]\t[TRAIN] Epoch=134/270, Step=1/35, loss=9.330897, lr=0.000125, time_each_step=1.1s, eta=1:18:53\n"
     ]
    },
    {
     "name": "stderr",
     "output_type": "stream",
     "text": [
      "libpng warning: iCCP: known incorrect sRGB profile\n"
     ]
    },
    {
     "name": "stdout",
     "output_type": "stream",
     "text": [
      "2022-05-03 12:00:23 [INFO]\t[TRAIN] Epoch=134/270, Step=3/35, loss=7.566618, lr=0.000125, time_each_step=1.13s, eta=1:18:52\n",
      "2022-05-03 12:00:25 [INFO]\t[TRAIN] Epoch=134/270, Step=5/35, loss=10.61257, lr=0.000125, time_each_step=1.14s, eta=1:18:50\n",
      "2022-05-03 12:00:26 [INFO]\t[TRAIN] Epoch=134/270, Step=7/35, loss=10.067972, lr=0.000125, time_each_step=1.15s, eta=1:18:48\n",
      "2022-05-03 12:00:28 [INFO]\t[TRAIN] Epoch=134/270, Step=9/35, loss=5.469902, lr=0.000125, time_each_step=1.16s, eta=1:18:46\n",
      "2022-05-03 12:00:29 [INFO]\t[TRAIN] Epoch=134/270, Step=11/35, loss=6.266657, lr=0.000125, time_each_step=1.15s, eta=1:18:44\n",
      "2022-05-03 12:00:31 [INFO]\t[TRAIN] Epoch=134/270, Step=13/35, loss=7.280848, lr=0.000125, time_each_step=1.18s, eta=1:18:42\n",
      "2022-05-03 12:00:32 [INFO]\t[TRAIN] Epoch=134/270, Step=15/35, loss=7.48529, lr=0.000125, time_each_step=1.2s, eta=1:18:40\n",
      "2022-05-03 12:00:34 [INFO]\t[TRAIN] Epoch=134/270, Step=17/35, loss=8.139885, lr=0.000125, time_each_step=1.2s, eta=1:18:38\n",
      "2022-05-03 12:00:35 [INFO]\t[TRAIN] Epoch=134/270, Step=19/35, loss=8.342112, lr=0.000125, time_each_step=1.16s, eta=1:18:35\n",
      "2022-05-03 12:00:36 [INFO]\t[TRAIN] Epoch=134/270, Step=21/35, loss=7.736835, lr=0.000125, time_each_step=0.76s, eta=1:18:27\n"
     ]
    },
    {
     "name": "stderr",
     "output_type": "stream",
     "text": [
      "libpng warning: iCCP: known incorrect sRGB profile\n"
     ]
    },
    {
     "name": "stdout",
     "output_type": "stream",
     "text": [
      "2022-05-03 12:00:38 [INFO]\t[TRAIN] Epoch=134/270, Step=23/35, loss=6.448734, lr=0.000125, time_each_step=0.72s, eta=1:18:25\n",
      "2022-05-03 12:00:39 [INFO]\t[TRAIN] Epoch=134/270, Step=25/35, loss=11.605556, lr=0.000125, time_each_step=0.71s, eta=1:18:23\n",
      "2022-05-03 12:00:40 [INFO]\t[TRAIN] Epoch=134/270, Step=27/35, loss=10.562877, lr=0.000125, time_each_step=0.69s, eta=1:18:22\n",
      "2022-05-03 12:00:41 [INFO]\t[TRAIN] Epoch=134/270, Step=29/35, loss=3.45085, lr=0.000125, time_each_step=0.67s, eta=1:18:20\n",
      "2022-05-03 12:00:42 [INFO]\t[TRAIN] Epoch=134/270, Step=31/35, loss=9.357455, lr=0.000125, time_each_step=0.65s, eta=1:18:19\n",
      "2022-05-03 12:00:43 [INFO]\t[TRAIN] Epoch=134/270, Step=33/35, loss=9.542984, lr=0.000125, time_each_step=0.6s, eta=1:18:17\n",
      "2022-05-03 12:00:43 [INFO]\t[TRAIN] Epoch=134/270, Step=35/35, loss=9.377055, lr=0.000125, time_each_step=0.55s, eta=1:18:16\n",
      "2022-05-03 12:00:43 [INFO]\t[TRAIN] Epoch 134 finished, loss=8.014888, lr=0.000125 .\n"
     ]
    },
    {
     "name": "stderr",
     "output_type": "stream",
     "text": [
      "libpng warning: iCCP: known incorrect sRGB profile\n"
     ]
    },
    {
     "name": "stdout",
     "output_type": "stream",
     "text": [
      "2022-05-03 12:00:50 [INFO]\t[TRAIN] Epoch=135/270, Step=2/35, loss=8.624502, lr=0.000125, time_each_step=0.8s, eta=1:8:52\n",
      "2022-05-03 12:00:51 [INFO]\t[TRAIN] Epoch=135/270, Step=4/35, loss=9.408359, lr=0.000125, time_each_step=0.81s, eta=1:8:50\n",
      "2022-05-03 12:00:53 [INFO]\t[TRAIN] Epoch=135/270, Step=6/35, loss=7.635762, lr=0.000125, time_each_step=0.82s, eta=1:8:49\n",
      "2022-05-03 12:00:54 [INFO]\t[TRAIN] Epoch=135/270, Step=8/35, loss=8.875528, lr=0.000125, time_each_step=0.82s, eta=1:8:47\n",
      "2022-05-03 12:00:55 [INFO]\t[TRAIN] Epoch=135/270, Step=10/35, loss=6.620889, lr=0.000125, time_each_step=0.83s, eta=1:8:46\n",
      "2022-05-03 12:00:57 [INFO]\t[TRAIN] Epoch=135/270, Step=12/35, loss=7.130095, lr=0.000125, time_each_step=0.83s, eta=1:8:44\n",
      "2022-05-03 12:00:59 [INFO]\t[TRAIN] Epoch=135/270, Step=14/35, loss=6.517304, lr=0.000125, time_each_step=0.88s, eta=1:8:44\n",
      "2022-05-03 12:01:00 [INFO]\t[TRAIN] Epoch=135/270, Step=16/35, loss=8.677672, lr=0.000125, time_each_step=0.9s, eta=1:8:42\n",
      "2022-05-03 12:01:02 [INFO]\t[TRAIN] Epoch=135/270, Step=18/35, loss=10.563216, lr=0.000125, time_each_step=0.94s, eta=1:8:41\n",
      "2022-05-03 12:01:03 [INFO]\t[TRAIN] Epoch=135/270, Step=20/35, loss=7.168088, lr=0.000125, time_each_step=0.99s, eta=1:8:40\n",
      "2022-05-03 12:01:05 [INFO]\t[TRAIN] Epoch=135/270, Step=22/35, loss=8.123241, lr=0.000125, time_each_step=0.75s, eta=1:8:35\n",
      "2022-05-03 12:01:06 [INFO]\t[TRAIN] Epoch=135/270, Step=24/35, loss=7.360951, lr=0.000125, time_each_step=0.75s, eta=1:8:33\n",
      "2022-05-03 12:01:07 [INFO]\t[TRAIN] Epoch=135/270, Step=26/35, loss=11.397736, lr=0.000125, time_each_step=0.72s, eta=1:8:32\n",
      "2022-05-03 12:01:08 [INFO]\t[TRAIN] Epoch=135/270, Step=28/35, loss=8.834477, lr=0.000125, time_each_step=0.7s, eta=1:8:30\n"
     ]
    },
    {
     "name": "stderr",
     "output_type": "stream",
     "text": [
      "libpng warning: iCCP: known incorrect sRGB profile\n"
     ]
    },
    {
     "name": "stdout",
     "output_type": "stream",
     "text": [
      "2022-05-03 12:01:09 [INFO]\t[TRAIN] Epoch=135/270, Step=30/35, loss=6.698409, lr=0.000125, time_each_step=0.67s, eta=1:8:28\n",
      "2022-05-03 12:01:09 [INFO]\t[TRAIN] Epoch=135/270, Step=32/35, loss=6.305128, lr=0.000125, time_each_step=0.62s, eta=1:8:27\n",
      "2022-05-03 12:01:10 [INFO]\t[TRAIN] Epoch=135/270, Step=34/35, loss=10.354656, lr=0.000125, time_each_step=0.56s, eta=1:8:26\n",
      "2022-05-03 12:01:11 [INFO]\t[TRAIN] Epoch 135 finished, loss=8.578141, lr=0.000125 .\n",
      "2022-05-03 12:01:18 [INFO]\t[TRAIN] Epoch=136/270, Step=1/35, loss=6.300241, lr=0.000125, time_each_step=0.9s, eta=1:3:24\n"
     ]
    },
    {
     "name": "stderr",
     "output_type": "stream",
     "text": [
      "libpng warning: iCCP: known incorrect sRGB profile\n"
     ]
    },
    {
     "name": "stdout",
     "output_type": "stream",
     "text": [
      "2022-05-03 12:01:22 [INFO]\t[TRAIN] Epoch=136/270, Step=3/35, loss=11.375293, lr=0.000125, time_each_step=0.99s, eta=1:3:26\n",
      "2022-05-03 12:01:24 [INFO]\t[TRAIN] Epoch=136/270, Step=5/35, loss=7.243896, lr=0.000125, time_each_step=1.01s, eta=1:3:24\n",
      "2022-05-03 12:01:25 [INFO]\t[TRAIN] Epoch=136/270, Step=7/35, loss=8.47517, lr=0.000125, time_each_step=1.0s, eta=1:3:22\n",
      "2022-05-03 12:01:27 [INFO]\t[TRAIN] Epoch=136/270, Step=9/35, loss=5.088293, lr=0.000125, time_each_step=1.03s, eta=1:3:21\n",
      "2022-05-03 12:01:29 [INFO]\t[TRAIN] Epoch=136/270, Step=11/35, loss=8.142631, lr=0.000125, time_each_step=1.05s, eta=1:3:19\n",
      "2022-05-03 12:01:30 [INFO]\t[TRAIN] Epoch=136/270, Step=13/35, loss=9.21231, lr=0.000125, time_each_step=1.07s, eta=1:3:17\n",
      "2022-05-03 12:01:31 [INFO]\t[TRAIN] Epoch=136/270, Step=15/35, loss=10.989935, lr=0.000125, time_each_step=1.1s, eta=1:3:16\n",
      "2022-05-03 12:01:32 [INFO]\t[TRAIN] Epoch=136/270, Step=17/35, loss=10.861626, lr=0.000125, time_each_step=1.14s, eta=1:3:14\n",
      "2022-05-03 12:01:34 [INFO]\t[TRAIN] Epoch=136/270, Step=19/35, loss=9.449284, lr=0.000125, time_each_step=1.19s, eta=1:3:13\n",
      "2022-05-03 12:01:36 [INFO]\t[TRAIN] Epoch=136/270, Step=21/35, loss=8.924026, lr=0.000125, time_each_step=0.87s, eta=1:3:6\n",
      "2022-05-03 12:01:37 [INFO]\t[TRAIN] Epoch=136/270, Step=23/35, loss=7.710268, lr=0.000125, time_each_step=0.76s, eta=1:3:3\n"
     ]
    },
    {
     "name": "stderr",
     "output_type": "stream",
     "text": [
      "libpng warning: iCCP: known incorrect sRGB profile\n"
     ]
    },
    {
     "name": "stdout",
     "output_type": "stream",
     "text": [
      "2022-05-03 12:01:38 [INFO]\t[TRAIN] Epoch=136/270, Step=25/35, loss=8.670484, lr=0.000125, time_each_step=0.74s, eta=1:3:1\n",
      "2022-05-03 12:01:40 [INFO]\t[TRAIN] Epoch=136/270, Step=27/35, loss=9.632734, lr=0.000125, time_each_step=0.73s, eta=1:3:0\n",
      "2022-05-03 12:01:41 [INFO]\t[TRAIN] Epoch=136/270, Step=29/35, loss=8.818747, lr=0.000125, time_each_step=0.71s, eta=1:2:58\n",
      "2022-05-03 12:01:43 [INFO]\t[TRAIN] Epoch=136/270, Step=31/35, loss=6.317076, lr=0.000125, time_each_step=0.7s, eta=1:2:57\n",
      "2022-05-03 12:01:44 [INFO]\t[TRAIN] Epoch=136/270, Step=33/35, loss=10.637142, lr=0.000125, time_each_step=0.69s, eta=1:2:55\n",
      "2022-05-03 12:01:45 [INFO]\t[TRAIN] Epoch=136/270, Step=35/35, loss=10.371463, lr=0.000125, time_each_step=0.68s, eta=1:2:54\n",
      "2022-05-03 12:01:45 [INFO]\t[TRAIN] Epoch 136 finished, loss=8.580343, lr=0.000125 .\n",
      "2022-05-03 12:01:53 [INFO]\t[TRAIN] Epoch=137/270, Step=2/35, loss=6.579, lr=0.000125, time_each_step=1.01s, eta=1:17:40\n",
      "2022-05-03 12:01:55 [INFO]\t[TRAIN] Epoch=137/270, Step=4/35, loss=10.061761, lr=0.000125, time_each_step=1.05s, eta=1:17:39\n"
     ]
    },
    {
     "name": "stderr",
     "output_type": "stream",
     "text": [
      "libpng warning: iCCP: known incorrect sRGB profile\n"
     ]
    },
    {
     "name": "stdout",
     "output_type": "stream",
     "text": [
      "2022-05-03 12:01:57 [INFO]\t[TRAIN] Epoch=137/270, Step=6/35, loss=8.140162, lr=0.000125, time_each_step=1.06s, eta=1:17:37\n",
      "2022-05-03 12:01:58 [INFO]\t[TRAIN] Epoch=137/270, Step=8/35, loss=10.791466, lr=0.000125, time_each_step=1.05s, eta=1:17:35\n",
      "2022-05-03 12:02:00 [INFO]\t[TRAIN] Epoch=137/270, Step=10/35, loss=7.906899, lr=0.000125, time_each_step=1.08s, eta=1:17:34\n",
      "2022-05-03 12:02:02 [INFO]\t[TRAIN] Epoch=137/270, Step=12/35, loss=7.151985, lr=0.000125, time_each_step=1.08s, eta=1:17:31\n",
      "2022-05-03 12:02:03 [INFO]\t[TRAIN] Epoch=137/270, Step=14/35, loss=5.538624, lr=0.000125, time_each_step=1.08s, eta=1:17:29\n",
      "2022-05-03 12:02:05 [INFO]\t[TRAIN] Epoch=137/270, Step=16/35, loss=9.39604, lr=0.000125, time_each_step=1.09s, eta=1:17:27\n",
      "2022-05-03 12:02:06 [INFO]\t[TRAIN] Epoch=137/270, Step=18/35, loss=7.590252, lr=0.000125, time_each_step=1.13s, eta=1:17:26\n",
      "2022-05-03 12:02:08 [INFO]\t[TRAIN] Epoch=137/270, Step=20/35, loss=10.834938, lr=0.000125, time_each_step=1.16s, eta=1:17:24\n"
     ]
    },
    {
     "name": "stderr",
     "output_type": "stream",
     "text": [
      "libpng warning: iCCP: known incorrect sRGB profile\n"
     ]
    },
    {
     "name": "stdout",
     "output_type": "stream",
     "text": [
      "2022-05-03 12:02:10 [INFO]\t[TRAIN] Epoch=137/270, Step=22/35, loss=9.472874, lr=0.000125, time_each_step=0.84s, eta=1:17:17\n",
      "2022-05-03 12:02:11 [INFO]\t[TRAIN] Epoch=137/270, Step=24/35, loss=10.190444, lr=0.000125, time_each_step=0.79s, eta=1:17:15\n",
      "2022-05-03 12:02:12 [INFO]\t[TRAIN] Epoch=137/270, Step=26/35, loss=10.862858, lr=0.000125, time_each_step=0.76s, eta=1:17:13\n",
      "2022-05-03 12:02:13 [INFO]\t[TRAIN] Epoch=137/270, Step=28/35, loss=6.795903, lr=0.000125, time_each_step=0.76s, eta=1:17:12\n",
      "2022-05-03 12:02:14 [INFO]\t[TRAIN] Epoch=137/270, Step=30/35, loss=11.719252, lr=0.000125, time_each_step=0.7s, eta=1:17:10\n",
      "2022-05-03 12:02:15 [INFO]\t[TRAIN] Epoch=137/270, Step=32/35, loss=7.36654, lr=0.000125, time_each_step=0.65s, eta=1:17:9\n",
      "2022-05-03 12:02:15 [INFO]\t[TRAIN] Epoch=137/270, Step=34/35, loss=7.137434, lr=0.000125, time_each_step=0.62s, eta=1:17:7\n",
      "2022-05-03 12:02:16 [INFO]\t[TRAIN] Epoch 137 finished, loss=8.604127, lr=0.000125 .\n",
      "2022-05-03 12:02:22 [INFO]\t[TRAIN] Epoch=138/270, Step=1/35, loss=4.739066, lr=0.000125, time_each_step=0.84s, eta=1:9:49\n",
      "2022-05-03 12:02:23 [INFO]\t[TRAIN] Epoch=138/270, Step=3/35, loss=6.854413, lr=0.000125, time_each_step=0.8s, eta=1:9:47\n"
     ]
    },
    {
     "name": "stderr",
     "output_type": "stream",
     "text": [
      "libpng warning: iCCP: known incorrect sRGB profile\n"
     ]
    },
    {
     "name": "stdout",
     "output_type": "stream",
     "text": [
      "2022-05-03 12:02:24 [INFO]\t[TRAIN] Epoch=138/270, Step=5/35, loss=11.566554, lr=0.000125, time_each_step=0.77s, eta=1:9:44\n",
      "2022-05-03 12:02:26 [INFO]\t[TRAIN] Epoch=138/270, Step=7/35, loss=12.932137, lr=0.000125, time_each_step=0.78s, eta=1:9:43\n",
      "2022-05-03 12:02:28 [INFO]\t[TRAIN] Epoch=138/270, Step=9/35, loss=7.532452, lr=0.000125, time_each_step=0.84s, eta=1:9:43\n",
      "2022-05-03 12:02:30 [INFO]\t[TRAIN] Epoch=138/270, Step=11/35, loss=9.442816, lr=0.000125, time_each_step=0.86s, eta=1:9:41\n",
      "2022-05-03 12:02:31 [INFO]\t[TRAIN] Epoch=138/270, Step=13/35, loss=8.578307, lr=0.000125, time_each_step=0.87s, eta=1:9:40\n",
      "2022-05-03 12:02:33 [INFO]\t[TRAIN] Epoch=138/270, Step=15/35, loss=6.878789, lr=0.000125, time_each_step=0.91s, eta=1:9:39\n",
      "2022-05-03 12:02:34 [INFO]\t[TRAIN] Epoch=138/270, Step=17/35, loss=11.361859, lr=0.000125, time_each_step=0.95s, eta=1:9:38\n",
      "2022-05-03 12:02:36 [INFO]\t[TRAIN] Epoch=138/270, Step=19/35, loss=6.755008, lr=0.000125, time_each_step=0.99s, eta=1:9:37\n",
      "2022-05-03 12:02:37 [INFO]\t[TRAIN] Epoch=138/270, Step=21/35, loss=11.975037, lr=0.000125, time_each_step=0.77s, eta=1:9:32\n",
      "2022-05-03 12:02:38 [INFO]\t[TRAIN] Epoch=138/270, Step=23/35, loss=9.866075, lr=0.000125, time_each_step=0.77s, eta=1:9:30\n"
     ]
    },
    {
     "name": "stderr",
     "output_type": "stream",
     "text": [
      "libpng warning: iCCP: known incorrect sRGB profile\n"
     ]
    },
    {
     "name": "stdout",
     "output_type": "stream",
     "text": [
      "2022-05-03 12:02:40 [INFO]\t[TRAIN] Epoch=138/270, Step=25/35, loss=8.940185, lr=0.000125, time_each_step=0.78s, eta=1:9:29\n",
      "2022-05-03 12:02:41 [INFO]\t[TRAIN] Epoch=138/270, Step=27/35, loss=13.886314, lr=0.000125, time_each_step=0.77s, eta=1:9:27\n",
      "2022-05-03 12:02:43 [INFO]\t[TRAIN] Epoch=138/270, Step=29/35, loss=6.970761, lr=0.000125, time_each_step=0.75s, eta=1:9:25\n",
      "2022-05-03 12:02:45 [INFO]\t[TRAIN] Epoch=138/270, Step=31/35, loss=8.769066, lr=0.000125, time_each_step=0.75s, eta=1:9:24\n",
      "2022-05-03 12:02:46 [INFO]\t[TRAIN] Epoch=138/270, Step=33/35, loss=11.849844, lr=0.000125, time_each_step=0.75s, eta=1:9:22\n",
      "2022-05-03 12:02:49 [INFO]\t[TRAIN] Epoch=138/270, Step=35/35, loss=9.678548, lr=0.000125, time_each_step=0.82s, eta=1:9:21\n",
      "2022-05-03 12:02:50 [INFO]\t[TRAIN] Epoch 138 finished, loss=8.857986, lr=0.000125 .\n",
      "2022-05-03 12:02:57 [INFO]\t[TRAIN] Epoch=139/270, Step=2/35, loss=4.686877, lr=0.000125, time_each_step=1.12s, eta=1:15:35\n"
     ]
    },
    {
     "name": "stderr",
     "output_type": "stream",
     "text": [
      "libpng warning: iCCP: known incorrect sRGB profile\n"
     ]
    },
    {
     "name": "stdout",
     "output_type": "stream",
     "text": [
      "2022-05-03 12:02:59 [INFO]\t[TRAIN] Epoch=139/270, Step=4/35, loss=9.788381, lr=0.000125, time_each_step=1.15s, eta=1:15:34\n",
      "2022-05-03 12:03:01 [INFO]\t[TRAIN] Epoch=139/270, Step=6/35, loss=7.959805, lr=0.000125, time_each_step=1.14s, eta=1:15:31\n",
      "2022-05-03 12:03:02 [INFO]\t[TRAIN] Epoch=139/270, Step=8/35, loss=6.538591, lr=0.000125, time_each_step=1.18s, eta=1:15:30\n",
      "2022-05-03 12:03:04 [INFO]\t[TRAIN] Epoch=139/270, Step=10/35, loss=7.728232, lr=0.000125, time_each_step=1.19s, eta=1:15:28\n",
      "2022-05-03 12:03:05 [INFO]\t[TRAIN] Epoch=139/270, Step=12/35, loss=11.574068, lr=0.000125, time_each_step=1.18s, eta=1:15:25\n",
      "2022-05-03 12:03:06 [INFO]\t[TRAIN] Epoch=139/270, Step=14/35, loss=5.351394, lr=0.000125, time_each_step=1.14s, eta=1:15:22\n",
      "2022-05-03 12:03:08 [INFO]\t[TRAIN] Epoch=139/270, Step=16/35, loss=9.650569, lr=0.000125, time_each_step=1.11s, eta=1:15:19\n",
      "2022-05-03 12:03:09 [INFO]\t[TRAIN] Epoch=139/270, Step=18/35, loss=8.556848, lr=0.000125, time_each_step=1.1s, eta=1:15:17\n",
      "2022-05-03 12:03:10 [INFO]\t[TRAIN] Epoch=139/270, Step=20/35, loss=7.295555, lr=0.000125, time_each_step=1.03s, eta=1:15:14\n",
      "2022-05-03 12:03:12 [INFO]\t[TRAIN] Epoch=139/270, Step=22/35, loss=7.431736, lr=0.000125, time_each_step=0.74s, eta=1:15:8\n",
      "2022-05-03 12:03:13 [INFO]\t[TRAIN] Epoch=139/270, Step=24/35, loss=9.414954, lr=0.000125, time_each_step=0.71s, eta=1:15:6\n",
      "2022-05-03 12:03:14 [INFO]\t[TRAIN] Epoch=139/270, Step=26/35, loss=10.132392, lr=0.000125, time_each_step=0.69s, eta=1:15:4\n",
      "2022-05-03 12:03:16 [INFO]\t[TRAIN] Epoch=139/270, Step=28/35, loss=6.184431, lr=0.000125, time_each_step=0.67s, eta=1:15:3\n",
      "2022-05-03 12:03:17 [INFO]\t[TRAIN] Epoch=139/270, Step=30/35, loss=9.256253, lr=0.000125, time_each_step=0.65s, eta=1:15:1\n",
      "2022-05-03 12:03:18 [INFO]\t[TRAIN] Epoch=139/270, Step=32/35, loss=8.386847, lr=0.000125, time_each_step=0.65s, eta=1:15:0\n",
      "2022-05-03 12:03:20 [INFO]\t[TRAIN] Epoch=139/270, Step=34/35, loss=6.126815, lr=0.000125, time_each_step=0.65s, eta=1:14:59\n"
     ]
    },
    {
     "name": "stderr",
     "output_type": "stream",
     "text": [
      "libpng warning: iCCP: known incorrect sRGB profile\n"
     ]
    },
    {
     "name": "stdout",
     "output_type": "stream",
     "text": [
      "2022-05-03 12:03:20 [INFO]\t[TRAIN] Epoch 139 finished, loss=8.366702, lr=0.000125 .\n",
      "2022-05-03 12:03:27 [INFO]\t[TRAIN] Epoch=140/270, Step=1/35, loss=8.518387, lr=0.000125, time_each_step=0.98s, eta=1:8:20\n",
      "2022-05-03 12:03:29 [INFO]\t[TRAIN] Epoch=140/270, Step=3/35, loss=7.165923, lr=0.000125, time_each_step=0.99s, eta=1:8:19\n"
     ]
    },
    {
     "name": "stderr",
     "output_type": "stream",
     "text": [
      "libpng warning: iCCP: known incorrect sRGB profile\n"
     ]
    },
    {
     "name": "stdout",
     "output_type": "stream",
     "text": [
      "2022-05-03 12:03:30 [INFO]\t[TRAIN] Epoch=140/270, Step=5/35, loss=7.914793, lr=0.000125, time_each_step=0.99s, eta=1:8:17\n",
      "2022-05-03 12:03:32 [INFO]\t[TRAIN] Epoch=140/270, Step=7/35, loss=7.317744, lr=0.000125, time_each_step=1.02s, eta=1:8:15\n",
      "2022-05-03 12:03:34 [INFO]\t[TRAIN] Epoch=140/270, Step=9/35, loss=8.084587, lr=0.000125, time_each_step=1.03s, eta=1:8:14\n",
      "2022-05-03 12:03:36 [INFO]\t[TRAIN] Epoch=140/270, Step=11/35, loss=6.220588, lr=0.000125, time_each_step=1.05s, eta=1:8:12\n",
      "2022-05-03 12:03:37 [INFO]\t[TRAIN] Epoch=140/270, Step=13/35, loss=6.198913, lr=0.000125, time_each_step=1.06s, eta=1:8:10\n",
      "2022-05-03 12:03:38 [INFO]\t[TRAIN] Epoch=140/270, Step=15/35, loss=10.432873, lr=0.000125, time_each_step=1.06s, eta=1:8:8\n",
      "2022-05-03 12:03:40 [INFO]\t[TRAIN] Epoch=140/270, Step=17/35, loss=7.898349, lr=0.000125, time_each_step=1.07s, eta=1:8:6\n",
      "2022-05-03 12:03:42 [INFO]\t[TRAIN] Epoch=140/270, Step=19/35, loss=10.516134, lr=0.000125, time_each_step=1.09s, eta=1:8:4\n"
     ]
    },
    {
     "name": "stderr",
     "output_type": "stream",
     "text": [
      "libpng warning: iCCP: known incorrect sRGB profile\n"
     ]
    },
    {
     "name": "stdout",
     "output_type": "stream",
     "text": [
      "2022-05-03 12:03:43 [INFO]\t[TRAIN] Epoch=140/270, Step=21/35, loss=10.734082, lr=0.000125, time_each_step=0.79s, eta=1:7:58\n",
      "2022-05-03 12:03:44 [INFO]\t[TRAIN] Epoch=140/270, Step=23/35, loss=6.408703, lr=0.000125, time_each_step=0.77s, eta=1:7:56\n",
      "2022-05-03 12:03:46 [INFO]\t[TRAIN] Epoch=140/270, Step=25/35, loss=10.266995, lr=0.000125, time_each_step=0.77s, eta=1:7:55\n",
      "2022-05-03 12:03:47 [INFO]\t[TRAIN] Epoch=140/270, Step=27/35, loss=9.687197, lr=0.000125, time_each_step=0.75s, eta=1:7:53\n",
      "2022-05-03 12:03:49 [INFO]\t[TRAIN] Epoch=140/270, Step=29/35, loss=9.339573, lr=0.000125, time_each_step=0.73s, eta=1:7:51\n",
      "2022-05-03 12:03:50 [INFO]\t[TRAIN] Epoch=140/270, Step=31/35, loss=9.658139, lr=0.000125, time_each_step=0.69s, eta=1:7:50\n",
      "2022-05-03 12:03:50 [INFO]\t[TRAIN] Epoch=140/270, Step=33/35, loss=7.354548, lr=0.000125, time_each_step=0.65s, eta=1:7:48\n",
      "2022-05-03 12:03:52 [INFO]\t[TRAIN] Epoch=140/270, Step=35/35, loss=10.948169, lr=0.000125, time_each_step=0.67s, eta=1:7:47\n",
      "2022-05-03 12:03:52 [INFO]\t[TRAIN] Epoch 140 finished, loss=8.91547, lr=0.000125 .\n",
      "2022-05-03 12:04:00 [INFO]\t[TRAIN] Epoch=141/270, Step=2/35, loss=9.652191, lr=0.000125, time_each_step=0.98s, eta=1:10:19\n",
      "2022-05-03 12:04:02 [INFO]\t[TRAIN] Epoch=141/270, Step=4/35, loss=8.227244, lr=0.000125, time_each_step=0.99s, eta=1:10:17\n"
     ]
    },
    {
     "name": "stderr",
     "output_type": "stream",
     "text": [
      "libpng warning: iCCP: known incorrect sRGB profile\n"
     ]
    },
    {
     "name": "stdout",
     "output_type": "stream",
     "text": [
      "2022-05-03 12:04:04 [INFO]\t[TRAIN] Epoch=141/270, Step=6/35, loss=13.184077, lr=0.000125, time_each_step=1.02s, eta=1:10:16\n",
      "2022-05-03 12:04:06 [INFO]\t[TRAIN] Epoch=141/270, Step=8/35, loss=5.355796, lr=0.000125, time_each_step=1.03s, eta=1:10:14\n",
      "2022-05-03 12:04:07 [INFO]\t[TRAIN] Epoch=141/270, Step=10/35, loss=9.199329, lr=0.000125, time_each_step=1.02s, eta=1:10:12\n",
      "2022-05-03 12:04:08 [INFO]\t[TRAIN] Epoch=141/270, Step=12/35, loss=10.965947, lr=0.000125, time_each_step=1.01s, eta=1:10:10\n",
      "2022-05-03 12:04:10 [INFO]\t[TRAIN] Epoch=141/270, Step=14/35, loss=5.942785, lr=0.000125, time_each_step=1.01s, eta=1:10:8\n",
      "2022-05-03 12:04:11 [INFO]\t[TRAIN] Epoch=141/270, Step=16/35, loss=9.474612, lr=0.000125, time_each_step=1.04s, eta=1:10:6\n",
      "2022-05-03 12:04:12 [INFO]\t[TRAIN] Epoch=141/270, Step=18/35, loss=7.657829, lr=0.000125, time_each_step=1.07s, eta=1:10:5\n",
      "2022-05-03 12:04:14 [INFO]\t[TRAIN] Epoch=141/270, Step=20/35, loss=11.346949, lr=0.000125, time_each_step=1.1s, eta=1:10:3\n",
      "2022-05-03 12:04:16 [INFO]\t[TRAIN] Epoch=141/270, Step=22/35, loss=8.188388, lr=0.000125, time_each_step=0.77s, eta=1:9:57\n",
      "2022-05-03 12:04:18 [INFO]\t[TRAIN] Epoch=141/270, Step=24/35, loss=5.732129, lr=0.000125, time_each_step=0.79s, eta=1:9:55\n",
      "2022-05-03 12:04:19 [INFO]\t[TRAIN] Epoch=141/270, Step=26/35, loss=10.079186, lr=0.000125, time_each_step=0.76s, eta=1:9:53\n",
      "2022-05-03 12:04:20 [INFO]\t[TRAIN] Epoch=141/270, Step=28/35, loss=4.419857, lr=0.000125, time_each_step=0.73s, eta=1:9:52\n",
      "2022-05-03 12:04:22 [INFO]\t[TRAIN] Epoch=141/270, Step=30/35, loss=4.938966, lr=0.000125, time_each_step=0.73s, eta=1:9:50\n"
     ]
    },
    {
     "name": "stderr",
     "output_type": "stream",
     "text": [
      "libpng warning: iCCP: known incorrect sRGB profile\n"
     ]
    },
    {
     "name": "stdout",
     "output_type": "stream",
     "text": [
      "2022-05-03 12:04:23 [INFO]\t[TRAIN] Epoch=141/270, Step=32/35, loss=8.561481, lr=0.000125, time_each_step=0.76s, eta=1:9:49\n",
      "2022-05-03 12:04:25 [INFO]\t[TRAIN] Epoch=141/270, Step=34/35, loss=11.604339, lr=0.000125, time_each_step=0.79s, eta=1:9:47\n",
      "2022-05-03 12:04:26 [INFO]\t[TRAIN] Epoch 141 finished, loss=9.071237, lr=0.000125 .\n",
      "2022-05-03 12:04:33 [INFO]\t[TRAIN] Epoch=142/270, Step=1/35, loss=7.221686, lr=0.000125, time_each_step=1.1s, eta=1:14:58\n",
      "2022-05-03 12:04:36 [INFO]\t[TRAIN] Epoch=142/270, Step=3/35, loss=6.335692, lr=0.000125, time_each_step=1.17s, eta=1:14:58\n"
     ]
    },
    {
     "name": "stderr",
     "output_type": "stream",
     "text": [
      "libpng warning: iCCP: known incorrect sRGB profile\n"
     ]
    },
    {
     "name": "stdout",
     "output_type": "stream",
     "text": [
      "2022-05-03 12:04:38 [INFO]\t[TRAIN] Epoch=142/270, Step=5/35, loss=7.060061, lr=0.000125, time_each_step=1.17s, eta=1:14:55\n",
      "2022-05-03 12:04:39 [INFO]\t[TRAIN] Epoch=142/270, Step=7/35, loss=10.228475, lr=0.000125, time_each_step=1.19s, eta=1:14:54\n",
      "2022-05-03 12:04:41 [INFO]\t[TRAIN] Epoch=142/270, Step=9/35, loss=12.382727, lr=0.000125, time_each_step=1.14s, eta=1:14:50\n",
      "2022-05-03 12:04:43 [INFO]\t[TRAIN] Epoch=142/270, Step=11/35, loss=6.651199, lr=0.000125, time_each_step=1.17s, eta=1:14:49\n",
      "2022-05-03 12:04:45 [INFO]\t[TRAIN] Epoch=142/270, Step=13/35, loss=6.239345, lr=0.000125, time_each_step=1.21s, eta=1:14:47\n",
      "2022-05-03 12:04:46 [INFO]\t[TRAIN] Epoch=142/270, Step=15/35, loss=12.514015, lr=0.000125, time_each_step=1.21s, eta=1:14:45\n",
      "2022-05-03 12:04:47 [INFO]\t[TRAIN] Epoch=142/270, Step=17/35, loss=9.484057, lr=0.000125, time_each_step=1.2s, eta=1:14:42\n",
      "2022-05-03 12:04:49 [INFO]\t[TRAIN] Epoch=142/270, Step=19/35, loss=6.694513, lr=0.000125, time_each_step=1.16s, eta=1:14:39\n",
      "2022-05-03 12:04:50 [INFO]\t[TRAIN] Epoch=142/270, Step=21/35, loss=7.878003, lr=0.000125, time_each_step=0.84s, eta=1:14:32\n",
      "2022-05-03 12:04:51 [INFO]\t[TRAIN] Epoch=142/270, Step=23/35, loss=13.355877, lr=0.000125, time_each_step=0.78s, eta=1:14:30\n",
      "2022-05-03 12:04:52 [INFO]\t[TRAIN] Epoch=142/270, Step=25/35, loss=11.29601, lr=0.000125, time_each_step=0.74s, eta=1:14:28\n"
     ]
    },
    {
     "name": "stderr",
     "output_type": "stream",
     "text": [
      "libpng warning: iCCP: known incorrect sRGB profile\n"
     ]
    },
    {
     "name": "stdout",
     "output_type": "stream",
     "text": [
      "2022-05-03 12:04:53 [INFO]\t[TRAIN] Epoch=142/270, Step=27/35, loss=11.753488, lr=0.000125, time_each_step=0.68s, eta=1:14:26\n",
      "2022-05-03 12:04:54 [INFO]\t[TRAIN] Epoch=142/270, Step=29/35, loss=7.024618, lr=0.000125, time_each_step=0.65s, eta=1:14:24\n",
      "2022-05-03 12:04:55 [INFO]\t[TRAIN] Epoch=142/270, Step=31/35, loss=13.140499, lr=0.000125, time_each_step=0.59s, eta=1:14:23\n",
      "2022-05-03 12:04:56 [INFO]\t[TRAIN] Epoch=142/270, Step=33/35, loss=7.483532, lr=0.000125, time_each_step=0.59s, eta=1:14:22\n",
      "2022-05-03 12:04:58 [INFO]\t[TRAIN] Epoch=142/270, Step=35/35, loss=5.898038, lr=0.000125, time_each_step=0.6s, eta=1:14:20\n",
      "2022-05-03 12:04:58 [INFO]\t[TRAIN] Epoch 142 finished, loss=8.837405, lr=0.000125 .\n",
      "2022-05-03 12:05:06 [INFO]\t[TRAIN] Epoch=143/270, Step=2/35, loss=12.05106, lr=0.000125, time_each_step=0.92s, eta=1:8:27\n",
      "2022-05-03 12:05:07 [INFO]\t[TRAIN] Epoch=143/270, Step=4/35, loss=7.680083, lr=0.000125, time_each_step=0.94s, eta=1:8:26\n"
     ]
    },
    {
     "name": "stderr",
     "output_type": "stream",
     "text": [
      "libpng warning: iCCP: known incorrect sRGB profile\n"
     ]
    },
    {
     "name": "stdout",
     "output_type": "stream",
     "text": [
      "2022-05-03 12:05:09 [INFO]\t[TRAIN] Epoch=143/270, Step=6/35, loss=9.995321, lr=0.000125, time_each_step=0.96s, eta=1:8:25\n",
      "2022-05-03 12:05:11 [INFO]\t[TRAIN] Epoch=143/270, Step=8/35, loss=7.44144, lr=0.000125, time_each_step=0.99s, eta=1:8:24\n",
      "2022-05-03 12:05:13 [INFO]\t[TRAIN] Epoch=143/270, Step=10/35, loss=8.580634, lr=0.000125, time_each_step=1.01s, eta=1:8:22\n",
      "2022-05-03 12:05:14 [INFO]\t[TRAIN] Epoch=143/270, Step=12/35, loss=8.011792, lr=0.000125, time_each_step=1.03s, eta=1:8:21\n",
      "2022-05-03 12:05:15 [INFO]\t[TRAIN] Epoch=143/270, Step=14/35, loss=10.131705, lr=0.000125, time_each_step=1.08s, eta=1:8:20\n",
      "2022-05-03 12:05:17 [INFO]\t[TRAIN] Epoch=143/270, Step=16/35, loss=8.119031, lr=0.000125, time_each_step=1.11s, eta=1:8:18\n",
      "2022-05-03 12:05:18 [INFO]\t[TRAIN] Epoch=143/270, Step=18/35, loss=5.263632, lr=0.000125, time_each_step=1.08s, eta=1:8:15\n",
      "2022-05-03 12:05:20 [INFO]\t[TRAIN] Epoch=143/270, Step=20/35, loss=9.532702, lr=0.000125, time_each_step=1.08s, eta=1:8:13\n",
      "2022-05-03 12:05:21 [INFO]\t[TRAIN] Epoch=143/270, Step=22/35, loss=6.994721, lr=0.000125, time_each_step=0.78s, eta=1:8:7\n",
      "2022-05-03 12:05:23 [INFO]\t[TRAIN] Epoch=143/270, Step=24/35, loss=7.051496, lr=0.000125, time_each_step=0.77s, eta=1:8:5\n"
     ]
    },
    {
     "name": "stderr",
     "output_type": "stream",
     "text": [
      "libpng warning: iCCP: known incorrect sRGB profile\n"
     ]
    },
    {
     "name": "stdout",
     "output_type": "stream",
     "text": [
      "2022-05-03 12:05:25 [INFO]\t[TRAIN] Epoch=143/270, Step=26/35, loss=12.465467, lr=0.000125, time_each_step=0.76s, eta=1:8:4\n",
      "2022-05-03 12:05:26 [INFO]\t[TRAIN] Epoch=143/270, Step=28/35, loss=10.53784, lr=0.000125, time_each_step=0.74s, eta=1:8:2\n",
      "2022-05-03 12:05:28 [INFO]\t[TRAIN] Epoch=143/270, Step=30/35, loss=10.943299, lr=0.000125, time_each_step=0.77s, eta=1:8:1\n",
      "2022-05-03 12:05:29 [INFO]\t[TRAIN] Epoch=143/270, Step=32/35, loss=8.922859, lr=0.000125, time_each_step=0.79s, eta=1:7:59\n",
      "2022-05-03 12:05:31 [INFO]\t[TRAIN] Epoch=143/270, Step=34/35, loss=10.157545, lr=0.000125, time_each_step=0.79s, eta=1:7:58\n",
      "2022-05-03 12:05:32 [INFO]\t[TRAIN] Epoch 143 finished, loss=8.510055, lr=0.000125 .\n",
      "2022-05-03 12:05:40 [INFO]\t[TRAIN] Epoch=144/270, Step=1/35, loss=7.678222, lr=0.000125, time_each_step=1.13s, eta=1:14:29\n"
     ]
    },
    {
     "name": "stderr",
     "output_type": "stream",
     "text": [
      "libpng warning: iCCP: known incorrect sRGB profile\n"
     ]
    },
    {
     "name": "stdout",
     "output_type": "stream",
     "text": [
      "2022-05-03 12:05:42 [INFO]\t[TRAIN] Epoch=144/270, Step=3/35, loss=10.919033, lr=0.000125, time_each_step=1.17s, eta=1:14:28\n",
      "2022-05-03 12:05:44 [INFO]\t[TRAIN] Epoch=144/270, Step=5/35, loss=11.660962, lr=0.000125, time_each_step=1.21s, eta=1:14:26\n",
      "2022-05-03 12:05:46 [INFO]\t[TRAIN] Epoch=144/270, Step=7/35, loss=11.124626, lr=0.000125, time_each_step=1.22s, eta=1:14:24\n",
      "2022-05-03 12:05:48 [INFO]\t[TRAIN] Epoch=144/270, Step=9/35, loss=10.083359, lr=0.000125, time_each_step=1.24s, eta=1:14:22\n",
      "2022-05-03 12:05:50 [INFO]\t[TRAIN] Epoch=144/270, Step=11/35, loss=5.101084, lr=0.000125, time_each_step=1.23s, eta=1:14:20\n",
      "2022-05-03 12:05:51 [INFO]\t[TRAIN] Epoch=144/270, Step=13/35, loss=11.041475, lr=0.000125, time_each_step=1.23s, eta=1:14:17\n",
      "2022-05-03 12:05:52 [INFO]\t[TRAIN] Epoch=144/270, Step=15/35, loss=9.589337, lr=0.000125, time_each_step=1.18s, eta=1:14:14\n",
      "2022-05-03 12:05:54 [INFO]\t[TRAIN] Epoch=144/270, Step=17/35, loss=8.614779, lr=0.000125, time_each_step=1.19s, eta=1:14:12\n",
      "2022-05-03 12:05:55 [INFO]\t[TRAIN] Epoch=144/270, Step=19/35, loss=6.531075, lr=0.000125, time_each_step=1.19s, eta=1:14:9\n",
      "2022-05-03 12:05:57 [INFO]\t[TRAIN] Epoch=144/270, Step=21/35, loss=9.703245, lr=0.000125, time_each_step=0.85s, eta=1:14:2\n",
      "2022-05-03 12:05:58 [INFO]\t[TRAIN] Epoch=144/270, Step=23/35, loss=7.359112, lr=0.000125, time_each_step=0.82s, eta=1:14:0\n"
     ]
    },
    {
     "name": "stderr",
     "output_type": "stream",
     "text": [
      "libpng warning: iCCP: known incorrect sRGB profile\n"
     ]
    },
    {
     "name": "stdout",
     "output_type": "stream",
     "text": [
      "2022-05-03 12:06:00 [INFO]\t[TRAIN] Epoch=144/270, Step=25/35, loss=7.784017, lr=0.000125, time_each_step=0.77s, eta=1:13:58\n",
      "2022-05-03 12:06:01 [INFO]\t[TRAIN] Epoch=144/270, Step=27/35, loss=7.797478, lr=0.000125, time_each_step=0.73s, eta=1:13:56\n",
      "2022-05-03 12:06:02 [INFO]\t[TRAIN] Epoch=144/270, Step=29/35, loss=5.477292, lr=0.000125, time_each_step=0.69s, eta=1:13:54\n",
      "2022-05-03 12:06:03 [INFO]\t[TRAIN] Epoch=144/270, Step=31/35, loss=8.675396, lr=0.000125, time_each_step=0.66s, eta=1:13:53\n",
      "2022-05-03 12:06:03 [INFO]\t[TRAIN] Epoch=144/270, Step=33/35, loss=8.949634, lr=0.000125, time_each_step=0.63s, eta=1:13:51\n",
      "2022-05-03 12:06:04 [INFO]\t[TRAIN] Epoch=144/270, Step=35/35, loss=7.660347, lr=0.000125, time_each_step=0.59s, eta=1:13:50\n",
      "2022-05-03 12:06:04 [INFO]\t[TRAIN] Epoch 144 finished, loss=8.785909, lr=0.000125 .\n",
      "2022-05-03 12:06:12 [INFO]\t[TRAIN] Epoch=145/270, Step=2/35, loss=7.194774, lr=0.000125, time_each_step=0.92s, eta=1:7:23\n"
     ]
    },
    {
     "name": "stderr",
     "output_type": "stream",
     "text": [
      "libpng warning: iCCP: known incorrect sRGB profile\n"
     ]
    },
    {
     "name": "stdout",
     "output_type": "stream",
     "text": [
      "2022-05-03 12:06:14 [INFO]\t[TRAIN] Epoch=145/270, Step=4/35, loss=8.606875, lr=0.000125, time_each_step=0.93s, eta=1:7:21\n",
      "2022-05-03 12:06:17 [INFO]\t[TRAIN] Epoch=145/270, Step=6/35, loss=10.518479, lr=0.000125, time_each_step=0.98s, eta=1:7:21\n",
      "2022-05-03 12:06:18 [INFO]\t[TRAIN] Epoch=145/270, Step=8/35, loss=8.412612, lr=0.000125, time_each_step=0.98s, eta=1:7:19\n",
      "2022-05-03 12:06:19 [INFO]\t[TRAIN] Epoch=145/270, Step=10/35, loss=9.541745, lr=0.000125, time_each_step=0.98s, eta=1:7:17\n",
      "2022-05-03 12:06:21 [INFO]\t[TRAIN] Epoch=145/270, Step=12/35, loss=7.46798, lr=0.000125, time_each_step=1.02s, eta=1:7:16\n",
      "2022-05-03 12:06:23 [INFO]\t[TRAIN] Epoch=145/270, Step=14/35, loss=6.534093, lr=0.000125, time_each_step=1.06s, eta=1:7:15\n",
      "2022-05-03 12:06:25 [INFO]\t[TRAIN] Epoch=145/270, Step=16/35, loss=9.213172, lr=0.000125, time_each_step=1.1s, eta=1:7:13\n",
      "2022-05-03 12:06:26 [INFO]\t[TRAIN] Epoch=145/270, Step=18/35, loss=7.177537, lr=0.000125, time_each_step=1.13s, eta=1:7:12\n"
     ]
    },
    {
     "name": "stderr",
     "output_type": "stream",
     "text": [
      "libpng warning: iCCP: known incorrect sRGB profile\n"
     ]
    },
    {
     "name": "stdout",
     "output_type": "stream",
     "text": [
      "2022-05-03 12:06:27 [INFO]\t[TRAIN] Epoch=145/270, Step=20/35, loss=10.305419, lr=0.000125, time_each_step=1.17s, eta=1:7:10\n",
      "2022-05-03 12:06:29 [INFO]\t[TRAIN] Epoch=145/270, Step=22/35, loss=10.628574, lr=0.000125, time_each_step=0.83s, eta=1:7:3\n",
      "2022-05-03 12:06:30 [INFO]\t[TRAIN] Epoch=145/270, Step=24/35, loss=9.724874, lr=0.000125, time_each_step=0.8s, eta=1:7:1\n",
      "2022-05-03 12:06:31 [INFO]\t[TRAIN] Epoch=145/270, Step=26/35, loss=13.95599, lr=0.000125, time_each_step=0.71s, eta=1:6:59\n",
      "2022-05-03 12:06:31 [INFO]\t[TRAIN] Epoch=145/270, Step=28/35, loss=5.816704, lr=0.000125, time_each_step=0.68s, eta=1:6:57\n",
      "2022-05-03 12:06:32 [INFO]\t[TRAIN] Epoch=145/270, Step=30/35, loss=11.571664, lr=0.000125, time_each_step=0.65s, eta=1:6:56\n",
      "2022-05-03 12:06:33 [INFO]\t[TRAIN] Epoch=145/270, Step=32/35, loss=7.451629, lr=0.000125, time_each_step=0.6s, eta=1:6:54\n",
      "2022-05-03 12:06:34 [INFO]\t[TRAIN] Epoch=145/270, Step=34/35, loss=6.834966, lr=0.000125, time_each_step=0.55s, eta=1:6:53\n",
      "2022-05-03 12:06:35 [INFO]\t[TRAIN] Epoch 145 finished, loss=8.385102, lr=0.000125 .\n",
      "2022-05-03 12:06:43 [INFO]\t[TRAIN] Epoch=146/270, Step=1/35, loss=10.730513, lr=0.000125, time_each_step=0.9s, eta=1:5:24\n",
      "2022-05-03 12:06:44 [INFO]\t[TRAIN] Epoch=146/270, Step=3/35, loss=8.720384, lr=0.000125, time_each_step=0.91s, eta=1:5:23\n",
      "2022-05-03 12:06:46 [INFO]\t[TRAIN] Epoch=146/270, Step=5/35, loss=12.476774, lr=0.000125, time_each_step=0.91s, eta=1:5:21\n",
      "2022-05-03 12:06:47 [INFO]\t[TRAIN] Epoch=146/270, Step=7/35, loss=6.067976, lr=0.000125, time_each_step=0.92s, eta=1:5:19\n"
     ]
    },
    {
     "name": "stderr",
     "output_type": "stream",
     "text": [
      "libpng warning: iCCP: known incorrect sRGB profile\n"
     ]
    },
    {
     "name": "stdout",
     "output_type": "stream",
     "text": [
      "2022-05-03 12:06:49 [INFO]\t[TRAIN] Epoch=146/270, Step=9/35, loss=4.728198, lr=0.000125, time_each_step=0.92s, eta=1:5:18\n",
      "2022-05-03 12:06:51 [INFO]\t[TRAIN] Epoch=146/270, Step=11/35, loss=6.607309, lr=0.000125, time_each_step=1.02s, eta=1:5:18\n",
      "2022-05-03 12:06:52 [INFO]\t[TRAIN] Epoch=146/270, Step=13/35, loss=7.530207, lr=0.000125, time_each_step=1.05s, eta=1:5:17\n",
      "2022-05-03 12:06:54 [INFO]\t[TRAIN] Epoch=146/270, Step=15/35, loss=6.441898, lr=0.000125, time_each_step=1.09s, eta=1:5:15\n",
      "2022-05-03 12:06:56 [INFO]\t[TRAIN] Epoch=146/270, Step=17/35, loss=4.753605, lr=0.000125, time_each_step=1.12s, eta=1:5:14\n",
      "2022-05-03 12:06:57 [INFO]\t[TRAIN] Epoch=146/270, Step=19/35, loss=8.001055, lr=0.000125, time_each_step=1.14s, eta=1:5:12\n",
      "2022-05-03 12:06:58 [INFO]\t[TRAIN] Epoch=146/270, Step=21/35, loss=7.566563, lr=0.000125, time_each_step=0.79s, eta=1:5:4\n",
      "2022-05-03 12:07:00 [INFO]\t[TRAIN] Epoch=146/270, Step=23/35, loss=6.505479, lr=0.000125, time_each_step=0.77s, eta=1:5:3\n",
      "2022-05-03 12:07:01 [INFO]\t[TRAIN] Epoch=146/270, Step=25/35, loss=13.158253, lr=0.000125, time_each_step=0.77s, eta=1:5:1\n",
      "2022-05-03 12:07:02 [INFO]\t[TRAIN] Epoch=146/270, Step=27/35, loss=5.719887, lr=0.000125, time_each_step=0.76s, eta=1:5:0\n",
      "2022-05-03 12:07:04 [INFO]\t[TRAIN] Epoch=146/270, Step=29/35, loss=8.306308, lr=0.000125, time_each_step=0.76s, eta=1:4:58\n"
     ]
    },
    {
     "name": "stderr",
     "output_type": "stream",
     "text": [
      "libpng warning: iCCP: known incorrect sRGB profile\n"
     ]
    },
    {
     "name": "stdout",
     "output_type": "stream",
     "text": [
      "2022-05-03 12:07:05 [INFO]\t[TRAIN] Epoch=146/270, Step=31/35, loss=11.997128, lr=0.000125, time_each_step=0.68s, eta=1:4:56\n",
      "2022-05-03 12:07:06 [INFO]\t[TRAIN] Epoch=146/270, Step=33/35, loss=7.978244, lr=0.000125, time_each_step=0.66s, eta=1:4:55\n",
      "2022-05-03 12:07:07 [INFO]\t[TRAIN] Epoch=146/270, Step=35/35, loss=9.922521, lr=0.000125, time_each_step=0.63s, eta=1:4:53\n",
      "2022-05-03 12:07:07 [INFO]\t[TRAIN] Epoch 146 finished, loss=8.593597, lr=0.000125 .\n",
      "2022-05-03 12:07:14 [INFO]\t[TRAIN] Epoch=147/270, Step=2/35, loss=6.2337, lr=0.000125, time_each_step=0.91s, eta=1:8:52\n"
     ]
    },
    {
     "name": "stderr",
     "output_type": "stream",
     "text": [
      "libpng warning: iCCP: known incorrect sRGB profile\n"
     ]
    },
    {
     "name": "stdout",
     "output_type": "stream",
     "text": [
      "2022-05-03 12:07:17 [INFO]\t[TRAIN] Epoch=147/270, Step=4/35, loss=11.134597, lr=0.000125, time_each_step=0.99s, eta=1:8:52\n",
      "2022-05-03 12:07:19 [INFO]\t[TRAIN] Epoch=147/270, Step=6/35, loss=12.487178, lr=0.000125, time_each_step=0.98s, eta=1:8:50\n",
      "2022-05-03 12:07:21 [INFO]\t[TRAIN] Epoch=147/270, Step=8/35, loss=6.865486, lr=0.000125, time_each_step=1.04s, eta=1:8:50\n",
      "2022-05-03 12:07:23 [INFO]\t[TRAIN] Epoch=147/270, Step=10/35, loss=7.110723, lr=0.000125, time_each_step=1.07s, eta=1:8:49\n",
      "2022-05-03 12:07:24 [INFO]\t[TRAIN] Epoch=147/270, Step=12/35, loss=5.520079, lr=0.000125, time_each_step=1.08s, eta=1:8:47\n",
      "2022-05-03 12:07:26 [INFO]\t[TRAIN] Epoch=147/270, Step=14/35, loss=8.811856, lr=0.000125, time_each_step=1.08s, eta=1:8:44\n",
      "2022-05-03 12:07:27 [INFO]\t[TRAIN] Epoch=147/270, Step=16/35, loss=6.694441, lr=0.000125, time_each_step=1.1s, eta=1:8:43\n",
      "2022-05-03 12:07:29 [INFO]\t[TRAIN] Epoch=147/270, Step=18/35, loss=8.454344, lr=0.000125, time_each_step=1.14s, eta=1:8:41\n",
      "2022-05-03 12:07:31 [INFO]\t[TRAIN] Epoch=147/270, Step=20/35, loss=7.830859, lr=0.000125, time_each_step=1.15s, eta=1:8:39\n",
      "2022-05-03 12:07:32 [INFO]\t[TRAIN] Epoch=147/270, Step=22/35, loss=8.642672, lr=0.000125, time_each_step=0.88s, eta=1:8:33\n"
     ]
    },
    {
     "name": "stderr",
     "output_type": "stream",
     "text": [
      "libpng warning: iCCP: known incorrect sRGB profile\n"
     ]
    },
    {
     "name": "stdout",
     "output_type": "stream",
     "text": [
      "2022-05-03 12:07:33 [INFO]\t[TRAIN] Epoch=147/270, Step=24/35, loss=4.627477, lr=0.000125, time_each_step=0.8s, eta=1:8:31\n",
      "2022-05-03 12:07:34 [INFO]\t[TRAIN] Epoch=147/270, Step=26/35, loss=10.6539, lr=0.000125, time_each_step=0.79s, eta=1:8:29\n",
      "2022-05-03 12:07:35 [INFO]\t[TRAIN] Epoch=147/270, Step=28/35, loss=6.927035, lr=0.000125, time_each_step=0.71s, eta=1:8:27\n",
      "2022-05-03 12:07:36 [INFO]\t[TRAIN] Epoch=147/270, Step=30/35, loss=8.24884, lr=0.000125, time_each_step=0.67s, eta=1:8:25\n",
      "2022-05-03 12:07:37 [INFO]\t[TRAIN] Epoch=147/270, Step=32/35, loss=7.898178, lr=0.000125, time_each_step=0.65s, eta=1:8:24\n",
      "2022-05-03 12:07:38 [INFO]\t[TRAIN] Epoch=147/270, Step=34/35, loss=8.442348, lr=0.000125, time_each_step=0.62s, eta=1:8:22\n",
      "2022-05-03 12:07:39 [INFO]\t[TRAIN] Epoch 147 finished, loss=8.498013, lr=0.000125 .\n",
      "2022-05-03 12:07:46 [INFO]\t[TRAIN] Epoch=148/270, Step=1/35, loss=7.424662, lr=0.000125, time_each_step=0.95s, eta=1:5:3\n"
     ]
    },
    {
     "name": "stderr",
     "output_type": "stream",
     "text": [
      "libpng warning: iCCP: known incorrect sRGB profile\n"
     ]
    },
    {
     "name": "stdout",
     "output_type": "stream",
     "text": [
      "2022-05-03 12:07:49 [INFO]\t[TRAIN] Epoch=148/270, Step=3/35, loss=8.032557, lr=0.000125, time_each_step=0.99s, eta=1:5:2\n",
      "2022-05-03 12:07:50 [INFO]\t[TRAIN] Epoch=148/270, Step=5/35, loss=8.438747, lr=0.000125, time_each_step=0.99s, eta=1:5:0\n",
      "2022-05-03 12:07:52 [INFO]\t[TRAIN] Epoch=148/270, Step=7/35, loss=12.256409, lr=0.000125, time_each_step=1.02s, eta=1:4:59\n",
      "2022-05-03 12:07:55 [INFO]\t[TRAIN] Epoch=148/270, Step=9/35, loss=8.42859, lr=0.000125, time_each_step=1.07s, eta=1:4:59\n",
      "2022-05-03 12:07:56 [INFO]\t[TRAIN] Epoch=148/270, Step=11/35, loss=7.347965, lr=0.000125, time_each_step=1.08s, eta=1:4:57\n",
      "2022-05-03 12:07:57 [INFO]\t[TRAIN] Epoch=148/270, Step=13/35, loss=6.30407, lr=0.000125, time_each_step=1.1s, eta=1:4:55\n",
      "2022-05-03 12:07:59 [INFO]\t[TRAIN] Epoch=148/270, Step=15/35, loss=8.727344, lr=0.000125, time_each_step=1.13s, eta=1:4:53\n",
      "2022-05-03 12:08:01 [INFO]\t[TRAIN] Epoch=148/270, Step=17/35, loss=7.936571, lr=0.000125, time_each_step=1.16s, eta=1:4:52\n",
      "2022-05-03 12:08:02 [INFO]\t[TRAIN] Epoch=148/270, Step=19/35, loss=6.328334, lr=0.000125, time_each_step=1.19s, eta=1:4:50\n",
      "2022-05-03 12:08:03 [INFO]\t[TRAIN] Epoch=148/270, Step=21/35, loss=8.664083, lr=0.000125, time_each_step=0.86s, eta=1:4:43\n",
      "2022-05-03 12:08:05 [INFO]\t[TRAIN] Epoch=148/270, Step=23/35, loss=7.322909, lr=0.000125, time_each_step=0.81s, eta=1:4:40\n",
      "2022-05-03 12:08:06 [INFO]\t[TRAIN] Epoch=148/270, Step=25/35, loss=7.990122, lr=0.000125, time_each_step=0.79s, eta=1:4:39\n",
      "2022-05-03 12:08:08 [INFO]\t[TRAIN] Epoch=148/270, Step=27/35, loss=10.229728, lr=0.000125, time_each_step=0.77s, eta=1:4:37\n"
     ]
    },
    {
     "name": "stderr",
     "output_type": "stream",
     "text": [
      "libpng warning: iCCP: known incorrect sRGB profile\n"
     ]
    },
    {
     "name": "stdout",
     "output_type": "stream",
     "text": [
      "2022-05-03 12:08:09 [INFO]\t[TRAIN] Epoch=148/270, Step=29/35, loss=7.059331, lr=0.000125, time_each_step=0.73s, eta=1:4:35\n",
      "2022-05-03 12:08:11 [INFO]\t[TRAIN] Epoch=148/270, Step=31/35, loss=5.693419, lr=0.000125, time_each_step=0.73s, eta=1:4:34\n",
      "2022-05-03 12:08:12 [INFO]\t[TRAIN] Epoch=148/270, Step=33/35, loss=8.028034, lr=0.000125, time_each_step=0.72s, eta=1:4:32\n",
      "2022-05-03 12:08:14 [INFO]\t[TRAIN] Epoch=148/270, Step=35/35, loss=6.040515, lr=0.000125, time_each_step=0.75s, eta=1:4:31\n",
      "2022-05-03 12:08:14 [INFO]\t[TRAIN] Epoch 148 finished, loss=8.083982, lr=0.000125 .\n",
      "2022-05-03 12:08:21 [INFO]\t[TRAIN] Epoch=149/270, Step=2/35, loss=6.033952, lr=0.000125, time_each_step=1.03s, eta=1:13:17\n"
     ]
    },
    {
     "name": "stderr",
     "output_type": "stream",
     "text": [
      "libpng warning: iCCP: known incorrect sRGB profile\n"
     ]
    },
    {
     "name": "stdout",
     "output_type": "stream",
     "text": [
      "2022-05-03 12:08:23 [INFO]\t[TRAIN] Epoch=149/270, Step=4/35, loss=12.154514, lr=0.000125, time_each_step=1.03s, eta=1:13:15\n",
      "2022-05-03 12:08:24 [INFO]\t[TRAIN] Epoch=149/270, Step=6/35, loss=8.950786, lr=0.000125, time_each_step=1.04s, eta=1:13:13\n",
      "2022-05-03 12:08:26 [INFO]\t[TRAIN] Epoch=149/270, Step=8/35, loss=7.983425, lr=0.000125, time_each_step=1.06s, eta=1:13:12\n",
      "2022-05-03 12:08:28 [INFO]\t[TRAIN] Epoch=149/270, Step=10/35, loss=9.972975, lr=0.000125, time_each_step=1.08s, eta=1:13:10\n",
      "2022-05-03 12:08:29 [INFO]\t[TRAIN] Epoch=149/270, Step=12/35, loss=8.75278, lr=0.000125, time_each_step=1.05s, eta=1:13:7\n",
      "2022-05-03 12:08:30 [INFO]\t[TRAIN] Epoch=149/270, Step=14/35, loss=7.689694, lr=0.000125, time_each_step=1.06s, eta=1:13:5\n",
      "2022-05-03 12:08:32 [INFO]\t[TRAIN] Epoch=149/270, Step=16/35, loss=4.900605, lr=0.000125, time_each_step=1.05s, eta=1:13:3\n",
      "2022-05-03 12:08:33 [INFO]\t[TRAIN] Epoch=149/270, Step=18/35, loss=12.39162, lr=0.000125, time_each_step=1.04s, eta=1:13:1\n",
      "2022-05-03 12:08:34 [INFO]\t[TRAIN] Epoch=149/270, Step=20/35, loss=4.924821, lr=0.000125, time_each_step=0.99s, eta=1:12:58\n",
      "2022-05-03 12:08:35 [INFO]\t[TRAIN] Epoch=149/270, Step=22/35, loss=10.274713, lr=0.000125, time_each_step=0.69s, eta=1:12:52\n",
      "2022-05-03 12:08:36 [INFO]\t[TRAIN] Epoch=149/270, Step=24/35, loss=9.958782, lr=0.000125, time_each_step=0.68s, eta=1:12:51\n",
      "2022-05-03 12:08:38 [INFO]\t[TRAIN] Epoch=149/270, Step=26/35, loss=9.085304, lr=0.000125, time_each_step=0.66s, eta=1:12:49\n"
     ]
    },
    {
     "name": "stderr",
     "output_type": "stream",
     "text": [
      "libpng warning: iCCP: known incorrect sRGB profile\n"
     ]
    },
    {
     "name": "stdout",
     "output_type": "stream",
     "text": [
      "2022-05-03 12:08:39 [INFO]\t[TRAIN] Epoch=149/270, Step=28/35, loss=9.075523, lr=0.000125, time_each_step=0.66s, eta=1:12:48\n",
      "2022-05-03 12:08:41 [INFO]\t[TRAIN] Epoch=149/270, Step=30/35, loss=12.251525, lr=0.000125, time_each_step=0.64s, eta=1:12:46\n",
      "2022-05-03 12:08:42 [INFO]\t[TRAIN] Epoch=149/270, Step=32/35, loss=8.896127, lr=0.000125, time_each_step=0.64s, eta=1:12:45\n",
      "2022-05-03 12:08:43 [INFO]\t[TRAIN] Epoch=149/270, Step=34/35, loss=6.876963, lr=0.000125, time_each_step=0.62s, eta=1:12:44\n",
      "2022-05-03 12:08:44 [INFO]\t[TRAIN] Epoch 149 finished, loss=8.098509, lr=0.000125 .\n",
      "2022-05-03 12:08:51 [INFO]\t[TRAIN] Epoch=150/270, Step=1/35, loss=7.053543, lr=0.000125, time_each_step=0.97s, eta=1:1:38\n"
     ]
    },
    {
     "name": "stderr",
     "output_type": "stream",
     "text": [
      "libpng warning: iCCP: known incorrect sRGB profile\n"
     ]
    },
    {
     "name": "stdout",
     "output_type": "stream",
     "text": [
      "2022-05-03 12:08:53 [INFO]\t[TRAIN] Epoch=150/270, Step=3/35, loss=8.766949, lr=0.000125, time_each_step=1.02s, eta=1:1:38\n",
      "2022-05-03 12:08:55 [INFO]\t[TRAIN] Epoch=150/270, Step=5/35, loss=11.173834, lr=0.000125, time_each_step=1.07s, eta=1:1:38\n",
      "2022-05-03 12:08:57 [INFO]\t[TRAIN] Epoch=150/270, Step=7/35, loss=9.592949, lr=0.000125, time_each_step=1.08s, eta=1:1:36\n",
      "2022-05-03 12:08:59 [INFO]\t[TRAIN] Epoch=150/270, Step=9/35, loss=10.867155, lr=0.000125, time_each_step=1.1s, eta=1:1:34\n",
      "2022-05-03 12:09:00 [INFO]\t[TRAIN] Epoch=150/270, Step=11/35, loss=7.20765, lr=0.000125, time_each_step=1.1s, eta=1:1:32\n",
      "2022-05-03 12:09:01 [INFO]\t[TRAIN] Epoch=150/270, Step=13/35, loss=5.387088, lr=0.000125, time_each_step=1.09s, eta=1:1:30\n",
      "2022-05-03 12:09:03 [INFO]\t[TRAIN] Epoch=150/270, Step=15/35, loss=8.958499, lr=0.000125, time_each_step=1.12s, eta=1:1:28\n",
      "2022-05-03 12:09:05 [INFO]\t[TRAIN] Epoch=150/270, Step=17/35, loss=7.153734, lr=0.000125, time_each_step=1.14s, eta=1:1:26\n",
      "2022-05-03 12:09:06 [INFO]\t[TRAIN] Epoch=150/270, Step=19/35, loss=8.264164, lr=0.000125, time_each_step=1.15s, eta=1:1:24\n",
      "2022-05-03 12:09:08 [INFO]\t[TRAIN] Epoch=150/270, Step=21/35, loss=5.65637, lr=0.000125, time_each_step=0.81s, eta=1:1:17\n",
      "2022-05-03 12:09:09 [INFO]\t[TRAIN] Epoch=150/270, Step=23/35, loss=11.030288, lr=0.000125, time_each_step=0.78s, eta=1:1:15\n",
      "2022-05-03 12:09:10 [INFO]\t[TRAIN] Epoch=150/270, Step=25/35, loss=10.502752, lr=0.000125, time_each_step=0.75s, eta=1:1:13\n"
     ]
    },
    {
     "name": "stderr",
     "output_type": "stream",
     "text": [
      "libpng warning: iCCP: known incorrect sRGB profile\n"
     ]
    },
    {
     "name": "stdout",
     "output_type": "stream",
     "text": [
      "2022-05-03 12:09:11 [INFO]\t[TRAIN] Epoch=150/270, Step=27/35, loss=8.106355, lr=0.000125, time_each_step=0.72s, eta=1:1:11\n",
      "2022-05-03 12:09:13 [INFO]\t[TRAIN] Epoch=150/270, Step=29/35, loss=6.202985, lr=0.000125, time_each_step=0.71s, eta=1:1:10\n",
      "2022-05-03 12:09:14 [INFO]\t[TRAIN] Epoch=150/270, Step=31/35, loss=11.558205, lr=0.000125, time_each_step=0.7s, eta=1:1:8\n",
      "2022-05-03 12:09:15 [INFO]\t[TRAIN] Epoch=150/270, Step=33/35, loss=5.537208, lr=0.000125, time_each_step=0.67s, eta=1:1:7\n",
      "2022-05-03 12:09:15 [INFO]\t[TRAIN] Epoch=150/270, Step=35/35, loss=6.520149, lr=0.000125, time_each_step=0.61s, eta=1:1:6\n",
      "2022-05-03 12:09:15 [INFO]\t[TRAIN] Epoch 150 finished, loss=8.188956, lr=0.000125 .\n",
      "2022-05-03 12:09:15 [INFO]\tStart to evaluating(total_samples=121, total_steps=16)...\n"
     ]
    },
    {
     "name": "stderr",
     "output_type": "stream",
     "text": [
      "100%|██████████| 16/16 [00:07<00:00,  2.01it/s]\n"
     ]
    },
    {
     "name": "stdout",
     "output_type": "stream",
     "text": [
      "2022-05-03 12:09:23 [INFO]\t[EVAL] Finished, Epoch=150, bbox_map=93.784362 .\n",
      "2022-05-03 12:09:29 [INFO]\tModel saved in output_yolov3_darknet53/best_model.\n",
      "2022-05-03 12:09:30 [INFO]\tModel saved in output_yolov3_darknet53/epoch_150.\n",
      "2022-05-03 12:09:30 [INFO]\tCurrent evaluated best model in eval_dataset is epoch_150, bbox_map=93.78436150263288\n"
     ]
    },
    {
     "name": "stderr",
     "output_type": "stream",
     "text": [
      "libpng warning: iCCP: known incorrect sRGB profile\n"
     ]
    },
    {
     "name": "stdout",
     "output_type": "stream",
     "text": [
      "2022-05-03 12:09:41 [INFO]\t[TRAIN] Epoch=151/270, Step=2/35, loss=7.284361, lr=0.000125, time_each_step=1.06s, eta=1:4:13\n",
      "2022-05-03 12:09:43 [INFO]\t[TRAIN] Epoch=151/270, Step=4/35, loss=7.762359, lr=0.000125, time_each_step=1.07s, eta=1:4:11\n",
      "2022-05-03 12:09:44 [INFO]\t[TRAIN] Epoch=151/270, Step=6/35, loss=6.439563, lr=0.000125, time_each_step=1.07s, eta=1:4:9\n",
      "2022-05-03 12:09:45 [INFO]\t[TRAIN] Epoch=151/270, Step=8/35, loss=9.312297, lr=0.000125, time_each_step=1.07s, eta=1:4:7\n",
      "2022-05-03 12:09:47 [INFO]\t[TRAIN] Epoch=151/270, Step=10/35, loss=8.828639, lr=0.000125, time_each_step=1.07s, eta=1:4:5\n",
      "2022-05-03 12:09:48 [INFO]\t[TRAIN] Epoch=151/270, Step=12/35, loss=8.184388, lr=0.000125, time_each_step=1.1s, eta=1:4:3\n",
      "2022-05-03 12:09:50 [INFO]\t[TRAIN] Epoch=151/270, Step=14/35, loss=7.534738, lr=0.000125, time_each_step=1.12s, eta=1:4:2\n",
      "2022-05-03 12:09:52 [INFO]\t[TRAIN] Epoch=151/270, Step=16/35, loss=4.996686, lr=0.000125, time_each_step=1.14s, eta=1:4:0\n",
      "2022-05-03 12:09:53 [INFO]\t[TRAIN] Epoch=151/270, Step=18/35, loss=9.709092, lr=0.000125, time_each_step=1.18s, eta=1:3:58\n",
      "2022-05-03 12:09:55 [INFO]\t[TRAIN] Epoch=151/270, Step=20/35, loss=10.579573, lr=0.000125, time_each_step=1.22s, eta=1:3:56\n",
      "2022-05-03 12:09:56 [INFO]\t[TRAIN] Epoch=151/270, Step=22/35, loss=5.912331, lr=0.000125, time_each_step=0.74s, eta=1:3:48\n"
     ]
    },
    {
     "name": "stderr",
     "output_type": "stream",
     "text": [
      "libpng warning: iCCP: known incorrect sRGB profile\n"
     ]
    },
    {
     "name": "stdout",
     "output_type": "stream",
     "text": [
      "2022-05-03 12:09:57 [INFO]\t[TRAIN] Epoch=151/270, Step=24/35, loss=11.172915, lr=0.000125, time_each_step=0.73s, eta=1:3:46\n",
      "2022-05-03 12:09:58 [INFO]\t[TRAIN] Epoch=151/270, Step=26/35, loss=10.060307, lr=0.000125, time_each_step=0.72s, eta=1:3:44\n",
      "2022-05-03 12:09:59 [INFO]\t[TRAIN] Epoch=151/270, Step=28/35, loss=8.436964, lr=0.000125, time_each_step=0.7s, eta=1:3:43\n",
      "2022-05-03 12:10:01 [INFO]\t[TRAIN] Epoch=151/270, Step=30/35, loss=9.369685, lr=0.000125, time_each_step=0.7s, eta=1:3:41\n",
      "2022-05-03 12:10:02 [INFO]\t[TRAIN] Epoch=151/270, Step=32/35, loss=11.992338, lr=0.000125, time_each_step=0.67s, eta=1:3:40\n",
      "2022-05-03 12:10:03 [INFO]\t[TRAIN] Epoch=151/270, Step=34/35, loss=8.943268, lr=0.000125, time_each_step=0.65s, eta=1:3:39\n",
      "2022-05-03 12:10:04 [INFO]\t[TRAIN] Epoch 151 finished, loss=8.468125, lr=0.000125 .\n",
      "2022-05-03 12:10:13 [INFO]\t[TRAIN] Epoch=152/270, Step=1/35, loss=4.580747, lr=0.000125, time_each_step=1.05s, eta=1:7:5\n"
     ]
    },
    {
     "name": "stderr",
     "output_type": "stream",
     "text": [
      "libpng warning: iCCP: known incorrect sRGB profile\n"
     ]
    },
    {
     "name": "stdout",
     "output_type": "stream",
     "text": [
      "2022-05-03 12:10:15 [INFO]\t[TRAIN] Epoch=152/270, Step=3/35, loss=8.495938, lr=0.000125, time_each_step=1.08s, eta=1:7:3\n",
      "2022-05-03 12:10:17 [INFO]\t[TRAIN] Epoch=152/270, Step=5/35, loss=8.062504, lr=0.000125, time_each_step=1.09s, eta=1:7:2\n",
      "2022-05-03 12:10:19 [INFO]\t[TRAIN] Epoch=152/270, Step=7/35, loss=8.120544, lr=0.000125, time_each_step=1.13s, eta=1:7:0\n",
      "2022-05-03 12:10:20 [INFO]\t[TRAIN] Epoch=152/270, Step=9/35, loss=8.351683, lr=0.000125, time_each_step=1.14s, eta=1:6:58\n",
      "2022-05-03 12:10:22 [INFO]\t[TRAIN] Epoch=152/270, Step=11/35, loss=11.703673, lr=0.000125, time_each_step=1.15s, eta=1:6:56\n",
      "2022-05-03 12:10:23 [INFO]\t[TRAIN] Epoch=152/270, Step=13/35, loss=9.442975, lr=0.000125, time_each_step=1.17s, eta=1:6:55\n",
      "2022-05-03 12:10:24 [INFO]\t[TRAIN] Epoch=152/270, Step=15/35, loss=5.842824, lr=0.000125, time_each_step=1.17s, eta=1:6:52\n",
      "2022-05-03 12:10:26 [INFO]\t[TRAIN] Epoch=152/270, Step=17/35, loss=11.906406, lr=0.000125, time_each_step=1.2s, eta=1:6:50\n",
      "2022-05-03 12:10:27 [INFO]\t[TRAIN] Epoch=152/270, Step=19/35, loss=6.712419, lr=0.000125, time_each_step=1.19s, eta=1:6:48\n",
      "2022-05-03 12:10:29 [INFO]\t[TRAIN] Epoch=152/270, Step=21/35, loss=8.630437, lr=0.000125, time_each_step=0.81s, eta=1:6:40\n",
      "2022-05-03 12:10:31 [INFO]\t[TRAIN] Epoch=152/270, Step=23/35, loss=9.045298, lr=0.000125, time_each_step=0.77s, eta=1:6:38\n",
      "2022-05-03 12:10:32 [INFO]\t[TRAIN] Epoch=152/270, Step=25/35, loss=7.309359, lr=0.000125, time_each_step=0.77s, eta=1:6:36\n",
      "2022-05-03 12:10:33 [INFO]\t[TRAIN] Epoch=152/270, Step=27/35, loss=5.807761, lr=0.000125, time_each_step=0.73s, eta=1:6:35\n"
     ]
    },
    {
     "name": "stderr",
     "output_type": "stream",
     "text": [
      "libpng warning: iCCP: known incorrect sRGB profile\n"
     ]
    },
    {
     "name": "stdout",
     "output_type": "stream",
     "text": [
      "2022-05-03 12:10:34 [INFO]\t[TRAIN] Epoch=152/270, Step=29/35, loss=13.627581, lr=0.000125, time_each_step=0.69s, eta=1:6:33\n",
      "2022-05-03 12:10:35 [INFO]\t[TRAIN] Epoch=152/270, Step=31/35, loss=5.529119, lr=0.000125, time_each_step=0.67s, eta=1:6:31\n",
      "2022-05-03 12:10:36 [INFO]\t[TRAIN] Epoch=152/270, Step=33/35, loss=7.652144, lr=0.000125, time_each_step=0.63s, eta=1:6:30\n",
      "2022-05-03 12:10:36 [INFO]\t[TRAIN] Epoch=152/270, Step=35/35, loss=6.822139, lr=0.000125, time_each_step=0.6s, eta=1:6:29\n",
      "2022-05-03 12:10:37 [INFO]\t[TRAIN] Epoch 152 finished, loss=8.366252, lr=0.000125 .\n",
      "2022-05-03 12:10:45 [INFO]\t[TRAIN] Epoch=153/270, Step=2/35, loss=10.962074, lr=0.000125, time_each_step=0.93s, eta=1:5:47\n"
     ]
    },
    {
     "name": "stderr",
     "output_type": "stream",
     "text": [
      "libpng warning: iCCP: known incorrect sRGB profile\n"
     ]
    },
    {
     "name": "stdout",
     "output_type": "stream",
     "text": [
      "2022-05-03 12:10:46 [INFO]\t[TRAIN] Epoch=153/270, Step=4/35, loss=7.350978, lr=0.000125, time_each_step=0.94s, eta=1:5:46\n",
      "2022-05-03 12:10:48 [INFO]\t[TRAIN] Epoch=153/270, Step=6/35, loss=10.476224, lr=0.000125, time_each_step=0.93s, eta=1:5:44\n",
      "2022-05-03 12:10:50 [INFO]\t[TRAIN] Epoch=153/270, Step=8/35, loss=7.856718, lr=0.000125, time_each_step=0.93s, eta=1:5:42\n",
      "2022-05-03 12:10:51 [INFO]\t[TRAIN] Epoch=153/270, Step=10/35, loss=14.763395, lr=0.000125, time_each_step=0.92s, eta=1:5:40\n",
      "2022-05-03 12:10:52 [INFO]\t[TRAIN] Epoch=153/270, Step=12/35, loss=5.914617, lr=0.000125, time_each_step=0.93s, eta=1:5:38\n",
      "2022-05-03 12:10:54 [INFO]\t[TRAIN] Epoch=153/270, Step=14/35, loss=7.002528, lr=0.000125, time_each_step=0.98s, eta=1:5:37\n",
      "2022-05-03 12:10:55 [INFO]\t[TRAIN] Epoch=153/270, Step=16/35, loss=7.590592, lr=0.000125, time_each_step=1.01s, eta=1:5:36\n",
      "2022-05-03 12:10:57 [INFO]\t[TRAIN] Epoch=153/270, Step=18/35, loss=8.941105, lr=0.000125, time_each_step=1.03s, eta=1:5:34\n",
      "2022-05-03 12:10:58 [INFO]\t[TRAIN] Epoch=153/270, Step=20/35, loss=10.731796, lr=0.000125, time_each_step=1.07s, eta=1:5:33\n",
      "2022-05-03 12:11:00 [INFO]\t[TRAIN] Epoch=153/270, Step=22/35, loss=5.825053, lr=0.000125, time_each_step=0.74s, eta=1:5:26\n",
      "2022-05-03 12:11:01 [INFO]\t[TRAIN] Epoch=153/270, Step=24/35, loss=11.70307, lr=0.000125, time_each_step=0.73s, eta=1:5:25\n",
      "2022-05-03 12:11:02 [INFO]\t[TRAIN] Epoch=153/270, Step=26/35, loss=10.431215, lr=0.000125, time_each_step=0.72s, eta=1:5:23\n",
      "2022-05-03 12:11:03 [INFO]\t[TRAIN] Epoch=153/270, Step=28/35, loss=6.786465, lr=0.000125, time_each_step=0.68s, eta=1:5:21\n",
      "2022-05-03 12:11:05 [INFO]\t[TRAIN] Epoch=153/270, Step=30/35, loss=6.776756, lr=0.000125, time_each_step=0.68s, eta=1:5:20\n"
     ]
    },
    {
     "name": "stderr",
     "output_type": "stream",
     "text": [
      "libpng warning: iCCP: known incorrect sRGB profile\n"
     ]
    },
    {
     "name": "stdout",
     "output_type": "stream",
     "text": [
      "2022-05-03 12:11:05 [INFO]\t[TRAIN] Epoch=153/270, Step=32/35, loss=8.414543, lr=0.000125, time_each_step=0.65s, eta=1:5:19\n",
      "2022-05-03 12:11:07 [INFO]\t[TRAIN] Epoch=153/270, Step=34/35, loss=10.963145, lr=0.000125, time_each_step=0.66s, eta=1:5:17\n",
      "2022-05-03 12:11:08 [INFO]\t[TRAIN] Epoch 153 finished, loss=8.807172, lr=0.000125 .\n",
      "2022-05-03 12:11:16 [INFO]\t[TRAIN] Epoch=154/270, Step=1/35, loss=6.793243, lr=0.000125, time_each_step=1.0s, eta=1:2:32\n",
      "2022-05-03 12:11:17 [INFO]\t[TRAIN] Epoch=154/270, Step=3/35, loss=8.919099, lr=0.000125, time_each_step=1.01s, eta=1:2:31\n"
     ]
    },
    {
     "name": "stderr",
     "output_type": "stream",
     "text": [
      "libpng warning: iCCP: known incorrect sRGB profile\n"
     ]
    },
    {
     "name": "stdout",
     "output_type": "stream",
     "text": [
      "2022-05-03 12:11:19 [INFO]\t[TRAIN] Epoch=154/270, Step=5/35, loss=11.596714, lr=0.000125, time_each_step=1.04s, eta=1:2:29\n",
      "2022-05-03 12:11:21 [INFO]\t[TRAIN] Epoch=154/270, Step=7/35, loss=8.459649, lr=0.000125, time_each_step=1.03s, eta=1:2:27\n",
      "2022-05-03 12:11:22 [INFO]\t[TRAIN] Epoch=154/270, Step=9/35, loss=7.082792, lr=0.000125, time_each_step=1.04s, eta=1:2:25\n",
      "2022-05-03 12:11:24 [INFO]\t[TRAIN] Epoch=154/270, Step=11/35, loss=5.690712, lr=0.000125, time_each_step=1.04s, eta=1:2:23\n",
      "2022-05-03 12:11:25 [INFO]\t[TRAIN] Epoch=154/270, Step=13/35, loss=13.526872, lr=0.000125, time_each_step=1.08s, eta=1:2:22\n",
      "2022-05-03 12:11:27 [INFO]\t[TRAIN] Epoch=154/270, Step=15/35, loss=6.355991, lr=0.000125, time_each_step=1.11s, eta=1:2:20\n",
      "2022-05-03 12:11:29 [INFO]\t[TRAIN] Epoch=154/270, Step=17/35, loss=7.760867, lr=0.000125, time_each_step=1.16s, eta=1:2:19\n",
      "2022-05-03 12:11:30 [INFO]\t[TRAIN] Epoch=154/270, Step=19/35, loss=7.243713, lr=0.000125, time_each_step=1.13s, eta=1:2:16\n",
      "2022-05-03 12:11:32 [INFO]\t[TRAIN] Epoch=154/270, Step=21/35, loss=7.24052, lr=0.000125, time_each_step=0.78s, eta=1:2:9\n",
      "2022-05-03 12:11:33 [INFO]\t[TRAIN] Epoch=154/270, Step=23/35, loss=6.716849, lr=0.000125, time_each_step=0.77s, eta=1:2:7\n",
      "2022-05-03 12:11:34 [INFO]\t[TRAIN] Epoch=154/270, Step=25/35, loss=8.675586, lr=0.000125, time_each_step=0.73s, eta=1:2:5\n"
     ]
    },
    {
     "name": "stderr",
     "output_type": "stream",
     "text": [
      "libpng warning: iCCP: known incorrect sRGB profile\n"
     ]
    },
    {
     "name": "stdout",
     "output_type": "stream",
     "text": [
      "2022-05-03 12:11:35 [INFO]\t[TRAIN] Epoch=154/270, Step=27/35, loss=7.259161, lr=0.000125, time_each_step=0.71s, eta=1:2:4\n",
      "2022-05-03 12:11:36 [INFO]\t[TRAIN] Epoch=154/270, Step=29/35, loss=10.594357, lr=0.000125, time_each_step=0.69s, eta=1:2:2\n",
      "2022-05-03 12:11:37 [INFO]\t[TRAIN] Epoch=154/270, Step=31/35, loss=8.343243, lr=0.000125, time_each_step=0.67s, eta=1:2:1\n",
      "2022-05-03 12:11:38 [INFO]\t[TRAIN] Epoch=154/270, Step=33/35, loss=15.126047, lr=0.000125, time_each_step=0.64s, eta=1:1:59\n",
      "2022-05-03 12:11:39 [INFO]\t[TRAIN] Epoch=154/270, Step=35/35, loss=7.613126, lr=0.000125, time_each_step=0.57s, eta=1:1:58\n",
      "2022-05-03 12:11:39 [INFO]\t[TRAIN] Epoch 154 finished, loss=8.57849, lr=0.000125 .\n",
      "2022-05-03 12:11:47 [INFO]\t[TRAIN] Epoch=155/270, Step=2/35, loss=5.869252, lr=0.000125, time_each_step=0.87s, eta=1:0:30\n"
     ]
    },
    {
     "name": "stderr",
     "output_type": "stream",
     "text": [
      "libpng warning: iCCP: known incorrect sRGB profile\n"
     ]
    },
    {
     "name": "stdout",
     "output_type": "stream",
     "text": [
      "2022-05-03 12:11:49 [INFO]\t[TRAIN] Epoch=155/270, Step=4/35, loss=9.639162, lr=0.000125, time_each_step=0.9s, eta=1:0:29\n",
      "2022-05-03 12:11:50 [INFO]\t[TRAIN] Epoch=155/270, Step=6/35, loss=10.241443, lr=0.000125, time_each_step=0.91s, eta=1:0:28\n",
      "2022-05-03 12:11:51 [INFO]\t[TRAIN] Epoch=155/270, Step=8/35, loss=9.263487, lr=0.000125, time_each_step=0.93s, eta=1:0:26\n",
      "2022-05-03 12:11:53 [INFO]\t[TRAIN] Epoch=155/270, Step=10/35, loss=8.317518, lr=0.000125, time_each_step=0.94s, eta=1:0:25\n",
      "2022-05-03 12:11:55 [INFO]\t[TRAIN] Epoch=155/270, Step=12/35, loss=7.71591, lr=0.000125, time_each_step=0.98s, eta=1:0:24\n",
      "2022-05-03 12:11:56 [INFO]\t[TRAIN] Epoch=155/270, Step=14/35, loss=9.022486, lr=0.000125, time_each_step=1.0s, eta=1:0:22\n",
      "2022-05-03 12:11:58 [INFO]\t[TRAIN] Epoch=155/270, Step=16/35, loss=6.849145, lr=0.000125, time_each_step=1.04s, eta=1:0:21\n",
      "2022-05-03 12:11:59 [INFO]\t[TRAIN] Epoch=155/270, Step=18/35, loss=7.258086, lr=0.000125, time_each_step=1.07s, eta=1:0:20\n",
      "2022-05-03 12:12:01 [INFO]\t[TRAIN] Epoch=155/270, Step=20/35, loss=5.883814, lr=0.000125, time_each_step=1.1s, eta=1:0:18\n",
      "2022-05-03 12:12:03 [INFO]\t[TRAIN] Epoch=155/270, Step=22/35, loss=7.579001, lr=0.000125, time_each_step=0.81s, eta=1:0:12\n"
     ]
    },
    {
     "name": "stderr",
     "output_type": "stream",
     "text": [
      "libpng warning: iCCP: known incorrect sRGB profile\n"
     ]
    },
    {
     "name": "stdout",
     "output_type": "stream",
     "text": [
      "2022-05-03 12:12:05 [INFO]\t[TRAIN] Epoch=155/270, Step=24/35, loss=9.112366, lr=0.000125, time_each_step=0.81s, eta=1:0:10\n",
      "2022-05-03 12:12:06 [INFO]\t[TRAIN] Epoch=155/270, Step=26/35, loss=7.551732, lr=0.000125, time_each_step=0.82s, eta=1:0:9\n",
      "2022-05-03 12:12:08 [INFO]\t[TRAIN] Epoch=155/270, Step=28/35, loss=11.032253, lr=0.000125, time_each_step=0.81s, eta=1:0:7\n",
      "2022-05-03 12:12:09 [INFO]\t[TRAIN] Epoch=155/270, Step=30/35, loss=8.017902, lr=0.000125, time_each_step=0.82s, eta=1:0:5\n",
      "2022-05-03 12:12:11 [INFO]\t[TRAIN] Epoch=155/270, Step=32/35, loss=6.920521, lr=0.000125, time_each_step=0.8s, eta=1:0:4\n",
      "2022-05-03 12:12:13 [INFO]\t[TRAIN] Epoch=155/270, Step=34/35, loss=4.713099, lr=0.000125, time_each_step=0.82s, eta=1:0:2\n",
      "2022-05-03 12:12:14 [INFO]\t[TRAIN] Epoch 155 finished, loss=7.913045, lr=0.000125 .\n",
      "2022-05-03 12:12:21 [INFO]\t[TRAIN] Epoch=156/270, Step=1/35, loss=10.191365, lr=0.000125, time_each_step=1.13s, eta=1:7:31\n",
      "2022-05-03 12:12:23 [INFO]\t[TRAIN] Epoch=156/270, Step=3/35, loss=11.389798, lr=0.000125, time_each_step=1.16s, eta=1:7:29\n",
      "2022-05-03 12:12:25 [INFO]\t[TRAIN] Epoch=156/270, Step=5/35, loss=13.12353, lr=0.000125, time_each_step=1.16s, eta=1:7:27\n"
     ]
    },
    {
     "name": "stderr",
     "output_type": "stream",
     "text": [
      "libpng warning: iCCP: known incorrect sRGB profile\n"
     ]
    },
    {
     "name": "stdout",
     "output_type": "stream",
     "text": [
      "2022-05-03 12:12:27 [INFO]\t[TRAIN] Epoch=156/270, Step=7/35, loss=8.448008, lr=0.000125, time_each_step=1.18s, eta=1:7:25\n",
      "2022-05-03 12:12:28 [INFO]\t[TRAIN] Epoch=156/270, Step=9/35, loss=8.151957, lr=0.000125, time_each_step=1.15s, eta=1:7:22\n",
      "2022-05-03 12:12:29 [INFO]\t[TRAIN] Epoch=156/270, Step=11/35, loss=9.311886, lr=0.000125, time_each_step=1.14s, eta=1:7:20\n",
      "2022-05-03 12:12:31 [INFO]\t[TRAIN] Epoch=156/270, Step=13/35, loss=8.557896, lr=0.000125, time_each_step=1.14s, eta=1:7:17\n",
      "2022-05-03 12:12:32 [INFO]\t[TRAIN] Epoch=156/270, Step=15/35, loss=8.414806, lr=0.000125, time_each_step=1.15s, eta=1:7:15\n",
      "2022-05-03 12:12:34 [INFO]\t[TRAIN] Epoch=156/270, Step=17/35, loss=8.28618, lr=0.000125, time_each_step=1.13s, eta=1:7:13\n",
      "2022-05-03 12:12:35 [INFO]\t[TRAIN] Epoch=156/270, Step=19/35, loss=6.284646, lr=0.000125, time_each_step=1.12s, eta=1:7:10\n",
      "2022-05-03 12:12:37 [INFO]\t[TRAIN] Epoch=156/270, Step=21/35, loss=10.988517, lr=0.000125, time_each_step=0.81s, eta=1:7:4\n",
      "2022-05-03 12:12:39 [INFO]\t[TRAIN] Epoch=156/270, Step=23/35, loss=6.718184, lr=0.000125, time_each_step=0.78s, eta=1:7:2\n",
      "2022-05-03 12:12:40 [INFO]\t[TRAIN] Epoch=156/270, Step=25/35, loss=6.928563, lr=0.000125, time_each_step=0.77s, eta=1:7:0\n",
      "2022-05-03 12:12:41 [INFO]\t[TRAIN] Epoch=156/270, Step=27/35, loss=13.895086, lr=0.000125, time_each_step=0.73s, eta=1:6:58\n",
      "2022-05-03 12:12:42 [INFO]\t[TRAIN] Epoch=156/270, Step=29/35, loss=6.208437, lr=0.000125, time_each_step=0.7s, eta=1:6:56\n",
      "2022-05-03 12:12:43 [INFO]\t[TRAIN] Epoch=156/270, Step=31/35, loss=16.123035, lr=0.000125, time_each_step=0.67s, eta=1:6:55\n"
     ]
    },
    {
     "name": "stderr",
     "output_type": "stream",
     "text": [
      "libpng warning: iCCP: known incorrect sRGB profile\n"
     ]
    },
    {
     "name": "stdout",
     "output_type": "stream",
     "text": [
      "2022-05-03 12:12:44 [INFO]\t[TRAIN] Epoch=156/270, Step=33/35, loss=7.087793, lr=0.000125, time_each_step=0.67s, eta=1:6:54\n",
      "2022-05-03 12:12:46 [INFO]\t[TRAIN] Epoch=156/270, Step=35/35, loss=7.648829, lr=0.000125, time_each_step=0.68s, eta=1:6:52\n",
      "2022-05-03 12:12:46 [INFO]\t[TRAIN] Epoch 156 finished, loss=8.953972, lr=0.000125 .\n",
      "2022-05-03 12:12:54 [INFO]\t[TRAIN] Epoch=157/270, Step=2/35, loss=5.971036, lr=0.000125, time_each_step=0.98s, eta=1:2:49\n",
      "2022-05-03 12:12:55 [INFO]\t[TRAIN] Epoch=157/270, Step=4/35, loss=9.661803, lr=0.000125, time_each_step=0.99s, eta=1:2:47\n"
     ]
    },
    {
     "name": "stderr",
     "output_type": "stream",
     "text": [
      "libpng warning: iCCP: known incorrect sRGB profile\n"
     ]
    },
    {
     "name": "stdout",
     "output_type": "stream",
     "text": [
      "2022-05-03 12:12:57 [INFO]\t[TRAIN] Epoch=157/270, Step=6/35, loss=9.374491, lr=0.000125, time_each_step=0.98s, eta=1:2:45\n",
      "2022-05-03 12:12:58 [INFO]\t[TRAIN] Epoch=157/270, Step=8/35, loss=8.063437, lr=0.000125, time_each_step=0.98s, eta=1:2:43\n",
      "2022-05-03 12:13:01 [INFO]\t[TRAIN] Epoch=157/270, Step=10/35, loss=11.067199, lr=0.000125, time_each_step=1.02s, eta=1:2:42\n",
      "2022-05-03 12:13:02 [INFO]\t[TRAIN] Epoch=157/270, Step=12/35, loss=4.321286, lr=0.000125, time_each_step=1.03s, eta=1:2:40\n",
      "2022-05-03 12:13:04 [INFO]\t[TRAIN] Epoch=157/270, Step=14/35, loss=7.938343, lr=0.000125, time_each_step=1.07s, eta=1:2:39\n",
      "2022-05-03 12:13:05 [INFO]\t[TRAIN] Epoch=157/270, Step=16/35, loss=7.297215, lr=0.000125, time_each_step=1.09s, eta=1:2:37\n",
      "2022-05-03 12:13:06 [INFO]\t[TRAIN] Epoch=157/270, Step=18/35, loss=6.887805, lr=0.000125, time_each_step=1.07s, eta=1:2:35\n",
      "2022-05-03 12:13:07 [INFO]\t[TRAIN] Epoch=157/270, Step=20/35, loss=11.262245, lr=0.000125, time_each_step=1.05s, eta=1:2:33\n",
      "2022-05-03 12:13:08 [INFO]\t[TRAIN] Epoch=157/270, Step=22/35, loss=6.438156, lr=0.000125, time_each_step=0.73s, eta=1:2:26\n",
      "2022-05-03 12:13:09 [INFO]\t[TRAIN] Epoch=157/270, Step=24/35, loss=9.630636, lr=0.000125, time_each_step=0.7s, eta=1:2:24\n",
      "2022-05-03 12:13:10 [INFO]\t[TRAIN] Epoch=157/270, Step=26/35, loss=7.799324, lr=0.000125, time_each_step=0.68s, eta=1:2:23\n"
     ]
    },
    {
     "name": "stderr",
     "output_type": "stream",
     "text": [
      "libpng warning: iCCP: known incorrect sRGB profile\n"
     ]
    },
    {
     "name": "stdout",
     "output_type": "stream",
     "text": [
      "2022-05-03 12:13:12 [INFO]\t[TRAIN] Epoch=157/270, Step=28/35, loss=5.531088, lr=0.000125, time_each_step=0.67s, eta=1:2:21\n",
      "2022-05-03 12:13:13 [INFO]\t[TRAIN] Epoch=157/270, Step=30/35, loss=7.721845, lr=0.000125, time_each_step=0.62s, eta=1:2:20\n",
      "2022-05-03 12:13:14 [INFO]\t[TRAIN] Epoch=157/270, Step=32/35, loss=8.316782, lr=0.000125, time_each_step=0.57s, eta=1:2:18\n",
      "2022-05-03 12:13:15 [INFO]\t[TRAIN] Epoch=157/270, Step=34/35, loss=8.55437, lr=0.000125, time_each_step=0.55s, eta=1:2:17\n",
      "2022-05-03 12:13:16 [INFO]\t[TRAIN] Epoch 157 finished, loss=8.345256, lr=0.000125 .\n",
      "2022-05-03 12:13:23 [INFO]\t[TRAIN] Epoch=158/270, Step=1/35, loss=8.248055, lr=0.000125, time_each_step=0.91s, eta=0:57:27\n",
      "2022-05-03 12:13:26 [INFO]\t[TRAIN] Epoch=158/270, Step=3/35, loss=11.488844, lr=0.000125, time_each_step=0.97s, eta=0:57:27\n"
     ]
    },
    {
     "name": "stderr",
     "output_type": "stream",
     "text": [
      "libpng warning: iCCP: known incorrect sRGB profile\n"
     ]
    },
    {
     "name": "stdout",
     "output_type": "stream",
     "text": [
      "2022-05-03 12:13:27 [INFO]\t[TRAIN] Epoch=158/270, Step=5/35, loss=9.540151, lr=0.000125, time_each_step=0.98s, eta=0:57:25\n",
      "2022-05-03 12:13:29 [INFO]\t[TRAIN] Epoch=158/270, Step=7/35, loss=8.434466, lr=0.000125, time_each_step=1.03s, eta=0:57:25\n",
      "2022-05-03 12:13:30 [INFO]\t[TRAIN] Epoch=158/270, Step=9/35, loss=9.087039, lr=0.000125, time_each_step=1.03s, eta=0:57:23\n",
      "2022-05-03 12:13:32 [INFO]\t[TRAIN] Epoch=158/270, Step=11/35, loss=5.347076, lr=0.000125, time_each_step=1.07s, eta=0:57:21\n",
      "2022-05-03 12:13:34 [INFO]\t[TRAIN] Epoch=158/270, Step=13/35, loss=9.307429, lr=0.000125, time_each_step=1.08s, eta=0:57:20\n",
      "2022-05-03 12:13:35 [INFO]\t[TRAIN] Epoch=158/270, Step=15/35, loss=7.542386, lr=0.000125, time_each_step=1.1s, eta=0:57:18\n",
      "2022-05-03 12:13:37 [INFO]\t[TRAIN] Epoch=158/270, Step=17/35, loss=8.296926, lr=0.000125, time_each_step=1.14s, eta=0:57:16\n",
      "2022-05-03 12:13:38 [INFO]\t[TRAIN] Epoch=158/270, Step=19/35, loss=7.39888, lr=0.000125, time_each_step=1.16s, eta=0:57:14\n",
      "2022-05-03 12:13:39 [INFO]\t[TRAIN] Epoch=158/270, Step=21/35, loss=9.840713, lr=0.000125, time_each_step=0.8s, eta=0:57:7\n",
      "2022-05-03 12:13:41 [INFO]\t[TRAIN] Epoch=158/270, Step=23/35, loss=7.212116, lr=0.000125, time_each_step=0.74s, eta=0:57:5\n",
      "2022-05-03 12:13:42 [INFO]\t[TRAIN] Epoch=158/270, Step=25/35, loss=11.661345, lr=0.000125, time_each_step=0.74s, eta=0:57:3\n",
      "2022-05-03 12:13:43 [INFO]\t[TRAIN] Epoch=158/270, Step=27/35, loss=13.778751, lr=0.000125, time_each_step=0.7s, eta=0:57:1\n"
     ]
    },
    {
     "name": "stderr",
     "output_type": "stream",
     "text": [
      "libpng warning: iCCP: known incorrect sRGB profile\n"
     ]
    },
    {
     "name": "stdout",
     "output_type": "stream",
     "text": [
      "2022-05-03 12:13:44 [INFO]\t[TRAIN] Epoch=158/270, Step=29/35, loss=4.808684, lr=0.000125, time_each_step=0.7s, eta=0:57:0\n",
      "2022-05-03 12:13:46 [INFO]\t[TRAIN] Epoch=158/270, Step=31/35, loss=10.293889, lr=0.000125, time_each_step=0.69s, eta=0:56:59\n",
      "2022-05-03 12:13:48 [INFO]\t[TRAIN] Epoch=158/270, Step=33/35, loss=8.55853, lr=0.000125, time_each_step=0.68s, eta=0:56:57\n",
      "2022-05-03 12:13:49 [INFO]\t[TRAIN] Epoch=158/270, Step=35/35, loss=7.479505, lr=0.000125, time_each_step=0.67s, eta=0:56:56\n",
      "2022-05-03 12:13:49 [INFO]\t[TRAIN] Epoch 158 finished, loss=8.517939, lr=0.000125 .\n",
      "2022-05-03 12:13:56 [INFO]\t[TRAIN] Epoch=159/270, Step=2/35, loss=8.044449, lr=0.000125, time_each_step=0.97s, eta=1:2:1\n",
      "2022-05-03 12:13:58 [INFO]\t[TRAIN] Epoch=159/270, Step=4/35, loss=13.265706, lr=0.000125, time_each_step=0.99s, eta=1:2:0\n"
     ]
    },
    {
     "name": "stderr",
     "output_type": "stream",
     "text": [
      "libpng warning: iCCP: known incorrect sRGB profile\n"
     ]
    },
    {
     "name": "stdout",
     "output_type": "stream",
     "text": [
      "2022-05-03 12:14:00 [INFO]\t[TRAIN] Epoch=159/270, Step=6/35, loss=10.587247, lr=0.000125, time_each_step=1.01s, eta=1:1:59\n",
      "2022-05-03 12:14:01 [INFO]\t[TRAIN] Epoch=159/270, Step=8/35, loss=7.379857, lr=0.000125, time_each_step=1.03s, eta=1:1:57\n",
      "2022-05-03 12:14:03 [INFO]\t[TRAIN] Epoch=159/270, Step=10/35, loss=6.037, lr=0.000125, time_each_step=1.04s, eta=1:1:55\n",
      "2022-05-03 12:14:05 [INFO]\t[TRAIN] Epoch=159/270, Step=12/35, loss=9.392276, lr=0.000125, time_each_step=1.06s, eta=1:1:54\n",
      "2022-05-03 12:14:06 [INFO]\t[TRAIN] Epoch=159/270, Step=14/35, loss=7.839191, lr=0.000125, time_each_step=1.06s, eta=1:1:52\n",
      "2022-05-03 12:14:07 [INFO]\t[TRAIN] Epoch=159/270, Step=16/35, loss=7.721282, lr=0.000125, time_each_step=1.03s, eta=1:1:49\n",
      "2022-05-03 12:14:08 [INFO]\t[TRAIN] Epoch=159/270, Step=18/35, loss=9.347653, lr=0.000125, time_each_step=1.03s, eta=1:1:47\n",
      "2022-05-03 12:14:10 [INFO]\t[TRAIN] Epoch=159/270, Step=20/35, loss=9.352158, lr=0.000125, time_each_step=1.04s, eta=1:1:45\n",
      "2022-05-03 12:14:11 [INFO]\t[TRAIN] Epoch=159/270, Step=22/35, loss=11.424812, lr=0.000125, time_each_step=0.72s, eta=1:1:39\n",
      "2022-05-03 12:14:13 [INFO]\t[TRAIN] Epoch=159/270, Step=24/35, loss=9.77547, lr=0.000125, time_each_step=0.71s, eta=1:1:37\n",
      "2022-05-03 12:14:14 [INFO]\t[TRAIN] Epoch=159/270, Step=26/35, loss=6.695313, lr=0.000125, time_each_step=0.7s, eta=1:1:36\n",
      "2022-05-03 12:14:15 [INFO]\t[TRAIN] Epoch=159/270, Step=28/35, loss=6.656299, lr=0.000125, time_each_step=0.68s, eta=1:1:34\n"
     ]
    },
    {
     "name": "stderr",
     "output_type": "stream",
     "text": [
      "libpng warning: iCCP: known incorrect sRGB profile\n"
     ]
    },
    {
     "name": "stdout",
     "output_type": "stream",
     "text": [
      "2022-05-03 12:14:17 [INFO]\t[TRAIN] Epoch=159/270, Step=30/35, loss=6.602833, lr=0.000125, time_each_step=0.68s, eta=1:1:33\n",
      "2022-05-03 12:14:18 [INFO]\t[TRAIN] Epoch=159/270, Step=32/35, loss=12.117416, lr=0.000125, time_each_step=0.68s, eta=1:1:32\n",
      "2022-05-03 12:14:19 [INFO]\t[TRAIN] Epoch=159/270, Step=34/35, loss=7.823338, lr=0.000125, time_each_step=0.67s, eta=1:1:30\n",
      "2022-05-03 12:14:20 [INFO]\t[TRAIN] Epoch 159 finished, loss=8.317482, lr=0.000125 .\n",
      "2022-05-03 12:14:27 [INFO]\t[TRAIN] Epoch=160/270, Step=1/35, loss=7.341379, lr=0.000125, time_each_step=0.99s, eta=0:59:22\n",
      "2022-05-03 12:14:29 [INFO]\t[TRAIN] Epoch=160/270, Step=3/35, loss=8.589912, lr=0.000125, time_each_step=1.0s, eta=0:59:20\n",
      "2022-05-03 12:14:30 [INFO]\t[TRAIN] Epoch=160/270, Step=5/35, loss=8.350031, lr=0.000125, time_each_step=1.01s, eta=0:59:18\n"
     ]
    },
    {
     "name": "stderr",
     "output_type": "stream",
     "text": [
      "libpng warning: iCCP: known incorrect sRGB profile\n"
     ]
    },
    {
     "name": "stdout",
     "output_type": "stream",
     "text": [
      "2022-05-03 12:14:32 [INFO]\t[TRAIN] Epoch=160/270, Step=7/35, loss=10.377277, lr=0.000125, time_each_step=1.04s, eta=0:59:17\n",
      "2022-05-03 12:14:34 [INFO]\t[TRAIN] Epoch=160/270, Step=9/35, loss=6.213624, lr=0.000125, time_each_step=1.03s, eta=0:59:15\n",
      "2022-05-03 12:14:35 [INFO]\t[TRAIN] Epoch=160/270, Step=11/35, loss=10.0242, lr=0.000125, time_each_step=1.03s, eta=0:59:13\n",
      "2022-05-03 12:14:37 [INFO]\t[TRAIN] Epoch=160/270, Step=13/35, loss=8.916505, lr=0.000125, time_each_step=1.07s, eta=0:59:12\n",
      "2022-05-03 12:14:39 [INFO]\t[TRAIN] Epoch=160/270, Step=15/35, loss=7.248628, lr=0.000125, time_each_step=1.09s, eta=0:59:10\n",
      "2022-05-03 12:14:40 [INFO]\t[TRAIN] Epoch=160/270, Step=17/35, loss=8.298543, lr=0.000125, time_each_step=1.07s, eta=0:59:7\n",
      "2022-05-03 12:14:41 [INFO]\t[TRAIN] Epoch=160/270, Step=19/35, loss=7.710704, lr=0.000125, time_each_step=1.08s, eta=0:59:5\n",
      "2022-05-03 12:14:43 [INFO]\t[TRAIN] Epoch=160/270, Step=21/35, loss=8.492771, lr=0.000125, time_each_step=0.77s, eta=0:58:59\n",
      "2022-05-03 12:14:44 [INFO]\t[TRAIN] Epoch=160/270, Step=23/35, loss=7.239396, lr=0.000125, time_each_step=0.75s, eta=0:58:57\n",
      "2022-05-03 12:14:45 [INFO]\t[TRAIN] Epoch=160/270, Step=25/35, loss=12.737782, lr=0.000125, time_each_step=0.71s, eta=0:58:55\n"
     ]
    },
    {
     "name": "stderr",
     "output_type": "stream",
     "text": [
      "libpng warning: iCCP: known incorrect sRGB profile\n"
     ]
    },
    {
     "name": "stdout",
     "output_type": "stream",
     "text": [
      "2022-05-03 12:14:46 [INFO]\t[TRAIN] Epoch=160/270, Step=27/35, loss=7.595929, lr=0.000125, time_each_step=0.7s, eta=0:58:54\n",
      "2022-05-03 12:14:48 [INFO]\t[TRAIN] Epoch=160/270, Step=29/35, loss=9.611589, lr=0.000125, time_each_step=0.72s, eta=0:58:52\n",
      "2022-05-03 12:14:49 [INFO]\t[TRAIN] Epoch=160/270, Step=31/35, loss=9.639289, lr=0.000125, time_each_step=0.72s, eta=0:58:51\n",
      "2022-05-03 12:14:51 [INFO]\t[TRAIN] Epoch=160/270, Step=33/35, loss=7.056078, lr=0.000125, time_each_step=0.68s, eta=0:58:49\n",
      "2022-05-03 12:14:52 [INFO]\t[TRAIN] Epoch=160/270, Step=35/35, loss=6.763695, lr=0.000125, time_each_step=0.67s, eta=0:58:48\n",
      "2022-05-03 12:14:53 [INFO]\t[TRAIN] Epoch 160 finished, loss=8.418968, lr=0.000125 .\n",
      "2022-05-03 12:15:01 [INFO]\t[TRAIN] Epoch=161/270, Step=2/35, loss=7.861113, lr=0.000125, time_each_step=1.03s, eta=1:0:11\n",
      "2022-05-03 12:15:04 [INFO]\t[TRAIN] Epoch=161/270, Step=4/35, loss=10.027238, lr=0.000125, time_each_step=1.1s, eta=1:0:11\n"
     ]
    },
    {
     "name": "stderr",
     "output_type": "stream",
     "text": [
      "libpng warning: iCCP: known incorrect sRGB profile\n"
     ]
    },
    {
     "name": "stdout",
     "output_type": "stream",
     "text": [
      "2022-05-03 12:15:05 [INFO]\t[TRAIN] Epoch=161/270, Step=6/35, loss=6.772854, lr=0.000125, time_each_step=1.12s, eta=1:0:10\n",
      "2022-05-03 12:15:07 [INFO]\t[TRAIN] Epoch=161/270, Step=8/35, loss=13.271366, lr=0.000125, time_each_step=1.17s, eta=1:0:9\n",
      "2022-05-03 12:15:09 [INFO]\t[TRAIN] Epoch=161/270, Step=10/35, loss=6.888864, lr=0.000125, time_each_step=1.2s, eta=1:0:7\n",
      "2022-05-03 12:15:10 [INFO]\t[TRAIN] Epoch=161/270, Step=12/35, loss=5.432901, lr=0.000125, time_each_step=1.19s, eta=1:0:5\n",
      "2022-05-03 12:15:12 [INFO]\t[TRAIN] Epoch=161/270, Step=14/35, loss=7.73968, lr=0.000125, time_each_step=1.19s, eta=1:0:2\n",
      "2022-05-03 12:15:13 [INFO]\t[TRAIN] Epoch=161/270, Step=16/35, loss=6.130782, lr=0.000125, time_each_step=1.18s, eta=1:0:0\n",
      "2022-05-03 12:15:15 [INFO]\t[TRAIN] Epoch=161/270, Step=18/35, loss=8.656775, lr=0.000125, time_each_step=1.18s, eta=0:59:57\n",
      "2022-05-03 12:15:16 [INFO]\t[TRAIN] Epoch=161/270, Step=20/35, loss=8.493779, lr=0.000125, time_each_step=1.16s, eta=0:59:55\n",
      "2022-05-03 12:15:18 [INFO]\t[TRAIN] Epoch=161/270, Step=22/35, loss=10.400572, lr=0.000125, time_each_step=0.82s, eta=0:59:48\n",
      "2022-05-03 12:15:19 [INFO]\t[TRAIN] Epoch=161/270, Step=24/35, loss=9.494614, lr=0.000125, time_each_step=0.77s, eta=0:59:46\n",
      "2022-05-03 12:15:20 [INFO]\t[TRAIN] Epoch=161/270, Step=26/35, loss=6.140022, lr=0.000125, time_each_step=0.74s, eta=0:59:44\n"
     ]
    },
    {
     "name": "stderr",
     "output_type": "stream",
     "text": [
      "libpng warning: iCCP: known incorrect sRGB profile\n"
     ]
    },
    {
     "name": "stdout",
     "output_type": "stream",
     "text": [
      "2022-05-03 12:15:22 [INFO]\t[TRAIN] Epoch=161/270, Step=28/35, loss=6.440951, lr=0.000125, time_each_step=0.72s, eta=0:59:42\n",
      "2022-05-03 12:15:23 [INFO]\t[TRAIN] Epoch=161/270, Step=30/35, loss=6.844215, lr=0.000125, time_each_step=0.72s, eta=0:59:41\n",
      "2022-05-03 12:15:25 [INFO]\t[TRAIN] Epoch=161/270, Step=32/35, loss=6.494842, lr=0.000125, time_each_step=0.72s, eta=0:59:39\n",
      "2022-05-03 12:15:26 [INFO]\t[TRAIN] Epoch=161/270, Step=34/35, loss=8.460445, lr=0.000125, time_each_step=0.71s, eta=0:59:38\n",
      "2022-05-03 12:15:28 [INFO]\t[TRAIN] Epoch 161 finished, loss=8.014936, lr=0.000125 .\n",
      "2022-05-03 12:15:36 [INFO]\t[TRAIN] Epoch=162/270, Step=1/35, loss=7.412636, lr=0.000125, time_each_step=1.09s, eta=1:4:18\n"
     ]
    },
    {
     "name": "stderr",
     "output_type": "stream",
     "text": [
      "libpng warning: iCCP: known incorrect sRGB profile\n"
     ]
    },
    {
     "name": "stdout",
     "output_type": "stream",
     "text": [
      "2022-05-03 12:15:38 [INFO]\t[TRAIN] Epoch=162/270, Step=3/35, loss=7.555444, lr=0.000125, time_each_step=1.13s, eta=1:4:17\n",
      "2022-05-03 12:15:39 [INFO]\t[TRAIN] Epoch=162/270, Step=5/35, loss=8.220112, lr=0.000125, time_each_step=1.16s, eta=1:4:15\n",
      "2022-05-03 12:15:41 [INFO]\t[TRAIN] Epoch=162/270, Step=7/35, loss=8.823614, lr=0.000125, time_each_step=1.15s, eta=1:4:13\n",
      "2022-05-03 12:15:43 [INFO]\t[TRAIN] Epoch=162/270, Step=9/35, loss=10.040391, lr=0.000125, time_each_step=1.18s, eta=1:4:11\n",
      "2022-05-03 12:15:44 [INFO]\t[TRAIN] Epoch=162/270, Step=11/35, loss=7.31642, lr=0.000125, time_each_step=1.18s, eta=1:4:9\n",
      "2022-05-03 12:15:45 [INFO]\t[TRAIN] Epoch=162/270, Step=13/35, loss=8.285401, lr=0.000125, time_each_step=1.17s, eta=1:4:6\n",
      "2022-05-03 12:15:47 [INFO]\t[TRAIN] Epoch=162/270, Step=15/35, loss=5.992692, lr=0.000125, time_each_step=1.17s, eta=1:4:4\n",
      "2022-05-03 12:15:49 [INFO]\t[TRAIN] Epoch=162/270, Step=17/35, loss=10.569313, lr=0.000125, time_each_step=1.17s, eta=1:4:2\n",
      "2022-05-03 12:15:50 [INFO]\t[TRAIN] Epoch=162/270, Step=19/35, loss=9.435549, lr=0.000125, time_each_step=1.16s, eta=1:3:59\n",
      "2022-05-03 12:15:51 [INFO]\t[TRAIN] Epoch=162/270, Step=21/35, loss=6.938964, lr=0.000125, time_each_step=0.77s, eta=1:3:51\n",
      "2022-05-03 12:15:52 [INFO]\t[TRAIN] Epoch=162/270, Step=23/35, loss=7.637732, lr=0.000125, time_each_step=0.75s, eta=1:3:50\n",
      "2022-05-03 12:15:53 [INFO]\t[TRAIN] Epoch=162/270, Step=25/35, loss=3.974768, lr=0.000125, time_each_step=0.69s, eta=1:3:47\n",
      "2022-05-03 12:15:54 [INFO]\t[TRAIN] Epoch=162/270, Step=27/35, loss=7.392647, lr=0.000125, time_each_step=0.67s, eta=1:3:46\n",
      "2022-05-03 12:15:55 [INFO]\t[TRAIN] Epoch=162/270, Step=29/35, loss=5.697977, lr=0.000125, time_each_step=0.61s, eta=1:3:44\n",
      "2022-05-03 12:15:56 [INFO]\t[TRAIN] Epoch=162/270, Step=31/35, loss=11.27739, lr=0.000125, time_each_step=0.58s, eta=1:3:43\n",
      "2022-05-03 12:15:56 [INFO]\t[TRAIN] Epoch=162/270, Step=33/35, loss=5.471931, lr=0.000125, time_each_step=0.54s, eta=1:3:42\n"
     ]
    },
    {
     "name": "stderr",
     "output_type": "stream",
     "text": [
      "libpng warning: iCCP: known incorrect sRGB profile\n"
     ]
    },
    {
     "name": "stdout",
     "output_type": "stream",
     "text": [
      "2022-05-03 12:15:58 [INFO]\t[TRAIN] Epoch=162/270, Step=35/35, loss=11.94862, lr=0.000125, time_each_step=0.53s, eta=1:3:41\n",
      "2022-05-03 12:15:58 [INFO]\t[TRAIN] Epoch 162 finished, loss=7.703518, lr=0.000125 .\n",
      "2022-05-03 12:16:05 [INFO]\t[TRAIN] Epoch=163/270, Step=2/35, loss=6.337625, lr=0.000125, time_each_step=0.82s, eta=0:54:53\n"
     ]
    },
    {
     "name": "stderr",
     "output_type": "stream",
     "text": [
      "libpng warning: iCCP: known incorrect sRGB profile\n"
     ]
    },
    {
     "name": "stdout",
     "output_type": "stream",
     "text": [
      "2022-05-03 12:16:07 [INFO]\t[TRAIN] Epoch=163/270, Step=4/35, loss=7.682106, lr=0.000125, time_each_step=0.85s, eta=0:54:52\n",
      "2022-05-03 12:16:09 [INFO]\t[TRAIN] Epoch=163/270, Step=6/35, loss=13.160172, lr=0.000125, time_each_step=0.9s, eta=0:54:52\n",
      "2022-05-03 12:16:11 [INFO]\t[TRAIN] Epoch=163/270, Step=8/35, loss=8.471795, lr=0.000125, time_each_step=0.94s, eta=0:54:51\n",
      "2022-05-03 12:16:13 [INFO]\t[TRAIN] Epoch=163/270, Step=10/35, loss=11.330916, lr=0.000125, time_each_step=0.97s, eta=0:54:50\n",
      "2022-05-03 12:16:14 [INFO]\t[TRAIN] Epoch=163/270, Step=12/35, loss=6.596868, lr=0.000125, time_each_step=1.01s, eta=0:54:49\n",
      "2022-05-03 12:16:16 [INFO]\t[TRAIN] Epoch=163/270, Step=14/35, loss=10.812792, lr=0.000125, time_each_step=1.04s, eta=0:54:48\n",
      "2022-05-03 12:16:17 [INFO]\t[TRAIN] Epoch=163/270, Step=16/35, loss=6.041529, lr=0.000125, time_each_step=1.08s, eta=0:54:46\n",
      "2022-05-03 12:16:19 [INFO]\t[TRAIN] Epoch=163/270, Step=18/35, loss=9.052692, lr=0.000125, time_each_step=1.14s, eta=0:54:45\n",
      "2022-05-03 12:16:20 [INFO]\t[TRAIN] Epoch=163/270, Step=20/35, loss=7.677718, lr=0.000125, time_each_step=1.14s, eta=0:54:43\n",
      "2022-05-03 12:16:22 [INFO]\t[TRAIN] Epoch=163/270, Step=22/35, loss=10.275136, lr=0.000125, time_each_step=0.85s, eta=0:54:37\n",
      "2022-05-03 12:16:24 [INFO]\t[TRAIN] Epoch=163/270, Step=24/35, loss=11.956187, lr=0.000125, time_each_step=0.88s, eta=0:54:36\n",
      "2022-05-03 12:16:25 [INFO]\t[TRAIN] Epoch=163/270, Step=26/35, loss=6.780258, lr=0.000125, time_each_step=0.82s, eta=0:54:33\n"
     ]
    },
    {
     "name": "stderr",
     "output_type": "stream",
     "text": [
      "libpng warning: iCCP: known incorrect sRGB profile\n"
     ]
    },
    {
     "name": "stdout",
     "output_type": "stream",
     "text": [
      "2022-05-03 12:16:27 [INFO]\t[TRAIN] Epoch=163/270, Step=28/35, loss=9.181546, lr=0.000125, time_each_step=0.76s, eta=0:54:31\n",
      "2022-05-03 12:16:28 [INFO]\t[TRAIN] Epoch=163/270, Step=30/35, loss=9.716897, lr=0.000125, time_each_step=0.74s, eta=0:54:30\n",
      "2022-05-03 12:16:28 [INFO]\t[TRAIN] Epoch=163/270, Step=32/35, loss=6.379242, lr=0.000125, time_each_step=0.69s, eta=0:54:28\n",
      "2022-05-03 12:16:29 [INFO]\t[TRAIN] Epoch=163/270, Step=34/35, loss=9.401647, lr=0.000125, time_each_step=0.65s, eta=0:54:27\n",
      "2022-05-03 12:16:29 [INFO]\t[TRAIN] Epoch 163 finished, loss=8.446262, lr=0.000125 .\n",
      "2022-05-03 12:16:36 [INFO]\t[TRAIN] Epoch=164/270, Step=1/35, loss=7.523014, lr=0.000125, time_each_step=0.94s, eta=0:56:57\n"
     ]
    },
    {
     "name": "stderr",
     "output_type": "stream",
     "text": [
      "libpng warning: iCCP: known incorrect sRGB profile\n"
     ]
    },
    {
     "name": "stdout",
     "output_type": "stream",
     "text": [
      "2022-05-03 12:16:39 [INFO]\t[TRAIN] Epoch=164/270, Step=3/35, loss=11.326667, lr=0.000125, time_each_step=0.98s, eta=0:56:57\n",
      "2022-05-03 12:16:40 [INFO]\t[TRAIN] Epoch=164/270, Step=5/35, loss=12.11021, lr=0.000125, time_each_step=0.97s, eta=0:56:55\n",
      "2022-05-03 12:16:42 [INFO]\t[TRAIN] Epoch=164/270, Step=7/35, loss=6.260971, lr=0.000125, time_each_step=0.99s, eta=0:56:53\n",
      "2022-05-03 12:16:44 [INFO]\t[TRAIN] Epoch=164/270, Step=9/35, loss=9.351794, lr=0.000125, time_each_step=0.99s, eta=0:56:51\n",
      "2022-05-03 12:16:45 [INFO]\t[TRAIN] Epoch=164/270, Step=11/35, loss=8.1851, lr=0.000125, time_each_step=1.0s, eta=0:56:49\n",
      "2022-05-03 12:16:47 [INFO]\t[TRAIN] Epoch=164/270, Step=13/35, loss=8.040421, lr=0.000125, time_each_step=1.01s, eta=0:56:48\n",
      "2022-05-03 12:16:48 [INFO]\t[TRAIN] Epoch=164/270, Step=15/35, loss=4.640385, lr=0.000125, time_each_step=1.03s, eta=0:56:46\n",
      "2022-05-03 12:16:49 [INFO]\t[TRAIN] Epoch=164/270, Step=17/35, loss=9.537177, lr=0.000125, time_each_step=1.04s, eta=0:56:44\n",
      "2022-05-03 12:16:51 [INFO]\t[TRAIN] Epoch=164/270, Step=19/35, loss=4.690081, lr=0.000125, time_each_step=1.12s, eta=0:56:43\n",
      "2022-05-03 12:16:53 [INFO]\t[TRAIN] Epoch=164/270, Step=21/35, loss=7.583335, lr=0.000125, time_each_step=0.82s, eta=0:56:37\n"
     ]
    },
    {
     "name": "stderr",
     "output_type": "stream",
     "text": [
      "libpng warning: iCCP: known incorrect sRGB profile\n"
     ]
    },
    {
     "name": "stdout",
     "output_type": "stream",
     "text": [
      "2022-05-03 12:16:54 [INFO]\t[TRAIN] Epoch=164/270, Step=23/35, loss=8.338811, lr=0.000125, time_each_step=0.78s, eta=0:56:35\n",
      "2022-05-03 12:16:55 [INFO]\t[TRAIN] Epoch=164/270, Step=25/35, loss=5.794907, lr=0.000125, time_each_step=0.77s, eta=0:56:33\n",
      "2022-05-03 12:16:57 [INFO]\t[TRAIN] Epoch=164/270, Step=27/35, loss=11.035616, lr=0.000125, time_each_step=0.73s, eta=0:56:31\n",
      "2022-05-03 12:16:57 [INFO]\t[TRAIN] Epoch=164/270, Step=29/35, loss=7.590027, lr=0.000125, time_each_step=0.67s, eta=0:56:29\n",
      "2022-05-03 12:16:59 [INFO]\t[TRAIN] Epoch=164/270, Step=31/35, loss=12.677855, lr=0.000125, time_each_step=0.65s, eta=0:56:28\n",
      "2022-05-03 12:16:59 [INFO]\t[TRAIN] Epoch=164/270, Step=33/35, loss=9.393126, lr=0.000125, time_each_step=0.63s, eta=0:56:27\n",
      "2022-05-03 12:17:00 [INFO]\t[TRAIN] Epoch=164/270, Step=35/35, loss=7.709833, lr=0.000125, time_each_step=0.6s, eta=0:56:25\n",
      "2022-05-03 12:17:00 [INFO]\t[TRAIN] Epoch 164 finished, loss=8.088037, lr=0.000125 .\n"
     ]
    },
    {
     "name": "stderr",
     "output_type": "stream",
     "text": [
      "libpng warning: iCCP: known incorrect sRGB profile\n"
     ]
    },
    {
     "name": "stdout",
     "output_type": "stream",
     "text": [
      "2022-05-03 12:17:08 [INFO]\t[TRAIN] Epoch=165/270, Step=2/35, loss=6.085616, lr=0.000125, time_each_step=0.92s, eta=0:56:44\n",
      "2022-05-03 12:17:10 [INFO]\t[TRAIN] Epoch=165/270, Step=4/35, loss=6.875595, lr=0.000125, time_each_step=0.9s, eta=0:56:42\n",
      "2022-05-03 12:17:11 [INFO]\t[TRAIN] Epoch=165/270, Step=6/35, loss=8.725179, lr=0.000125, time_each_step=0.9s, eta=0:56:40\n",
      "2022-05-03 12:17:13 [INFO]\t[TRAIN] Epoch=165/270, Step=8/35, loss=7.470951, lr=0.000125, time_each_step=0.9s, eta=0:56:38\n",
      "2022-05-03 12:17:15 [INFO]\t[TRAIN] Epoch=165/270, Step=10/35, loss=8.211473, lr=0.000125, time_each_step=0.95s, eta=0:56:37\n",
      "2022-05-03 12:17:16 [INFO]\t[TRAIN] Epoch=165/270, Step=12/35, loss=8.789994, lr=0.000125, time_each_step=0.96s, eta=0:56:36\n",
      "2022-05-03 12:17:18 [INFO]\t[TRAIN] Epoch=165/270, Step=14/35, loss=8.961464, lr=0.000125, time_each_step=0.99s, eta=0:56:34\n",
      "2022-05-03 12:17:19 [INFO]\t[TRAIN] Epoch=165/270, Step=16/35, loss=6.597466, lr=0.000125, time_each_step=1.01s, eta=0:56:33\n",
      "2022-05-03 12:17:20 [INFO]\t[TRAIN] Epoch=165/270, Step=18/35, loss=5.149737, lr=0.000125, time_each_step=1.03s, eta=0:56:31\n",
      "2022-05-03 12:17:22 [INFO]\t[TRAIN] Epoch=165/270, Step=20/35, loss=9.958358, lr=0.000125, time_each_step=1.06s, eta=0:56:30\n",
      "2022-05-03 12:17:23 [INFO]\t[TRAIN] Epoch=165/270, Step=22/35, loss=8.02604, lr=0.000125, time_each_step=0.75s, eta=0:56:23\n",
      "2022-05-03 12:17:25 [INFO]\t[TRAIN] Epoch=165/270, Step=24/35, loss=9.31625, lr=0.000125, time_each_step=0.76s, eta=0:56:22\n"
     ]
    },
    {
     "name": "stderr",
     "output_type": "stream",
     "text": [
      "libpng warning: iCCP: known incorrect sRGB profile\n"
     ]
    },
    {
     "name": "stdout",
     "output_type": "stream",
     "text": [
      "2022-05-03 12:17:26 [INFO]\t[TRAIN] Epoch=165/270, Step=26/35, loss=8.017213, lr=0.000125, time_each_step=0.76s, eta=0:56:21\n",
      "2022-05-03 12:17:28 [INFO]\t[TRAIN] Epoch=165/270, Step=28/35, loss=6.732952, lr=0.000125, time_each_step=0.75s, eta=0:56:19\n",
      "2022-05-03 12:17:29 [INFO]\t[TRAIN] Epoch=165/270, Step=30/35, loss=6.760807, lr=0.000125, time_each_step=0.7s, eta=0:56:17\n",
      "2022-05-03 12:17:30 [INFO]\t[TRAIN] Epoch=165/270, Step=32/35, loss=10.892541, lr=0.000125, time_each_step=0.66s, eta=0:56:16\n",
      "2022-05-03 12:17:31 [INFO]\t[TRAIN] Epoch=165/270, Step=34/35, loss=7.382415, lr=0.000125, time_each_step=0.65s, eta=0:56:14\n",
      "2022-05-03 12:17:31 [INFO]\t[TRAIN] Epoch 165 finished, loss=8.118181, lr=0.000125 .\n",
      "2022-05-03 12:17:39 [INFO]\t[TRAIN] Epoch=166/270, Step=1/35, loss=6.721291, lr=0.000125, time_each_step=0.99s, eta=0:55:10\n"
     ]
    },
    {
     "name": "stderr",
     "output_type": "stream",
     "text": [
      "libpng warning: iCCP: known incorrect sRGB profile\n"
     ]
    },
    {
     "name": "stdout",
     "output_type": "stream",
     "text": [
      "2022-05-03 12:17:41 [INFO]\t[TRAIN] Epoch=166/270, Step=3/35, loss=6.857368, lr=0.000125, time_each_step=1.02s, eta=0:55:9\n",
      "2022-05-03 12:17:43 [INFO]\t[TRAIN] Epoch=166/270, Step=5/35, loss=9.515016, lr=0.000125, time_each_step=1.05s, eta=0:55:8\n",
      "2022-05-03 12:17:46 [INFO]\t[TRAIN] Epoch=166/270, Step=7/35, loss=8.428555, lr=0.000125, time_each_step=1.11s, eta=0:55:8\n",
      "2022-05-03 12:17:47 [INFO]\t[TRAIN] Epoch=166/270, Step=9/35, loss=11.197651, lr=0.000125, time_each_step=1.12s, eta=0:55:6\n",
      "2022-05-03 12:17:49 [INFO]\t[TRAIN] Epoch=166/270, Step=11/35, loss=10.109581, lr=0.000125, time_each_step=1.14s, eta=0:55:4\n",
      "2022-05-03 12:17:51 [INFO]\t[TRAIN] Epoch=166/270, Step=13/35, loss=9.196385, lr=0.000125, time_each_step=1.14s, eta=0:55:2\n",
      "2022-05-03 12:17:52 [INFO]\t[TRAIN] Epoch=166/270, Step=15/35, loss=7.87152, lr=0.000125, time_each_step=1.17s, eta=0:55:0\n",
      "2022-05-03 12:17:55 [INFO]\t[TRAIN] Epoch=166/270, Step=17/35, loss=7.13697, lr=0.000125, time_each_step=1.26s, eta=0:54:59\n",
      "2022-05-03 12:17:57 [INFO]\t[TRAIN] Epoch=166/270, Step=19/35, loss=7.771695, lr=0.000125, time_each_step=1.31s, eta=0:54:58\n",
      "2022-05-03 12:17:59 [INFO]\t[TRAIN] Epoch=166/270, Step=21/35, loss=8.554849, lr=0.000125, time_each_step=0.96s, eta=0:54:50\n"
     ]
    },
    {
     "name": "stderr",
     "output_type": "stream",
     "text": [
      "libpng warning: iCCP: known incorrect sRGB profile\n"
     ]
    },
    {
     "name": "stdout",
     "output_type": "stream",
     "text": [
      "2022-05-03 12:18:00 [INFO]\t[TRAIN] Epoch=166/270, Step=23/35, loss=10.211987, lr=0.000125, time_each_step=0.95s, eta=0:54:48\n",
      "2022-05-03 12:18:01 [INFO]\t[TRAIN] Epoch=166/270, Step=25/35, loss=6.85983, lr=0.000125, time_each_step=0.92s, eta=0:54:46\n",
      "2022-05-03 12:18:02 [INFO]\t[TRAIN] Epoch=166/270, Step=27/35, loss=7.393774, lr=0.000125, time_each_step=0.84s, eta=0:54:43\n",
      "2022-05-03 12:18:03 [INFO]\t[TRAIN] Epoch=166/270, Step=29/35, loss=8.398012, lr=0.000125, time_each_step=0.78s, eta=0:54:41\n",
      "2022-05-03 12:18:04 [INFO]\t[TRAIN] Epoch=166/270, Step=31/35, loss=10.694027, lr=0.000125, time_each_step=0.72s, eta=0:54:40\n",
      "2022-05-03 12:18:04 [INFO]\t[TRAIN] Epoch=166/270, Step=33/35, loss=8.856445, lr=0.000125, time_each_step=0.67s, eta=0:54:38\n",
      "2022-05-03 12:18:05 [INFO]\t[TRAIN] Epoch=166/270, Step=35/35, loss=6.27408, lr=0.000125, time_each_step=0.63s, eta=0:54:37\n",
      "2022-05-03 12:18:05 [INFO]\t[TRAIN] Epoch 166 finished, loss=8.555709, lr=0.000125 .\n",
      "2022-05-03 12:18:11 [INFO]\t[TRAIN] Epoch=167/270, Step=2/35, loss=4.882738, lr=0.000125, time_each_step=0.81s, eta=0:58:57\n",
      "2022-05-03 12:18:13 [INFO]\t[TRAIN] Epoch=167/270, Step=4/35, loss=8.157937, lr=0.000125, time_each_step=0.8s, eta=0:58:55\n"
     ]
    },
    {
     "name": "stderr",
     "output_type": "stream",
     "text": [
      "libpng warning: iCCP: known incorrect sRGB profile\n"
     ]
    },
    {
     "name": "stdout",
     "output_type": "stream",
     "text": [
      "2022-05-03 12:18:15 [INFO]\t[TRAIN] Epoch=167/270, Step=6/35, loss=8.795253, lr=0.000125, time_each_step=0.82s, eta=0:58:54\n",
      "2022-05-03 12:18:17 [INFO]\t[TRAIN] Epoch=167/270, Step=8/35, loss=7.611325, lr=0.000125, time_each_step=0.83s, eta=0:58:53\n",
      "2022-05-03 12:18:18 [INFO]\t[TRAIN] Epoch=167/270, Step=10/35, loss=8.524307, lr=0.000125, time_each_step=0.84s, eta=0:58:52\n",
      "2022-05-03 12:18:19 [INFO]\t[TRAIN] Epoch=167/270, Step=12/35, loss=7.853589, lr=0.000125, time_each_step=0.85s, eta=0:58:50\n",
      "2022-05-03 12:18:21 [INFO]\t[TRAIN] Epoch=167/270, Step=14/35, loss=6.469013, lr=0.000125, time_each_step=0.89s, eta=0:58:49\n",
      "2022-05-03 12:18:22 [INFO]\t[TRAIN] Epoch=167/270, Step=16/35, loss=4.93047, lr=0.000125, time_each_step=0.9s, eta=0:58:48\n",
      "2022-05-03 12:18:23 [INFO]\t[TRAIN] Epoch=167/270, Step=18/35, loss=5.264194, lr=0.000125, time_each_step=0.93s, eta=0:58:47\n",
      "2022-05-03 12:18:24 [INFO]\t[TRAIN] Epoch=167/270, Step=20/35, loss=5.403818, lr=0.000125, time_each_step=0.97s, eta=0:58:45\n",
      "2022-05-03 12:18:26 [INFO]\t[TRAIN] Epoch=167/270, Step=22/35, loss=13.355847, lr=0.000125, time_each_step=0.75s, eta=0:58:40\n",
      "2022-05-03 12:18:28 [INFO]\t[TRAIN] Epoch=167/270, Step=24/35, loss=5.912414, lr=0.000125, time_each_step=0.74s, eta=0:58:39\n",
      "2022-05-03 12:18:29 [INFO]\t[TRAIN] Epoch=167/270, Step=26/35, loss=11.04285, lr=0.000125, time_each_step=0.72s, eta=0:58:37\n"
     ]
    },
    {
     "name": "stderr",
     "output_type": "stream",
     "text": [
      "libpng warning: iCCP: known incorrect sRGB profile\n"
     ]
    },
    {
     "name": "stdout",
     "output_type": "stream",
     "text": [
      "2022-05-03 12:18:31 [INFO]\t[TRAIN] Epoch=167/270, Step=28/35, loss=7.976003, lr=0.000125, time_each_step=0.72s, eta=0:58:36\n",
      "2022-05-03 12:18:33 [INFO]\t[TRAIN] Epoch=167/270, Step=30/35, loss=9.6516, lr=0.000125, time_each_step=0.73s, eta=0:58:34\n",
      "2022-05-03 12:18:34 [INFO]\t[TRAIN] Epoch=167/270, Step=32/35, loss=6.155059, lr=0.000125, time_each_step=0.74s, eta=0:58:33\n",
      "2022-05-03 12:18:36 [INFO]\t[TRAIN] Epoch=167/270, Step=34/35, loss=7.888988, lr=0.000125, time_each_step=0.76s, eta=0:58:31\n",
      "2022-05-03 12:18:37 [INFO]\t[TRAIN] Epoch 167 finished, loss=8.242597, lr=0.000125 .\n",
      "2022-05-03 12:18:44 [INFO]\t[TRAIN] Epoch=168/270, Step=1/35, loss=8.021637, lr=0.000125, time_each_step=1.1s, eta=0:56:3\n",
      "2022-05-03 12:18:46 [INFO]\t[TRAIN] Epoch=168/270, Step=3/35, loss=9.019821, lr=0.000125, time_each_step=1.13s, eta=0:56:2\n",
      "2022-05-03 12:18:47 [INFO]\t[TRAIN] Epoch=168/270, Step=5/35, loss=10.007264, lr=0.000125, time_each_step=1.14s, eta=0:56:0\n"
     ]
    },
    {
     "name": "stderr",
     "output_type": "stream",
     "text": [
      "libpng warning: iCCP: known incorrect sRGB profile\n"
     ]
    },
    {
     "name": "stdout",
     "output_type": "stream",
     "text": [
      "2022-05-03 12:18:49 [INFO]\t[TRAIN] Epoch=168/270, Step=7/35, loss=7.470932, lr=0.000125, time_each_step=1.14s, eta=0:55:57\n",
      "2022-05-03 12:18:51 [INFO]\t[TRAIN] Epoch=168/270, Step=9/35, loss=10.526686, lr=0.000125, time_each_step=1.15s, eta=0:55:55\n",
      "2022-05-03 12:18:53 [INFO]\t[TRAIN] Epoch=168/270, Step=11/35, loss=6.645966, lr=0.000125, time_each_step=1.18s, eta=0:55:54\n",
      "2022-05-03 12:18:55 [INFO]\t[TRAIN] Epoch=168/270, Step=13/35, loss=14.797415, lr=0.000125, time_each_step=1.19s, eta=0:55:52\n",
      "2022-05-03 12:18:56 [INFO]\t[TRAIN] Epoch=168/270, Step=15/35, loss=5.458534, lr=0.000125, time_each_step=1.17s, eta=0:55:49\n",
      "2022-05-03 12:18:57 [INFO]\t[TRAIN] Epoch=168/270, Step=17/35, loss=5.875471, lr=0.000125, time_each_step=1.16s, eta=0:55:46\n",
      "2022-05-03 12:18:59 [INFO]\t[TRAIN] Epoch=168/270, Step=19/35, loss=8.542002, lr=0.000125, time_each_step=1.15s, eta=0:55:44\n",
      "2022-05-03 12:19:01 [INFO]\t[TRAIN] Epoch=168/270, Step=21/35, loss=8.803003, lr=0.000125, time_each_step=0.84s, eta=0:55:37\n"
     ]
    },
    {
     "name": "stderr",
     "output_type": "stream",
     "text": [
      "libpng warning: iCCP: known incorrect sRGB profile\n"
     ]
    },
    {
     "name": "stdout",
     "output_type": "stream",
     "text": [
      "2022-05-03 12:19:02 [INFO]\t[TRAIN] Epoch=168/270, Step=23/35, loss=9.326045, lr=0.000125, time_each_step=0.82s, eta=0:55:35\n",
      "2022-05-03 12:19:04 [INFO]\t[TRAIN] Epoch=168/270, Step=25/35, loss=10.161194, lr=0.000125, time_each_step=0.81s, eta=0:55:34\n",
      "2022-05-03 12:19:05 [INFO]\t[TRAIN] Epoch=168/270, Step=27/35, loss=4.818373, lr=0.000125, time_each_step=0.79s, eta=0:55:32\n",
      "2022-05-03 12:19:06 [INFO]\t[TRAIN] Epoch=168/270, Step=29/35, loss=7.978945, lr=0.000125, time_each_step=0.74s, eta=0:55:30\n",
      "2022-05-03 12:19:07 [INFO]\t[TRAIN] Epoch=168/270, Step=31/35, loss=6.217425, lr=0.000125, time_each_step=0.68s, eta=0:55:28\n",
      "2022-05-03 12:19:08 [INFO]\t[TRAIN] Epoch=168/270, Step=33/35, loss=7.224288, lr=0.000125, time_each_step=0.64s, eta=0:55:27\n",
      "2022-05-03 12:19:09 [INFO]\t[TRAIN] Epoch=168/270, Step=35/35, loss=7.526814, lr=0.000125, time_each_step=0.64s, eta=0:55:25\n",
      "2022-05-03 12:19:09 [INFO]\t[TRAIN] Epoch 168 finished, loss=7.979898, lr=0.000125 .\n",
      "2022-05-03 12:19:20 [INFO]\t[TRAIN] Epoch=169/270, Step=2/35, loss=4.42944, lr=0.000125, time_each_step=1.13s, eta=0:55:52\n"
     ]
    },
    {
     "name": "stderr",
     "output_type": "stream",
     "text": [
      "libpng warning: iCCP: known incorrect sRGB profile\n"
     ]
    },
    {
     "name": "stdout",
     "output_type": "stream",
     "text": [
      "2022-05-03 12:19:22 [INFO]\t[TRAIN] Epoch=169/270, Step=4/35, loss=10.630963, lr=0.000125, time_each_step=1.11s, eta=0:55:49\n",
      "2022-05-03 12:19:23 [INFO]\t[TRAIN] Epoch=169/270, Step=6/35, loss=7.158421, lr=0.000125, time_each_step=1.11s, eta=0:55:47\n",
      "2022-05-03 12:19:25 [INFO]\t[TRAIN] Epoch=169/270, Step=8/35, loss=9.149204, lr=0.000125, time_each_step=1.14s, eta=0:55:45\n",
      "2022-05-03 12:19:27 [INFO]\t[TRAIN] Epoch=169/270, Step=10/35, loss=6.779387, lr=0.000125, time_each_step=1.14s, eta=0:55:43\n",
      "2022-05-03 12:19:28 [INFO]\t[TRAIN] Epoch=169/270, Step=12/35, loss=10.595695, lr=0.000125, time_each_step=1.16s, eta=0:55:41\n",
      "2022-05-03 12:19:30 [INFO]\t[TRAIN] Epoch=169/270, Step=14/35, loss=10.216611, lr=0.000125, time_each_step=1.21s, eta=0:55:40\n",
      "2022-05-03 12:19:32 [INFO]\t[TRAIN] Epoch=169/270, Step=16/35, loss=6.804972, lr=0.000125, time_each_step=1.24s, eta=0:55:38\n",
      "2022-05-03 12:19:33 [INFO]\t[TRAIN] Epoch=169/270, Step=18/35, loss=5.069552, lr=0.000125, time_each_step=1.25s, eta=0:55:36\n",
      "2022-05-03 12:19:34 [INFO]\t[TRAIN] Epoch=169/270, Step=20/35, loss=5.849847, lr=0.000125, time_each_step=1.25s, eta=0:55:33\n",
      "2022-05-03 12:19:36 [INFO]\t[TRAIN] Epoch=169/270, Step=22/35, loss=7.399181, lr=0.000125, time_each_step=0.77s, eta=0:55:24\n",
      "2022-05-03 12:19:37 [INFO]\t[TRAIN] Epoch=169/270, Step=24/35, loss=9.364774, lr=0.000125, time_each_step=0.75s, eta=0:55:23\n",
      "2022-05-03 12:19:37 [INFO]\t[TRAIN] Epoch=169/270, Step=26/35, loss=7.524439, lr=0.000125, time_each_step=0.7s, eta=0:55:21\n"
     ]
    },
    {
     "name": "stderr",
     "output_type": "stream",
     "text": [
      "libpng warning: iCCP: known incorrect sRGB profile\n"
     ]
    },
    {
     "name": "stdout",
     "output_type": "stream",
     "text": [
      "2022-05-03 12:19:39 [INFO]\t[TRAIN] Epoch=169/270, Step=28/35, loss=4.845224, lr=0.000125, time_each_step=0.67s, eta=0:55:19\n",
      "2022-05-03 12:19:39 [INFO]\t[TRAIN] Epoch=169/270, Step=30/35, loss=6.550968, lr=0.000125, time_each_step=0.63s, eta=0:55:17\n",
      "2022-05-03 12:19:40 [INFO]\t[TRAIN] Epoch=169/270, Step=32/35, loss=9.867549, lr=0.000125, time_each_step=0.58s, eta=0:55:16\n",
      "2022-05-03 12:19:41 [INFO]\t[TRAIN] Epoch=169/270, Step=34/35, loss=10.753197, lr=0.000125, time_each_step=0.53s, eta=0:55:15\n",
      "2022-05-03 12:19:41 [INFO]\t[TRAIN] Epoch 169 finished, loss=8.260565, lr=0.000125 .\n",
      "2022-05-03 12:19:47 [INFO]\t[TRAIN] Epoch=170/270, Step=1/35, loss=5.984096, lr=0.000125, time_each_step=0.77s, eta=0:54:21\n"
     ]
    },
    {
     "name": "stderr",
     "output_type": "stream",
     "text": [
      "libpng warning: iCCP: known incorrect sRGB profile\n"
     ]
    },
    {
     "name": "stdout",
     "output_type": "stream",
     "text": [
      "2022-05-03 12:19:49 [INFO]\t[TRAIN] Epoch=170/270, Step=3/35, loss=5.898944, lr=0.000125, time_each_step=0.82s, eta=0:54:21\n",
      "2022-05-03 12:19:52 [INFO]\t[TRAIN] Epoch=170/270, Step=5/35, loss=10.924443, lr=0.000125, time_each_step=0.87s, eta=0:54:21\n",
      "2022-05-03 12:19:53 [INFO]\t[TRAIN] Epoch=170/270, Step=7/35, loss=11.942692, lr=0.000125, time_each_step=0.86s, eta=0:54:19\n",
      "2022-05-03 12:19:54 [INFO]\t[TRAIN] Epoch=170/270, Step=9/35, loss=7.012393, lr=0.000125, time_each_step=0.88s, eta=0:54:18\n",
      "2022-05-03 12:19:56 [INFO]\t[TRAIN] Epoch=170/270, Step=11/35, loss=5.873751, lr=0.000125, time_each_step=0.92s, eta=0:54:17\n",
      "2022-05-03 12:19:58 [INFO]\t[TRAIN] Epoch=170/270, Step=13/35, loss=8.514071, lr=0.000125, time_each_step=0.95s, eta=0:54:16\n",
      "2022-05-03 12:20:00 [INFO]\t[TRAIN] Epoch=170/270, Step=15/35, loss=7.423081, lr=0.000125, time_each_step=1.01s, eta=0:54:15\n",
      "2022-05-03 12:20:01 [INFO]\t[TRAIN] Epoch=170/270, Step=17/35, loss=9.020335, lr=0.000125, time_each_step=1.05s, eta=0:54:14\n",
      "2022-05-03 12:20:03 [INFO]\t[TRAIN] Epoch=170/270, Step=19/35, loss=6.100584, lr=0.000125, time_each_step=1.1s, eta=0:54:12\n",
      "2022-05-03 12:20:04 [INFO]\t[TRAIN] Epoch=170/270, Step=21/35, loss=6.324566, lr=0.000125, time_each_step=0.85s, eta=0:54:7\n"
     ]
    },
    {
     "name": "stderr",
     "output_type": "stream",
     "text": [
      "libpng warning: iCCP: known incorrect sRGB profile\n"
     ]
    },
    {
     "name": "stdout",
     "output_type": "stream",
     "text": [
      "2022-05-03 12:20:05 [INFO]\t[TRAIN] Epoch=170/270, Step=23/35, loss=10.516435, lr=0.000125, time_each_step=0.8s, eta=0:54:5\n",
      "2022-05-03 12:20:07 [INFO]\t[TRAIN] Epoch=170/270, Step=25/35, loss=6.735803, lr=0.000125, time_each_step=0.75s, eta=0:54:2\n",
      "2022-05-03 12:20:08 [INFO]\t[TRAIN] Epoch=170/270, Step=27/35, loss=10.026994, lr=0.000125, time_each_step=0.72s, eta=0:54:1\n",
      "2022-05-03 12:20:08 [INFO]\t[TRAIN] Epoch=170/270, Step=29/35, loss=6.981965, lr=0.000125, time_each_step=0.69s, eta=0:53:59\n",
      "2022-05-03 12:20:09 [INFO]\t[TRAIN] Epoch=170/270, Step=31/35, loss=6.343091, lr=0.000125, time_each_step=0.65s, eta=0:53:58\n",
      "2022-05-03 12:20:09 [INFO]\t[TRAIN] Epoch=170/270, Step=33/35, loss=8.281698, lr=0.000125, time_each_step=0.58s, eta=0:53:56\n",
      "2022-05-03 12:20:10 [INFO]\t[TRAIN] Epoch=170/270, Step=35/35, loss=5.687506, lr=0.000125, time_each_step=0.5s, eta=0:53:55\n",
      "2022-05-03 12:20:10 [INFO]\t[TRAIN] Epoch 170 finished, loss=7.982427, lr=0.000125 .\n",
      "2022-05-03 12:20:18 [INFO]\t[TRAIN] Epoch=171/270, Step=2/35, loss=6.425809, lr=0.000125, time_each_step=0.82s, eta=0:48:48\n",
      "2022-05-03 12:20:19 [INFO]\t[TRAIN] Epoch=171/270, Step=4/35, loss=12.657951, lr=0.000125, time_each_step=0.79s, eta=0:48:46\n"
     ]
    },
    {
     "name": "stderr",
     "output_type": "stream",
     "text": [
      "libpng warning: iCCP: known incorrect sRGB profile\n"
     ]
    },
    {
     "name": "stdout",
     "output_type": "stream",
     "text": [
      "2022-05-03 12:20:20 [INFO]\t[TRAIN] Epoch=171/270, Step=6/35, loss=8.45887, lr=0.000125, time_each_step=0.81s, eta=0:48:45\n",
      "2022-05-03 12:20:22 [INFO]\t[TRAIN] Epoch=171/270, Step=8/35, loss=7.622395, lr=0.000125, time_each_step=0.82s, eta=0:48:43\n",
      "2022-05-03 12:20:24 [INFO]\t[TRAIN] Epoch=171/270, Step=10/35, loss=6.021705, lr=0.000125, time_each_step=0.85s, eta=0:48:42\n",
      "2022-05-03 12:20:25 [INFO]\t[TRAIN] Epoch=171/270, Step=12/35, loss=5.402591, lr=0.000125, time_each_step=0.86s, eta=0:48:41\n",
      "2022-05-03 12:20:26 [INFO]\t[TRAIN] Epoch=171/270, Step=14/35, loss=6.878168, lr=0.000125, time_each_step=0.89s, eta=0:48:40\n",
      "2022-05-03 12:20:28 [INFO]\t[TRAIN] Epoch=171/270, Step=16/35, loss=7.73739, lr=0.000125, time_each_step=0.93s, eta=0:48:39\n",
      "2022-05-03 12:20:29 [INFO]\t[TRAIN] Epoch=171/270, Step=18/35, loss=8.673028, lr=0.000125, time_each_step=0.98s, eta=0:48:38\n",
      "2022-05-03 12:20:30 [INFO]\t[TRAIN] Epoch=171/270, Step=20/35, loss=7.755373, lr=0.000125, time_each_step=1.04s, eta=0:48:37\n",
      "2022-05-03 12:20:32 [INFO]\t[TRAIN] Epoch=171/270, Step=22/35, loss=7.948411, lr=0.000125, time_each_step=0.73s, eta=0:48:31\n",
      "2022-05-03 12:20:33 [INFO]\t[TRAIN] Epoch=171/270, Step=24/35, loss=4.545856, lr=0.000125, time_each_step=0.73s, eta=0:48:29\n",
      "2022-05-03 12:20:35 [INFO]\t[TRAIN] Epoch=171/270, Step=26/35, loss=7.191127, lr=0.000125, time_each_step=0.75s, eta=0:48:28\n"
     ]
    },
    {
     "name": "stderr",
     "output_type": "stream",
     "text": [
      "libpng warning: iCCP: known incorrect sRGB profile\n"
     ]
    },
    {
     "name": "stdout",
     "output_type": "stream",
     "text": [
      "2022-05-03 12:20:37 [INFO]\t[TRAIN] Epoch=171/270, Step=28/35, loss=7.597492, lr=0.000125, time_each_step=0.78s, eta=0:48:27\n",
      "2022-05-03 12:20:39 [INFO]\t[TRAIN] Epoch=171/270, Step=30/35, loss=6.964375, lr=0.000125, time_each_step=0.76s, eta=0:48:25\n",
      "2022-05-03 12:20:40 [INFO]\t[TRAIN] Epoch=171/270, Step=32/35, loss=10.228045, lr=0.000125, time_each_step=0.75s, eta=0:48:24\n",
      "2022-05-03 12:20:41 [INFO]\t[TRAIN] Epoch=171/270, Step=34/35, loss=7.015314, lr=0.000125, time_each_step=0.76s, eta=0:48:22\n",
      "2022-05-03 12:20:43 [INFO]\t[TRAIN] Epoch 171 finished, loss=8.09911, lr=0.000125 .\n",
      "2022-05-03 12:20:50 [INFO]\t[TRAIN] Epoch=172/270, Step=1/35, loss=7.807968, lr=0.000125, time_each_step=1.14s, eta=0:55:52\n",
      "2022-05-03 12:20:53 [INFO]\t[TRAIN] Epoch=172/270, Step=3/35, loss=15.064949, lr=0.000125, time_each_step=1.18s, eta=0:55:51\n"
     ]
    },
    {
     "name": "stderr",
     "output_type": "stream",
     "text": [
      "libpng warning: iCCP: known incorrect sRGB profile\n"
     ]
    },
    {
     "name": "stdout",
     "output_type": "stream",
     "text": [
      "2022-05-03 12:20:55 [INFO]\t[TRAIN] Epoch=172/270, Step=5/35, loss=12.889941, lr=0.000125, time_each_step=1.2s, eta=0:55:49\n",
      "2022-05-03 12:20:56 [INFO]\t[TRAIN] Epoch=172/270, Step=7/35, loss=8.664545, lr=0.000125, time_each_step=1.19s, eta=0:55:46\n",
      "2022-05-03 12:20:57 [INFO]\t[TRAIN] Epoch=172/270, Step=9/35, loss=9.282283, lr=0.000125, time_each_step=1.2s, eta=0:55:44\n",
      "2022-05-03 12:20:59 [INFO]\t[TRAIN] Epoch=172/270, Step=11/35, loss=7.133169, lr=0.000125, time_each_step=1.18s, eta=0:55:41\n",
      "2022-05-03 12:21:00 [INFO]\t[TRAIN] Epoch=172/270, Step=13/35, loss=10.496364, lr=0.000125, time_each_step=1.15s, eta=0:55:38\n",
      "2022-05-03 12:21:02 [INFO]\t[TRAIN] Epoch=172/270, Step=15/35, loss=3.496021, lr=0.000125, time_each_step=1.14s, eta=0:55:36\n",
      "2022-05-03 12:21:03 [INFO]\t[TRAIN] Epoch=172/270, Step=17/35, loss=7.654719, lr=0.000125, time_each_step=1.17s, eta=0:55:34\n",
      "2022-05-03 12:21:05 [INFO]\t[TRAIN] Epoch=172/270, Step=19/35, loss=7.843874, lr=0.000125, time_each_step=1.19s, eta=0:55:32\n",
      "2022-05-03 12:21:07 [INFO]\t[TRAIN] Epoch=172/270, Step=21/35, loss=8.834001, lr=0.000125, time_each_step=0.83s, eta=0:55:25\n",
      "2022-05-03 12:21:09 [INFO]\t[TRAIN] Epoch=172/270, Step=23/35, loss=7.958454, lr=0.000125, time_each_step=0.8s, eta=0:55:23\n",
      "2022-05-03 12:21:10 [INFO]\t[TRAIN] Epoch=172/270, Step=25/35, loss=11.088801, lr=0.000125, time_each_step=0.77s, eta=0:55:21\n",
      "2022-05-03 12:21:11 [INFO]\t[TRAIN] Epoch=172/270, Step=27/35, loss=4.545203, lr=0.000125, time_each_step=0.77s, eta=0:55:19\n",
      "2022-05-03 12:21:12 [INFO]\t[TRAIN] Epoch=172/270, Step=29/35, loss=14.144281, lr=0.000125, time_each_step=0.75s, eta=0:55:18\n"
     ]
    },
    {
     "name": "stderr",
     "output_type": "stream",
     "text": [
      "libpng warning: iCCP: known incorrect sRGB profile\n"
     ]
    },
    {
     "name": "stdout",
     "output_type": "stream",
     "text": [
      "2022-05-03 12:21:14 [INFO]\t[TRAIN] Epoch=172/270, Step=31/35, loss=5.2546, lr=0.000125, time_each_step=0.73s, eta=0:55:16\n",
      "2022-05-03 12:21:14 [INFO]\t[TRAIN] Epoch=172/270, Step=33/35, loss=7.86352, lr=0.000125, time_each_step=0.7s, eta=0:55:14\n",
      "2022-05-03 12:21:16 [INFO]\t[TRAIN] Epoch=172/270, Step=35/35, loss=5.733323, lr=0.000125, time_each_step=0.7s, eta=0:55:13\n",
      "2022-05-03 12:21:16 [INFO]\t[TRAIN] Epoch 172 finished, loss=8.465986, lr=0.000125 .\n",
      "2022-05-03 12:21:23 [INFO]\t[TRAIN] Epoch=173/270, Step=2/35, loss=5.576424, lr=0.000125, time_each_step=0.98s, eta=0:54:58\n",
      "2022-05-03 12:21:25 [INFO]\t[TRAIN] Epoch=173/270, Step=4/35, loss=9.895448, lr=0.000125, time_each_step=0.96s, eta=0:54:55"
     ]
    },
    {
     "name": "stderr",
     "output_type": "stream",
     "text": [
      "libpng warning: iCCP: known incorrect sRGB profile\n"
     ]
    },
    {
     "name": "stdout",
     "output_type": "stream",
     "text": [
      "\n",
      "2022-05-03 12:21:26 [INFO]\t[TRAIN] Epoch=173/270, Step=6/35, loss=5.477051, lr=0.000125, time_each_step=0.96s, eta=0:54:53\n",
      "2022-05-03 12:21:28 [INFO]\t[TRAIN] Epoch=173/270, Step=8/35, loss=5.674865, lr=0.000125, time_each_step=0.93s, eta=0:54:51\n",
      "2022-05-03 12:21:29 [INFO]\t[TRAIN] Epoch=173/270, Step=10/35, loss=5.669948, lr=0.000125, time_each_step=0.93s, eta=0:54:49\n",
      "2022-05-03 12:21:30 [INFO]\t[TRAIN] Epoch=173/270, Step=12/35, loss=11.973761, lr=0.000125, time_each_step=0.92s, eta=0:54:47\n",
      "2022-05-03 12:21:31 [INFO]\t[TRAIN] Epoch=173/270, Step=14/35, loss=11.521288, lr=0.000125, time_each_step=0.92s, eta=0:54:45\n",
      "2022-05-03 12:21:33 [INFO]\t[TRAIN] Epoch=173/270, Step=16/35, loss=6.450741, lr=0.000125, time_each_step=0.96s, eta=0:54:44\n",
      "2022-05-03 12:21:35 [INFO]\t[TRAIN] Epoch=173/270, Step=18/35, loss=5.184055, lr=0.000125, time_each_step=1.0s, eta=0:54:42\n",
      "2022-05-03 12:21:36 [INFO]\t[TRAIN] Epoch=173/270, Step=20/35, loss=6.373117, lr=0.000125, time_each_step=1.0s, eta=0:54:41\n",
      "2022-05-03 12:21:37 [INFO]\t[TRAIN] Epoch=173/270, Step=22/35, loss=9.574143, lr=0.000125, time_each_step=0.7s, eta=0:54:35\n",
      "2022-05-03 12:21:39 [INFO]\t[TRAIN] Epoch=173/270, Step=24/35, loss=8.498523, lr=0.000125, time_each_step=0.69s, eta=0:54:33\n"
     ]
    },
    {
     "name": "stderr",
     "output_type": "stream",
     "text": [
      "libpng warning: iCCP: known incorrect sRGB profile\n"
     ]
    },
    {
     "name": "stdout",
     "output_type": "stream",
     "text": [
      "2022-05-03 12:21:40 [INFO]\t[TRAIN] Epoch=173/270, Step=26/35, loss=8.001966, lr=0.000125, time_each_step=0.71s, eta=0:54:32\n",
      "2022-05-03 12:21:42 [INFO]\t[TRAIN] Epoch=173/270, Step=28/35, loss=9.880201, lr=0.000125, time_each_step=0.73s, eta=0:54:31\n",
      "2022-05-03 12:21:43 [INFO]\t[TRAIN] Epoch=173/270, Step=30/35, loss=5.996126, lr=0.000125, time_each_step=0.72s, eta=0:54:29\n",
      "2022-05-03 12:21:44 [INFO]\t[TRAIN] Epoch=173/270, Step=32/35, loss=8.608408, lr=0.000125, time_each_step=0.69s, eta=0:54:28\n",
      "2022-05-03 12:21:45 [INFO]\t[TRAIN] Epoch=173/270, Step=34/35, loss=9.57314, lr=0.000125, time_each_step=0.71s, eta=0:54:26\n",
      "2022-05-03 12:21:46 [INFO]\t[TRAIN] Epoch 173 finished, loss=7.76524, lr=0.000125 .\n",
      "2022-05-03 12:21:54 [INFO]\t[TRAIN] Epoch=174/270, Step=1/35, loss=10.976061, lr=0.000125, time_each_step=1.01s, eta=0:50:19\n"
     ]
    },
    {
     "name": "stderr",
     "output_type": "stream",
     "text": [
      "libpng warning: iCCP: known incorrect sRGB profile\n"
     ]
    },
    {
     "name": "stdout",
     "output_type": "stream",
     "text": [
      "2022-05-03 12:21:56 [INFO]\t[TRAIN] Epoch=174/270, Step=3/35, loss=9.456661, lr=0.000125, time_each_step=1.04s, eta=0:50:18\n",
      "2022-05-03 12:21:57 [INFO]\t[TRAIN] Epoch=174/270, Step=5/35, loss=6.646642, lr=0.000125, time_each_step=1.05s, eta=0:50:16\n",
      "2022-05-03 12:21:58 [INFO]\t[TRAIN] Epoch=174/270, Step=7/35, loss=8.675429, lr=0.000125, time_each_step=1.04s, eta=0:50:14\n",
      "2022-05-03 12:22:00 [INFO]\t[TRAIN] Epoch=174/270, Step=9/35, loss=10.674508, lr=0.000125, time_each_step=1.07s, eta=0:50:13\n",
      "2022-05-03 12:22:02 [INFO]\t[TRAIN] Epoch=174/270, Step=11/35, loss=7.917653, lr=0.000125, time_each_step=1.05s, eta=0:50:10\n",
      "2022-05-03 12:22:03 [INFO]\t[TRAIN] Epoch=174/270, Step=13/35, loss=10.17045, lr=0.000125, time_each_step=1.04s, eta=0:50:7\n",
      "2022-05-03 12:22:05 [INFO]\t[TRAIN] Epoch=174/270, Step=15/35, loss=8.911369, lr=0.000125, time_each_step=1.06s, eta=0:50:6\n",
      "2022-05-03 12:22:06 [INFO]\t[TRAIN] Epoch=174/270, Step=17/35, loss=9.006979, lr=0.000125, time_each_step=1.11s, eta=0:50:5\n",
      "2022-05-03 12:22:08 [INFO]\t[TRAIN] Epoch=174/270, Step=19/35, loss=8.660587, lr=0.000125, time_each_step=1.11s, eta=0:50:2\n",
      "2022-05-03 12:22:10 [INFO]\t[TRAIN] Epoch=174/270, Step=21/35, loss=5.042119, lr=0.000125, time_each_step=0.82s, eta=0:49:56\n",
      "2022-05-03 12:22:12 [INFO]\t[TRAIN] Epoch=174/270, Step=23/35, loss=10.677059, lr=0.000125, time_each_step=0.82s, eta=0:49:55\n",
      "2022-05-03 12:22:13 [INFO]\t[TRAIN] Epoch=174/270, Step=25/35, loss=8.302982, lr=0.000125, time_each_step=0.8s, eta=0:49:53\n",
      "2022-05-03 12:22:14 [INFO]\t[TRAIN] Epoch=174/270, Step=27/35, loss=10.375217, lr=0.000125, time_each_step=0.81s, eta=0:49:51\n",
      "2022-05-03 12:22:16 [INFO]\t[TRAIN] Epoch=174/270, Step=29/35, loss=9.431786, lr=0.000125, time_each_step=0.77s, eta=0:49:49\n",
      "2022-05-03 12:22:17 [INFO]\t[TRAIN] Epoch=174/270, Step=31/35, loss=6.56813, lr=0.000125, time_each_step=0.74s, eta=0:49:48\n",
      "2022-05-03 12:22:17 [INFO]\t[TRAIN] Epoch=174/270, Step=33/35, loss=4.852728, lr=0.000125, time_each_step=0.7s, eta=0:49:46\n"
     ]
    },
    {
     "name": "stderr",
     "output_type": "stream",
     "text": [
      "libpng warning: iCCP: known incorrect sRGB profile\n"
     ]
    },
    {
     "name": "stdout",
     "output_type": "stream",
     "text": [
      "2022-05-03 12:22:19 [INFO]\t[TRAIN] Epoch=174/270, Step=35/35, loss=7.546479, lr=0.000125, time_each_step=0.7s, eta=0:49:45\n",
      "2022-05-03 12:22:19 [INFO]\t[TRAIN] Epoch 174 finished, loss=8.399048, lr=0.000125 .\n",
      "2022-05-03 12:22:27 [INFO]\t[TRAIN] Epoch=175/270, Step=2/35, loss=4.23199, lr=0.000125, time_each_step=0.99s, eta=0:53:7\n"
     ]
    },
    {
     "name": "stderr",
     "output_type": "stream",
     "text": [
      "libpng warning: iCCP: known incorrect sRGB profile\n"
     ]
    },
    {
     "name": "stdout",
     "output_type": "stream",
     "text": [
      "2022-05-03 12:22:28 [INFO]\t[TRAIN] Epoch=175/270, Step=4/35, loss=7.681102, lr=0.000125, time_each_step=1.02s, eta=0:53:6\n",
      "2022-05-03 12:22:30 [INFO]\t[TRAIN] Epoch=175/270, Step=6/35, loss=9.171538, lr=0.000125, time_each_step=1.01s, eta=0:53:3\n",
      "2022-05-03 12:22:32 [INFO]\t[TRAIN] Epoch=175/270, Step=8/35, loss=6.813018, lr=0.000125, time_each_step=0.99s, eta=0:53:1\n",
      "2022-05-03 12:22:33 [INFO]\t[TRAIN] Epoch=175/270, Step=10/35, loss=5.220474, lr=0.000125, time_each_step=0.99s, eta=0:52:59\n",
      "2022-05-03 12:22:35 [INFO]\t[TRAIN] Epoch=175/270, Step=12/35, loss=6.159338, lr=0.000125, time_each_step=1.02s, eta=0:52:58\n",
      "2022-05-03 12:22:37 [INFO]\t[TRAIN] Epoch=175/270, Step=14/35, loss=9.826753, lr=0.000125, time_each_step=1.03s, eta=0:52:56\n",
      "2022-05-03 12:22:38 [INFO]\t[TRAIN] Epoch=175/270, Step=16/35, loss=5.836227, lr=0.000125, time_each_step=1.08s, eta=0:52:55\n",
      "2022-05-03 12:22:40 [INFO]\t[TRAIN] Epoch=175/270, Step=18/35, loss=10.313642, lr=0.000125, time_each_step=1.13s, eta=0:52:53\n",
      "2022-05-03 12:22:42 [INFO]\t[TRAIN] Epoch=175/270, Step=20/35, loss=5.035544, lr=0.000125, time_each_step=1.13s, eta=0:52:51\n",
      "2022-05-03 12:22:44 [INFO]\t[TRAIN] Epoch=175/270, Step=22/35, loss=6.225454, lr=0.000125, time_each_step=0.85s, eta=0:52:45\n",
      "2022-05-03 12:22:45 [INFO]\t[TRAIN] Epoch=175/270, Step=24/35, loss=6.428711, lr=0.000125, time_each_step=0.82s, eta=0:52:43\n"
     ]
    },
    {
     "name": "stderr",
     "output_type": "stream",
     "text": [
      "libpng warning: iCCP: known incorrect sRGB profile\n"
     ]
    },
    {
     "name": "stdout",
     "output_type": "stream",
     "text": [
      "2022-05-03 12:22:46 [INFO]\t[TRAIN] Epoch=175/270, Step=26/35, loss=7.748493, lr=0.000125, time_each_step=0.79s, eta=0:52:41\n",
      "2022-05-03 12:22:47 [INFO]\t[TRAIN] Epoch=175/270, Step=28/35, loss=9.679157, lr=0.000125, time_each_step=0.75s, eta=0:52:40\n",
      "2022-05-03 12:22:48 [INFO]\t[TRAIN] Epoch=175/270, Step=30/35, loss=7.300112, lr=0.000125, time_each_step=0.74s, eta=0:52:38\n",
      "2022-05-03 12:22:49 [INFO]\t[TRAIN] Epoch=175/270, Step=32/35, loss=7.765813, lr=0.000125, time_each_step=0.7s, eta=0:52:36\n",
      "2022-05-03 12:22:50 [INFO]\t[TRAIN] Epoch=175/270, Step=34/35, loss=10.083497, lr=0.000125, time_each_step=0.64s, eta=0:52:35\n",
      "2022-05-03 12:22:50 [INFO]\t[TRAIN] Epoch 175 finished, loss=7.887987, lr=0.000125 .\n",
      "2022-05-03 12:22:56 [INFO]\t[TRAIN] Epoch=176/270, Step=1/35, loss=6.893577, lr=0.000125, time_each_step=0.89s, eta=0:49:50\n"
     ]
    },
    {
     "name": "stderr",
     "output_type": "stream",
     "text": [
      "libpng warning: iCCP: known incorrect sRGB profile\n"
     ]
    },
    {
     "name": "stdout",
     "output_type": "stream",
     "text": [
      "2022-05-03 12:22:58 [INFO]\t[TRAIN] Epoch=176/270, Step=3/35, loss=8.29495, lr=0.000125, time_each_step=0.9s, eta=0:49:48\n",
      "2022-05-03 12:23:00 [INFO]\t[TRAIN] Epoch=176/270, Step=5/35, loss=5.264984, lr=0.000125, time_each_step=0.92s, eta=0:49:47\n",
      "2022-05-03 12:23:01 [INFO]\t[TRAIN] Epoch=176/270, Step=7/35, loss=9.067131, lr=0.000125, time_each_step=0.89s, eta=0:49:44\n",
      "2022-05-03 12:23:03 [INFO]\t[TRAIN] Epoch=176/270, Step=9/35, loss=10.512046, lr=0.000125, time_each_step=0.91s, eta=0:49:43\n",
      "2022-05-03 12:23:04 [INFO]\t[TRAIN] Epoch=176/270, Step=11/35, loss=8.082567, lr=0.000125, time_each_step=0.91s, eta=0:49:41\n",
      "2022-05-03 12:23:06 [INFO]\t[TRAIN] Epoch=176/270, Step=13/35, loss=7.003424, lr=0.000125, time_each_step=0.93s, eta=0:49:40\n",
      "2022-05-03 12:23:07 [INFO]\t[TRAIN] Epoch=176/270, Step=15/35, loss=7.286399, lr=0.000125, time_each_step=0.94s, eta=0:49:38\n",
      "2022-05-03 12:23:08 [INFO]\t[TRAIN] Epoch=176/270, Step=17/35, loss=6.607322, lr=0.000125, time_each_step=0.96s, eta=0:49:36\n",
      "2022-05-03 12:23:10 [INFO]\t[TRAIN] Epoch=176/270, Step=19/35, loss=6.789921, lr=0.000125, time_each_step=1.01s, eta=0:49:35\n",
      "2022-05-03 12:23:11 [INFO]\t[TRAIN] Epoch=176/270, Step=21/35, loss=7.636991, lr=0.000125, time_each_step=0.74s, eta=0:49:30\n",
      "2022-05-03 12:23:13 [INFO]\t[TRAIN] Epoch=176/270, Step=23/35, loss=6.446543, lr=0.000125, time_each_step=0.72s, eta=0:49:28\n"
     ]
    },
    {
     "name": "stderr",
     "output_type": "stream",
     "text": [
      "libpng warning: iCCP: known incorrect sRGB profile\n"
     ]
    },
    {
     "name": "stdout",
     "output_type": "stream",
     "text": [
      "2022-05-03 12:23:14 [INFO]\t[TRAIN] Epoch=176/270, Step=25/35, loss=7.061772, lr=0.000125, time_each_step=0.7s, eta=0:49:26\n",
      "2022-05-03 12:23:16 [INFO]\t[TRAIN] Epoch=176/270, Step=27/35, loss=8.510511, lr=0.000125, time_each_step=0.71s, eta=0:49:25\n",
      "2022-05-03 12:23:17 [INFO]\t[TRAIN] Epoch=176/270, Step=29/35, loss=9.292579, lr=0.000125, time_each_step=0.68s, eta=0:49:23\n",
      "2022-05-03 12:23:18 [INFO]\t[TRAIN] Epoch=176/270, Step=31/35, loss=15.76885, lr=0.000125, time_each_step=0.66s, eta=0:49:22\n",
      "2022-05-03 12:23:18 [INFO]\t[TRAIN] Epoch=176/270, Step=33/35, loss=6.378017, lr=0.000125, time_each_step=0.63s, eta=0:49:20\n",
      "2022-05-03 12:23:19 [INFO]\t[TRAIN] Epoch=176/270, Step=35/35, loss=9.192917, lr=0.000125, time_each_step=0.62s, eta=0:49:19\n",
      "2022-05-03 12:23:20 [INFO]\t[TRAIN] Epoch 176 finished, loss=8.231787, lr=0.000125 .\n",
      "2022-05-03 12:23:29 [INFO]\t[TRAIN] Epoch=177/270, Step=2/35, loss=8.622091, lr=0.000125, time_each_step=1.01s, eta=0:47:51\n"
     ]
    },
    {
     "name": "stderr",
     "output_type": "stream",
     "text": [
      "libpng warning: iCCP: known incorrect sRGB profile\n"
     ]
    },
    {
     "name": "stdout",
     "output_type": "stream",
     "text": [
      "2022-05-03 12:23:31 [INFO]\t[TRAIN] Epoch=177/270, Step=4/35, loss=12.579084, lr=0.000125, time_each_step=1.05s, eta=0:47:50\n",
      "2022-05-03 12:23:33 [INFO]\t[TRAIN] Epoch=177/270, Step=6/35, loss=7.750926, lr=0.000125, time_each_step=1.09s, eta=0:47:49\n",
      "2022-05-03 12:23:35 [INFO]\t[TRAIN] Epoch=177/270, Step=8/35, loss=7.360897, lr=0.000125, time_each_step=1.1s, eta=0:47:47\n",
      "2022-05-03 12:23:36 [INFO]\t[TRAIN] Epoch=177/270, Step=10/35, loss=7.232981, lr=0.000125, time_each_step=1.1s, eta=0:47:45\n",
      "2022-05-03 12:23:37 [INFO]\t[TRAIN] Epoch=177/270, Step=12/35, loss=6.906289, lr=0.000125, time_each_step=1.08s, eta=0:47:42\n",
      "2022-05-03 12:23:39 [INFO]\t[TRAIN] Epoch=177/270, Step=14/35, loss=4.847875, lr=0.000125, time_each_step=1.09s, eta=0:47:40\n",
      "2022-05-03 12:23:41 [INFO]\t[TRAIN] Epoch=177/270, Step=16/35, loss=11.144095, lr=0.000125, time_each_step=1.13s, eta=0:47:39\n",
      "2022-05-03 12:23:42 [INFO]\t[TRAIN] Epoch=177/270, Step=18/35, loss=7.219857, lr=0.000125, time_each_step=1.16s, eta=0:47:37\n",
      "2022-05-03 12:23:43 [INFO]\t[TRAIN] Epoch=177/270, Step=20/35, loss=7.410755, lr=0.000125, time_each_step=1.16s, eta=0:47:35\n",
      "2022-05-03 12:23:44 [INFO]\t[TRAIN] Epoch=177/270, Step=22/35, loss=6.989573, lr=0.000125, time_each_step=0.75s, eta=0:47:27\n"
     ]
    },
    {
     "name": "stderr",
     "output_type": "stream",
     "text": [
      "libpng warning: iCCP: known incorrect sRGB profile\n"
     ]
    },
    {
     "name": "stdout",
     "output_type": "stream",
     "text": [
      "2022-05-03 12:23:45 [INFO]\t[TRAIN] Epoch=177/270, Step=24/35, loss=7.541512, lr=0.000125, time_each_step=0.71s, eta=0:47:25\n",
      "2022-05-03 12:23:47 [INFO]\t[TRAIN] Epoch=177/270, Step=26/35, loss=7.852173, lr=0.000125, time_each_step=0.68s, eta=0:47:23\n",
      "2022-05-03 12:23:49 [INFO]\t[TRAIN] Epoch=177/270, Step=28/35, loss=9.241978, lr=0.000125, time_each_step=0.7s, eta=0:47:22\n",
      "2022-05-03 12:23:50 [INFO]\t[TRAIN] Epoch=177/270, Step=30/35, loss=5.915822, lr=0.000125, time_each_step=0.69s, eta=0:47:21\n",
      "2022-05-03 12:23:51 [INFO]\t[TRAIN] Epoch=177/270, Step=32/35, loss=6.843698, lr=0.000125, time_each_step=0.67s, eta=0:47:19\n",
      "2022-05-03 12:23:53 [INFO]\t[TRAIN] Epoch=177/270, Step=34/35, loss=6.978469, lr=0.000125, time_each_step=0.69s, eta=0:47:18\n",
      "2022-05-03 12:23:53 [INFO]\t[TRAIN] Epoch 177 finished, loss=8.048871, lr=0.000125 .\n",
      "2022-05-03 12:24:00 [INFO]\t[TRAIN] Epoch=178/270, Step=1/35, loss=7.89036, lr=0.000125, time_each_step=0.94s, eta=0:53:16\n",
      "2022-05-03 12:24:01 [INFO]\t[TRAIN] Epoch=178/270, Step=3/35, loss=8.685913, lr=0.000125, time_each_step=0.94s, eta=0:53:14\n"
     ]
    },
    {
     "name": "stderr",
     "output_type": "stream",
     "text": [
      "libpng warning: iCCP: known incorrect sRGB profile\n"
     ]
    },
    {
     "name": "stdout",
     "output_type": "stream",
     "text": [
      "2022-05-03 12:24:03 [INFO]\t[TRAIN] Epoch=178/270, Step=5/35, loss=12.066741, lr=0.000125, time_each_step=0.98s, eta=0:53:13\n",
      "2022-05-03 12:24:04 [INFO]\t[TRAIN] Epoch=178/270, Step=7/35, loss=8.62288, lr=0.000125, time_each_step=1.0s, eta=0:53:12\n",
      "2022-05-03 12:24:06 [INFO]\t[TRAIN] Epoch=178/270, Step=9/35, loss=7.535376, lr=0.000125, time_each_step=1.02s, eta=0:53:10\n",
      "2022-05-03 12:24:07 [INFO]\t[TRAIN] Epoch=178/270, Step=11/35, loss=9.08826, lr=0.000125, time_each_step=1.02s, eta=0:53:8\n",
      "2022-05-03 12:24:09 [INFO]\t[TRAIN] Epoch=178/270, Step=13/35, loss=8.122754, lr=0.000125, time_each_step=0.98s, eta=0:53:5\n",
      "2022-05-03 12:24:11 [INFO]\t[TRAIN] Epoch=178/270, Step=15/35, loss=7.708405, lr=0.000125, time_each_step=1.04s, eta=0:53:4\n",
      "2022-05-03 12:24:12 [INFO]\t[TRAIN] Epoch=178/270, Step=17/35, loss=6.993998, lr=0.000125, time_each_step=1.04s, eta=0:53:2\n",
      "2022-05-03 12:24:13 [INFO]\t[TRAIN] Epoch=178/270, Step=19/35, loss=7.749498, lr=0.000125, time_each_step=1.03s, eta=0:53:0\n"
     ]
    },
    {
     "name": "stderr",
     "output_type": "stream",
     "text": [
      "libpng warning: iCCP: known incorrect sRGB profile\n"
     ]
    },
    {
     "name": "stdout",
     "output_type": "stream",
     "text": [
      "2022-05-03 12:24:15 [INFO]\t[TRAIN] Epoch=178/270, Step=21/35, loss=9.853679, lr=0.000125, time_each_step=0.76s, eta=0:52:54\n",
      "2022-05-03 12:24:16 [INFO]\t[TRAIN] Epoch=178/270, Step=23/35, loss=8.246353, lr=0.000125, time_each_step=0.77s, eta=0:52:53\n",
      "2022-05-03 12:24:18 [INFO]\t[TRAIN] Epoch=178/270, Step=25/35, loss=8.990187, lr=0.000125, time_each_step=0.74s, eta=0:52:51\n",
      "2022-05-03 12:24:19 [INFO]\t[TRAIN] Epoch=178/270, Step=27/35, loss=7.026431, lr=0.000125, time_each_step=0.74s, eta=0:52:50\n",
      "2022-05-03 12:24:20 [INFO]\t[TRAIN] Epoch=178/270, Step=29/35, loss=16.140112, lr=0.000125, time_each_step=0.7s, eta=0:52:48\n",
      "2022-05-03 12:24:20 [INFO]\t[TRAIN] Epoch=178/270, Step=31/35, loss=10.623981, lr=0.000125, time_each_step=0.65s, eta=0:52:46\n",
      "2022-05-03 12:24:21 [INFO]\t[TRAIN] Epoch=178/270, Step=33/35, loss=6.878902, lr=0.000125, time_each_step=0.63s, eta=0:52:45\n",
      "2022-05-03 12:24:22 [INFO]\t[TRAIN] Epoch=178/270, Step=35/35, loss=6.063686, lr=0.000125, time_each_step=0.56s, eta=0:52:44\n",
      "2022-05-03 12:24:22 [INFO]\t[TRAIN] Epoch 178 finished, loss=8.158991, lr=0.000125 .\n",
      "2022-05-03 12:24:30 [INFO]\t[TRAIN] Epoch=179/270, Step=2/35, loss=7.178377, lr=0.000125, time_each_step=0.91s, eta=0:44:57\n"
     ]
    },
    {
     "name": "stderr",
     "output_type": "stream",
     "text": [
      "libpng warning: iCCP: known incorrect sRGB profile\n"
     ]
    },
    {
     "name": "stdout",
     "output_type": "stream",
     "text": [
      "2022-05-03 12:24:32 [INFO]\t[TRAIN] Epoch=179/270, Step=4/35, loss=5.618883, lr=0.000125, time_each_step=0.92s, eta=0:44:56\n",
      "2022-05-03 12:24:33 [INFO]\t[TRAIN] Epoch=179/270, Step=6/35, loss=10.015709, lr=0.000125, time_each_step=0.91s, eta=0:44:53\n",
      "2022-05-03 12:24:35 [INFO]\t[TRAIN] Epoch=179/270, Step=8/35, loss=8.233644, lr=0.000125, time_each_step=0.9s, eta=0:44:51\n",
      "2022-05-03 12:24:36 [INFO]\t[TRAIN] Epoch=179/270, Step=10/35, loss=10.063381, lr=0.000125, time_each_step=0.92s, eta=0:44:50\n",
      "2022-05-03 12:24:38 [INFO]\t[TRAIN] Epoch=179/270, Step=12/35, loss=9.72738, lr=0.000125, time_each_step=0.93s, eta=0:44:48\n",
      "2022-05-03 12:24:39 [INFO]\t[TRAIN] Epoch=179/270, Step=14/35, loss=7.447265, lr=0.000125, time_each_step=0.97s, eta=0:44:47\n",
      "2022-05-03 12:24:41 [INFO]\t[TRAIN] Epoch=179/270, Step=16/35, loss=8.685281, lr=0.000125, time_each_step=1.03s, eta=0:44:46\n",
      "2022-05-03 12:24:42 [INFO]\t[TRAIN] Epoch=179/270, Step=18/35, loss=6.618212, lr=0.000125, time_each_step=1.06s, eta=0:44:45\n",
      "2022-05-03 12:24:44 [INFO]\t[TRAIN] Epoch=179/270, Step=20/35, loss=10.799089, lr=0.000125, time_each_step=1.09s, eta=0:44:43\n",
      "2022-05-03 12:24:45 [INFO]\t[TRAIN] Epoch=179/270, Step=22/35, loss=6.227392, lr=0.000125, time_each_step=0.74s, eta=0:44:36\n",
      "2022-05-03 12:24:46 [INFO]\t[TRAIN] Epoch=179/270, Step=24/35, loss=9.431254, lr=0.000125, time_each_step=0.73s, eta=0:44:35\n",
      "2022-05-03 12:24:48 [INFO]\t[TRAIN] Epoch=179/270, Step=26/35, loss=11.036193, lr=0.000125, time_each_step=0.74s, eta=0:44:33\n",
      "2022-05-03 12:24:49 [INFO]\t[TRAIN] Epoch=179/270, Step=28/35, loss=8.68822, lr=0.000125, time_each_step=0.73s, eta=0:44:32\n",
      "2022-05-03 12:24:50 [INFO]\t[TRAIN] Epoch=179/270, Step=30/35, loss=8.118566, lr=0.000125, time_each_step=0.69s, eta=0:44:30\n",
      "2022-05-03 12:24:51 [INFO]\t[TRAIN] Epoch=179/270, Step=32/35, loss=8.686606, lr=0.000125, time_each_step=0.69s, eta=0:44:29\n"
     ]
    },
    {
     "name": "stderr",
     "output_type": "stream",
     "text": [
      "libpng warning: iCCP: known incorrect sRGB profile\n"
     ]
    },
    {
     "name": "stdout",
     "output_type": "stream",
     "text": [
      "2022-05-03 12:24:53 [INFO]\t[TRAIN] Epoch=179/270, Step=34/35, loss=6.844676, lr=0.000125, time_each_step=0.72s, eta=0:44:28\n",
      "2022-05-03 12:24:54 [INFO]\t[TRAIN] Epoch 179 finished, loss=7.990178, lr=0.000125 .\n",
      "2022-05-03 12:25:02 [INFO]\t[TRAIN] Epoch=180/270, Step=1/35, loss=7.643933, lr=0.000125, time_each_step=1.02s, eta=0:50:10\n"
     ]
    },
    {
     "name": "stderr",
     "output_type": "stream",
     "text": [
      "libpng warning: iCCP: known incorrect sRGB profile\n"
     ]
    },
    {
     "name": "stdout",
     "output_type": "stream",
     "text": [
      "2022-05-03 12:25:03 [INFO]\t[TRAIN] Epoch=180/270, Step=3/35, loss=9.931234, lr=0.000125, time_each_step=1.03s, eta=0:50:8\n",
      "2022-05-03 12:25:05 [INFO]\t[TRAIN] Epoch=180/270, Step=5/35, loss=9.471633, lr=0.000125, time_each_step=1.05s, eta=0:50:7\n",
      "2022-05-03 12:25:07 [INFO]\t[TRAIN] Epoch=180/270, Step=7/35, loss=9.01674, lr=0.000125, time_each_step=1.07s, eta=0:50:5\n",
      "2022-05-03 12:25:08 [INFO]\t[TRAIN] Epoch=180/270, Step=9/35, loss=8.211566, lr=0.000125, time_each_step=1.08s, eta=0:50:3\n",
      "2022-05-03 12:25:09 [INFO]\t[TRAIN] Epoch=180/270, Step=11/35, loss=6.179323, lr=0.000125, time_each_step=1.07s, eta=0:50:1\n",
      "2022-05-03 12:25:11 [INFO]\t[TRAIN] Epoch=180/270, Step=13/35, loss=7.347162, lr=0.000125, time_each_step=1.08s, eta=0:49:59\n",
      "2022-05-03 12:25:12 [INFO]\t[TRAIN] Epoch=180/270, Step=15/35, loss=9.981032, lr=0.000125, time_each_step=1.12s, eta=0:49:58\n",
      "2022-05-03 12:25:14 [INFO]\t[TRAIN] Epoch=180/270, Step=17/35, loss=4.674449, lr=0.000125, time_each_step=1.12s, eta=0:49:55\n",
      "2022-05-03 12:25:15 [INFO]\t[TRAIN] Epoch=180/270, Step=19/35, loss=10.076945, lr=0.000125, time_each_step=1.07s, eta=0:49:52\n",
      "2022-05-03 12:25:16 [INFO]\t[TRAIN] Epoch=180/270, Step=21/35, loss=7.810806, lr=0.000125, time_each_step=0.74s, eta=0:49:46\n",
      "2022-05-03 12:25:18 [INFO]\t[TRAIN] Epoch=180/270, Step=23/35, loss=10.092415, lr=0.000125, time_each_step=0.75s, eta=0:49:44\n"
     ]
    },
    {
     "name": "stderr",
     "output_type": "stream",
     "text": [
      "libpng warning: iCCP: known incorrect sRGB profile\n"
     ]
    },
    {
     "name": "stdout",
     "output_type": "stream",
     "text": [
      "2022-05-03 12:25:20 [INFO]\t[TRAIN] Epoch=180/270, Step=25/35, loss=9.015339, lr=0.000125, time_each_step=0.74s, eta=0:49:43\n",
      "2022-05-03 12:25:21 [INFO]\t[TRAIN] Epoch=180/270, Step=27/35, loss=5.853558, lr=0.000125, time_each_step=0.73s, eta=0:49:41\n",
      "2022-05-03 12:25:22 [INFO]\t[TRAIN] Epoch=180/270, Step=29/35, loss=6.733619, lr=0.000125, time_each_step=0.7s, eta=0:49:39\n",
      "2022-05-03 12:25:23 [INFO]\t[TRAIN] Epoch=180/270, Step=31/35, loss=10.718821, lr=0.000125, time_each_step=0.69s, eta=0:49:38\n",
      "2022-05-03 12:25:24 [INFO]\t[TRAIN] Epoch=180/270, Step=33/35, loss=7.05138, lr=0.000125, time_each_step=0.65s, eta=0:49:36\n",
      "2022-05-03 12:25:25 [INFO]\t[TRAIN] Epoch=180/270, Step=35/35, loss=4.573793, lr=0.000125, time_each_step=0.61s, eta=0:49:35\n",
      "2022-05-03 12:25:25 [INFO]\t[TRAIN] Epoch 180 finished, loss=8.184511, lr=0.000125 .\n",
      "2022-05-03 12:25:25 [INFO]\tStart to evaluating(total_samples=121, total_steps=16)...\n"
     ]
    },
    {
     "name": "stderr",
     "output_type": "stream",
     "text": [
      "100%|██████████| 16/16 [00:06<00:00,  2.36it/s]\n"
     ]
    },
    {
     "name": "stdout",
     "output_type": "stream",
     "text": [
      "2022-05-03 12:25:32 [INFO]\t[EVAL] Finished, Epoch=180, bbox_map=90.174757 .\n",
      "2022-05-03 12:25:33 [INFO]\tModel saved in output_yolov3_darknet53/epoch_180.\n",
      "2022-05-03 12:25:33 [INFO]\tCurrent evaluated best model in eval_dataset is epoch_150, bbox_map=93.78436150263288\n"
     ]
    },
    {
     "name": "stderr",
     "output_type": "stream",
     "text": [
      "libpng warning: iCCP: known incorrect sRGB profile\n"
     ]
    },
    {
     "name": "stdout",
     "output_type": "stream",
     "text": [
      "2022-05-03 12:25:41 [INFO]\t[TRAIN] Epoch=181/270, Step=2/35, loss=6.510192, lr=0.000125, time_each_step=0.97s, eta=0:45:49\n",
      "2022-05-03 12:25:43 [INFO]\t[TRAIN] Epoch=181/270, Step=4/35, loss=9.856113, lr=0.000125, time_each_step=0.99s, eta=0:45:48\n",
      "2022-05-03 12:25:45 [INFO]\t[TRAIN] Epoch=181/270, Step=6/35, loss=5.793631, lr=0.000125, time_each_step=1.02s, eta=0:45:47\n",
      "2022-05-03 12:25:47 [INFO]\t[TRAIN] Epoch=181/270, Step=8/35, loss=9.564162, lr=0.000125, time_each_step=1.01s, eta=0:45:45\n",
      "2022-05-03 12:25:48 [INFO]\t[TRAIN] Epoch=181/270, Step=10/35, loss=4.677408, lr=0.000125, time_each_step=1.0s, eta=0:45:42\n",
      "2022-05-03 12:25:50 [INFO]\t[TRAIN] Epoch=181/270, Step=12/35, loss=8.796028, lr=0.000125, time_each_step=1.02s, eta=0:45:41\n",
      "2022-05-03 12:25:51 [INFO]\t[TRAIN] Epoch=181/270, Step=14/35, loss=7.673808, lr=0.000125, time_each_step=1.04s, eta=0:45:39\n",
      "2022-05-03 12:25:53 [INFO]\t[TRAIN] Epoch=181/270, Step=16/35, loss=8.07486, lr=0.000125, time_each_step=1.07s, eta=0:45:38\n",
      "2022-05-03 12:25:54 [INFO]\t[TRAIN] Epoch=181/270, Step=18/35, loss=5.453149, lr=0.000125, time_each_step=1.08s, eta=0:45:36\n",
      "2022-05-03 12:25:55 [INFO]\t[TRAIN] Epoch=181/270, Step=20/35, loss=9.521848, lr=0.000125, time_each_step=1.13s, eta=0:45:34\n",
      "2022-05-03 12:25:56 [INFO]\t[TRAIN] Epoch=181/270, Step=22/35, loss=10.828182, lr=0.000125, time_each_step=0.74s, eta=0:45:27\n"
     ]
    },
    {
     "name": "stderr",
     "output_type": "stream",
     "text": [
      "libpng warning: iCCP: known incorrect sRGB profile\n"
     ]
    },
    {
     "name": "stdout",
     "output_type": "stream",
     "text": [
      "2022-05-03 12:25:57 [INFO]\t[TRAIN] Epoch=181/270, Step=24/35, loss=7.469869, lr=0.000125, time_each_step=0.7s, eta=0:45:25\n",
      "2022-05-03 12:25:58 [INFO]\t[TRAIN] Epoch=181/270, Step=26/35, loss=7.202556, lr=0.000125, time_each_step=0.67s, eta=0:45:23\n",
      "2022-05-03 12:25:59 [INFO]\t[TRAIN] Epoch=181/270, Step=28/35, loss=6.503959, lr=0.000125, time_each_step=0.65s, eta=0:45:22\n",
      "2022-05-03 12:26:01 [INFO]\t[TRAIN] Epoch=181/270, Step=30/35, loss=10.054841, lr=0.000125, time_each_step=0.63s, eta=0:45:21\n",
      "2022-05-03 12:26:02 [INFO]\t[TRAIN] Epoch=181/270, Step=32/35, loss=5.745223, lr=0.000125, time_each_step=0.6s, eta=0:45:19\n",
      "2022-05-03 12:26:03 [INFO]\t[TRAIN] Epoch=181/270, Step=34/35, loss=6.172109, lr=0.000125, time_each_step=0.58s, eta=0:45:18\n",
      "2022-05-03 12:26:04 [INFO]\t[TRAIN] Epoch 181 finished, loss=7.451191, lr=0.000125 .\n",
      "2022-05-03 12:26:11 [INFO]\t[TRAIN] Epoch=182/270, Step=1/35, loss=6.56038, lr=0.000125, time_each_step=0.89s, eta=0:46:43\n",
      "2022-05-03 12:26:13 [INFO]\t[TRAIN] Epoch=182/270, Step=3/35, loss=9.056299, lr=0.000125, time_each_step=0.93s, eta=0:46:43\n"
     ]
    },
    {
     "name": "stderr",
     "output_type": "stream",
     "text": [
      "libpng warning: iCCP: known incorrect sRGB profile\n"
     ]
    },
    {
     "name": "stdout",
     "output_type": "stream",
     "text": [
      "2022-05-03 12:26:14 [INFO]\t[TRAIN] Epoch=182/270, Step=5/35, loss=9.356909, lr=0.000125, time_each_step=0.93s, eta=0:46:41\n",
      "2022-05-03 12:26:16 [INFO]\t[TRAIN] Epoch=182/270, Step=7/35, loss=8.497048, lr=0.000125, time_each_step=0.96s, eta=0:46:40\n",
      "2022-05-03 12:26:17 [INFO]\t[TRAIN] Epoch=182/270, Step=9/35, loss=6.43193, lr=0.000125, time_each_step=0.99s, eta=0:46:39\n",
      "2022-05-03 12:26:19 [INFO]\t[TRAIN] Epoch=182/270, Step=11/35, loss=6.597258, lr=0.000125, time_each_step=1.03s, eta=0:46:38\n",
      "2022-05-03 12:26:21 [INFO]\t[TRAIN] Epoch=182/270, Step=13/35, loss=13.325218, lr=0.000125, time_each_step=1.04s, eta=0:46:36\n",
      "2022-05-03 12:26:23 [INFO]\t[TRAIN] Epoch=182/270, Step=15/35, loss=4.794497, lr=0.000125, time_each_step=1.08s, eta=0:46:35\n",
      "2022-05-03 12:26:24 [INFO]\t[TRAIN] Epoch=182/270, Step=17/35, loss=7.573996, lr=0.000125, time_each_step=1.11s, eta=0:46:33\n",
      "2022-05-03 12:26:26 [INFO]\t[TRAIN] Epoch=182/270, Step=19/35, loss=9.356399, lr=0.000125, time_each_step=1.14s, eta=0:46:31\n",
      "2022-05-03 12:26:27 [INFO]\t[TRAIN] Epoch=182/270, Step=21/35, loss=7.556597, lr=0.000125, time_each_step=0.82s, eta=0:46:24\n"
     ]
    },
    {
     "name": "stderr",
     "output_type": "stream",
     "text": [
      "libpng warning: iCCP: known incorrect sRGB profile\n"
     ]
    },
    {
     "name": "stdout",
     "output_type": "stream",
     "text": [
      "2022-05-03 12:26:29 [INFO]\t[TRAIN] Epoch=182/270, Step=23/35, loss=11.355927, lr=0.000125, time_each_step=0.78s, eta=0:46:22\n",
      "2022-05-03 12:26:31 [INFO]\t[TRAIN] Epoch=182/270, Step=25/35, loss=13.023582, lr=0.000125, time_each_step=0.81s, eta=0:46:21\n",
      "2022-05-03 12:26:32 [INFO]\t[TRAIN] Epoch=182/270, Step=27/35, loss=5.653181, lr=0.000125, time_each_step=0.8s, eta=0:46:19\n",
      "2022-05-03 12:26:33 [INFO]\t[TRAIN] Epoch=182/270, Step=29/35, loss=6.221173, lr=0.000125, time_each_step=0.76s, eta=0:46:17\n",
      "2022-05-03 12:26:33 [INFO]\t[TRAIN] Epoch=182/270, Step=31/35, loss=8.016295, lr=0.000125, time_each_step=0.7s, eta=0:46:16\n",
      "2022-05-03 12:26:34 [INFO]\t[TRAIN] Epoch=182/270, Step=33/35, loss=5.851304, lr=0.000125, time_each_step=0.66s, eta=0:46:14\n",
      "2022-05-03 12:26:34 [INFO]\t[TRAIN] Epoch=182/270, Step=35/35, loss=6.294296, lr=0.000125, time_each_step=0.58s, eta=0:46:13\n",
      "2022-05-03 12:26:34 [INFO]\t[TRAIN] Epoch 182 finished, loss=7.84845, lr=0.000125 .\n",
      "2022-05-03 12:26:43 [INFO]\t[TRAIN] Epoch=183/270, Step=2/35, loss=6.892625, lr=0.000125, time_each_step=0.92s, eta=0:44:55\n",
      "2022-05-03 12:26:44 [INFO]\t[TRAIN] Epoch=183/270, Step=4/35, loss=8.760664, lr=0.000125, time_each_step=0.92s, eta=0:44:54\n"
     ]
    },
    {
     "name": "stderr",
     "output_type": "stream",
     "text": [
      "libpng warning: iCCP: known incorrect sRGB profile\n"
     ]
    },
    {
     "name": "stdout",
     "output_type": "stream",
     "text": [
      "2022-05-03 12:26:46 [INFO]\t[TRAIN] Epoch=183/270, Step=6/35, loss=12.045929, lr=0.000125, time_each_step=0.94s, eta=0:44:52\n",
      "2022-05-03 12:26:48 [INFO]\t[TRAIN] Epoch=183/270, Step=8/35, loss=6.632677, lr=0.000125, time_each_step=0.97s, eta=0:44:51\n",
      "2022-05-03 12:26:49 [INFO]\t[TRAIN] Epoch=183/270, Step=10/35, loss=10.186834, lr=0.000125, time_each_step=0.93s, eta=0:44:48\n",
      "2022-05-03 12:26:51 [INFO]\t[TRAIN] Epoch=183/270, Step=12/35, loss=5.114462, lr=0.000125, time_each_step=0.93s, eta=0:44:46\n",
      "2022-05-03 12:26:52 [INFO]\t[TRAIN] Epoch=183/270, Step=14/35, loss=6.547651, lr=0.000125, time_each_step=0.95s, eta=0:44:45\n",
      "2022-05-03 12:26:53 [INFO]\t[TRAIN] Epoch=183/270, Step=16/35, loss=9.633497, lr=0.000125, time_each_step=0.98s, eta=0:44:44\n",
      "2022-05-03 12:26:55 [INFO]\t[TRAIN] Epoch=183/270, Step=18/35, loss=6.246717, lr=0.000125, time_each_step=1.04s, eta=0:44:43\n",
      "2022-05-03 12:26:56 [INFO]\t[TRAIN] Epoch=183/270, Step=20/35, loss=7.573757, lr=0.000125, time_each_step=1.09s, eta=0:44:41\n",
      "2022-05-03 12:26:58 [INFO]\t[TRAIN] Epoch=183/270, Step=22/35, loss=7.659555, lr=0.000125, time_each_step=0.74s, eta=0:44:35\n"
     ]
    },
    {
     "name": "stderr",
     "output_type": "stream",
     "text": [
      "libpng warning: iCCP: known incorrect sRGB profile\n"
     ]
    },
    {
     "name": "stdout",
     "output_type": "stream",
     "text": [
      "2022-05-03 12:27:00 [INFO]\t[TRAIN] Epoch=183/270, Step=24/35, loss=6.186212, lr=0.000125, time_each_step=0.77s, eta=0:44:34\n",
      "2022-05-03 12:27:02 [INFO]\t[TRAIN] Epoch=183/270, Step=26/35, loss=10.005519, lr=0.000125, time_each_step=0.8s, eta=0:44:32\n",
      "2022-05-03 12:27:03 [INFO]\t[TRAIN] Epoch=183/270, Step=28/35, loss=7.601621, lr=0.000125, time_each_step=0.75s, eta=0:44:30\n",
      "2022-05-03 12:27:04 [INFO]\t[TRAIN] Epoch=183/270, Step=30/35, loss=6.360861, lr=0.000125, time_each_step=0.74s, eta=0:44:29\n",
      "2022-05-03 12:27:05 [INFO]\t[TRAIN] Epoch=183/270, Step=32/35, loss=8.10596, lr=0.000125, time_each_step=0.71s, eta=0:44:27\n",
      "2022-05-03 12:27:05 [INFO]\t[TRAIN] Epoch=183/270, Step=34/35, loss=9.503853, lr=0.000125, time_each_step=0.69s, eta=0:44:26\n",
      "2022-05-03 12:27:06 [INFO]\t[TRAIN] Epoch 183 finished, loss=8.125016, lr=0.000125 .\n",
      "2022-05-03 12:27:13 [INFO]\t[TRAIN] Epoch=184/270, Step=1/35, loss=7.841767, lr=0.000125, time_each_step=0.99s, eta=0:45:48\n",
      "2022-05-03 12:27:15 [INFO]\t[TRAIN] Epoch=184/270, Step=3/35, loss=10.992805, lr=0.000125, time_each_step=1.0s, eta=0:45:46\n"
     ]
    },
    {
     "name": "stderr",
     "output_type": "stream",
     "text": [
      "libpng warning: iCCP: known incorrect sRGB profile\n"
     ]
    },
    {
     "name": "stdout",
     "output_type": "stream",
     "text": [
      "2022-05-03 12:27:16 [INFO]\t[TRAIN] Epoch=184/270, Step=5/35, loss=5.190099, lr=0.000125, time_each_step=1.0s, eta=0:45:44\n",
      "2022-05-03 12:27:18 [INFO]\t[TRAIN] Epoch=184/270, Step=7/35, loss=9.769763, lr=0.000125, time_each_step=1.03s, eta=0:45:43\n",
      "2022-05-03 12:27:20 [INFO]\t[TRAIN] Epoch=184/270, Step=9/35, loss=10.040773, lr=0.000125, time_each_step=0.99s, eta=0:45:40\n",
      "2022-05-03 12:27:21 [INFO]\t[TRAIN] Epoch=184/270, Step=11/35, loss=8.193394, lr=0.000125, time_each_step=0.97s, eta=0:45:37\n",
      "2022-05-03 12:27:23 [INFO]\t[TRAIN] Epoch=184/270, Step=13/35, loss=14.593859, lr=0.000125, time_each_step=1.02s, eta=0:45:36\n",
      "2022-05-03 12:27:25 [INFO]\t[TRAIN] Epoch=184/270, Step=15/35, loss=7.73207, lr=0.000125, time_each_step=1.05s, eta=0:45:35\n",
      "2022-05-03 12:27:26 [INFO]\t[TRAIN] Epoch=184/270, Step=17/35, loss=8.574543, lr=0.000125, time_each_step=1.08s, eta=0:45:33\n",
      "2022-05-03 12:27:28 [INFO]\t[TRAIN] Epoch=184/270, Step=19/35, loss=5.851863, lr=0.000125, time_each_step=1.12s, eta=0:45:32\n",
      "2022-05-03 12:27:30 [INFO]\t[TRAIN] Epoch=184/270, Step=21/35, loss=5.899824, lr=0.000125, time_each_step=0.86s, eta=0:45:26\n",
      "2022-05-03 12:27:31 [INFO]\t[TRAIN] Epoch=184/270, Step=23/35, loss=9.854912, lr=0.000125, time_each_step=0.82s, eta=0:45:24\n",
      "2022-05-03 12:27:33 [INFO]\t[TRAIN] Epoch=184/270, Step=25/35, loss=5.992899, lr=0.000125, time_each_step=0.82s, eta=0:45:22\n",
      "2022-05-03 12:27:35 [INFO]\t[TRAIN] Epoch=184/270, Step=27/35, loss=8.363553, lr=0.000125, time_each_step=0.81s, eta=0:45:21\n",
      "2022-05-03 12:27:36 [INFO]\t[TRAIN] Epoch=184/270, Step=29/35, loss=9.578774, lr=0.000125, time_each_step=0.82s, eta=0:45:19\n"
     ]
    },
    {
     "name": "stderr",
     "output_type": "stream",
     "text": [
      "libpng warning: iCCP: known incorrect sRGB profile\n"
     ]
    },
    {
     "name": "stdout",
     "output_type": "stream",
     "text": [
      "2022-05-03 12:27:37 [INFO]\t[TRAIN] Epoch=184/270, Step=31/35, loss=7.638005, lr=0.000125, time_each_step=0.79s, eta=0:45:17\n",
      "2022-05-03 12:27:39 [INFO]\t[TRAIN] Epoch=184/270, Step=33/35, loss=4.933782, lr=0.000125, time_each_step=0.76s, eta=0:45:16\n",
      "2022-05-03 12:27:40 [INFO]\t[TRAIN] Epoch=184/270, Step=35/35, loss=7.544129, lr=0.000125, time_each_step=0.74s, eta=0:45:14\n",
      "2022-05-03 12:27:40 [INFO]\t[TRAIN] Epoch 184 finished, loss=7.871628, lr=0.000125 .\n",
      "2022-05-03 12:27:46 [INFO]\t[TRAIN] Epoch=185/270, Step=2/35, loss=7.37852, lr=0.000125, time_each_step=1.0s, eta=0:48:50\n",
      "2022-05-03 12:27:48 [INFO]\t[TRAIN] Epoch=185/270, Step=4/35, loss=11.865717, lr=0.000125, time_each_step=1.02s, eta=0:48:48\n"
     ]
    },
    {
     "name": "stderr",
     "output_type": "stream",
     "text": [
      "libpng warning: iCCP: known incorrect sRGB profile\n"
     ]
    },
    {
     "name": "stdout",
     "output_type": "stream",
     "text": [
      "2022-05-03 12:27:50 [INFO]\t[TRAIN] Epoch=185/270, Step=6/35, loss=8.933631, lr=0.000125, time_each_step=0.99s, eta=0:48:45\n",
      "2022-05-03 12:27:51 [INFO]\t[TRAIN] Epoch=185/270, Step=8/35, loss=5.629736, lr=0.000125, time_each_step=1.0s, eta=0:48:43\n",
      "2022-05-03 12:27:53 [INFO]\t[TRAIN] Epoch=185/270, Step=10/35, loss=7.227375, lr=0.000125, time_each_step=1.02s, eta=0:48:42\n",
      "2022-05-03 12:27:55 [INFO]\t[TRAIN] Epoch=185/270, Step=12/35, loss=6.467795, lr=0.000125, time_each_step=1.02s, eta=0:48:40\n",
      "2022-05-03 12:27:57 [INFO]\t[TRAIN] Epoch=185/270, Step=14/35, loss=6.04176, lr=0.000125, time_each_step=1.03s, eta=0:48:38\n",
      "2022-05-03 12:27:58 [INFO]\t[TRAIN] Epoch=185/270, Step=16/35, loss=11.258977, lr=0.000125, time_each_step=1.05s, eta=0:48:36\n",
      "2022-05-03 12:28:00 [INFO]\t[TRAIN] Epoch=185/270, Step=18/35, loss=6.209156, lr=0.000125, time_each_step=1.05s, eta=0:48:34\n",
      "2022-05-03 12:28:01 [INFO]\t[TRAIN] Epoch=185/270, Step=20/35, loss=8.248689, lr=0.000125, time_each_step=1.09s, eta=0:48:33\n",
      "2022-05-03 12:28:03 [INFO]\t[TRAIN] Epoch=185/270, Step=22/35, loss=8.945035, lr=0.000125, time_each_step=0.82s, eta=0:48:27\n",
      "2022-05-03 12:28:04 [INFO]\t[TRAIN] Epoch=185/270, Step=24/35, loss=7.660334, lr=0.000125, time_each_step=0.79s, eta=0:48:25\n",
      "2022-05-03 12:28:05 [INFO]\t[TRAIN] Epoch=185/270, Step=26/35, loss=7.494532, lr=0.000125, time_each_step=0.77s, eta=0:48:23\n",
      "2022-05-03 12:28:07 [INFO]\t[TRAIN] Epoch=185/270, Step=28/35, loss=11.138571, lr=0.000125, time_each_step=0.77s, eta=0:48:22\n",
      "2022-05-03 12:28:08 [INFO]\t[TRAIN] Epoch=185/270, Step=30/35, loss=9.671548, lr=0.000125, time_each_step=0.75s, eta=0:48:20\n"
     ]
    },
    {
     "name": "stderr",
     "output_type": "stream",
     "text": [
      "libpng warning: iCCP: known incorrect sRGB profile\n"
     ]
    },
    {
     "name": "stdout",
     "output_type": "stream",
     "text": [
      "2022-05-03 12:28:10 [INFO]\t[TRAIN] Epoch=185/270, Step=32/35, loss=9.875309, lr=0.000125, time_each_step=0.74s, eta=0:48:19\n",
      "2022-05-03 12:28:11 [INFO]\t[TRAIN] Epoch=185/270, Step=34/35, loss=7.729296, lr=0.000125, time_each_step=0.7s, eta=0:48:17\n",
      "2022-05-03 12:28:12 [INFO]\t[TRAIN] Epoch 185 finished, loss=7.70617, lr=0.000125 .\n",
      "2022-05-03 12:28:19 [INFO]\t[TRAIN] Epoch=186/270, Step=1/35, loss=9.138819, lr=0.000125, time_each_step=1.01s, eta=0:45:56\n",
      "2022-05-03 12:28:21 [INFO]\t[TRAIN] Epoch=186/270, Step=3/35, loss=8.570642, lr=0.000125, time_each_step=1.05s, eta=0:45:55\n"
     ]
    },
    {
     "name": "stderr",
     "output_type": "stream",
     "text": [
      "libpng warning: iCCP: known incorrect sRGB profile\n"
     ]
    },
    {
     "name": "stdout",
     "output_type": "stream",
     "text": [
      "2022-05-03 12:28:22 [INFO]\t[TRAIN] Epoch=186/270, Step=5/35, loss=9.703515, lr=0.000125, time_each_step=1.03s, eta=0:45:53\n",
      "2022-05-03 12:28:24 [INFO]\t[TRAIN] Epoch=186/270, Step=7/35, loss=8.264764, lr=0.000125, time_each_step=1.06s, eta=0:45:52\n",
      "2022-05-03 12:28:26 [INFO]\t[TRAIN] Epoch=186/270, Step=9/35, loss=6.43551, lr=0.000125, time_each_step=1.09s, eta=0:45:50\n",
      "2022-05-03 12:28:28 [INFO]\t[TRAIN] Epoch=186/270, Step=11/35, loss=5.305004, lr=0.000125, time_each_step=1.11s, eta=0:45:48\n",
      "2022-05-03 12:28:30 [INFO]\t[TRAIN] Epoch=186/270, Step=13/35, loss=8.801945, lr=0.000125, time_each_step=1.14s, eta=0:45:47\n",
      "2022-05-03 12:28:31 [INFO]\t[TRAIN] Epoch=186/270, Step=15/35, loss=7.695537, lr=0.000125, time_each_step=1.14s, eta=0:45:45\n",
      "2022-05-03 12:28:33 [INFO]\t[TRAIN] Epoch=186/270, Step=17/35, loss=12.777177, lr=0.000125, time_each_step=1.14s, eta=0:45:42\n",
      "2022-05-03 12:28:35 [INFO]\t[TRAIN] Epoch=186/270, Step=19/35, loss=7.589123, lr=0.000125, time_each_step=1.19s, eta=0:45:41\n",
      "2022-05-03 12:28:36 [INFO]\t[TRAIN] Epoch=186/270, Step=21/35, loss=8.96833, lr=0.000125, time_each_step=0.88s, eta=0:45:34\n",
      "2022-05-03 12:28:37 [INFO]\t[TRAIN] Epoch=186/270, Step=23/35, loss=10.755716, lr=0.000125, time_each_step=0.83s, eta=0:45:32"
     ]
    },
    {
     "name": "stderr",
     "output_type": "stream",
     "text": [
      "libpng warning: iCCP: known incorrect sRGB profile\n"
     ]
    },
    {
     "name": "stdout",
     "output_type": "stream",
     "text": [
      "\n",
      "2022-05-03 12:28:38 [INFO]\t[TRAIN] Epoch=186/270, Step=25/35, loss=12.430031, lr=0.000125, time_each_step=0.81s, eta=0:45:30\n",
      "2022-05-03 12:28:40 [INFO]\t[TRAIN] Epoch=186/270, Step=27/35, loss=6.877451, lr=0.000125, time_each_step=0.77s, eta=0:45:28\n",
      "2022-05-03 12:28:41 [INFO]\t[TRAIN] Epoch=186/270, Step=29/35, loss=10.440518, lr=0.000125, time_each_step=0.74s, eta=0:45:26\n",
      "2022-05-03 12:28:42 [INFO]\t[TRAIN] Epoch=186/270, Step=31/35, loss=10.376833, lr=0.000125, time_each_step=0.71s, eta=0:45:25\n",
      "2022-05-03 12:28:43 [INFO]\t[TRAIN] Epoch=186/270, Step=33/35, loss=8.415152, lr=0.000125, time_each_step=0.65s, eta=0:45:23\n",
      "2022-05-03 12:28:45 [INFO]\t[TRAIN] Epoch=186/270, Step=35/35, loss=8.315714, lr=0.000125, time_each_step=0.69s, eta=0:45:22\n",
      "2022-05-03 12:28:45 [INFO]\t[TRAIN] Epoch 186 finished, loss=8.82423, lr=0.000125 .\n",
      "2022-05-03 12:28:54 [INFO]\t[TRAIN] Epoch=187/270, Step=2/35, loss=7.021672, lr=0.000125, time_each_step=1.03s, eta=0:47:46\n"
     ]
    },
    {
     "name": "stderr",
     "output_type": "stream",
     "text": [
      "libpng warning: iCCP: known incorrect sRGB profile\n"
     ]
    },
    {
     "name": "stdout",
     "output_type": "stream",
     "text": [
      "2022-05-03 12:28:55 [INFO]\t[TRAIN] Epoch=187/270, Step=4/35, loss=8.460408, lr=0.000125, time_each_step=0.99s, eta=0:47:43\n",
      "2022-05-03 12:28:57 [INFO]\t[TRAIN] Epoch=187/270, Step=6/35, loss=7.175297, lr=0.000125, time_each_step=0.99s, eta=0:47:41\n",
      "2022-05-03 12:28:58 [INFO]\t[TRAIN] Epoch=187/270, Step=8/35, loss=5.778286, lr=0.000125, time_each_step=0.99s, eta=0:47:39\n",
      "2022-05-03 12:28:59 [INFO]\t[TRAIN] Epoch=187/270, Step=10/35, loss=9.16872, lr=0.000125, time_each_step=0.99s, eta=0:47:37\n",
      "2022-05-03 12:29:01 [INFO]\t[TRAIN] Epoch=187/270, Step=12/35, loss=9.088209, lr=0.000125, time_each_step=1.01s, eta=0:47:35\n",
      "2022-05-03 12:29:02 [INFO]\t[TRAIN] Epoch=187/270, Step=14/35, loss=6.803672, lr=0.000125, time_each_step=1.04s, eta=0:47:34\n",
      "2022-05-03 12:29:04 [INFO]\t[TRAIN] Epoch=187/270, Step=16/35, loss=5.143227, lr=0.000125, time_each_step=1.05s, eta=0:47:32\n",
      "2022-05-03 12:29:05 [INFO]\t[TRAIN] Epoch=187/270, Step=18/35, loss=9.791925, lr=0.000125, time_each_step=1.07s, eta=0:47:30\n",
      "2022-05-03 12:29:07 [INFO]\t[TRAIN] Epoch=187/270, Step=20/35, loss=4.189463, lr=0.000125, time_each_step=1.05s, eta=0:47:28\n",
      "2022-05-03 12:29:08 [INFO]\t[TRAIN] Epoch=187/270, Step=22/35, loss=7.664225, lr=0.000125, time_each_step=0.72s, eta=0:47:21\n",
      "2022-05-03 12:29:09 [INFO]\t[TRAIN] Epoch=187/270, Step=24/35, loss=6.836394, lr=0.000125, time_each_step=0.7s, eta=0:47:20\n",
      "2022-05-03 12:29:11 [INFO]\t[TRAIN] Epoch=187/270, Step=26/35, loss=7.956728, lr=0.000125, time_each_step=0.73s, eta=0:47:19\n",
      "2022-05-03 12:29:13 [INFO]\t[TRAIN] Epoch=187/270, Step=28/35, loss=7.888823, lr=0.000125, time_each_step=0.75s, eta=0:47:17\n",
      "2022-05-03 12:29:14 [INFO]\t[TRAIN] Epoch=187/270, Step=30/35, loss=7.880822, lr=0.000125, time_each_step=0.75s, eta=0:47:16\n"
     ]
    },
    {
     "name": "stderr",
     "output_type": "stream",
     "text": [
      "libpng warning: iCCP: known incorrect sRGB profile\n"
     ]
    },
    {
     "name": "stdout",
     "output_type": "stream",
     "text": [
      "2022-05-03 12:29:16 [INFO]\t[TRAIN] Epoch=187/270, Step=32/35, loss=9.584641, lr=0.000125, time_each_step=0.75s, eta=0:47:14\n",
      "2022-05-03 12:29:17 [INFO]\t[TRAIN] Epoch=187/270, Step=34/35, loss=8.35931, lr=0.000125, time_each_step=0.75s, eta=0:47:13\n",
      "2022-05-03 12:29:18 [INFO]\t[TRAIN] Epoch 187 finished, loss=8.140926, lr=0.000125 .\n",
      "2022-05-03 12:29:24 [INFO]\t[TRAIN] Epoch=188/270, Step=1/35, loss=8.626327, lr=0.000125, time_each_step=1.0s, eta=0:44:57\n",
      "2022-05-03 12:29:25 [INFO]\t[TRAIN] Epoch=188/270, Step=3/35, loss=8.090527, lr=0.000125, time_each_step=1.02s, eta=0:44:56\n"
     ]
    },
    {
     "name": "stderr",
     "output_type": "stream",
     "text": [
      "libpng warning: iCCP: known incorrect sRGB profile\n"
     ]
    },
    {
     "name": "stdout",
     "output_type": "stream",
     "text": [
      "2022-05-03 12:29:27 [INFO]\t[TRAIN] Epoch=188/270, Step=5/35, loss=7.716481, lr=0.000125, time_each_step=1.02s, eta=0:44:54\n",
      "2022-05-03 12:29:28 [INFO]\t[TRAIN] Epoch=188/270, Step=7/35, loss=5.119854, lr=0.000125, time_each_step=0.99s, eta=0:44:51\n",
      "2022-05-03 12:29:30 [INFO]\t[TRAIN] Epoch=188/270, Step=9/35, loss=8.123793, lr=0.000125, time_each_step=1.02s, eta=0:44:50\n",
      "2022-05-03 12:29:32 [INFO]\t[TRAIN] Epoch=188/270, Step=11/35, loss=5.439, lr=0.000125, time_each_step=1.0s, eta=0:44:47\n",
      "2022-05-03 12:29:33 [INFO]\t[TRAIN] Epoch=188/270, Step=13/35, loss=5.760085, lr=0.000125, time_each_step=1.02s, eta=0:44:46\n",
      "2022-05-03 12:29:35 [INFO]\t[TRAIN] Epoch=188/270, Step=15/35, loss=4.858135, lr=0.000125, time_each_step=1.06s, eta=0:44:44\n",
      "2022-05-03 12:29:37 [INFO]\t[TRAIN] Epoch=188/270, Step=17/35, loss=5.861923, lr=0.000125, time_each_step=1.04s, eta=0:44:42\n",
      "2022-05-03 12:29:38 [INFO]\t[TRAIN] Epoch=188/270, Step=19/35, loss=7.977943, lr=0.000125, time_each_step=1.04s, eta=0:44:40\n",
      "2022-05-03 12:29:40 [INFO]\t[TRAIN] Epoch=188/270, Step=21/35, loss=9.425544, lr=0.000125, time_each_step=0.82s, eta=0:44:35\n",
      "2022-05-03 12:29:42 [INFO]\t[TRAIN] Epoch=188/270, Step=23/35, loss=11.714705, lr=0.000125, time_each_step=0.81s, eta=0:44:33\n"
     ]
    },
    {
     "name": "stderr",
     "output_type": "stream",
     "text": [
      "libpng warning: iCCP: known incorrect sRGB profile\n"
     ]
    },
    {
     "name": "stdout",
     "output_type": "stream",
     "text": [
      "2022-05-03 12:29:43 [INFO]\t[TRAIN] Epoch=188/270, Step=25/35, loss=6.194735, lr=0.000125, time_each_step=0.8s, eta=0:44:31\n",
      "2022-05-03 12:29:44 [INFO]\t[TRAIN] Epoch=188/270, Step=27/35, loss=8.069134, lr=0.000125, time_each_step=0.78s, eta=0:44:29\n",
      "2022-05-03 12:29:45 [INFO]\t[TRAIN] Epoch=188/270, Step=29/35, loss=7.01301, lr=0.000125, time_each_step=0.76s, eta=0:44:28\n",
      "2022-05-03 12:29:46 [INFO]\t[TRAIN] Epoch=188/270, Step=31/35, loss=8.588763, lr=0.000125, time_each_step=0.73s, eta=0:44:26\n",
      "2022-05-03 12:29:47 [INFO]\t[TRAIN] Epoch=188/270, Step=33/35, loss=8.634529, lr=0.000125, time_each_step=0.67s, eta=0:44:25\n",
      "2022-05-03 12:29:48 [INFO]\t[TRAIN] Epoch=188/270, Step=35/35, loss=9.209984, lr=0.000125, time_each_step=0.63s, eta=0:44:23\n",
      "2022-05-03 12:29:48 [INFO]\t[TRAIN] Epoch 188 finished, loss=7.911633, lr=0.000125 .\n",
      "2022-05-03 12:29:55 [INFO]\t[TRAIN] Epoch=189/270, Step=2/35, loss=4.987609, lr=0.000125, time_each_step=0.9s, eta=0:42:14\n"
     ]
    },
    {
     "name": "stderr",
     "output_type": "stream",
     "text": [
      "libpng warning: iCCP: known incorrect sRGB profile\n"
     ]
    },
    {
     "name": "stdout",
     "output_type": "stream",
     "text": [
      "2022-05-03 12:29:58 [INFO]\t[TRAIN] Epoch=189/270, Step=4/35, loss=9.732657, lr=0.000125, time_each_step=0.99s, eta=0:42:15\n",
      "2022-05-03 12:30:00 [INFO]\t[TRAIN] Epoch=189/270, Step=6/35, loss=9.892145, lr=0.000125, time_each_step=0.96s, eta=0:42:12\n",
      "2022-05-03 12:30:02 [INFO]\t[TRAIN] Epoch=189/270, Step=8/35, loss=5.563595, lr=0.000125, time_each_step=0.99s, eta=0:42:11\n",
      "2022-05-03 12:30:03 [INFO]\t[TRAIN] Epoch=189/270, Step=10/35, loss=7.572955, lr=0.000125, time_each_step=1.0s, eta=0:42:9\n",
      "2022-05-03 12:30:05 [INFO]\t[TRAIN] Epoch=189/270, Step=12/35, loss=8.168406, lr=0.000125, time_each_step=1.03s, eta=0:42:8\n",
      "2022-05-03 12:30:06 [INFO]\t[TRAIN] Epoch=189/270, Step=14/35, loss=5.269391, lr=0.000125, time_each_step=1.06s, eta=0:42:6\n",
      "2022-05-03 12:30:08 [INFO]\t[TRAIN] Epoch=189/270, Step=16/35, loss=6.135916, lr=0.000125, time_each_step=1.08s, eta=0:42:5\n",
      "2022-05-03 12:30:10 [INFO]\t[TRAIN] Epoch=189/270, Step=18/35, loss=10.731483, lr=0.000125, time_each_step=1.13s, eta=0:42:3\n",
      "2022-05-03 12:30:11 [INFO]\t[TRAIN] Epoch=189/270, Step=20/35, loss=7.617107, lr=0.000125, time_each_step=1.15s, eta=0:42:1\n",
      "2022-05-03 12:30:13 [INFO]\t[TRAIN] Epoch=189/270, Step=22/35, loss=8.228424, lr=0.000125, time_each_step=0.91s, eta=0:41:56\n",
      "2022-05-03 12:30:14 [INFO]\t[TRAIN] Epoch=189/270, Step=24/35, loss=8.651032, lr=0.000125, time_each_step=0.82s, eta=0:41:53\n",
      "2022-05-03 12:30:16 [INFO]\t[TRAIN] Epoch=189/270, Step=26/35, loss=8.826674, lr=0.000125, time_each_step=0.81s, eta=0:41:51\n",
      "2022-05-03 12:30:17 [INFO]\t[TRAIN] Epoch=189/270, Step=28/35, loss=8.601789, lr=0.000125, time_each_step=0.77s, eta=0:41:49\n"
     ]
    },
    {
     "name": "stderr",
     "output_type": "stream",
     "text": [
      "libpng warning: iCCP: known incorrect sRGB profile\n"
     ]
    },
    {
     "name": "stdout",
     "output_type": "stream",
     "text": [
      "2022-05-03 12:30:18 [INFO]\t[TRAIN] Epoch=189/270, Step=30/35, loss=6.919369, lr=0.000125, time_each_step=0.75s, eta=0:41:48\n",
      "2022-05-03 12:30:19 [INFO]\t[TRAIN] Epoch=189/270, Step=32/35, loss=8.061927, lr=0.000125, time_each_step=0.72s, eta=0:41:46\n",
      "2022-05-03 12:30:20 [INFO]\t[TRAIN] Epoch=189/270, Step=34/35, loss=7.037724, lr=0.000125, time_each_step=0.67s, eta=0:41:45\n",
      "2022-05-03 12:30:21 [INFO]\t[TRAIN] Epoch 189 finished, loss=7.971088, lr=0.000125 .\n",
      "2022-05-03 12:30:28 [INFO]\t[TRAIN] Epoch=190/270, Step=1/35, loss=5.227855, lr=0.000125, time_each_step=0.98s, eta=0:44:49\n",
      "2022-05-03 12:30:30 [INFO]\t[TRAIN] Epoch=190/270, Step=3/35, loss=7.626349, lr=0.000125, time_each_step=0.98s, eta=0:44:47\n"
     ]
    },
    {
     "name": "stderr",
     "output_type": "stream",
     "text": [
      "libpng warning: iCCP: known incorrect sRGB profile\n"
     ]
    },
    {
     "name": "stdout",
     "output_type": "stream",
     "text": [
      "2022-05-03 12:30:31 [INFO]\t[TRAIN] Epoch=190/270, Step=5/35, loss=5.49425, lr=0.000125, time_each_step=0.96s, eta=0:44:45\n",
      "2022-05-03 12:30:33 [INFO]\t[TRAIN] Epoch=190/270, Step=7/35, loss=9.474586, lr=0.000125, time_each_step=0.94s, eta=0:44:42\n",
      "2022-05-03 12:30:34 [INFO]\t[TRAIN] Epoch=190/270, Step=9/35, loss=5.749896, lr=0.000125, time_each_step=0.94s, eta=0:44:40\n",
      "2022-05-03 12:30:35 [INFO]\t[TRAIN] Epoch=190/270, Step=11/35, loss=9.669575, lr=0.000125, time_each_step=0.94s, eta=0:44:38\n",
      "2022-05-03 12:30:37 [INFO]\t[TRAIN] Epoch=190/270, Step=13/35, loss=6.874903, lr=0.000125, time_each_step=0.95s, eta=0:44:37\n",
      "2022-05-03 12:30:38 [INFO]\t[TRAIN] Epoch=190/270, Step=15/35, loss=7.026568, lr=0.000125, time_each_step=0.96s, eta=0:44:35\n",
      "2022-05-03 12:30:39 [INFO]\t[TRAIN] Epoch=190/270, Step=17/35, loss=7.593309, lr=0.000125, time_each_step=0.98s, eta=0:44:33\n",
      "2022-05-03 12:30:41 [INFO]\t[TRAIN] Epoch=190/270, Step=19/35, loss=8.833869, lr=0.000125, time_each_step=1.01s, eta=0:44:32\n",
      "2022-05-03 12:30:42 [INFO]\t[TRAIN] Epoch=190/270, Step=21/35, loss=6.275518, lr=0.000125, time_each_step=0.69s, eta=0:44:25\n",
      "2022-05-03 12:30:43 [INFO]\t[TRAIN] Epoch=190/270, Step=23/35, loss=7.415611, lr=0.000125, time_each_step=0.68s, eta=0:44:24\n",
      "2022-05-03 12:30:45 [INFO]\t[TRAIN] Epoch=190/270, Step=25/35, loss=4.767949, lr=0.000125, time_each_step=0.67s, eta=0:44:22\n"
     ]
    },
    {
     "name": "stderr",
     "output_type": "stream",
     "text": [
      "libpng warning: iCCP: known incorrect sRGB profile\n"
     ]
    },
    {
     "name": "stdout",
     "output_type": "stream",
     "text": [
      "2022-05-03 12:30:46 [INFO]\t[TRAIN] Epoch=190/270, Step=27/35, loss=8.901711, lr=0.000125, time_each_step=0.65s, eta=0:44:21\n",
      "2022-05-03 12:30:47 [INFO]\t[TRAIN] Epoch=190/270, Step=29/35, loss=11.022156, lr=0.000125, time_each_step=0.64s, eta=0:44:19\n",
      "2022-05-03 12:30:48 [INFO]\t[TRAIN] Epoch=190/270, Step=31/35, loss=4.89817, lr=0.000125, time_each_step=0.63s, eta=0:44:18\n",
      "2022-05-03 12:30:49 [INFO]\t[TRAIN] Epoch=190/270, Step=33/35, loss=9.727733, lr=0.000125, time_each_step=0.61s, eta=0:44:17\n",
      "2022-05-03 12:30:51 [INFO]\t[TRAIN] Epoch=190/270, Step=35/35, loss=6.628145, lr=0.000125, time_each_step=0.62s, eta=0:44:16\n",
      "2022-05-03 12:30:51 [INFO]\t[TRAIN] Epoch 190 finished, loss=7.500604, lr=0.000125 .\n",
      "2022-05-03 12:30:58 [INFO]\t[TRAIN] Epoch=191/270, Step=2/35, loss=5.638132, lr=0.000125, time_each_step=0.92s, eta=0:39:57\n"
     ]
    },
    {
     "name": "stderr",
     "output_type": "stream",
     "text": [
      "libpng warning: iCCP: known incorrect sRGB profile\n"
     ]
    },
    {
     "name": "stdout",
     "output_type": "stream",
     "text": [
      "2022-05-03 12:30:59 [INFO]\t[TRAIN] Epoch=191/270, Step=4/35, loss=8.153135, lr=0.000125, time_each_step=0.91s, eta=0:39:55\n",
      "2022-05-03 12:31:01 [INFO]\t[TRAIN] Epoch=191/270, Step=6/35, loss=6.103336, lr=0.000125, time_each_step=0.94s, eta=0:39:54\n",
      "2022-05-03 12:31:03 [INFO]\t[TRAIN] Epoch=191/270, Step=8/35, loss=9.584867, lr=0.000125, time_each_step=0.96s, eta=0:39:52\n",
      "2022-05-03 12:31:04 [INFO]\t[TRAIN] Epoch=191/270, Step=10/35, loss=7.464006, lr=0.000125, time_each_step=0.97s, eta=0:39:51\n",
      "2022-05-03 12:31:06 [INFO]\t[TRAIN] Epoch=191/270, Step=12/35, loss=6.655423, lr=0.000125, time_each_step=1.0s, eta=0:39:49\n",
      "2022-05-03 12:31:07 [INFO]\t[TRAIN] Epoch=191/270, Step=14/35, loss=6.609528, lr=0.000125, time_each_step=1.02s, eta=0:39:48\n",
      "2022-05-03 12:31:09 [INFO]\t[TRAIN] Epoch=191/270, Step=16/35, loss=11.194265, lr=0.000125, time_each_step=1.01s, eta=0:39:46\n",
      "2022-05-03 12:31:11 [INFO]\t[TRAIN] Epoch=191/270, Step=18/35, loss=5.905533, lr=0.000125, time_each_step=1.07s, eta=0:39:45\n",
      "2022-05-03 12:31:12 [INFO]\t[TRAIN] Epoch=191/270, Step=20/35, loss=10.348576, lr=0.000125, time_each_step=1.06s, eta=0:39:42\n",
      "2022-05-03 12:31:13 [INFO]\t[TRAIN] Epoch=191/270, Step=22/35, loss=10.399491, lr=0.000125, time_each_step=0.76s, eta=0:39:36\n",
      "2022-05-03 12:31:15 [INFO]\t[TRAIN] Epoch=191/270, Step=24/35, loss=10.022405, lr=0.000125, time_each_step=0.76s, eta=0:39:35\n",
      "2022-05-03 12:31:16 [INFO]\t[TRAIN] Epoch=191/270, Step=26/35, loss=6.797874, lr=0.000125, time_each_step=0.73s, eta=0:39:33\n"
     ]
    },
    {
     "name": "stderr",
     "output_type": "stream",
     "text": [
      "libpng warning: iCCP: known incorrect sRGB profile\n"
     ]
    },
    {
     "name": "stdout",
     "output_type": "stream",
     "text": [
      "2022-05-03 12:31:18 [INFO]\t[TRAIN] Epoch=191/270, Step=28/35, loss=8.057557, lr=0.000125, time_each_step=0.73s, eta=0:39:32\n",
      "2022-05-03 12:31:19 [INFO]\t[TRAIN] Epoch=191/270, Step=30/35, loss=6.578966, lr=0.000125, time_each_step=0.73s, eta=0:39:30\n",
      "2022-05-03 12:31:20 [INFO]\t[TRAIN] Epoch=191/270, Step=32/35, loss=5.295958, lr=0.000125, time_each_step=0.71s, eta=0:39:29\n",
      "2022-05-03 12:31:21 [INFO]\t[TRAIN] Epoch=191/270, Step=34/35, loss=7.748311, lr=0.000125, time_each_step=0.7s, eta=0:39:27\n",
      "2022-05-03 12:31:22 [INFO]\t[TRAIN] Epoch 191 finished, loss=7.899122, lr=0.000125 .\n",
      "2022-05-03 12:31:30 [INFO]\t[TRAIN] Epoch=192/270, Step=1/35, loss=9.041887, lr=0.000125, time_each_step=1.04s, eta=0:42:8\n",
      "2022-05-03 12:31:31 [INFO]\t[TRAIN] Epoch=192/270, Step=3/35, loss=7.614582, lr=0.000125, time_each_step=1.02s, eta=0:42:5\n"
     ]
    },
    {
     "name": "stderr",
     "output_type": "stream",
     "text": [
      "libpng warning: iCCP: known incorrect sRGB profile\n"
     ]
    },
    {
     "name": "stdout",
     "output_type": "stream",
     "text": [
      "2022-05-03 12:31:33 [INFO]\t[TRAIN] Epoch=192/270, Step=5/35, loss=7.606309, lr=0.000125, time_each_step=1.03s, eta=0:42:4\n",
      "2022-05-03 12:31:34 [INFO]\t[TRAIN] Epoch=192/270, Step=7/35, loss=7.676446, lr=0.000125, time_each_step=1.04s, eta=0:42:2\n",
      "2022-05-03 12:31:36 [INFO]\t[TRAIN] Epoch=192/270, Step=9/35, loss=10.491411, lr=0.000125, time_each_step=1.07s, eta=0:42:0\n",
      "2022-05-03 12:31:38 [INFO]\t[TRAIN] Epoch=192/270, Step=11/35, loss=5.680463, lr=0.000125, time_each_step=1.08s, eta=0:41:59\n",
      "2022-05-03 12:31:39 [INFO]\t[TRAIN] Epoch=192/270, Step=13/35, loss=7.825675, lr=0.000125, time_each_step=1.05s, eta=0:41:56\n",
      "2022-05-03 12:31:40 [INFO]\t[TRAIN] Epoch=192/270, Step=15/35, loss=6.444376, lr=0.000125, time_each_step=1.06s, eta=0:41:54\n",
      "2022-05-03 12:31:42 [INFO]\t[TRAIN] Epoch=192/270, Step=17/35, loss=6.563098, lr=0.000125, time_each_step=1.06s, eta=0:41:52\n",
      "2022-05-03 12:31:43 [INFO]\t[TRAIN] Epoch=192/270, Step=19/35, loss=6.831326, lr=0.000125, time_each_step=1.07s, eta=0:41:50\n",
      "2022-05-03 12:31:45 [INFO]\t[TRAIN] Epoch=192/270, Step=21/35, loss=6.101166, lr=0.000125, time_each_step=0.79s, eta=0:41:44\n",
      "2022-05-03 12:31:47 [INFO]\t[TRAIN] Epoch=192/270, Step=23/35, loss=8.724539, lr=0.000125, time_each_step=0.75s, eta=0:41:42\n",
      "2022-05-03 12:31:48 [INFO]\t[TRAIN] Epoch=192/270, Step=25/35, loss=5.700216, lr=0.000125, time_each_step=0.75s, eta=0:41:40\n",
      "2022-05-03 12:31:50 [INFO]\t[TRAIN] Epoch=192/270, Step=27/35, loss=8.036901, lr=0.000125, time_each_step=0.76s, eta=0:41:39\n",
      "2022-05-03 12:31:51 [INFO]\t[TRAIN] Epoch=192/270, Step=29/35, loss=5.9108, lr=0.000125, time_each_step=0.75s, eta=0:41:37\n"
     ]
    },
    {
     "name": "stderr",
     "output_type": "stream",
     "text": [
      "libpng warning: iCCP: known incorrect sRGB profile\n"
     ]
    },
    {
     "name": "stdout",
     "output_type": "stream",
     "text": [
      "2022-05-03 12:31:52 [INFO]\t[TRAIN] Epoch=192/270, Step=31/35, loss=9.279337, lr=0.000125, time_each_step=0.74s, eta=0:41:36\n",
      "2022-05-03 12:31:54 [INFO]\t[TRAIN] Epoch=192/270, Step=33/35, loss=9.996029, lr=0.000125, time_each_step=0.77s, eta=0:41:34\n",
      "2022-05-03 12:31:56 [INFO]\t[TRAIN] Epoch=192/270, Step=35/35, loss=6.18761, lr=0.000125, time_each_step=0.76s, eta=0:41:33\n",
      "2022-05-03 12:31:56 [INFO]\t[TRAIN] Epoch 192 finished, loss=7.471674, lr=0.000125 .\n"
     ]
    },
    {
     "name": "stderr",
     "output_type": "stream",
     "text": [
      "libpng warning: iCCP: known incorrect sRGB profile\n"
     ]
    },
    {
     "name": "stdout",
     "output_type": "stream",
     "text": [
      "2022-05-03 12:32:04 [INFO]\t[TRAIN] Epoch=193/270, Step=2/35, loss=4.360713, lr=0.000125, time_each_step=1.07s, eta=0:44:15\n",
      "2022-05-03 12:32:05 [INFO]\t[TRAIN] Epoch=193/270, Step=4/35, loss=9.310021, lr=0.000125, time_each_step=1.07s, eta=0:44:13\n",
      "2022-05-03 12:32:06 [INFO]\t[TRAIN] Epoch=193/270, Step=6/35, loss=9.232187, lr=0.000125, time_each_step=1.01s, eta=0:44:9\n",
      "2022-05-03 12:32:08 [INFO]\t[TRAIN] Epoch=193/270, Step=8/35, loss=9.150776, lr=0.000125, time_each_step=1.02s, eta=0:44:7\n",
      "2022-05-03 12:32:09 [INFO]\t[TRAIN] Epoch=193/270, Step=10/35, loss=11.306398, lr=0.000125, time_each_step=1.02s, eta=0:44:5\n",
      "2022-05-03 12:32:11 [INFO]\t[TRAIN] Epoch=193/270, Step=12/35, loss=8.933918, lr=0.000125, time_each_step=1.01s, eta=0:44:3\n",
      "2022-05-03 12:32:12 [INFO]\t[TRAIN] Epoch=193/270, Step=14/35, loss=4.739906, lr=0.000125, time_each_step=1.0s, eta=0:44:1\n",
      "2022-05-03 12:32:13 [INFO]\t[TRAIN] Epoch=193/270, Step=16/35, loss=8.72004, lr=0.000125, time_each_step=1.0s, eta=0:43:59\n",
      "2022-05-03 12:32:14 [INFO]\t[TRAIN] Epoch=193/270, Step=18/35, loss=8.61691, lr=0.000125, time_each_step=0.96s, eta=0:43:56\n",
      "2022-05-03 12:32:16 [INFO]\t[TRAIN] Epoch=193/270, Step=20/35, loss=7.732937, lr=0.000125, time_each_step=0.97s, eta=0:43:54\n",
      "2022-05-03 12:32:17 [INFO]\t[TRAIN] Epoch=193/270, Step=22/35, loss=7.191319, lr=0.000125, time_each_step=0.67s, eta=0:43:49\n",
      "2022-05-03 12:32:18 [INFO]\t[TRAIN] Epoch=193/270, Step=24/35, loss=4.308482, lr=0.000125, time_each_step=0.67s, eta=0:43:47\n",
      "2022-05-03 12:32:20 [INFO]\t[TRAIN] Epoch=193/270, Step=26/35, loss=8.430517, lr=0.000125, time_each_step=0.67s, eta=0:43:46\n",
      "2022-05-03 12:32:22 [INFO]\t[TRAIN] Epoch=193/270, Step=28/35, loss=10.616183, lr=0.000125, time_each_step=0.7s, eta=0:43:45\n"
     ]
    },
    {
     "name": "stderr",
     "output_type": "stream",
     "text": [
      "libpng warning: iCCP: known incorrect sRGB profile\n"
     ]
    },
    {
     "name": "stdout",
     "output_type": "stream",
     "text": [
      "2022-05-03 12:32:23 [INFO]\t[TRAIN] Epoch=193/270, Step=30/35, loss=7.165026, lr=0.000125, time_each_step=0.71s, eta=0:43:43\n",
      "2022-05-03 12:32:24 [INFO]\t[TRAIN] Epoch=193/270, Step=32/35, loss=7.761362, lr=0.000125, time_each_step=0.69s, eta=0:43:42\n",
      "2022-05-03 12:32:25 [INFO]\t[TRAIN] Epoch=193/270, Step=34/35, loss=6.498841, lr=0.000125, time_each_step=0.68s, eta=0:43:41\n",
      "2022-05-03 12:32:26 [INFO]\t[TRAIN] Epoch 193 finished, loss=7.677462, lr=0.000125 .\n",
      "2022-05-03 12:32:33 [INFO]\t[TRAIN] Epoch=194/270, Step=1/35, loss=4.98667, lr=0.000125, time_each_step=0.98s, eta=0:39:15\n",
      "2022-05-03 12:32:34 [INFO]\t[TRAIN] Epoch=194/270, Step=3/35, loss=7.838512, lr=0.000125, time_each_step=1.01s, eta=0:39:14\n"
     ]
    },
    {
     "name": "stderr",
     "output_type": "stream",
     "text": [
      "libpng warning: iCCP: known incorrect sRGB profile\n"
     ]
    },
    {
     "name": "stdout",
     "output_type": "stream",
     "text": [
      "2022-05-03 12:32:36 [INFO]\t[TRAIN] Epoch=194/270, Step=5/35, loss=6.134335, lr=0.000125, time_each_step=1.01s, eta=0:39:12\n",
      "2022-05-03 12:32:38 [INFO]\t[TRAIN] Epoch=194/270, Step=7/35, loss=8.588164, lr=0.000125, time_each_step=1.01s, eta=0:39:10\n",
      "2022-05-03 12:32:39 [INFO]\t[TRAIN] Epoch=194/270, Step=9/35, loss=8.141167, lr=0.000125, time_each_step=1.02s, eta=0:39:8\n",
      "2022-05-03 12:32:40 [INFO]\t[TRAIN] Epoch=194/270, Step=11/35, loss=11.588164, lr=0.000125, time_each_step=1.02s, eta=0:39:6\n",
      "2022-05-03 12:32:41 [INFO]\t[TRAIN] Epoch=194/270, Step=13/35, loss=6.215981, lr=0.000125, time_each_step=0.99s, eta=0:39:3\n",
      "2022-05-03 12:32:43 [INFO]\t[TRAIN] Epoch=194/270, Step=15/35, loss=9.412268, lr=0.000125, time_each_step=0.99s, eta=0:39:1\n",
      "2022-05-03 12:32:45 [INFO]\t[TRAIN] Epoch=194/270, Step=17/35, loss=7.136443, lr=0.000125, time_each_step=1.02s, eta=0:39:0\n",
      "2022-05-03 12:32:47 [INFO]\t[TRAIN] Epoch=194/270, Step=19/35, loss=8.034859, lr=0.000125, time_each_step=1.06s, eta=0:38:58\n",
      "2022-05-03 12:32:48 [INFO]\t[TRAIN] Epoch=194/270, Step=21/35, loss=7.183008, lr=0.000125, time_each_step=0.77s, eta=0:38:52\n",
      "2022-05-03 12:32:49 [INFO]\t[TRAIN] Epoch=194/270, Step=23/35, loss=4.265434, lr=0.000125, time_each_step=0.75s, eta=0:38:50\n",
      "2022-05-03 12:32:51 [INFO]\t[TRAIN] Epoch=194/270, Step=25/35, loss=7.760789, lr=0.000125, time_each_step=0.74s, eta=0:38:49\n"
     ]
    },
    {
     "name": "stderr",
     "output_type": "stream",
     "text": [
      "libpng warning: iCCP: known incorrect sRGB profile\n"
     ]
    },
    {
     "name": "stdout",
     "output_type": "stream",
     "text": [
      "2022-05-03 12:32:52 [INFO]\t[TRAIN] Epoch=194/270, Step=27/35, loss=8.498772, lr=0.000125, time_each_step=0.72s, eta=0:38:47\n",
      "2022-05-03 12:32:53 [INFO]\t[TRAIN] Epoch=194/270, Step=29/35, loss=6.851877, lr=0.000125, time_each_step=0.71s, eta=0:38:46\n",
      "2022-05-03 12:32:54 [INFO]\t[TRAIN] Epoch=194/270, Step=31/35, loss=6.589622, lr=0.000125, time_each_step=0.7s, eta=0:38:44\n",
      "2022-05-03 12:32:55 [INFO]\t[TRAIN] Epoch=194/270, Step=33/35, loss=6.633172, lr=0.000125, time_each_step=0.7s, eta=0:38:43\n",
      "2022-05-03 12:32:56 [INFO]\t[TRAIN] Epoch=194/270, Step=35/35, loss=6.650494, lr=0.000125, time_each_step=0.65s, eta=0:38:41\n",
      "2022-05-03 12:32:56 [INFO]\t[TRAIN] Epoch 194 finished, loss=7.440636, lr=0.000125 .\n",
      "2022-05-03 12:33:05 [INFO]\t[TRAIN] Epoch=195/270, Step=2/35, loss=8.716775, lr=0.000125, time_each_step=0.99s, eta=0:37:51\n",
      "2022-05-03 12:33:07 [INFO]\t[TRAIN] Epoch=195/270, Step=4/35, loss=9.652111, lr=0.000125, time_each_step=1.0s, eta=0:37:50\n"
     ]
    },
    {
     "name": "stderr",
     "output_type": "stream",
     "text": [
      "libpng warning: iCCP: known incorrect sRGB profile\n"
     ]
    },
    {
     "name": "stdout",
     "output_type": "stream",
     "text": [
      "2022-05-03 12:33:08 [INFO]\t[TRAIN] Epoch=195/270, Step=6/35, loss=11.288492, lr=0.000125, time_each_step=1.01s, eta=0:37:48\n",
      "2022-05-03 12:33:10 [INFO]\t[TRAIN] Epoch=195/270, Step=8/35, loss=6.583914, lr=0.000125, time_each_step=1.02s, eta=0:37:46\n",
      "2022-05-03 12:33:12 [INFO]\t[TRAIN] Epoch=195/270, Step=10/35, loss=9.302133, lr=0.000125, time_each_step=1.04s, eta=0:37:45\n",
      "2022-05-03 12:33:13 [INFO]\t[TRAIN] Epoch=195/270, Step=12/35, loss=11.034513, lr=0.000125, time_each_step=1.06s, eta=0:37:43\n",
      "2022-05-03 12:33:15 [INFO]\t[TRAIN] Epoch=195/270, Step=14/35, loss=5.457369, lr=0.000125, time_each_step=1.07s, eta=0:37:41\n",
      "2022-05-03 12:33:16 [INFO]\t[TRAIN] Epoch=195/270, Step=16/35, loss=8.07739, lr=0.000125, time_each_step=1.09s, eta=0:37:39\n",
      "2022-05-03 12:33:17 [INFO]\t[TRAIN] Epoch=195/270, Step=18/35, loss=5.625328, lr=0.000125, time_each_step=1.09s, eta=0:37:37\n",
      "2022-05-03 12:33:18 [INFO]\t[TRAIN] Epoch=195/270, Step=20/35, loss=5.01925, lr=0.000125, time_each_step=1.12s, eta=0:37:35\n",
      "2022-05-03 12:33:20 [INFO]\t[TRAIN] Epoch=195/270, Step=22/35, loss=9.473594, lr=0.000125, time_each_step=0.78s, eta=0:37:29\n",
      "2022-05-03 12:33:21 [INFO]\t[TRAIN] Epoch=195/270, Step=24/35, loss=8.03274, lr=0.000125, time_each_step=0.75s, eta=0:37:27\n",
      "2022-05-03 12:33:23 [INFO]\t[TRAIN] Epoch=195/270, Step=26/35, loss=11.890211, lr=0.000125, time_each_step=0.72s, eta=0:37:25\n"
     ]
    },
    {
     "name": "stderr",
     "output_type": "stream",
     "text": [
      "libpng warning: iCCP: known incorrect sRGB profile\n"
     ]
    },
    {
     "name": "stdout",
     "output_type": "stream",
     "text": [
      "2022-05-03 12:33:25 [INFO]\t[TRAIN] Epoch=195/270, Step=28/35, loss=7.477618, lr=0.000125, time_each_step=0.76s, eta=0:37:24\n",
      "2022-05-03 12:33:27 [INFO]\t[TRAIN] Epoch=195/270, Step=30/35, loss=7.619082, lr=0.000125, time_each_step=0.76s, eta=0:37:22\n",
      "2022-05-03 12:33:28 [INFO]\t[TRAIN] Epoch=195/270, Step=32/35, loss=6.612426, lr=0.000125, time_each_step=0.72s, eta=0:37:21\n",
      "2022-05-03 12:33:29 [INFO]\t[TRAIN] Epoch=195/270, Step=34/35, loss=4.976866, lr=0.000125, time_each_step=0.75s, eta=0:37:19\n",
      "2022-05-03 12:33:31 [INFO]\t[TRAIN] Epoch 195 finished, loss=7.970829, lr=0.000125 .\n",
      "2022-05-03 12:33:38 [INFO]\t[TRAIN] Epoch=196/270, Step=1/35, loss=6.061811, lr=0.000125, time_each_step=1.07s, eta=0:44:6\n"
     ]
    },
    {
     "name": "stderr",
     "output_type": "stream",
     "text": [
      "libpng warning: iCCP: known incorrect sRGB profile\n"
     ]
    },
    {
     "name": "stdout",
     "output_type": "stream",
     "text": [
      "2022-05-03 12:33:39 [INFO]\t[TRAIN] Epoch=196/270, Step=3/35, loss=7.29026, lr=0.000125, time_each_step=1.08s, eta=0:44:4\n",
      "2022-05-03 12:33:41 [INFO]\t[TRAIN] Epoch=196/270, Step=5/35, loss=9.333139, lr=0.000125, time_each_step=1.09s, eta=0:44:2\n",
      "2022-05-03 12:33:42 [INFO]\t[TRAIN] Epoch=196/270, Step=7/35, loss=8.606658, lr=0.000125, time_each_step=1.09s, eta=0:44:0\n",
      "2022-05-03 12:33:44 [INFO]\t[TRAIN] Epoch=196/270, Step=9/35, loss=7.277509, lr=0.000125, time_each_step=1.12s, eta=0:43:59\n",
      "2022-05-03 12:33:45 [INFO]\t[TRAIN] Epoch=196/270, Step=11/35, loss=8.028039, lr=0.000125, time_each_step=1.11s, eta=0:43:56\n",
      "2022-05-03 12:33:47 [INFO]\t[TRAIN] Epoch=196/270, Step=13/35, loss=6.528462, lr=0.000125, time_each_step=1.07s, eta=0:43:53\n",
      "2022-05-03 12:33:48 [INFO]\t[TRAIN] Epoch=196/270, Step=15/35, loss=8.231528, lr=0.000125, time_each_step=1.06s, eta=0:43:51\n",
      "2022-05-03 12:33:50 [INFO]\t[TRAIN] Epoch=196/270, Step=17/35, loss=5.782258, lr=0.000125, time_each_step=1.09s, eta=0:43:49\n",
      "2022-05-03 12:33:51 [INFO]\t[TRAIN] Epoch=196/270, Step=19/35, loss=8.645945, lr=0.000125, time_each_step=1.07s, eta=0:43:47\n",
      "2022-05-03 12:33:53 [INFO]\t[TRAIN] Epoch=196/270, Step=21/35, loss=10.277468, lr=0.000125, time_each_step=0.74s, eta=0:43:40\n",
      "2022-05-03 12:33:54 [INFO]\t[TRAIN] Epoch=196/270, Step=23/35, loss=6.748425, lr=0.000125, time_each_step=0.74s, eta=0:43:39\n",
      "2022-05-03 12:33:55 [INFO]\t[TRAIN] Epoch=196/270, Step=25/35, loss=6.625854, lr=0.000125, time_each_step=0.73s, eta=0:43:37\n"
     ]
    },
    {
     "name": "stderr",
     "output_type": "stream",
     "text": [
      "libpng warning: iCCP: known incorrect sRGB profile\n"
     ]
    },
    {
     "name": "stdout",
     "output_type": "stream",
     "text": [
      "2022-05-03 12:33:56 [INFO]\t[TRAIN] Epoch=196/270, Step=27/35, loss=7.276618, lr=0.000125, time_each_step=0.7s, eta=0:43:35\n",
      "2022-05-03 12:33:57 [INFO]\t[TRAIN] Epoch=196/270, Step=29/35, loss=9.079596, lr=0.000125, time_each_step=0.65s, eta=0:43:34\n",
      "2022-05-03 12:33:59 [INFO]\t[TRAIN] Epoch=196/270, Step=31/35, loss=8.607247, lr=0.000125, time_each_step=0.66s, eta=0:43:32\n",
      "2022-05-03 12:34:00 [INFO]\t[TRAIN] Epoch=196/270, Step=33/35, loss=10.840975, lr=0.000125, time_each_step=0.67s, eta=0:43:31\n",
      "2022-05-03 12:34:03 [INFO]\t[TRAIN] Epoch=196/270, Step=35/35, loss=8.566792, lr=0.000125, time_each_step=0.73s, eta=0:43:30\n",
      "2022-05-03 12:34:03 [INFO]\t[TRAIN] Epoch 196 finished, loss=7.653924, lr=0.000125 .\n",
      "2022-05-03 12:34:10 [INFO]\t[TRAIN] Epoch=197/270, Step=2/35, loss=6.263139, lr=0.000125, time_each_step=1.0s, eta=0:40:1\n"
     ]
    },
    {
     "name": "stderr",
     "output_type": "stream",
     "text": [
      "libpng warning: iCCP: known incorrect sRGB profile\n"
     ]
    },
    {
     "name": "stdout",
     "output_type": "stream",
     "text": [
      "2022-05-03 12:34:12 [INFO]\t[TRAIN] Epoch=197/270, Step=4/35, loss=8.370423, lr=0.000125, time_each_step=1.05s, eta=0:40:0\n",
      "2022-05-03 12:34:13 [INFO]\t[TRAIN] Epoch=197/270, Step=6/35, loss=8.085531, lr=0.000125, time_each_step=1.04s, eta=0:39:58\n",
      "2022-05-03 12:34:16 [INFO]\t[TRAIN] Epoch=197/270, Step=8/35, loss=7.120914, lr=0.000125, time_each_step=1.1s, eta=0:39:58\n",
      "2022-05-03 12:34:18 [INFO]\t[TRAIN] Epoch=197/270, Step=10/35, loss=4.694658, lr=0.000125, time_each_step=1.12s, eta=0:39:56\n",
      "2022-05-03 12:34:20 [INFO]\t[TRAIN] Epoch=197/270, Step=12/35, loss=6.724308, lr=0.000125, time_each_step=1.16s, eta=0:39:54\n",
      "2022-05-03 12:34:21 [INFO]\t[TRAIN] Epoch=197/270, Step=14/35, loss=6.024588, lr=0.000125, time_each_step=1.17s, eta=0:39:52\n",
      "2022-05-03 12:34:22 [INFO]\t[TRAIN] Epoch=197/270, Step=16/35, loss=8.330572, lr=0.000125, time_each_step=1.18s, eta=0:39:50\n",
      "2022-05-03 12:34:24 [INFO]\t[TRAIN] Epoch=197/270, Step=18/35, loss=5.252962, lr=0.000125, time_each_step=1.17s, eta=0:39:48\n",
      "2022-05-03 12:34:25 [INFO]\t[TRAIN] Epoch=197/270, Step=20/35, loss=5.305182, lr=0.000125, time_each_step=1.11s, eta=0:39:44\n"
     ]
    },
    {
     "name": "stderr",
     "output_type": "stream",
     "text": [
      "libpng warning: iCCP: known incorrect sRGB profile\n"
     ]
    },
    {
     "name": "stdout",
     "output_type": "stream",
     "text": [
      "2022-05-03 12:34:26 [INFO]\t[TRAIN] Epoch=197/270, Step=22/35, loss=8.381557, lr=0.000125, time_each_step=0.82s, eta=0:39:38\n",
      "2022-05-03 12:34:28 [INFO]\t[TRAIN] Epoch=197/270, Step=24/35, loss=8.242249, lr=0.000125, time_each_step=0.79s, eta=0:39:36\n",
      "2022-05-03 12:34:29 [INFO]\t[TRAIN] Epoch=197/270, Step=26/35, loss=7.003346, lr=0.000125, time_each_step=0.79s, eta=0:39:35\n",
      "2022-05-03 12:34:30 [INFO]\t[TRAIN] Epoch=197/270, Step=28/35, loss=7.503003, lr=0.000125, time_each_step=0.7s, eta=0:39:33\n",
      "2022-05-03 12:34:31 [INFO]\t[TRAIN] Epoch=197/270, Step=30/35, loss=6.155398, lr=0.000125, time_each_step=0.66s, eta=0:39:31\n",
      "2022-05-03 12:34:32 [INFO]\t[TRAIN] Epoch=197/270, Step=32/35, loss=6.415824, lr=0.000125, time_each_step=0.61s, eta=0:39:30\n",
      "2022-05-03 12:34:33 [INFO]\t[TRAIN] Epoch=197/270, Step=34/35, loss=5.165289, lr=0.000125, time_each_step=0.59s, eta=0:39:28\n",
      "2022-05-03 12:34:34 [INFO]\t[TRAIN] Epoch 197 finished, loss=7.555122, lr=0.000125 .\n",
      "2022-05-03 12:34:43 [INFO]\t[TRAIN] Epoch=198/270, Step=1/35, loss=7.25585, lr=0.000125, time_each_step=1.0s, eta=0:37:52\n",
      "2022-05-03 12:34:45 [INFO]\t[TRAIN] Epoch=198/270, Step=3/35, loss=9.605627, lr=0.000125, time_each_step=1.03s, eta=0:37:51\n",
      "2022-05-03 12:34:47 [INFO]\t[TRAIN] Epoch=198/270, Step=5/35, loss=8.4725, lr=0.000125, time_each_step=1.06s, eta=0:37:50\n"
     ]
    },
    {
     "name": "stderr",
     "output_type": "stream",
     "text": [
      "libpng warning: iCCP: known incorrect sRGB profile\n"
     ]
    },
    {
     "name": "stdout",
     "output_type": "stream",
     "text": [
      "2022-05-03 12:34:48 [INFO]\t[TRAIN] Epoch=198/270, Step=7/35, loss=11.836382, lr=0.000125, time_each_step=1.06s, eta=0:37:48\n",
      "2022-05-03 12:34:49 [INFO]\t[TRAIN] Epoch=198/270, Step=9/35, loss=5.679955, lr=0.000125, time_each_step=1.05s, eta=0:37:45\n",
      "2022-05-03 12:34:51 [INFO]\t[TRAIN] Epoch=198/270, Step=11/35, loss=6.261378, lr=0.000125, time_each_step=1.05s, eta=0:37:43\n",
      "2022-05-03 12:34:52 [INFO]\t[TRAIN] Epoch=198/270, Step=13/35, loss=3.290721, lr=0.000125, time_each_step=1.07s, eta=0:37:42\n",
      "2022-05-03 12:34:53 [INFO]\t[TRAIN] Epoch=198/270, Step=15/35, loss=6.685229, lr=0.000125, time_each_step=1.09s, eta=0:37:40\n",
      "2022-05-03 12:34:55 [INFO]\t[TRAIN] Epoch=198/270, Step=17/35, loss=8.465542, lr=0.000125, time_each_step=1.13s, eta=0:37:38\n",
      "2022-05-03 12:34:56 [INFO]\t[TRAIN] Epoch=198/270, Step=19/35, loss=4.925771, lr=0.000125, time_each_step=1.15s, eta=0:37:36\n",
      "2022-05-03 12:34:57 [INFO]\t[TRAIN] Epoch=198/270, Step=21/35, loss=6.197948, lr=0.000125, time_each_step=0.74s, eta=0:37:28\n",
      "2022-05-03 12:34:59 [INFO]\t[TRAIN] Epoch=198/270, Step=23/35, loss=8.787251, lr=0.000125, time_each_step=0.7s, eta=0:37:27\n",
      "2022-05-03 12:35:00 [INFO]\t[TRAIN] Epoch=198/270, Step=25/35, loss=4.727254, lr=0.000125, time_each_step=0.67s, eta=0:37:25\n",
      "2022-05-03 12:35:02 [INFO]\t[TRAIN] Epoch=198/270, Step=27/35, loss=11.105691, lr=0.000125, time_each_step=0.71s, eta=0:37:24\n",
      "2022-05-03 12:35:03 [INFO]\t[TRAIN] Epoch=198/270, Step=29/35, loss=7.944639, lr=0.000125, time_each_step=0.69s, eta=0:37:22\n",
      "2022-05-03 12:35:05 [INFO]\t[TRAIN] Epoch=198/270, Step=31/35, loss=8.043841, lr=0.000125, time_each_step=0.71s, eta=0:37:21\n"
     ]
    },
    {
     "name": "stderr",
     "output_type": "stream",
     "text": [
      "libpng warning: iCCP: known incorrect sRGB profile\n"
     ]
    },
    {
     "name": "stdout",
     "output_type": "stream",
     "text": [
      "2022-05-03 12:35:06 [INFO]\t[TRAIN] Epoch=198/270, Step=33/35, loss=8.538318, lr=0.000125, time_each_step=0.73s, eta=0:37:20\n",
      "2022-05-03 12:35:08 [INFO]\t[TRAIN] Epoch=198/270, Step=35/35, loss=7.05558, lr=0.000125, time_each_step=0.74s, eta=0:37:18\n",
      "2022-05-03 12:35:08 [INFO]\t[TRAIN] Epoch 198 finished, loss=7.921727, lr=0.000125 .\n",
      "2022-05-03 12:35:16 [INFO]\t[TRAIN] Epoch=199/270, Step=2/35, loss=8.870483, lr=0.000125, time_each_step=1.06s, eta=0:41:37\n",
      "2022-05-03 12:35:18 [INFO]\t[TRAIN] Epoch=199/270, Step=4/35, loss=6.605546, lr=0.000125, time_each_step=1.08s, eta=0:41:35\n"
     ]
    },
    {
     "name": "stderr",
     "output_type": "stream",
     "text": [
      "libpng warning: iCCP: known incorrect sRGB profile\n"
     ]
    },
    {
     "name": "stdout",
     "output_type": "stream",
     "text": [
      "2022-05-03 12:35:19 [INFO]\t[TRAIN] Epoch=199/270, Step=6/35, loss=10.193852, lr=0.000125, time_each_step=1.08s, eta=0:41:33\n",
      "2022-05-03 12:35:21 [INFO]\t[TRAIN] Epoch=199/270, Step=8/35, loss=5.975759, lr=0.000125, time_each_step=1.11s, eta=0:41:32\n",
      "2022-05-03 12:35:23 [INFO]\t[TRAIN] Epoch=199/270, Step=10/35, loss=8.146979, lr=0.000125, time_each_step=1.11s, eta=0:41:30\n",
      "2022-05-03 12:35:24 [INFO]\t[TRAIN] Epoch=199/270, Step=12/35, loss=7.277036, lr=0.000125, time_each_step=1.07s, eta=0:41:27\n",
      "2022-05-03 12:35:25 [INFO]\t[TRAIN] Epoch=199/270, Step=14/35, loss=10.131705, lr=0.000125, time_each_step=1.08s, eta=0:41:25\n",
      "2022-05-03 12:35:27 [INFO]\t[TRAIN] Epoch=199/270, Step=16/35, loss=5.526619, lr=0.000125, time_each_step=1.07s, eta=0:41:22\n",
      "2022-05-03 12:35:28 [INFO]\t[TRAIN] Epoch=199/270, Step=18/35, loss=6.835152, lr=0.000125, time_each_step=1.08s, eta=0:41:21\n",
      "2022-05-03 12:35:30 [INFO]\t[TRAIN] Epoch=199/270, Step=20/35, loss=8.639511, lr=0.000125, time_each_step=1.09s, eta=0:41:18\n",
      "2022-05-03 12:35:31 [INFO]\t[TRAIN] Epoch=199/270, Step=22/35, loss=7.787399, lr=0.000125, time_each_step=0.76s, eta=0:41:12\n",
      "2022-05-03 12:35:33 [INFO]\t[TRAIN] Epoch=199/270, Step=24/35, loss=7.562955, lr=0.000125, time_each_step=0.75s, eta=0:41:10\n"
     ]
    },
    {
     "name": "stderr",
     "output_type": "stream",
     "text": [
      "libpng warning: iCCP: known incorrect sRGB profile\n"
     ]
    },
    {
     "name": "stdout",
     "output_type": "stream",
     "text": [
      "2022-05-03 12:35:34 [INFO]\t[TRAIN] Epoch=199/270, Step=26/35, loss=14.227505, lr=0.000125, time_each_step=0.75s, eta=0:41:9\n",
      "2022-05-03 12:35:36 [INFO]\t[TRAIN] Epoch=199/270, Step=28/35, loss=10.962225, lr=0.000125, time_each_step=0.72s, eta=0:41:7\n",
      "2022-05-03 12:35:37 [INFO]\t[TRAIN] Epoch=199/270, Step=30/35, loss=8.591027, lr=0.000125, time_each_step=0.71s, eta=0:41:6\n",
      "2022-05-03 12:35:38 [INFO]\t[TRAIN] Epoch=199/270, Step=32/35, loss=8.017709, lr=0.000125, time_each_step=0.7s, eta=0:41:4\n",
      "2022-05-03 12:35:39 [INFO]\t[TRAIN] Epoch=199/270, Step=34/35, loss=6.766884, lr=0.000125, time_each_step=0.71s, eta=0:41:3\n",
      "2022-05-03 12:35:41 [INFO]\t[TRAIN] Epoch 199 finished, loss=7.989948, lr=0.000125 .\n",
      "2022-05-03 12:35:49 [INFO]\t[TRAIN] Epoch=200/270, Step=1/35, loss=4.872796, lr=0.000125, time_each_step=1.1s, eta=0:38:59\n",
      "2022-05-03 12:35:50 [INFO]\t[TRAIN] Epoch=200/270, Step=3/35, loss=9.383458, lr=0.000125, time_each_step=1.08s, eta=0:38:57\n"
     ]
    },
    {
     "name": "stderr",
     "output_type": "stream",
     "text": [
      "libpng warning: iCCP: known incorrect sRGB profile\n"
     ]
    },
    {
     "name": "stdout",
     "output_type": "stream",
     "text": [
      "2022-05-03 12:35:52 [INFO]\t[TRAIN] Epoch=200/270, Step=5/35, loss=7.734941, lr=0.000125, time_each_step=1.08s, eta=0:38:54\n",
      "2022-05-03 12:35:54 [INFO]\t[TRAIN] Epoch=200/270, Step=7/35, loss=8.764658, lr=0.000125, time_each_step=1.1s, eta=0:38:53\n",
      "2022-05-03 12:35:56 [INFO]\t[TRAIN] Epoch=200/270, Step=9/35, loss=6.124786, lr=0.000125, time_each_step=1.15s, eta=0:38:52\n",
      "2022-05-03 12:35:58 [INFO]\t[TRAIN] Epoch=200/270, Step=11/35, loss=6.821013, lr=0.000125, time_each_step=1.14s, eta=0:38:49\n",
      "2022-05-03 12:35:59 [INFO]\t[TRAIN] Epoch=200/270, Step=13/35, loss=8.451138, lr=0.000125, time_each_step=1.13s, eta=0:38:47\n",
      "2022-05-03 12:36:00 [INFO]\t[TRAIN] Epoch=200/270, Step=15/35, loss=11.042203, lr=0.000125, time_each_step=1.14s, eta=0:38:45\n",
      "2022-05-03 12:36:02 [INFO]\t[TRAIN] Epoch=200/270, Step=17/35, loss=11.115005, lr=0.000125, time_each_step=1.16s, eta=0:38:43\n",
      "2022-05-03 12:36:03 [INFO]\t[TRAIN] Epoch=200/270, Step=19/35, loss=7.163592, lr=0.000125, time_each_step=1.16s, eta=0:38:41\n",
      "2022-05-03 12:36:05 [INFO]\t[TRAIN] Epoch=200/270, Step=21/35, loss=9.440681, lr=0.000125, time_each_step=0.78s, eta=0:38:33\n"
     ]
    },
    {
     "name": "stderr",
     "output_type": "stream",
     "text": [
      "libpng warning: iCCP: known incorrect sRGB profile\n"
     ]
    },
    {
     "name": "stdout",
     "output_type": "stream",
     "text": [
      "2022-05-03 12:36:07 [INFO]\t[TRAIN] Epoch=200/270, Step=23/35, loss=5.652801, lr=0.000125, time_each_step=0.81s, eta=0:38:32\n",
      "2022-05-03 12:36:08 [INFO]\t[TRAIN] Epoch=200/270, Step=25/35, loss=4.177552, lr=0.000125, time_each_step=0.8s, eta=0:38:30\n",
      "2022-05-03 12:36:10 [INFO]\t[TRAIN] Epoch=200/270, Step=27/35, loss=5.658931, lr=0.000125, time_each_step=0.79s, eta=0:38:28\n",
      "2022-05-03 12:36:11 [INFO]\t[TRAIN] Epoch=200/270, Step=29/35, loss=6.773963, lr=0.000125, time_each_step=0.72s, eta=0:38:26\n",
      "2022-05-03 12:36:12 [INFO]\t[TRAIN] Epoch=200/270, Step=31/35, loss=7.009132, lr=0.000125, time_each_step=0.73s, eta=0:38:25\n",
      "2022-05-03 12:36:13 [INFO]\t[TRAIN] Epoch=200/270, Step=33/35, loss=8.362288, lr=0.000125, time_each_step=0.7s, eta=0:38:23\n",
      "2022-05-03 12:36:15 [INFO]\t[TRAIN] Epoch=200/270, Step=35/35, loss=8.096702, lr=0.000125, time_each_step=0.74s, eta=0:38:22\n",
      "2022-05-03 12:36:15 [INFO]\t[TRAIN] Epoch 200 finished, loss=7.750642, lr=0.000125 .\n",
      "2022-05-03 12:36:26 [INFO]\t[TRAIN] Epoch=201/270, Step=2/35, loss=5.201512, lr=0.000125, time_each_step=1.18s, eta=0:40:51\n"
     ]
    },
    {
     "name": "stderr",
     "output_type": "stream",
     "text": [
      "libpng warning: iCCP: known incorrect sRGB profile\n"
     ]
    },
    {
     "name": "stdout",
     "output_type": "stream",
     "text": [
      "2022-05-03 12:36:27 [INFO]\t[TRAIN] Epoch=201/270, Step=4/35, loss=7.780446, lr=0.000125, time_each_step=1.2s, eta=0:40:50\n",
      "2022-05-03 12:36:29 [INFO]\t[TRAIN] Epoch=201/270, Step=6/35, loss=8.044386, lr=0.000125, time_each_step=1.21s, eta=0:40:47\n",
      "2022-05-03 12:36:31 [INFO]\t[TRAIN] Epoch=201/270, Step=8/35, loss=9.178909, lr=0.000125, time_each_step=1.18s, eta=0:40:44\n",
      "2022-05-03 12:36:32 [INFO]\t[TRAIN] Epoch=201/270, Step=10/35, loss=9.533863, lr=0.000125, time_each_step=1.18s, eta=0:40:42\n",
      "2022-05-03 12:36:33 [INFO]\t[TRAIN] Epoch=201/270, Step=12/35, loss=5.572128, lr=0.000125, time_each_step=1.17s, eta=0:40:39\n",
      "2022-05-03 12:36:35 [INFO]\t[TRAIN] Epoch=201/270, Step=14/35, loss=10.740258, lr=0.000125, time_each_step=1.21s, eta=0:40:38\n",
      "2022-05-03 12:36:37 [INFO]\t[TRAIN] Epoch=201/270, Step=16/35, loss=9.21778, lr=0.000125, time_each_step=1.2s, eta=0:40:35\n",
      "2022-05-03 12:36:39 [INFO]\t[TRAIN] Epoch=201/270, Step=18/35, loss=9.309282, lr=0.000125, time_each_step=1.26s, eta=0:40:34\n",
      "2022-05-03 12:36:40 [INFO]\t[TRAIN] Epoch=201/270, Step=20/35, loss=9.911805, lr=0.000125, time_each_step=1.24s, eta=0:40:31\n"
     ]
    },
    {
     "name": "stderr",
     "output_type": "stream",
     "text": [
      "libpng warning: iCCP: known incorrect sRGB profile\n"
     ]
    },
    {
     "name": "stdout",
     "output_type": "stream",
     "text": [
      "2022-05-03 12:36:41 [INFO]\t[TRAIN] Epoch=201/270, Step=22/35, loss=8.366566, lr=0.000125, time_each_step=0.79s, eta=0:40:23\n",
      "2022-05-03 12:36:43 [INFO]\t[TRAIN] Epoch=201/270, Step=24/35, loss=7.585645, lr=0.000125, time_each_step=0.77s, eta=0:40:21\n",
      "2022-05-03 12:36:44 [INFO]\t[TRAIN] Epoch=201/270, Step=26/35, loss=3.991618, lr=0.000125, time_each_step=0.74s, eta=0:40:19\n",
      "2022-05-03 12:36:45 [INFO]\t[TRAIN] Epoch=201/270, Step=28/35, loss=8.008078, lr=0.000125, time_each_step=0.71s, eta=0:40:17\n",
      "2022-05-03 12:36:46 [INFO]\t[TRAIN] Epoch=201/270, Step=30/35, loss=8.756971, lr=0.000125, time_each_step=0.68s, eta=0:40:16\n",
      "2022-05-03 12:36:46 [INFO]\t[TRAIN] Epoch=201/270, Step=32/35, loss=8.449645, lr=0.000125, time_each_step=0.65s, eta=0:40:14\n",
      "2022-05-03 12:36:47 [INFO]\t[TRAIN] Epoch=201/270, Step=34/35, loss=5.118382, lr=0.000125, time_each_step=0.59s, eta=0:40:13\n",
      "2022-05-03 12:36:48 [INFO]\t[TRAIN] Epoch 201 finished, loss=7.603031, lr=0.000125 .\n",
      "2022-05-03 12:36:58 [INFO]\t[TRAIN] Epoch=202/270, Step=1/35, loss=4.721245, lr=0.000125, time_each_step=1.05s, eta=0:38:17\n",
      "2022-05-03 12:37:00 [INFO]\t[TRAIN] Epoch=202/270, Step=3/35, loss=6.885617, lr=0.000125, time_each_step=1.04s, eta=0:38:15\n"
     ]
    },
    {
     "name": "stderr",
     "output_type": "stream",
     "text": [
      "libpng warning: iCCP: known incorrect sRGB profile\n"
     ]
    },
    {
     "name": "stdout",
     "output_type": "stream",
     "text": [
      "2022-05-03 12:37:01 [INFO]\t[TRAIN] Epoch=202/270, Step=5/35, loss=7.033477, lr=0.000125, time_each_step=1.05s, eta=0:38:13\n",
      "2022-05-03 12:37:03 [INFO]\t[TRAIN] Epoch=202/270, Step=7/35, loss=9.131963, lr=0.000125, time_each_step=1.07s, eta=0:38:11\n",
      "2022-05-03 12:37:04 [INFO]\t[TRAIN] Epoch=202/270, Step=9/35, loss=4.58834, lr=0.000125, time_each_step=1.06s, eta=0:38:9\n",
      "2022-05-03 12:37:06 [INFO]\t[TRAIN] Epoch=202/270, Step=11/35, loss=8.883967, lr=0.000125, time_each_step=1.1s, eta=0:38:8\n",
      "2022-05-03 12:37:07 [INFO]\t[TRAIN] Epoch=202/270, Step=13/35, loss=8.795294, lr=0.000125, time_each_step=1.12s, eta=0:38:6\n",
      "2022-05-03 12:37:09 [INFO]\t[TRAIN] Epoch=202/270, Step=15/35, loss=9.836767, lr=0.000125, time_each_step=1.19s, eta=0:38:5\n",
      "2022-05-03 12:37:11 [INFO]\t[TRAIN] Epoch=202/270, Step=17/35, loss=7.381851, lr=0.000125, time_each_step=1.23s, eta=0:38:3\n",
      "2022-05-03 12:37:12 [INFO]\t[TRAIN] Epoch=202/270, Step=19/35, loss=5.534055, lr=0.000125, time_each_step=1.26s, eta=0:38:2\n",
      "2022-05-03 12:37:14 [INFO]\t[TRAIN] Epoch=202/270, Step=21/35, loss=9.721129, lr=0.000125, time_each_step=0.81s, eta=0:37:53\n",
      "2022-05-03 12:37:15 [INFO]\t[TRAIN] Epoch=202/270, Step=23/35, loss=8.004036, lr=0.000125, time_each_step=0.78s, eta=0:37:51\n",
      "2022-05-03 12:37:17 [INFO]\t[TRAIN] Epoch=202/270, Step=25/35, loss=7.678343, lr=0.000125, time_each_step=0.77s, eta=0:37:49\n"
     ]
    },
    {
     "name": "stderr",
     "output_type": "stream",
     "text": [
      "libpng warning: iCCP: known incorrect sRGB profile\n"
     ]
    },
    {
     "name": "stdout",
     "output_type": "stream",
     "text": [
      "2022-05-03 12:37:18 [INFO]\t[TRAIN] Epoch=202/270, Step=27/35, loss=8.047287, lr=0.000125, time_each_step=0.76s, eta=0:37:47\n",
      "2022-05-03 12:37:19 [INFO]\t[TRAIN] Epoch=202/270, Step=29/35, loss=8.018346, lr=0.000125, time_each_step=0.76s, eta=0:37:46\n",
      "2022-05-03 12:37:20 [INFO]\t[TRAIN] Epoch=202/270, Step=31/35, loss=10.620285, lr=0.000125, time_each_step=0.71s, eta=0:37:44\n",
      "2022-05-03 12:37:21 [INFO]\t[TRAIN] Epoch=202/270, Step=33/35, loss=6.532122, lr=0.000125, time_each_step=0.69s, eta=0:37:43\n",
      "2022-05-03 12:37:22 [INFO]\t[TRAIN] Epoch=202/270, Step=35/35, loss=10.573214, lr=0.000125, time_each_step=0.65s, eta=0:37:41\n",
      "2022-05-03 12:37:23 [INFO]\t[TRAIN] Epoch 202 finished, loss=7.877525, lr=0.000125 .\n",
      "2022-05-03 12:37:33 [INFO]\t[TRAIN] Epoch=203/270, Step=2/35, loss=3.184571, lr=0.000125, time_each_step=1.06s, eta=0:39:37\n"
     ]
    },
    {
     "name": "stderr",
     "output_type": "stream",
     "text": [
      "libpng warning: iCCP: known incorrect sRGB profile\n"
     ]
    },
    {
     "name": "stdout",
     "output_type": "stream",
     "text": [
      "2022-05-03 12:37:36 [INFO]\t[TRAIN] Epoch=203/270, Step=4/35, loss=7.45187, lr=0.000125, time_each_step=1.14s, eta=0:39:37\n",
      "2022-05-03 12:37:37 [INFO]\t[TRAIN] Epoch=203/270, Step=6/35, loss=7.640768, lr=0.000125, time_each_step=1.13s, eta=0:39:35\n",
      "2022-05-03 12:37:38 [INFO]\t[TRAIN] Epoch=203/270, Step=8/35, loss=8.022901, lr=0.000125, time_each_step=1.14s, eta=0:39:33\n",
      "2022-05-03 12:37:40 [INFO]\t[TRAIN] Epoch=203/270, Step=10/35, loss=4.588026, lr=0.000125, time_each_step=1.15s, eta=0:39:31\n",
      "2022-05-03 12:37:41 [INFO]\t[TRAIN] Epoch=203/270, Step=12/35, loss=7.463299, lr=0.000125, time_each_step=1.15s, eta=0:39:28\n",
      "2022-05-03 12:37:43 [INFO]\t[TRAIN] Epoch=203/270, Step=14/35, loss=6.697885, lr=0.000125, time_each_step=1.15s, eta=0:39:26\n",
      "2022-05-03 12:37:44 [INFO]\t[TRAIN] Epoch=203/270, Step=16/35, loss=7.77301, lr=0.000125, time_each_step=1.18s, eta=0:39:24\n",
      "2022-05-03 12:37:46 [INFO]\t[TRAIN] Epoch=203/270, Step=18/35, loss=7.601498, lr=0.000125, time_each_step=1.22s, eta=0:39:23\n",
      "2022-05-03 12:37:47 [INFO]\t[TRAIN] Epoch=203/270, Step=20/35, loss=6.990297, lr=0.000125, time_each_step=1.22s, eta=0:39:20\n",
      "2022-05-03 12:37:49 [INFO]\t[TRAIN] Epoch=203/270, Step=22/35, loss=6.314413, lr=0.000125, time_each_step=0.8s, eta=0:39:12\n",
      "2022-05-03 12:37:50 [INFO]\t[TRAIN] Epoch=203/270, Step=24/35, loss=7.573901, lr=0.000125, time_each_step=0.72s, eta=0:39:10\n"
     ]
    },
    {
     "name": "stderr",
     "output_type": "stream",
     "text": [
      "libpng warning: iCCP: known incorrect sRGB profile\n"
     ]
    },
    {
     "name": "stdout",
     "output_type": "stream",
     "text": [
      "2022-05-03 12:37:51 [INFO]\t[TRAIN] Epoch=203/270, Step=26/35, loss=10.003206, lr=0.000125, time_each_step=0.71s, eta=0:39:8\n",
      "2022-05-03 12:37:52 [INFO]\t[TRAIN] Epoch=203/270, Step=28/35, loss=7.244258, lr=0.000125, time_each_step=0.68s, eta=0:39:7\n",
      "2022-05-03 12:37:53 [INFO]\t[TRAIN] Epoch=203/270, Step=30/35, loss=6.202414, lr=0.000125, time_each_step=0.64s, eta=0:39:5\n",
      "2022-05-03 12:37:54 [INFO]\t[TRAIN] Epoch=203/270, Step=32/35, loss=5.00261, lr=0.000125, time_each_step=0.62s, eta=0:39:4\n",
      "2022-05-03 12:37:55 [INFO]\t[TRAIN] Epoch=203/270, Step=34/35, loss=6.794043, lr=0.000125, time_each_step=0.6s, eta=0:39:3\n",
      "2022-05-03 12:37:56 [INFO]\t[TRAIN] Epoch 203 finished, loss=7.42654, lr=0.000125 .\n",
      "2022-05-03 12:38:03 [INFO]\t[TRAIN] Epoch=204/270, Step=1/35, loss=8.505747, lr=0.000125, time_each_step=0.91s, eta=0:37:36\n",
      "2022-05-03 12:38:05 [INFO]\t[TRAIN] Epoch=204/270, Step=3/35, loss=7.417758, lr=0.000125, time_each_step=0.93s, eta=0:37:35\n"
     ]
    },
    {
     "name": "stderr",
     "output_type": "stream",
     "text": [
      "libpng warning: iCCP: known incorrect sRGB profile\n"
     ]
    },
    {
     "name": "stdout",
     "output_type": "stream",
     "text": [
      "2022-05-03 12:38:07 [INFO]\t[TRAIN] Epoch=204/270, Step=5/35, loss=9.979655, lr=0.000125, time_each_step=0.95s, eta=0:37:33\n",
      "2022-05-03 12:38:08 [INFO]\t[TRAIN] Epoch=204/270, Step=7/35, loss=7.468944, lr=0.000125, time_each_step=0.96s, eta=0:37:32\n",
      "2022-05-03 12:38:09 [INFO]\t[TRAIN] Epoch=204/270, Step=9/35, loss=7.865642, lr=0.000125, time_each_step=0.93s, eta=0:37:29\n",
      "2022-05-03 12:38:11 [INFO]\t[TRAIN] Epoch=204/270, Step=11/35, loss=6.952519, lr=0.000125, time_each_step=0.95s, eta=0:37:27\n",
      "2022-05-03 12:38:12 [INFO]\t[TRAIN] Epoch=204/270, Step=13/35, loss=6.598015, lr=0.000125, time_each_step=0.98s, eta=0:37:26\n",
      "2022-05-03 12:38:14 [INFO]\t[TRAIN] Epoch=204/270, Step=15/35, loss=9.059139, lr=0.000125, time_each_step=1.01s, eta=0:37:25\n",
      "2022-05-03 12:38:15 [INFO]\t[TRAIN] Epoch=204/270, Step=17/35, loss=5.576253, lr=0.000125, time_each_step=1.04s, eta=0:37:23\n",
      "2022-05-03 12:38:17 [INFO]\t[TRAIN] Epoch=204/270, Step=19/35, loss=9.114155, lr=0.000125, time_each_step=1.07s, eta=0:37:22\n",
      "2022-05-03 12:38:18 [INFO]\t[TRAIN] Epoch=204/270, Step=21/35, loss=6.376681, lr=0.000125, time_each_step=0.75s, eta=0:37:15\n",
      "2022-05-03 12:38:19 [INFO]\t[TRAIN] Epoch=204/270, Step=23/35, loss=9.478815, lr=0.000125, time_each_step=0.71s, eta=0:37:13\n",
      "2022-05-03 12:38:20 [INFO]\t[TRAIN] Epoch=204/270, Step=25/35, loss=8.447079, lr=0.000125, time_each_step=0.67s, eta=0:37:11\n"
     ]
    },
    {
     "name": "stderr",
     "output_type": "stream",
     "text": [
      "libpng warning: iCCP: known incorrect sRGB profile\n"
     ]
    },
    {
     "name": "stdout",
     "output_type": "stream",
     "text": [
      "2022-05-03 12:38:21 [INFO]\t[TRAIN] Epoch=204/270, Step=27/35, loss=10.413482, lr=0.000125, time_each_step=0.65s, eta=0:37:10\n",
      "2022-05-03 12:38:22 [INFO]\t[TRAIN] Epoch=204/270, Step=29/35, loss=5.314547, lr=0.000125, time_each_step=0.66s, eta=0:37:9\n",
      "2022-05-03 12:38:24 [INFO]\t[TRAIN] Epoch=204/270, Step=31/35, loss=11.476287, lr=0.000125, time_each_step=0.69s, eta=0:37:7\n",
      "2022-05-03 12:38:26 [INFO]\t[TRAIN] Epoch=204/270, Step=33/35, loss=8.403039, lr=0.000125, time_each_step=0.69s, eta=0:37:6\n",
      "2022-05-03 12:38:28 [INFO]\t[TRAIN] Epoch=204/270, Step=35/35, loss=5.651163, lr=0.000125, time_each_step=0.71s, eta=0:37:5\n",
      "2022-05-03 12:38:28 [INFO]\t[TRAIN] Epoch 204 finished, loss=7.810824, lr=0.000125 .\n",
      "2022-05-03 12:38:37 [INFO]\t[TRAIN] Epoch=205/270, Step=2/35, loss=8.250934, lr=0.000125, time_each_step=1.06s, eta=0:35:53\n",
      "2022-05-03 12:38:39 [INFO]\t[TRAIN] Epoch=205/270, Step=4/35, loss=6.147305, lr=0.000125, time_each_step=1.08s, eta=0:35:52\n",
      "2022-05-03 12:38:40 [INFO]\t[TRAIN] Epoch=205/270, Step=6/35, loss=12.573889, lr=0.000125, time_each_step=1.1s, eta=0:35:50\n"
     ]
    },
    {
     "name": "stderr",
     "output_type": "stream",
     "text": [
      "libpng warning: iCCP: known incorrect sRGB profile\n"
     ]
    },
    {
     "name": "stdout",
     "output_type": "stream",
     "text": [
      "2022-05-03 12:38:42 [INFO]\t[TRAIN] Epoch=205/270, Step=8/35, loss=9.850217, lr=0.000125, time_each_step=1.1s, eta=0:35:48\n",
      "2022-05-03 12:38:43 [INFO]\t[TRAIN] Epoch=205/270, Step=10/35, loss=5.117411, lr=0.000125, time_each_step=1.14s, eta=0:35:47\n",
      "2022-05-03 12:38:45 [INFO]\t[TRAIN] Epoch=205/270, Step=12/35, loss=6.015716, lr=0.000125, time_each_step=1.15s, eta=0:35:45\n",
      "2022-05-03 12:38:46 [INFO]\t[TRAIN] Epoch=205/270, Step=14/35, loss=7.463542, lr=0.000125, time_each_step=1.16s, eta=0:35:43\n",
      "2022-05-03 12:38:48 [INFO]\t[TRAIN] Epoch=205/270, Step=16/35, loss=5.192619, lr=0.000125, time_each_step=1.15s, eta=0:35:40\n",
      "2022-05-03 12:38:50 [INFO]\t[TRAIN] Epoch=205/270, Step=18/35, loss=9.050122, lr=0.000125, time_each_step=1.17s, eta=0:35:38\n",
      "2022-05-03 12:38:51 [INFO]\t[TRAIN] Epoch=205/270, Step=20/35, loss=6.493682, lr=0.000125, time_each_step=1.13s, eta=0:35:35\n",
      "2022-05-03 12:38:52 [INFO]\t[TRAIN] Epoch=205/270, Step=22/35, loss=11.804827, lr=0.000125, time_each_step=0.77s, eta=0:35:28\n",
      "2022-05-03 12:38:54 [INFO]\t[TRAIN] Epoch=205/270, Step=24/35, loss=11.285111, lr=0.000125, time_each_step=0.77s, eta=0:35:27\n",
      "2022-05-03 12:38:56 [INFO]\t[TRAIN] Epoch=205/270, Step=26/35, loss=6.362252, lr=0.000125, time_each_step=0.78s, eta=0:35:25\n"
     ]
    },
    {
     "name": "stderr",
     "output_type": "stream",
     "text": [
      "libpng warning: iCCP: known incorrect sRGB profile\n"
     ]
    },
    {
     "name": "stdout",
     "output_type": "stream",
     "text": [
      "2022-05-03 12:38:58 [INFO]\t[TRAIN] Epoch=205/270, Step=28/35, loss=7.690685, lr=0.000125, time_each_step=0.8s, eta=0:35:24\n",
      "2022-05-03 12:39:00 [INFO]\t[TRAIN] Epoch=205/270, Step=30/35, loss=7.639851, lr=0.000125, time_each_step=0.82s, eta=0:35:22\n",
      "2022-05-03 12:39:01 [INFO]\t[TRAIN] Epoch=205/270, Step=32/35, loss=7.920208, lr=0.000125, time_each_step=0.81s, eta=0:35:21\n",
      "2022-05-03 12:39:03 [INFO]\t[TRAIN] Epoch=205/270, Step=34/35, loss=7.601853, lr=0.000125, time_each_step=0.87s, eta=0:35:19\n",
      "2022-05-03 12:39:04 [INFO]\t[TRAIN] Epoch 205 finished, loss=8.07348, lr=0.000125 .\n",
      "2022-05-03 12:39:12 [INFO]\t[TRAIN] Epoch=206/270, Step=1/35, loss=5.765219, lr=0.000125, time_each_step=1.2s, eta=0:39:39\n",
      "2022-05-03 12:39:15 [INFO]\t[TRAIN] Epoch=206/270, Step=3/35, loss=8.405499, lr=0.000125, time_each_step=1.23s, eta=0:39:38\n",
      "2022-05-03 12:39:16 [INFO]\t[TRAIN] Epoch=206/270, Step=5/35, loss=10.648244, lr=0.000125, time_each_step=1.23s, eta=0:39:35\n"
     ]
    },
    {
     "name": "stderr",
     "output_type": "stream",
     "text": [
      "libpng warning: iCCP: known incorrect sRGB profile\n"
     ]
    },
    {
     "name": "stdout",
     "output_type": "stream",
     "text": [
      "2022-05-03 12:39:18 [INFO]\t[TRAIN] Epoch=206/270, Step=7/35, loss=10.44742, lr=0.000125, time_each_step=1.26s, eta=0:39:34\n",
      "2022-05-03 12:39:19 [INFO]\t[TRAIN] Epoch=206/270, Step=9/35, loss=6.346641, lr=0.000125, time_each_step=1.23s, eta=0:39:30\n",
      "2022-05-03 12:39:21 [INFO]\t[TRAIN] Epoch=206/270, Step=11/35, loss=8.562998, lr=0.000125, time_each_step=1.22s, eta=0:39:28\n",
      "2022-05-03 12:39:22 [INFO]\t[TRAIN] Epoch=206/270, Step=13/35, loss=8.749191, lr=0.000125, time_each_step=1.22s, eta=0:39:25\n",
      "2022-05-03 12:39:24 [INFO]\t[TRAIN] Epoch=206/270, Step=15/35, loss=11.925637, lr=0.000125, time_each_step=1.2s, eta=0:39:22\n",
      "2022-05-03 12:39:26 [INFO]\t[TRAIN] Epoch=206/270, Step=17/35, loss=6.962249, lr=0.000125, time_each_step=1.21s, eta=0:39:20\n",
      "2022-05-03 12:39:27 [INFO]\t[TRAIN] Epoch=206/270, Step=19/35, loss=10.046137, lr=0.000125, time_each_step=1.15s, eta=0:39:17\n",
      "2022-05-03 12:39:28 [INFO]\t[TRAIN] Epoch=206/270, Step=21/35, loss=7.936516, lr=0.000125, time_each_step=0.79s, eta=0:39:10\n",
      "2022-05-03 12:39:30 [INFO]\t[TRAIN] Epoch=206/270, Step=23/35, loss=8.54181, lr=0.000125, time_each_step=0.75s, eta=0:39:7\n",
      "2022-05-03 12:39:31 [INFO]\t[TRAIN] Epoch=206/270, Step=25/35, loss=9.269657, lr=0.000125, time_each_step=0.74s, eta=0:39:6\n"
     ]
    },
    {
     "name": "stderr",
     "output_type": "stream",
     "text": [
      "libpng warning: iCCP: known incorrect sRGB profile\n"
     ]
    },
    {
     "name": "stdout",
     "output_type": "stream",
     "text": [
      "2022-05-03 12:39:32 [INFO]\t[TRAIN] Epoch=206/270, Step=27/35, loss=14.158255, lr=0.000125, time_each_step=0.72s, eta=0:39:4\n",
      "2022-05-03 12:39:33 [INFO]\t[TRAIN] Epoch=206/270, Step=29/35, loss=10.091679, lr=0.000125, time_each_step=0.7s, eta=0:39:3\n",
      "2022-05-03 12:39:34 [INFO]\t[TRAIN] Epoch=206/270, Step=31/35, loss=5.495952, lr=0.000125, time_each_step=0.69s, eta=0:39:1\n",
      "2022-05-03 12:39:35 [INFO]\t[TRAIN] Epoch=206/270, Step=33/35, loss=8.98597, lr=0.000125, time_each_step=0.65s, eta=0:39:0\n",
      "2022-05-03 12:39:36 [INFO]\t[TRAIN] Epoch=206/270, Step=35/35, loss=8.277331, lr=0.000125, time_each_step=0.61s, eta=0:38:58\n",
      "2022-05-03 12:39:37 [INFO]\t[TRAIN] Epoch 206 finished, loss=8.313487, lr=0.000125 .\n",
      "2022-05-03 12:39:47 [INFO]\t[TRAIN] Epoch=207/270, Step=2/35, loss=7.586888, lr=0.000125, time_each_step=1.04s, eta=0:34:39\n"
     ]
    },
    {
     "name": "stderr",
     "output_type": "stream",
     "text": [
      "libpng warning: iCCP: known incorrect sRGB profile\n"
     ]
    },
    {
     "name": "stdout",
     "output_type": "stream",
     "text": [
      "2022-05-03 12:39:49 [INFO]\t[TRAIN] Epoch=207/270, Step=4/35, loss=9.03558, lr=0.000125, time_each_step=1.11s, eta=0:34:39\n",
      "2022-05-03 12:39:50 [INFO]\t[TRAIN] Epoch=207/270, Step=6/35, loss=6.46888, lr=0.000125, time_each_step=1.1s, eta=0:34:37\n",
      "2022-05-03 12:39:52 [INFO]\t[TRAIN] Epoch=207/270, Step=8/35, loss=7.467535, lr=0.000125, time_each_step=1.11s, eta=0:34:35\n",
      "2022-05-03 12:39:54 [INFO]\t[TRAIN] Epoch=207/270, Step=10/35, loss=5.94311, lr=0.000125, time_each_step=1.13s, eta=0:34:33\n",
      "2022-05-03 12:39:55 [INFO]\t[TRAIN] Epoch=207/270, Step=12/35, loss=3.640265, lr=0.000125, time_each_step=1.12s, eta=0:34:31\n",
      "2022-05-03 12:39:56 [INFO]\t[TRAIN] Epoch=207/270, Step=14/35, loss=3.490227, lr=0.000125, time_each_step=1.15s, eta=0:34:29\n",
      "2022-05-03 12:39:58 [INFO]\t[TRAIN] Epoch=207/270, Step=16/35, loss=6.769506, lr=0.000125, time_each_step=1.16s, eta=0:34:27\n",
      "2022-05-03 12:39:59 [INFO]\t[TRAIN] Epoch=207/270, Step=18/35, loss=7.442897, lr=0.000125, time_each_step=1.18s, eta=0:34:25\n",
      "2022-05-03 12:40:01 [INFO]\t[TRAIN] Epoch=207/270, Step=20/35, loss=6.502091, lr=0.000125, time_each_step=1.2s, eta=0:34:23\n",
      "2022-05-03 12:40:02 [INFO]\t[TRAIN] Epoch=207/270, Step=22/35, loss=8.197098, lr=0.000125, time_each_step=0.75s, eta=0:34:15\n"
     ]
    },
    {
     "name": "stderr",
     "output_type": "stream",
     "text": [
      "libpng warning: iCCP: known incorrect sRGB profile\n"
     ]
    },
    {
     "name": "stdout",
     "output_type": "stream",
     "text": [
      "2022-05-03 12:40:03 [INFO]\t[TRAIN] Epoch=207/270, Step=24/35, loss=3.974849, lr=0.000125, time_each_step=0.68s, eta=0:34:12\n",
      "2022-05-03 12:40:04 [INFO]\t[TRAIN] Epoch=207/270, Step=26/35, loss=9.259338, lr=0.000125, time_each_step=0.68s, eta=0:34:11\n",
      "2022-05-03 12:40:05 [INFO]\t[TRAIN] Epoch=207/270, Step=28/35, loss=7.277305, lr=0.000125, time_each_step=0.64s, eta=0:34:9\n",
      "2022-05-03 12:40:06 [INFO]\t[TRAIN] Epoch=207/270, Step=30/35, loss=9.90379, lr=0.000125, time_each_step=0.62s, eta=0:34:8\n",
      "2022-05-03 12:40:07 [INFO]\t[TRAIN] Epoch=207/270, Step=32/35, loss=5.501278, lr=0.000125, time_each_step=0.61s, eta=0:34:7\n",
      "2022-05-03 12:40:09 [INFO]\t[TRAIN] Epoch=207/270, Step=34/35, loss=8.959388, lr=0.000125, time_each_step=0.61s, eta=0:34:6\n",
      "2022-05-03 12:40:10 [INFO]\t[TRAIN] Epoch 207 finished, loss=7.336476, lr=0.000125 .\n",
      "2022-05-03 12:40:18 [INFO]\t[TRAIN] Epoch=208/270, Step=1/35, loss=6.133102, lr=0.000125, time_each_step=0.96s, eta=0:35:31\n"
     ]
    },
    {
     "name": "stderr",
     "output_type": "stream",
     "text": [
      "libpng warning: iCCP: known incorrect sRGB profile\n"
     ]
    },
    {
     "name": "stdout",
     "output_type": "stream",
     "text": [
      "2022-05-03 12:40:20 [INFO]\t[TRAIN] Epoch=208/270, Step=3/35, loss=7.011664, lr=0.000125, time_each_step=1.0s, eta=0:35:30\n",
      "2022-05-03 12:40:21 [INFO]\t[TRAIN] Epoch=208/270, Step=5/35, loss=10.277838, lr=0.000125, time_each_step=1.01s, eta=0:35:28\n",
      "2022-05-03 12:40:23 [INFO]\t[TRAIN] Epoch=208/270, Step=7/35, loss=10.912688, lr=0.000125, time_each_step=1.03s, eta=0:35:27\n",
      "2022-05-03 12:40:24 [INFO]\t[TRAIN] Epoch=208/270, Step=9/35, loss=11.644515, lr=0.000125, time_each_step=1.05s, eta=0:35:25\n",
      "2022-05-03 12:40:27 [INFO]\t[TRAIN] Epoch=208/270, Step=11/35, loss=6.73636, lr=0.000125, time_each_step=1.12s, eta=0:35:25\n",
      "2022-05-03 12:40:29 [INFO]\t[TRAIN] Epoch=208/270, Step=13/35, loss=7.08472, lr=0.000125, time_each_step=1.14s, eta=0:35:23\n",
      "2022-05-03 12:40:30 [INFO]\t[TRAIN] Epoch=208/270, Step=15/35, loss=6.149517, lr=0.000125, time_each_step=1.18s, eta=0:35:22\n",
      "2022-05-03 12:40:32 [INFO]\t[TRAIN] Epoch=208/270, Step=17/35, loss=6.502019, lr=0.000125, time_each_step=1.24s, eta=0:35:20\n",
      "2022-05-03 12:40:34 [INFO]\t[TRAIN] Epoch=208/270, Step=19/35, loss=4.68742, lr=0.000125, time_each_step=1.21s, eta=0:35:17\n",
      "2022-05-03 12:40:35 [INFO]\t[TRAIN] Epoch=208/270, Step=21/35, loss=7.659138, lr=0.000125, time_each_step=0.86s, eta=0:35:10\n"
     ]
    },
    {
     "name": "stderr",
     "output_type": "stream",
     "text": [
      "libpng warning: iCCP: known incorrect sRGB profile\n"
     ]
    },
    {
     "name": "stdout",
     "output_type": "stream",
     "text": [
      "2022-05-03 12:40:36 [INFO]\t[TRAIN] Epoch=208/270, Step=23/35, loss=9.206721, lr=0.000125, time_each_step=0.82s, eta=0:35:8\n",
      "2022-05-03 12:40:37 [INFO]\t[TRAIN] Epoch=208/270, Step=25/35, loss=10.01663, lr=0.000125, time_each_step=0.78s, eta=0:35:6\n",
      "2022-05-03 12:40:38 [INFO]\t[TRAIN] Epoch=208/270, Step=27/35, loss=8.560464, lr=0.000125, time_each_step=0.76s, eta=0:35:4\n",
      "2022-05-03 12:40:39 [INFO]\t[TRAIN] Epoch=208/270, Step=29/35, loss=9.118832, lr=0.000125, time_each_step=0.72s, eta=0:35:2\n",
      "2022-05-03 12:40:40 [INFO]\t[TRAIN] Epoch=208/270, Step=31/35, loss=6.439902, lr=0.000125, time_each_step=0.63s, eta=0:35:1\n",
      "2022-05-03 12:40:40 [INFO]\t[TRAIN] Epoch=208/270, Step=33/35, loss=6.981077, lr=0.000125, time_each_step=0.58s, eta=0:34:59\n",
      "2022-05-03 12:40:41 [INFO]\t[TRAIN] Epoch=208/270, Step=35/35, loss=6.227201, lr=0.000125, time_each_step=0.55s, eta=0:34:58\n",
      "2022-05-03 12:40:41 [INFO]\t[TRAIN] Epoch 208 finished, loss=8.013043, lr=0.000125 .\n",
      "2022-05-03 12:40:50 [INFO]\t[TRAIN] Epoch=209/270, Step=2/35, loss=8.178802, lr=0.000125, time_each_step=0.86s, eta=0:32:39\n"
     ]
    },
    {
     "name": "stderr",
     "output_type": "stream",
     "text": [
      "libpng warning: iCCP: known incorrect sRGB profile\n"
     ]
    },
    {
     "name": "stdout",
     "output_type": "stream",
     "text": [
      "2022-05-03 12:40:51 [INFO]\t[TRAIN] Epoch=209/270, Step=4/35, loss=9.541167, lr=0.000125, time_each_step=0.88s, eta=0:32:38\n",
      "2022-05-03 12:40:53 [INFO]\t[TRAIN] Epoch=209/270, Step=6/35, loss=7.820937, lr=0.000125, time_each_step=0.9s, eta=0:32:37\n",
      "2022-05-03 12:40:54 [INFO]\t[TRAIN] Epoch=209/270, Step=8/35, loss=6.987969, lr=0.000125, time_each_step=0.89s, eta=0:32:35\n",
      "2022-05-03 12:40:56 [INFO]\t[TRAIN] Epoch=209/270, Step=10/35, loss=6.697001, lr=0.000125, time_each_step=0.92s, eta=0:32:34\n",
      "2022-05-03 12:40:57 [INFO]\t[TRAIN] Epoch=209/270, Step=12/35, loss=6.448746, lr=0.000125, time_each_step=0.95s, eta=0:32:33\n",
      "2022-05-03 12:40:59 [INFO]\t[TRAIN] Epoch=209/270, Step=14/35, loss=5.967108, lr=0.000125, time_each_step=0.99s, eta=0:32:32\n",
      "2022-05-03 12:41:00 [INFO]\t[TRAIN] Epoch=209/270, Step=16/35, loss=8.33134, lr=0.000125, time_each_step=1.02s, eta=0:32:30\n",
      "2022-05-03 12:41:02 [INFO]\t[TRAIN] Epoch=209/270, Step=18/35, loss=4.972612, lr=0.000125, time_each_step=1.08s, eta=0:32:29\n",
      "2022-05-03 12:41:03 [INFO]\t[TRAIN] Epoch=209/270, Step=20/35, loss=9.624478, lr=0.000125, time_each_step=1.09s, eta=0:32:27\n",
      "2022-05-03 12:41:04 [INFO]\t[TRAIN] Epoch=209/270, Step=22/35, loss=8.115048, lr=0.000125, time_each_step=0.73s, eta=0:32:20\n",
      "2022-05-03 12:41:06 [INFO]\t[TRAIN] Epoch=209/270, Step=24/35, loss=8.076075, lr=0.000125, time_each_step=0.71s, eta=0:32:19\n",
      "2022-05-03 12:41:07 [INFO]\t[TRAIN] Epoch=209/270, Step=26/35, loss=7.454533, lr=0.000125, time_each_step=0.68s, eta=0:32:17\n"
     ]
    },
    {
     "name": "stderr",
     "output_type": "stream",
     "text": [
      "libpng warning: iCCP: known incorrect sRGB profile\n"
     ]
    },
    {
     "name": "stdout",
     "output_type": "stream",
     "text": [
      "2022-05-03 12:41:08 [INFO]\t[TRAIN] Epoch=209/270, Step=28/35, loss=5.730347, lr=0.000125, time_each_step=0.69s, eta=0:32:16\n",
      "2022-05-03 12:41:09 [INFO]\t[TRAIN] Epoch=209/270, Step=30/35, loss=4.938088, lr=0.000125, time_each_step=0.69s, eta=0:32:14\n",
      "2022-05-03 12:41:10 [INFO]\t[TRAIN] Epoch=209/270, Step=32/35, loss=7.588943, lr=0.000125, time_each_step=0.66s, eta=0:32:13\n",
      "2022-05-03 12:41:11 [INFO]\t[TRAIN] Epoch=209/270, Step=34/35, loss=7.377619, lr=0.000125, time_each_step=0.62s, eta=0:32:11\n",
      "2022-05-03 12:41:12 [INFO]\t[TRAIN] Epoch 209 finished, loss=7.618717, lr=0.000125 .\n",
      "2022-05-03 12:41:20 [INFO]\t[TRAIN] Epoch=210/270, Step=1/35, loss=8.509998, lr=0.000125, time_each_step=0.95s, eta=0:31:41\n"
     ]
    },
    {
     "name": "stderr",
     "output_type": "stream",
     "text": [
      "libpng warning: iCCP: known incorrect sRGB profile\n"
     ]
    },
    {
     "name": "stdout",
     "output_type": "stream",
     "text": [
      "2022-05-03 12:41:21 [INFO]\t[TRAIN] Epoch=210/270, Step=3/35, loss=11.099261, lr=0.000125, time_each_step=0.94s, eta=0:31:39\n",
      "2022-05-03 12:41:23 [INFO]\t[TRAIN] Epoch=210/270, Step=5/35, loss=12.906227, lr=0.000125, time_each_step=0.96s, eta=0:31:38\n",
      "2022-05-03 12:41:24 [INFO]\t[TRAIN] Epoch=210/270, Step=7/35, loss=8.517949, lr=0.000125, time_each_step=0.98s, eta=0:31:37\n",
      "2022-05-03 12:41:25 [INFO]\t[TRAIN] Epoch=210/270, Step=9/35, loss=6.52533, lr=0.000125, time_each_step=0.96s, eta=0:31:34\n",
      "2022-05-03 12:41:26 [INFO]\t[TRAIN] Epoch=210/270, Step=11/35, loss=7.404595, lr=0.000125, time_each_step=0.96s, eta=0:31:32\n",
      "2022-05-03 12:41:28 [INFO]\t[TRAIN] Epoch=210/270, Step=13/35, loss=6.054255, lr=0.000125, time_each_step=1.0s, eta=0:31:31\n",
      "2022-05-03 12:41:30 [INFO]\t[TRAIN] Epoch=210/270, Step=15/35, loss=5.797792, lr=0.000125, time_each_step=1.04s, eta=0:31:30\n",
      "2022-05-03 12:41:32 [INFO]\t[TRAIN] Epoch=210/270, Step=17/35, loss=8.421818, lr=0.000125, time_each_step=1.06s, eta=0:31:28\n",
      "2022-05-03 12:41:34 [INFO]\t[TRAIN] Epoch=210/270, Step=19/35, loss=9.390368, lr=0.000125, time_each_step=1.1s, eta=0:31:27\n",
      "2022-05-03 12:41:35 [INFO]\t[TRAIN] Epoch=210/270, Step=21/35, loss=7.464798, lr=0.000125, time_each_step=0.77s, eta=0:31:20\n",
      "2022-05-03 12:41:37 [INFO]\t[TRAIN] Epoch=210/270, Step=23/35, loss=7.839911, lr=0.000125, time_each_step=0.78s, eta=0:31:19\n",
      "2022-05-03 12:41:38 [INFO]\t[TRAIN] Epoch=210/270, Step=25/35, loss=7.453247, lr=0.000125, time_each_step=0.78s, eta=0:31:17\n"
     ]
    },
    {
     "name": "stderr",
     "output_type": "stream",
     "text": [
      "libpng warning: iCCP: known incorrect sRGB profile\n"
     ]
    },
    {
     "name": "stdout",
     "output_type": "stream",
     "text": [
      "2022-05-03 12:41:39 [INFO]\t[TRAIN] Epoch=210/270, Step=27/35, loss=10.247874, lr=0.000125, time_each_step=0.77s, eta=0:31:15\n",
      "2022-05-03 12:41:41 [INFO]\t[TRAIN] Epoch=210/270, Step=29/35, loss=8.226364, lr=0.000125, time_each_step=0.79s, eta=0:31:14\n",
      "2022-05-03 12:41:42 [INFO]\t[TRAIN] Epoch=210/270, Step=31/35, loss=6.203062, lr=0.000125, time_each_step=0.79s, eta=0:31:12\n",
      "2022-05-03 12:41:43 [INFO]\t[TRAIN] Epoch=210/270, Step=33/35, loss=7.322425, lr=0.000125, time_each_step=0.75s, eta=0:31:11\n",
      "2022-05-03 12:41:45 [INFO]\t[TRAIN] Epoch=210/270, Step=35/35, loss=6.667232, lr=0.000125, time_each_step=0.73s, eta=0:31:9\n",
      "2022-05-03 12:41:45 [INFO]\t[TRAIN] Epoch 210 finished, loss=8.074599, lr=0.000125 .\n",
      "2022-05-03 12:41:45 [INFO]\tStart to evaluating(total_samples=121, total_steps=16)...\n"
     ]
    },
    {
     "name": "stderr",
     "output_type": "stream",
     "text": [
      "100%|██████████| 16/16 [00:09<00:00,  1.76it/s]\n"
     ]
    },
    {
     "name": "stdout",
     "output_type": "stream",
     "text": [
      "2022-05-03 12:41:54 [INFO]\t[EVAL] Finished, Epoch=210, bbox_map=89.934067 .\n",
      "2022-05-03 12:41:56 [INFO]\tModel saved in output_yolov3_darknet53/epoch_210.\n",
      "2022-05-03 12:41:56 [INFO]\tCurrent evaluated best model in eval_dataset is epoch_150, bbox_map=93.78436150263288\n"
     ]
    },
    {
     "name": "stderr",
     "output_type": "stream",
     "text": [
      "libpng warning: iCCP: known incorrect sRGB profile\n"
     ]
    },
    {
     "name": "stdout",
     "output_type": "stream",
     "text": [
      "2022-05-03 12:42:04 [INFO]\t[TRAIN] Epoch=211/270, Step=2/35, loss=9.830347, lr=1.2e-05, time_each_step=1.07s, eta=0:33:44\n",
      "2022-05-03 12:42:06 [INFO]\t[TRAIN] Epoch=211/270, Step=4/35, loss=9.559421, lr=1.2e-05, time_each_step=1.08s, eta=0:33:42\n",
      "2022-05-03 12:42:07 [INFO]\t[TRAIN] Epoch=211/270, Step=6/35, loss=8.018131, lr=1.2e-05, time_each_step=1.08s, eta=0:33:40\n",
      "2022-05-03 12:42:09 [INFO]\t[TRAIN] Epoch=211/270, Step=8/35, loss=6.79003, lr=1.2e-05, time_each_step=1.08s, eta=0:33:38\n",
      "2022-05-03 12:42:10 [INFO]\t[TRAIN] Epoch=211/270, Step=10/35, loss=7.484383, lr=1.2e-05, time_each_step=1.07s, eta=0:33:36\n",
      "2022-05-03 12:42:11 [INFO]\t[TRAIN] Epoch=211/270, Step=12/35, loss=6.359841, lr=1.2e-05, time_each_step=1.06s, eta=0:33:33\n",
      "2022-05-03 12:42:13 [INFO]\t[TRAIN] Epoch=211/270, Step=14/35, loss=7.144683, lr=1.2e-05, time_each_step=1.07s, eta=0:33:31\n",
      "2022-05-03 12:42:14 [INFO]\t[TRAIN] Epoch=211/270, Step=16/35, loss=6.437922, lr=1.2e-05, time_each_step=1.08s, eta=0:33:29\n",
      "2022-05-03 12:42:16 [INFO]\t[TRAIN] Epoch=211/270, Step=18/35, loss=8.093028, lr=1.2e-05, time_each_step=1.11s, eta=0:33:28\n",
      "2022-05-03 12:42:18 [INFO]\t[TRAIN] Epoch=211/270, Step=20/35, loss=11.613959, lr=1.2e-05, time_each_step=1.1s, eta=0:33:25\n"
     ]
    },
    {
     "name": "stderr",
     "output_type": "stream",
     "text": [
      "libpng warning: iCCP: known incorrect sRGB profile\n"
     ]
    },
    {
     "name": "stdout",
     "output_type": "stream",
     "text": [
      "2022-05-03 12:42:19 [INFO]\t[TRAIN] Epoch=211/270, Step=22/35, loss=5.792382, lr=1.2e-05, time_each_step=0.78s, eta=0:33:19\n",
      "2022-05-03 12:42:21 [INFO]\t[TRAIN] Epoch=211/270, Step=24/35, loss=8.287595, lr=1.2e-05, time_each_step=0.78s, eta=0:33:17\n",
      "2022-05-03 12:42:23 [INFO]\t[TRAIN] Epoch=211/270, Step=26/35, loss=7.349852, lr=1.2e-05, time_each_step=0.77s, eta=0:33:16\n",
      "2022-05-03 12:42:24 [INFO]\t[TRAIN] Epoch=211/270, Step=28/35, loss=5.316869, lr=1.2e-05, time_each_step=0.75s, eta=0:33:14\n",
      "2022-05-03 12:42:25 [INFO]\t[TRAIN] Epoch=211/270, Step=30/35, loss=8.953613, lr=1.2e-05, time_each_step=0.73s, eta=0:33:13\n",
      "2022-05-03 12:42:25 [INFO]\t[TRAIN] Epoch=211/270, Step=32/35, loss=6.275416, lr=1.2e-05, time_each_step=0.69s, eta=0:33:11\n",
      "2022-05-03 12:42:26 [INFO]\t[TRAIN] Epoch=211/270, Step=34/35, loss=8.164631, lr=1.2e-05, time_each_step=0.65s, eta=0:33:10\n",
      "2022-05-03 12:42:26 [INFO]\t[TRAIN] Epoch 211 finished, loss=7.228128, lr=1.3e-05 .\n",
      "2022-05-03 12:42:34 [INFO]\t[TRAIN] Epoch=212/270, Step=1/35, loss=5.218279, lr=1.2e-05, time_each_step=1.0s, eta=0:29:59\n"
     ]
    },
    {
     "name": "stderr",
     "output_type": "stream",
     "text": [
      "libpng warning: iCCP: known incorrect sRGB profile\n"
     ]
    },
    {
     "name": "stdout",
     "output_type": "stream",
     "text": [
      "2022-05-03 12:42:36 [INFO]\t[TRAIN] Epoch=212/270, Step=3/35, loss=9.861341, lr=1.2e-05, time_each_step=0.99s, eta=0:29:56\n",
      "2022-05-03 12:42:38 [INFO]\t[TRAIN] Epoch=212/270, Step=5/35, loss=6.905439, lr=1.2e-05, time_each_step=1.0s, eta=0:29:55\n",
      "2022-05-03 12:42:39 [INFO]\t[TRAIN] Epoch=212/270, Step=7/35, loss=4.515653, lr=1.2e-05, time_each_step=1.0s, eta=0:29:53\n",
      "2022-05-03 12:42:41 [INFO]\t[TRAIN] Epoch=212/270, Step=9/35, loss=9.237118, lr=1.2e-05, time_each_step=0.98s, eta=0:29:50\n",
      "2022-05-03 12:42:43 [INFO]\t[TRAIN] Epoch=212/270, Step=11/35, loss=6.896446, lr=1.2e-05, time_each_step=1.01s, eta=0:29:49\n",
      "2022-05-03 12:42:44 [INFO]\t[TRAIN] Epoch=212/270, Step=13/35, loss=6.368086, lr=1.2e-05, time_each_step=1.02s, eta=0:29:47\n",
      "2022-05-03 12:42:46 [INFO]\t[TRAIN] Epoch=212/270, Step=15/35, loss=7.652036, lr=1.2e-05, time_each_step=1.05s, eta=0:29:46\n",
      "2022-05-03 12:42:47 [INFO]\t[TRAIN] Epoch=212/270, Step=17/35, loss=7.256746, lr=1.2e-05, time_each_step=1.1s, eta=0:29:45\n"
     ]
    },
    {
     "name": "stderr",
     "output_type": "stream",
     "text": [
      "libpng warning: iCCP: known incorrect sRGB profile\n"
     ]
    },
    {
     "name": "stdout",
     "output_type": "stream",
     "text": [
      "2022-05-03 12:42:49 [INFO]\t[TRAIN] Epoch=212/270, Step=19/35, loss=6.705024, lr=1.2e-05, time_each_step=1.14s, eta=0:29:43\n",
      "2022-05-03 12:42:50 [INFO]\t[TRAIN] Epoch=212/270, Step=21/35, loss=6.740135, lr=1.2e-05, time_each_step=0.8s, eta=0:29:36\n",
      "2022-05-03 12:42:52 [INFO]\t[TRAIN] Epoch=212/270, Step=23/35, loss=9.269754, lr=1.2e-05, time_each_step=0.79s, eta=0:29:34\n",
      "2022-05-03 12:42:53 [INFO]\t[TRAIN] Epoch=212/270, Step=25/35, loss=8.292475, lr=1.2e-05, time_each_step=0.76s, eta=0:29:32\n",
      "2022-05-03 12:42:54 [INFO]\t[TRAIN] Epoch=212/270, Step=27/35, loss=4.195616, lr=1.2e-05, time_each_step=0.74s, eta=0:29:31\n",
      "2022-05-03 12:42:55 [INFO]\t[TRAIN] Epoch=212/270, Step=29/35, loss=8.729778, lr=1.2e-05, time_each_step=0.72s, eta=0:29:29\n",
      "2022-05-03 12:42:56 [INFO]\t[TRAIN] Epoch=212/270, Step=31/35, loss=7.052186, lr=1.2e-05, time_each_step=0.66s, eta=0:29:27\n",
      "2022-05-03 12:42:57 [INFO]\t[TRAIN] Epoch=212/270, Step=33/35, loss=8.17709, lr=1.2e-05, time_each_step=0.63s, eta=0:29:26\n",
      "2022-05-03 12:42:58 [INFO]\t[TRAIN] Epoch=212/270, Step=35/35, loss=7.759839, lr=1.2e-05, time_each_step=0.6s, eta=0:29:25\n",
      "2022-05-03 12:42:58 [INFO]\t[TRAIN] Epoch 212 finished, loss=7.379555, lr=1.3e-05 .\n",
      "2022-05-03 12:43:06 [INFO]\t[TRAIN] Epoch=213/270, Step=2/35, loss=5.30694, lr=1.2e-05, time_each_step=0.94s, eta=0:31:28\n",
      "2022-05-03 12:43:09 [INFO]\t[TRAIN] Epoch=213/270, Step=4/35, loss=9.767403, lr=1.2e-05, time_each_step=1.0s, eta=0:31:28\n"
     ]
    },
    {
     "name": "stderr",
     "output_type": "stream",
     "text": [
      "libpng warning: iCCP: known incorrect sRGB profile\n"
     ]
    },
    {
     "name": "stdout",
     "output_type": "stream",
     "text": [
      "2022-05-03 12:43:10 [INFO]\t[TRAIN] Epoch=213/270, Step=6/35, loss=11.478587, lr=1.2e-05, time_each_step=0.99s, eta=0:31:26\n",
      "2022-05-03 12:43:12 [INFO]\t[TRAIN] Epoch=213/270, Step=8/35, loss=9.355994, lr=1.2e-05, time_each_step=0.99s, eta=0:31:24\n",
      "2022-05-03 12:43:14 [INFO]\t[TRAIN] Epoch=213/270, Step=10/35, loss=7.113277, lr=1.2e-05, time_each_step=1.01s, eta=0:31:23\n",
      "2022-05-03 12:43:15 [INFO]\t[TRAIN] Epoch=213/270, Step=12/35, loss=6.674773, lr=1.2e-05, time_each_step=1.05s, eta=0:31:22\n",
      "2022-05-03 12:43:17 [INFO]\t[TRAIN] Epoch=213/270, Step=14/35, loss=5.755571, lr=1.2e-05, time_each_step=1.07s, eta=0:31:20\n",
      "2022-05-03 12:43:19 [INFO]\t[TRAIN] Epoch=213/270, Step=16/35, loss=5.975494, lr=1.2e-05, time_each_step=1.1s, eta=0:31:18\n",
      "2022-05-03 12:43:20 [INFO]\t[TRAIN] Epoch=213/270, Step=18/35, loss=4.950326, lr=1.2e-05, time_each_step=1.15s, eta=0:31:17\n",
      "2022-05-03 12:43:21 [INFO]\t[TRAIN] Epoch=213/270, Step=20/35, loss=6.288311, lr=1.2e-05, time_each_step=1.16s, eta=0:31:15\n",
      "2022-05-03 12:43:22 [INFO]\t[TRAIN] Epoch=213/270, Step=22/35, loss=5.276706, lr=1.2e-05, time_each_step=0.81s, eta=0:31:8\n",
      "2022-05-03 12:43:24 [INFO]\t[TRAIN] Epoch=213/270, Step=24/35, loss=6.443274, lr=1.2e-05, time_each_step=0.74s, eta=0:31:5\n",
      "2022-05-03 12:43:25 [INFO]\t[TRAIN] Epoch=213/270, Step=26/35, loss=6.496037, lr=1.2e-05, time_each_step=0.71s, eta=0:31:4\n",
      "2022-05-03 12:43:25 [INFO]\t[TRAIN] Epoch=213/270, Step=28/35, loss=8.946038, lr=1.2e-05, time_each_step=0.67s, eta=0:31:2\n"
     ]
    },
    {
     "name": "stderr",
     "output_type": "stream",
     "text": [
      "libpng warning: iCCP: known incorrect sRGB profile\n"
     ]
    },
    {
     "name": "stdout",
     "output_type": "stream",
     "text": [
      "2022-05-03 12:43:26 [INFO]\t[TRAIN] Epoch=213/270, Step=30/35, loss=6.703205, lr=1.2e-05, time_each_step=0.64s, eta=0:31:1\n",
      "2022-05-03 12:43:28 [INFO]\t[TRAIN] Epoch=213/270, Step=32/35, loss=10.60826, lr=1.2e-05, time_each_step=0.61s, eta=0:30:59\n",
      "2022-05-03 12:43:29 [INFO]\t[TRAIN] Epoch=213/270, Step=34/35, loss=5.810696, lr=1.2e-05, time_each_step=0.61s, eta=0:30:58\n",
      "2022-05-03 12:43:30 [INFO]\t[TRAIN] Epoch 213 finished, loss=7.071957, lr=1.3e-05 .\n",
      "2022-05-03 12:43:38 [INFO]\t[TRAIN] Epoch=214/270, Step=1/35, loss=6.524719, lr=1.2e-05, time_each_step=0.94s, eta=0:30:59\n"
     ]
    },
    {
     "name": "stderr",
     "output_type": "stream",
     "text": [
      "libpng warning: iCCP: known incorrect sRGB profile\n"
     ]
    },
    {
     "name": "stdout",
     "output_type": "stream",
     "text": [
      "2022-05-03 12:43:40 [INFO]\t[TRAIN] Epoch=214/270, Step=3/35, loss=8.74443, lr=1.2e-05, time_each_step=0.95s, eta=0:30:58\n",
      "2022-05-03 12:43:42 [INFO]\t[TRAIN] Epoch=214/270, Step=5/35, loss=6.929178, lr=1.2e-05, time_each_step=0.99s, eta=0:30:57\n",
      "2022-05-03 12:43:43 [INFO]\t[TRAIN] Epoch=214/270, Step=7/35, loss=5.501545, lr=1.2e-05, time_each_step=1.01s, eta=0:30:56\n",
      "2022-05-03 12:43:45 [INFO]\t[TRAIN] Epoch=214/270, Step=9/35, loss=5.855827, lr=1.2e-05, time_each_step=1.04s, eta=0:30:54\n",
      "2022-05-03 12:43:46 [INFO]\t[TRAIN] Epoch=214/270, Step=11/35, loss=5.579607, lr=1.2e-05, time_each_step=1.05s, eta=0:30:53\n",
      "2022-05-03 12:43:48 [INFO]\t[TRAIN] Epoch=214/270, Step=13/35, loss=5.552904, lr=1.2e-05, time_each_step=1.09s, eta=0:30:51\n",
      "2022-05-03 12:43:49 [INFO]\t[TRAIN] Epoch=214/270, Step=15/35, loss=6.962419, lr=1.2e-05, time_each_step=1.12s, eta=0:30:50\n",
      "2022-05-03 12:43:51 [INFO]\t[TRAIN] Epoch=214/270, Step=17/35, loss=4.914063, lr=1.2e-05, time_each_step=1.13s, eta=0:30:48\n",
      "2022-05-03 12:43:52 [INFO]\t[TRAIN] Epoch=214/270, Step=19/35, loss=6.3137, lr=1.2e-05, time_each_step=1.12s, eta=0:30:45\n"
     ]
    },
    {
     "name": "stderr",
     "output_type": "stream",
     "text": [
      "libpng warning: iCCP: known incorrect sRGB profile\n"
     ]
    },
    {
     "name": "stdout",
     "output_type": "stream",
     "text": [
      "2022-05-03 12:43:53 [INFO]\t[TRAIN] Epoch=214/270, Step=21/35, loss=9.768707, lr=1.2e-05, time_each_step=0.78s, eta=0:30:38\n",
      "2022-05-03 12:43:55 [INFO]\t[TRAIN] Epoch=214/270, Step=23/35, loss=7.982895, lr=1.2e-05, time_each_step=0.75s, eta=0:30:36\n",
      "2022-05-03 12:43:56 [INFO]\t[TRAIN] Epoch=214/270, Step=25/35, loss=10.079006, lr=1.2e-05, time_each_step=0.71s, eta=0:30:35\n",
      "2022-05-03 12:43:57 [INFO]\t[TRAIN] Epoch=214/270, Step=27/35, loss=6.930808, lr=1.2e-05, time_each_step=0.68s, eta=0:30:33\n",
      "2022-05-03 12:43:58 [INFO]\t[TRAIN] Epoch=214/270, Step=29/35, loss=8.593325, lr=1.2e-05, time_each_step=0.64s, eta=0:30:31\n",
      "2022-05-03 12:43:58 [INFO]\t[TRAIN] Epoch=214/270, Step=31/35, loss=6.203371, lr=1.2e-05, time_each_step=0.6s, eta=0:30:30\n",
      "2022-05-03 12:43:59 [INFO]\t[TRAIN] Epoch=214/270, Step=33/35, loss=5.662528, lr=1.2e-05, time_each_step=0.55s, eta=0:30:29\n",
      "2022-05-03 12:44:00 [INFO]\t[TRAIN] Epoch=214/270, Step=35/35, loss=4.556365, lr=1.2e-05, time_each_step=0.53s, eta=0:30:27\n",
      "2022-05-03 12:44:00 [INFO]\t[TRAIN] Epoch 214 finished, loss=7.04095, lr=1.3e-05 .\n",
      "2022-05-03 12:44:07 [INFO]\t[TRAIN] Epoch=215/270, Step=2/35, loss=5.571117, lr=1.2e-05, time_each_step=0.81s, eta=0:28:5\n"
     ]
    },
    {
     "name": "stderr",
     "output_type": "stream",
     "text": [
      "libpng warning: iCCP: known incorrect sRGB profile\n"
     ]
    },
    {
     "name": "stdout",
     "output_type": "stream",
     "text": [
      "2022-05-03 12:44:09 [INFO]\t[TRAIN] Epoch=215/270, Step=4/35, loss=6.163262, lr=1.2e-05, time_each_step=0.82s, eta=0:28:4\n",
      "2022-05-03 12:44:10 [INFO]\t[TRAIN] Epoch=215/270, Step=6/35, loss=9.827643, lr=1.2e-05, time_each_step=0.83s, eta=0:28:2\n",
      "2022-05-03 12:44:12 [INFO]\t[TRAIN] Epoch=215/270, Step=8/35, loss=6.659706, lr=1.2e-05, time_each_step=0.84s, eta=0:28:1\n",
      "2022-05-03 12:44:13 [INFO]\t[TRAIN] Epoch=215/270, Step=10/35, loss=4.684692, lr=1.2e-05, time_each_step=0.87s, eta=0:28:0\n",
      "2022-05-03 12:44:15 [INFO]\t[TRAIN] Epoch=215/270, Step=12/35, loss=8.72335, lr=1.2e-05, time_each_step=0.89s, eta=0:27:59\n",
      "2022-05-03 12:44:16 [INFO]\t[TRAIN] Epoch=215/270, Step=14/35, loss=12.271348, lr=1.2e-05, time_each_step=0.91s, eta=0:27:57\n",
      "2022-05-03 12:44:18 [INFO]\t[TRAIN] Epoch=215/270, Step=16/35, loss=8.579638, lr=1.2e-05, time_each_step=0.96s, eta=0:27:56\n",
      "2022-05-03 12:44:19 [INFO]\t[TRAIN] Epoch=215/270, Step=18/35, loss=5.476127, lr=1.2e-05, time_each_step=1.02s, eta=0:27:56\n",
      "2022-05-03 12:44:21 [INFO]\t[TRAIN] Epoch=215/270, Step=20/35, loss=5.327502, lr=1.2e-05, time_each_step=1.05s, eta=0:27:54\n",
      "2022-05-03 12:44:23 [INFO]\t[TRAIN] Epoch=215/270, Step=22/35, loss=6.913443, lr=1.2e-05, time_each_step=0.77s, eta=0:27:48\n"
     ]
    },
    {
     "name": "stderr",
     "output_type": "stream",
     "text": [
      "libpng warning: iCCP: known incorrect sRGB profile\n"
     ]
    },
    {
     "name": "stdout",
     "output_type": "stream",
     "text": [
      "2022-05-03 12:44:24 [INFO]\t[TRAIN] Epoch=215/270, Step=24/35, loss=4.966512, lr=1.2e-05, time_each_step=0.77s, eta=0:27:47\n",
      "2022-05-03 12:44:26 [INFO]\t[TRAIN] Epoch=215/270, Step=26/35, loss=7.686782, lr=1.2e-05, time_each_step=0.78s, eta=0:27:45\n",
      "2022-05-03 12:44:27 [INFO]\t[TRAIN] Epoch=215/270, Step=28/35, loss=8.132406, lr=1.2e-05, time_each_step=0.77s, eta=0:27:44\n",
      "2022-05-03 12:44:28 [INFO]\t[TRAIN] Epoch=215/270, Step=30/35, loss=5.150421, lr=1.2e-05, time_each_step=0.74s, eta=0:27:42\n",
      "2022-05-03 12:44:30 [INFO]\t[TRAIN] Epoch=215/270, Step=32/35, loss=6.525656, lr=1.2e-05, time_each_step=0.75s, eta=0:27:40\n",
      "2022-05-03 12:44:31 [INFO]\t[TRAIN] Epoch=215/270, Step=34/35, loss=6.538119, lr=1.2e-05, time_each_step=0.77s, eta=0:27:39\n",
      "2022-05-03 12:44:33 [INFO]\t[TRAIN] Epoch 215 finished, loss=6.870847, lr=1.3e-05 .\n"
     ]
    },
    {
     "name": "stderr",
     "output_type": "stream",
     "text": [
      "libpng warning: iCCP: known incorrect sRGB profile\n"
     ]
    },
    {
     "name": "stdout",
     "output_type": "stream",
     "text": [
      "2022-05-03 12:44:42 [INFO]\t[TRAIN] Epoch=216/270, Step=1/35, loss=7.368935, lr=1.2e-05, time_each_step=1.21s, eta=0:30:14\n",
      "2022-05-03 12:44:43 [INFO]\t[TRAIN] Epoch=216/270, Step=3/35, loss=6.224607, lr=1.2e-05, time_each_step=1.18s, eta=0:30:10\n",
      "2022-05-03 12:44:45 [INFO]\t[TRAIN] Epoch=216/270, Step=5/35, loss=8.633434, lr=1.2e-05, time_each_step=1.18s, eta=0:30:8\n",
      "2022-05-03 12:44:47 [INFO]\t[TRAIN] Epoch=216/270, Step=7/35, loss=9.208888, lr=1.2e-05, time_each_step=1.21s, eta=0:30:7\n",
      "2022-05-03 12:44:49 [INFO]\t[TRAIN] Epoch=216/270, Step=9/35, loss=3.259116, lr=1.2e-05, time_each_step=1.21s, eta=0:30:4\n",
      "2022-05-03 12:44:51 [INFO]\t[TRAIN] Epoch=216/270, Step=11/35, loss=6.890786, lr=1.2e-05, time_each_step=1.22s, eta=0:30:2\n",
      "2022-05-03 12:44:52 [INFO]\t[TRAIN] Epoch=216/270, Step=13/35, loss=6.76345, lr=1.2e-05, time_each_step=1.24s, eta=0:30:0\n",
      "2022-05-03 12:44:53 [INFO]\t[TRAIN] Epoch=216/270, Step=15/35, loss=6.662421, lr=1.2e-05, time_each_step=1.24s, eta=0:29:57\n",
      "2022-05-03 12:44:55 [INFO]\t[TRAIN] Epoch=216/270, Step=17/35, loss=4.43912, lr=1.2e-05, time_each_step=1.23s, eta=0:29:55\n",
      "2022-05-03 12:44:56 [INFO]\t[TRAIN] Epoch=216/270, Step=19/35, loss=7.14642, lr=1.2e-05, time_each_step=1.21s, eta=0:29:52\n"
     ]
    },
    {
     "name": "stderr",
     "output_type": "stream",
     "text": [
      "libpng warning: iCCP: known incorrect sRGB profile\n"
     ]
    },
    {
     "name": "stdout",
     "output_type": "stream",
     "text": [
      "2022-05-03 12:44:58 [INFO]\t[TRAIN] Epoch=216/270, Step=21/35, loss=7.237906, lr=1.2e-05, time_each_step=0.78s, eta=0:29:43\n",
      "2022-05-03 12:44:59 [INFO]\t[TRAIN] Epoch=216/270, Step=23/35, loss=6.634624, lr=1.2e-05, time_each_step=0.77s, eta=0:29:42\n",
      "2022-05-03 12:45:00 [INFO]\t[TRAIN] Epoch=216/270, Step=25/35, loss=7.910895, lr=1.2e-05, time_each_step=0.75s, eta=0:29:40\n",
      "2022-05-03 12:45:01 [INFO]\t[TRAIN] Epoch=216/270, Step=27/35, loss=6.865996, lr=1.2e-05, time_each_step=0.7s, eta=0:29:38\n",
      "2022-05-03 12:45:02 [INFO]\t[TRAIN] Epoch=216/270, Step=29/35, loss=5.837116, lr=1.2e-05, time_each_step=0.65s, eta=0:29:36\n",
      "2022-05-03 12:45:03 [INFO]\t[TRAIN] Epoch=216/270, Step=31/35, loss=8.820569, lr=1.2e-05, time_each_step=0.61s, eta=0:29:35\n",
      "2022-05-03 12:45:03 [INFO]\t[TRAIN] Epoch=216/270, Step=33/35, loss=6.444493, lr=1.2e-05, time_each_step=0.55s, eta=0:29:34\n",
      "2022-05-03 12:45:05 [INFO]\t[TRAIN] Epoch=216/270, Step=35/35, loss=9.233907, lr=1.2e-05, time_each_step=0.58s, eta=0:29:33\n",
      "2022-05-03 12:45:06 [INFO]\t[TRAIN] Epoch 216 finished, loss=6.955879, lr=1.3e-05 .\n",
      "2022-05-03 12:45:14 [INFO]\t[TRAIN] Epoch=217/270, Step=2/35, loss=5.189735, lr=1.2e-05, time_each_step=0.95s, eta=0:29:57\n"
     ]
    },
    {
     "name": "stderr",
     "output_type": "stream",
     "text": [
      "libpng warning: iCCP: known incorrect sRGB profile\n"
     ]
    },
    {
     "name": "stdout",
     "output_type": "stream",
     "text": [
      "2022-05-03 12:45:16 [INFO]\t[TRAIN] Epoch=217/270, Step=4/35, loss=7.128018, lr=1.2e-05, time_each_step=0.97s, eta=0:29:56\n",
      "2022-05-03 12:45:18 [INFO]\t[TRAIN] Epoch=217/270, Step=6/35, loss=8.282583, lr=1.2e-05, time_each_step=0.97s, eta=0:29:54\n",
      "2022-05-03 12:45:19 [INFO]\t[TRAIN] Epoch=217/270, Step=8/35, loss=6.900549, lr=1.2e-05, time_each_step=0.98s, eta=0:29:52\n",
      "2022-05-03 12:45:21 [INFO]\t[TRAIN] Epoch=217/270, Step=10/35, loss=6.845248, lr=1.2e-05, time_each_step=1.0s, eta=0:29:51\n",
      "2022-05-03 12:45:22 [INFO]\t[TRAIN] Epoch=217/270, Step=12/35, loss=5.915546, lr=1.2e-05, time_each_step=1.02s, eta=0:29:49\n",
      "2022-05-03 12:45:23 [INFO]\t[TRAIN] Epoch=217/270, Step=14/35, loss=10.27046, lr=1.2e-05, time_each_step=1.03s, eta=0:29:48\n",
      "2022-05-03 12:45:24 [INFO]\t[TRAIN] Epoch=217/270, Step=16/35, loss=5.307281, lr=1.2e-05, time_each_step=1.07s, eta=0:29:46\n",
      "2022-05-03 12:45:26 [INFO]\t[TRAIN] Epoch=217/270, Step=18/35, loss=5.850581, lr=1.2e-05, time_each_step=1.11s, eta=0:29:45\n",
      "2022-05-03 12:45:27 [INFO]\t[TRAIN] Epoch=217/270, Step=20/35, loss=6.136866, lr=1.2e-05, time_each_step=1.07s, eta=0:29:42\n",
      "2022-05-03 12:45:28 [INFO]\t[TRAIN] Epoch=217/270, Step=22/35, loss=5.195469, lr=1.2e-05, time_each_step=0.7s, eta=0:29:35\n",
      "2022-05-03 12:45:30 [INFO]\t[TRAIN] Epoch=217/270, Step=24/35, loss=7.853084, lr=1.2e-05, time_each_step=0.69s, eta=0:29:34\n",
      "2022-05-03 12:45:31 [INFO]\t[TRAIN] Epoch=217/270, Step=26/35, loss=7.187247, lr=1.2e-05, time_each_step=0.67s, eta=0:29:32\n",
      "2022-05-03 12:45:32 [INFO]\t[TRAIN] Epoch=217/270, Step=28/35, loss=11.130058, lr=1.2e-05, time_each_step=0.65s, eta=0:29:31\n"
     ]
    },
    {
     "name": "stderr",
     "output_type": "stream",
     "text": [
      "libpng warning: iCCP: known incorrect sRGB profile\n"
     ]
    },
    {
     "name": "stdout",
     "output_type": "stream",
     "text": [
      "2022-05-03 12:45:33 [INFO]\t[TRAIN] Epoch=217/270, Step=30/35, loss=5.2496, lr=1.2e-05, time_each_step=0.6s, eta=0:29:29\n",
      "2022-05-03 12:45:33 [INFO]\t[TRAIN] Epoch=217/270, Step=32/35, loss=8.076019, lr=1.2e-05, time_each_step=0.57s, eta=0:29:28\n",
      "2022-05-03 12:45:34 [INFO]\t[TRAIN] Epoch=217/270, Step=34/35, loss=8.614878, lr=1.2e-05, time_each_step=0.57s, eta=0:29:27\n",
      "2022-05-03 12:45:35 [INFO]\t[TRAIN] Epoch 217 finished, loss=6.77261, lr=1.3e-05 .\n",
      "2022-05-03 12:45:41 [INFO]\t[TRAIN] Epoch=218/270, Step=1/35, loss=4.626541, lr=1.2e-05, time_each_step=0.84s, eta=0:26:9\n",
      "2022-05-03 12:45:44 [INFO]\t[TRAIN] Epoch=218/270, Step=3/35, loss=8.933636, lr=1.2e-05, time_each_step=0.88s, eta=0:26:8\n",
      "2022-05-03 12:45:46 [INFO]\t[TRAIN] Epoch=218/270, Step=5/35, loss=6.389009, lr=1.2e-05, time_each_step=0.97s, eta=0:26:9\n"
     ]
    },
    {
     "name": "stderr",
     "output_type": "stream",
     "text": [
      "libpng warning: iCCP: known incorrect sRGB profile\n"
     ]
    },
    {
     "name": "stdout",
     "output_type": "stream",
     "text": [
      "2022-05-03 12:45:48 [INFO]\t[TRAIN] Epoch=218/270, Step=7/35, loss=6.433569, lr=1.2e-05, time_each_step=0.97s, eta=0:26:7\n",
      "2022-05-03 12:45:49 [INFO]\t[TRAIN] Epoch=218/270, Step=9/35, loss=4.898422, lr=1.2e-05, time_each_step=0.97s, eta=0:26:5\n",
      "2022-05-03 12:45:50 [INFO]\t[TRAIN] Epoch=218/270, Step=11/35, loss=6.818939, lr=1.2e-05, time_each_step=0.96s, eta=0:26:3\n",
      "2022-05-03 12:45:52 [INFO]\t[TRAIN] Epoch=218/270, Step=13/35, loss=4.79503, lr=1.2e-05, time_each_step=0.98s, eta=0:26:2\n",
      "2022-05-03 12:45:53 [INFO]\t[TRAIN] Epoch=218/270, Step=15/35, loss=9.133142, lr=1.2e-05, time_each_step=1.0s, eta=0:26:0\n",
      "2022-05-03 12:45:54 [INFO]\t[TRAIN] Epoch=218/270, Step=17/35, loss=8.941841, lr=1.2e-05, time_each_step=1.01s, eta=0:25:58\n",
      "2022-05-03 12:45:55 [INFO]\t[TRAIN] Epoch=218/270, Step=19/35, loss=7.966203, lr=1.2e-05, time_each_step=1.03s, eta=0:25:57\n",
      "2022-05-03 12:45:56 [INFO]\t[TRAIN] Epoch=218/270, Step=21/35, loss=4.26493, lr=1.2e-05, time_each_step=0.76s, eta=0:25:51\n",
      "2022-05-03 12:45:58 [INFO]\t[TRAIN] Epoch=218/270, Step=23/35, loss=4.797519, lr=1.2e-05, time_each_step=0.72s, eta=0:25:49\n",
      "2022-05-03 12:45:59 [INFO]\t[TRAIN] Epoch=218/270, Step=25/35, loss=8.602778, lr=1.2e-05, time_each_step=0.65s, eta=0:25:47\n",
      "2022-05-03 12:46:01 [INFO]\t[TRAIN] Epoch=218/270, Step=27/35, loss=8.081913, lr=1.2e-05, time_each_step=0.67s, eta=0:25:45\n",
      "2022-05-03 12:46:03 [INFO]\t[TRAIN] Epoch=218/270, Step=29/35, loss=5.001189, lr=1.2e-05, time_each_step=0.7s, eta=0:25:44\n",
      "2022-05-03 12:46:05 [INFO]\t[TRAIN] Epoch=218/270, Step=31/35, loss=5.125134, lr=1.2e-05, time_each_step=0.71s, eta=0:25:43\n"
     ]
    },
    {
     "name": "stderr",
     "output_type": "stream",
     "text": [
      "libpng warning: iCCP: known incorrect sRGB profile\n"
     ]
    },
    {
     "name": "stdout",
     "output_type": "stream",
     "text": [
      "2022-05-03 12:46:06 [INFO]\t[TRAIN] Epoch=218/270, Step=33/35, loss=8.461712, lr=1.2e-05, time_each_step=0.73s, eta=0:25:42\n",
      "2022-05-03 12:46:08 [INFO]\t[TRAIN] Epoch=218/270, Step=35/35, loss=7.34549, lr=1.2e-05, time_each_step=0.79s, eta=0:25:40\n",
      "2022-05-03 12:46:09 [INFO]\t[TRAIN] Epoch 218 finished, loss=6.84281, lr=1.3e-05 .\n",
      "2022-05-03 12:46:16 [INFO]\t[TRAIN] Epoch=219/270, Step=2/35, loss=5.661401, lr=1.2e-05, time_each_step=1.07s, eta=0:30:7\n"
     ]
    },
    {
     "name": "stderr",
     "output_type": "stream",
     "text": [
      "libpng warning: iCCP: known incorrect sRGB profile\n"
     ]
    },
    {
     "name": "stdout",
     "output_type": "stream",
     "text": [
      "2022-05-03 12:46:18 [INFO]\t[TRAIN] Epoch=219/270, Step=4/35, loss=10.888952, lr=1.2e-05, time_each_step=1.09s, eta=0:30:6\n",
      "2022-05-03 12:46:19 [INFO]\t[TRAIN] Epoch=219/270, Step=6/35, loss=5.167347, lr=1.2e-05, time_each_step=1.11s, eta=0:30:4\n",
      "2022-05-03 12:46:21 [INFO]\t[TRAIN] Epoch=219/270, Step=8/35, loss=7.856864, lr=1.2e-05, time_each_step=1.12s, eta=0:30:2\n",
      "2022-05-03 12:46:23 [INFO]\t[TRAIN] Epoch=219/270, Step=10/35, loss=8.101677, lr=1.2e-05, time_each_step=1.13s, eta=0:30:0\n",
      "2022-05-03 12:46:24 [INFO]\t[TRAIN] Epoch=219/270, Step=12/35, loss=4.766703, lr=1.2e-05, time_each_step=1.12s, eta=0:29:57\n",
      "2022-05-03 12:46:26 [INFO]\t[TRAIN] Epoch=219/270, Step=14/35, loss=4.215056, lr=1.2e-05, time_each_step=1.13s, eta=0:29:55\n",
      "2022-05-03 12:46:28 [INFO]\t[TRAIN] Epoch=219/270, Step=16/35, loss=7.075092, lr=1.2e-05, time_each_step=1.12s, eta=0:29:53\n",
      "2022-05-03 12:46:29 [INFO]\t[TRAIN] Epoch=219/270, Step=18/35, loss=5.670898, lr=1.2e-05, time_each_step=1.11s, eta=0:29:51\n"
     ]
    },
    {
     "name": "stderr",
     "output_type": "stream",
     "text": [
      "libpng warning: iCCP: known incorrect sRGB profile\n"
     ]
    },
    {
     "name": "stdout",
     "output_type": "stream",
     "text": [
      "2022-05-03 12:46:30 [INFO]\t[TRAIN] Epoch=219/270, Step=20/35, loss=7.447144, lr=1.2e-05, time_each_step=1.05s, eta=0:29:47\n",
      "2022-05-03 12:46:32 [INFO]\t[TRAIN] Epoch=219/270, Step=22/35, loss=7.398186, lr=1.2e-05, time_each_step=0.79s, eta=0:29:42\n",
      "2022-05-03 12:46:33 [INFO]\t[TRAIN] Epoch=219/270, Step=24/35, loss=9.911175, lr=1.2e-05, time_each_step=0.77s, eta=0:29:40\n",
      "2022-05-03 12:46:34 [INFO]\t[TRAIN] Epoch=219/270, Step=26/35, loss=7.424065, lr=1.2e-05, time_each_step=0.73s, eta=0:29:38\n",
      "2022-05-03 12:46:35 [INFO]\t[TRAIN] Epoch=219/270, Step=28/35, loss=5.150154, lr=1.2e-05, time_each_step=0.7s, eta=0:29:37\n",
      "2022-05-03 12:46:36 [INFO]\t[TRAIN] Epoch=219/270, Step=30/35, loss=6.406075, lr=1.2e-05, time_each_step=0.64s, eta=0:29:35\n",
      "2022-05-03 12:46:36 [INFO]\t[TRAIN] Epoch=219/270, Step=32/35, loss=7.933315, lr=1.2e-05, time_each_step=0.59s, eta=0:29:33\n",
      "2022-05-03 12:46:37 [INFO]\t[TRAIN] Epoch=219/270, Step=34/35, loss=7.27361, lr=1.2e-05, time_each_step=0.53s, eta=0:29:32\n",
      "2022-05-03 12:46:37 [INFO]\t[TRAIN] Epoch 219 finished, loss=6.792848, lr=1.3e-05 .\n",
      "2022-05-03 12:46:44 [INFO]\t[TRAIN] Epoch=220/270, Step=1/35, loss=4.467503, lr=1.2e-05, time_each_step=0.8s, eta=0:24:5\n"
     ]
    },
    {
     "name": "stderr",
     "output_type": "stream",
     "text": [
      "libpng warning: iCCP: known incorrect sRGB profile\n"
     ]
    },
    {
     "name": "stdout",
     "output_type": "stream",
     "text": [
      "2022-05-03 12:46:45 [INFO]\t[TRAIN] Epoch=220/270, Step=3/35, loss=6.767794, lr=1.2e-05, time_each_step=0.81s, eta=0:24:4\n",
      "2022-05-03 12:46:47 [INFO]\t[TRAIN] Epoch=220/270, Step=5/35, loss=8.262794, lr=1.2e-05, time_each_step=0.83s, eta=0:24:3\n",
      "2022-05-03 12:46:48 [INFO]\t[TRAIN] Epoch=220/270, Step=7/35, loss=7.629925, lr=1.2e-05, time_each_step=0.83s, eta=0:24:1\n",
      "2022-05-03 12:46:50 [INFO]\t[TRAIN] Epoch=220/270, Step=9/35, loss=4.230766, lr=1.2e-05, time_each_step=0.84s, eta=0:23:59\n",
      "2022-05-03 12:46:52 [INFO]\t[TRAIN] Epoch=220/270, Step=11/35, loss=6.42055, lr=1.2e-05, time_each_step=0.89s, eta=0:23:59\n",
      "2022-05-03 12:46:53 [INFO]\t[TRAIN] Epoch=220/270, Step=13/35, loss=7.659813, lr=1.2e-05, time_each_step=0.89s, eta=0:23:57\n",
      "2022-05-03 12:46:54 [INFO]\t[TRAIN] Epoch=220/270, Step=15/35, loss=4.746064, lr=1.2e-05, time_each_step=0.92s, eta=0:23:56\n",
      "2022-05-03 12:46:55 [INFO]\t[TRAIN] Epoch=220/270, Step=17/35, loss=6.418016, lr=1.2e-05, time_each_step=0.95s, eta=0:23:55\n",
      "2022-05-03 12:46:56 [INFO]\t[TRAIN] Epoch=220/270, Step=19/35, loss=9.07453, lr=1.2e-05, time_each_step=0.97s, eta=0:23:53\n",
      "2022-05-03 12:46:58 [INFO]\t[TRAIN] Epoch=220/270, Step=21/35, loss=5.102467, lr=1.2e-05, time_each_step=0.71s, eta=0:23:48\n",
      "2022-05-03 12:46:59 [INFO]\t[TRAIN] Epoch=220/270, Step=23/35, loss=4.936973, lr=1.2e-05, time_each_step=0.68s, eta=0:23:46\n",
      "2022-05-03 12:47:00 [INFO]\t[TRAIN] Epoch=220/270, Step=25/35, loss=6.776747, lr=1.2e-05, time_each_step=0.67s, eta=0:23:44\n",
      "2022-05-03 12:47:01 [INFO]\t[TRAIN] Epoch=220/270, Step=27/35, loss=5.123345, lr=1.2e-05, time_each_step=0.65s, eta=0:23:43\n",
      "2022-05-03 12:47:02 [INFO]\t[TRAIN] Epoch=220/270, Step=29/35, loss=4.082344, lr=1.2e-05, time_each_step=0.63s, eta=0:23:42\n"
     ]
    },
    {
     "name": "stderr",
     "output_type": "stream",
     "text": [
      "libpng warning: iCCP: known incorrect sRGB profile\n"
     ]
    },
    {
     "name": "stdout",
     "output_type": "stream",
     "text": [
      "2022-05-03 12:47:03 [INFO]\t[TRAIN] Epoch=220/270, Step=31/35, loss=8.444151, lr=1.2e-05, time_each_step=0.58s, eta=0:23:40\n",
      "2022-05-03 12:47:05 [INFO]\t[TRAIN] Epoch=220/270, Step=33/35, loss=7.149406, lr=1.2e-05, time_each_step=0.59s, eta=0:23:39\n",
      "2022-05-03 12:47:06 [INFO]\t[TRAIN] Epoch=220/270, Step=35/35, loss=6.791314, lr=1.2e-05, time_each_step=0.6s, eta=0:23:38\n",
      "2022-05-03 12:47:06 [INFO]\t[TRAIN] Epoch 220 finished, loss=6.555009, lr=1.3e-05 .\n",
      "2022-05-03 12:47:14 [INFO]\t[TRAIN] Epoch=221/270, Step=2/35, loss=4.956514, lr=1.2e-05, time_each_step=0.93s, eta=0:24:32\n"
     ]
    },
    {
     "name": "stderr",
     "output_type": "stream",
     "text": [
      "libpng warning: iCCP: known incorrect sRGB profile\n"
     ]
    },
    {
     "name": "stdout",
     "output_type": "stream",
     "text": [
      "2022-05-03 12:47:15 [INFO]\t[TRAIN] Epoch=221/270, Step=4/35, loss=9.504976, lr=1.2e-05, time_each_step=0.94s, eta=0:24:31\n",
      "2022-05-03 12:47:18 [INFO]\t[TRAIN] Epoch=221/270, Step=6/35, loss=8.674966, lr=1.2e-05, time_each_step=1.0s, eta=0:24:31\n",
      "2022-05-03 12:47:19 [INFO]\t[TRAIN] Epoch=221/270, Step=8/35, loss=6.816032, lr=1.2e-05, time_each_step=1.02s, eta=0:24:29\n",
      "2022-05-03 12:47:21 [INFO]\t[TRAIN] Epoch=221/270, Step=10/35, loss=6.046235, lr=1.2e-05, time_each_step=1.03s, eta=0:24:28\n",
      "2022-05-03 12:47:23 [INFO]\t[TRAIN] Epoch=221/270, Step=12/35, loss=4.292463, lr=1.2e-05, time_each_step=1.09s, eta=0:24:27\n",
      "2022-05-03 12:47:25 [INFO]\t[TRAIN] Epoch=221/270, Step=14/35, loss=5.331664, lr=1.2e-05, time_each_step=1.12s, eta=0:24:25\n",
      "2022-05-03 12:47:26 [INFO]\t[TRAIN] Epoch=221/270, Step=16/35, loss=7.951659, lr=1.2e-05, time_each_step=1.14s, eta=0:24:23\n",
      "2022-05-03 12:47:28 [INFO]\t[TRAIN] Epoch=221/270, Step=18/35, loss=6.231106, lr=1.2e-05, time_each_step=1.17s, eta=0:24:22\n",
      "2022-05-03 12:47:29 [INFO]\t[TRAIN] Epoch=221/270, Step=20/35, loss=4.672871, lr=1.2e-05, time_each_step=1.17s, eta=0:24:19\n",
      "2022-05-03 12:47:31 [INFO]\t[TRAIN] Epoch=221/270, Step=22/35, loss=8.710978, lr=1.2e-05, time_each_step=0.85s, eta=0:24:13\n",
      "2022-05-03 12:47:32 [INFO]\t[TRAIN] Epoch=221/270, Step=24/35, loss=7.517251, lr=1.2e-05, time_each_step=0.85s, eta=0:24:11\n"
     ]
    },
    {
     "name": "stderr",
     "output_type": "stream",
     "text": [
      "libpng warning: iCCP: known incorrect sRGB profile\n"
     ]
    },
    {
     "name": "stdout",
     "output_type": "stream",
     "text": [
      "2022-05-03 12:47:34 [INFO]\t[TRAIN] Epoch=221/270, Step=26/35, loss=6.198369, lr=1.2e-05, time_each_step=0.79s, eta=0:24:9\n",
      "2022-05-03 12:47:35 [INFO]\t[TRAIN] Epoch=221/270, Step=28/35, loss=7.081005, lr=1.2e-05, time_each_step=0.79s, eta=0:24:7\n",
      "2022-05-03 12:47:36 [INFO]\t[TRAIN] Epoch=221/270, Step=30/35, loss=5.351574, lr=1.2e-05, time_each_step=0.76s, eta=0:24:6\n",
      "2022-05-03 12:47:38 [INFO]\t[TRAIN] Epoch=221/270, Step=32/35, loss=4.491102, lr=1.2e-05, time_each_step=0.76s, eta=0:24:4\n",
      "2022-05-03 12:47:39 [INFO]\t[TRAIN] Epoch=221/270, Step=34/35, loss=4.503104, lr=1.2e-05, time_each_step=0.73s, eta=0:24:2\n",
      "2022-05-03 12:47:40 [INFO]\t[TRAIN] Epoch 221 finished, loss=6.947706, lr=1.3e-05 .\n",
      "2022-05-03 12:47:46 [INFO]\t[TRAIN] Epoch=222/270, Step=1/35, loss=5.32278, lr=1.2e-05, time_each_step=1.0s, eta=0:28:14\n"
     ]
    },
    {
     "name": "stderr",
     "output_type": "stream",
     "text": [
      "libpng warning: iCCP: known incorrect sRGB profile\n"
     ]
    },
    {
     "name": "stdout",
     "output_type": "stream",
     "text": [
      "2022-05-03 12:47:48 [INFO]\t[TRAIN] Epoch=222/270, Step=3/35, loss=7.572943, lr=1.2e-05, time_each_step=0.99s, eta=0:28:12\n",
      "2022-05-03 12:47:50 [INFO]\t[TRAIN] Epoch=222/270, Step=5/35, loss=7.80932, lr=1.2e-05, time_each_step=1.0s, eta=0:28:10\n",
      "2022-05-03 12:47:51 [INFO]\t[TRAIN] Epoch=222/270, Step=7/35, loss=10.549739, lr=1.2e-05, time_each_step=1.0s, eta=0:28:8\n",
      "2022-05-03 12:47:53 [INFO]\t[TRAIN] Epoch=222/270, Step=9/35, loss=4.67423, lr=1.2e-05, time_each_step=1.02s, eta=0:28:7\n",
      "2022-05-03 12:47:54 [INFO]\t[TRAIN] Epoch=222/270, Step=11/35, loss=6.753319, lr=1.2e-05, time_each_step=1.0s, eta=0:28:4\n",
      "2022-05-03 12:47:56 [INFO]\t[TRAIN] Epoch=222/270, Step=13/35, loss=6.334785, lr=1.2e-05, time_each_step=1.04s, eta=0:28:3\n",
      "2022-05-03 12:47:58 [INFO]\t[TRAIN] Epoch=222/270, Step=15/35, loss=8.939118, lr=1.2e-05, time_each_step=1.09s, eta=0:28:2\n",
      "2022-05-03 12:48:00 [INFO]\t[TRAIN] Epoch=222/270, Step=17/35, loss=5.842973, lr=1.2e-05, time_each_step=1.09s, eta=0:28:0\n",
      "2022-05-03 12:48:02 [INFO]\t[TRAIN] Epoch=222/270, Step=19/35, loss=4.493115, lr=1.2e-05, time_each_step=1.11s, eta=0:27:58\n"
     ]
    },
    {
     "name": "stderr",
     "output_type": "stream",
     "text": [
      "libpng warning: iCCP: known incorrect sRGB profile\n"
     ]
    },
    {
     "name": "stdout",
     "output_type": "stream",
     "text": [
      "2022-05-03 12:48:03 [INFO]\t[TRAIN] Epoch=222/270, Step=21/35, loss=4.531085, lr=1.2e-05, time_each_step=0.84s, eta=0:27:52\n",
      "2022-05-03 12:48:05 [INFO]\t[TRAIN] Epoch=222/270, Step=23/35, loss=6.980561, lr=1.2e-05, time_each_step=0.82s, eta=0:27:50\n",
      "2022-05-03 12:48:06 [INFO]\t[TRAIN] Epoch=222/270, Step=25/35, loss=6.546875, lr=1.2e-05, time_each_step=0.83s, eta=0:27:48\n",
      "2022-05-03 12:48:07 [INFO]\t[TRAIN] Epoch=222/270, Step=27/35, loss=8.129248, lr=1.2e-05, time_each_step=0.81s, eta=0:27:47\n",
      "2022-05-03 12:48:09 [INFO]\t[TRAIN] Epoch=222/270, Step=29/35, loss=6.544641, lr=1.2e-05, time_each_step=0.79s, eta=0:27:45\n",
      "2022-05-03 12:48:09 [INFO]\t[TRAIN] Epoch=222/270, Step=31/35, loss=9.418683, lr=1.2e-05, time_each_step=0.77s, eta=0:27:43\n",
      "2022-05-03 12:48:10 [INFO]\t[TRAIN] Epoch=222/270, Step=33/35, loss=4.911524, lr=1.2e-05, time_each_step=0.69s, eta=0:27:42\n",
      "2022-05-03 12:48:11 [INFO]\t[TRAIN] Epoch=222/270, Step=35/35, loss=7.748204, lr=1.2e-05, time_each_step=0.62s, eta=0:27:40\n",
      "2022-05-03 12:48:12 [INFO]\t[TRAIN] Epoch 222 finished, loss=6.694251, lr=1.3e-05 .\n",
      "2022-05-03 12:48:18 [INFO]\t[TRAIN] Epoch=223/270, Step=2/35, loss=7.043863, lr=1.2e-05, time_each_step=0.84s, eta=0:25:28\n",
      "2022-05-03 12:48:19 [INFO]\t[TRAIN] Epoch=223/270, Step=4/35, loss=7.703771, lr=1.2e-05, time_each_step=0.82s, eta=0:25:26\n"
     ]
    },
    {
     "name": "stderr",
     "output_type": "stream",
     "text": [
      "libpng warning: iCCP: known incorrect sRGB profile\n"
     ]
    },
    {
     "name": "stdout",
     "output_type": "stream",
     "text": [
      "2022-05-03 12:48:22 [INFO]\t[TRAIN] Epoch=223/270, Step=6/35, loss=6.397891, lr=1.2e-05, time_each_step=0.87s, eta=0:25:26\n",
      "2022-05-03 12:48:23 [INFO]\t[TRAIN] Epoch=223/270, Step=8/35, loss=5.422503, lr=1.2e-05, time_each_step=0.87s, eta=0:25:24\n",
      "2022-05-03 12:48:25 [INFO]\t[TRAIN] Epoch=223/270, Step=10/35, loss=8.147578, lr=1.2e-05, time_each_step=0.87s, eta=0:25:22\n",
      "2022-05-03 12:48:26 [INFO]\t[TRAIN] Epoch=223/270, Step=12/35, loss=4.287591, lr=1.2e-05, time_each_step=0.89s, eta=0:25:21\n",
      "2022-05-03 12:48:28 [INFO]\t[TRAIN] Epoch=223/270, Step=14/35, loss=7.867186, lr=1.2e-05, time_each_step=0.94s, eta=0:25:20\n",
      "2022-05-03 12:48:30 [INFO]\t[TRAIN] Epoch=223/270, Step=16/35, loss=6.466599, lr=1.2e-05, time_each_step=0.99s, eta=0:25:19\n",
      "2022-05-03 12:48:32 [INFO]\t[TRAIN] Epoch=223/270, Step=18/35, loss=4.951385, lr=1.2e-05, time_each_step=1.03s, eta=0:25:18\n"
     ]
    },
    {
     "name": "stderr",
     "output_type": "stream",
     "text": [
      "libpng warning: iCCP: known incorrect sRGB profile\n"
     ]
    },
    {
     "name": "stdout",
     "output_type": "stream",
     "text": [
      "2022-05-03 12:48:33 [INFO]\t[TRAIN] Epoch=223/270, Step=20/35, loss=5.121331, lr=1.2e-05, time_each_step=1.07s, eta=0:25:16\n",
      "2022-05-03 12:48:34 [INFO]\t[TRAIN] Epoch=223/270, Step=22/35, loss=6.051864, lr=1.2e-05, time_each_step=0.82s, eta=0:25:11\n",
      "2022-05-03 12:48:36 [INFO]\t[TRAIN] Epoch=223/270, Step=24/35, loss=7.044999, lr=1.2e-05, time_each_step=0.82s, eta=0:25:9\n",
      "2022-05-03 12:48:37 [INFO]\t[TRAIN] Epoch=223/270, Step=26/35, loss=9.581471, lr=1.2e-05, time_each_step=0.77s, eta=0:25:7\n",
      "2022-05-03 12:48:38 [INFO]\t[TRAIN] Epoch=223/270, Step=28/35, loss=11.757817, lr=1.2e-05, time_each_step=0.75s, eta=0:25:6\n",
      "2022-05-03 12:48:39 [INFO]\t[TRAIN] Epoch=223/270, Step=30/35, loss=6.481945, lr=1.2e-05, time_each_step=0.72s, eta=0:25:4\n",
      "2022-05-03 12:48:40 [INFO]\t[TRAIN] Epoch=223/270, Step=32/35, loss=4.229971, lr=1.2e-05, time_each_step=0.69s, eta=0:25:2\n",
      "2022-05-03 12:48:41 [INFO]\t[TRAIN] Epoch=223/270, Step=34/35, loss=7.720079, lr=1.2e-05, time_each_step=0.63s, eta=0:25:1\n",
      "2022-05-03 12:48:42 [INFO]\t[TRAIN] Epoch 223 finished, loss=6.612638, lr=1.3e-05 .\n",
      "2022-05-03 12:48:51 [INFO]\t[TRAIN] Epoch=224/270, Step=1/35, loss=3.722177, lr=1.2e-05, time_each_step=1.03s, eta=0:24:26\n"
     ]
    },
    {
     "name": "stderr",
     "output_type": "stream",
     "text": [
      "libpng warning: iCCP: known incorrect sRGB profile\n"
     ]
    },
    {
     "name": "stdout",
     "output_type": "stream",
     "text": [
      "2022-05-03 12:48:53 [INFO]\t[TRAIN] Epoch=224/270, Step=3/35, loss=5.277116, lr=1.2e-05, time_each_step=1.06s, eta=0:24:25\n",
      "2022-05-03 12:48:55 [INFO]\t[TRAIN] Epoch=224/270, Step=5/35, loss=7.405125, lr=1.2e-05, time_each_step=1.09s, eta=0:24:24\n",
      "2022-05-03 12:48:57 [INFO]\t[TRAIN] Epoch=224/270, Step=7/35, loss=6.880393, lr=1.2e-05, time_each_step=1.1s, eta=0:24:22\n",
      "2022-05-03 12:48:58 [INFO]\t[TRAIN] Epoch=224/270, Step=9/35, loss=4.531994, lr=1.2e-05, time_each_step=1.11s, eta=0:24:20\n",
      "2022-05-03 12:49:00 [INFO]\t[TRAIN] Epoch=224/270, Step=11/35, loss=6.988592, lr=1.2e-05, time_each_step=1.14s, eta=0:24:19\n",
      "2022-05-03 12:49:02 [INFO]\t[TRAIN] Epoch=224/270, Step=13/35, loss=8.561201, lr=1.2e-05, time_each_step=1.2s, eta=0:24:18\n",
      "2022-05-03 12:49:03 [INFO]\t[TRAIN] Epoch=224/270, Step=15/35, loss=6.05487, lr=1.2e-05, time_each_step=1.21s, eta=0:24:16\n",
      "2022-05-03 12:49:05 [INFO]\t[TRAIN] Epoch=224/270, Step=17/35, loss=7.130883, lr=1.2e-05, time_each_step=1.26s, eta=0:24:14\n",
      "2022-05-03 12:49:07 [INFO]\t[TRAIN] Epoch=224/270, Step=19/35, loss=6.664677, lr=1.2e-05, time_each_step=1.3s, eta=0:24:12\n",
      "2022-05-03 12:49:08 [INFO]\t[TRAIN] Epoch=224/270, Step=21/35, loss=7.847622, lr=1.2e-05, time_each_step=0.87s, eta=0:24:4\n",
      "2022-05-03 12:49:10 [INFO]\t[TRAIN] Epoch=224/270, Step=23/35, loss=6.218108, lr=1.2e-05, time_each_step=0.85s, eta=0:24:1\n",
      "2022-05-03 12:49:11 [INFO]\t[TRAIN] Epoch=224/270, Step=25/35, loss=8.459899, lr=1.2e-05, time_each_step=0.8s, eta=0:23:59\n",
      "2022-05-03 12:49:12 [INFO]\t[TRAIN] Epoch=224/270, Step=27/35, loss=7.897664, lr=1.2e-05, time_each_step=0.77s, eta=0:23:58\n",
      "2022-05-03 12:49:13 [INFO]\t[TRAIN] Epoch=224/270, Step=29/35, loss=4.810663, lr=1.2e-05, time_each_step=0.74s, eta=0:23:56\n",
      "2022-05-03 12:49:13 [INFO]\t[TRAIN] Epoch=224/270, Step=31/35, loss=7.93684, lr=1.2e-05, time_each_step=0.67s, eta=0:23:54\n",
      "2022-05-03 12:49:14 [INFO]\t[TRAIN] Epoch=224/270, Step=33/35, loss=5.913716, lr=1.2e-05, time_each_step=0.59s, eta=0:23:53\n"
     ]
    },
    {
     "name": "stderr",
     "output_type": "stream",
     "text": [
      "libpng warning: iCCP: known incorrect sRGB profile\n"
     ]
    },
    {
     "name": "stdout",
     "output_type": "stream",
     "text": [
      "2022-05-03 12:49:15 [INFO]\t[TRAIN] Epoch=224/270, Step=35/35, loss=9.103271, lr=1.2e-05, time_each_step=0.59s, eta=0:23:51\n",
      "2022-05-03 12:49:15 [INFO]\t[TRAIN] Epoch 224 finished, loss=6.705248, lr=1.3e-05 .\n",
      "2022-05-03 12:49:23 [INFO]\t[TRAIN] Epoch=225/270, Step=2/35, loss=6.760619, lr=1.2e-05, time_each_step=0.88s, eta=0:25:29\n",
      "2022-05-03 12:49:25 [INFO]\t[TRAIN] Epoch=225/270, Step=4/35, loss=6.948018, lr=1.2e-05, time_each_step=0.87s, eta=0:25:27\n"
     ]
    },
    {
     "name": "stderr",
     "output_type": "stream",
     "text": [
      "libpng warning: iCCP: known incorrect sRGB profile\n"
     ]
    },
    {
     "name": "stdout",
     "output_type": "stream",
     "text": [
      "2022-05-03 12:49:27 [INFO]\t[TRAIN] Epoch=225/270, Step=6/35, loss=6.911055, lr=1.2e-05, time_each_step=0.92s, eta=0:25:26\n",
      "2022-05-03 12:49:28 [INFO]\t[TRAIN] Epoch=225/270, Step=8/35, loss=5.238915, lr=1.2e-05, time_each_step=0.92s, eta=0:25:25\n",
      "2022-05-03 12:49:30 [INFO]\t[TRAIN] Epoch=225/270, Step=10/35, loss=5.893997, lr=1.2e-05, time_each_step=0.94s, eta=0:25:23\n",
      "2022-05-03 12:49:31 [INFO]\t[TRAIN] Epoch=225/270, Step=12/35, loss=4.919208, lr=1.2e-05, time_each_step=0.96s, eta=0:25:22\n",
      "2022-05-03 12:49:33 [INFO]\t[TRAIN] Epoch=225/270, Step=14/35, loss=8.597561, lr=1.2e-05, time_each_step=1.0s, eta=0:25:21\n",
      "2022-05-03 12:49:35 [INFO]\t[TRAIN] Epoch=225/270, Step=16/35, loss=4.492221, lr=1.2e-05, time_each_step=1.09s, eta=0:25:21\n",
      "2022-05-03 12:49:37 [INFO]\t[TRAIN] Epoch=225/270, Step=18/35, loss=8.663172, lr=1.2e-05, time_each_step=1.14s, eta=0:25:19\n",
      "2022-05-03 12:49:39 [INFO]\t[TRAIN] Epoch=225/270, Step=20/35, loss=6.446959, lr=1.2e-05, time_each_step=1.17s, eta=0:25:17\n",
      "2022-05-03 12:49:41 [INFO]\t[TRAIN] Epoch=225/270, Step=22/35, loss=6.776803, lr=1.2e-05, time_each_step=0.89s, eta=0:25:11\n"
     ]
    },
    {
     "name": "stderr",
     "output_type": "stream",
     "text": [
      "libpng warning: iCCP: known incorrect sRGB profile\n"
     ]
    },
    {
     "name": "stdout",
     "output_type": "stream",
     "text": [
      "2022-05-03 12:49:42 [INFO]\t[TRAIN] Epoch=225/270, Step=24/35, loss=6.411326, lr=1.2e-05, time_each_step=0.86s, eta=0:25:9\n",
      "2022-05-03 12:49:43 [INFO]\t[TRAIN] Epoch=225/270, Step=26/35, loss=11.241072, lr=1.2e-05, time_each_step=0.79s, eta=0:25:7\n",
      "2022-05-03 12:49:43 [INFO]\t[TRAIN] Epoch=225/270, Step=28/35, loss=7.520395, lr=1.2e-05, time_each_step=0.75s, eta=0:25:5\n",
      "2022-05-03 12:49:44 [INFO]\t[TRAIN] Epoch=225/270, Step=30/35, loss=6.479486, lr=1.2e-05, time_each_step=0.72s, eta=0:25:3\n",
      "2022-05-03 12:49:45 [INFO]\t[TRAIN] Epoch=225/270, Step=32/35, loss=11.938082, lr=1.2e-05, time_each_step=0.68s, eta=0:25:2\n",
      "2022-05-03 12:49:46 [INFO]\t[TRAIN] Epoch=225/270, Step=34/35, loss=8.517549, lr=1.2e-05, time_each_step=0.65s, eta=0:25:0\n",
      "2022-05-03 12:49:47 [INFO]\t[TRAIN] Epoch 225 finished, loss=7.063664, lr=1.3e-05 .\n",
      "2022-05-03 12:49:54 [INFO]\t[TRAIN] Epoch=226/270, Step=1/35, loss=6.334353, lr=1.2e-05, time_each_step=0.91s, eta=0:24:1\n"
     ]
    },
    {
     "name": "stderr",
     "output_type": "stream",
     "text": [
      "libpng warning: iCCP: known incorrect sRGB profile\n"
     ]
    },
    {
     "name": "stdout",
     "output_type": "stream",
     "text": [
      "2022-05-03 12:49:55 [INFO]\t[TRAIN] Epoch=226/270, Step=3/35, loss=5.7469, lr=1.2e-05, time_each_step=0.9s, eta=0:23:59\n",
      "2022-05-03 12:49:57 [INFO]\t[TRAIN] Epoch=226/270, Step=5/35, loss=7.715795, lr=1.2e-05, time_each_step=0.9s, eta=0:23:57\n",
      "2022-05-03 12:49:58 [INFO]\t[TRAIN] Epoch=226/270, Step=7/35, loss=7.049567, lr=1.2e-05, time_each_step=0.87s, eta=0:23:54\n",
      "2022-05-03 12:50:00 [INFO]\t[TRAIN] Epoch=226/270, Step=9/35, loss=5.542505, lr=1.2e-05, time_each_step=0.91s, eta=0:23:54\n",
      "2022-05-03 12:50:03 [INFO]\t[TRAIN] Epoch=226/270, Step=11/35, loss=5.952475, lr=1.2e-05, time_each_step=0.99s, eta=0:23:54\n",
      "2022-05-03 12:50:04 [INFO]\t[TRAIN] Epoch=226/270, Step=13/35, loss=7.277236, lr=1.2e-05, time_each_step=1.03s, eta=0:23:53\n",
      "2022-05-03 12:50:06 [INFO]\t[TRAIN] Epoch=226/270, Step=15/35, loss=3.784664, lr=1.2e-05, time_each_step=1.06s, eta=0:23:51\n",
      "2022-05-03 12:50:08 [INFO]\t[TRAIN] Epoch=226/270, Step=17/35, loss=7.506627, lr=1.2e-05, time_each_step=1.15s, eta=0:23:51\n"
     ]
    },
    {
     "name": "stderr",
     "output_type": "stream",
     "text": [
      "libpng warning: iCCP: known incorrect sRGB profile\n"
     ]
    },
    {
     "name": "stdout",
     "output_type": "stream",
     "text": [
      "2022-05-03 12:50:10 [INFO]\t[TRAIN] Epoch=226/270, Step=19/35, loss=7.195475, lr=1.2e-05, time_each_step=1.19s, eta=0:23:49\n",
      "2022-05-03 12:50:11 [INFO]\t[TRAIN] Epoch=226/270, Step=21/35, loss=6.164447, lr=1.2e-05, time_each_step=0.88s, eta=0:23:42\n",
      "2022-05-03 12:50:13 [INFO]\t[TRAIN] Epoch=226/270, Step=23/35, loss=10.761551, lr=1.2e-05, time_each_step=0.88s, eta=0:23:41\n",
      "2022-05-03 12:50:14 [INFO]\t[TRAIN] Epoch=226/270, Step=25/35, loss=6.499596, lr=1.2e-05, time_each_step=0.87s, eta=0:23:39\n",
      "2022-05-03 12:50:15 [INFO]\t[TRAIN] Epoch=226/270, Step=27/35, loss=8.275208, lr=1.2e-05, time_each_step=0.85s, eta=0:23:37\n",
      "2022-05-03 12:50:16 [INFO]\t[TRAIN] Epoch=226/270, Step=29/35, loss=7.642251, lr=1.2e-05, time_each_step=0.81s, eta=0:23:35\n",
      "2022-05-03 12:50:17 [INFO]\t[TRAIN] Epoch=226/270, Step=31/35, loss=9.237234, lr=1.2e-05, time_each_step=0.72s, eta=0:23:33\n",
      "2022-05-03 12:50:19 [INFO]\t[TRAIN] Epoch=226/270, Step=33/35, loss=7.529654, lr=1.2e-05, time_each_step=0.72s, eta=0:23:31\n",
      "2022-05-03 12:50:20 [INFO]\t[TRAIN] Epoch=226/270, Step=35/35, loss=5.296046, lr=1.2e-05, time_each_step=0.73s, eta=0:23:30\n",
      "2022-05-03 12:50:21 [INFO]\t[TRAIN] Epoch 226 finished, loss=6.661328, lr=1.3e-05 .\n",
      "2022-05-03 12:50:29 [INFO]\t[TRAIN] Epoch=227/270, Step=2/35, loss=3.846378, lr=1.2e-05, time_each_step=1.01s, eta=0:25:16\n",
      "2022-05-03 12:50:31 [INFO]\t[TRAIN] Epoch=227/270, Step=4/35, loss=6.590075, lr=1.2e-05, time_each_step=1.0s, eta=0:25:14\n"
     ]
    },
    {
     "name": "stderr",
     "output_type": "stream",
     "text": [
      "libpng warning: iCCP: known incorrect sRGB profile\n"
     ]
    },
    {
     "name": "stdout",
     "output_type": "stream",
     "text": [
      "2022-05-03 12:50:32 [INFO]\t[TRAIN] Epoch=227/270, Step=6/35, loss=8.072833, lr=1.2e-05, time_each_step=1.03s, eta=0:25:13\n",
      "2022-05-03 12:50:34 [INFO]\t[TRAIN] Epoch=227/270, Step=8/35, loss=4.792662, lr=1.2e-05, time_each_step=1.03s, eta=0:25:11\n",
      "2022-05-03 12:50:35 [INFO]\t[TRAIN] Epoch=227/270, Step=10/35, loss=5.471531, lr=1.2e-05, time_each_step=1.03s, eta=0:25:9\n",
      "2022-05-03 12:50:37 [INFO]\t[TRAIN] Epoch=227/270, Step=12/35, loss=7.956462, lr=1.2e-05, time_each_step=1.04s, eta=0:25:7\n",
      "2022-05-03 12:50:38 [INFO]\t[TRAIN] Epoch=227/270, Step=14/35, loss=7.563136, lr=1.2e-05, time_each_step=1.06s, eta=0:25:5\n",
      "2022-05-03 12:50:39 [INFO]\t[TRAIN] Epoch=227/270, Step=16/35, loss=4.425185, lr=1.2e-05, time_each_step=1.08s, eta=0:25:4\n",
      "2022-05-03 12:50:41 [INFO]\t[TRAIN] Epoch=227/270, Step=18/35, loss=5.609723, lr=1.2e-05, time_each_step=1.08s, eta=0:25:1\n",
      "2022-05-03 12:50:42 [INFO]\t[TRAIN] Epoch=227/270, Step=20/35, loss=4.84227, lr=1.2e-05, time_each_step=1.06s, eta=0:24:59\n",
      "2022-05-03 12:50:44 [INFO]\t[TRAIN] Epoch=227/270, Step=22/35, loss=9.402876, lr=1.2e-05, time_each_step=0.74s, eta=0:24:53\n",
      "2022-05-03 12:50:45 [INFO]\t[TRAIN] Epoch=227/270, Step=24/35, loss=7.212892, lr=1.2e-05, time_each_step=0.72s, eta=0:24:51\n",
      "2022-05-03 12:50:47 [INFO]\t[TRAIN] Epoch=227/270, Step=26/35, loss=8.269795, lr=1.2e-05, time_each_step=0.71s, eta=0:24:49\n",
      "2022-05-03 12:50:48 [INFO]\t[TRAIN] Epoch=227/270, Step=28/35, loss=7.654171, lr=1.2e-05, time_each_step=0.7s, eta=0:24:48\n",
      "2022-05-03 12:50:49 [INFO]\t[TRAIN] Epoch=227/270, Step=30/35, loss=7.716883, lr=1.2e-05, time_each_step=0.68s, eta=0:24:46\n",
      "2022-05-03 12:50:50 [INFO]\t[TRAIN] Epoch=227/270, Step=32/35, loss=6.638086, lr=1.2e-05, time_each_step=0.65s, eta=0:24:45\n"
     ]
    },
    {
     "name": "stderr",
     "output_type": "stream",
     "text": [
      "libpng warning: iCCP: known incorrect sRGB profile\n"
     ]
    },
    {
     "name": "stdout",
     "output_type": "stream",
     "text": [
      "2022-05-03 12:50:51 [INFO]\t[TRAIN] Epoch=227/270, Step=34/35, loss=5.494922, lr=1.2e-05, time_each_step=0.65s, eta=0:24:44\n",
      "2022-05-03 12:50:52 [INFO]\t[TRAIN] Epoch 227 finished, loss=6.635501, lr=1.3e-05 .\n",
      "2022-05-03 12:50:59 [INFO]\t[TRAIN] Epoch=228/270, Step=1/35, loss=6.61002, lr=1.2e-05, time_each_step=0.97s, eta=0:22:53\n"
     ]
    },
    {
     "name": "stderr",
     "output_type": "stream",
     "text": [
      "libpng warning: iCCP: known incorrect sRGB profile\n"
     ]
    },
    {
     "name": "stdout",
     "output_type": "stream",
     "text": [
      "2022-05-03 12:51:01 [INFO]\t[TRAIN] Epoch=228/270, Step=3/35, loss=7.839306, lr=1.2e-05, time_each_step=0.99s, eta=0:22:52\n",
      "2022-05-03 12:51:03 [INFO]\t[TRAIN] Epoch=228/270, Step=5/35, loss=4.599268, lr=1.2e-05, time_each_step=1.03s, eta=0:22:51\n",
      "2022-05-03 12:51:04 [INFO]\t[TRAIN] Epoch=228/270, Step=7/35, loss=6.581825, lr=1.2e-05, time_each_step=1.04s, eta=0:22:50\n",
      "2022-05-03 12:51:07 [INFO]\t[TRAIN] Epoch=228/270, Step=9/35, loss=5.054709, lr=1.2e-05, time_each_step=1.07s, eta=0:22:48\n",
      "2022-05-03 12:51:08 [INFO]\t[TRAIN] Epoch=228/270, Step=11/35, loss=5.031421, lr=1.2e-05, time_each_step=1.08s, eta=0:22:46\n",
      "2022-05-03 12:51:10 [INFO]\t[TRAIN] Epoch=228/270, Step=13/35, loss=8.626985, lr=1.2e-05, time_each_step=1.11s, eta=0:22:45\n",
      "2022-05-03 12:51:13 [INFO]\t[TRAIN] Epoch=228/270, Step=15/35, loss=6.860928, lr=1.2e-05, time_each_step=1.17s, eta=0:22:44\n",
      "2022-05-03 12:51:14 [INFO]\t[TRAIN] Epoch=228/270, Step=17/35, loss=3.518467, lr=1.2e-05, time_each_step=1.21s, eta=0:22:42\n",
      "2022-05-03 12:51:16 [INFO]\t[TRAIN] Epoch=228/270, Step=19/35, loss=5.002091, lr=1.2e-05, time_each_step=1.24s, eta=0:22:40\n",
      "2022-05-03 12:51:17 [INFO]\t[TRAIN] Epoch=228/270, Step=21/35, loss=6.361452, lr=1.2e-05, time_each_step=0.93s, eta=0:22:34\n"
     ]
    },
    {
     "name": "stderr",
     "output_type": "stream",
     "text": [
      "libpng warning: iCCP: known incorrect sRGB profile\n"
     ]
    },
    {
     "name": "stdout",
     "output_type": "stream",
     "text": [
      "2022-05-03 12:51:19 [INFO]\t[TRAIN] Epoch=228/270, Step=23/35, loss=11.180991, lr=1.2e-05, time_each_step=0.89s, eta=0:22:31\n",
      "2022-05-03 12:51:20 [INFO]\t[TRAIN] Epoch=228/270, Step=25/35, loss=4.710435, lr=1.2e-05, time_each_step=0.84s, eta=0:22:29\n",
      "2022-05-03 12:51:20 [INFO]\t[TRAIN] Epoch=228/270, Step=27/35, loss=6.542348, lr=1.2e-05, time_each_step=0.8s, eta=0:22:27\n",
      "2022-05-03 12:51:21 [INFO]\t[TRAIN] Epoch=228/270, Step=29/35, loss=6.107099, lr=1.2e-05, time_each_step=0.73s, eta=0:22:25\n",
      "2022-05-03 12:51:22 [INFO]\t[TRAIN] Epoch=228/270, Step=31/35, loss=4.677452, lr=1.2e-05, time_each_step=0.67s, eta=0:22:23\n",
      "2022-05-03 12:51:22 [INFO]\t[TRAIN] Epoch=228/270, Step=33/35, loss=6.245694, lr=1.2e-05, time_each_step=0.6s, eta=0:22:22\n",
      "2022-05-03 12:51:23 [INFO]\t[TRAIN] Epoch=228/270, Step=35/35, loss=6.509257, lr=1.2e-05, time_each_step=0.5s, eta=0:22:21\n",
      "2022-05-03 12:51:23 [INFO]\t[TRAIN] Epoch 228 finished, loss=6.508218, lr=1.3e-05 .\n",
      "2022-05-03 12:51:31 [INFO]\t[TRAIN] Epoch=229/270, Step=2/35, loss=7.290475, lr=1.2e-05, time_each_step=0.82s, eta=0:22:7\n",
      "2022-05-03 12:51:33 [INFO]\t[TRAIN] Epoch=229/270, Step=4/35, loss=8.982788, lr=1.2e-05, time_each_step=0.79s, eta=0:22:4\n"
     ]
    },
    {
     "name": "stderr",
     "output_type": "stream",
     "text": [
      "libpng warning: iCCP: known incorrect sRGB profile\n"
     ]
    },
    {
     "name": "stdout",
     "output_type": "stream",
     "text": [
      "2022-05-03 12:51:34 [INFO]\t[TRAIN] Epoch=229/270, Step=6/35, loss=7.411979, lr=1.2e-05, time_each_step=0.81s, eta=0:22:3\n",
      "2022-05-03 12:51:36 [INFO]\t[TRAIN] Epoch=229/270, Step=8/35, loss=3.349128, lr=1.2e-05, time_each_step=0.83s, eta=0:22:2\n",
      "2022-05-03 12:51:38 [INFO]\t[TRAIN] Epoch=229/270, Step=10/35, loss=7.450182, lr=1.2e-05, time_each_step=0.87s, eta=0:22:1\n",
      "2022-05-03 12:51:39 [INFO]\t[TRAIN] Epoch=229/270, Step=12/35, loss=5.011631, lr=1.2e-05, time_each_step=0.91s, eta=0:22:0\n",
      "2022-05-03 12:51:41 [INFO]\t[TRAIN] Epoch=229/270, Step=14/35, loss=10.040817, lr=1.2e-05, time_each_step=0.93s, eta=0:21:59\n",
      "2022-05-03 12:51:42 [INFO]\t[TRAIN] Epoch=229/270, Step=16/35, loss=8.164309, lr=1.2e-05, time_each_step=0.99s, eta=0:21:58\n",
      "2022-05-03 12:51:43 [INFO]\t[TRAIN] Epoch=229/270, Step=18/35, loss=8.685775, lr=1.2e-05, time_each_step=1.01s, eta=0:21:57\n",
      "2022-05-03 12:51:45 [INFO]\t[TRAIN] Epoch=229/270, Step=20/35, loss=6.931949, lr=1.2e-05, time_each_step=1.09s, eta=0:21:56\n",
      "2022-05-03 12:51:47 [INFO]\t[TRAIN] Epoch=229/270, Step=22/35, loss=8.272544, lr=1.2e-05, time_each_step=0.78s, eta=0:21:50\n",
      "2022-05-03 12:51:48 [INFO]\t[TRAIN] Epoch=229/270, Step=24/35, loss=9.883146, lr=1.2e-05, time_each_step=0.79s, eta=0:21:48\n"
     ]
    },
    {
     "name": "stderr",
     "output_type": "stream",
     "text": [
      "libpng warning: iCCP: known incorrect sRGB profile\n"
     ]
    },
    {
     "name": "stdout",
     "output_type": "stream",
     "text": [
      "2022-05-03 12:51:50 [INFO]\t[TRAIN] Epoch=229/270, Step=26/35, loss=6.640658, lr=1.2e-05, time_each_step=0.79s, eta=0:21:47\n",
      "2022-05-03 12:51:52 [INFO]\t[TRAIN] Epoch=229/270, Step=28/35, loss=5.521111, lr=1.2e-05, time_each_step=0.78s, eta=0:21:45\n",
      "2022-05-03 12:51:53 [INFO]\t[TRAIN] Epoch=229/270, Step=30/35, loss=4.158106, lr=1.2e-05, time_each_step=0.74s, eta=0:21:43\n",
      "2022-05-03 12:51:54 [INFO]\t[TRAIN] Epoch=229/270, Step=32/35, loss=5.981005, lr=1.2e-05, time_each_step=0.74s, eta=0:21:42\n",
      "2022-05-03 12:51:55 [INFO]\t[TRAIN] Epoch=229/270, Step=34/35, loss=4.831448, lr=1.2e-05, time_each_step=0.73s, eta=0:21:40\n",
      "2022-05-03 12:51:57 [INFO]\t[TRAIN] Epoch 229 finished, loss=7.095336, lr=1.3e-05 .\n",
      "2022-05-03 12:52:04 [INFO]\t[TRAIN] Epoch=230/270, Step=1/35, loss=4.485795, lr=1.2e-05, time_each_step=1.05s, eta=0:23:5\n",
      "2022-05-03 12:52:06 [INFO]\t[TRAIN] Epoch=230/270, Step=3/35, loss=5.828324, lr=1.2e-05, time_each_step=1.1s, eta=0:23:5\n"
     ]
    },
    {
     "name": "stderr",
     "output_type": "stream",
     "text": [
      "libpng warning: iCCP: known incorrect sRGB profile\n"
     ]
    },
    {
     "name": "stdout",
     "output_type": "stream",
     "text": [
      "2022-05-03 12:52:07 [INFO]\t[TRAIN] Epoch=230/270, Step=5/35, loss=8.137389, lr=1.2e-05, time_each_step=1.09s, eta=0:23:2\n",
      "2022-05-03 12:52:09 [INFO]\t[TRAIN] Epoch=230/270, Step=7/35, loss=5.712219, lr=1.2e-05, time_each_step=1.07s, eta=0:22:59\n",
      "2022-05-03 12:52:10 [INFO]\t[TRAIN] Epoch=230/270, Step=9/35, loss=5.075245, lr=1.2e-05, time_each_step=1.07s, eta=0:22:57\n",
      "2022-05-03 12:52:11 [INFO]\t[TRAIN] Epoch=230/270, Step=11/35, loss=6.175039, lr=1.2e-05, time_each_step=1.05s, eta=0:22:55\n",
      "2022-05-03 12:52:13 [INFO]\t[TRAIN] Epoch=230/270, Step=13/35, loss=8.171588, lr=1.2e-05, time_each_step=1.05s, eta=0:22:53\n",
      "2022-05-03 12:52:14 [INFO]\t[TRAIN] Epoch=230/270, Step=15/35, loss=7.581901, lr=1.2e-05, time_each_step=1.06s, eta=0:22:51\n",
      "2022-05-03 12:52:16 [INFO]\t[TRAIN] Epoch=230/270, Step=17/35, loss=4.648288, lr=1.2e-05, time_each_step=1.06s, eta=0:22:48\n",
      "2022-05-03 12:52:17 [INFO]\t[TRAIN] Epoch=230/270, Step=19/35, loss=4.461399, lr=1.2e-05, time_each_step=1.08s, eta=0:22:47\n",
      "2022-05-03 12:52:19 [INFO]\t[TRAIN] Epoch=230/270, Step=21/35, loss=4.627212, lr=1.2e-05, time_each_step=0.77s, eta=0:22:40\n",
      "2022-05-03 12:52:20 [INFO]\t[TRAIN] Epoch=230/270, Step=23/35, loss=5.672287, lr=1.2e-05, time_each_step=0.72s, eta=0:22:38\n",
      "2022-05-03 12:52:22 [INFO]\t[TRAIN] Epoch=230/270, Step=25/35, loss=6.63889, lr=1.2e-05, time_each_step=0.73s, eta=0:22:37\n"
     ]
    },
    {
     "name": "stderr",
     "output_type": "stream",
     "text": [
      "libpng warning: iCCP: known incorrect sRGB profile\n"
     ]
    },
    {
     "name": "stdout",
     "output_type": "stream",
     "text": [
      "2022-05-03 12:52:23 [INFO]\t[TRAIN] Epoch=230/270, Step=27/35, loss=10.25474, lr=1.2e-05, time_each_step=0.74s, eta=0:22:35\n",
      "2022-05-03 12:52:25 [INFO]\t[TRAIN] Epoch=230/270, Step=29/35, loss=6.156972, lr=1.2e-05, time_each_step=0.73s, eta=0:22:34\n",
      "2022-05-03 12:52:26 [INFO]\t[TRAIN] Epoch=230/270, Step=31/35, loss=10.630436, lr=1.2e-05, time_each_step=0.71s, eta=0:22:32\n",
      "2022-05-03 12:52:26 [INFO]\t[TRAIN] Epoch=230/270, Step=33/35, loss=4.28087, lr=1.2e-05, time_each_step=0.66s, eta=0:22:31\n",
      "2022-05-03 12:52:27 [INFO]\t[TRAIN] Epoch=230/270, Step=35/35, loss=5.752623, lr=1.2e-05, time_each_step=0.63s, eta=0:22:29\n",
      "2022-05-03 12:52:27 [INFO]\t[TRAIN] Epoch 230 finished, loss=6.366566, lr=1.3e-05 .\n",
      "2022-05-03 12:52:35 [INFO]\t[TRAIN] Epoch=231/270, Step=2/35, loss=6.998695, lr=1.2e-05, time_each_step=0.94s, eta=0:20:38\n",
      "2022-05-03 12:52:36 [INFO]\t[TRAIN] Epoch=231/270, Step=4/35, loss=8.216114, lr=1.2e-05, time_each_step=0.95s, eta=0:20:36\n"
     ]
    },
    {
     "name": "stderr",
     "output_type": "stream",
     "text": [
      "libpng warning: iCCP: known incorrect sRGB profile\n"
     ]
    },
    {
     "name": "stdout",
     "output_type": "stream",
     "text": [
      "2022-05-03 12:52:38 [INFO]\t[TRAIN] Epoch=231/270, Step=6/35, loss=7.14732, lr=1.2e-05, time_each_step=0.94s, eta=0:20:34\n",
      "2022-05-03 12:52:39 [INFO]\t[TRAIN] Epoch=231/270, Step=8/35, loss=4.240321, lr=1.2e-05, time_each_step=0.95s, eta=0:20:32\n",
      "2022-05-03 12:52:41 [INFO]\t[TRAIN] Epoch=231/270, Step=10/35, loss=4.635085, lr=1.2e-05, time_each_step=0.92s, eta=0:20:30\n",
      "2022-05-03 12:52:42 [INFO]\t[TRAIN] Epoch=231/270, Step=12/35, loss=5.541006, lr=1.2e-05, time_each_step=0.94s, eta=0:20:28\n",
      "2022-05-03 12:52:43 [INFO]\t[TRAIN] Epoch=231/270, Step=14/35, loss=6.7349, lr=1.2e-05, time_each_step=0.92s, eta=0:20:26\n",
      "2022-05-03 12:52:45 [INFO]\t[TRAIN] Epoch=231/270, Step=16/35, loss=7.430713, lr=1.2e-05, time_each_step=0.96s, eta=0:20:25\n",
      "2022-05-03 12:52:46 [INFO]\t[TRAIN] Epoch=231/270, Step=18/35, loss=4.523058, lr=1.2e-05, time_each_step=1.0s, eta=0:20:23\n",
      "2022-05-03 12:52:48 [INFO]\t[TRAIN] Epoch=231/270, Step=20/35, loss=7.184068, lr=1.2e-05, time_each_step=1.02s, eta=0:20:22\n",
      "2022-05-03 12:52:49 [INFO]\t[TRAIN] Epoch=231/270, Step=22/35, loss=8.038132, lr=1.2e-05, time_each_step=0.73s, eta=0:20:16\n",
      "2022-05-03 12:52:50 [INFO]\t[TRAIN] Epoch=231/270, Step=24/35, loss=7.898786, lr=1.2e-05, time_each_step=0.7s, eta=0:20:14\n"
     ]
    },
    {
     "name": "stderr",
     "output_type": "stream",
     "text": [
      "libpng warning: iCCP: known incorrect sRGB profile\n"
     ]
    },
    {
     "name": "stdout",
     "output_type": "stream",
     "text": [
      "2022-05-03 12:52:52 [INFO]\t[TRAIN] Epoch=231/270, Step=26/35, loss=7.950994, lr=1.2e-05, time_each_step=0.69s, eta=0:20:13\n",
      "2022-05-03 12:52:53 [INFO]\t[TRAIN] Epoch=231/270, Step=28/35, loss=5.36614, lr=1.2e-05, time_each_step=0.67s, eta=0:20:11\n",
      "2022-05-03 12:52:55 [INFO]\t[TRAIN] Epoch=231/270, Step=30/35, loss=5.636796, lr=1.2e-05, time_each_step=0.71s, eta=0:20:10\n",
      "2022-05-03 12:52:56 [INFO]\t[TRAIN] Epoch=231/270, Step=32/35, loss=7.184142, lr=1.2e-05, time_each_step=0.67s, eta=0:20:9\n",
      "2022-05-03 12:52:58 [INFO]\t[TRAIN] Epoch=231/270, Step=34/35, loss=5.56695, lr=1.2e-05, time_each_step=0.72s, eta=0:20:7\n",
      "2022-05-03 12:52:59 [INFO]\t[TRAIN] Epoch 231 finished, loss=6.488707, lr=1.3e-05 .\n"
     ]
    },
    {
     "name": "stderr",
     "output_type": "stream",
     "text": [
      "libpng warning: iCCP: known incorrect sRGB profile\n"
     ]
    },
    {
     "name": "stdout",
     "output_type": "stream",
     "text": [
      "2022-05-03 12:53:08 [INFO]\t[TRAIN] Epoch=232/270, Step=1/35, loss=7.015741, lr=1.2e-05, time_each_step=1.15s, eta=0:21:20\n",
      "2022-05-03 12:53:10 [INFO]\t[TRAIN] Epoch=232/270, Step=3/35, loss=9.329754, lr=1.2e-05, time_each_step=1.17s, eta=0:21:18\n",
      "2022-05-03 12:53:11 [INFO]\t[TRAIN] Epoch=232/270, Step=5/35, loss=9.665403, lr=1.2e-05, time_each_step=1.18s, eta=0:21:16\n",
      "2022-05-03 12:53:13 [INFO]\t[TRAIN] Epoch=232/270, Step=7/35, loss=6.813146, lr=1.2e-05, time_each_step=1.17s, eta=0:21:13\n",
      "2022-05-03 12:53:14 [INFO]\t[TRAIN] Epoch=232/270, Step=9/35, loss=4.424333, lr=1.2e-05, time_each_step=1.18s, eta=0:21:11\n",
      "2022-05-03 12:53:15 [INFO]\t[TRAIN] Epoch=232/270, Step=11/35, loss=6.019292, lr=1.2e-05, time_each_step=1.18s, eta=0:21:9\n",
      "2022-05-03 12:53:17 [INFO]\t[TRAIN] Epoch=232/270, Step=13/35, loss=7.465636, lr=1.2e-05, time_each_step=1.2s, eta=0:21:7\n",
      "2022-05-03 12:53:18 [INFO]\t[TRAIN] Epoch=232/270, Step=15/35, loss=7.188112, lr=1.2e-05, time_each_step=1.18s, eta=0:21:4\n",
      "2022-05-03 12:53:20 [INFO]\t[TRAIN] Epoch=232/270, Step=17/35, loss=3.135738, lr=1.2e-05, time_each_step=1.21s, eta=0:21:2\n",
      "2022-05-03 12:53:21 [INFO]\t[TRAIN] Epoch=232/270, Step=19/35, loss=7.639276, lr=1.2e-05, time_each_step=1.17s, eta=0:20:59\n",
      "2022-05-03 12:53:23 [INFO]\t[TRAIN] Epoch=232/270, Step=21/35, loss=8.712591, lr=1.2e-05, time_each_step=0.76s, eta=0:20:51\n",
      "2022-05-03 12:53:24 [INFO]\t[TRAIN] Epoch=232/270, Step=23/35, loss=8.385384, lr=1.2e-05, time_each_step=0.73s, eta=0:20:49\n",
      "2022-05-03 12:53:26 [INFO]\t[TRAIN] Epoch=232/270, Step=25/35, loss=6.056665, lr=1.2e-05, time_each_step=0.72s, eta=0:20:48\n",
      "2022-05-03 12:53:27 [INFO]\t[TRAIN] Epoch=232/270, Step=27/35, loss=6.777866, lr=1.2e-05, time_each_step=0.7s, eta=0:20:46\n"
     ]
    },
    {
     "name": "stderr",
     "output_type": "stream",
     "text": [
      "libpng warning: iCCP: known incorrect sRGB profile\n"
     ]
    },
    {
     "name": "stdout",
     "output_type": "stream",
     "text": [
      "2022-05-03 12:53:28 [INFO]\t[TRAIN] Epoch=232/270, Step=29/35, loss=7.205917, lr=1.2e-05, time_each_step=0.68s, eta=0:20:45\n",
      "2022-05-03 12:53:29 [INFO]\t[TRAIN] Epoch=232/270, Step=31/35, loss=6.334955, lr=1.2e-05, time_each_step=0.66s, eta=0:20:43\n",
      "2022-05-03 12:53:30 [INFO]\t[TRAIN] Epoch=232/270, Step=33/35, loss=6.107194, lr=1.2e-05, time_each_step=0.65s, eta=0:20:42\n",
      "2022-05-03 12:53:32 [INFO]\t[TRAIN] Epoch=232/270, Step=35/35, loss=7.459355, lr=1.2e-05, time_each_step=0.66s, eta=0:20:40\n",
      "2022-05-03 12:53:32 [INFO]\t[TRAIN] Epoch 232 finished, loss=6.967912, lr=1.3e-05 .\n",
      "2022-05-03 12:53:40 [INFO]\t[TRAIN] Epoch=233/270, Step=2/35, loss=6.577152, lr=1.2e-05, time_each_step=0.98s, eta=0:21:1\n"
     ]
    },
    {
     "name": "stderr",
     "output_type": "stream",
     "text": [
      "libpng warning: iCCP: known incorrect sRGB profile\n"
     ]
    },
    {
     "name": "stdout",
     "output_type": "stream",
     "text": [
      "2022-05-03 12:53:42 [INFO]\t[TRAIN] Epoch=233/270, Step=4/35, loss=6.656662, lr=1.2e-05, time_each_step=1.0s, eta=0:21:0\n",
      "2022-05-03 12:53:43 [INFO]\t[TRAIN] Epoch=233/270, Step=6/35, loss=6.882476, lr=1.2e-05, time_each_step=0.99s, eta=0:20:57\n",
      "2022-05-03 12:53:44 [INFO]\t[TRAIN] Epoch=233/270, Step=8/35, loss=4.602151, lr=1.2e-05, time_each_step=0.98s, eta=0:20:55\n",
      "2022-05-03 12:53:46 [INFO]\t[TRAIN] Epoch=233/270, Step=10/35, loss=7.494568, lr=1.2e-05, time_each_step=1.01s, eta=0:20:54\n",
      "2022-05-03 12:53:47 [INFO]\t[TRAIN] Epoch=233/270, Step=12/35, loss=7.180612, lr=1.2e-05, time_each_step=1.03s, eta=0:20:52\n",
      "2022-05-03 12:53:49 [INFO]\t[TRAIN] Epoch=233/270, Step=14/35, loss=4.827661, lr=1.2e-05, time_each_step=1.04s, eta=0:20:50\n",
      "2022-05-03 12:53:50 [INFO]\t[TRAIN] Epoch=233/270, Step=16/35, loss=5.918718, lr=1.2e-05, time_each_step=1.06s, eta=0:20:49\n",
      "2022-05-03 12:53:52 [INFO]\t[TRAIN] Epoch=233/270, Step=18/35, loss=3.724937, lr=1.2e-05, time_each_step=1.07s, eta=0:20:47\n",
      "2022-05-03 12:53:53 [INFO]\t[TRAIN] Epoch=233/270, Step=20/35, loss=10.000454, lr=1.2e-05, time_each_step=1.06s, eta=0:20:45\n",
      "2022-05-03 12:53:54 [INFO]\t[TRAIN] Epoch=233/270, Step=22/35, loss=5.550676, lr=1.2e-05, time_each_step=0.72s, eta=0:20:38\n",
      "2022-05-03 12:53:57 [INFO]\t[TRAIN] Epoch=233/270, Step=24/35, loss=7.563159, lr=1.2e-05, time_each_step=0.76s, eta=0:20:37\n",
      "2022-05-03 12:53:58 [INFO]\t[TRAIN] Epoch=233/270, Step=26/35, loss=4.41655, lr=1.2e-05, time_each_step=0.74s, eta=0:20:35\n",
      "2022-05-03 12:53:59 [INFO]\t[TRAIN] Epoch=233/270, Step=28/35, loss=5.464962, lr=1.2e-05, time_each_step=0.73s, eta=0:20:34\n"
     ]
    },
    {
     "name": "stderr",
     "output_type": "stream",
     "text": [
      "libpng warning: iCCP: known incorrect sRGB profile\n"
     ]
    },
    {
     "name": "stdout",
     "output_type": "stream",
     "text": [
      "2022-05-03 12:54:00 [INFO]\t[TRAIN] Epoch=233/270, Step=30/35, loss=6.646585, lr=1.2e-05, time_each_step=0.7s, eta=0:20:32\n",
      "2022-05-03 12:54:02 [INFO]\t[TRAIN] Epoch=233/270, Step=32/35, loss=4.534023, lr=1.2e-05, time_each_step=0.72s, eta=0:20:31\n",
      "2022-05-03 12:54:04 [INFO]\t[TRAIN] Epoch=233/270, Step=34/35, loss=6.838265, lr=1.2e-05, time_each_step=0.74s, eta=0:20:29\n",
      "2022-05-03 12:54:05 [INFO]\t[TRAIN] Epoch 233 finished, loss=6.655056, lr=1.3e-05 .\n",
      "2022-05-03 12:54:13 [INFO]\t[TRAIN] Epoch=234/270, Step=1/35, loss=4.707545, lr=1.2e-05, time_each_step=1.12s, eta=0:20:43\n"
     ]
    },
    {
     "name": "stderr",
     "output_type": "stream",
     "text": [
      "libpng warning: iCCP: known incorrect sRGB profile\n"
     ]
    },
    {
     "name": "stdout",
     "output_type": "stream",
     "text": [
      "2022-05-03 12:54:15 [INFO]\t[TRAIN] Epoch=234/270, Step=3/35, loss=5.608626, lr=1.2e-05, time_each_step=1.15s, eta=0:20:42\n",
      "2022-05-03 12:54:16 [INFO]\t[TRAIN] Epoch=234/270, Step=5/35, loss=9.638377, lr=1.2e-05, time_each_step=1.15s, eta=0:20:39\n",
      "2022-05-03 12:54:18 [INFO]\t[TRAIN] Epoch=234/270, Step=7/35, loss=6.785547, lr=1.2e-05, time_each_step=1.18s, eta=0:20:38\n",
      "2022-05-03 12:54:20 [INFO]\t[TRAIN] Epoch=234/270, Step=9/35, loss=5.342631, lr=1.2e-05, time_each_step=1.14s, eta=0:20:34\n",
      "2022-05-03 12:54:21 [INFO]\t[TRAIN] Epoch=234/270, Step=11/35, loss=4.764041, lr=1.2e-05, time_each_step=1.14s, eta=0:20:32\n",
      "2022-05-03 12:54:22 [INFO]\t[TRAIN] Epoch=234/270, Step=13/35, loss=10.695281, lr=1.2e-05, time_each_step=1.16s, eta=0:20:31\n",
      "2022-05-03 12:54:24 [INFO]\t[TRAIN] Epoch=234/270, Step=15/35, loss=9.945019, lr=1.2e-05, time_each_step=1.19s, eta=0:20:29\n",
      "2022-05-03 12:54:26 [INFO]\t[TRAIN] Epoch=234/270, Step=17/35, loss=7.158597, lr=1.2e-05, time_each_step=1.17s, eta=0:20:26\n",
      "2022-05-03 12:54:27 [INFO]\t[TRAIN] Epoch=234/270, Step=19/35, loss=8.650537, lr=1.2e-05, time_each_step=1.16s, eta=0:20:23\n",
      "2022-05-03 12:54:28 [INFO]\t[TRAIN] Epoch=234/270, Step=21/35, loss=7.262292, lr=1.2e-05, time_each_step=0.79s, eta=0:20:16\n",
      "2022-05-03 12:54:30 [INFO]\t[TRAIN] Epoch=234/270, Step=23/35, loss=8.439689, lr=1.2e-05, time_each_step=0.77s, eta=0:20:14\n",
      "2022-05-03 12:54:32 [INFO]\t[TRAIN] Epoch=234/270, Step=25/35, loss=8.367114, lr=1.2e-05, time_each_step=0.77s, eta=0:20:13\n",
      "2022-05-03 12:54:33 [INFO]\t[TRAIN] Epoch=234/270, Step=27/35, loss=3.990277, lr=1.2e-05, time_each_step=0.74s, eta=0:20:11\n",
      "2022-05-03 12:54:34 [INFO]\t[TRAIN] Epoch=234/270, Step=29/35, loss=8.390104, lr=1.2e-05, time_each_step=0.73s, eta=0:20:9\n"
     ]
    },
    {
     "name": "stderr",
     "output_type": "stream",
     "text": [
      "libpng warning: iCCP: known incorrect sRGB profile\n"
     ]
    },
    {
     "name": "stdout",
     "output_type": "stream",
     "text": [
      "2022-05-03 12:54:35 [INFO]\t[TRAIN] Epoch=234/270, Step=31/35, loss=7.19605, lr=1.2e-05, time_each_step=0.72s, eta=0:20:8\n",
      "2022-05-03 12:54:36 [INFO]\t[TRAIN] Epoch=234/270, Step=33/35, loss=5.66607, lr=1.2e-05, time_each_step=0.7s, eta=0:20:6\n",
      "2022-05-03 12:54:38 [INFO]\t[TRAIN] Epoch=234/270, Step=35/35, loss=4.779958, lr=1.2e-05, time_each_step=0.68s, eta=0:20:5\n",
      "2022-05-03 12:54:38 [INFO]\t[TRAIN] Epoch 234 finished, loss=6.714781, lr=1.3e-05 .\n",
      "2022-05-03 12:54:44 [INFO]\t[TRAIN] Epoch=235/270, Step=2/35, loss=5.476895, lr=1.2e-05, time_each_step=0.93s, eta=0:20:9\n",
      "2022-05-03 12:54:46 [INFO]\t[TRAIN] Epoch=235/270, Step=4/35, loss=5.362333, lr=1.2e-05, time_each_step=0.95s, eta=0:20:8\n",
      "2022-05-03 12:54:48 [INFO]\t[TRAIN] Epoch=235/270, Step=6/35, loss=8.029003, lr=1.2e-05, time_each_step=0.95s, eta=0:20:6\n"
     ]
    },
    {
     "name": "stderr",
     "output_type": "stream",
     "text": [
      "libpng warning: iCCP: known incorrect sRGB profile\n"
     ]
    },
    {
     "name": "stdout",
     "output_type": "stream",
     "text": [
      "2022-05-03 12:54:49 [INFO]\t[TRAIN] Epoch=235/270, Step=8/35, loss=8.495457, lr=1.2e-05, time_each_step=0.93s, eta=0:20:4\n",
      "2022-05-03 12:54:51 [INFO]\t[TRAIN] Epoch=235/270, Step=10/35, loss=6.006433, lr=1.2e-05, time_each_step=0.96s, eta=0:20:3\n",
      "2022-05-03 12:54:54 [INFO]\t[TRAIN] Epoch=235/270, Step=12/35, loss=7.163765, lr=1.2e-05, time_each_step=1.02s, eta=0:20:2\n",
      "2022-05-03 12:54:55 [INFO]\t[TRAIN] Epoch=235/270, Step=14/35, loss=5.55097, lr=1.2e-05, time_each_step=1.02s, eta=0:20:0\n",
      "2022-05-03 12:54:56 [INFO]\t[TRAIN] Epoch=235/270, Step=16/35, loss=4.426206, lr=1.2e-05, time_each_step=1.03s, eta=0:19:58\n",
      "2022-05-03 12:54:58 [INFO]\t[TRAIN] Epoch=235/270, Step=18/35, loss=6.278309, lr=1.2e-05, time_each_step=1.05s, eta=0:19:57\n",
      "2022-05-03 12:54:59 [INFO]\t[TRAIN] Epoch=235/270, Step=20/35, loss=5.333061, lr=1.2e-05, time_each_step=1.07s, eta=0:19:55\n",
      "2022-05-03 12:55:01 [INFO]\t[TRAIN] Epoch=235/270, Step=22/35, loss=6.435606, lr=1.2e-05, time_each_step=0.82s, eta=0:19:49\n"
     ]
    },
    {
     "name": "stderr",
     "output_type": "stream",
     "text": [
      "libpng warning: iCCP: known incorrect sRGB profile\n"
     ]
    },
    {
     "name": "stdout",
     "output_type": "stream",
     "text": [
      "2022-05-03 12:55:03 [INFO]\t[TRAIN] Epoch=235/270, Step=24/35, loss=5.301153, lr=1.2e-05, time_each_step=0.83s, eta=0:19:48\n",
      "2022-05-03 12:55:04 [INFO]\t[TRAIN] Epoch=235/270, Step=26/35, loss=6.955885, lr=1.2e-05, time_each_step=0.82s, eta=0:19:46\n",
      "2022-05-03 12:55:05 [INFO]\t[TRAIN] Epoch=235/270, Step=28/35, loss=6.003905, lr=1.2e-05, time_each_step=0.82s, eta=0:19:44\n",
      "2022-05-03 12:55:06 [INFO]\t[TRAIN] Epoch=235/270, Step=30/35, loss=7.958318, lr=1.2e-05, time_each_step=0.77s, eta=0:19:42\n",
      "2022-05-03 12:55:07 [INFO]\t[TRAIN] Epoch=235/270, Step=32/35, loss=4.435292, lr=1.2e-05, time_each_step=0.68s, eta=0:19:41\n",
      "2022-05-03 12:55:08 [INFO]\t[TRAIN] Epoch=235/270, Step=34/35, loss=5.543417, lr=1.2e-05, time_each_step=0.64s, eta=0:19:39\n",
      "2022-05-03 12:55:09 [INFO]\t[TRAIN] Epoch 235 finished, loss=6.714554, lr=1.3e-05 .\n",
      "2022-05-03 12:55:15 [INFO]\t[TRAIN] Epoch=236/270, Step=1/35, loss=7.713215, lr=1.2e-05, time_each_step=0.9s, eta=0:18:12\n",
      "2022-05-03 12:55:16 [INFO]\t[TRAIN] Epoch=236/270, Step=3/35, loss=10.367088, lr=1.2e-05, time_each_step=0.91s, eta=0:18:11\n"
     ]
    },
    {
     "name": "stderr",
     "output_type": "stream",
     "text": [
      "libpng warning: iCCP: known incorrect sRGB profile\n"
     ]
    },
    {
     "name": "stdout",
     "output_type": "stream",
     "text": [
      "2022-05-03 12:55:18 [INFO]\t[TRAIN] Epoch=236/270, Step=5/35, loss=7.76148, lr=1.2e-05, time_each_step=0.94s, eta=0:18:10\n",
      "2022-05-03 12:55:20 [INFO]\t[TRAIN] Epoch=236/270, Step=7/35, loss=7.790444, lr=1.2e-05, time_each_step=0.94s, eta=0:18:8\n",
      "2022-05-03 12:55:21 [INFO]\t[TRAIN] Epoch=236/270, Step=9/35, loss=6.796501, lr=1.2e-05, time_each_step=0.9s, eta=0:18:5\n",
      "2022-05-03 12:55:22 [INFO]\t[TRAIN] Epoch=236/270, Step=11/35, loss=2.498511, lr=1.2e-05, time_each_step=0.89s, eta=0:18:3\n",
      "2022-05-03 12:55:23 [INFO]\t[TRAIN] Epoch=236/270, Step=13/35, loss=3.873357, lr=1.2e-05, time_each_step=0.89s, eta=0:18:1\n",
      "2022-05-03 12:55:25 [INFO]\t[TRAIN] Epoch=236/270, Step=15/35, loss=7.798201, lr=1.2e-05, time_each_step=0.9s, eta=0:18:0\n",
      "2022-05-03 12:55:26 [INFO]\t[TRAIN] Epoch=236/270, Step=17/35, loss=5.715944, lr=1.2e-05, time_each_step=0.92s, eta=0:17:58\n",
      "2022-05-03 12:55:27 [INFO]\t[TRAIN] Epoch=236/270, Step=19/35, loss=6.644061, lr=1.2e-05, time_each_step=0.95s, eta=0:17:57\n",
      "2022-05-03 12:55:29 [INFO]\t[TRAIN] Epoch=236/270, Step=21/35, loss=5.146913, lr=1.2e-05, time_each_step=0.7s, eta=0:17:51\n",
      "2022-05-03 12:55:30 [INFO]\t[TRAIN] Epoch=236/270, Step=23/35, loss=7.02933, lr=1.2e-05, time_each_step=0.69s, eta=0:17:50\n",
      "2022-05-03 12:55:32 [INFO]\t[TRAIN] Epoch=236/270, Step=25/35, loss=6.566506, lr=1.2e-05, time_each_step=0.67s, eta=0:17:48\n"
     ]
    },
    {
     "name": "stderr",
     "output_type": "stream",
     "text": [
      "libpng warning: iCCP: known incorrect sRGB profile\n"
     ]
    },
    {
     "name": "stdout",
     "output_type": "stream",
     "text": [
      "2022-05-03 12:55:33 [INFO]\t[TRAIN] Epoch=236/270, Step=27/35, loss=9.743346, lr=1.2e-05, time_each_step=0.67s, eta=0:17:47\n",
      "2022-05-03 12:55:35 [INFO]\t[TRAIN] Epoch=236/270, Step=29/35, loss=6.595238, lr=1.2e-05, time_each_step=0.7s, eta=0:17:46\n",
      "2022-05-03 12:55:36 [INFO]\t[TRAIN] Epoch=236/270, Step=31/35, loss=8.502394, lr=1.2e-05, time_each_step=0.69s, eta=0:17:44\n",
      "2022-05-03 12:55:38 [INFO]\t[TRAIN] Epoch=236/270, Step=33/35, loss=5.889287, lr=1.2e-05, time_each_step=0.73s, eta=0:17:43\n",
      "2022-05-03 12:55:40 [INFO]\t[TRAIN] Epoch=236/270, Step=35/35, loss=5.313515, lr=1.2e-05, time_each_step=0.75s, eta=0:17:42\n",
      "2022-05-03 12:55:40 [INFO]\t[TRAIN] Epoch 236 finished, loss=6.761518, lr=1.3e-05 .\n",
      "2022-05-03 12:55:47 [INFO]\t[TRAIN] Epoch=237/270, Step=2/35, loss=2.767552, lr=1.2e-05, time_each_step=1.07s, eta=0:18:2\n"
     ]
    },
    {
     "name": "stderr",
     "output_type": "stream",
     "text": [
      "libpng warning: iCCP: known incorrect sRGB profile\n"
     ]
    },
    {
     "name": "stdout",
     "output_type": "stream",
     "text": [
      "2022-05-03 12:55:49 [INFO]\t[TRAIN] Epoch=237/270, Step=4/35, loss=6.664068, lr=1.2e-05, time_each_step=1.1s, eta=0:18:1\n",
      "2022-05-03 12:55:51 [INFO]\t[TRAIN] Epoch=237/270, Step=6/35, loss=9.11919, lr=1.2e-05, time_each_step=1.14s, eta=0:17:59\n",
      "2022-05-03 12:55:53 [INFO]\t[TRAIN] Epoch=237/270, Step=8/35, loss=7.863777, lr=1.2e-05, time_each_step=1.14s, eta=0:17:57\n",
      "2022-05-03 12:55:54 [INFO]\t[TRAIN] Epoch=237/270, Step=10/35, loss=9.833953, lr=1.2e-05, time_each_step=1.11s, eta=0:17:54\n",
      "2022-05-03 12:55:55 [INFO]\t[TRAIN] Epoch=237/270, Step=12/35, loss=5.12943, lr=1.2e-05, time_each_step=1.1s, eta=0:17:52\n",
      "2022-05-03 12:55:57 [INFO]\t[TRAIN] Epoch=237/270, Step=14/35, loss=5.146069, lr=1.2e-05, time_each_step=1.08s, eta=0:17:49\n",
      "2022-05-03 12:55:58 [INFO]\t[TRAIN] Epoch=237/270, Step=16/35, loss=6.666064, lr=1.2e-05, time_each_step=1.11s, eta=0:17:47\n",
      "2022-05-03 12:55:59 [INFO]\t[TRAIN] Epoch=237/270, Step=18/35, loss=5.846622, lr=1.2e-05, time_each_step=1.06s, eta=0:17:44\n",
      "2022-05-03 12:56:01 [INFO]\t[TRAIN] Epoch=237/270, Step=20/35, loss=7.479692, lr=1.2e-05, time_each_step=1.05s, eta=0:17:42\n",
      "2022-05-03 12:56:03 [INFO]\t[TRAIN] Epoch=237/270, Step=22/35, loss=5.980746, lr=1.2e-05, time_each_step=0.79s, eta=0:17:37\n",
      "2022-05-03 12:56:04 [INFO]\t[TRAIN] Epoch=237/270, Step=24/35, loss=4.826803, lr=1.2e-05, time_each_step=0.75s, eta=0:17:35\n",
      "2022-05-03 12:56:05 [INFO]\t[TRAIN] Epoch=237/270, Step=26/35, loss=12.750553, lr=1.2e-05, time_each_step=0.71s, eta=0:17:33\n"
     ]
    },
    {
     "name": "stderr",
     "output_type": "stream",
     "text": [
      "libpng warning: iCCP: known incorrect sRGB profile\n"
     ]
    },
    {
     "name": "stdout",
     "output_type": "stream",
     "text": [
      "2022-05-03 12:56:06 [INFO]\t[TRAIN] Epoch=237/270, Step=28/35, loss=7.798447, lr=1.2e-05, time_each_step=0.68s, eta=0:17:31\n",
      "2022-05-03 12:56:08 [INFO]\t[TRAIN] Epoch=237/270, Step=30/35, loss=6.849909, lr=1.2e-05, time_each_step=0.7s, eta=0:17:30\n",
      "2022-05-03 12:56:09 [INFO]\t[TRAIN] Epoch=237/270, Step=32/35, loss=7.6703, lr=1.2e-05, time_each_step=0.69s, eta=0:17:28\n",
      "2022-05-03 12:56:10 [INFO]\t[TRAIN] Epoch=237/270, Step=34/35, loss=6.261465, lr=1.2e-05, time_each_step=0.68s, eta=0:17:27\n",
      "2022-05-03 12:56:11 [INFO]\t[TRAIN] Epoch 237 finished, loss=6.67835, lr=1.3e-05 .\n",
      "2022-05-03 12:56:19 [INFO]\t[TRAIN] Epoch=238/270, Step=1/35, loss=4.740646, lr=1.2e-05, time_each_step=1.05s, eta=0:17:40\n"
     ]
    },
    {
     "name": "stderr",
     "output_type": "stream",
     "text": [
      "libpng warning: iCCP: known incorrect sRGB profile\n"
     ]
    },
    {
     "name": "stdout",
     "output_type": "stream",
     "text": [
      "2022-05-03 12:56:21 [INFO]\t[TRAIN] Epoch=238/270, Step=3/35, loss=7.251248, lr=1.2e-05, time_each_step=1.09s, eta=0:17:39\n",
      "2022-05-03 12:56:22 [INFO]\t[TRAIN] Epoch=238/270, Step=5/35, loss=6.702738, lr=1.2e-05, time_each_step=1.08s, eta=0:17:37\n",
      "2022-05-03 12:56:24 [INFO]\t[TRAIN] Epoch=238/270, Step=7/35, loss=5.67105, lr=1.2e-05, time_each_step=1.04s, eta=0:17:34\n",
      "2022-05-03 12:56:25 [INFO]\t[TRAIN] Epoch=238/270, Step=9/35, loss=6.274499, lr=1.2e-05, time_each_step=1.04s, eta=0:17:32\n",
      "2022-05-03 12:56:27 [INFO]\t[TRAIN] Epoch=238/270, Step=11/35, loss=3.805993, lr=1.2e-05, time_each_step=1.05s, eta=0:17:30\n",
      "2022-05-03 12:56:28 [INFO]\t[TRAIN] Epoch=238/270, Step=13/35, loss=10.497504, lr=1.2e-05, time_each_step=1.07s, eta=0:17:28\n",
      "2022-05-03 12:56:30 [INFO]\t[TRAIN] Epoch=238/270, Step=15/35, loss=8.108527, lr=1.2e-05, time_each_step=1.08s, eta=0:17:26\n",
      "2022-05-03 12:56:31 [INFO]\t[TRAIN] Epoch=238/270, Step=17/35, loss=6.988609, lr=1.2e-05, time_each_step=1.08s, eta=0:17:24\n",
      "2022-05-03 12:56:32 [INFO]\t[TRAIN] Epoch=238/270, Step=19/35, loss=4.757585, lr=1.2e-05, time_each_step=1.1s, eta=0:17:22\n",
      "2022-05-03 12:56:34 [INFO]\t[TRAIN] Epoch=238/270, Step=21/35, loss=9.568631, lr=1.2e-05, time_each_step=0.74s, eta=0:17:15\n",
      "2022-05-03 12:56:36 [INFO]\t[TRAIN] Epoch=238/270, Step=23/35, loss=7.466647, lr=1.2e-05, time_each_step=0.72s, eta=0:17:13\n",
      "2022-05-03 12:56:37 [INFO]\t[TRAIN] Epoch=238/270, Step=25/35, loss=11.47337, lr=1.2e-05, time_each_step=0.73s, eta=0:17:12\n",
      "2022-05-03 12:56:38 [INFO]\t[TRAIN] Epoch=238/270, Step=27/35, loss=8.636652, lr=1.2e-05, time_each_step=0.7s, eta=0:17:10\n"
     ]
    },
    {
     "name": "stderr",
     "output_type": "stream",
     "text": [
      "libpng warning: iCCP: known incorrect sRGB profile\n"
     ]
    },
    {
     "name": "stdout",
     "output_type": "stream",
     "text": [
      "2022-05-03 12:56:39 [INFO]\t[TRAIN] Epoch=238/270, Step=29/35, loss=7.552149, lr=1.2e-05, time_each_step=0.68s, eta=0:17:9\n",
      "2022-05-03 12:56:40 [INFO]\t[TRAIN] Epoch=238/270, Step=31/35, loss=5.287781, lr=1.2e-05, time_each_step=0.65s, eta=0:17:7\n",
      "2022-05-03 12:56:40 [INFO]\t[TRAIN] Epoch=238/270, Step=33/35, loss=6.716327, lr=1.2e-05, time_each_step=0.6s, eta=0:17:6\n",
      "2022-05-03 12:56:41 [INFO]\t[TRAIN] Epoch=238/270, Step=35/35, loss=7.504996, lr=1.2e-05, time_each_step=0.55s, eta=0:17:5\n",
      "2022-05-03 12:56:41 [INFO]\t[TRAIN] Epoch 238 finished, loss=6.648843, lr=1.3e-05 .\n",
      "2022-05-03 12:56:50 [INFO]\t[TRAIN] Epoch=239/270, Step=2/35, loss=3.841323, lr=1.2e-05, time_each_step=0.95s, eta=0:16:22\n",
      "2022-05-03 12:56:52 [INFO]\t[TRAIN] Epoch=239/270, Step=4/35, loss=8.632359, lr=1.2e-05, time_each_step=0.96s, eta=0:16:21\n"
     ]
    },
    {
     "name": "stderr",
     "output_type": "stream",
     "text": [
      "libpng warning: iCCP: known incorrect sRGB profile\n"
     ]
    },
    {
     "name": "stdout",
     "output_type": "stream",
     "text": [
      "2022-05-03 12:56:54 [INFO]\t[TRAIN] Epoch=239/270, Step=6/35, loss=5.278, lr=1.2e-05, time_each_step=0.98s, eta=0:16:19\n",
      "2022-05-03 12:56:55 [INFO]\t[TRAIN] Epoch=239/270, Step=8/35, loss=7.578063, lr=1.2e-05, time_each_step=0.97s, eta=0:16:17\n",
      "2022-05-03 12:56:57 [INFO]\t[TRAIN] Epoch=239/270, Step=10/35, loss=5.016889, lr=1.2e-05, time_each_step=0.99s, eta=0:16:16\n",
      "2022-05-03 12:56:58 [INFO]\t[TRAIN] Epoch=239/270, Step=12/35, loss=8.255193, lr=1.2e-05, time_each_step=1.0s, eta=0:16:14\n",
      "2022-05-03 12:57:00 [INFO]\t[TRAIN] Epoch=239/270, Step=14/35, loss=6.764005, lr=1.2e-05, time_each_step=1.04s, eta=0:16:13\n",
      "2022-05-03 12:57:02 [INFO]\t[TRAIN] Epoch=239/270, Step=16/35, loss=8.39162, lr=1.2e-05, time_each_step=1.09s, eta=0:16:12\n",
      "2022-05-03 12:57:03 [INFO]\t[TRAIN] Epoch=239/270, Step=18/35, loss=4.823653, lr=1.2e-05, time_each_step=1.14s, eta=0:16:10\n",
      "2022-05-03 12:57:05 [INFO]\t[TRAIN] Epoch=239/270, Step=20/35, loss=5.890607, lr=1.2e-05, time_each_step=1.19s, eta=0:16:9\n",
      "2022-05-03 12:57:06 [INFO]\t[TRAIN] Epoch=239/270, Step=22/35, loss=7.228731, lr=1.2e-05, time_each_step=0.82s, eta=0:16:2\n",
      "2022-05-03 12:57:08 [INFO]\t[TRAIN] Epoch=239/270, Step=24/35, loss=4.202043, lr=1.2e-05, time_each_step=0.8s, eta=0:16:0\n",
      "2022-05-03 12:57:09 [INFO]\t[TRAIN] Epoch=239/270, Step=26/35, loss=3.625468, lr=1.2e-05, time_each_step=0.77s, eta=0:15:58\n",
      "2022-05-03 12:57:10 [INFO]\t[TRAIN] Epoch=239/270, Step=28/35, loss=6.783317, lr=1.2e-05, time_each_step=0.75s, eta=0:15:56\n"
     ]
    },
    {
     "name": "stderr",
     "output_type": "stream",
     "text": [
      "libpng warning: iCCP: known incorrect sRGB profile\n"
     ]
    },
    {
     "name": "stdout",
     "output_type": "stream",
     "text": [
      "2022-05-03 12:57:11 [INFO]\t[TRAIN] Epoch=239/270, Step=30/35, loss=5.787435, lr=1.2e-05, time_each_step=0.7s, eta=0:15:54\n",
      "2022-05-03 12:57:12 [INFO]\t[TRAIN] Epoch=239/270, Step=32/35, loss=4.971061, lr=1.2e-05, time_each_step=0.69s, eta=0:15:53\n",
      "2022-05-03 12:57:13 [INFO]\t[TRAIN] Epoch=239/270, Step=34/35, loss=6.354478, lr=1.2e-05, time_each_step=0.68s, eta=0:15:52\n",
      "2022-05-03 12:57:14 [INFO]\t[TRAIN] Epoch 239 finished, loss=6.394746, lr=1.3e-05 .\n",
      "2022-05-03 12:57:21 [INFO]\t[TRAIN] Epoch=240/270, Step=1/35, loss=7.278345, lr=1.2e-05, time_each_step=0.99s, eta=0:17:27\n",
      "2022-05-03 12:57:24 [INFO]\t[TRAIN] Epoch=240/270, Step=3/35, loss=6.809877, lr=1.2e-05, time_each_step=1.02s, eta=0:17:26\n",
      "2022-05-03 12:57:25 [INFO]\t[TRAIN] Epoch=240/270, Step=5/35, loss=7.292743, lr=1.2e-05, time_each_step=0.99s, eta=0:17:23\n"
     ]
    },
    {
     "name": "stderr",
     "output_type": "stream",
     "text": [
      "libpng warning: iCCP: known incorrect sRGB profile\n"
     ]
    },
    {
     "name": "stdout",
     "output_type": "stream",
     "text": [
      "2022-05-03 12:57:27 [INFO]\t[TRAIN] Epoch=240/270, Step=7/35, loss=5.015591, lr=1.2e-05, time_each_step=1.03s, eta=0:17:22\n",
      "2022-05-03 12:57:28 [INFO]\t[TRAIN] Epoch=240/270, Step=9/35, loss=5.255546, lr=1.2e-05, time_each_step=1.03s, eta=0:17:21\n",
      "2022-05-03 12:57:30 [INFO]\t[TRAIN] Epoch=240/270, Step=11/35, loss=7.497952, lr=1.2e-05, time_each_step=1.05s, eta=0:17:19\n",
      "2022-05-03 12:57:32 [INFO]\t[TRAIN] Epoch=240/270, Step=13/35, loss=8.9961, lr=1.2e-05, time_each_step=1.07s, eta=0:17:17\n",
      "2022-05-03 12:57:33 [INFO]\t[TRAIN] Epoch=240/270, Step=15/35, loss=4.305099, lr=1.2e-05, time_each_step=1.09s, eta=0:17:15\n",
      "2022-05-03 12:57:34 [INFO]\t[TRAIN] Epoch=240/270, Step=17/35, loss=10.853615, lr=1.2e-05, time_each_step=1.1s, eta=0:17:13\n",
      "2022-05-03 12:57:35 [INFO]\t[TRAIN] Epoch=240/270, Step=19/35, loss=8.46763, lr=1.2e-05, time_each_step=1.08s, eta=0:17:11\n",
      "2022-05-03 12:57:36 [INFO]\t[TRAIN] Epoch=240/270, Step=21/35, loss=6.799798, lr=1.2e-05, time_each_step=0.74s, eta=0:17:4\n",
      "2022-05-03 12:57:38 [INFO]\t[TRAIN] Epoch=240/270, Step=23/35, loss=6.02508, lr=1.2e-05, time_each_step=0.7s, eta=0:17:2\n"
     ]
    },
    {
     "name": "stderr",
     "output_type": "stream",
     "text": [
      "libpng warning: iCCP: known incorrect sRGB profile\n"
     ]
    },
    {
     "name": "stdout",
     "output_type": "stream",
     "text": [
      "2022-05-03 12:57:39 [INFO]\t[TRAIN] Epoch=240/270, Step=25/35, loss=6.604058, lr=1.2e-05, time_each_step=0.71s, eta=0:17:1\n",
      "2022-05-03 12:57:40 [INFO]\t[TRAIN] Epoch=240/270, Step=27/35, loss=7.405524, lr=1.2e-05, time_each_step=0.66s, eta=0:16:59\n",
      "2022-05-03 12:57:41 [INFO]\t[TRAIN] Epoch=240/270, Step=29/35, loss=6.451364, lr=1.2e-05, time_each_step=0.64s, eta=0:16:57\n",
      "2022-05-03 12:57:42 [INFO]\t[TRAIN] Epoch=240/270, Step=31/35, loss=6.859569, lr=1.2e-05, time_each_step=0.6s, eta=0:16:56\n",
      "2022-05-03 12:57:44 [INFO]\t[TRAIN] Epoch=240/270, Step=33/35, loss=7.201398, lr=1.2e-05, time_each_step=0.59s, eta=0:16:55\n",
      "2022-05-03 12:57:45 [INFO]\t[TRAIN] Epoch=240/270, Step=35/35, loss=7.28628, lr=1.2e-05, time_each_step=0.61s, eta=0:16:54\n",
      "2022-05-03 12:57:45 [INFO]\t[TRAIN] Epoch 240 finished, loss=6.511104, lr=1.3e-05 .\n",
      "2022-05-03 12:57:45 [INFO]\tStart to evaluating(total_samples=121, total_steps=16)...\n"
     ]
    },
    {
     "name": "stderr",
     "output_type": "stream",
     "text": [
      "100%|██████████| 16/16 [00:08<00:00,  1.94it/s]\n"
     ]
    },
    {
     "name": "stdout",
     "output_type": "stream",
     "text": [
      "2022-05-03 12:57:54 [INFO]\t[EVAL] Finished, Epoch=240, bbox_map=94.714398 .\n",
      "2022-05-03 12:57:58 [INFO]\tModel saved in output_yolov3_darknet53/best_model.\n",
      "2022-05-03 12:57:59 [INFO]\tModel saved in output_yolov3_darknet53/epoch_240.\n",
      "2022-05-03 12:57:59 [INFO]\tCurrent evaluated best model in eval_dataset is epoch_240, bbox_map=94.7143975650474\n",
      "2022-05-03 12:58:07 [INFO]\t[TRAIN] Epoch=241/270, Step=2/35, loss=7.838204, lr=1e-06, time_each_step=0.94s, eta=0:15:47\n",
      "2022-05-03 12:58:08 [INFO]\t[TRAIN] Epoch=241/270, Step=4/35, loss=5.253509, lr=1e-06, time_each_step=0.96s, eta=0:15:46\n"
     ]
    },
    {
     "name": "stderr",
     "output_type": "stream",
     "text": [
      "libpng warning: iCCP: known incorrect sRGB profile\n"
     ]
    },
    {
     "name": "stdout",
     "output_type": "stream",
     "text": [
      "2022-05-03 12:58:10 [INFO]\t[TRAIN] Epoch=241/270, Step=6/35, loss=7.58251, lr=1e-06, time_each_step=0.96s, eta=0:15:44\n",
      "2022-05-03 12:58:12 [INFO]\t[TRAIN] Epoch=241/270, Step=8/35, loss=4.187902, lr=1e-06, time_each_step=0.99s, eta=0:15:43\n",
      "2022-05-03 12:58:13 [INFO]\t[TRAIN] Epoch=241/270, Step=10/35, loss=7.989252, lr=1e-06, time_each_step=1.0s, eta=0:15:41\n",
      "2022-05-03 12:58:15 [INFO]\t[TRAIN] Epoch=241/270, Step=12/35, loss=6.082357, lr=1e-06, time_each_step=1.02s, eta=0:15:39\n",
      "2022-05-03 12:58:16 [INFO]\t[TRAIN] Epoch=241/270, Step=14/35, loss=6.672087, lr=1e-06, time_each_step=1.05s, eta=0:15:38\n",
      "2022-05-03 12:58:18 [INFO]\t[TRAIN] Epoch=241/270, Step=16/35, loss=7.907082, lr=1e-06, time_each_step=1.07s, eta=0:15:36\n",
      "2022-05-03 12:58:19 [INFO]\t[TRAIN] Epoch=241/270, Step=18/35, loss=4.558551, lr=1e-06, time_each_step=1.09s, eta=0:15:34\n",
      "2022-05-03 12:58:21 [INFO]\t[TRAIN] Epoch=241/270, Step=20/35, loss=4.142771, lr=1e-06, time_each_step=1.08s, eta=0:15:32\n",
      "2022-05-03 12:58:22 [INFO]\t[TRAIN] Epoch=241/270, Step=22/35, loss=5.453294, lr=1e-06, time_each_step=0.77s, eta=0:15:26\n",
      "2022-05-03 12:58:25 [INFO]\t[TRAIN] Epoch=241/270, Step=24/35, loss=8.777697, lr=1e-06, time_each_step=0.83s, eta=0:15:25\n",
      "2022-05-03 12:58:26 [INFO]\t[TRAIN] Epoch=241/270, Step=26/35, loss=6.310163, lr=1e-06, time_each_step=0.81s, eta=0:15:23\n"
     ]
    },
    {
     "name": "stderr",
     "output_type": "stream",
     "text": [
      "libpng warning: iCCP: known incorrect sRGB profile\n"
     ]
    },
    {
     "name": "stdout",
     "output_type": "stream",
     "text": [
      "2022-05-03 12:58:27 [INFO]\t[TRAIN] Epoch=241/270, Step=28/35, loss=5.103316, lr=1e-06, time_each_step=0.76s, eta=0:15:21\n",
      "2022-05-03 12:58:28 [INFO]\t[TRAIN] Epoch=241/270, Step=30/35, loss=6.749521, lr=1e-06, time_each_step=0.76s, eta=0:15:20\n",
      "2022-05-03 12:58:30 [INFO]\t[TRAIN] Epoch=241/270, Step=32/35, loss=7.784217, lr=1e-06, time_each_step=0.74s, eta=0:15:18\n",
      "2022-05-03 12:58:31 [INFO]\t[TRAIN] Epoch=241/270, Step=34/35, loss=7.605992, lr=1e-06, time_each_step=0.72s, eta=0:15:17\n",
      "2022-05-03 12:58:32 [INFO]\t[TRAIN] Epoch 241 finished, loss=6.910767, lr=1e-06 .\n",
      "2022-05-03 12:58:39 [INFO]\t[TRAIN] Epoch=242/270, Step=1/35, loss=4.290321, lr=1e-06, time_each_step=1.03s, eta=0:15:54\n"
     ]
    },
    {
     "name": "stderr",
     "output_type": "stream",
     "text": [
      "libpng warning: iCCP: known incorrect sRGB profile\n"
     ]
    },
    {
     "name": "stdout",
     "output_type": "stream",
     "text": [
      "2022-05-03 12:58:41 [INFO]\t[TRAIN] Epoch=242/270, Step=3/35, loss=6.753994, lr=1e-06, time_each_step=1.07s, eta=0:15:54\n",
      "2022-05-03 12:58:42 [INFO]\t[TRAIN] Epoch=242/270, Step=5/35, loss=7.319001, lr=1e-06, time_each_step=1.06s, eta=0:15:51\n",
      "2022-05-03 12:58:44 [INFO]\t[TRAIN] Epoch=242/270, Step=7/35, loss=11.143682, lr=1e-06, time_each_step=1.07s, eta=0:15:49\n",
      "2022-05-03 12:58:45 [INFO]\t[TRAIN] Epoch=242/270, Step=9/35, loss=5.570892, lr=1e-06, time_each_step=1.01s, eta=0:15:46\n",
      "2022-05-03 12:58:47 [INFO]\t[TRAIN] Epoch=242/270, Step=11/35, loss=8.037608, lr=1e-06, time_each_step=1.03s, eta=0:15:44\n",
      "2022-05-03 12:58:48 [INFO]\t[TRAIN] Epoch=242/270, Step=13/35, loss=7.403467, lr=1e-06, time_each_step=1.07s, eta=0:15:43\n",
      "2022-05-03 12:58:49 [INFO]\t[TRAIN] Epoch=242/270, Step=15/35, loss=3.641794, lr=1e-06, time_each_step=1.04s, eta=0:15:40\n",
      "2022-05-03 12:58:50 [INFO]\t[TRAIN] Epoch=242/270, Step=17/35, loss=5.549633, lr=1e-06, time_each_step=1.03s, eta=0:15:38\n",
      "2022-05-03 12:58:52 [INFO]\t[TRAIN] Epoch=242/270, Step=19/35, loss=7.805789, lr=1e-06, time_each_step=1.03s, eta=0:15:36\n",
      "2022-05-03 12:58:53 [INFO]\t[TRAIN] Epoch=242/270, Step=21/35, loss=4.504364, lr=1e-06, time_each_step=0.74s, eta=0:15:30\n",
      "2022-05-03 12:58:55 [INFO]\t[TRAIN] Epoch=242/270, Step=23/35, loss=5.977909, lr=1e-06, time_each_step=0.68s, eta=0:15:27\n",
      "2022-05-03 12:58:56 [INFO]\t[TRAIN] Epoch=242/270, Step=25/35, loss=9.481567, lr=1e-06, time_each_step=0.7s, eta=0:15:26\n",
      "2022-05-03 12:58:58 [INFO]\t[TRAIN] Epoch=242/270, Step=27/35, loss=10.800583, lr=1e-06, time_each_step=0.69s, eta=0:15:25\n"
     ]
    },
    {
     "name": "stderr",
     "output_type": "stream",
     "text": [
      "libpng warning: iCCP: known incorrect sRGB profile\n"
     ]
    },
    {
     "name": "stdout",
     "output_type": "stream",
     "text": [
      "2022-05-03 12:58:59 [INFO]\t[TRAIN] Epoch=242/270, Step=29/35, loss=10.445337, lr=1e-06, time_each_step=0.69s, eta=0:15:23\n",
      "2022-05-03 12:59:01 [INFO]\t[TRAIN] Epoch=242/270, Step=31/35, loss=8.545376, lr=1e-06, time_each_step=0.72s, eta=0:15:22\n",
      "2022-05-03 12:59:03 [INFO]\t[TRAIN] Epoch=242/270, Step=33/35, loss=5.463438, lr=1e-06, time_each_step=0.71s, eta=0:15:21\n",
      "2022-05-03 12:59:04 [INFO]\t[TRAIN] Epoch=242/270, Step=35/35, loss=7.225733, lr=1e-06, time_each_step=0.75s, eta=0:15:19\n",
      "2022-05-03 12:59:04 [INFO]\t[TRAIN] Epoch 242 finished, loss=7.024744, lr=1e-06 .\n",
      "2022-05-03 12:59:12 [INFO]\t[TRAIN] Epoch=243/270, Step=2/35, loss=4.651026, lr=1e-06, time_each_step=1.08s, eta=0:15:37\n"
     ]
    },
    {
     "name": "stderr",
     "output_type": "stream",
     "text": [
      "libpng warning: iCCP: known incorrect sRGB profile\n"
     ]
    },
    {
     "name": "stdout",
     "output_type": "stream",
     "text": [
      "2022-05-03 12:59:14 [INFO]\t[TRAIN] Epoch=243/270, Step=4/35, loss=6.170675, lr=1e-06, time_each_step=1.08s, eta=0:15:35\n",
      "2022-05-03 12:59:15 [INFO]\t[TRAIN] Epoch=243/270, Step=6/35, loss=5.04253, lr=1e-06, time_each_step=1.08s, eta=0:15:33\n",
      "2022-05-03 12:59:16 [INFO]\t[TRAIN] Epoch=243/270, Step=8/35, loss=5.821316, lr=1e-06, time_each_step=1.07s, eta=0:15:31\n",
      "2022-05-03 12:59:18 [INFO]\t[TRAIN] Epoch=243/270, Step=10/35, loss=3.774452, lr=1e-06, time_each_step=1.08s, eta=0:15:29\n",
      "2022-05-03 12:59:20 [INFO]\t[TRAIN] Epoch=243/270, Step=12/35, loss=5.493043, lr=1e-06, time_each_step=1.09s, eta=0:15:27\n",
      "2022-05-03 12:59:21 [INFO]\t[TRAIN] Epoch=243/270, Step=14/35, loss=4.96534, lr=1e-06, time_each_step=1.1s, eta=0:15:25\n",
      "2022-05-03 12:59:23 [INFO]\t[TRAIN] Epoch=243/270, Step=16/35, loss=5.678507, lr=1e-06, time_each_step=1.07s, eta=0:15:22\n",
      "2022-05-03 12:59:24 [INFO]\t[TRAIN] Epoch=243/270, Step=18/35, loss=5.646826, lr=1e-06, time_each_step=1.07s, eta=0:15:20\n",
      "2022-05-03 12:59:25 [INFO]\t[TRAIN] Epoch=243/270, Step=20/35, loss=4.963899, lr=1e-06, time_each_step=1.03s, eta=0:15:17\n",
      "2022-05-03 12:59:26 [INFO]\t[TRAIN] Epoch=243/270, Step=22/35, loss=6.2705, lr=1e-06, time_each_step=0.71s, eta=0:15:11\n",
      "2022-05-03 12:59:28 [INFO]\t[TRAIN] Epoch=243/270, Step=24/35, loss=5.833642, lr=1e-06, time_each_step=0.72s, eta=0:15:9\n"
     ]
    },
    {
     "name": "stderr",
     "output_type": "stream",
     "text": [
      "libpng warning: iCCP: known incorrect sRGB profile\n"
     ]
    },
    {
     "name": "stdout",
     "output_type": "stream",
     "text": [
      "2022-05-03 12:59:29 [INFO]\t[TRAIN] Epoch=243/270, Step=26/35, loss=9.249209, lr=1e-06, time_each_step=0.71s, eta=0:15:8\n",
      "2022-05-03 12:59:31 [INFO]\t[TRAIN] Epoch=243/270, Step=28/35, loss=6.817571, lr=1e-06, time_each_step=0.72s, eta=0:15:7\n",
      "2022-05-03 12:59:32 [INFO]\t[TRAIN] Epoch=243/270, Step=30/35, loss=4.167531, lr=1e-06, time_each_step=0.69s, eta=0:15:5\n",
      "2022-05-03 12:59:34 [INFO]\t[TRAIN] Epoch=243/270, Step=32/35, loss=4.3534, lr=1e-06, time_each_step=0.68s, eta=0:15:4\n",
      "2022-05-03 12:59:35 [INFO]\t[TRAIN] Epoch=243/270, Step=34/35, loss=7.573064, lr=1e-06, time_each_step=0.66s, eta=0:15:2\n",
      "2022-05-03 12:59:36 [INFO]\t[TRAIN] Epoch 243 finished, loss=6.55416, lr=1e-06 .\n",
      "2022-05-03 12:59:43 [INFO]\t[TRAIN] Epoch=244/270, Step=1/35, loss=9.189726, lr=1e-06, time_each_step=0.97s, eta=0:14:33\n",
      "2022-05-03 12:59:45 [INFO]\t[TRAIN] Epoch=244/270, Step=3/35, loss=7.963924, lr=1e-06, time_each_step=1.01s, eta=0:14:33\n"
     ]
    },
    {
     "name": "stderr",
     "output_type": "stream",
     "text": [
      "libpng warning: iCCP: known incorrect sRGB profile\n"
     ]
    },
    {
     "name": "stdout",
     "output_type": "stream",
     "text": [
      "2022-05-03 12:59:46 [INFO]\t[TRAIN] Epoch=244/270, Step=5/35, loss=7.983272, lr=1e-06, time_each_step=1.03s, eta=0:14:31\n",
      "2022-05-03 12:59:47 [INFO]\t[TRAIN] Epoch=244/270, Step=7/35, loss=4.724059, lr=1e-06, time_each_step=1.02s, eta=0:14:29\n",
      "2022-05-03 12:59:49 [INFO]\t[TRAIN] Epoch=244/270, Step=9/35, loss=10.054149, lr=1e-06, time_each_step=1.03s, eta=0:14:27\n",
      "2022-05-03 12:59:51 [INFO]\t[TRAIN] Epoch=244/270, Step=11/35, loss=7.123242, lr=1e-06, time_each_step=1.05s, eta=0:14:26\n",
      "2022-05-03 12:59:52 [INFO]\t[TRAIN] Epoch=244/270, Step=13/35, loss=3.682129, lr=1e-06, time_each_step=1.06s, eta=0:14:24\n",
      "2022-05-03 12:59:54 [INFO]\t[TRAIN] Epoch=244/270, Step=15/35, loss=5.703428, lr=1e-06, time_each_step=1.06s, eta=0:14:22\n",
      "2022-05-03 12:59:55 [INFO]\t[TRAIN] Epoch=244/270, Step=17/35, loss=5.779808, lr=1e-06, time_each_step=1.05s, eta=0:14:19\n",
      "2022-05-03 12:59:57 [INFO]\t[TRAIN] Epoch=244/270, Step=19/35, loss=6.194045, lr=1e-06, time_each_step=1.08s, eta=0:14:18\n",
      "2022-05-03 12:59:59 [INFO]\t[TRAIN] Epoch=244/270, Step=21/35, loss=4.551079, lr=1e-06, time_each_step=0.81s, eta=0:14:12\n",
      "2022-05-03 13:00:00 [INFO]\t[TRAIN] Epoch=244/270, Step=23/35, loss=5.360738, lr=1e-06, time_each_step=0.79s, eta=0:14:10\n",
      "2022-05-03 13:00:03 [INFO]\t[TRAIN] Epoch=244/270, Step=25/35, loss=6.166811, lr=1e-06, time_each_step=0.84s, eta=0:14:9\n"
     ]
    },
    {
     "name": "stderr",
     "output_type": "stream",
     "text": [
      "libpng warning: iCCP: known incorrect sRGB profile\n"
     ]
    },
    {
     "name": "stdout",
     "output_type": "stream",
     "text": [
      "2022-05-03 13:00:05 [INFO]\t[TRAIN] Epoch=244/270, Step=27/35, loss=6.273773, lr=1e-06, time_each_step=0.87s, eta=0:14:7\n",
      "2022-05-03 13:00:06 [INFO]\t[TRAIN] Epoch=244/270, Step=29/35, loss=6.296788, lr=1e-06, time_each_step=0.85s, eta=0:14:6\n",
      "2022-05-03 13:00:07 [INFO]\t[TRAIN] Epoch=244/270, Step=31/35, loss=5.071424, lr=1e-06, time_each_step=0.82s, eta=0:14:4\n",
      "2022-05-03 13:00:08 [INFO]\t[TRAIN] Epoch=244/270, Step=33/35, loss=6.016561, lr=1e-06, time_each_step=0.8s, eta=0:14:2\n",
      "2022-05-03 13:00:09 [INFO]\t[TRAIN] Epoch=244/270, Step=35/35, loss=5.00055, lr=1e-06, time_each_step=0.77s, eta=0:14:0\n",
      "2022-05-03 13:00:09 [INFO]\t[TRAIN] Epoch 244 finished, loss=6.221608, lr=1e-06 .\n",
      "2022-05-03 13:00:16 [INFO]\t[TRAIN] Epoch=245/270, Step=2/35, loss=5.791241, lr=1e-06, time_each_step=1.06s, eta=0:14:28\n"
     ]
    },
    {
     "name": "stderr",
     "output_type": "stream",
     "text": [
      "libpng warning: iCCP: known incorrect sRGB profile\n"
     ]
    },
    {
     "name": "stdout",
     "output_type": "stream",
     "text": [
      "2022-05-03 13:00:18 [INFO]\t[TRAIN] Epoch=245/270, Step=4/35, loss=6.360617, lr=1e-06, time_each_step=1.06s, eta=0:14:25\n",
      "2022-05-03 13:00:19 [INFO]\t[TRAIN] Epoch=245/270, Step=6/35, loss=7.15103, lr=1e-06, time_each_step=1.02s, eta=0:14:22\n",
      "2022-05-03 13:00:21 [INFO]\t[TRAIN] Epoch=245/270, Step=8/35, loss=7.324406, lr=1e-06, time_each_step=1.01s, eta=0:14:20\n",
      "2022-05-03 13:00:22 [INFO]\t[TRAIN] Epoch=245/270, Step=10/35, loss=4.42271, lr=1e-06, time_each_step=0.96s, eta=0:14:17\n",
      "2022-05-03 13:00:24 [INFO]\t[TRAIN] Epoch=245/270, Step=12/35, loss=8.808209, lr=1e-06, time_each_step=0.95s, eta=0:14:14\n",
      "2022-05-03 13:00:25 [INFO]\t[TRAIN] Epoch=245/270, Step=14/35, loss=8.724442, lr=1e-06, time_each_step=0.93s, eta=0:14:12\n",
      "2022-05-03 13:00:27 [INFO]\t[TRAIN] Epoch=245/270, Step=16/35, loss=5.582328, lr=1e-06, time_each_step=0.98s, eta=0:14:11\n",
      "2022-05-03 13:00:28 [INFO]\t[TRAIN] Epoch=245/270, Step=18/35, loss=7.361921, lr=1e-06, time_each_step=0.98s, eta=0:14:9\n",
      "2022-05-03 13:00:30 [INFO]\t[TRAIN] Epoch=245/270, Step=20/35, loss=6.930323, lr=1e-06, time_each_step=1.04s, eta=0:14:8\n",
      "2022-05-03 13:00:31 [INFO]\t[TRAIN] Epoch=245/270, Step=22/35, loss=5.302542, lr=1e-06, time_each_step=0.75s, eta=0:14:2\n"
     ]
    },
    {
     "name": "stderr",
     "output_type": "stream",
     "text": [
      "libpng warning: iCCP: known incorrect sRGB profile\n"
     ]
    },
    {
     "name": "stdout",
     "output_type": "stream",
     "text": [
      "2022-05-03 13:00:33 [INFO]\t[TRAIN] Epoch=245/270, Step=24/35, loss=4.491367, lr=1e-06, time_each_step=0.77s, eta=0:14:1\n",
      "2022-05-03 13:00:35 [INFO]\t[TRAIN] Epoch=245/270, Step=26/35, loss=6.248436, lr=1e-06, time_each_step=0.78s, eta=0:14:0\n",
      "2022-05-03 13:00:36 [INFO]\t[TRAIN] Epoch=245/270, Step=28/35, loss=3.4032, lr=1e-06, time_each_step=0.78s, eta=0:13:58\n",
      "2022-05-03 13:00:38 [INFO]\t[TRAIN] Epoch=245/270, Step=30/35, loss=7.471128, lr=1e-06, time_each_step=0.77s, eta=0:13:56\n",
      "2022-05-03 13:00:38 [INFO]\t[TRAIN] Epoch=245/270, Step=32/35, loss=8.018993, lr=1e-06, time_each_step=0.73s, eta=0:13:55\n",
      "2022-05-03 13:00:39 [INFO]\t[TRAIN] Epoch=245/270, Step=34/35, loss=11.084391, lr=1e-06, time_each_step=0.73s, eta=0:13:53\n",
      "2022-05-03 13:00:40 [INFO]\t[TRAIN] Epoch 245 finished, loss=6.514408, lr=1e-06 .\n",
      "2022-05-03 13:00:46 [INFO]\t[TRAIN] Epoch=246/270, Step=1/35, loss=5.938221, lr=1e-06, time_each_step=0.96s, eta=0:13:10\n",
      "2022-05-03 13:00:48 [INFO]\t[TRAIN] Epoch=246/270, Step=3/35, loss=5.995063, lr=1e-06, time_each_step=0.98s, eta=0:13:9\n"
     ]
    },
    {
     "name": "stderr",
     "output_type": "stream",
     "text": [
      "libpng warning: iCCP: known incorrect sRGB profile\n"
     ]
    },
    {
     "name": "stdout",
     "output_type": "stream",
     "text": [
      "2022-05-03 13:00:50 [INFO]\t[TRAIN] Epoch=246/270, Step=5/35, loss=7.602435, lr=1e-06, time_each_step=0.98s, eta=0:13:7\n",
      "2022-05-03 13:00:51 [INFO]\t[TRAIN] Epoch=246/270, Step=7/35, loss=7.85029, lr=1e-06, time_each_step=0.98s, eta=0:13:5\n",
      "2022-05-03 13:00:54 [INFO]\t[TRAIN] Epoch=246/270, Step=9/35, loss=4.719047, lr=1e-06, time_each_step=1.0s, eta=0:13:4\n",
      "2022-05-03 13:00:55 [INFO]\t[TRAIN] Epoch=246/270, Step=11/35, loss=7.391963, lr=1e-06, time_each_step=1.01s, eta=0:13:2\n",
      "2022-05-03 13:00:57 [INFO]\t[TRAIN] Epoch=246/270, Step=13/35, loss=7.114552, lr=1e-06, time_each_step=1.01s, eta=0:13:0\n",
      "2022-05-03 13:00:58 [INFO]\t[TRAIN] Epoch=246/270, Step=15/35, loss=4.56272, lr=1e-06, time_each_step=1.01s, eta=0:12:58\n",
      "2022-05-03 13:00:59 [INFO]\t[TRAIN] Epoch=246/270, Step=17/35, loss=7.379329, lr=1e-06, time_each_step=1.05s, eta=0:12:56\n",
      "2022-05-03 13:01:01 [INFO]\t[TRAIN] Epoch=246/270, Step=19/35, loss=5.674899, lr=1e-06, time_each_step=1.07s, eta=0:12:55\n",
      "2022-05-03 13:01:02 [INFO]\t[TRAIN] Epoch=246/270, Step=21/35, loss=5.374098, lr=1e-06, time_each_step=0.8s, eta=0:12:49\n",
      "2022-05-03 13:01:03 [INFO]\t[TRAIN] Epoch=246/270, Step=23/35, loss=7.509817, lr=1e-06, time_each_step=0.77s, eta=0:12:47\n",
      "2022-05-03 13:01:05 [INFO]\t[TRAIN] Epoch=246/270, Step=25/35, loss=7.585879, lr=1e-06, time_each_step=0.77s, eta=0:12:45\n",
      "2022-05-03 13:01:06 [INFO]\t[TRAIN] Epoch=246/270, Step=27/35, loss=5.475406, lr=1e-06, time_each_step=0.75s, eta=0:12:44\n",
      "2022-05-03 13:01:07 [INFO]\t[TRAIN] Epoch=246/270, Step=29/35, loss=10.936235, lr=1e-06, time_each_step=0.69s, eta=0:12:42\n",
      "2022-05-03 13:01:09 [INFO]\t[TRAIN] Epoch=246/270, Step=31/35, loss=6.627688, lr=1e-06, time_each_step=0.69s, eta=0:12:40\n",
      "2022-05-03 13:01:10 [INFO]\t[TRAIN] Epoch=246/270, Step=33/35, loss=3.969936, lr=1e-06, time_each_step=0.68s, eta=0:12:39\n"
     ]
    },
    {
     "name": "stderr",
     "output_type": "stream",
     "text": [
      "libpng warning: iCCP: known incorrect sRGB profile\n"
     ]
    },
    {
     "name": "stdout",
     "output_type": "stream",
     "text": [
      "2022-05-03 13:01:12 [INFO]\t[TRAIN] Epoch=246/270, Step=35/35, loss=7.526417, lr=1e-06, time_each_step=0.68s, eta=0:12:38\n",
      "2022-05-03 13:01:12 [INFO]\t[TRAIN] Epoch 246 finished, loss=6.771534, lr=1e-06 .\n",
      "2022-05-03 13:01:21 [INFO]\t[TRAIN] Epoch=247/270, Step=2/35, loss=3.785012, lr=1e-06, time_each_step=1.07s, eta=0:13:7\n",
      "2022-05-03 13:01:23 [INFO]\t[TRAIN] Epoch=247/270, Step=4/35, loss=6.17196, lr=1e-06, time_each_step=1.06s, eta=0:13:5"
     ]
    },
    {
     "name": "stderr",
     "output_type": "stream",
     "text": [
      "libpng warning: iCCP: known incorrect sRGB profile\n"
     ]
    },
    {
     "name": "stdout",
     "output_type": "stream",
     "text": [
      "\n",
      "2022-05-03 13:01:25 [INFO]\t[TRAIN] Epoch=247/270, Step=6/35, loss=7.98057, lr=1e-06, time_each_step=1.08s, eta=0:13:3\n",
      "2022-05-03 13:01:26 [INFO]\t[TRAIN] Epoch=247/270, Step=8/35, loss=4.966368, lr=1e-06, time_each_step=1.1s, eta=0:13:1\n",
      "2022-05-03 13:01:28 [INFO]\t[TRAIN] Epoch=247/270, Step=10/35, loss=3.843485, lr=1e-06, time_each_step=1.1s, eta=0:12:59\n",
      "2022-05-03 13:01:29 [INFO]\t[TRAIN] Epoch=247/270, Step=12/35, loss=6.917818, lr=1e-06, time_each_step=1.1s, eta=0:12:57\n",
      "2022-05-03 13:01:30 [INFO]\t[TRAIN] Epoch=247/270, Step=14/35, loss=4.615345, lr=1e-06, time_each_step=1.12s, eta=0:12:55\n",
      "2022-05-03 13:01:32 [INFO]\t[TRAIN] Epoch=247/270, Step=16/35, loss=4.388402, lr=1e-06, time_each_step=1.11s, eta=0:12:53\n",
      "2022-05-03 13:01:34 [INFO]\t[TRAIN] Epoch=247/270, Step=18/35, loss=7.190892, lr=1e-06, time_each_step=1.14s, eta=0:12:51\n",
      "2022-05-03 13:01:35 [INFO]\t[TRAIN] Epoch=247/270, Step=20/35, loss=9.041155, lr=1e-06, time_each_step=1.13s, eta=0:12:49\n",
      "2022-05-03 13:01:36 [INFO]\t[TRAIN] Epoch=247/270, Step=22/35, loss=7.100958, lr=1e-06, time_each_step=0.76s, eta=0:12:41\n"
     ]
    },
    {
     "name": "stderr",
     "output_type": "stream",
     "text": [
      "libpng warning: iCCP: known incorrect sRGB profile\n"
     ]
    },
    {
     "name": "stdout",
     "output_type": "stream",
     "text": [
      "2022-05-03 13:01:38 [INFO]\t[TRAIN] Epoch=247/270, Step=24/35, loss=7.649113, lr=1e-06, time_each_step=0.78s, eta=0:12:40\n",
      "2022-05-03 13:01:40 [INFO]\t[TRAIN] Epoch=247/270, Step=26/35, loss=4.721996, lr=1e-06, time_each_step=0.76s, eta=0:12:38\n",
      "2022-05-03 13:01:41 [INFO]\t[TRAIN] Epoch=247/270, Step=28/35, loss=9.56036, lr=1e-06, time_each_step=0.74s, eta=0:12:37\n",
      "2022-05-03 13:01:42 [INFO]\t[TRAIN] Epoch=247/270, Step=30/35, loss=8.940763, lr=1e-06, time_each_step=0.73s, eta=0:12:35\n",
      "2022-05-03 13:01:43 [INFO]\t[TRAIN] Epoch=247/270, Step=32/35, loss=7.209259, lr=1e-06, time_each_step=0.68s, eta=0:12:34\n",
      "2022-05-03 13:01:43 [INFO]\t[TRAIN] Epoch=247/270, Step=34/35, loss=5.061758, lr=1e-06, time_each_step=0.65s, eta=0:12:32\n",
      "2022-05-03 13:01:44 [INFO]\t[TRAIN] Epoch 247 finished, loss=6.491171, lr=1e-06 .\n",
      "2022-05-03 13:01:49 [INFO]\t[TRAIN] Epoch=248/270, Step=1/35, loss=6.346076, lr=1e-06, time_each_step=0.87s, eta=0:12:14\n",
      "2022-05-03 13:01:51 [INFO]\t[TRAIN] Epoch=248/270, Step=3/35, loss=7.907088, lr=1e-06, time_each_step=0.87s, eta=0:12:12\n"
     ]
    },
    {
     "name": "stderr",
     "output_type": "stream",
     "text": [
      "libpng warning: iCCP: known incorrect sRGB profile\n"
     ]
    },
    {
     "name": "stdout",
     "output_type": "stream",
     "text": [
      "2022-05-03 13:01:53 [INFO]\t[TRAIN] Epoch=248/270, Step=5/35, loss=8.341386, lr=1e-06, time_each_step=0.89s, eta=0:12:11\n",
      "2022-05-03 13:01:54 [INFO]\t[TRAIN] Epoch=248/270, Step=7/35, loss=5.152059, lr=1e-06, time_each_step=0.88s, eta=0:12:8\n",
      "2022-05-03 13:01:56 [INFO]\t[TRAIN] Epoch=248/270, Step=9/35, loss=7.128687, lr=1e-06, time_each_step=0.86s, eta=0:12:6\n",
      "2022-05-03 13:01:57 [INFO]\t[TRAIN] Epoch=248/270, Step=11/35, loss=6.169427, lr=1e-06, time_each_step=0.87s, eta=0:12:5\n",
      "2022-05-03 13:01:59 [INFO]\t[TRAIN] Epoch=248/270, Step=13/35, loss=7.172757, lr=1e-06, time_each_step=0.88s, eta=0:12:3\n",
      "2022-05-03 13:02:00 [INFO]\t[TRAIN] Epoch=248/270, Step=15/35, loss=4.14031, lr=1e-06, time_each_step=0.87s, eta=0:12:1\n",
      "2022-05-03 13:02:01 [INFO]\t[TRAIN] Epoch=248/270, Step=17/35, loss=6.829495, lr=1e-06, time_each_step=0.93s, eta=0:12:1\n",
      "2022-05-03 13:02:03 [INFO]\t[TRAIN] Epoch=248/270, Step=19/35, loss=5.163446, lr=1e-06, time_each_step=0.97s, eta=0:11:59\n"
     ]
    },
    {
     "name": "stderr",
     "output_type": "stream",
     "text": [
      "libpng warning: iCCP: known incorrect sRGB profile\n"
     ]
    },
    {
     "name": "stdout",
     "output_type": "stream",
     "text": [
      "2022-05-03 13:02:04 [INFO]\t[TRAIN] Epoch=248/270, Step=21/35, loss=4.137115, lr=1e-06, time_each_step=0.75s, eta=0:11:54\n",
      "2022-05-03 13:02:06 [INFO]\t[TRAIN] Epoch=248/270, Step=23/35, loss=6.264618, lr=1e-06, time_each_step=0.74s, eta=0:11:53\n",
      "2022-05-03 13:02:07 [INFO]\t[TRAIN] Epoch=248/270, Step=25/35, loss=7.205889, lr=1e-06, time_each_step=0.74s, eta=0:11:51\n",
      "2022-05-03 13:02:08 [INFO]\t[TRAIN] Epoch=248/270, Step=27/35, loss=5.415141, lr=1e-06, time_each_step=0.72s, eta=0:11:50\n",
      "2022-05-03 13:02:10 [INFO]\t[TRAIN] Epoch=248/270, Step=29/35, loss=7.155929, lr=1e-06, time_each_step=0.71s, eta=0:11:48\n",
      "2022-05-03 13:02:11 [INFO]\t[TRAIN] Epoch=248/270, Step=31/35, loss=7.59519, lr=1e-06, time_each_step=0.68s, eta=0:11:47\n",
      "2022-05-03 13:02:12 [INFO]\t[TRAIN] Epoch=248/270, Step=33/35, loss=5.677144, lr=1e-06, time_each_step=0.66s, eta=0:11:45\n",
      "2022-05-03 13:02:13 [INFO]\t[TRAIN] Epoch=248/270, Step=35/35, loss=6.163648, lr=1e-06, time_each_step=0.65s, eta=0:11:44\n",
      "2022-05-03 13:02:13 [INFO]\t[TRAIN] Epoch 248 finished, loss=6.435346, lr=1e-06 .\n",
      "2022-05-03 13:02:21 [INFO]\t[TRAIN] Epoch=249/270, Step=2/35, loss=4.016246, lr=1e-06, time_each_step=0.96s, eta=0:11:1\n",
      "2022-05-03 13:02:22 [INFO]\t[TRAIN] Epoch=249/270, Step=4/35, loss=6.953202, lr=1e-06, time_each_step=0.98s, eta=0:11:0\n"
     ]
    },
    {
     "name": "stderr",
     "output_type": "stream",
     "text": [
      "libpng warning: iCCP: known incorrect sRGB profile\n"
     ]
    },
    {
     "name": "stdout",
     "output_type": "stream",
     "text": [
      "2022-05-03 13:02:24 [INFO]\t[TRAIN] Epoch=249/270, Step=6/35, loss=5.667145, lr=1e-06, time_each_step=0.97s, eta=0:10:58\n",
      "2022-05-03 13:02:26 [INFO]\t[TRAIN] Epoch=249/270, Step=8/35, loss=7.764061, lr=1e-06, time_each_step=1.0s, eta=0:10:57\n",
      "2022-05-03 13:02:28 [INFO]\t[TRAIN] Epoch=249/270, Step=10/35, loss=7.355664, lr=1e-06, time_each_step=1.0s, eta=0:10:55\n",
      "2022-05-03 13:02:29 [INFO]\t[TRAIN] Epoch=249/270, Step=12/35, loss=6.420396, lr=1e-06, time_each_step=1.01s, eta=0:10:53\n",
      "2022-05-03 13:02:30 [INFO]\t[TRAIN] Epoch=249/270, Step=14/35, loss=5.48961, lr=1e-06, time_each_step=1.0s, eta=0:10:51\n",
      "2022-05-03 13:02:31 [INFO]\t[TRAIN] Epoch=249/270, Step=16/35, loss=8.45297, lr=1e-06, time_each_step=1.01s, eta=0:10:49\n",
      "2022-05-03 13:02:33 [INFO]\t[TRAIN] Epoch=249/270, Step=18/35, loss=4.571595, lr=1e-06, time_each_step=1.03s, eta=0:10:47\n",
      "2022-05-03 13:02:34 [INFO]\t[TRAIN] Epoch=249/270, Step=20/35, loss=5.66129, lr=1e-06, time_each_step=1.07s, eta=0:10:46\n",
      "2022-05-03 13:02:36 [INFO]\t[TRAIN] Epoch=249/270, Step=22/35, loss=3.784545, lr=1e-06, time_each_step=0.75s, eta=0:10:39\n",
      "2022-05-03 13:02:37 [INFO]\t[TRAIN] Epoch=249/270, Step=24/35, loss=5.712884, lr=1e-06, time_each_step=0.73s, eta=0:10:38\n"
     ]
    },
    {
     "name": "stderr",
     "output_type": "stream",
     "text": [
      "libpng warning: iCCP: known incorrect sRGB profile\n"
     ]
    },
    {
     "name": "stdout",
     "output_type": "stream",
     "text": [
      "2022-05-03 13:02:39 [INFO]\t[TRAIN] Epoch=249/270, Step=26/35, loss=6.325877, lr=1e-06, time_each_step=0.74s, eta=0:10:36\n",
      "2022-05-03 13:02:40 [INFO]\t[TRAIN] Epoch=249/270, Step=28/35, loss=8.311557, lr=1e-06, time_each_step=0.69s, eta=0:10:35\n",
      "2022-05-03 13:02:42 [INFO]\t[TRAIN] Epoch=249/270, Step=30/35, loss=6.648527, lr=1e-06, time_each_step=0.7s, eta=0:10:33\n",
      "2022-05-03 13:02:43 [INFO]\t[TRAIN] Epoch=249/270, Step=32/35, loss=5.741369, lr=1e-06, time_each_step=0.72s, eta=0:10:32\n",
      "2022-05-03 13:02:45 [INFO]\t[TRAIN] Epoch=249/270, Step=34/35, loss=5.148315, lr=1e-06, time_each_step=0.76s, eta=0:10:30\n",
      "2022-05-03 13:02:46 [INFO]\t[TRAIN] Epoch 249 finished, loss=6.471006, lr=1e-06 .\n",
      "2022-05-03 13:02:54 [INFO]\t[TRAIN] Epoch=250/270, Step=1/35, loss=5.467628, lr=1e-06, time_each_step=1.13s, eta=0:11:52\n",
      "2022-05-03 13:02:56 [INFO]\t[TRAIN] Epoch=250/270, Step=3/35, loss=8.805964, lr=1e-06, time_each_step=1.13s, eta=0:11:49\n",
      "2022-05-03 13:02:57 [INFO]\t[TRAIN] Epoch=250/270, Step=5/35, loss=7.041638, lr=1e-06, time_each_step=1.13s, eta=0:11:47\n",
      "2022-05-03 13:02:58 [INFO]\t[TRAIN] Epoch=250/270, Step=7/35, loss=3.70809, lr=1e-06, time_each_step=1.11s, eta=0:11:44\n",
      "2022-05-03 13:03:00 [INFO]\t[TRAIN] Epoch=250/270, Step=9/35, loss=4.645678, lr=1e-06, time_each_step=1.12s, eta=0:11:42\n"
     ]
    },
    {
     "name": "stderr",
     "output_type": "stream",
     "text": [
      "libpng warning: iCCP: known incorrect sRGB profile\n"
     ]
    },
    {
     "name": "stdout",
     "output_type": "stream",
     "text": [
      "2022-05-03 13:03:01 [INFO]\t[TRAIN] Epoch=250/270, Step=11/35, loss=6.441988, lr=1e-06, time_each_step=1.1s, eta=0:11:40\n",
      "2022-05-03 13:03:02 [INFO]\t[TRAIN] Epoch=250/270, Step=13/35, loss=7.363487, lr=1e-06, time_each_step=1.11s, eta=0:11:38\n",
      "2022-05-03 13:03:04 [INFO]\t[TRAIN] Epoch=250/270, Step=15/35, loss=5.862871, lr=1e-06, time_each_step=1.08s, eta=0:11:35\n",
      "2022-05-03 13:03:05 [INFO]\t[TRAIN] Epoch=250/270, Step=17/35, loss=4.780188, lr=1e-06, time_each_step=1.07s, eta=0:11:32\n",
      "2022-05-03 13:03:06 [INFO]\t[TRAIN] Epoch=250/270, Step=19/35, loss=4.698888, lr=1e-06, time_each_step=1.05s, eta=0:11:30\n",
      "2022-05-03 13:03:08 [INFO]\t[TRAIN] Epoch=250/270, Step=21/35, loss=5.012104, lr=1e-06, time_each_step=0.69s, eta=0:11:23\n",
      "2022-05-03 13:03:09 [INFO]\t[TRAIN] Epoch=250/270, Step=23/35, loss=9.72433, lr=1e-06, time_each_step=0.68s, eta=0:11:21\n"
     ]
    },
    {
     "name": "stderr",
     "output_type": "stream",
     "text": [
      "libpng warning: iCCP: known incorrect sRGB profile\n"
     ]
    },
    {
     "name": "stdout",
     "output_type": "stream",
     "text": [
      "2022-05-03 13:03:11 [INFO]\t[TRAIN] Epoch=250/270, Step=25/35, loss=5.271477, lr=1e-06, time_each_step=0.68s, eta=0:11:20\n",
      "2022-05-03 13:03:12 [INFO]\t[TRAIN] Epoch=250/270, Step=27/35, loss=5.744868, lr=1e-06, time_each_step=0.71s, eta=0:11:19\n",
      "2022-05-03 13:03:14 [INFO]\t[TRAIN] Epoch=250/270, Step=29/35, loss=11.12138, lr=1e-06, time_each_step=0.7s, eta=0:11:17\n",
      "2022-05-03 13:03:15 [INFO]\t[TRAIN] Epoch=250/270, Step=31/35, loss=6.557785, lr=1e-06, time_each_step=0.69s, eta=0:11:16\n",
      "2022-05-03 13:03:16 [INFO]\t[TRAIN] Epoch=250/270, Step=33/35, loss=5.178363, lr=1e-06, time_each_step=0.66s, eta=0:11:15\n",
      "2022-05-03 13:03:17 [INFO]\t[TRAIN] Epoch=250/270, Step=35/35, loss=7.159218, lr=1e-06, time_each_step=0.68s, eta=0:11:13\n",
      "2022-05-03 13:03:17 [INFO]\t[TRAIN] Epoch 250 finished, loss=6.504746, lr=1e-06 .\n",
      "2022-05-03 13:03:25 [INFO]\t[TRAIN] Epoch=251/270, Step=2/35, loss=4.532321, lr=1e-06, time_each_step=0.99s, eta=0:10:43\n",
      "2022-05-03 13:03:26 [INFO]\t[TRAIN] Epoch=251/270, Step=4/35, loss=6.882316, lr=1e-06, time_each_step=0.99s, eta=0:10:41\n"
     ]
    },
    {
     "name": "stderr",
     "output_type": "stream",
     "text": [
      "libpng warning: iCCP: known incorrect sRGB profile\n"
     ]
    },
    {
     "name": "stdout",
     "output_type": "stream",
     "text": [
      "2022-05-03 13:03:28 [INFO]\t[TRAIN] Epoch=251/270, Step=6/35, loss=6.982868, lr=1e-06, time_each_step=1.02s, eta=0:10:40\n",
      "2022-05-03 13:03:30 [INFO]\t[TRAIN] Epoch=251/270, Step=8/35, loss=5.768658, lr=1e-06, time_each_step=1.02s, eta=0:10:38\n",
      "2022-05-03 13:03:32 [INFO]\t[TRAIN] Epoch=251/270, Step=10/35, loss=5.197091, lr=1e-06, time_each_step=1.05s, eta=0:10:36\n",
      "2022-05-03 13:03:33 [INFO]\t[TRAIN] Epoch=251/270, Step=12/35, loss=5.016614, lr=1e-06, time_each_step=1.03s, eta=0:10:34\n",
      "2022-05-03 13:03:34 [INFO]\t[TRAIN] Epoch=251/270, Step=14/35, loss=3.686708, lr=1e-06, time_each_step=1.03s, eta=0:10:32\n",
      "2022-05-03 13:03:36 [INFO]\t[TRAIN] Epoch=251/270, Step=16/35, loss=6.639859, lr=1e-06, time_each_step=1.05s, eta=0:10:30\n"
     ]
    },
    {
     "name": "stderr",
     "output_type": "stream",
     "text": [
      "libpng warning: iCCP: known incorrect sRGB profile\n"
     ]
    },
    {
     "name": "stdout",
     "output_type": "stream",
     "text": [
      "2022-05-03 13:03:38 [INFO]\t[TRAIN] Epoch=251/270, Step=18/35, loss=4.999043, lr=1e-06, time_each_step=1.11s, eta=0:10:29\n",
      "2022-05-03 13:03:39 [INFO]\t[TRAIN] Epoch=251/270, Step=20/35, loss=9.49226, lr=1e-06, time_each_step=1.1s, eta=0:10:27\n",
      "2022-05-03 13:03:41 [INFO]\t[TRAIN] Epoch=251/270, Step=22/35, loss=3.473055, lr=1e-06, time_each_step=0.81s, eta=0:10:21\n",
      "2022-05-03 13:03:43 [INFO]\t[TRAIN] Epoch=251/270, Step=24/35, loss=9.22463, lr=1e-06, time_each_step=0.81s, eta=0:10:19\n",
      "2022-05-03 13:03:44 [INFO]\t[TRAIN] Epoch=251/270, Step=26/35, loss=6.013729, lr=1e-06, time_each_step=0.79s, eta=0:10:17\n",
      "2022-05-03 13:03:45 [INFO]\t[TRAIN] Epoch=251/270, Step=28/35, loss=6.164128, lr=1e-06, time_each_step=0.76s, eta=0:10:16\n",
      "2022-05-03 13:03:46 [INFO]\t[TRAIN] Epoch=251/270, Step=30/35, loss=7.750476, lr=1e-06, time_each_step=0.72s, eta=0:10:14\n",
      "2022-05-03 13:03:47 [INFO]\t[TRAIN] Epoch=251/270, Step=32/35, loss=4.982416, lr=1e-06, time_each_step=0.69s, eta=0:10:12\n",
      "2022-05-03 13:03:47 [INFO]\t[TRAIN] Epoch=251/270, Step=34/35, loss=4.562073, lr=1e-06, time_each_step=0.66s, eta=0:10:11\n",
      "2022-05-03 13:03:48 [INFO]\t[TRAIN] Epoch 251 finished, loss=6.443521, lr=1e-06 .\n",
      "2022-05-03 13:03:56 [INFO]\t[TRAIN] Epoch=252/270, Step=1/35, loss=3.284436, lr=1e-06, time_each_step=0.97s, eta=0:10:4\n",
      "2022-05-03 13:03:57 [INFO]\t[TRAIN] Epoch=252/270, Step=3/35, loss=6.31436, lr=1e-06, time_each_step=0.97s, eta=0:10:2\n"
     ]
    },
    {
     "name": "stderr",
     "output_type": "stream",
     "text": [
      "libpng warning: iCCP: known incorrect sRGB profile\n"
     ]
    },
    {
     "name": "stdout",
     "output_type": "stream",
     "text": [
      "2022-05-03 13:03:59 [INFO]\t[TRAIN] Epoch=252/270, Step=5/35, loss=9.200804, lr=1e-06, time_each_step=0.98s, eta=0:10:1\n",
      "2022-05-03 13:04:01 [INFO]\t[TRAIN] Epoch=252/270, Step=7/35, loss=6.486856, lr=1e-06, time_each_step=1.01s, eta=0:9:59\n",
      "2022-05-03 13:04:03 [INFO]\t[TRAIN] Epoch=252/270, Step=9/35, loss=5.485741, lr=1e-06, time_each_step=1.02s, eta=0:9:58\n",
      "2022-05-03 13:04:05 [INFO]\t[TRAIN] Epoch=252/270, Step=11/35, loss=5.717166, lr=1e-06, time_each_step=1.03s, eta=0:9:56\n",
      "2022-05-03 13:04:07 [INFO]\t[TRAIN] Epoch=252/270, Step=13/35, loss=8.179475, lr=1e-06, time_each_step=1.07s, eta=0:9:55\n",
      "2022-05-03 13:04:08 [INFO]\t[TRAIN] Epoch=252/270, Step=15/35, loss=5.686498, lr=1e-06, time_each_step=1.09s, eta=0:9:53\n",
      "2022-05-03 13:04:10 [INFO]\t[TRAIN] Epoch=252/270, Step=17/35, loss=5.026281, lr=1e-06, time_each_step=1.13s, eta=0:9:52\n",
      "2022-05-03 13:04:11 [INFO]\t[TRAIN] Epoch=252/270, Step=19/35, loss=5.411196, lr=1e-06, time_each_step=1.16s, eta=0:9:50\n"
     ]
    },
    {
     "name": "stderr",
     "output_type": "stream",
     "text": [
      "libpng warning: iCCP: known incorrect sRGB profile\n"
     ]
    },
    {
     "name": "stdout",
     "output_type": "stream",
     "text": [
      "2022-05-03 13:04:13 [INFO]\t[TRAIN] Epoch=252/270, Step=21/35, loss=6.170283, lr=1e-06, time_each_step=0.86s, eta=0:9:43\n",
      "2022-05-03 13:04:15 [INFO]\t[TRAIN] Epoch=252/270, Step=23/35, loss=8.009738, lr=1e-06, time_each_step=0.87s, eta=0:9:42\n",
      "2022-05-03 13:04:17 [INFO]\t[TRAIN] Epoch=252/270, Step=25/35, loss=8.545381, lr=1e-06, time_each_step=0.88s, eta=0:9:40\n",
      "2022-05-03 13:04:18 [INFO]\t[TRAIN] Epoch=252/270, Step=27/35, loss=9.379826, lr=1e-06, time_each_step=0.85s, eta=0:9:38\n",
      "2022-05-03 13:04:20 [INFO]\t[TRAIN] Epoch=252/270, Step=29/35, loss=9.368684, lr=1e-06, time_each_step=0.83s, eta=0:9:36\n",
      "2022-05-03 13:04:21 [INFO]\t[TRAIN] Epoch=252/270, Step=31/35, loss=4.803107, lr=1e-06, time_each_step=0.83s, eta=0:9:35\n",
      "2022-05-03 13:04:22 [INFO]\t[TRAIN] Epoch=252/270, Step=33/35, loss=3.557556, lr=1e-06, time_each_step=0.78s, eta=0:9:33\n",
      "2022-05-03 13:04:23 [INFO]\t[TRAIN] Epoch=252/270, Step=35/35, loss=5.021295, lr=1e-06, time_each_step=0.73s, eta=0:9:31\n",
      "2022-05-03 13:04:23 [INFO]\t[TRAIN] Epoch 252 finished, loss=6.266877, lr=1e-06 .\n",
      "2022-05-03 13:04:32 [INFO]\t[TRAIN] Epoch=253/270, Step=2/35, loss=4.997599, lr=1e-06, time_each_step=1.11s, eta=0:10:35\n",
      "2022-05-03 13:04:34 [INFO]\t[TRAIN] Epoch=253/270, Step=4/35, loss=6.623876, lr=1e-06, time_each_step=1.14s, eta=0:10:33\n"
     ]
    },
    {
     "name": "stderr",
     "output_type": "stream",
     "text": [
      "libpng warning: iCCP: known incorrect sRGB profile\n"
     ]
    },
    {
     "name": "stdout",
     "output_type": "stream",
     "text": [
      "2022-05-03 13:04:35 [INFO]\t[TRAIN] Epoch=253/270, Step=6/35, loss=6.660741, lr=1e-06, time_each_step=1.11s, eta=0:10:30\n",
      "2022-05-03 13:04:37 [INFO]\t[TRAIN] Epoch=253/270, Step=8/35, loss=6.194097, lr=1e-06, time_each_step=1.09s, eta=0:10:28\n",
      "2022-05-03 13:04:38 [INFO]\t[TRAIN] Epoch=253/270, Step=10/35, loss=4.19687, lr=1e-06, time_each_step=1.05s, eta=0:10:24\n",
      "2022-05-03 13:04:39 [INFO]\t[TRAIN] Epoch=253/270, Step=12/35, loss=10.234728, lr=1e-06, time_each_step=1.02s, eta=0:10:22\n",
      "2022-05-03 13:04:40 [INFO]\t[TRAIN] Epoch=253/270, Step=14/35, loss=5.611033, lr=1e-06, time_each_step=1.0s, eta=0:10:19\n",
      "2022-05-03 13:04:41 [INFO]\t[TRAIN] Epoch=253/270, Step=16/35, loss=4.926823, lr=1e-06, time_each_step=0.98s, eta=0:10:17\n",
      "2022-05-03 13:04:43 [INFO]\t[TRAIN] Epoch=253/270, Step=18/35, loss=8.14153, lr=1e-06, time_each_step=1.03s, eta=0:10:16\n",
      "2022-05-03 13:04:44 [INFO]\t[TRAIN] Epoch=253/270, Step=20/35, loss=6.975636, lr=1e-06, time_each_step=1.07s, eta=0:10:14\n",
      "2022-05-03 13:04:46 [INFO]\t[TRAIN] Epoch=253/270, Step=22/35, loss=4.171645, lr=1e-06, time_each_step=0.69s, eta=0:10:7\n",
      "2022-05-03 13:04:47 [INFO]\t[TRAIN] Epoch=253/270, Step=24/35, loss=5.968137, lr=1e-06, time_each_step=0.67s, eta=0:10:5\n",
      "2022-05-03 13:04:49 [INFO]\t[TRAIN] Epoch=253/270, Step=26/35, loss=6.920177, lr=1e-06, time_each_step=0.67s, eta=0:10:4\n"
     ]
    },
    {
     "name": "stderr",
     "output_type": "stream",
     "text": [
      "libpng warning: iCCP: known incorrect sRGB profile\n"
     ]
    },
    {
     "name": "stdout",
     "output_type": "stream",
     "text": [
      "2022-05-03 13:04:51 [INFO]\t[TRAIN] Epoch=253/270, Step=28/35, loss=5.848859, lr=1e-06, time_each_step=0.74s, eta=0:10:3\n",
      "2022-05-03 13:04:53 [INFO]\t[TRAIN] Epoch=253/270, Step=30/35, loss=6.228323, lr=1e-06, time_each_step=0.74s, eta=0:10:2\n",
      "2022-05-03 13:04:54 [INFO]\t[TRAIN] Epoch=253/270, Step=32/35, loss=3.630412, lr=1e-06, time_each_step=0.76s, eta=0:10:0\n",
      "2022-05-03 13:04:55 [INFO]\t[TRAIN] Epoch=253/270, Step=34/35, loss=6.307164, lr=1e-06, time_each_step=0.75s, eta=0:9:59\n",
      "2022-05-03 13:04:56 [INFO]\t[TRAIN] Epoch 253 finished, loss=6.672701, lr=1e-06 .\n",
      "2022-05-03 13:05:03 [INFO]\t[TRAIN] Epoch=254/270, Step=1/35, loss=10.731859, lr=1e-06, time_each_step=1.07s, eta=0:9:43\n",
      "2022-05-03 13:05:05 [INFO]\t[TRAIN] Epoch=254/270, Step=3/35, loss=5.000968, lr=1e-06, time_each_step=1.09s, eta=0:9:41\n"
     ]
    },
    {
     "name": "stderr",
     "output_type": "stream",
     "text": [
      "libpng warning: iCCP: known incorrect sRGB profile\n"
     ]
    },
    {
     "name": "stdout",
     "output_type": "stream",
     "text": [
      "2022-05-03 13:05:07 [INFO]\t[TRAIN] Epoch=254/270, Step=5/35, loss=5.02161, lr=1e-06, time_each_step=1.11s, eta=0:9:39\n",
      "2022-05-03 13:05:08 [INFO]\t[TRAIN] Epoch=254/270, Step=7/35, loss=3.871071, lr=1e-06, time_each_step=1.11s, eta=0:9:37\n",
      "2022-05-03 13:05:10 [INFO]\t[TRAIN] Epoch=254/270, Step=9/35, loss=6.658566, lr=1e-06, time_each_step=1.12s, eta=0:9:35\n",
      "2022-05-03 13:05:12 [INFO]\t[TRAIN] Epoch=254/270, Step=11/35, loss=7.627965, lr=1e-06, time_each_step=1.12s, eta=0:9:33\n",
      "2022-05-03 13:05:13 [INFO]\t[TRAIN] Epoch=254/270, Step=13/35, loss=6.551364, lr=1e-06, time_each_step=1.07s, eta=0:9:30\n",
      "2022-05-03 13:05:15 [INFO]\t[TRAIN] Epoch=254/270, Step=15/35, loss=6.82304, lr=1e-06, time_each_step=1.1s, eta=0:9:28\n",
      "2022-05-03 13:05:16 [INFO]\t[TRAIN] Epoch=254/270, Step=17/35, loss=5.282069, lr=1e-06, time_each_step=1.1s, eta=0:9:26\n",
      "2022-05-03 13:05:18 [INFO]\t[TRAIN] Epoch=254/270, Step=19/35, loss=7.82109, lr=1e-06, time_each_step=1.15s, eta=0:9:25\n",
      "2022-05-03 13:05:19 [INFO]\t[TRAIN] Epoch=254/270, Step=21/35, loss=4.875255, lr=1e-06, time_each_step=0.83s, eta=0:9:18\n",
      "2022-05-03 13:05:21 [INFO]\t[TRAIN] Epoch=254/270, Step=23/35, loss=5.509644, lr=1e-06, time_each_step=0.78s, eta=0:9:16\n",
      "2022-05-03 13:05:22 [INFO]\t[TRAIN] Epoch=254/270, Step=25/35, loss=5.71688, lr=1e-06, time_each_step=0.77s, eta=0:9:14\n"
     ]
    },
    {
     "name": "stderr",
     "output_type": "stream",
     "text": [
      "libpng warning: iCCP: known incorrect sRGB profile\n"
     ]
    },
    {
     "name": "stdout",
     "output_type": "stream",
     "text": [
      "2022-05-03 13:05:23 [INFO]\t[TRAIN] Epoch=254/270, Step=27/35, loss=5.504298, lr=1e-06, time_each_step=0.74s, eta=0:9:12\n",
      "2022-05-03 13:05:24 [INFO]\t[TRAIN] Epoch=254/270, Step=29/35, loss=6.510612, lr=1e-06, time_each_step=0.72s, eta=0:9:11\n",
      "2022-05-03 13:05:25 [INFO]\t[TRAIN] Epoch=254/270, Step=31/35, loss=6.184163, lr=1e-06, time_each_step=0.69s, eta=0:9:9\n",
      "2022-05-03 13:05:26 [INFO]\t[TRAIN] Epoch=254/270, Step=33/35, loss=9.148532, lr=1e-06, time_each_step=0.64s, eta=0:9:7\n",
      "2022-05-03 13:05:27 [INFO]\t[TRAIN] Epoch=254/270, Step=35/35, loss=7.256134, lr=1e-06, time_each_step=0.62s, eta=0:9:6\n",
      "2022-05-03 13:05:28 [INFO]\t[TRAIN] Epoch 254 finished, loss=6.582642, lr=1e-06 .\n",
      "2022-05-03 13:05:36 [INFO]\t[TRAIN] Epoch=255/270, Step=2/35, loss=4.700051, lr=1e-06, time_each_step=0.95s, eta=0:8:39\n"
     ]
    },
    {
     "name": "stderr",
     "output_type": "stream",
     "text": [
      "libpng warning: iCCP: known incorrect sRGB profile\n"
     ]
    },
    {
     "name": "stdout",
     "output_type": "stream",
     "text": [
      "2022-05-03 13:05:38 [INFO]\t[TRAIN] Epoch=255/270, Step=4/35, loss=8.526936, lr=1e-06, time_each_step=0.95s, eta=0:8:37\n",
      "2022-05-03 13:05:39 [INFO]\t[TRAIN] Epoch=255/270, Step=6/35, loss=7.138464, lr=1e-06, time_each_step=0.98s, eta=0:8:36\n",
      "2022-05-03 13:05:41 [INFO]\t[TRAIN] Epoch=255/270, Step=8/35, loss=5.903268, lr=1e-06, time_each_step=1.01s, eta=0:8:35\n",
      "2022-05-03 13:05:42 [INFO]\t[TRAIN] Epoch=255/270, Step=10/35, loss=9.856849, lr=1e-06, time_each_step=1.01s, eta=0:8:33\n",
      "2022-05-03 13:05:44 [INFO]\t[TRAIN] Epoch=255/270, Step=12/35, loss=3.937027, lr=1e-06, time_each_step=1.02s, eta=0:8:31\n",
      "2022-05-03 13:05:46 [INFO]\t[TRAIN] Epoch=255/270, Step=14/35, loss=7.003094, lr=1e-06, time_each_step=1.05s, eta=0:8:30\n",
      "2022-05-03 13:05:47 [INFO]\t[TRAIN] Epoch=255/270, Step=16/35, loss=6.179973, lr=1e-06, time_each_step=1.07s, eta=0:8:28\n",
      "2022-05-03 13:05:49 [INFO]\t[TRAIN] Epoch=255/270, Step=18/35, loss=6.159173, lr=1e-06, time_each_step=1.11s, eta=0:8:27\n",
      "2022-05-03 13:05:50 [INFO]\t[TRAIN] Epoch=255/270, Step=20/35, loss=6.313229, lr=1e-06, time_each_step=1.14s, eta=0:8:25\n"
     ]
    },
    {
     "name": "stderr",
     "output_type": "stream",
     "text": [
      "libpng warning: iCCP: known incorrect sRGB profile\n"
     ]
    },
    {
     "name": "stdout",
     "output_type": "stream",
     "text": [
      "2022-05-03 13:05:52 [INFO]\t[TRAIN] Epoch=255/270, Step=22/35, loss=5.55037, lr=1e-06, time_each_step=0.8s, eta=0:8:18\n",
      "2022-05-03 13:05:53 [INFO]\t[TRAIN] Epoch=255/270, Step=24/35, loss=8.698825, lr=1e-06, time_each_step=0.78s, eta=0:8:16\n",
      "2022-05-03 13:05:54 [INFO]\t[TRAIN] Epoch=255/270, Step=26/35, loss=8.279144, lr=1e-06, time_each_step=0.76s, eta=0:8:15\n",
      "2022-05-03 13:05:56 [INFO]\t[TRAIN] Epoch=255/270, Step=28/35, loss=7.963928, lr=1e-06, time_each_step=0.72s, eta=0:8:13\n",
      "2022-05-03 13:05:56 [INFO]\t[TRAIN] Epoch=255/270, Step=30/35, loss=7.808044, lr=1e-06, time_each_step=0.7s, eta=0:8:11\n",
      "2022-05-03 13:05:57 [INFO]\t[TRAIN] Epoch=255/270, Step=32/35, loss=5.908793, lr=1e-06, time_each_step=0.67s, eta=0:8:10\n",
      "2022-05-03 13:05:58 [INFO]\t[TRAIN] Epoch=255/270, Step=34/35, loss=4.010818, lr=1e-06, time_each_step=0.6s, eta=0:8:8\n",
      "2022-05-03 13:05:58 [INFO]\t[TRAIN] Epoch 255 finished, loss=6.701736, lr=1e-06 .\n",
      "2022-05-03 13:06:04 [INFO]\t[TRAIN] Epoch=256/270, Step=1/35, loss=9.94058, lr=1e-06, time_each_step=0.83s, eta=0:7:48\n",
      "2022-05-03 13:06:06 [INFO]\t[TRAIN] Epoch=256/270, Step=3/35, loss=8.149738, lr=1e-06, time_each_step=0.84s, eta=0:7:46\n",
      "2022-05-03 13:06:08 [INFO]\t[TRAIN] Epoch=256/270, Step=5/35, loss=7.71871, lr=1e-06, time_each_step=0.87s, eta=0:7:45\n"
     ]
    },
    {
     "name": "stderr",
     "output_type": "stream",
     "text": [
      "libpng warning: iCCP: known incorrect sRGB profile\n"
     ]
    },
    {
     "name": "stdout",
     "output_type": "stream",
     "text": [
      "2022-05-03 13:06:09 [INFO]\t[TRAIN] Epoch=256/270, Step=7/35, loss=9.63444, lr=1e-06, time_each_step=0.88s, eta=0:7:44\n",
      "2022-05-03 13:06:11 [INFO]\t[TRAIN] Epoch=256/270, Step=9/35, loss=4.934557, lr=1e-06, time_each_step=0.87s, eta=0:7:42\n",
      "2022-05-03 13:06:12 [INFO]\t[TRAIN] Epoch=256/270, Step=11/35, loss=4.776811, lr=1e-06, time_each_step=0.87s, eta=0:7:40\n",
      "2022-05-03 13:06:14 [INFO]\t[TRAIN] Epoch=256/270, Step=13/35, loss=4.584354, lr=1e-06, time_each_step=0.89s, eta=0:7:39\n",
      "2022-05-03 13:06:15 [INFO]\t[TRAIN] Epoch=256/270, Step=15/35, loss=6.690804, lr=1e-06, time_each_step=0.92s, eta=0:7:38\n",
      "2022-05-03 13:06:17 [INFO]\t[TRAIN] Epoch=256/270, Step=17/35, loss=5.630994, lr=1e-06, time_each_step=0.97s, eta=0:7:37\n",
      "2022-05-03 13:06:18 [INFO]\t[TRAIN] Epoch=256/270, Step=19/35, loss=4.292946, lr=1e-06, time_each_step=1.02s, eta=0:7:36\n",
      "2022-05-03 13:06:19 [INFO]\t[TRAIN] Epoch=256/270, Step=21/35, loss=6.996179, lr=1e-06, time_each_step=0.77s, eta=0:7:30\n",
      "2022-05-03 13:06:21 [INFO]\t[TRAIN] Epoch=256/270, Step=23/35, loss=5.470588, lr=1e-06, time_each_step=0.75s, eta=0:7:28\n",
      "2022-05-03 13:06:22 [INFO]\t[TRAIN] Epoch=256/270, Step=25/35, loss=4.131374, lr=1e-06, time_each_step=0.72s, eta=0:7:27\n",
      "2022-05-03 13:06:24 [INFO]\t[TRAIN] Epoch=256/270, Step=27/35, loss=4.798864, lr=1e-06, time_each_step=0.73s, eta=0:7:25\n"
     ]
    },
    {
     "name": "stderr",
     "output_type": "stream",
     "text": [
      "libpng warning: iCCP: known incorrect sRGB profile\n"
     ]
    },
    {
     "name": "stdout",
     "output_type": "stream",
     "text": [
      "2022-05-03 13:06:26 [INFO]\t[TRAIN] Epoch=256/270, Step=29/35, loss=5.786842, lr=1e-06, time_each_step=0.74s, eta=0:7:24\n",
      "2022-05-03 13:06:27 [INFO]\t[TRAIN] Epoch=256/270, Step=31/35, loss=7.338465, lr=1e-06, time_each_step=0.72s, eta=0:7:22\n",
      "2022-05-03 13:06:29 [INFO]\t[TRAIN] Epoch=256/270, Step=33/35, loss=6.720555, lr=1e-06, time_each_step=0.75s, eta=0:7:21\n",
      "2022-05-03 13:06:30 [INFO]\t[TRAIN] Epoch=256/270, Step=35/35, loss=7.68754, lr=1e-06, time_each_step=0.77s, eta=0:7:19\n",
      "2022-05-03 13:06:31 [INFO]\t[TRAIN] Epoch 256 finished, loss=6.730803, lr=1e-06 .\n",
      "2022-05-03 13:06:38 [INFO]\t[TRAIN] Epoch=257/270, Step=2/35, loss=4.817168, lr=1e-06, time_each_step=1.07s, eta=0:7:54\n"
     ]
    },
    {
     "name": "stderr",
     "output_type": "stream",
     "text": [
      "libpng warning: iCCP: known incorrect sRGB profile\n"
     ]
    },
    {
     "name": "stdout",
     "output_type": "stream",
     "text": [
      "2022-05-03 13:06:41 [INFO]\t[TRAIN] Epoch=257/270, Step=4/35, loss=8.559066, lr=1e-06, time_each_step=1.12s, eta=0:7:53\n",
      "2022-05-03 13:06:43 [INFO]\t[TRAIN] Epoch=257/270, Step=6/35, loss=6.742168, lr=1e-06, time_each_step=1.15s, eta=0:7:52\n",
      "2022-05-03 13:06:45 [INFO]\t[TRAIN] Epoch=257/270, Step=8/35, loss=7.657495, lr=1e-06, time_each_step=1.18s, eta=0:7:51\n",
      "2022-05-03 13:06:46 [INFO]\t[TRAIN] Epoch=257/270, Step=10/35, loss=7.246998, lr=1e-06, time_each_step=1.18s, eta=0:7:48\n",
      "2022-05-03 13:06:48 [INFO]\t[TRAIN] Epoch=257/270, Step=12/35, loss=6.840568, lr=1e-06, time_each_step=1.18s, eta=0:7:46\n",
      "2022-05-03 13:06:50 [INFO]\t[TRAIN] Epoch=257/270, Step=14/35, loss=6.390452, lr=1e-06, time_each_step=1.18s, eta=0:7:43\n",
      "2022-05-03 13:06:52 [INFO]\t[TRAIN] Epoch=257/270, Step=16/35, loss=2.959615, lr=1e-06, time_each_step=1.25s, eta=0:7:42\n",
      "2022-05-03 13:06:54 [INFO]\t[TRAIN] Epoch=257/270, Step=18/35, loss=8.682054, lr=1e-06, time_each_step=1.24s, eta=0:7:40\n",
      "2022-05-03 13:06:55 [INFO]\t[TRAIN] Epoch=257/270, Step=20/35, loss=7.660107, lr=1e-06, time_each_step=1.23s, eta=0:7:37\n",
      "2022-05-03 13:06:56 [INFO]\t[TRAIN] Epoch=257/270, Step=22/35, loss=3.852106, lr=1e-06, time_each_step=0.89s, eta=0:7:30\n",
      "2022-05-03 13:06:58 [INFO]\t[TRAIN] Epoch=257/270, Step=24/35, loss=9.561285, lr=1e-06, time_each_step=0.84s, eta=0:7:28\n"
     ]
    },
    {
     "name": "stderr",
     "output_type": "stream",
     "text": [
      "libpng warning: iCCP: known incorrect sRGB profile\n"
     ]
    },
    {
     "name": "stdout",
     "output_type": "stream",
     "text": [
      "2022-05-03 13:06:59 [INFO]\t[TRAIN] Epoch=257/270, Step=26/35, loss=4.847534, lr=1e-06, time_each_step=0.8s, eta=0:7:26\n",
      "2022-05-03 13:07:00 [INFO]\t[TRAIN] Epoch=257/270, Step=28/35, loss=6.737131, lr=1e-06, time_each_step=0.78s, eta=0:7:24\n",
      "2022-05-03 13:07:02 [INFO]\t[TRAIN] Epoch=257/270, Step=30/35, loss=6.412282, lr=1e-06, time_each_step=0.76s, eta=0:7:22\n",
      "2022-05-03 13:07:03 [INFO]\t[TRAIN] Epoch=257/270, Step=32/35, loss=9.281503, lr=1e-06, time_each_step=0.73s, eta=0:7:21\n",
      "2022-05-03 13:07:04 [INFO]\t[TRAIN] Epoch=257/270, Step=34/35, loss=3.866294, lr=1e-06, time_each_step=0.69s, eta=0:7:19\n",
      "2022-05-03 13:07:05 [INFO]\t[TRAIN] Epoch 257 finished, loss=6.259701, lr=1e-06 .\n",
      "2022-05-03 13:07:12 [INFO]\t[TRAIN] Epoch=258/270, Step=1/35, loss=4.795167, lr=1e-06, time_each_step=0.99s, eta=0:7:33\n"
     ]
    },
    {
     "name": "stderr",
     "output_type": "stream",
     "text": [
      "libpng warning: iCCP: known incorrect sRGB profile\n"
     ]
    },
    {
     "name": "stdout",
     "output_type": "stream",
     "text": [
      "2022-05-03 13:07:14 [INFO]\t[TRAIN] Epoch=258/270, Step=3/35, loss=7.106681, lr=1e-06, time_each_step=0.97s, eta=0:7:31\n",
      "2022-05-03 13:07:15 [INFO]\t[TRAIN] Epoch=258/270, Step=5/35, loss=5.00719, lr=1e-06, time_each_step=0.98s, eta=0:7:29\n",
      "2022-05-03 13:07:17 [INFO]\t[TRAIN] Epoch=258/270, Step=7/35, loss=6.098461, lr=1e-06, time_each_step=1.02s, eta=0:7:28\n",
      "2022-05-03 13:07:19 [INFO]\t[TRAIN] Epoch=258/270, Step=9/35, loss=5.282113, lr=1e-06, time_each_step=1.02s, eta=0:7:26\n",
      "2022-05-03 13:07:20 [INFO]\t[TRAIN] Epoch=258/270, Step=11/35, loss=6.873455, lr=1e-06, time_each_step=1.05s, eta=0:7:25\n",
      "2022-05-03 13:07:22 [INFO]\t[TRAIN] Epoch=258/270, Step=13/35, loss=6.653884, lr=1e-06, time_each_step=1.04s, eta=0:7:23\n",
      "2022-05-03 13:07:24 [INFO]\t[TRAIN] Epoch=258/270, Step=15/35, loss=8.162456, lr=1e-06, time_each_step=1.06s, eta=0:7:21\n",
      "2022-05-03 13:07:25 [INFO]\t[TRAIN] Epoch=258/270, Step=17/35, loss=7.574904, lr=1e-06, time_each_step=1.08s, eta=0:7:19\n",
      "2022-05-03 13:07:26 [INFO]\t[TRAIN] Epoch=258/270, Step=19/35, loss=6.206688, lr=1e-06, time_each_step=1.1s, eta=0:7:17\n",
      "2022-05-03 13:07:27 [INFO]\t[TRAIN] Epoch=258/270, Step=21/35, loss=8.259441, lr=1e-06, time_each_step=0.75s, eta=0:7:10\n",
      "2022-05-03 13:07:29 [INFO]\t[TRAIN] Epoch=258/270, Step=23/35, loss=7.568662, lr=1e-06, time_each_step=0.73s, eta=0:7:9\n"
     ]
    },
    {
     "name": "stderr",
     "output_type": "stream",
     "text": [
      "libpng warning: iCCP: known incorrect sRGB profile\n"
     ]
    },
    {
     "name": "stdout",
     "output_type": "stream",
     "text": [
      "2022-05-03 13:07:30 [INFO]\t[TRAIN] Epoch=258/270, Step=25/35, loss=8.67641, lr=1e-06, time_each_step=0.73s, eta=0:7:7\n",
      "2022-05-03 13:07:31 [INFO]\t[TRAIN] Epoch=258/270, Step=27/35, loss=5.586232, lr=1e-06, time_each_step=0.7s, eta=0:7:5\n",
      "2022-05-03 13:07:32 [INFO]\t[TRAIN] Epoch=258/270, Step=29/35, loss=7.162791, lr=1e-06, time_each_step=0.67s, eta=0:7:4\n",
      "2022-05-03 13:07:33 [INFO]\t[TRAIN] Epoch=258/270, Step=31/35, loss=5.439952, lr=1e-06, time_each_step=0.65s, eta=0:7:2\n",
      "2022-05-03 13:07:35 [INFO]\t[TRAIN] Epoch=258/270, Step=33/35, loss=7.182855, lr=1e-06, time_each_step=0.64s, eta=0:7:1\n",
      "2022-05-03 13:07:36 [INFO]\t[TRAIN] Epoch=258/270, Step=35/35, loss=7.796896, lr=1e-06, time_each_step=0.65s, eta=0:7:0\n",
      "2022-05-03 13:07:37 [INFO]\t[TRAIN] Epoch 258 finished, loss=6.898881, lr=1e-06 .\n"
     ]
    },
    {
     "name": "stderr",
     "output_type": "stream",
     "text": [
      "libpng warning: iCCP: known incorrect sRGB profile\n"
     ]
    },
    {
     "name": "stdout",
     "output_type": "stream",
     "text": [
      "2022-05-03 13:07:46 [INFO]\t[TRAIN] Epoch=259/270, Step=2/35, loss=4.638896, lr=1e-06, time_each_step=1.01s, eta=0:6:41\n",
      "2022-05-03 13:07:47 [INFO]\t[TRAIN] Epoch=259/270, Step=4/35, loss=7.124269, lr=1e-06, time_each_step=1.04s, eta=0:6:40\n",
      "2022-05-03 13:07:49 [INFO]\t[TRAIN] Epoch=259/270, Step=6/35, loss=8.989795, lr=1e-06, time_each_step=1.07s, eta=0:6:39\n",
      "2022-05-03 13:07:51 [INFO]\t[TRAIN] Epoch=259/270, Step=8/35, loss=5.788194, lr=1e-06, time_each_step=1.11s, eta=0:6:37\n",
      "2022-05-03 13:07:53 [INFO]\t[TRAIN] Epoch=259/270, Step=10/35, loss=6.494379, lr=1e-06, time_each_step=1.12s, eta=0:6:36\n",
      "2022-05-03 13:07:54 [INFO]\t[TRAIN] Epoch=259/270, Step=12/35, loss=5.627549, lr=1e-06, time_each_step=1.11s, eta=0:6:33\n",
      "2022-05-03 13:07:55 [INFO]\t[TRAIN] Epoch=259/270, Step=14/35, loss=9.252569, lr=1e-06, time_each_step=1.13s, eta=0:6:31\n",
      "2022-05-03 13:07:57 [INFO]\t[TRAIN] Epoch=259/270, Step=16/35, loss=6.582713, lr=1e-06, time_each_step=1.14s, eta=0:6:29\n",
      "2022-05-03 13:07:58 [INFO]\t[TRAIN] Epoch=259/270, Step=18/35, loss=4.532059, lr=1e-06, time_each_step=1.16s, eta=0:6:27\n",
      "2022-05-03 13:07:59 [INFO]\t[TRAIN] Epoch=259/270, Step=20/35, loss=8.173718, lr=1e-06, time_each_step=1.12s, eta=0:6:24\n"
     ]
    },
    {
     "name": "stderr",
     "output_type": "stream",
     "text": [
      "libpng warning: iCCP: known incorrect sRGB profile\n"
     ]
    },
    {
     "name": "stdout",
     "output_type": "stream",
     "text": [
      "2022-05-03 13:08:01 [INFO]\t[TRAIN] Epoch=259/270, Step=22/35, loss=5.323487, lr=1e-06, time_each_step=0.75s, eta=0:6:17\n",
      "2022-05-03 13:08:02 [INFO]\t[TRAIN] Epoch=259/270, Step=24/35, loss=7.288013, lr=1e-06, time_each_step=0.73s, eta=0:6:16\n",
      "2022-05-03 13:08:03 [INFO]\t[TRAIN] Epoch=259/270, Step=26/35, loss=4.824934, lr=1e-06, time_each_step=0.71s, eta=0:6:14\n",
      "2022-05-03 13:08:04 [INFO]\t[TRAIN] Epoch=259/270, Step=28/35, loss=7.508875, lr=1e-06, time_each_step=0.65s, eta=0:6:12\n",
      "2022-05-03 13:08:05 [INFO]\t[TRAIN] Epoch=259/270, Step=30/35, loss=4.138012, lr=1e-06, time_each_step=0.61s, eta=0:6:11\n",
      "2022-05-03 13:08:06 [INFO]\t[TRAIN] Epoch=259/270, Step=32/35, loss=5.88274, lr=1e-06, time_each_step=0.61s, eta=0:6:9\n",
      "2022-05-03 13:08:07 [INFO]\t[TRAIN] Epoch=259/270, Step=34/35, loss=9.579965, lr=1e-06, time_each_step=0.58s, eta=0:6:8\n",
      "2022-05-03 13:08:07 [INFO]\t[TRAIN] Epoch 259 finished, loss=6.718853, lr=1e-06 .\n",
      "2022-05-03 13:08:13 [INFO]\t[TRAIN] Epoch=260/270, Step=1/35, loss=5.54419, lr=1e-06, time_each_step=0.82s, eta=0:5:49\n",
      "2022-05-03 13:08:15 [INFO]\t[TRAIN] Epoch=260/270, Step=3/35, loss=7.683425, lr=1e-06, time_each_step=0.82s, eta=0:5:47\n"
     ]
    },
    {
     "name": "stderr",
     "output_type": "stream",
     "text": [
      "libpng warning: iCCP: known incorrect sRGB profile\n"
     ]
    },
    {
     "name": "stdout",
     "output_type": "stream",
     "text": [
      "2022-05-03 13:08:17 [INFO]\t[TRAIN] Epoch=260/270, Step=5/35, loss=5.805306, lr=1e-06, time_each_step=0.87s, eta=0:5:47\n",
      "2022-05-03 13:08:19 [INFO]\t[TRAIN] Epoch=260/270, Step=7/35, loss=7.450066, lr=1e-06, time_each_step=0.89s, eta=0:5:46\n",
      "2022-05-03 13:08:21 [INFO]\t[TRAIN] Epoch=260/270, Step=9/35, loss=5.14976, lr=1e-06, time_each_step=0.92s, eta=0:5:45\n",
      "2022-05-03 13:08:22 [INFO]\t[TRAIN] Epoch=260/270, Step=11/35, loss=4.804193, lr=1e-06, time_each_step=0.94s, eta=0:5:43\n",
      "2022-05-03 13:08:24 [INFO]\t[TRAIN] Epoch=260/270, Step=13/35, loss=8.686278, lr=1e-06, time_each_step=0.97s, eta=0:5:42\n",
      "2022-05-03 13:08:25 [INFO]\t[TRAIN] Epoch=260/270, Step=15/35, loss=7.376607, lr=1e-06, time_each_step=0.99s, eta=0:5:41\n",
      "2022-05-03 13:08:26 [INFO]\t[TRAIN] Epoch=260/270, Step=17/35, loss=3.343541, lr=1e-06, time_each_step=1.01s, eta=0:5:39\n",
      "2022-05-03 13:08:28 [INFO]\t[TRAIN] Epoch=260/270, Step=19/35, loss=4.106046, lr=1e-06, time_each_step=1.03s, eta=0:5:37\n",
      "2022-05-03 13:08:29 [INFO]\t[TRAIN] Epoch=260/270, Step=21/35, loss=10.835636, lr=1e-06, time_each_step=0.78s, eta=0:5:32\n",
      "2022-05-03 13:08:30 [INFO]\t[TRAIN] Epoch=260/270, Step=23/35, loss=8.922678, lr=1e-06, time_each_step=0.77s, eta=0:5:30\n",
      "2022-05-03 13:08:32 [INFO]\t[TRAIN] Epoch=260/270, Step=25/35, loss=7.079627, lr=1e-06, time_each_step=0.74s, eta=0:5:28\n",
      "2022-05-03 13:08:33 [INFO]\t[TRAIN] Epoch=260/270, Step=27/35, loss=5.215757, lr=1e-06, time_each_step=0.72s, eta=0:5:27\n",
      "2022-05-03 13:08:35 [INFO]\t[TRAIN] Epoch=260/270, Step=29/35, loss=6.636232, lr=1e-06, time_each_step=0.71s, eta=0:5:25\n"
     ]
    },
    {
     "name": "stderr",
     "output_type": "stream",
     "text": [
      "libpng warning: iCCP: known incorrect sRGB profile\n"
     ]
    },
    {
     "name": "stdout",
     "output_type": "stream",
     "text": [
      "2022-05-03 13:08:36 [INFO]\t[TRAIN] Epoch=260/270, Step=31/35, loss=4.475277, lr=1e-06, time_each_step=0.7s, eta=0:5:24\n",
      "2022-05-03 13:08:38 [INFO]\t[TRAIN] Epoch=260/270, Step=33/35, loss=10.183249, lr=1e-06, time_each_step=0.73s, eta=0:5:22\n",
      "2022-05-03 13:08:39 [INFO]\t[TRAIN] Epoch=260/270, Step=35/35, loss=5.799825, lr=1e-06, time_each_step=0.72s, eta=0:5:21\n",
      "2022-05-03 13:08:39 [INFO]\t[TRAIN] Epoch 260 finished, loss=6.557169, lr=1e-06 .\n",
      "2022-05-03 13:08:48 [INFO]\t[TRAIN] Epoch=261/270, Step=2/35, loss=6.230181, lr=1e-06, time_each_step=1.08s, eta=0:5:35\n"
     ]
    },
    {
     "name": "stderr",
     "output_type": "stream",
     "text": [
      "libpng warning: iCCP: known incorrect sRGB profile\n"
     ]
    },
    {
     "name": "stdout",
     "output_type": "stream",
     "text": [
      "2022-05-03 13:08:51 [INFO]\t[TRAIN] Epoch=261/270, Step=4/35, loss=5.376789, lr=1e-06, time_each_step=1.15s, eta=0:5:35\n",
      "2022-05-03 13:08:52 [INFO]\t[TRAIN] Epoch=261/270, Step=6/35, loss=6.858837, lr=1e-06, time_each_step=1.16s, eta=0:5:33\n",
      "2022-05-03 13:08:54 [INFO]\t[TRAIN] Epoch=261/270, Step=8/35, loss=3.133464, lr=1e-06, time_each_step=1.17s, eta=0:5:31\n",
      "2022-05-03 13:08:55 [INFO]\t[TRAIN] Epoch=261/270, Step=10/35, loss=5.584394, lr=1e-06, time_each_step=1.16s, eta=0:5:29\n",
      "2022-05-03 13:08:56 [INFO]\t[TRAIN] Epoch=261/270, Step=12/35, loss=8.009142, lr=1e-06, time_each_step=1.17s, eta=0:5:26\n",
      "2022-05-03 13:08:58 [INFO]\t[TRAIN] Epoch=261/270, Step=14/35, loss=5.027021, lr=1e-06, time_each_step=1.16s, eta=0:5:24\n",
      "2022-05-03 13:08:59 [INFO]\t[TRAIN] Epoch=261/270, Step=16/35, loss=4.280336, lr=1e-06, time_each_step=1.16s, eta=0:5:22\n",
      "2022-05-03 13:09:00 [INFO]\t[TRAIN] Epoch=261/270, Step=18/35, loss=4.752298, lr=1e-06, time_each_step=1.11s, eta=0:5:18\n",
      "2022-05-03 13:09:02 [INFO]\t[TRAIN] Epoch=261/270, Step=20/35, loss=9.092199, lr=1e-06, time_each_step=1.13s, eta=0:5:16\n",
      "2022-05-03 13:09:03 [INFO]\t[TRAIN] Epoch=261/270, Step=22/35, loss=8.878349, lr=1e-06, time_each_step=0.76s, eta=0:5:9\n"
     ]
    },
    {
     "name": "stderr",
     "output_type": "stream",
     "text": [
      "libpng warning: iCCP: known incorrect sRGB profile\n"
     ]
    },
    {
     "name": "stdout",
     "output_type": "stream",
     "text": [
      "2022-05-03 13:09:05 [INFO]\t[TRAIN] Epoch=261/270, Step=24/35, loss=7.125188, lr=1e-06, time_each_step=0.7s, eta=0:5:7\n",
      "2022-05-03 13:09:06 [INFO]\t[TRAIN] Epoch=261/270, Step=26/35, loss=3.720219, lr=1e-06, time_each_step=0.69s, eta=0:5:6\n",
      "2022-05-03 13:09:07 [INFO]\t[TRAIN] Epoch=261/270, Step=28/35, loss=18.090519, lr=1e-06, time_each_step=0.67s, eta=0:5:4\n",
      "2022-05-03 13:09:08 [INFO]\t[TRAIN] Epoch=261/270, Step=30/35, loss=5.967341, lr=1e-06, time_each_step=0.67s, eta=0:5:3\n",
      "2022-05-03 13:09:09 [INFO]\t[TRAIN] Epoch=261/270, Step=32/35, loss=6.134601, lr=1e-06, time_each_step=0.64s, eta=0:5:1\n",
      "2022-05-03 13:09:10 [INFO]\t[TRAIN] Epoch=261/270, Step=34/35, loss=5.386435, lr=1e-06, time_each_step=0.6s, eta=0:5:0\n",
      "2022-05-03 13:09:12 [INFO]\t[TRAIN] Epoch 261 finished, loss=6.72051, lr=1e-06 .\n",
      "2022-05-03 13:09:17 [INFO]\t[TRAIN] Epoch=262/270, Step=1/35, loss=7.722943, lr=1e-06, time_each_step=0.87s, eta=0:5:1\n",
      "2022-05-03 13:09:19 [INFO]\t[TRAIN] Epoch=262/270, Step=3/35, loss=6.139915, lr=1e-06, time_each_step=0.91s, eta=0:5:0\n",
      "2022-05-03 13:09:21 [INFO]\t[TRAIN] Epoch=262/270, Step=5/35, loss=7.553338, lr=1e-06, time_each_step=0.91s, eta=0:4:59\n",
      "2022-05-03 13:09:23 [INFO]\t[TRAIN] Epoch=262/270, Step=7/35, loss=6.011074, lr=1e-06, time_each_step=0.95s, eta=0:4:58\n"
     ]
    },
    {
     "name": "stderr",
     "output_type": "stream",
     "text": [
      "libpng warning: iCCP: known incorrect sRGB profile\n"
     ]
    },
    {
     "name": "stdout",
     "output_type": "stream",
     "text": [
      "2022-05-03 13:09:24 [INFO]\t[TRAIN] Epoch=262/270, Step=9/35, loss=5.169276, lr=1e-06, time_each_step=0.96s, eta=0:4:56\n",
      "2022-05-03 13:09:25 [INFO]\t[TRAIN] Epoch=262/270, Step=11/35, loss=5.146916, lr=1e-06, time_each_step=0.94s, eta=0:4:54\n",
      "2022-05-03 13:09:27 [INFO]\t[TRAIN] Epoch=262/270, Step=13/35, loss=7.257832, lr=1e-06, time_each_step=0.98s, eta=0:4:53\n",
      "2022-05-03 13:09:30 [INFO]\t[TRAIN] Epoch=262/270, Step=15/35, loss=6.214911, lr=1e-06, time_each_step=1.04s, eta=0:4:52\n",
      "2022-05-03 13:09:31 [INFO]\t[TRAIN] Epoch=262/270, Step=17/35, loss=6.017891, lr=1e-06, time_each_step=1.06s, eta=0:4:51\n",
      "2022-05-03 13:09:33 [INFO]\t[TRAIN] Epoch=262/270, Step=19/35, loss=6.882598, lr=1e-06, time_each_step=1.1s, eta=0:4:49\n",
      "2022-05-03 13:09:34 [INFO]\t[TRAIN] Epoch=262/270, Step=21/35, loss=5.429728, lr=1e-06, time_each_step=0.83s, eta=0:4:43\n",
      "2022-05-03 13:09:36 [INFO]\t[TRAIN] Epoch=262/270, Step=23/35, loss=9.351715, lr=1e-06, time_each_step=0.83s, eta=0:4:41\n",
      "2022-05-03 13:09:37 [INFO]\t[TRAIN] Epoch=262/270, Step=25/35, loss=6.961068, lr=1e-06, time_each_step=0.84s, eta=0:4:40\n",
      "2022-05-03 13:09:38 [INFO]\t[TRAIN] Epoch=262/270, Step=27/35, loss=6.661361, lr=1e-06, time_each_step=0.78s, eta=0:4:38\n"
     ]
    },
    {
     "name": "stderr",
     "output_type": "stream",
     "text": [
      "libpng warning: iCCP: known incorrect sRGB profile\n"
     ]
    },
    {
     "name": "stdout",
     "output_type": "stream",
     "text": [
      "2022-05-03 13:09:40 [INFO]\t[TRAIN] Epoch=262/270, Step=29/35, loss=5.468275, lr=1e-06, time_each_step=0.77s, eta=0:4:36\n",
      "2022-05-03 13:09:41 [INFO]\t[TRAIN] Epoch=262/270, Step=31/35, loss=5.473056, lr=1e-06, time_each_step=0.75s, eta=0:4:34\n",
      "2022-05-03 13:09:41 [INFO]\t[TRAIN] Epoch=262/270, Step=33/35, loss=5.88579, lr=1e-06, time_each_step=0.7s, eta=0:4:33\n",
      "2022-05-03 13:09:42 [INFO]\t[TRAIN] Epoch=262/270, Step=35/35, loss=6.742918, lr=1e-06, time_each_step=0.64s, eta=0:4:31\n",
      "2022-05-03 13:09:43 [INFO]\t[TRAIN] Epoch 262 finished, loss=6.408253, lr=1e-06 .\n"
     ]
    },
    {
     "name": "stderr",
     "output_type": "stream",
     "text": [
      "libpng warning: iCCP: known incorrect sRGB profile\n"
     ]
    },
    {
     "name": "stdout",
     "output_type": "stream",
     "text": [
      "2022-05-03 13:09:53 [INFO]\t[TRAIN] Epoch=263/270, Step=2/35, loss=3.834569, lr=1e-06, time_each_step=1.1s, eta=0:4:27\n",
      "2022-05-03 13:09:55 [INFO]\t[TRAIN] Epoch=263/270, Step=4/35, loss=6.073767, lr=1e-06, time_each_step=1.14s, eta=0:4:26\n",
      "2022-05-03 13:09:57 [INFO]\t[TRAIN] Epoch=263/270, Step=6/35, loss=8.713615, lr=1e-06, time_each_step=1.17s, eta=0:4:25\n",
      "2022-05-03 13:09:59 [INFO]\t[TRAIN] Epoch=263/270, Step=8/35, loss=7.983683, lr=1e-06, time_each_step=1.15s, eta=0:4:22\n",
      "2022-05-03 13:10:01 [INFO]\t[TRAIN] Epoch=263/270, Step=10/35, loss=4.849099, lr=1e-06, time_each_step=1.17s, eta=0:4:20\n",
      "2022-05-03 13:10:03 [INFO]\t[TRAIN] Epoch=263/270, Step=12/35, loss=7.097922, lr=1e-06, time_each_step=1.2s, eta=0:4:18\n",
      "2022-05-03 13:10:04 [INFO]\t[TRAIN] Epoch=263/270, Step=14/35, loss=6.137335, lr=1e-06, time_each_step=1.22s, eta=0:4:16\n",
      "2022-05-03 13:10:06 [INFO]\t[TRAIN] Epoch=263/270, Step=16/35, loss=6.447085, lr=1e-06, time_each_step=1.24s, eta=0:4:14\n",
      "2022-05-03 13:10:07 [INFO]\t[TRAIN] Epoch=263/270, Step=18/35, loss=5.498345, lr=1e-06, time_each_step=1.26s, eta=0:4:12\n"
     ]
    },
    {
     "name": "stderr",
     "output_type": "stream",
     "text": [
      "libpng warning: iCCP: known incorrect sRGB profile\n"
     ]
    },
    {
     "name": "stdout",
     "output_type": "stream",
     "text": [
      "2022-05-03 13:10:08 [INFO]\t[TRAIN] Epoch=263/270, Step=20/35, loss=4.198883, lr=1e-06, time_each_step=1.28s, eta=0:4:10\n",
      "2022-05-03 13:10:10 [INFO]\t[TRAIN] Epoch=263/270, Step=22/35, loss=6.308193, lr=1e-06, time_each_step=0.82s, eta=0:4:1\n",
      "2022-05-03 13:10:11 [INFO]\t[TRAIN] Epoch=263/270, Step=24/35, loss=5.087756, lr=1e-06, time_each_step=0.78s, eta=0:3:59\n",
      "2022-05-03 13:10:12 [INFO]\t[TRAIN] Epoch=263/270, Step=26/35, loss=5.102885, lr=1e-06, time_each_step=0.75s, eta=0:3:57\n",
      "2022-05-03 13:10:13 [INFO]\t[TRAIN] Epoch=263/270, Step=28/35, loss=6.462112, lr=1e-06, time_each_step=0.72s, eta=0:3:56\n",
      "2022-05-03 13:10:14 [INFO]\t[TRAIN] Epoch=263/270, Step=30/35, loss=8.281717, lr=1e-06, time_each_step=0.67s, eta=0:3:54\n",
      "2022-05-03 13:10:15 [INFO]\t[TRAIN] Epoch=263/270, Step=32/35, loss=11.127389, lr=1e-06, time_each_step=0.63s, eta=0:3:53\n",
      "2022-05-03 13:10:16 [INFO]\t[TRAIN] Epoch=263/270, Step=34/35, loss=4.470331, lr=1e-06, time_each_step=0.58s, eta=0:3:51\n",
      "2022-05-03 13:10:16 [INFO]\t[TRAIN] Epoch 263 finished, loss=6.632367, lr=1e-06 .\n",
      "2022-05-03 13:10:23 [INFO]\t[TRAIN] Epoch=264/270, Step=1/35, loss=4.172223, lr=1e-06, time_each_step=0.85s, eta=0:4:5\n",
      "2022-05-03 13:10:24 [INFO]\t[TRAIN] Epoch=264/270, Step=3/35, loss=5.283724, lr=1e-06, time_each_step=0.88s, eta=0:4:4\n",
      "2022-05-03 13:10:25 [INFO]\t[TRAIN] Epoch=264/270, Step=5/35, loss=9.665039, lr=1e-06, time_each_step=0.86s, eta=0:4:2\n",
      "2022-05-03 13:10:27 [INFO]\t[TRAIN] Epoch=264/270, Step=7/35, loss=7.573608, lr=1e-06, time_each_step=0.87s, eta=0:4:0\n"
     ]
    },
    {
     "name": "stderr",
     "output_type": "stream",
     "text": [
      "libpng warning: iCCP: known incorrect sRGB profile\n"
     ]
    },
    {
     "name": "stdout",
     "output_type": "stream",
     "text": [
      "2022-05-03 13:10:29 [INFO]\t[TRAIN] Epoch=264/270, Step=9/35, loss=5.909859, lr=1e-06, time_each_step=0.88s, eta=0:3:59\n",
      "2022-05-03 13:10:30 [INFO]\t[TRAIN] Epoch=264/270, Step=11/35, loss=7.750318, lr=1e-06, time_each_step=0.9s, eta=0:3:58\n",
      "2022-05-03 13:10:32 [INFO]\t[TRAIN] Epoch=264/270, Step=13/35, loss=7.392041, lr=1e-06, time_each_step=0.92s, eta=0:3:57\n",
      "2022-05-03 13:10:33 [INFO]\t[TRAIN] Epoch=264/270, Step=15/35, loss=8.669426, lr=1e-06, time_each_step=0.94s, eta=0:3:55\n",
      "2022-05-03 13:10:35 [INFO]\t[TRAIN] Epoch=264/270, Step=17/35, loss=4.60938, lr=1e-06, time_each_step=0.96s, eta=0:3:53\n",
      "2022-05-03 13:10:36 [INFO]\t[TRAIN] Epoch=264/270, Step=19/35, loss=5.823913, lr=1e-06, time_each_step=1.0s, eta=0:3:52\n",
      "2022-05-03 13:10:37 [INFO]\t[TRAIN] Epoch=264/270, Step=21/35, loss=5.214193, lr=1e-06, time_each_step=0.73s, eta=0:3:46\n",
      "2022-05-03 13:10:39 [INFO]\t[TRAIN] Epoch=264/270, Step=23/35, loss=8.379395, lr=1e-06, time_each_step=0.72s, eta=0:3:45\n",
      "2022-05-03 13:10:40 [INFO]\t[TRAIN] Epoch=264/270, Step=25/35, loss=7.727385, lr=1e-06, time_each_step=0.71s, eta=0:3:43\n",
      "2022-05-03 13:10:41 [INFO]\t[TRAIN] Epoch=264/270, Step=27/35, loss=3.762212, lr=1e-06, time_each_step=0.71s, eta=0:3:42\n"
     ]
    },
    {
     "name": "stderr",
     "output_type": "stream",
     "text": [
      "libpng warning: iCCP: known incorrect sRGB profile\n"
     ]
    },
    {
     "name": "stdout",
     "output_type": "stream",
     "text": [
      "2022-05-03 13:10:43 [INFO]\t[TRAIN] Epoch=264/270, Step=29/35, loss=5.620091, lr=1e-06, time_each_step=0.68s, eta=0:3:40\n",
      "2022-05-03 13:10:45 [INFO]\t[TRAIN] Epoch=264/270, Step=31/35, loss=8.374669, lr=1e-06, time_each_step=0.71s, eta=0:3:39\n",
      "2022-05-03 13:10:46 [INFO]\t[TRAIN] Epoch=264/270, Step=33/35, loss=7.730045, lr=1e-06, time_each_step=0.7s, eta=0:3:38\n",
      "2022-05-03 13:10:47 [INFO]\t[TRAIN] Epoch=264/270, Step=35/35, loss=3.485103, lr=1e-06, time_each_step=0.69s, eta=0:3:36\n",
      "2022-05-03 13:10:48 [INFO]\t[TRAIN] Epoch 264 finished, loss=6.861419, lr=1e-06 .\n",
      "2022-05-03 13:10:55 [INFO]\t[TRAIN] Epoch=265/270, Step=2/35, loss=7.127975, lr=1e-06, time_each_step=0.99s, eta=0:3:23\n"
     ]
    },
    {
     "name": "stderr",
     "output_type": "stream",
     "text": [
      "libpng warning: iCCP: known incorrect sRGB profile\n"
     ]
    },
    {
     "name": "stdout",
     "output_type": "stream",
     "text": [
      "2022-05-03 13:10:58 [INFO]\t[TRAIN] Epoch=265/270, Step=4/35, loss=6.227197, lr=1e-06, time_each_step=1.04s, eta=0:3:23\n",
      "2022-05-03 13:11:00 [INFO]\t[TRAIN] Epoch=265/270, Step=6/35, loss=6.842431, lr=1e-06, time_each_step=1.09s, eta=0:3:22\n",
      "2022-05-03 13:11:02 [INFO]\t[TRAIN] Epoch=265/270, Step=8/35, loss=6.818733, lr=1e-06, time_each_step=1.14s, eta=0:3:21\n",
      "2022-05-03 13:11:04 [INFO]\t[TRAIN] Epoch=265/270, Step=10/35, loss=6.577356, lr=1e-06, time_each_step=1.17s, eta=0:3:20\n",
      "2022-05-03 13:11:05 [INFO]\t[TRAIN] Epoch=265/270, Step=12/35, loss=5.608448, lr=1e-06, time_each_step=1.17s, eta=0:3:18\n",
      "2022-05-03 13:11:07 [INFO]\t[TRAIN] Epoch=265/270, Step=14/35, loss=7.272273, lr=1e-06, time_each_step=1.18s, eta=0:3:16\n",
      "2022-05-03 13:11:09 [INFO]\t[TRAIN] Epoch=265/270, Step=16/35, loss=6.125563, lr=1e-06, time_each_step=1.17s, eta=0:3:13\n",
      "2022-05-03 13:11:11 [INFO]\t[TRAIN] Epoch=265/270, Step=18/35, loss=11.2177, lr=1e-06, time_each_step=1.19s, eta=0:3:11\n",
      "2022-05-03 13:11:12 [INFO]\t[TRAIN] Epoch=265/270, Step=20/35, loss=6.443578, lr=1e-06, time_each_step=1.2s, eta=0:3:9\n",
      "2022-05-03 13:11:13 [INFO]\t[TRAIN] Epoch=265/270, Step=22/35, loss=4.072063, lr=1e-06, time_each_step=0.91s, eta=0:3:3\n",
      "2022-05-03 13:11:15 [INFO]\t[TRAIN] Epoch=265/270, Step=24/35, loss=5.779474, lr=1e-06, time_each_step=0.84s, eta=0:3:0\n",
      "2022-05-03 13:11:16 [INFO]\t[TRAIN] Epoch=265/270, Step=26/35, loss=8.438003, lr=1e-06, time_each_step=0.81s, eta=0:2:58\n",
      "2022-05-03 13:11:18 [INFO]\t[TRAIN] Epoch=265/270, Step=28/35, loss=8.172237, lr=1e-06, time_each_step=0.78s, eta=0:2:56\n",
      "2022-05-03 13:11:19 [INFO]\t[TRAIN] Epoch=265/270, Step=30/35, loss=7.701401, lr=1e-06, time_each_step=0.75s, eta=0:2:55\n",
      "2022-05-03 13:11:21 [INFO]\t[TRAIN] Epoch=265/270, Step=32/35, loss=8.157616, lr=1e-06, time_each_step=0.76s, eta=0:2:53\n",
      "2022-05-03 13:11:23 [INFO]\t[TRAIN] Epoch=265/270, Step=34/35, loss=6.388721, lr=1e-06, time_each_step=0.8s, eta=0:2:52\n"
     ]
    },
    {
     "name": "stderr",
     "output_type": "stream",
     "text": [
      "libpng warning: iCCP: known incorrect sRGB profile\n"
     ]
    },
    {
     "name": "stdout",
     "output_type": "stream",
     "text": [
      "2022-05-03 13:11:24 [INFO]\t[TRAIN] Epoch 265 finished, loss=6.686203, lr=1e-06 .\n",
      "2022-05-03 13:11:31 [INFO]\t[TRAIN] Epoch=266/270, Step=1/35, loss=4.343853, lr=1e-06, time_each_step=1.08s, eta=0:3:16\n",
      "2022-05-03 13:11:33 [INFO]\t[TRAIN] Epoch=266/270, Step=3/35, loss=7.437578, lr=1e-06, time_each_step=1.1s, eta=0:3:15\n"
     ]
    },
    {
     "name": "stderr",
     "output_type": "stream",
     "text": [
      "libpng warning: iCCP: known incorrect sRGB profile\n"
     ]
    },
    {
     "name": "stdout",
     "output_type": "stream",
     "text": [
      "2022-05-03 13:11:35 [INFO]\t[TRAIN] Epoch=266/270, Step=5/35, loss=8.325194, lr=1e-06, time_each_step=1.13s, eta=0:3:13\n",
      "2022-05-03 13:11:36 [INFO]\t[TRAIN] Epoch=266/270, Step=7/35, loss=6.462793, lr=1e-06, time_each_step=1.15s, eta=0:3:12\n",
      "2022-05-03 13:11:38 [INFO]\t[TRAIN] Epoch=266/270, Step=9/35, loss=8.759305, lr=1e-06, time_each_step=1.14s, eta=0:3:9\n",
      "2022-05-03 13:11:39 [INFO]\t[TRAIN] Epoch=266/270, Step=11/35, loss=5.067739, lr=1e-06, time_each_step=1.14s, eta=0:3:7\n",
      "2022-05-03 13:11:41 [INFO]\t[TRAIN] Epoch=266/270, Step=13/35, loss=10.228265, lr=1e-06, time_each_step=1.13s, eta=0:3:4\n",
      "2022-05-03 13:11:42 [INFO]\t[TRAIN] Epoch=266/270, Step=15/35, loss=5.444204, lr=1e-06, time_each_step=1.16s, eta=0:3:3\n",
      "2022-05-03 13:11:44 [INFO]\t[TRAIN] Epoch=266/270, Step=17/35, loss=6.486283, lr=1e-06, time_each_step=1.13s, eta=0:3:0\n",
      "2022-05-03 13:11:45 [INFO]\t[TRAIN] Epoch=266/270, Step=19/35, loss=8.107879, lr=1e-06, time_each_step=1.09s, eta=0:2:57\n",
      "2022-05-03 13:11:46 [INFO]\t[TRAIN] Epoch=266/270, Step=21/35, loss=6.137171, lr=1e-06, time_each_step=0.78s, eta=0:2:50\n",
      "2022-05-03 13:11:48 [INFO]\t[TRAIN] Epoch=266/270, Step=23/35, loss=5.65239, lr=1e-06, time_each_step=0.75s, eta=0:2:48\n",
      "2022-05-03 13:11:49 [INFO]\t[TRAIN] Epoch=266/270, Step=25/35, loss=8.204185, lr=1e-06, time_each_step=0.72s, eta=0:2:47\n",
      "2022-05-03 13:11:51 [INFO]\t[TRAIN] Epoch=266/270, Step=27/35, loss=7.256765, lr=1e-06, time_each_step=0.71s, eta=0:2:45\n"
     ]
    },
    {
     "name": "stderr",
     "output_type": "stream",
     "text": [
      "libpng warning: iCCP: known incorrect sRGB profile\n"
     ]
    },
    {
     "name": "stdout",
     "output_type": "stream",
     "text": [
      "2022-05-03 13:11:52 [INFO]\t[TRAIN] Epoch=266/270, Step=29/35, loss=5.516197, lr=1e-06, time_each_step=0.73s, eta=0:2:44\n",
      "2022-05-03 13:11:54 [INFO]\t[TRAIN] Epoch=266/270, Step=31/35, loss=4.031428, lr=1e-06, time_each_step=0.72s, eta=0:2:42\n",
      "2022-05-03 13:11:54 [INFO]\t[TRAIN] Epoch=266/270, Step=33/35, loss=6.353105, lr=1e-06, time_each_step=0.68s, eta=0:2:41\n",
      "2022-05-03 13:11:56 [INFO]\t[TRAIN] Epoch=266/270, Step=35/35, loss=5.104748, lr=1e-06, time_each_step=0.68s, eta=0:2:39\n",
      "2022-05-03 13:11:56 [INFO]\t[TRAIN] Epoch 266 finished, loss=6.469837, lr=1e-06 .\n"
     ]
    },
    {
     "name": "stderr",
     "output_type": "stream",
     "text": [
      "libpng warning: iCCP: known incorrect sRGB profile\n"
     ]
    },
    {
     "name": "stdout",
     "output_type": "stream",
     "text": [
      "2022-05-03 13:12:03 [INFO]\t[TRAIN] Epoch=267/270, Step=2/35, loss=7.366313, lr=1e-06, time_each_step=0.98s, eta=0:2:20\n",
      "2022-05-03 13:12:05 [INFO]\t[TRAIN] Epoch=267/270, Step=4/35, loss=7.395088, lr=1e-06, time_each_step=1.0s, eta=0:2:19\n",
      "2022-05-03 13:12:07 [INFO]\t[TRAIN] Epoch=267/270, Step=6/35, loss=6.110791, lr=1e-06, time_each_step=1.0s, eta=0:2:17\n",
      "2022-05-03 13:12:08 [INFO]\t[TRAIN] Epoch=267/270, Step=8/35, loss=6.404521, lr=1e-06, time_each_step=1.0s, eta=0:2:15\n",
      "2022-05-03 13:12:10 [INFO]\t[TRAIN] Epoch=267/270, Step=10/35, loss=5.169362, lr=1e-06, time_each_step=1.0s, eta=0:2:13\n",
      "2022-05-03 13:12:11 [INFO]\t[TRAIN] Epoch=267/270, Step=12/35, loss=4.675365, lr=1e-06, time_each_step=1.0s, eta=0:2:11\n",
      "2022-05-03 13:12:12 [INFO]\t[TRAIN] Epoch=267/270, Step=14/35, loss=9.694981, lr=1e-06, time_each_step=0.98s, eta=0:2:8\n",
      "2022-05-03 13:12:13 [INFO]\t[TRAIN] Epoch=267/270, Step=16/35, loss=6.253376, lr=1e-06, time_each_step=0.97s, eta=0:2:6\n",
      "2022-05-03 13:12:14 [INFO]\t[TRAIN] Epoch=267/270, Step=18/35, loss=7.104243, lr=1e-06, time_each_step=0.98s, eta=0:2:4\n",
      "2022-05-03 13:12:16 [INFO]\t[TRAIN] Epoch=267/270, Step=20/35, loss=5.559344, lr=1e-06, time_each_step=0.99s, eta=0:2:3\n",
      "2022-05-03 13:12:18 [INFO]\t[TRAIN] Epoch=267/270, Step=22/35, loss=10.342606, lr=1e-06, time_each_step=0.71s, eta=0:1:57\n",
      "2022-05-03 13:12:19 [INFO]\t[TRAIN] Epoch=267/270, Step=24/35, loss=5.278494, lr=1e-06, time_each_step=0.7s, eta=0:1:55\n",
      "2022-05-03 13:12:21 [INFO]\t[TRAIN] Epoch=267/270, Step=26/35, loss=5.045774, lr=1e-06, time_each_step=0.7s, eta=0:1:54\n",
      "2022-05-03 13:12:22 [INFO]\t[TRAIN] Epoch=267/270, Step=28/35, loss=6.706948, lr=1e-06, time_each_step=0.71s, eta=0:1:53\n",
      "2022-05-03 13:12:24 [INFO]\t[TRAIN] Epoch=267/270, Step=30/35, loss=8.591519, lr=1e-06, time_each_step=0.72s, eta=0:1:51\n"
     ]
    },
    {
     "name": "stderr",
     "output_type": "stream",
     "text": [
      "libpng warning: iCCP: known incorrect sRGB profile\n"
     ]
    },
    {
     "name": "stdout",
     "output_type": "stream",
     "text": [
      "2022-05-03 13:12:25 [INFO]\t[TRAIN] Epoch=267/270, Step=32/35, loss=7.412525, lr=1e-06, time_each_step=0.73s, eta=0:1:50\n",
      "2022-05-03 13:12:27 [INFO]\t[TRAIN] Epoch=267/270, Step=34/35, loss=8.748555, lr=1e-06, time_each_step=0.74s, eta=0:1:48\n",
      "2022-05-03 13:12:28 [INFO]\t[TRAIN] Epoch 267 finished, loss=7.012641, lr=1e-06 .\n",
      "2022-05-03 13:12:35 [INFO]\t[TRAIN] Epoch=268/270, Step=1/35, loss=6.205612, lr=1e-06, time_each_step=1.07s, eta=0:1:54\n",
      "2022-05-03 13:12:37 [INFO]\t[TRAIN] Epoch=268/270, Step=3/35, loss=5.766684, lr=1e-06, time_each_step=1.15s, eta=0:1:54\n",
      "2022-05-03 13:12:39 [INFO]\t[TRAIN] Epoch=268/270, Step=5/35, loss=5.561497, lr=1e-06, time_each_step=1.14s, eta=0:1:52\n"
     ]
    },
    {
     "name": "stderr",
     "output_type": "stream",
     "text": [
      "libpng warning: iCCP: known incorrect sRGB profile\n"
     ]
    },
    {
     "name": "stdout",
     "output_type": "stream",
     "text": [
      "2022-05-03 13:12:40 [INFO]\t[TRAIN] Epoch=268/270, Step=7/35, loss=5.572824, lr=1e-06, time_each_step=1.14s, eta=0:1:49\n",
      "2022-05-03 13:12:42 [INFO]\t[TRAIN] Epoch=268/270, Step=9/35, loss=5.054957, lr=1e-06, time_each_step=1.12s, eta=0:1:47\n",
      "2022-05-03 13:12:43 [INFO]\t[TRAIN] Epoch=268/270, Step=11/35, loss=6.159456, lr=1e-06, time_each_step=1.12s, eta=0:1:44\n",
      "2022-05-03 13:12:45 [INFO]\t[TRAIN] Epoch=268/270, Step=13/35, loss=8.393495, lr=1e-06, time_each_step=1.15s, eta=0:1:43\n",
      "2022-05-03 13:12:47 [INFO]\t[TRAIN] Epoch=268/270, Step=15/35, loss=7.192502, lr=1e-06, time_each_step=1.14s, eta=0:1:40\n",
      "2022-05-03 13:12:48 [INFO]\t[TRAIN] Epoch=268/270, Step=17/35, loss=5.742696, lr=1e-06, time_each_step=1.14s, eta=0:1:38\n",
      "2022-05-03 13:12:50 [INFO]\t[TRAIN] Epoch=268/270, Step=19/35, loss=6.782283, lr=1e-06, time_each_step=1.15s, eta=0:1:36\n",
      "2022-05-03 13:12:52 [INFO]\t[TRAIN] Epoch=268/270, Step=21/35, loss=5.053216, lr=1e-06, time_each_step=0.85s, eta=0:1:29\n",
      "2022-05-03 13:12:53 [INFO]\t[TRAIN] Epoch=268/270, Step=23/35, loss=6.343135, lr=1e-06, time_each_step=0.79s, eta=0:1:27\n",
      "2022-05-03 13:12:54 [INFO]\t[TRAIN] Epoch=268/270, Step=25/35, loss=7.317828, lr=1e-06, time_each_step=0.76s, eta=0:1:25\n",
      "2022-05-03 13:12:55 [INFO]\t[TRAIN] Epoch=268/270, Step=27/35, loss=7.551363, lr=1e-06, time_each_step=0.73s, eta=0:1:23\n",
      "2022-05-03 13:12:56 [INFO]\t[TRAIN] Epoch=268/270, Step=29/35, loss=4.220247, lr=1e-06, time_each_step=0.72s, eta=0:1:22\n"
     ]
    },
    {
     "name": "stderr",
     "output_type": "stream",
     "text": [
      "libpng warning: iCCP: known incorrect sRGB profile\n"
     ]
    },
    {
     "name": "stdout",
     "output_type": "stream",
     "text": [
      "2022-05-03 13:12:57 [INFO]\t[TRAIN] Epoch=268/270, Step=31/35, loss=8.951806, lr=1e-06, time_each_step=0.71s, eta=0:1:20\n",
      "2022-05-03 13:12:58 [INFO]\t[TRAIN] Epoch=268/270, Step=33/35, loss=4.869987, lr=1e-06, time_each_step=0.66s, eta=0:1:19\n",
      "2022-05-03 13:13:00 [INFO]\t[TRAIN] Epoch=268/270, Step=35/35, loss=6.613268, lr=1e-06, time_each_step=0.65s, eta=0:1:17\n",
      "2022-05-03 13:13:01 [INFO]\t[TRAIN] Epoch 268 finished, loss=6.387149, lr=1e-06 .\n",
      "2022-05-03 13:13:08 [INFO]\t[TRAIN] Epoch=269/270, Step=2/35, loss=5.456252, lr=1e-06, time_each_step=0.94s, eta=0:1:17\n"
     ]
    },
    {
     "name": "stderr",
     "output_type": "stream",
     "text": [
      "libpng warning: iCCP: known incorrect sRGB profile\n"
     ]
    },
    {
     "name": "stdout",
     "output_type": "stream",
     "text": [
      "2022-05-03 13:13:10 [INFO]\t[TRAIN] Epoch=269/270, Step=4/35, loss=5.669615, lr=1e-06, time_each_step=0.97s, eta=0:1:16\n",
      "2022-05-03 13:13:11 [INFO]\t[TRAIN] Epoch=269/270, Step=6/35, loss=6.276165, lr=1e-06, time_each_step=0.97s, eta=0:1:14\n",
      "2022-05-03 13:13:13 [INFO]\t[TRAIN] Epoch=269/270, Step=8/35, loss=5.185017, lr=1e-06, time_each_step=0.95s, eta=0:1:12\n",
      "2022-05-03 13:13:15 [INFO]\t[TRAIN] Epoch=269/270, Step=10/35, loss=5.897511, lr=1e-06, time_each_step=1.01s, eta=0:1:12\n",
      "2022-05-03 13:13:16 [INFO]\t[TRAIN] Epoch=269/270, Step=12/35, loss=7.582668, lr=1e-06, time_each_step=1.03s, eta=0:1:10\n",
      "2022-05-03 13:13:18 [INFO]\t[TRAIN] Epoch=269/270, Step=14/35, loss=5.752183, lr=1e-06, time_each_step=1.04s, eta=0:1:8\n",
      "2022-05-03 13:13:19 [INFO]\t[TRAIN] Epoch=269/270, Step=16/35, loss=3.659917, lr=1e-06, time_each_step=1.06s, eta=0:1:6\n",
      "2022-05-03 13:13:20 [INFO]\t[TRAIN] Epoch=269/270, Step=18/35, loss=8.299906, lr=1e-06, time_each_step=1.06s, eta=0:1:4\n",
      "2022-05-03 13:13:22 [INFO]\t[TRAIN] Epoch=269/270, Step=20/35, loss=7.141434, lr=1e-06, time_each_step=1.06s, eta=0:1:2\n",
      "2022-05-03 13:13:23 [INFO]\t[TRAIN] Epoch=269/270, Step=22/35, loss=9.632283, lr=1e-06, time_each_step=0.77s, eta=0:0:56\n",
      "2022-05-03 13:13:24 [INFO]\t[TRAIN] Epoch=269/270, Step=24/35, loss=4.153947, lr=1e-06, time_each_step=0.72s, eta=0:0:54\n",
      "2022-05-03 13:13:25 [INFO]\t[TRAIN] Epoch=269/270, Step=26/35, loss=4.911677, lr=1e-06, time_each_step=0.69s, eta=0:0:52\n",
      "2022-05-03 13:13:26 [INFO]\t[TRAIN] Epoch=269/270, Step=28/35, loss=16.225468, lr=1e-06, time_each_step=0.67s, eta=0:0:51\n"
     ]
    },
    {
     "name": "stderr",
     "output_type": "stream",
     "text": [
      "libpng warning: iCCP: known incorrect sRGB profile\n"
     ]
    },
    {
     "name": "stdout",
     "output_type": "stream",
     "text": [
      "2022-05-03 13:13:27 [INFO]\t[TRAIN] Epoch=269/270, Step=30/35, loss=9.197998, lr=1e-06, time_each_step=0.64s, eta=0:0:49\n",
      "2022-05-03 13:13:29 [INFO]\t[TRAIN] Epoch=269/270, Step=32/35, loss=8.911327, lr=1e-06, time_each_step=0.65s, eta=0:0:48\n",
      "2022-05-03 13:13:30 [INFO]\t[TRAIN] Epoch=269/270, Step=34/35, loss=5.381597, lr=1e-06, time_each_step=0.63s, eta=0:0:47\n",
      "2022-05-03 13:13:31 [INFO]\t[TRAIN] Epoch 269 finished, loss=6.746368, lr=1e-06 .\n",
      "2022-05-03 13:13:38 [INFO]\t[TRAIN] Epoch=270/270, Step=1/35, loss=5.300391, lr=1e-06, time_each_step=0.94s, eta=0:0:45"
     ]
    },
    {
     "name": "stderr",
     "output_type": "stream",
     "text": [
      "libpng warning: iCCP: known incorrect sRGB profile\n"
     ]
    },
    {
     "name": "stdout",
     "output_type": "stream",
     "text": [
      "\n",
      "2022-05-03 13:13:40 [INFO]\t[TRAIN] Epoch=270/270, Step=3/35, loss=6.79509, lr=1e-06, time_each_step=0.99s, eta=0:0:45\n",
      "2022-05-03 13:13:42 [INFO]\t[TRAIN] Epoch=270/270, Step=5/35, loss=6.323606, lr=1e-06, time_each_step=0.99s, eta=0:0:43\n",
      "2022-05-03 13:13:43 [INFO]\t[TRAIN] Epoch=270/270, Step=7/35, loss=8.977758, lr=1e-06, time_each_step=1.0s, eta=0:0:41\n",
      "2022-05-03 13:13:45 [INFO]\t[TRAIN] Epoch=270/270, Step=9/35, loss=6.575212, lr=1e-06, time_each_step=1.03s, eta=0:0:40\n",
      "2022-05-03 13:13:47 [INFO]\t[TRAIN] Epoch=270/270, Step=11/35, loss=4.815873, lr=1e-06, time_each_step=1.07s, eta=0:0:39\n",
      "2022-05-03 13:13:48 [INFO]\t[TRAIN] Epoch=270/270, Step=13/35, loss=5.327392, lr=1e-06, time_each_step=1.09s, eta=0:0:37\n",
      "2022-05-03 13:13:50 [INFO]\t[TRAIN] Epoch=270/270, Step=15/35, loss=9.684758, lr=1e-06, time_each_step=1.08s, eta=0:0:35\n",
      "2022-05-03 13:13:51 [INFO]\t[TRAIN] Epoch=270/270, Step=17/35, loss=4.658996, lr=1e-06, time_each_step=1.07s, eta=0:0:33\n",
      "2022-05-03 13:13:53 [INFO]\t[TRAIN] Epoch=270/270, Step=19/35, loss=8.818423, lr=1e-06, time_each_step=1.09s, eta=0:0:31\n",
      "2022-05-03 13:13:54 [INFO]\t[TRAIN] Epoch=270/270, Step=21/35, loss=5.273849, lr=1e-06, time_each_step=0.79s, eta=0:0:25\n",
      "2022-05-03 13:13:56 [INFO]\t[TRAIN] Epoch=270/270, Step=23/35, loss=6.198276, lr=1e-06, time_each_step=0.75s, eta=0:0:23\n",
      "2022-05-03 13:13:57 [INFO]\t[TRAIN] Epoch=270/270, Step=25/35, loss=4.178615, lr=1e-06, time_each_step=0.76s, eta=0:0:21\n"
     ]
    },
    {
     "name": "stderr",
     "output_type": "stream",
     "text": [
      "libpng warning: iCCP: known incorrect sRGB profile\n"
     ]
    },
    {
     "name": "stdout",
     "output_type": "stream",
     "text": [
      "2022-05-03 13:13:59 [INFO]\t[TRAIN] Epoch=270/270, Step=27/35, loss=4.266812, lr=1e-06, time_each_step=0.76s, eta=0:0:20\n",
      "2022-05-03 13:14:00 [INFO]\t[TRAIN] Epoch=270/270, Step=29/35, loss=8.2498, lr=1e-06, time_each_step=0.73s, eta=0:0:18\n",
      "2022-05-03 13:14:01 [INFO]\t[TRAIN] Epoch=270/270, Step=31/35, loss=6.604134, lr=1e-06, time_each_step=0.7s, eta=0:0:16\n",
      "2022-05-03 13:14:02 [INFO]\t[TRAIN] Epoch=270/270, Step=33/35, loss=5.109483, lr=1e-06, time_each_step=0.68s, eta=0:0:15\n",
      "2022-05-03 13:14:03 [INFO]\t[TRAIN] Epoch=270/270, Step=35/35, loss=5.864316, lr=1e-06, time_each_step=0.66s, eta=0:0:13\n",
      "2022-05-03 13:14:03 [INFO]\t[TRAIN] Epoch 270 finished, loss=6.635105, lr=1e-06 .\n",
      "2022-05-03 13:14:03 [INFO]\tStart to evaluating(total_samples=121, total_steps=16)...\n"
     ]
    },
    {
     "name": "stderr",
     "output_type": "stream",
     "text": [
      "100%|██████████| 16/16 [00:08<00:00,  1.83it/s]\n"
     ]
    },
    {
     "name": "stdout",
     "output_type": "stream",
     "text": [
      "2022-05-03 13:14:12 [INFO]\t[EVAL] Finished, Epoch=270, bbox_map=90.391628 .\n",
      "2022-05-03 13:14:13 [INFO]\tModel saved in output_yolov3_darknet53/epoch_270.\n",
      "2022-05-03 13:14:13 [INFO]\tCurrent evaluated best model in eval_dataset is epoch_240, bbox_map=94.7143975650474\n"
     ]
    }
   ],
   "source": [
    "num_classes = len(train_dataset.labels)\n",
    "model = pdx.det.YOLOv3(num_classes=num_classes, backbone='DarkNet53')\n",
    "# train_random_shapes (list|tuple): 训练时从列表中随机选择图像大小。默认值为[320, 352, 384, 416, 448, 480, 512, 544, 576, 608]。\n",
    "model.train(\n",
    "    num_epochs=270,\n",
    "    train_dataset=train_dataset,\n",
    "    train_batch_size=8,\n",
    "    eval_dataset=eval_dataset,\n",
    "    learning_rate=0.000125,\n",
    "    lr_decay_epochs=[210, 240],\n",
    "    save_interval_epochs=30,             # 模型保存间隔\n",
    "    save_dir='output_yolov3_darknet53',  # 模型保存路径\n",
    "    use_vdl=True)"
   ]
  }
 ],
 "metadata": {
  "kernelspec": {
   "display_name": "Python 3",
   "language": "python",
   "name": "py35-paddle1.2.0"
  },
  "language_info": {
   "codemirror_mode": {
    "name": "ipython",
    "version": 3
   },
   "file_extension": ".py",
   "mimetype": "text/x-python",
   "name": "python",
   "nbconvert_exporter": "python",
   "pygments_lexer": "ipython3",
   "version": "3.7.4"
  }
 },
 "nbformat": 4,
 "nbformat_minor": 4
}
